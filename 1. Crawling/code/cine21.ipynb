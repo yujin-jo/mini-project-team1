{
 "cells": [
  {
   "cell_type": "code",
   "execution_count": null,
   "id": "likely-scroll",
   "metadata": {},
   "outputs": [],
   "source": [
    "from selenium import webdriver\n",
    "from bs4 import BeautifulSoup\n",
    "import pandas as pd\n",
    "from IPython.display import display\n",
    "import openpyxl\n",
    "\n",
    "df = pd.read_csv('./kobis_tot_2.csv')\n",
    "cine_id = list(df.씨네21ID)\n",
    "index = list(df['순번'])\n",
    "\n",
    "comments = []\n",
    "\n",
    "# for i in cine_id:\n",
    "for i, idx in zip(cine_id, index):\n",
    "    options = webdriver.ChromeOptions()\n",
    "    options.add_argument(\"headless\")\n",
    "    driver = webdriver.Chrome(\"./chromedriver\", chrome_options=options)\n",
    "    site = \"http://www.cine21.com/movie/info/?movie_id=\" + str(i)\n",
    "    driver.get(site)\n",
    "    \n",
    "    html = driver.page_source\n",
    "    soup = BeautifulSoup(html, \"html.parser\")\n",
    "    comments_code = soup.select(\"div.expert_rating_area > ul > li\")\n",
    "    movie_name = soup.select(\"div.mov_info > p\")[0].text\n",
    "    driver.close()\n",
    "\n",
    "    for comment in comments_code:\n",
    "        name = comment.select(\"div > div.comment_area > a \")[0].text\n",
    "        score = comment.select(\"div > div.star_area > span\")[0].text\n",
    "        text = comment.select(\"div > div.comment_area > span\")[0].text\n",
    "        comments.append([idx,movie_name,name,int(score)/2,text])\n",
    "\n",
    "    driver.quit()\n",
    "    print(idx)\n",
    "        \n",
    "df = pd.DataFrame(comments, columns=[\"순번\",\"영화\",\"이름\",\"평점\",\"댓글\"])\n",
    "print(df)\n",
    "df.to_csv('./cine21_3.csv', encoding='utf-8-sig')"
   ]
  }
 ],
 "metadata": {
  "kernelspec": {
   "display_name": "Python 3",
   "language": "python",
   "name": "python3"
  },
  "language_info": {
   "codemirror_mode": {
    "name": "ipython",
    "version": 3
   },
   "file_extension": ".py",
   "mimetype": "text/x-python",
   "name": "python",
   "nbconvert_exporter": "python",
   "pygments_lexer": "ipython3",
   "version": "3.8.5"
  }
 },
 "nbformat": 4,
 "nbformat_minor": 5
}
