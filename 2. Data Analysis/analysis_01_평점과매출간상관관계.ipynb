{
 "cells": [
  {
   "cell_type": "markdown",
   "id": "8c644ab6",
   "metadata": {},
   "source": [
    "# 기본 셋팅"
   ]
  },
  {
   "cell_type": "code",
   "execution_count": 166,
   "id": "14a5add1",
   "metadata": {},
   "outputs": [],
   "source": [
    "# 필요한 분석 셋 가져오기 \n",
    "import pandas as pd \n",
    "import numpy as np\n",
    "import pingouin as pg\n",
    "import matplotlib.pyplot as plt\n",
    "import seaborn as sns\n",
    "from statsmodels.formula.api import ols \n",
    "\n",
    "from matplotlib import rc\n",
    "rc('font', family='AppleGothic') # 한글 설정"
   ]
  },
  {
   "cell_type": "code",
   "execution_count": 121,
   "id": "c7d68e5f",
   "metadata": {
    "scrolled": true
   },
   "outputs": [
    {
     "data": {
      "text/html": [
       "<div>\n",
       "<style scoped>\n",
       "    .dataframe tbody tr th:only-of-type {\n",
       "        vertical-align: middle;\n",
       "    }\n",
       "\n",
       "    .dataframe tbody tr th {\n",
       "        vertical-align: top;\n",
       "    }\n",
       "\n",
       "    .dataframe thead th {\n",
       "        text-align: right;\n",
       "    }\n",
       "</style>\n",
       "<table border=\"1\" class=\"dataframe\">\n",
       "  <thead>\n",
       "    <tr style=\"text-align: right;\">\n",
       "      <th></th>\n",
       "      <th>개봉연도</th>\n",
       "      <th>영화명</th>\n",
       "      <th>감독</th>\n",
       "      <th>등급</th>\n",
       "      <th>국적</th>\n",
       "      <th>장르</th>\n",
       "      <th>전국매출액</th>\n",
       "      <th>전국관객수</th>\n",
       "      <th>전국스크린수</th>\n",
       "      <th>관람객평균평점</th>\n",
       "      <th>전문가평균평점</th>\n",
       "      <th>왓챠평균평점</th>\n",
       "    </tr>\n",
       "    <tr>\n",
       "      <th>순번</th>\n",
       "      <th></th>\n",
       "      <th></th>\n",
       "      <th></th>\n",
       "      <th></th>\n",
       "      <th></th>\n",
       "      <th></th>\n",
       "      <th></th>\n",
       "      <th></th>\n",
       "      <th></th>\n",
       "      <th></th>\n",
       "      <th></th>\n",
       "      <th></th>\n",
       "    </tr>\n",
       "  </thead>\n",
       "  <tbody>\n",
       "    <tr>\n",
       "      <th>1</th>\n",
       "      <td>2015</td>\n",
       "      <td>베테랑</td>\n",
       "      <td>류승완</td>\n",
       "      <td>15세이상관람가</td>\n",
       "      <td>한국</td>\n",
       "      <td>액션</td>\n",
       "      <td>105024756250</td>\n",
       "      <td>13395400</td>\n",
       "      <td>1064</td>\n",
       "      <td>4.62</td>\n",
       "      <td>3.69</td>\n",
       "      <td>4.0</td>\n",
       "    </tr>\n",
       "    <tr>\n",
       "      <th>2</th>\n",
       "      <td>2015</td>\n",
       "      <td>암살</td>\n",
       "      <td>최동훈</td>\n",
       "      <td>15세이상관람가</td>\n",
       "      <td>한국</td>\n",
       "      <td>액션</td>\n",
       "      <td>98463132781</td>\n",
       "      <td>12705700</td>\n",
       "      <td>1519</td>\n",
       "      <td>4.55</td>\n",
       "      <td>3.12</td>\n",
       "      <td>4.0</td>\n",
       "    </tr>\n",
       "  </tbody>\n",
       "</table>\n",
       "</div>"
      ],
      "text/plain": [
       "    개봉연도  영화명   감독        등급  국적  장르         전국매출액     전국관객수  전국스크린수  관람객평균평점  \\\n",
       "순번                                                                              \n",
       "1   2015  베테랑  류승완  15세이상관람가  한국  액션  105024756250  13395400    1064     4.62   \n",
       "2   2015   암살  최동훈  15세이상관람가  한국  액션   98463132781  12705700    1519     4.55   \n",
       "\n",
       "    전문가평균평점  왓챠평균평점  \n",
       "순번                   \n",
       "1      3.69     4.0  \n",
       "2      3.12     4.0  "
      ]
     },
     "execution_count": 121,
     "metadata": {},
     "output_type": "execute_result"
    }
   ],
   "source": [
    "# 파일 불러오기 \n",
    "movie_fin = pd.read_csv(\"https://raw.githubusercontent.com/yujin-jo/mini-project-team1/main/1.%20Crawling/data/movie_fin.csv\")\n",
    "movie_fin = movie_fin.set_index(['순번'])\n",
    "movie_fin.head(2)"
   ]
  },
  {
   "cell_type": "code",
   "execution_count": 122,
   "id": "67bf3449",
   "metadata": {},
   "outputs": [
    {
     "name": "stdout",
     "output_type": "stream",
     "text": [
      "<class 'pandas.core.frame.DataFrame'>\n",
      "Int64Index: 150 entries, 1 to 150\n",
      "Data columns (total 12 columns):\n",
      " #   Column   Non-Null Count  Dtype  \n",
      "---  ------   --------------  -----  \n",
      " 0   개봉연도     150 non-null    int64  \n",
      " 1   영화명      150 non-null    object \n",
      " 2   감독       150 non-null    object \n",
      " 3   등급       150 non-null    object \n",
      " 4   국적       150 non-null    object \n",
      " 5   장르       150 non-null    object \n",
      " 6   전국매출액    150 non-null    int64  \n",
      " 7   전국관객수    150 non-null    int64  \n",
      " 8   전국스크린수   150 non-null    int64  \n",
      " 9   관람객평균평점  150 non-null    float64\n",
      " 10  전문가평균평점  150 non-null    float64\n",
      " 11  왓챠평균평점   150 non-null    float64\n",
      "dtypes: float64(3), int64(4), object(5)\n",
      "memory usage: 15.2+ KB\n"
     ]
    }
   ],
   "source": [
    "# 파일 기본 정보 확인하기 \n",
    "movie_fin.info()"
   ]
  },
  {
   "cell_type": "markdown",
   "id": "5d6581b7",
   "metadata": {},
   "source": [
    "# I. 사전 분석 "
   ]
  },
  {
   "cell_type": "markdown",
   "id": "c996ed19",
   "metadata": {},
   "source": [
    "## 1. 사전 분석2_기본 통계 분석 \n",
    "\n",
    "**분석 방향**\n",
    "- descrive 함수를 사용해 최대한 쉽게 기본 통계량을 분석해 대략적인 수치를 파악한다. "
   ]
  },
  {
   "cell_type": "code",
   "execution_count": 124,
   "id": "1fc4b4aa",
   "metadata": {},
   "outputs": [
    {
     "data": {
      "text/html": [
       "<div>\n",
       "<style scoped>\n",
       "    .dataframe tbody tr th:only-of-type {\n",
       "        vertical-align: middle;\n",
       "    }\n",
       "\n",
       "    .dataframe tbody tr th {\n",
       "        vertical-align: top;\n",
       "    }\n",
       "\n",
       "    .dataframe thead th {\n",
       "        text-align: right;\n",
       "    }\n",
       "</style>\n",
       "<table border=\"1\" class=\"dataframe\">\n",
       "  <thead>\n",
       "    <tr style=\"text-align: right;\">\n",
       "      <th></th>\n",
       "      <th>개봉연도</th>\n",
       "      <th>전국매출액</th>\n",
       "      <th>전국관객수</th>\n",
       "      <th>전국스크린수</th>\n",
       "      <th>관람객평균평점</th>\n",
       "      <th>전문가평균평점</th>\n",
       "      <th>왓챠평균평점</th>\n",
       "    </tr>\n",
       "  </thead>\n",
       "  <tbody>\n",
       "    <tr>\n",
       "      <th>count</th>\n",
       "      <td>150.000000</td>\n",
       "      <td>1.500000e+02</td>\n",
       "      <td>1.500000e+02</td>\n",
       "      <td>150.000000</td>\n",
       "      <td>150.000000</td>\n",
       "      <td>150.000000</td>\n",
       "      <td>150.00000</td>\n",
       "    </tr>\n",
       "    <tr>\n",
       "      <th>mean</th>\n",
       "      <td>2017.000000</td>\n",
       "      <td>3.921249e+10</td>\n",
       "      <td>4.755840e+06</td>\n",
       "      <td>1279.420000</td>\n",
       "      <td>4.308000</td>\n",
       "      <td>3.103133</td>\n",
       "      <td>3.57800</td>\n",
       "    </tr>\n",
       "    <tr>\n",
       "      <th>std</th>\n",
       "      <td>1.418951</td>\n",
       "      <td>2.429103e+10</td>\n",
       "      <td>2.905744e+06</td>\n",
       "      <td>414.536974</td>\n",
       "      <td>0.270198</td>\n",
       "      <td>0.548895</td>\n",
       "      <td>0.36322</td>\n",
       "    </tr>\n",
       "    <tr>\n",
       "      <th>min</th>\n",
       "      <td>2015.000000</td>\n",
       "      <td>1.541792e+10</td>\n",
       "      <td>1.804112e+06</td>\n",
       "      <td>496.000000</td>\n",
       "      <td>3.270000</td>\n",
       "      <td>1.380000</td>\n",
       "      <td>2.40000</td>\n",
       "    </tr>\n",
       "    <tr>\n",
       "      <th>25%</th>\n",
       "      <td>2016.000000</td>\n",
       "      <td>2.163072e+10</td>\n",
       "      <td>2.686209e+06</td>\n",
       "      <td>1010.000000</td>\n",
       "      <td>4.200000</td>\n",
       "      <td>2.750000</td>\n",
       "      <td>3.40000</td>\n",
       "    </tr>\n",
       "    <tr>\n",
       "      <th>50%</th>\n",
       "      <td>2017.000000</td>\n",
       "      <td>3.045559e+10</td>\n",
       "      <td>3.667846e+06</td>\n",
       "      <td>1190.000000</td>\n",
       "      <td>4.340000</td>\n",
       "      <td>3.040000</td>\n",
       "      <td>3.60000</td>\n",
       "    </tr>\n",
       "    <tr>\n",
       "      <th>75%</th>\n",
       "      <td>2018.000000</td>\n",
       "      <td>4.718292e+10</td>\n",
       "      <td>5.581861e+06</td>\n",
       "      <td>1485.750000</td>\n",
       "      <td>4.500000</td>\n",
       "      <td>3.500000</td>\n",
       "      <td>3.87500</td>\n",
       "    </tr>\n",
       "    <tr>\n",
       "      <th>max</th>\n",
       "      <td>2019.000000</td>\n",
       "      <td>1.396480e+11</td>\n",
       "      <td>1.626494e+07</td>\n",
       "      <td>2835.000000</td>\n",
       "      <td>4.740000</td>\n",
       "      <td>4.550000</td>\n",
       "      <td>4.30000</td>\n",
       "    </tr>\n",
       "  </tbody>\n",
       "</table>\n",
       "</div>"
      ],
      "text/plain": [
       "              개봉연도         전국매출액         전국관객수       전국스크린수     관람객평균평점  \\\n",
       "count   150.000000  1.500000e+02  1.500000e+02   150.000000  150.000000   \n",
       "mean   2017.000000  3.921249e+10  4.755840e+06  1279.420000    4.308000   \n",
       "std       1.418951  2.429103e+10  2.905744e+06   414.536974    0.270198   \n",
       "min    2015.000000  1.541792e+10  1.804112e+06   496.000000    3.270000   \n",
       "25%    2016.000000  2.163072e+10  2.686209e+06  1010.000000    4.200000   \n",
       "50%    2017.000000  3.045559e+10  3.667846e+06  1190.000000    4.340000   \n",
       "75%    2018.000000  4.718292e+10  5.581861e+06  1485.750000    4.500000   \n",
       "max    2019.000000  1.396480e+11  1.626494e+07  2835.000000    4.740000   \n",
       "\n",
       "          전문가평균평점     왓챠평균평점  \n",
       "count  150.000000  150.00000  \n",
       "mean     3.103133    3.57800  \n",
       "std      0.548895    0.36322  \n",
       "min      1.380000    2.40000  \n",
       "25%      2.750000    3.40000  \n",
       "50%      3.040000    3.60000  \n",
       "75%      3.500000    3.87500  \n",
       "max      4.550000    4.30000  "
      ]
     },
     "execution_count": 124,
     "metadata": {},
     "output_type": "execute_result"
    }
   ],
   "source": [
    "movie_fin.describe()"
   ]
  },
  {
   "cell_type": "code",
   "execution_count": 134,
   "id": "b673eaac",
   "metadata": {},
   "outputs": [],
   "source": [
    "#분포를 보고 싶지만, 알 수 없다!! "
   ]
  },
  {
   "cell_type": "markdown",
   "id": "63448c99",
   "metadata": {},
   "source": [
    "**분석결과**\n",
    "- 관람객 평균 평점은 4.308으로 전문가 평균 평점 3.103에 비해 후한 편이다. \n",
    "- 전문가 평균 평점의 영화 별 편차는 0.54 로, 관람객평점의 영화 별 편차인 0.27보다 크다.\n",
    "- 관람객 평균 평점은 오른쪽으로 치우쳐 있고, 전문가 평점은 왼쪽으로 치우쳐 있다. "
   ]
  },
  {
   "cell_type": "markdown",
   "id": "e1c4e34b",
   "metadata": {},
   "source": [
    "## 2. 사전분석2_ 조건부 확률 구하기"
   ]
  },
  {
   "cell_type": "markdown",
   "id": "a152a8ab",
   "metadata": {},
   "source": [
    "**분석 방향**\n",
    "\n",
    "- 가설1. 매출이 높은 영화는 대중 평점이 평론가 평점보다 높을 것이다. \n",
    "- 분석 용어 정리 \n",
    "    - 매출이 높은 영화 : 연도 관련 없이 매출이 상위 30위 내에 드는 영화\n",
    "    - 대중픽 : 대중 평점 > 평론가 평점인 영화\n",
    "    \n",
    "- 분석 가능 여부 (가설 검증 가능 여부)     \n",
    "    - P(대중픽 | 높은매출) : P(대중픽, 높은 매출) / P(높은매출) \n",
    "    - P(높은 매출 | 대중픽) : P(대중픽, 높은 매출) / P(대중픽)\n",
    "    - 높은 매출이 있으려면 낮은 매출도 구해야 하는데, 낮은 매출인 영화를 선정하기 어려움. 낮은 매출의 영화의 평점 자료를 구하기 힘들었음 \n",
    "    - 따라서 반쪽짜리 분석일 가능성 높음"
   ]
  },
  {
   "cell_type": "code",
   "execution_count": 114,
   "id": "deba9e6e",
   "metadata": {},
   "outputs": [
    {
     "name": "stdout",
     "output_type": "stream",
     "text": [
      "매출 높은 영화가 대중픽일 확률은 96.67%임\n"
     ]
    }
   ],
   "source": [
    "# 매출액이 상위 30위인 영화 고르기 \n",
    "movie_fin_top30 = movie_fin.sort_values(by = \"전국매출액\", ascending = False)\n",
    "movie_fin_top30 = movie_fin_top30.head(30)\n",
    "top30_count = movie_fin_top30['영화명'].count() \n",
    "\n",
    "#대중픽 고르기 : 대중평점 > 평론가 평점 \n",
    "# movie_fin_top30[movie_fin_top30['관람객평균평점'] > movie_fin_top30['전문가평균평점']] \n",
    "audience_pick_count = movie_fin_top30.query('관람객평균평점>전문가평균평점')['영화명'].count()\n",
    "\n",
    "p = audience_pick_count / top30_count * 100\n",
    "print(f\"매출 높은 영화가 대중픽일 확률은 {p:.2f}%임\")"
   ]
  },
  {
   "cell_type": "code",
   "execution_count": null,
   "id": "7800ee6f",
   "metadata": {},
   "outputs": [],
   "source": [
    "movie_fin_30 = movie_fin.sort_values(by = \"전국매출액\", ascending = False)\n",
    "movie_fin_30 = movie_fin_top30.head(30)\n",
    "top30_count = movie_fin_top30['영화명'].count() "
   ]
  },
  {
   "cell_type": "markdown",
   "id": "dc19937e",
   "metadata": {},
   "source": [
    "**결론**\n",
    "- 대중픽 영화가 매출액이 높을 확률은 구하지 못함 \n",
    "- 매출이 높은 영화가 대중픽일 확률은 매우 높은 확률 \n",
    "- 잠정적으로 상관관계가 있다고 가정하고 추가 분석을 진행한다. "
   ]
  },
  {
   "cell_type": "markdown",
   "id": "8c58ed48",
   "metadata": {},
   "source": [
    "# II. 기본 상관관계 분석 \n",
    "- 관람객 평균평점, 전문가 평균평점, 전국 매출액 사이에 유의미한 관계가 있는지 먼저 파악한다. "
   ]
  },
  {
   "cell_type": "markdown",
   "id": "0c4536b5",
   "metadata": {},
   "source": [
    "## 1. 산포도 그래프 출력\n",
    "\n",
    "**분석방향**\n",
    "- 산포도 그래프를 그리면 대략적인 관계를 예측해볼 수 있다. \n",
    "- 1) 관람객평균평점과 전국매출액과의 관계 \n",
    "- 2) 전문가평균평점과 전국매출액과의 관계\n",
    "- (번외) 관람객 평균평점과 전문가 평균평점 사이의 관계 "
   ]
  },
  {
   "cell_type": "code",
   "execution_count": 167,
   "id": "86cf53c2",
   "metadata": {},
   "outputs": [
    {
     "data": {
      "text/plain": [
       "Text(0, 0.5, '전국매출액')"
      ]
     },
     "execution_count": 167,
     "metadata": {},
     "output_type": "execute_result"
    },
    {
     "data": {
      "image/png": "[encoded data removed]",
      "text/plain": [
       "<Figure size 432x288 with 1 Axes>"
      ]
     },
     "metadata": {
      "needs_background": "light"
     },
     "output_type": "display_data"
    }
   ],
   "source": [
    "# 관람객 평균평점과 전국 매출액과의 관계 \n",
    "graph = plt.plot(movie_fin.관람객평균평점, movie_fin.전국매출액, 'go')\n",
    "plt.xlabel(\"관람객평균평점\")\n",
    "plt.ylabel(\"전국매출액\")"
   ]
  },
  {
   "cell_type": "code",
   "execution_count": 168,
   "id": "76ccbc91",
   "metadata": {},
   "outputs": [
    {
     "data": {
      "text/plain": [
       "Text(0, 0.5, '전국매출액')"
      ]
     },
     "execution_count": 168,
     "metadata": {},
     "output_type": "execute_result"
    },
    {
     "data": {
      "image/png": "[encoded data removed]",
      "text/plain": [
       "<Figure size 432x288 with 1 Axes>"
      ]
     },
     "metadata": {
      "needs_background": "light"
     },
     "output_type": "display_data"
    }
   ],
   "source": [
    "# 전문가 평균평점과 전국매출액과의 관계 \n",
    "graph_2 = plt.plot(movie_fin.전문가평균평점, movie_fin.전국매출액, 'ro')\n",
    "plt.xlabel(\"전문가평균평점\")\n",
    "plt.ylabel(\"전국매출액\")"
   ]
  },
  {
   "cell_type": "code",
   "execution_count": 233,
   "id": "6df6098f",
   "metadata": {},
   "outputs": [
    {
     "data": {
      "image/png": "[encoded data removed]",
      "text/plain": [
       "<Figure size 432x288 with 1 Axes>"
      ]
     },
     "metadata": {
      "needs_background": "light"
     },
     "output_type": "display_data"
    }
   ],
   "source": [
    "# 전문가 평균평점과 관람객 평균평점과의 상관관계 \n",
    "graph_3 = plt.plot(movie_fin.전문가평균평점, movie_fin.관람객평균평점, 'yo')"
   ]
  },
  {
   "cell_type": "markdown",
   "id": "f87ad1db",
   "metadata": {},
   "source": [
    "**결론**\n",
    "- 관람객 평균 평점과 전국 매출액은 비교적 얕은 양의 상관관계가 보이지만, 전문가 평균평점은 전국 매출액과 상관관계가 거의 없을 것으로 예측 \n",
    "- 전문가 평균 평점과 관람객 평균평점도 큰 상관이 없는 것으로 예측 된다. \n",
    "- 정확한 관계 분석을 위해 상관분석을 진행한다 (셋 사이의 관계이기 때문에, t검정 대신 상관분석을 진행함) \n"
   ]
  },
  {
   "cell_type": "markdown",
   "id": "d022a09e",
   "metadata": {},
   "source": [
    "## 2. 상관 관계 분석 (상관계수)\n",
    "**분석 방향**\n",
    "- 궁금한 점 :  대중픽, 전문가 픽, 전국매출액에는 상관관계가 있을까? \n",
    "- 관람객평균평점(대중픽), 전문가평균평점(전문가픽), 전국매출액 간의 상관 관계를 확인하기 위해 상관관계 분석 진행 \n",
    "- 귀무가설 : 관람객 평균평점과 전문가 평균평점, 전국 매출액은은 무관하다. \n",
    "- 대립가설 : 관람객 평균평점과 전문가 평균평점, 전국 매출액은 특정한 관계를 보인다. "
   ]
  },
  {
   "cell_type": "code",
   "execution_count": 150,
   "id": "364e8253",
   "metadata": {},
   "outputs": [
    {
     "data": {
      "text/html": [
       "<div>\n",
       "<style scoped>\n",
       "    .dataframe tbody tr th:only-of-type {\n",
       "        vertical-align: middle;\n",
       "    }\n",
       "\n",
       "    .dataframe tbody tr th {\n",
       "        vertical-align: top;\n",
       "    }\n",
       "\n",
       "    .dataframe thead th {\n",
       "        text-align: right;\n",
       "    }\n",
       "</style>\n",
       "<table border=\"1\" class=\"dataframe\">\n",
       "  <thead>\n",
       "    <tr style=\"text-align: right;\">\n",
       "      <th></th>\n",
       "      <th>n</th>\n",
       "      <th>r</th>\n",
       "      <th>CI95%</th>\n",
       "      <th>p-val</th>\n",
       "      <th>BF10</th>\n",
       "      <th>power</th>\n",
       "    </tr>\n",
       "  </thead>\n",
       "  <tbody>\n",
       "    <tr>\n",
       "      <th>pearson</th>\n",
       "      <td>150</td>\n",
       "      <td>0.329827</td>\n",
       "      <td>[0.18, 0.47]</td>\n",
       "      <td>0.000038</td>\n",
       "      <td>459.204</td>\n",
       "      <td>0.986335</td>\n",
       "    </tr>\n",
       "  </tbody>\n",
       "</table>\n",
       "</div>"
      ],
      "text/plain": [
       "           n         r         CI95%     p-val     BF10     power\n",
       "pearson  150  0.329827  [0.18, 0.47]  0.000038  459.204  0.986335"
      ]
     },
     "execution_count": 150,
     "metadata": {},
     "output_type": "execute_result"
    }
   ],
   "source": [
    "# 관람객 평균평점과 전국매출액간의 관계 \n",
    "pg.corr(movie_fin.관람객평균평점, movie_fin.전국매출액)"
   ]
  },
  {
   "cell_type": "code",
   "execution_count": 151,
   "id": "5b930f5e",
   "metadata": {},
   "outputs": [
    {
     "data": {
      "text/html": [
       "<div>\n",
       "<style scoped>\n",
       "    .dataframe tbody tr th:only-of-type {\n",
       "        vertical-align: middle;\n",
       "    }\n",
       "\n",
       "    .dataframe tbody tr th {\n",
       "        vertical-align: top;\n",
       "    }\n",
       "\n",
       "    .dataframe thead th {\n",
       "        text-align: right;\n",
       "    }\n",
       "</style>\n",
       "<table border=\"1\" class=\"dataframe\">\n",
       "  <thead>\n",
       "    <tr style=\"text-align: right;\">\n",
       "      <th></th>\n",
       "      <th>n</th>\n",
       "      <th>r</th>\n",
       "      <th>CI95%</th>\n",
       "      <th>p-val</th>\n",
       "      <th>BF10</th>\n",
       "      <th>power</th>\n",
       "    </tr>\n",
       "  </thead>\n",
       "  <tbody>\n",
       "    <tr>\n",
       "      <th>pearson</th>\n",
       "      <td>150</td>\n",
       "      <td>0.182567</td>\n",
       "      <td>[0.02, 0.33]</td>\n",
       "      <td>0.025345</td>\n",
       "      <td>1.215</td>\n",
       "      <td>0.612249</td>\n",
       "    </tr>\n",
       "  </tbody>\n",
       "</table>\n",
       "</div>"
      ],
      "text/plain": [
       "           n         r         CI95%     p-val   BF10     power\n",
       "pearson  150  0.182567  [0.02, 0.33]  0.025345  1.215  0.612249"
      ]
     },
     "execution_count": 151,
     "metadata": {},
     "output_type": "execute_result"
    }
   ],
   "source": [
    "# 전문가 평균평점과 전국매출액 간의 관계 \n",
    "pg.corr(movie_fin.전문가평균평점, movie_fin.전국매출액)"
   ]
  },
  {
   "cell_type": "code",
   "execution_count": 152,
   "id": "4561ccab",
   "metadata": {},
   "outputs": [
    {
     "data": {
      "text/html": [
       "<div>\n",
       "<style scoped>\n",
       "    .dataframe tbody tr th:only-of-type {\n",
       "        vertical-align: middle;\n",
       "    }\n",
       "\n",
       "    .dataframe tbody tr th {\n",
       "        vertical-align: top;\n",
       "    }\n",
       "\n",
       "    .dataframe thead th {\n",
       "        text-align: right;\n",
       "    }\n",
       "</style>\n",
       "<table border=\"1\" class=\"dataframe\">\n",
       "  <thead>\n",
       "    <tr style=\"text-align: right;\">\n",
       "      <th></th>\n",
       "      <th>n</th>\n",
       "      <th>r</th>\n",
       "      <th>CI95%</th>\n",
       "      <th>p-val</th>\n",
       "      <th>BF10</th>\n",
       "      <th>power</th>\n",
       "    </tr>\n",
       "  </thead>\n",
       "  <tbody>\n",
       "    <tr>\n",
       "      <th>pearson</th>\n",
       "      <td>150</td>\n",
       "      <td>0.252977</td>\n",
       "      <td>[0.1, 0.4]</td>\n",
       "      <td>0.001788</td>\n",
       "      <td>12.791</td>\n",
       "      <td>0.881925</td>\n",
       "    </tr>\n",
       "  </tbody>\n",
       "</table>\n",
       "</div>"
      ],
      "text/plain": [
       "           n         r       CI95%     p-val    BF10     power\n",
       "pearson  150  0.252977  [0.1, 0.4]  0.001788  12.791  0.881925"
      ]
     },
     "execution_count": 152,
     "metadata": {},
     "output_type": "execute_result"
    }
   ],
   "source": [
    "# 전문가 평균평점과 관람객 평균평점의 관게 \n",
    "pg.corr(movie_fin.전문가평균평점, movie_fin.관람객평균평점)"
   ]
  },
  {
   "cell_type": "markdown",
   "id": "379b32d0",
   "metadata": {},
   "source": [
    "**결론**\n",
    "- 관람객평균평점과 매출액, \n",
    "- 관람객평균평점과 매출액에는 양의 상관관계가 존재한다. (p<0.05, 통계적으로 유의한 상관관계 / r =0.33)\n",
    "- 전문가평균평점과 매출액에도 양의 상관관계가 있다. (p<0.05, 통계적으로 유의한 상관관계 / r = 0.18)\n",
    "- 관람객평균평점과 전문가평균평점에도 양의 상관관계가 있다. (p<0.05, 통계적으로 유의한 상관관계 / r = 0.25)\n",
    "- 관람객평균평점의 상관계수가 0.33으로 전문가평균평점의 상관계수보다 높게 측정된다. 하지만 r의 신뢰구간을 고려하면 대중픽이 매출액에 더 영향을 미치는지, 전문가픽이 매출액에 더 영향을 미치는지 확인할 수 없다. \n",
    "- 관람객평균평점과 매출액 사이의 상관관계 : 0.18 ~ 0.47, 전문가평균평점과 매출액 사이의 상관관계 : 0.02 ~ 0.33 \n",
    "- 평균 점수만 봤을 때는 그래도 대중픽이 매출과 더 깊은 관계가 있다는 잠정적인 결론을 도출할 수 있다. "
   ]
  },
  {
   "cell_type": "markdown",
   "id": "e3fc2c63",
   "metadata": {},
   "source": [
    "## 3. 회귀분석 \n",
    "**분석방향**\n",
    "- 궁금한 점 : 대중의 평균평점과 전문가 평균평점으로 매출을 예상해볼 수 있을까? \n",
    "- 1) 관람객평균평점, 전국매출액의 단순회귀분석 \n",
    "- 2) 전문가평균평점, 전국매출액의 단순회귀분석 \n",
    "- 3) 관람객평균평점, 전문가평균평점, 전국매출액의 다중회귀분석 "
   ]
  },
  {
   "cell_type": "markdown",
   "id": "c472f309",
   "metadata": {},
   "source": [
    "### 1) 관람객 평균평점 단순 회귀분석 "
   ]
  },
  {
   "cell_type": "code",
   "execution_count": 200,
   "id": "7ca8b17d",
   "metadata": {},
   "outputs": [
    {
     "data": {
      "text/html": [
       "<table class=\"simpletable\">\n",
       "<caption>OLS Regression Results</caption>\n",
       "<tr>\n",
       "  <th>Dep. Variable:</th>          <td>전국매출액</td>      <th>  R-squared:         </th> <td>   0.109</td>\n",
       "</tr>\n",
       "<tr>\n",
       "  <th>Model:</th>                   <td>OLS</td>       <th>  Adj. R-squared:    </th> <td>   0.103</td>\n",
       "</tr>\n",
       "<tr>\n",
       "  <th>Method:</th>             <td>Least Squares</td>  <th>  F-statistic:       </th> <td>   18.07</td>\n",
       "</tr>\n",
       "<tr>\n",
       "  <th>Date:</th>             <td>Tue, 24 Aug 2021</td> <th>  Prob (F-statistic):</th> <td>3.76e-05</td>\n",
       "</tr>\n",
       "<tr>\n",
       "  <th>Time:</th>                 <td>15:45:29</td>     <th>  Log-Likelihood:    </th> <td> -3790.7</td>\n",
       "</tr>\n",
       "<tr>\n",
       "  <th>No. Observations:</th>      <td>   150</td>      <th>  AIC:               </th> <td>   7585.</td>\n",
       "</tr>\n",
       "<tr>\n",
       "  <th>Df Residuals:</th>          <td>   148</td>      <th>  BIC:               </th> <td>   7591.</td>\n",
       "</tr>\n",
       "<tr>\n",
       "  <th>Df Model:</th>              <td>     1</td>      <th>                     </th>     <td> </td>   \n",
       "</tr>\n",
       "<tr>\n",
       "  <th>Covariance Type:</th>      <td>nonrobust</td>    <th>                     </th>     <td> </td>   \n",
       "</tr>\n",
       "</table>\n",
       "<table class=\"simpletable\">\n",
       "<tr>\n",
       "      <td></td>         <th>coef</th>     <th>std err</th>      <th>t</th>      <th>P>|t|</th>  <th>[0.025</th>    <th>0.975]</th>  \n",
       "</tr>\n",
       "<tr>\n",
       "  <th>Intercept</th> <td>-8.853e+10</td> <td> 3.01e+10</td> <td>   -2.940</td> <td> 0.004</td> <td>-1.48e+11</td> <td> -2.9e+10</td>\n",
       "</tr>\n",
       "<tr>\n",
       "  <th>관람객평균평점</th>   <td> 2.965e+10</td> <td> 6.98e+09</td> <td>    4.250</td> <td> 0.000</td> <td> 1.59e+10</td> <td> 4.34e+10</td>\n",
       "</tr>\n",
       "</table>\n",
       "<table class=\"simpletable\">\n",
       "<tr>\n",
       "  <th>Omnibus:</th>       <td>45.586</td> <th>  Durbin-Watson:     </th> <td>   0.668</td>\n",
       "</tr>\n",
       "<tr>\n",
       "  <th>Prob(Omnibus):</th> <td> 0.000</td> <th>  Jarque-Bera (JB):  </th> <td>  80.764</td>\n",
       "</tr>\n",
       "<tr>\n",
       "  <th>Skew:</th>          <td> 1.466</td> <th>  Prob(JB):          </th> <td>2.90e-18</td>\n",
       "</tr>\n",
       "<tr>\n",
       "  <th>Kurtosis:</th>      <td> 5.079</td> <th>  Cond. No.          </th> <td>    72.9</td>\n",
       "</tr>\n",
       "</table><br/><br/>Notes:<br/>[1] Standard Errors assume that the covariance matrix of the errors is correctly specified."
      ],
      "text/plain": [
       "<class 'statsmodels.iolib.summary.Summary'>\n",
       "\"\"\"\n",
       "                            OLS Regression Results                            \n",
       "==============================================================================\n",
       "Dep. Variable:                  전국매출액   R-squared:                       0.109\n",
       "Model:                            OLS   Adj. R-squared:                  0.103\n",
       "Method:                 Least Squares   F-statistic:                     18.07\n",
       "Date:                Tue, 24 Aug 2021   Prob (F-statistic):           3.76e-05\n",
       "Time:                        15:45:29   Log-Likelihood:                -3790.7\n",
       "No. Observations:                 150   AIC:                             7585.\n",
       "Df Residuals:                     148   BIC:                             7591.\n",
       "Df Model:                           1                                         \n",
       "Covariance Type:            nonrobust                                         \n",
       "==============================================================================\n",
       "                 coef    std err          t      P>|t|      [0.025      0.975]\n",
       "------------------------------------------------------------------------------\n",
       "Intercept  -8.853e+10   3.01e+10     -2.940      0.004   -1.48e+11    -2.9e+10\n",
       "관람객평균평점     2.965e+10   6.98e+09      4.250      0.000    1.59e+10    4.34e+10\n",
       "==============================================================================\n",
       "Omnibus:                       45.586   Durbin-Watson:                   0.668\n",
       "Prob(Omnibus):                  0.000   Jarque-Bera (JB):               80.764\n",
       "Skew:                           1.466   Prob(JB):                     2.90e-18\n",
       "Kurtosis:                       5.079   Cond. No.                         72.9\n",
       "==============================================================================\n",
       "\n",
       "Notes:\n",
       "[1] Standard Errors assume that the covariance matrix of the errors is correctly specified.\n",
       "\"\"\""
      ]
     },
     "execution_count": 200,
     "metadata": {},
     "output_type": "execute_result"
    }
   ],
   "source": [
    "audience_ols = ols(\"전국매출액 ~ 관람객평균평점\", data=movie_fin).fit()\n",
    "audience_ols.summary()"
   ]
  },
  {
   "cell_type": "markdown",
   "id": "28f2126b",
   "metadata": {},
   "source": [
    "**결론**\n",
    "- 회귀식 : 전국매출액 = 29650000000 * 관람객평균평점 - 88530000000 \n",
    "- p<0.05이므로 관람객 평균평점과 매출액의 연관성은 통계적으로 유의하다. \n",
    "- 관람객 평균 평점이 높을 수록 전국 매출액은 높아질 가능성이 있다.\n",
    "- 예측모형이 전국매출액 분산의 10.9%를 설명한다. (예측이 거의 도움되지 않는다)"
   ]
  },
  {
   "cell_type": "code",
   "execution_count": 189,
   "id": "94d6a883",
   "metadata": {},
   "outputs": [
    {
     "data": {
      "text/plain": [
       "0   -5.887563e+10\n",
       "1   -2.922384e+10\n",
       "2    4.279495e+08\n",
       "3    3.007974e+10\n",
       "4    5.973153e+10\n",
       "dtype: float64"
      ]
     },
     "execution_count": 189,
     "metadata": {},
     "output_type": "execute_result"
    }
   ],
   "source": [
    "# 관람객 평균 평점에 따라 매출액이 어떻게 달라지는지 확인할 수 있다. \n",
    "audience_expected = pd.DataFrame({'관람객평균평점' : [1.0, 2.0, 3.0, 4.0, 5.0]})\n",
    "sell_expected_audience = audience_ols.predict(audience_expected)\n",
    "sell_expected_audience"
   ]
  },
  {
   "cell_type": "markdown",
   "id": "b91e826d",
   "metadata": {},
   "source": [
    "### 2) 전문가 평균평점 단순 회귀분석 "
   ]
  },
  {
   "cell_type": "code",
   "execution_count": 190,
   "id": "e6aef4d8",
   "metadata": {},
   "outputs": [
    {
     "data": {
      "text/html": [
       "<table class=\"simpletable\">\n",
       "<caption>OLS Regression Results</caption>\n",
       "<tr>\n",
       "  <th>Dep. Variable:</th>          <td>전국매출액</td>      <th>  R-squared:         </th> <td>   0.033</td>\n",
       "</tr>\n",
       "<tr>\n",
       "  <th>Model:</th>                   <td>OLS</td>       <th>  Adj. R-squared:    </th> <td>   0.027</td>\n",
       "</tr>\n",
       "<tr>\n",
       "  <th>Method:</th>             <td>Least Squares</td>  <th>  F-statistic:       </th> <td>   5.103</td>\n",
       "</tr>\n",
       "<tr>\n",
       "  <th>Date:</th>             <td>Tue, 24 Aug 2021</td> <th>  Prob (F-statistic):</th>  <td>0.0253</td> \n",
       "</tr>\n",
       "<tr>\n",
       "  <th>Time:</th>                 <td>15:21:24</td>     <th>  Log-Likelihood:    </th> <td> -3796.8</td>\n",
       "</tr>\n",
       "<tr>\n",
       "  <th>No. Observations:</th>      <td>   150</td>      <th>  AIC:               </th> <td>   7598.</td>\n",
       "</tr>\n",
       "<tr>\n",
       "  <th>Df Residuals:</th>          <td>   148</td>      <th>  BIC:               </th> <td>   7604.</td>\n",
       "</tr>\n",
       "<tr>\n",
       "  <th>Df Model:</th>              <td>     1</td>      <th>                     </th>     <td> </td>   \n",
       "</tr>\n",
       "<tr>\n",
       "  <th>Covariance Type:</th>      <td>nonrobust</td>    <th>                     </th>     <td> </td>   \n",
       "</tr>\n",
       "</table>\n",
       "<table class=\"simpletable\">\n",
       "<tr>\n",
       "      <td></td>         <th>coef</th>     <th>std err</th>      <th>t</th>      <th>P>|t|</th>  <th>[0.025</th>    <th>0.975]</th>  \n",
       "</tr>\n",
       "<tr>\n",
       "  <th>Intercept</th> <td> 1.414e+10</td> <td> 1.13e+10</td> <td>    1.255</td> <td> 0.212</td> <td>-8.13e+09</td> <td> 3.64e+10</td>\n",
       "</tr>\n",
       "<tr>\n",
       "  <th>전문가평균평점</th>   <td> 8.079e+09</td> <td> 3.58e+09</td> <td>    2.259</td> <td> 0.025</td> <td> 1.01e+09</td> <td> 1.51e+10</td>\n",
       "</tr>\n",
       "</table>\n",
       "<table class=\"simpletable\">\n",
       "<tr>\n",
       "  <th>Omnibus:</th>       <td>58.053</td> <th>  Durbin-Watson:     </th> <td>   0.520</td>\n",
       "</tr>\n",
       "<tr>\n",
       "  <th>Prob(Omnibus):</th> <td> 0.000</td> <th>  Jarque-Bera (JB):  </th> <td> 127.378</td>\n",
       "</tr>\n",
       "<tr>\n",
       "  <th>Skew:</th>          <td> 1.723</td> <th>  Prob(JB):          </th> <td>2.19e-28</td>\n",
       "</tr>\n",
       "<tr>\n",
       "  <th>Kurtosis:</th>      <td> 5.915</td> <th>  Cond. No.          </th> <td>    19.9</td>\n",
       "</tr>\n",
       "</table><br/><br/>Notes:<br/>[1] Standard Errors assume that the covariance matrix of the errors is correctly specified."
      ],
      "text/plain": [
       "<class 'statsmodels.iolib.summary.Summary'>\n",
       "\"\"\"\n",
       "                            OLS Regression Results                            \n",
       "==============================================================================\n",
       "Dep. Variable:                  전국매출액   R-squared:                       0.033\n",
       "Model:                            OLS   Adj. R-squared:                  0.027\n",
       "Method:                 Least Squares   F-statistic:                     5.103\n",
       "Date:                Tue, 24 Aug 2021   Prob (F-statistic):             0.0253\n",
       "Time:                        15:21:24   Log-Likelihood:                -3796.8\n",
       "No. Observations:                 150   AIC:                             7598.\n",
       "Df Residuals:                     148   BIC:                             7604.\n",
       "Df Model:                           1                                         \n",
       "Covariance Type:            nonrobust                                         \n",
       "==============================================================================\n",
       "                 coef    std err          t      P>|t|      [0.025      0.975]\n",
       "------------------------------------------------------------------------------\n",
       "Intercept   1.414e+10   1.13e+10      1.255      0.212   -8.13e+09    3.64e+10\n",
       "전문가평균평점     8.079e+09   3.58e+09      2.259      0.025    1.01e+09    1.51e+10\n",
       "==============================================================================\n",
       "Omnibus:                       58.053   Durbin-Watson:                   0.520\n",
       "Prob(Omnibus):                  0.000   Jarque-Bera (JB):              127.378\n",
       "Skew:                           1.723   Prob(JB):                     2.19e-28\n",
       "Kurtosis:                       5.915   Cond. No.                         19.9\n",
       "==============================================================================\n",
       "\n",
       "Notes:\n",
       "[1] Standard Errors assume that the covariance matrix of the errors is correctly specified.\n",
       "\"\"\""
      ]
     },
     "execution_count": 190,
     "metadata": {},
     "output_type": "execute_result"
    }
   ],
   "source": [
    "critics_ols = ols(\"전국매출액 ~ 전문가평균평점\", data=movie_fin).fit()\n",
    "critics_ols.summary()"
   ]
  },
  {
   "cell_type": "markdown",
   "id": "23233c0d",
   "metadata": {},
   "source": [
    "**결론**\n",
    "- 회귀식 : 전국매출액 = 8079000000 * 관람객평균평점 + 14140000000\n",
    "- p<0.05이므로 전문가 평균평점과 전국매출액의 연관성은 통계적으로 유의하다.\n",
    "- 전문가 평균 평점이 높을 수록 전국 매출액은 높아질 가능성이 있다.\n",
    "- 예측모형이 전국매출액 분산의 3.3%를 설명한다 (예측이 거의 도움되지 않는다..) "
   ]
  },
  {
   "cell_type": "code",
   "execution_count": 194,
   "id": "220e67bf",
   "metadata": {},
   "outputs": [
    {
     "data": {
      "text/plain": [
       "0    2.222047e+10\n",
       "1    3.029986e+10\n",
       "2    3.837924e+10\n",
       "3    4.645862e+10\n",
       "4    5.453800e+10\n",
       "dtype: float64"
      ]
     },
     "execution_count": 194,
     "metadata": {},
     "output_type": "execute_result"
    }
   ],
   "source": [
    "# 전문가 평균 평점에 따라 매출액이 어떻게 달라지는지 확인할 수 있다. \n",
    "critics_expected = pd.DataFrame({'전문가평균평점' : [1.0, 2.0, 3.0, 4.0, 5.0]})\n",
    "sell_expected_critics = critics_ols.predict(critics_expected)\n",
    "sell_expected_critics"
   ]
  },
  {
   "cell_type": "code",
   "execution_count": 199,
   "id": "29aa4545",
   "metadata": {},
   "outputs": [],
   "source": [
    "# 전문가 평점이 1.0대일 때도 수익이 나는 기이한 현상을 볼 수 있다. "
   ]
  },
  {
   "cell_type": "markdown",
   "id": "1d161dc0",
   "metadata": {},
   "source": [
    "### 3) 관람객평균평점, 전문가평균평점의 다중회귀분석 "
   ]
  },
  {
   "cell_type": "code",
   "execution_count": 196,
   "id": "2cc9f9bf",
   "metadata": {},
   "outputs": [
    {
     "data": {
      "text/html": [
       "<table class=\"simpletable\">\n",
       "<caption>OLS Regression Results</caption>\n",
       "<tr>\n",
       "  <th>Dep. Variable:</th>          <td>전국매출액</td>      <th>  R-squared:         </th> <td>   0.119</td>\n",
       "</tr>\n",
       "<tr>\n",
       "  <th>Model:</th>                   <td>OLS</td>       <th>  Adj. R-squared:    </th> <td>   0.107</td>\n",
       "</tr>\n",
       "<tr>\n",
       "  <th>Method:</th>             <td>Least Squares</td>  <th>  F-statistic:       </th> <td>   9.955</td>\n",
       "</tr>\n",
       "<tr>\n",
       "  <th>Date:</th>             <td>Tue, 24 Aug 2021</td> <th>  Prob (F-statistic):</th> <td>8.82e-05</td>\n",
       "</tr>\n",
       "<tr>\n",
       "  <th>Time:</th>                 <td>15:28:01</td>     <th>  Log-Likelihood:    </th> <td> -3789.8</td>\n",
       "</tr>\n",
       "<tr>\n",
       "  <th>No. Observations:</th>      <td>   150</td>      <th>  AIC:               </th> <td>   7586.</td>\n",
       "</tr>\n",
       "<tr>\n",
       "  <th>Df Residuals:</th>          <td>   147</td>      <th>  BIC:               </th> <td>   7595.</td>\n",
       "</tr>\n",
       "<tr>\n",
       "  <th>Df Model:</th>              <td>     2</td>      <th>                     </th>     <td> </td>   \n",
       "</tr>\n",
       "<tr>\n",
       "  <th>Covariance Type:</th>      <td>nonrobust</td>    <th>                     </th>     <td> </td>   \n",
       "</tr>\n",
       "</table>\n",
       "<table class=\"simpletable\">\n",
       "<tr>\n",
       "      <td></td>         <th>coef</th>     <th>std err</th>      <th>t</th>      <th>P>|t|</th>  <th>[0.025</th>    <th>0.975]</th>  \n",
       "</tr>\n",
       "<tr>\n",
       "  <th>Intercept</th> <td>-9.269e+10</td> <td> 3.02e+10</td> <td>   -3.069</td> <td> 0.003</td> <td>-1.52e+11</td> <td> -3.3e+10</td>\n",
       "</tr>\n",
       "<tr>\n",
       "  <th>관람객평균평점</th>   <td> 2.724e+10</td> <td> 7.19e+09</td> <td>    3.788</td> <td> 0.000</td> <td>  1.3e+10</td> <td> 4.15e+10</td>\n",
       "</tr>\n",
       "<tr>\n",
       "  <th>전문가평균평점</th>   <td> 4.687e+09</td> <td> 3.54e+09</td> <td>    1.324</td> <td> 0.188</td> <td>-2.31e+09</td> <td> 1.17e+10</td>\n",
       "</tr>\n",
       "</table>\n",
       "<table class=\"simpletable\">\n",
       "<tr>\n",
       "  <th>Omnibus:</th>       <td>45.452</td> <th>  Durbin-Watson:     </th> <td>   0.692</td>\n",
       "</tr>\n",
       "<tr>\n",
       "  <th>Prob(Omnibus):</th> <td> 0.000</td> <th>  Jarque-Bera (JB):  </th> <td>  81.009</td>\n",
       "</tr>\n",
       "<tr>\n",
       "  <th>Skew:</th>          <td> 1.455</td> <th>  Prob(JB):          </th> <td>2.57e-18</td>\n",
       "</tr>\n",
       "<tr>\n",
       "  <th>Kurtosis:</th>      <td> 5.120</td> <th>  Cond. No.          </th> <td>    89.5</td>\n",
       "</tr>\n",
       "</table><br/><br/>Notes:<br/>[1] Standard Errors assume that the covariance matrix of the errors is correctly specified."
      ],
      "text/plain": [
       "<class 'statsmodels.iolib.summary.Summary'>\n",
       "\"\"\"\n",
       "                            OLS Regression Results                            \n",
       "==============================================================================\n",
       "Dep. Variable:                  전국매출액   R-squared:                       0.119\n",
       "Model:                            OLS   Adj. R-squared:                  0.107\n",
       "Method:                 Least Squares   F-statistic:                     9.955\n",
       "Date:                Tue, 24 Aug 2021   Prob (F-statistic):           8.82e-05\n",
       "Time:                        15:28:01   Log-Likelihood:                -3789.8\n",
       "No. Observations:                 150   AIC:                             7586.\n",
       "Df Residuals:                     147   BIC:                             7595.\n",
       "Df Model:                           2                                         \n",
       "Covariance Type:            nonrobust                                         \n",
       "==============================================================================\n",
       "                 coef    std err          t      P>|t|      [0.025      0.975]\n",
       "------------------------------------------------------------------------------\n",
       "Intercept  -9.269e+10   3.02e+10     -3.069      0.003   -1.52e+11    -3.3e+10\n",
       "관람객평균평점     2.724e+10   7.19e+09      3.788      0.000     1.3e+10    4.15e+10\n",
       "전문가평균평점     4.687e+09   3.54e+09      1.324      0.188   -2.31e+09    1.17e+10\n",
       "==============================================================================\n",
       "Omnibus:                       45.452   Durbin-Watson:                   0.692\n",
       "Prob(Omnibus):                  0.000   Jarque-Bera (JB):               81.009\n",
       "Skew:                           1.455   Prob(JB):                     2.57e-18\n",
       "Kurtosis:                       5.120   Cond. No.                         89.5\n",
       "==============================================================================\n",
       "\n",
       "Notes:\n",
       "[1] Standard Errors assume that the covariance matrix of the errors is correctly specified.\n",
       "\"\"\""
      ]
     },
     "execution_count": 196,
     "metadata": {},
     "output_type": "execute_result"
    }
   ],
   "source": [
    "audi_crit_ols = ols(\"전국매출액 ~ 관람객평균평점 + 전문가평균평점\", data=movie_fin).fit()\n",
    "audi_crit_ols.summary()"
   ]
  },
  {
   "cell_type": "markdown",
   "id": "177edaf1",
   "metadata": {},
   "source": [
    "**결론**\n",
    "- f<0.05이므로 전체 식의 통계적 유의성은 검증된다. \n",
    "- 관람객평균평점의 p-value < 0.05이므로 관람객 평균 평점이 높을 수록 전국 매출액은 높아질 가능성이 있다.\n",
    "- 전문가평균평점의 p-value > 0.05이므로 전무가 평균 평점이 매출엑에 미치는 인과관계를 설명할 수 없다. \n",
    "- 조정된 결정 계수는 10.7%로 예측모형이 전국매출액 분산의 10.7%를 설명한다. (예측이 거의 도움되지 않는다)"
   ]
  },
  {
   "cell_type": "markdown",
   "id": "33b3f340",
   "metadata": {},
   "source": [
    "## 중간 결론 \n",
    "- 관람객평균평점과 전문가 평균평점은 각각 전국매출액과 유의미한 상관관계를 가진다. \n",
    "- 관람객평균평점은 단순회귀분석과 다중회귀분석에서 매출에 유의미한 영향력을 준다. 반면 전문가평균평점은 단순 회귀분석에서는 매출에 유의미한 영향력을 주지만, 다중회귀분석에서는 영향력이 제한되어 있음을 확인할 수 있었다. "
   ]
  },
  {
   "cell_type": "markdown",
   "id": "1bad83d2",
   "metadata": {},
   "source": [
    "# III. 대중픽과 전문가 픽의 그룹별 상관관계 분석 \n",
    "- 현재까지는 단순히 관람객평균평점의 분포와 전국매출액의 관계를 살펴보았다. \n",
    "- 세 번째 파트에서는 대중이 더 선호하는 영화가 정말 매출액이 높은지, 전문가가 더 선호하는 영화의 매출액이 높은지 확인하고자 한다. "
   ]
  },
  {
   "cell_type": "markdown",
   "id": "b5a9b90c",
   "metadata": {},
   "source": [
    "## 1. 대중픽 영화와 전문가픽 영화 분류\n",
    "**분석방향**\n",
    "- 대중이 선호하는 영화 고르기 (대중 평점 > 전문가 평점인 영화만 인덱싱하여 확인한다)\n",
    "- 전문가가 선호하는 영화 고르기 (대중 평점 < 전문가 평점인 영화만 인덱싱) \n",
    "- 전문가 평점이 높은 영화가 2개밖에 없기 때문에 표본 이슈가 있을 수 있다는 점을 고려해야 할 것"
   ]
  },
  {
   "cell_type": "code",
   "execution_count": 218,
   "id": "2bbf0a86",
   "metadata": {},
   "outputs": [],
   "source": [
    "audience_pick = movie_fin[movie_fin['관람객평균평점'] > movie_fin['전문가평균평점']]\n",
    "critics_pick = movie_fin[movie_fin['관람객평균평점'] < movie_fin['전문가평균평점']]"
   ]
  },
  {
   "cell_type": "markdown",
   "id": "45d2f79c",
   "metadata": {},
   "source": [
    "## 2. 기초통계량 분석 \n",
    "**분석방향**\n",
    "- 대중픽 영화의 매출액 평균, 표준편차, 매출액 분포, 평점 분포\n",
    "- 전문가픽 영화의 매출액 평균, 표준편차, 매출액 분포, 평점 분포"
   ]
  },
  {
   "cell_type": "markdown",
   "id": "015dd5a3",
   "metadata": {},
   "source": [
    "### 1) 대중픽 영화의 통계 "
   ]
  },
  {
   "cell_type": "code",
   "execution_count": 249,
   "id": "d35d242d",
   "metadata": {},
   "outputs": [
    {
     "data": {
      "text/html": [
       "<div>\n",
       "<style scoped>\n",
       "    .dataframe tbody tr th:only-of-type {\n",
       "        vertical-align: middle;\n",
       "    }\n",
       "\n",
       "    .dataframe tbody tr th {\n",
       "        vertical-align: top;\n",
       "    }\n",
       "\n",
       "    .dataframe thead th {\n",
       "        text-align: right;\n",
       "    }\n",
       "</style>\n",
       "<table border=\"1\" class=\"dataframe\">\n",
       "  <thead>\n",
       "    <tr style=\"text-align: right;\">\n",
       "      <th></th>\n",
       "      <th>개봉연도</th>\n",
       "      <th>전국매출액</th>\n",
       "      <th>전국관객수</th>\n",
       "      <th>전국스크린수</th>\n",
       "      <th>관람객평균평점</th>\n",
       "      <th>전문가평균평점</th>\n",
       "      <th>왓챠평균평점</th>\n",
       "    </tr>\n",
       "  </thead>\n",
       "  <tbody>\n",
       "    <tr>\n",
       "      <th>count</th>\n",
       "      <td>148.000000</td>\n",
       "      <td>1.480000e+02</td>\n",
       "      <td>1.480000e+02</td>\n",
       "      <td>148.000000</td>\n",
       "      <td>148.000000</td>\n",
       "      <td>148.000000</td>\n",
       "      <td>148.000000</td>\n",
       "    </tr>\n",
       "    <tr>\n",
       "      <th>mean</th>\n",
       "      <td>2017.000000</td>\n",
       "      <td>3.893975e+10</td>\n",
       "      <td>4.726002e+06</td>\n",
       "      <td>1278.148649</td>\n",
       "      <td>4.305608</td>\n",
       "      <td>3.084324</td>\n",
       "      <td>3.568919</td>\n",
       "    </tr>\n",
       "    <tr>\n",
       "      <th>std</th>\n",
       "      <td>1.409395</td>\n",
       "      <td>2.414371e+10</td>\n",
       "      <td>2.891096e+06</td>\n",
       "      <td>411.784343</td>\n",
       "      <td>0.271158</td>\n",
       "      <td>0.527854</td>\n",
       "      <td>0.357019</td>\n",
       "    </tr>\n",
       "    <tr>\n",
       "      <th>min</th>\n",
       "      <td>2015.000000</td>\n",
       "      <td>1.541792e+10</td>\n",
       "      <td>1.804112e+06</td>\n",
       "      <td>496.000000</td>\n",
       "      <td>3.270000</td>\n",
       "      <td>1.380000</td>\n",
       "      <td>2.400000</td>\n",
       "    </tr>\n",
       "    <tr>\n",
       "      <th>25%</th>\n",
       "      <td>2016.000000</td>\n",
       "      <td>2.157320e+10</td>\n",
       "      <td>2.670843e+06</td>\n",
       "      <td>1012.000000</td>\n",
       "      <td>4.200000</td>\n",
       "      <td>2.750000</td>\n",
       "      <td>3.400000</td>\n",
       "    </tr>\n",
       "    <tr>\n",
       "      <th>50%</th>\n",
       "      <td>2017.000000</td>\n",
       "      <td>3.037642e+10</td>\n",
       "      <td>3.655387e+06</td>\n",
       "      <td>1190.000000</td>\n",
       "      <td>4.340000</td>\n",
       "      <td>3.000000</td>\n",
       "      <td>3.600000</td>\n",
       "    </tr>\n",
       "    <tr>\n",
       "      <th>75%</th>\n",
       "      <td>2018.000000</td>\n",
       "      <td>4.661786e+10</td>\n",
       "      <td>5.558482e+06</td>\n",
       "      <td>1485.250000</td>\n",
       "      <td>4.500000</td>\n",
       "      <td>3.500000</td>\n",
       "      <td>3.800000</td>\n",
       "    </tr>\n",
       "    <tr>\n",
       "      <th>max</th>\n",
       "      <td>2019.000000</td>\n",
       "      <td>1.396480e+11</td>\n",
       "      <td>1.626494e+07</td>\n",
       "      <td>2835.000000</td>\n",
       "      <td>4.740000</td>\n",
       "      <td>4.250000</td>\n",
       "      <td>4.200000</td>\n",
       "    </tr>\n",
       "  </tbody>\n",
       "</table>\n",
       "</div>"
      ],
      "text/plain": [
       "              개봉연도         전국매출액         전국관객수       전국스크린수     관람객평균평점  \\\n",
       "count   148.000000  1.480000e+02  1.480000e+02   148.000000  148.000000   \n",
       "mean   2017.000000  3.893975e+10  4.726002e+06  1278.148649    4.305608   \n",
       "std       1.409395  2.414371e+10  2.891096e+06   411.784343    0.271158   \n",
       "min    2015.000000  1.541792e+10  1.804112e+06   496.000000    3.270000   \n",
       "25%    2016.000000  2.157320e+10  2.670843e+06  1012.000000    4.200000   \n",
       "50%    2017.000000  3.037642e+10  3.655387e+06  1190.000000    4.340000   \n",
       "75%    2018.000000  4.661786e+10  5.558482e+06  1485.250000    4.500000   \n",
       "max    2019.000000  1.396480e+11  1.626494e+07  2835.000000    4.740000   \n",
       "\n",
       "          전문가평균평점      왓챠평균평점  \n",
       "count  148.000000  148.000000  \n",
       "mean     3.084324    3.568919  \n",
       "std      0.527854    0.357019  \n",
       "min      1.380000    2.400000  \n",
       "25%      2.750000    3.400000  \n",
       "50%      3.000000    3.600000  \n",
       "75%      3.500000    3.800000  \n",
       "max      4.250000    4.200000  "
      ]
     },
     "execution_count": 249,
     "metadata": {},
     "output_type": "execute_result"
    }
   ],
   "source": [
    "# 매출 관련 통계 \n",
    "# 대중픽 영화\n",
    "audience_pick.describe()"
   ]
  },
  {
   "cell_type": "code",
   "execution_count": 216,
   "id": "c26d6f75",
   "metadata": {},
   "outputs": [
    {
     "data": {
      "text/plain": [
       "(array([67., 29., 24., 11.,  4.,  3.,  4.,  4.,  1.,  1.]),\n",
       " array([1.54179229e+10, 2.78409286e+10, 4.02639342e+10, 5.26869399e+10,\n",
       "        6.51099456e+10, 7.75329512e+10, 8.99559569e+10, 1.02378963e+11,\n",
       "        1.14801968e+11, 1.27224974e+11, 1.39647980e+11]),\n",
       " <BarContainer object of 10 artists>)"
      ]
     },
     "execution_count": 216,
     "metadata": {},
     "output_type": "execute_result"
    },
    {
     "data": {
      "image/png": "[encoded data removed]",
      "text/plain": [
       "<Figure size 432x288 with 1 Axes>"
      ]
     },
     "metadata": {
      "needs_background": "light"
     },
     "output_type": "display_data"
    }
   ],
   "source": [
    "plt.hist(audience_pick.전국매출액)\n",
    "# 영화 매출이 주로 200억 내에 집중되어 있음을 확인할 수 있다. "
   ]
  },
  {
   "cell_type": "markdown",
   "id": "14cbe859",
   "metadata": {},
   "source": [
    "### 2) 전문가픽 영화의 통계"
   ]
  },
  {
   "cell_type": "code",
   "execution_count": 220,
   "id": "45dfb59b",
   "metadata": {},
   "outputs": [
    {
     "data": {
      "text/html": [
       "<div>\n",
       "<style scoped>\n",
       "    .dataframe tbody tr th:only-of-type {\n",
       "        vertical-align: middle;\n",
       "    }\n",
       "\n",
       "    .dataframe tbody tr th {\n",
       "        vertical-align: top;\n",
       "    }\n",
       "\n",
       "    .dataframe thead th {\n",
       "        text-align: right;\n",
       "    }\n",
       "</style>\n",
       "<table border=\"1\" class=\"dataframe\">\n",
       "  <thead>\n",
       "    <tr style=\"text-align: right;\">\n",
       "      <th></th>\n",
       "      <th>개봉연도</th>\n",
       "      <th>전국매출액</th>\n",
       "      <th>전국관객수</th>\n",
       "      <th>전국스크린수</th>\n",
       "      <th>관람객평균평점</th>\n",
       "      <th>전문가평균평점</th>\n",
       "      <th>왓챠평균평점</th>\n",
       "    </tr>\n",
       "  </thead>\n",
       "  <tbody>\n",
       "    <tr>\n",
       "      <th>count</th>\n",
       "      <td>2.000000</td>\n",
       "      <td>2.000000e+00</td>\n",
       "      <td>2.000000e+00</td>\n",
       "      <td>2.000000</td>\n",
       "      <td>2.000000</td>\n",
       "      <td>2.000000</td>\n",
       "      <td>2.000000</td>\n",
       "    </tr>\n",
       "    <tr>\n",
       "      <th>mean</th>\n",
       "      <td>2017.000000</td>\n",
       "      <td>5.939516e+10</td>\n",
       "      <td>6.963858e+06</td>\n",
       "      <td>1373.500000</td>\n",
       "      <td>4.485000</td>\n",
       "      <td>4.495000</td>\n",
       "      <td>4.250000</td>\n",
       "    </tr>\n",
       "    <tr>\n",
       "      <th>std</th>\n",
       "      <td>2.828427</td>\n",
       "      <td>3.746082e+10</td>\n",
       "      <td>4.414350e+06</td>\n",
       "      <td>812.465692</td>\n",
       "      <td>0.077782</td>\n",
       "      <td>0.077782</td>\n",
       "      <td>0.070711</td>\n",
       "    </tr>\n",
       "    <tr>\n",
       "      <th>min</th>\n",
       "      <td>2015.000000</td>\n",
       "      <td>3.290636e+10</td>\n",
       "      <td>3.842441e+06</td>\n",
       "      <td>799.000000</td>\n",
       "      <td>4.430000</td>\n",
       "      <td>4.440000</td>\n",
       "      <td>4.200000</td>\n",
       "    </tr>\n",
       "    <tr>\n",
       "      <th>25%</th>\n",
       "      <td>2016.000000</td>\n",
       "      <td>4.615076e+10</td>\n",
       "      <td>5.403150e+06</td>\n",
       "      <td>1086.250000</td>\n",
       "      <td>4.457500</td>\n",
       "      <td>4.467500</td>\n",
       "      <td>4.225000</td>\n",
       "    </tr>\n",
       "    <tr>\n",
       "      <th>50%</th>\n",
       "      <td>2017.000000</td>\n",
       "      <td>5.939516e+10</td>\n",
       "      <td>6.963858e+06</td>\n",
       "      <td>1373.500000</td>\n",
       "      <td>4.485000</td>\n",
       "      <td>4.495000</td>\n",
       "      <td>4.250000</td>\n",
       "    </tr>\n",
       "    <tr>\n",
       "      <th>75%</th>\n",
       "      <td>2018.000000</td>\n",
       "      <td>7.263956e+10</td>\n",
       "      <td>8.524566e+06</td>\n",
       "      <td>1660.750000</td>\n",
       "      <td>4.512500</td>\n",
       "      <td>4.522500</td>\n",
       "      <td>4.275000</td>\n",
       "    </tr>\n",
       "    <tr>\n",
       "      <th>max</th>\n",
       "      <td>2019.000000</td>\n",
       "      <td>8.588396e+10</td>\n",
       "      <td>1.008528e+07</td>\n",
       "      <td>1948.000000</td>\n",
       "      <td>4.540000</td>\n",
       "      <td>4.550000</td>\n",
       "      <td>4.300000</td>\n",
       "    </tr>\n",
       "  </tbody>\n",
       "</table>\n",
       "</div>"
      ],
      "text/plain": [
       "              개봉연도         전국매출액         전국관객수       전국스크린수   관람객평균평점  \\\n",
       "count     2.000000  2.000000e+00  2.000000e+00     2.000000  2.000000   \n",
       "mean   2017.000000  5.939516e+10  6.963858e+06  1373.500000  4.485000   \n",
       "std       2.828427  3.746082e+10  4.414350e+06   812.465692  0.077782   \n",
       "min    2015.000000  3.290636e+10  3.842441e+06   799.000000  4.430000   \n",
       "25%    2016.000000  4.615076e+10  5.403150e+06  1086.250000  4.457500   \n",
       "50%    2017.000000  5.939516e+10  6.963858e+06  1373.500000  4.485000   \n",
       "75%    2018.000000  7.263956e+10  8.524566e+06  1660.750000  4.512500   \n",
       "max    2019.000000  8.588396e+10  1.008528e+07  1948.000000  4.540000   \n",
       "\n",
       "        전문가평균평점    왓챠평균평점  \n",
       "count  2.000000  2.000000  \n",
       "mean   4.495000  4.250000  \n",
       "std    0.077782  0.070711  \n",
       "min    4.440000  4.200000  \n",
       "25%    4.467500  4.225000  \n",
       "50%    4.495000  4.250000  \n",
       "75%    4.522500  4.275000  \n",
       "max    4.550000  4.300000  "
      ]
     },
     "execution_count": 220,
     "metadata": {},
     "output_type": "execute_result"
    }
   ],
   "source": [
    "critics_pick.describe()"
   ]
  },
  {
   "cell_type": "code",
   "execution_count": 219,
   "id": "ea6dc888",
   "metadata": {},
   "outputs": [
    {
     "data": {
      "text/plain": [
       "(array([1., 0., 0., 0., 0., 0., 0., 0., 0., 1.]),\n",
       " array([3.29063645e+10, 3.82041244e+10, 4.35018843e+10, 4.87996442e+10,\n",
       "        5.40974041e+10, 5.93951641e+10, 6.46929240e+10, 6.99906839e+10,\n",
       "        7.52884438e+10, 8.05862037e+10, 8.58839636e+10]),\n",
       " <BarContainer object of 10 artists>)"
      ]
     },
     "execution_count": 219,
     "metadata": {},
     "output_type": "execute_result"
    },
    {
     "data": {
      "image/png": "[encoded data removed]",
      "text/plain": [
       "<Figure size 432x288 with 1 Axes>"
      ]
     },
     "metadata": {
      "needs_background": "light"
     },
     "output_type": "display_data"
    }
   ],
   "source": [
    "plt.hist(critics_pick.전국매출액)\n",
    "# 표본 수가 적어서 분포 확인이 어려움 "
   ]
  },
  {
   "cell_type": "markdown",
   "id": "c9be5c87",
   "metadata": {},
   "source": [
    "**결론**\n",
    "- 대중픽 영화도 매출액이 큰 영화에 의해 평균액이 좌우되는 것을 확인할 수 있다. \n",
    "- 전문가픽 영화는 표본 수가 너무 작아서 통계를 유의미하게 낼 수 없음 "
   ]
  },
  {
   "cell_type": "markdown",
   "id": "03a846cb",
   "metadata": {},
   "source": [
    "## 3. 상관관계 분석 "
   ]
  },
  {
   "cell_type": "markdown",
   "id": "bea6125b",
   "metadata": {},
   "source": [
    "### 1) 대중픽 영화의 평점과 매출액 사이의 관계 분석 "
   ]
  },
  {
   "cell_type": "code",
   "execution_count": 225,
   "id": "3ca93378",
   "metadata": {},
   "outputs": [
    {
     "data": {
      "image/png": "[encoded data removed]",
      "text/plain": [
       "<Figure size 432x288 with 1 Axes>"
      ]
     },
     "metadata": {
      "needs_background": "light"
     },
     "output_type": "display_data"
    }
   ],
   "source": [
    "# 대중픽 영화의 관람객 평균평점과 전국 매출액과의 관계 (분포표)\n",
    "graph = plt.plot(audience_pick.관람객평균평점, audience_pick.전국매출액, 'go')"
   ]
  },
  {
   "cell_type": "code",
   "execution_count": 230,
   "id": "9fbf87bc",
   "metadata": {},
   "outputs": [
    {
     "data": {
      "text/html": [
       "<div>\n",
       "<style scoped>\n",
       "    .dataframe tbody tr th:only-of-type {\n",
       "        vertical-align: middle;\n",
       "    }\n",
       "\n",
       "    .dataframe tbody tr th {\n",
       "        vertical-align: top;\n",
       "    }\n",
       "\n",
       "    .dataframe thead th {\n",
       "        text-align: right;\n",
       "    }\n",
       "</style>\n",
       "<table border=\"1\" class=\"dataframe\">\n",
       "  <thead>\n",
       "    <tr style=\"text-align: right;\">\n",
       "      <th></th>\n",
       "      <th>n</th>\n",
       "      <th>r</th>\n",
       "      <th>CI95%</th>\n",
       "      <th>p-val</th>\n",
       "      <th>BF10</th>\n",
       "      <th>power</th>\n",
       "    </tr>\n",
       "  </thead>\n",
       "  <tbody>\n",
       "    <tr>\n",
       "      <th>pearson</th>\n",
       "      <td>148</td>\n",
       "      <td>0.324611</td>\n",
       "      <td>[0.17, 0.46]</td>\n",
       "      <td>0.000057</td>\n",
       "      <td>312.836</td>\n",
       "      <td>0.982481</td>\n",
       "    </tr>\n",
       "  </tbody>\n",
       "</table>\n",
       "</div>"
      ],
      "text/plain": [
       "           n         r         CI95%     p-val     BF10     power\n",
       "pearson  148  0.324611  [0.17, 0.46]  0.000057  312.836  0.982481"
      ]
     },
     "execution_count": 230,
     "metadata": {},
     "output_type": "execute_result"
    }
   ],
   "source": [
    "#양의 상관관계가 있음을 확인 (상관관계가 조금 떨어졌다. )\n",
    "pg.corr(audience_pick.관람객평균평점, audience_pick.전국매출액)"
   ]
  },
  {
   "cell_type": "markdown",
   "id": "b925aa70",
   "metadata": {},
   "source": [
    "### 2) 전문가픽 영화의 평점과 매출액 사이의 관계 분석 "
   ]
  },
  {
   "cell_type": "code",
   "execution_count": 227,
   "id": "66549f42",
   "metadata": {},
   "outputs": [
    {
     "data": {
      "image/png": "[encoded data removed]",
      "text/plain": [
       "<Figure size 432x288 with 1 Axes>"
      ]
     },
     "metadata": {
      "needs_background": "light"
     },
     "output_type": "display_data"
    }
   ],
   "source": [
    "# 대중픽 영화의 전문가 평균평점과 전국 매출액과의 관계 \n",
    "graph = plt.plot(audience_pick.전문가평균평점, audience_pick.전국매출액, 'go')"
   ]
  },
  {
   "cell_type": "code",
   "execution_count": 231,
   "id": "e8ad04d2",
   "metadata": {},
   "outputs": [
    {
     "data": {
      "text/html": [
       "<div>\n",
       "<style scoped>\n",
       "    .dataframe tbody tr th:only-of-type {\n",
       "        vertical-align: middle;\n",
       "    }\n",
       "\n",
       "    .dataframe tbody tr th {\n",
       "        vertical-align: top;\n",
       "    }\n",
       "\n",
       "    .dataframe thead th {\n",
       "        text-align: right;\n",
       "    }\n",
       "</style>\n",
       "<table border=\"1\" class=\"dataframe\">\n",
       "  <thead>\n",
       "    <tr style=\"text-align: right;\">\n",
       "      <th></th>\n",
       "      <th>n</th>\n",
       "      <th>r</th>\n",
       "      <th>CI95%</th>\n",
       "      <th>p-val</th>\n",
       "      <th>BF10</th>\n",
       "      <th>power</th>\n",
       "    </tr>\n",
       "  </thead>\n",
       "  <tbody>\n",
       "    <tr>\n",
       "      <th>pearson</th>\n",
       "      <td>148</td>\n",
       "      <td>0.161651</td>\n",
       "      <td>[0.0, 0.31]</td>\n",
       "      <td>0.049667</td>\n",
       "      <td>0.693</td>\n",
       "      <td>0.50383</td>\n",
       "    </tr>\n",
       "  </tbody>\n",
       "</table>\n",
       "</div>"
      ],
      "text/plain": [
       "           n         r        CI95%     p-val   BF10    power\n",
       "pearson  148  0.161651  [0.0, 0.31]  0.049667  0.693  0.50383"
      ]
     },
     "execution_count": 231,
     "metadata": {},
     "output_type": "execute_result"
    }
   ],
   "source": [
    "# #양의 상관관계가 있음을 확인 (상관관계가 조금 떨어졌다. )\n",
    "pg.corr(audience_pick.전문가평균평점, audience_pick.전국매출액)"
   ]
  },
  {
   "cell_type": "code",
   "execution_count": 235,
   "id": "38bb8348",
   "metadata": {},
   "outputs": [],
   "source": [
    "#  양의 상관관계가 있지만, 상관계수가 이전보다 더 떨어졌음\n",
    "# 대중픽 영화에서는 전문가 평점이 매출액과 상관성이 떨어지는 사실을 발견! "
   ]
  },
  {
   "cell_type": "markdown",
   "id": "28e04f7f",
   "metadata": {},
   "source": [
    "## 이슈 \n",
    "\n",
    "- 못구한다. \n",
    "- 대중픽과 전문가픽의 정의를 새롭게 해야할 것 같다. \n",
    "- 대중픽은 대중이 평점을 높게 매긴 상위 30개 영화 \n",
    "- 전문가픽은 전문가가 평점을 높게 매긴 상위 30개 영화 이런 식으로 바꿔보면 어떨까?  -> 여기에서 생기는 이슈는 이미 매출액 기준으로 영화를 150개를 잘랐기 때문에 자른 매출액 때문에 영향을 받지 않을까? !! "
   ]
  },
  {
   "cell_type": "markdown",
   "id": "5f8730fe",
   "metadata": {},
   "source": [
    "# 다시 구해보자 \n",
    "- 대중픽은 150개 영화 중에 관람객의 평균평점이 높은 상위 30개 영화 \n",
    "- 전문가픽은 150개 영화 전문가의 평균평점이 높은 상위 30개 영화 "
   ]
  },
  {
   "cell_type": "markdown",
   "id": "b86b5474",
   "metadata": {},
   "source": [
    "## 1. 영화 분류"
   ]
  },
  {
   "cell_type": "code",
   "execution_count": 241,
   "id": "6788c611",
   "metadata": {},
   "outputs": [],
   "source": [
    "audience_pick2 = movie_fin.sort_values(by ='관람객평균평점', ascending = False).head(30)\n",
    "critics_pick2 = movie_fin.sort_values(by ='전문가평균평점', ascending = False).head(30)"
   ]
  },
  {
   "cell_type": "markdown",
   "id": "e7309d57",
   "metadata": {},
   "source": [
    "## 2. 기초통계량 분석 "
   ]
  },
  {
   "cell_type": "code",
   "execution_count": 243,
   "id": "5bce7689",
   "metadata": {},
   "outputs": [
    {
     "data": {
      "text/html": [
       "<div>\n",
       "<style scoped>\n",
       "    .dataframe tbody tr th:only-of-type {\n",
       "        vertical-align: middle;\n",
       "    }\n",
       "\n",
       "    .dataframe tbody tr th {\n",
       "        vertical-align: top;\n",
       "    }\n",
       "\n",
       "    .dataframe thead th {\n",
       "        text-align: right;\n",
       "    }\n",
       "</style>\n",
       "<table border=\"1\" class=\"dataframe\">\n",
       "  <thead>\n",
       "    <tr style=\"text-align: right;\">\n",
       "      <th></th>\n",
       "      <th>개봉연도</th>\n",
       "      <th>전국매출액</th>\n",
       "      <th>전국관객수</th>\n",
       "      <th>전국스크린수</th>\n",
       "      <th>관람객평균평점</th>\n",
       "      <th>전문가평균평점</th>\n",
       "      <th>왓챠평균평점</th>\n",
       "    </tr>\n",
       "  </thead>\n",
       "  <tbody>\n",
       "    <tr>\n",
       "      <th>count</th>\n",
       "      <td>30.000000</td>\n",
       "      <td>3.000000e+01</td>\n",
       "      <td>3.000000e+01</td>\n",
       "      <td>30.000000</td>\n",
       "      <td>30.000000</td>\n",
       "      <td>30.00000</td>\n",
       "      <td>30.000000</td>\n",
       "    </tr>\n",
       "    <tr>\n",
       "      <th>mean</th>\n",
       "      <td>2017.433333</td>\n",
       "      <td>5.395002e+10</td>\n",
       "      <td>6.523482e+06</td>\n",
       "      <td>1363.233333</td>\n",
       "      <td>4.604333</td>\n",
       "      <td>3.27300</td>\n",
       "      <td>3.883333</td>\n",
       "    </tr>\n",
       "    <tr>\n",
       "      <th>std</th>\n",
       "      <td>1.501340</td>\n",
       "      <td>3.560142e+10</td>\n",
       "      <td>4.199025e+06</td>\n",
       "      <td>520.763742</td>\n",
       "      <td>0.057095</td>\n",
       "      <td>0.48796</td>\n",
       "      <td>0.196668</td>\n",
       "    </tr>\n",
       "    <tr>\n",
       "      <th>min</th>\n",
       "      <td>2015.000000</td>\n",
       "      <td>1.953237e+10</td>\n",
       "      <td>2.285143e+06</td>\n",
       "      <td>661.000000</td>\n",
       "      <td>4.530000</td>\n",
       "      <td>2.38000</td>\n",
       "      <td>3.500000</td>\n",
       "    </tr>\n",
       "    <tr>\n",
       "      <th>25%</th>\n",
       "      <td>2016.250000</td>\n",
       "      <td>2.729409e+10</td>\n",
       "      <td>3.404342e+06</td>\n",
       "      <td>990.500000</td>\n",
       "      <td>4.555000</td>\n",
       "      <td>2.94000</td>\n",
       "      <td>3.700000</td>\n",
       "    </tr>\n",
       "    <tr>\n",
       "      <th>50%</th>\n",
       "      <td>2018.000000</td>\n",
       "      <td>3.754652e+10</td>\n",
       "      <td>4.741373e+06</td>\n",
       "      <td>1312.000000</td>\n",
       "      <td>4.600000</td>\n",
       "      <td>3.20000</td>\n",
       "      <td>3.900000</td>\n",
       "    </tr>\n",
       "    <tr>\n",
       "      <th>75%</th>\n",
       "      <td>2019.000000</td>\n",
       "      <td>8.441558e+10</td>\n",
       "      <td>9.870102e+06</td>\n",
       "      <td>1561.750000</td>\n",
       "      <td>4.640000</td>\n",
       "      <td>3.61500</td>\n",
       "      <td>4.000000</td>\n",
       "    </tr>\n",
       "    <tr>\n",
       "      <th>max</th>\n",
       "      <td>2019.000000</td>\n",
       "      <td>1.396480e+11</td>\n",
       "      <td>1.626494e+07</td>\n",
       "      <td>2835.000000</td>\n",
       "      <td>4.740000</td>\n",
       "      <td>4.55000</td>\n",
       "      <td>4.300000</td>\n",
       "    </tr>\n",
       "  </tbody>\n",
       "</table>\n",
       "</div>"
      ],
      "text/plain": [
       "              개봉연도         전국매출액         전국관객수       전국스크린수    관람객평균평점  \\\n",
       "count    30.000000  3.000000e+01  3.000000e+01    30.000000  30.000000   \n",
       "mean   2017.433333  5.395002e+10  6.523482e+06  1363.233333   4.604333   \n",
       "std       1.501340  3.560142e+10  4.199025e+06   520.763742   0.057095   \n",
       "min    2015.000000  1.953237e+10  2.285143e+06   661.000000   4.530000   \n",
       "25%    2016.250000  2.729409e+10  3.404342e+06   990.500000   4.555000   \n",
       "50%    2018.000000  3.754652e+10  4.741373e+06  1312.000000   4.600000   \n",
       "75%    2019.000000  8.441558e+10  9.870102e+06  1561.750000   4.640000   \n",
       "max    2019.000000  1.396480e+11  1.626494e+07  2835.000000   4.740000   \n",
       "\n",
       "        전문가평균평점     왓챠평균평점  \n",
       "count  30.00000  30.000000  \n",
       "mean    3.27300   3.883333  \n",
       "std     0.48796   0.196668  \n",
       "min     2.38000   3.500000  \n",
       "25%     2.94000   3.700000  \n",
       "50%     3.20000   3.900000  \n",
       "75%     3.61500   4.000000  \n",
       "max     4.55000   4.300000  "
      ]
     },
     "execution_count": 243,
     "metadata": {},
     "output_type": "execute_result"
    }
   ],
   "source": [
    "audience_pick2.describe()"
   ]
  },
  {
   "cell_type": "code",
   "execution_count": 245,
   "id": "bddf8a96",
   "metadata": {},
   "outputs": [
    {
     "data": {
      "text/html": [
       "<div>\n",
       "<style scoped>\n",
       "    .dataframe tbody tr th:only-of-type {\n",
       "        vertical-align: middle;\n",
       "    }\n",
       "\n",
       "    .dataframe tbody tr th {\n",
       "        vertical-align: top;\n",
       "    }\n",
       "\n",
       "    .dataframe thead th {\n",
       "        text-align: right;\n",
       "    }\n",
       "</style>\n",
       "<table border=\"1\" class=\"dataframe\">\n",
       "  <thead>\n",
       "    <tr style=\"text-align: right;\">\n",
       "      <th></th>\n",
       "      <th>개봉연도</th>\n",
       "      <th>전국매출액</th>\n",
       "      <th>전국관객수</th>\n",
       "      <th>전국스크린수</th>\n",
       "      <th>관람객평균평점</th>\n",
       "      <th>전문가평균평점</th>\n",
       "      <th>왓챠평균평점</th>\n",
       "    </tr>\n",
       "  </thead>\n",
       "  <tbody>\n",
       "    <tr>\n",
       "      <th>count</th>\n",
       "      <td>30.000000</td>\n",
       "      <td>3.000000e+01</td>\n",
       "      <td>3.000000e+01</td>\n",
       "      <td>30.000000</td>\n",
       "      <td>30.000000</td>\n",
       "      <td>30.000000</td>\n",
       "      <td>30.000000</td>\n",
       "    </tr>\n",
       "    <tr>\n",
       "      <th>mean</th>\n",
       "      <td>2016.766667</td>\n",
       "      <td>4.111145e+10</td>\n",
       "      <td>4.988944e+06</td>\n",
       "      <td>1219.733333</td>\n",
       "      <td>4.401333</td>\n",
       "      <td>3.847667</td>\n",
       "      <td>3.820000</td>\n",
       "    </tr>\n",
       "    <tr>\n",
       "      <th>std</th>\n",
       "      <td>1.406471</td>\n",
       "      <td>2.144628e+10</td>\n",
       "      <td>2.643678e+06</td>\n",
       "      <td>370.258990</td>\n",
       "      <td>0.198125</td>\n",
       "      <td>0.257611</td>\n",
       "      <td>0.279655</td>\n",
       "    </tr>\n",
       "    <tr>\n",
       "      <th>min</th>\n",
       "      <td>2015.000000</td>\n",
       "      <td>1.937990e+10</td>\n",
       "      <td>2.254430e+06</td>\n",
       "      <td>661.000000</td>\n",
       "      <td>3.840000</td>\n",
       "      <td>3.580000</td>\n",
       "      <td>3.200000</td>\n",
       "    </tr>\n",
       "    <tr>\n",
       "      <th>25%</th>\n",
       "      <td>2016.000000</td>\n",
       "      <td>2.534414e+10</td>\n",
       "      <td>3.094613e+06</td>\n",
       "      <td>971.000000</td>\n",
       "      <td>4.310000</td>\n",
       "      <td>3.675000</td>\n",
       "      <td>3.700000</td>\n",
       "    </tr>\n",
       "    <tr>\n",
       "      <th>50%</th>\n",
       "      <td>2016.500000</td>\n",
       "      <td>3.288113e+10</td>\n",
       "      <td>3.927665e+06</td>\n",
       "      <td>1189.500000</td>\n",
       "      <td>4.420000</td>\n",
       "      <td>3.715000</td>\n",
       "      <td>3.900000</td>\n",
       "    </tr>\n",
       "    <tr>\n",
       "      <th>75%</th>\n",
       "      <td>2018.000000</td>\n",
       "      <td>4.988707e+10</td>\n",
       "      <td>6.126154e+06</td>\n",
       "      <td>1424.000000</td>\n",
       "      <td>4.537500</td>\n",
       "      <td>4.000000</td>\n",
       "      <td>4.000000</td>\n",
       "    </tr>\n",
       "    <tr>\n",
       "      <th>max</th>\n",
       "      <td>2019.000000</td>\n",
       "      <td>1.050248e+11</td>\n",
       "      <td>1.339540e+07</td>\n",
       "      <td>1991.000000</td>\n",
       "      <td>4.660000</td>\n",
       "      <td>4.550000</td>\n",
       "      <td>4.300000</td>\n",
       "    </tr>\n",
       "  </tbody>\n",
       "</table>\n",
       "</div>"
      ],
      "text/plain": [
       "              개봉연도         전국매출액         전국관객수       전국스크린수    관람객평균평점  \\\n",
       "count    30.000000  3.000000e+01  3.000000e+01    30.000000  30.000000   \n",
       "mean   2016.766667  4.111145e+10  4.988944e+06  1219.733333   4.401333   \n",
       "std       1.406471  2.144628e+10  2.643678e+06   370.258990   0.198125   \n",
       "min    2015.000000  1.937990e+10  2.254430e+06   661.000000   3.840000   \n",
       "25%    2016.000000  2.534414e+10  3.094613e+06   971.000000   4.310000   \n",
       "50%    2016.500000  3.288113e+10  3.927665e+06  1189.500000   4.420000   \n",
       "75%    2018.000000  4.988707e+10  6.126154e+06  1424.000000   4.537500   \n",
       "max    2019.000000  1.050248e+11  1.339540e+07  1991.000000   4.660000   \n",
       "\n",
       "         전문가평균평점     왓챠평균평점  \n",
       "count  30.000000  30.000000  \n",
       "mean    3.847667   3.820000  \n",
       "std     0.257611   0.279655  \n",
       "min     3.580000   3.200000  \n",
       "25%     3.675000   3.700000  \n",
       "50%     3.715000   3.900000  \n",
       "75%     4.000000   4.000000  \n",
       "max     4.550000   4.300000  "
      ]
     },
     "execution_count": 245,
     "metadata": {},
     "output_type": "execute_result"
    }
   ],
   "source": [
    "critics_pick2.describe()"
   ]
  },
  {
   "cell_type": "markdown",
   "id": "54f87ec4",
   "metadata": {},
   "source": [
    "## 3. 상관관계 분석 "
   ]
  },
  {
   "cell_type": "markdown",
   "id": "15f0da4a",
   "metadata": {},
   "source": [
    "### 1) 대중픽 영화의 평점과 매출액 사이의 상관분석 "
   ]
  },
  {
   "cell_type": "code",
   "execution_count": 250,
   "id": "e680bf06",
   "metadata": {},
   "outputs": [
    {
     "data": {
      "image/png": "[encoded data removed]",
      "text/plain": [
       "<Figure size 432x288 with 1 Axes>"
      ]
     },
     "metadata": {
      "needs_background": "light"
     },
     "output_type": "display_data"
    }
   ],
   "source": [
    "# 대중픽 영화의 관람객 평균평점과 전국 매출액과의 관계 (분포표)\n",
    "graph = plt.plot(audience_pick2.관람객평균평점, audience_pick2.전국매출액, 'go')"
   ]
  },
  {
   "cell_type": "code",
   "execution_count": 251,
   "id": "c5b05322",
   "metadata": {},
   "outputs": [
    {
     "data": {
      "text/html": [
       "<div>\n",
       "<style scoped>\n",
       "    .dataframe tbody tr th:only-of-type {\n",
       "        vertical-align: middle;\n",
       "    }\n",
       "\n",
       "    .dataframe tbody tr th {\n",
       "        vertical-align: top;\n",
       "    }\n",
       "\n",
       "    .dataframe thead th {\n",
       "        text-align: right;\n",
       "    }\n",
       "</style>\n",
       "<table border=\"1\" class=\"dataframe\">\n",
       "  <thead>\n",
       "    <tr style=\"text-align: right;\">\n",
       "      <th></th>\n",
       "      <th>n</th>\n",
       "      <th>r</th>\n",
       "      <th>CI95%</th>\n",
       "      <th>p-val</th>\n",
       "      <th>BF10</th>\n",
       "      <th>power</th>\n",
       "    </tr>\n",
       "  </thead>\n",
       "  <tbody>\n",
       "    <tr>\n",
       "      <th>pearson</th>\n",
       "      <td>30</td>\n",
       "      <td>0.262606</td>\n",
       "      <td>[-0.11, 0.57]</td>\n",
       "      <td>0.160921</td>\n",
       "      <td>0.58</td>\n",
       "      <td>0.293724</td>\n",
       "    </tr>\n",
       "  </tbody>\n",
       "</table>\n",
       "</div>"
      ],
      "text/plain": [
       "          n         r          CI95%     p-val  BF10     power\n",
       "pearson  30  0.262606  [-0.11, 0.57]  0.160921  0.58  0.293724"
      ]
     },
     "execution_count": 251,
     "metadata": {},
     "output_type": "execute_result"
    }
   ],
   "source": [
    "#양의 상관관계가 있음을 확인 (상관관계가 조금 떨어졌다. )\n",
    "pg.corr(audience_pick2.관람객평균평점, audience_pick2.전국매출액)"
   ]
  },
  {
   "cell_type": "markdown",
   "id": "922c9e95",
   "metadata": {},
   "source": [
    "### 2) 전문가픽 영화의 평점과 매출액 사이의 상관분석 "
   ]
  },
  {
   "cell_type": "code",
   "execution_count": 252,
   "id": "3ba6363d",
   "metadata": {},
   "outputs": [
    {
     "data": {
      "image/png": "[encoded data removed]",
      "text/plain": [
       "<Figure size 432x288 with 1 Axes>"
      ]
     },
     "metadata": {
      "needs_background": "light"
     },
     "output_type": "display_data"
    }
   ],
   "source": [
    "# 대중픽 영화의 관람객 평균평점과 전국 매출액과의 관계 (분포표)\n",
    "graph = plt.plot(critics_pick2.관람객평균평점, critics_pick2.전국매출액, 'go')"
   ]
  },
  {
   "cell_type": "code",
   "execution_count": 253,
   "id": "b04fd133",
   "metadata": {},
   "outputs": [
    {
     "data": {
      "text/html": [
       "<div>\n",
       "<style scoped>\n",
       "    .dataframe tbody tr th:only-of-type {\n",
       "        vertical-align: middle;\n",
       "    }\n",
       "\n",
       "    .dataframe tbody tr th {\n",
       "        vertical-align: top;\n",
       "    }\n",
       "\n",
       "    .dataframe thead th {\n",
       "        text-align: right;\n",
       "    }\n",
       "</style>\n",
       "<table border=\"1\" class=\"dataframe\">\n",
       "  <thead>\n",
       "    <tr style=\"text-align: right;\">\n",
       "      <th></th>\n",
       "      <th>n</th>\n",
       "      <th>r</th>\n",
       "      <th>CI95%</th>\n",
       "      <th>p-val</th>\n",
       "      <th>BF10</th>\n",
       "      <th>power</th>\n",
       "    </tr>\n",
       "  </thead>\n",
       "  <tbody>\n",
       "    <tr>\n",
       "      <th>pearson</th>\n",
       "      <td>30</td>\n",
       "      <td>0.210777</td>\n",
       "      <td>[-0.16, 0.53]</td>\n",
       "      <td>0.263552</td>\n",
       "      <td>0.412</td>\n",
       "      <td>0.203239</td>\n",
       "    </tr>\n",
       "  </tbody>\n",
       "</table>\n",
       "</div>"
      ],
      "text/plain": [
       "          n         r          CI95%     p-val   BF10     power\n",
       "pearson  30  0.210777  [-0.16, 0.53]  0.263552  0.412  0.203239"
      ]
     },
     "execution_count": 253,
     "metadata": {},
     "output_type": "execute_result"
    }
   ],
   "source": [
    "pg.corr(critics_pick2.관람객평균평점, critics_pick2.전국매출액)"
   ]
  },
  {
   "cell_type": "code",
   "execution_count": null,
   "id": "465cf317",
   "metadata": {},
   "outputs": [],
   "source": []
  }
 ],
 "metadata": {
  "kernelspec": {
   "display_name": "Python 3",
   "language": "python",
   "name": "python3"
  },
  "language_info": {
   "codemirror_mode": {
    "name": "ipython",
    "version": 3
   },
   "file_extension": ".py",
   "mimetype": "text/x-python",
   "name": "python",
   "nbconvert_exporter": "python",
   "pygments_lexer": "ipython3",
   "version": "3.8.8"
  }
 },
 "nbformat": 4,
 "nbformat_minor": 5
}
