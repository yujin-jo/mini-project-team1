{
  "nbformat": 4,
  "nbformat_minor": 0,
  "metadata": {
    "colab": {
      "name": "analysis_04_독립영화배급_박은지.ipynb",
      "provenance": [],
      "collapsed_sections": [
        "7POBoTdqfQBY",
        "ZteRTOEsbAK3",
        "ziVjU-lyrZLh"
      ],
      "toc_visible": true,
      "mount_file_id": "17Bs3d-Sjzn8MpZoI2eWq7LT4hHRDaqmN",
      "authorship_tag": "ABX9TyOqAG98X2t3HjBFy2FEYzJj",
      "include_colab_link": true
    },
    "kernelspec": {
      "name": "python3",
      "display_name": "Python 3"
    },
    "language_info": {
      "name": "python"
    }
  },
  "cells": [
    {
      "cell_type": "markdown",
      "metadata": {
        "id": "view-in-github",
        "colab_type": "text"
      },
      "source": [
        "<a href=\"https://colab.research.google.com/github/yujin-jo/mini-project-team1/blob/main/2.%20Data%20Analysis/analysis_04_%EB%8F%85%EB%A6%BD%EC%98%81%ED%99%94%EB%B0%B0%EA%B8%89_%EB%B0%95%EC%9D%80%EC%A7%80.ipynb\" target=\"_parent\"><img src=\"https://colab.research.google.com/assets/colab-badge.svg\" alt=\"Open In Colab\"/></a>"
      ]
    },
    {
      "cell_type": "markdown",
      "metadata": {
        "id": "7POBoTdqfQBY"
      },
      "source": [
        "# 기본 세팅\n",
        "- 깃허브 클론 \n",
        "- 드라이브 마운트 \n",
        "- 파일 임포트"
      ]
    },
    {
      "cell_type": "code",
      "metadata": {
        "colab": {
          "base_uri": "https://localhost:8080/"
        },
        "id": "J0MNdU7ibyud",
        "outputId": "cb9c2050-c9b0-4a08-fbed-8501d098081d"
      },
      "source": [
        "!git clone https://github.com/yujin-jo/mini-project-team1.git"
      ],
      "execution_count": 165,
      "outputs": [
        {
          "output_type": "stream",
          "text": [
            "fatal: destination path 'mini-project-team1' already exists and is not an empty directory.\n"
          ],
          "name": "stdout"
        }
      ]
    },
    {
      "cell_type": "code",
      "metadata": {
        "colab": {
          "base_uri": "https://localhost:8080/"
        },
        "id": "Suwwd3PaezdJ",
        "outputId": "313b89f6-6279-407e-ca24-8eac4a23b697"
      },
      "source": [
        "from google.colab import drive\n",
        "drive.mount('/content/drive')"
      ],
      "execution_count": 166,
      "outputs": [
        {
          "output_type": "stream",
          "text": [
            "Drive already mounted at /content/drive; to attempt to forcibly remount, call drive.mount(\"/content/drive\", force_remount=True).\n"
          ],
          "name": "stdout"
        }
      ]
    },
    {
      "cell_type": "code",
      "metadata": {
        "colab": {
          "base_uri": "https://localhost:8080/"
        },
        "id": "fmPjRksast7G",
        "outputId": "a2f344b1-3cc9-4dc2-84f7-2f6d7526fdb3"
      },
      "source": [
        "pip install plotly==5.2.1"
      ],
      "execution_count": 167,
      "outputs": [
        {
          "output_type": "stream",
          "text": [
            "Requirement already satisfied: plotly==5.2.1 in /usr/local/lib/python3.7/dist-packages (5.2.1)\n",
            "Requirement already satisfied: tenacity>=6.2.0 in /usr/local/lib/python3.7/dist-packages (from plotly==5.2.1) (8.0.1)\n",
            "Requirement already satisfied: six in /usr/local/lib/python3.7/dist-packages (from plotly==5.2.1) (1.15.0)\n"
          ],
          "name": "stdout"
        }
      ]
    },
    {
      "cell_type": "code",
      "metadata": {
        "colab": {
          "base_uri": "https://localhost:8080/"
        },
        "id": "EP2nbTJmlIxn",
        "outputId": "e63e9e4d-513b-45d6-9566-f168ab2b091c"
      },
      "source": [
        "pip install pingouin"
      ],
      "execution_count": 168,
      "outputs": [
        {
          "output_type": "stream",
          "text": [
            "Requirement already satisfied: pingouin in /usr/local/lib/python3.7/dist-packages (0.4.0)\n",
            "Requirement already satisfied: pandas-flavor>=0.2.0 in /usr/local/lib/python3.7/dist-packages (from pingouin) (0.2.0)\n",
            "Requirement already satisfied: numpy>=1.19 in /usr/local/lib/python3.7/dist-packages (from pingouin) (1.19.5)\n",
            "Requirement already satisfied: scikit-learn in /usr/local/lib/python3.7/dist-packages (from pingouin) (0.22.2.post1)\n",
            "Requirement already satisfied: statsmodels>=0.12.0 in /usr/local/lib/python3.7/dist-packages (from pingouin) (0.12.2)\n",
            "Requirement already satisfied: tabulate in /usr/local/lib/python3.7/dist-packages (from pingouin) (0.8.9)\n",
            "Requirement already satisfied: seaborn>=0.9.0 in /usr/local/lib/python3.7/dist-packages (from pingouin) (0.11.1)\n",
            "Requirement already satisfied: pandas>=1.0 in /usr/local/lib/python3.7/dist-packages (from pingouin) (1.1.5)\n",
            "Requirement already satisfied: outdated in /usr/local/lib/python3.7/dist-packages (from pingouin) (0.2.1)\n",
            "Requirement already satisfied: scipy>=1.7 in /usr/local/lib/python3.7/dist-packages (from pingouin) (1.7.1)\n",
            "Requirement already satisfied: matplotlib>=3.0.2 in /usr/local/lib/python3.7/dist-packages (from pingouin) (3.2.2)\n",
            "Requirement already satisfied: python-dateutil>=2.1 in /usr/local/lib/python3.7/dist-packages (from matplotlib>=3.0.2->pingouin) (2.8.2)\n",
            "Requirement already satisfied: kiwisolver>=1.0.1 in /usr/local/lib/python3.7/dist-packages (from matplotlib>=3.0.2->pingouin) (1.3.1)\n",
            "Requirement already satisfied: pyparsing!=2.0.4,!=2.1.2,!=2.1.6,>=2.0.1 in /usr/local/lib/python3.7/dist-packages (from matplotlib>=3.0.2->pingouin) (2.4.7)\n",
            "Requirement already satisfied: cycler>=0.10 in /usr/local/lib/python3.7/dist-packages (from matplotlib>=3.0.2->pingouin) (0.10.0)\n",
            "Requirement already satisfied: six in /usr/local/lib/python3.7/dist-packages (from cycler>=0.10->matplotlib>=3.0.2->pingouin) (1.15.0)\n",
            "Requirement already satisfied: pytz>=2017.2 in /usr/local/lib/python3.7/dist-packages (from pandas>=1.0->pingouin) (2018.9)\n",
            "Requirement already satisfied: xarray in /usr/local/lib/python3.7/dist-packages (from pandas-flavor>=0.2.0->pingouin) (0.18.2)\n",
            "Requirement already satisfied: patsy>=0.5 in /usr/local/lib/python3.7/dist-packages (from statsmodels>=0.12.0->pingouin) (0.5.1)\n",
            "Requirement already satisfied: littleutils in /usr/local/lib/python3.7/dist-packages (from outdated->pingouin) (0.2.2)\n",
            "Requirement already satisfied: requests in /usr/local/lib/python3.7/dist-packages (from outdated->pingouin) (2.23.0)\n",
            "Requirement already satisfied: urllib3!=1.25.0,!=1.25.1,<1.26,>=1.21.1 in /usr/local/lib/python3.7/dist-packages (from requests->outdated->pingouin) (1.24.3)\n",
            "Requirement already satisfied: idna<3,>=2.5 in /usr/local/lib/python3.7/dist-packages (from requests->outdated->pingouin) (2.10)\n",
            "Requirement already satisfied: chardet<4,>=3.0.2 in /usr/local/lib/python3.7/dist-packages (from requests->outdated->pingouin) (3.0.4)\n",
            "Requirement already satisfied: certifi>=2017.4.17 in /usr/local/lib/python3.7/dist-packages (from requests->outdated->pingouin) (2021.5.30)\n",
            "Requirement already satisfied: joblib>=0.11 in /usr/local/lib/python3.7/dist-packages (from scikit-learn->pingouin) (1.0.1)\n",
            "Requirement already satisfied: setuptools>=40.4 in /usr/local/lib/python3.7/dist-packages (from xarray->pandas-flavor>=0.2.0->pingouin) (57.4.0)\n"
          ],
          "name": "stdout"
        }
      ]
    },
    {
      "cell_type": "code",
      "metadata": {
        "id": "drkQsu-ge1Bk"
      },
      "source": [
        "#기본\n",
        "import pandas as pd \n",
        "import numpy as   np\n",
        "import matplotlib.pyplot as plt\n",
        "from statsmodels.formula.api import ols\n",
        "import pingouin as pg\n",
        "import json\n",
        "#plotly\n",
        "import plotly.graph_objects as go\n",
        "import plotly.express as px\n",
        "import plotly.io as io\n",
        "import plotly.figure_factory as ff\n",
        "from plotly.subplots import make_subplots\n",
        "from plotly.validators.scatter.marker import SymbolValidator"
      ],
      "execution_count": 169,
      "outputs": []
    },
    {
      "cell_type": "code",
      "metadata": {
        "colab": {
          "base_uri": "https://localhost:8080/",
          "height": 78
        },
        "id": "BYID_BVzkDhu",
        "outputId": "48338b0b-200b-4f89-a504-30b3053274e0"
      },
      "source": [
        "#영화 자료 가져오기 \n",
        "movies = pd.read_csv(\"/content/mini-project-team1/1. Crawling/data/KOBIS_TOT.csv\")\n",
        "movies[\"개봉일\"] = pd.to_datetime(movies[\"개봉일\"])\n",
        "movies.sample(1)"
      ],
      "execution_count": 170,
      "outputs": [
        {
          "output_type": "execute_result",
          "data": {
            "text/html": [
              "<div>\n",
              "<style scoped>\n",
              "    .dataframe tbody tr th:only-of-type {\n",
              "        vertical-align: middle;\n",
              "    }\n",
              "\n",
              "    .dataframe tbody tr th {\n",
              "        vertical-align: top;\n",
              "    }\n",
              "\n",
              "    .dataframe thead th {\n",
              "        text-align: right;\n",
              "    }\n",
              "</style>\n",
              "<table border=\"1\" class=\"dataframe\">\n",
              "  <thead>\n",
              "    <tr style=\"text-align: right;\">\n",
              "      <th></th>\n",
              "      <th>순번</th>\n",
              "      <th>개봉연도</th>\n",
              "      <th>영화명</th>\n",
              "      <th>감독</th>\n",
              "      <th>배급사</th>\n",
              "      <th>개봉일</th>\n",
              "      <th>국적</th>\n",
              "      <th>전국스크린수</th>\n",
              "      <th>전국매출액</th>\n",
              "      <th>전국관객수</th>\n",
              "      <th>장르</th>\n",
              "      <th>등급</th>\n",
              "      <th>영화구분</th>\n",
              "    </tr>\n",
              "  </thead>\n",
              "  <tbody>\n",
              "    <tr>\n",
              "      <th>390</th>\n",
              "      <td>391</td>\n",
              "      <td>2012</td>\n",
              "      <td>머신건 프리처</td>\n",
              "      <td>마크 포스터</td>\n",
              "      <td>(주)팝파트너스</td>\n",
              "      <td>2012-05-24</td>\n",
              "      <td>미국</td>\n",
              "      <td>141</td>\n",
              "      <td>197366500</td>\n",
              "      <td>26640</td>\n",
              "      <td>액션</td>\n",
              "      <td>15세이상관람가</td>\n",
              "      <td>일반영화</td>\n",
              "    </tr>\n",
              "  </tbody>\n",
              "</table>\n",
              "</div>"
            ],
            "text/plain": [
              "      순번  개봉연도      영화명      감독       배급사  ...      전국매출액  전국관객수  장르        등급  영화구분\n",
              "390  391  2012  머신건 프리처  마크 포스터  (주)팝파트너스  ...  197366500  26640  액션  15세이상관람가  일반영화\n",
              "\n",
              "[1 rows x 13 columns]"
            ]
          },
          "metadata": {},
          "execution_count": 170
        }
      ]
    },
    {
      "cell_type": "code",
      "metadata": {
        "id": "rj9PiByXb5V7"
      },
      "source": [
        "#배급사 자료 가져오기 (연도 별 상위 10개의 배급사)\n",
        "distributor = pd.read_csv(\"/content/mini-project-team1/1. Crawling/data/2011_2020_topdistributor.csv\")\n",
        "\n",
        "#2015~2020 연도 별 독립영화 제작수와 개봉 수 비교 \n",
        "movie_number = pd.read_csv(\"https://raw.githubusercontent.com/yujin-jo/mini-project-team1/main/1.%20Crawling/data/2015_2020_movienumbers.csv\")\n",
        "movie_number = movie_number.rename(columns={'구분':'개봉연도'})\n"
      ],
      "execution_count": 171,
      "outputs": []
    },
    {
      "cell_type": "markdown",
      "metadata": {
        "id": "6HGKJQkFfVkc"
      },
      "source": [
        "---\n",
        "# I. 가설 설정과 분석 배경\n",
        "\n",
        "1. 가설  : 2014년 이후 대형 배급사가 독립∙예술 영화의 배급을 늘렸을 것이다.\n",
        "    - 2011~2014년까지의 대형 배급사가 배급한 영화 수와 2015년 ~ 2020년 배급한 영화 수 사이에 유의미한 차이가 있을 것이다. \n",
        "    - 대형 배급사의 독립예술영화 배급 비중도 2014년 이전과 차이가 있을 것이다(증가했을 것이다)\n",
        "    - 독립영화를 배급하는 배급사의 수와 비중도 2014년 이전과 차이가 있을 것이다 (감소했을 것이다).\n",
        "\n",
        "    \n",
        "2. 가설을 선택한 이유 : \n",
        "    - 2014년~2017년 사이에 대형 배급사 기준으로 독립영화 전용 스크린이 증가하기 시작 (CGV 아트하우스, 롯데시네마 이르떼클래식과 같은 브랜드가 생성) \n",
        "    - 2014년의 흥행 성적이 대형 배급사의 독립예술영화 배급에 영향을 미치지 않았을까? (이전과 이후를 비교하여 가설을 확인하고자 함) \n",
        "    - 2014년 이후 배급이 증가했다면, 일시적인 현상인지 아니면 향후 얼마 동안 대형 배급사의 의사결정에 영향을 주었을지 궁금했다. \n",
        "    - 대형 배급사에서의 독립예술영화 배급이 오히려 중소 독립영화 배급사의 파이를 뺏어간 것이 아닐까하는 궁금증 "
      ]
    },
    {
      "cell_type": "markdown",
      "metadata": {
        "id": "1uq-PL9sgAP8"
      },
      "source": [
        "# II. 분석 방향 \n",
        "1. 활용 데이터 \n",
        "  - 영화 개봉연도 : 연도 별로 영화 수 집계 필요 \n",
        "  - 영화 별 배급사 : 영화 별 배급사 정보 (KOBIS 참고) \n",
        "  - 영화 수 : 연도 별, 배급사 별, 영화유형(독립예술영화, 일반영화)로 집계한 영화 수\n",
        "  - 연도 별 매출 기준 TOP10 배급사 : 대형 배급사, 기타 배급사를 분리하여 파악하기 위함 \n",
        "\n",
        "2. 분석 대상 \n",
        "  - 비교 시기 : 1집단(2011년 ~ 2014년), 2집단(2015년~2020년) \n",
        "  - 비교 대상 \n",
        "    - 대형 배급사가 배급한 영화 수 \n",
        "    - 대형 배급사의 독립예술영화 배급 비중\n",
        "    - 독립예술영화 중 배급사의 비중 비교 (대형배급사VS기타배급사)\n",
        "    - 독립영화 배급사의 수\n",
        "  \n",
        "3. 분석 방법론 \n",
        "  - 비교 분석(t검정) : 두 집단(비교 시기)의 집계(비교 대상)에 유의미한 차이가 있는지 비교 \n",
        "  - 시계열 분석 : 2011년 ~ 2020년까지 전체적인 추이를 확인하고자함\n",
        "\n",
        "\n",
        "4. 시각화 \n",
        "  - 히스토그램 (영화 수)\n",
        "  - 비율 바 차트 (대형 배급사의 독립 에술영화 배급 비중, 기간 별 / 독립예술영 화 중 대형 배급사의 배급수 비중, 기간 별) \n",
        "  - 파이차트 (대형 배급사의 독립 에술영화 배급 비중, 전체 / 독립예술영화 중 대형 배급사의 배급수 비중, 전체) \n",
        "\n",
        "\n",
        "5. 데이터 정의 \n",
        "  - 대형 배급사 : 2011년 ~ 2020년 기간 동안 모두 매출액 기준 TOP10 내에 있었던 영화 배급사만을 기준으로 함(씨제이이엔엠, 롯데, NEW, 쇼박스, 워너브라더스)\n",
        "  - 씨제이이엔앰의 경우 CGV계열사인 아트하우스 배급 영화도 포함\n",
        "  - 2020년 영화 수가 급감했기 때문에 2020년은 제외할지 고민 중 (팀과 논의해서 배제 예정)\n"
      ]
    },
    {
      "cell_type": "markdown",
      "metadata": {
        "id": "pFR2WhE3fxsO"
      },
      "source": [
        "\n",
        "# III. 분석 과정  "
      ]
    },
    {
      "cell_type": "markdown",
      "metadata": {
        "id": "ZteRTOEsbAK3"
      },
      "source": [
        "## 0. 데이터 전처리 \n",
        "### 1) 배급사 string 분리\n",
        "  - 배급사 string을 , 기준으로 row로 분리하여 계산\n",
        "  - 배급사가 분리된 데이터를 `new_movies`로 명명\n",
        "  \n",
        "### 2) 독립예술영화 데이터 분리 \n",
        "  - 독립예술영화 데이터를 `movies_art`로 명명\n",
        "  - 배급사가 분리된 예술영화 데이터를 `new_movies_art`로 명명\n"
      ]
    },
    {
      "cell_type": "code",
      "metadata": {
        "id": "Pz89XmUm9Nm0"
      },
      "source": [
        "# 배급사명을 ,로 구분시키고 df화함\n",
        "new_movies = movies.assign(배급사=movies.배급사.str.split(\",\"))\n",
        "\n",
        "# 분리된 배급사를 시리즈로 만들어준 후, 기존 테이블과 병합해줬다. \n",
        "new_movies = new_movies.배급사.apply(pd.Series).merge(new_movies, right_index = True, left_index = True)\n",
        "\n",
        "# 분리된 배급사들을 행으로 변환하기 위해 melt함수 적용해주고, 연도 별 영화 별로 쉽게 구분할 수 있도록 sorting해주었다. \n",
        "new_movies = new_movies.melt(id_vars = [\"순번\", \"개봉연도\", \"영화명\", \"감독\", \"배급사\", \"개봉일\", \"국적\", \"전국스크린수\", \"전국매출액\", \"전국관객수\", \"장르\", \"등급\", \"영화구분\"], var_name=\"영화N구분\", value_name = \"배급사명분리\")\n",
        "new_movies = new_movies.sort_values(by = [\"순번\", \"영화N구분\"], ascending = True)\n",
        "\n",
        "# 영화 중 분리된 배급사 값이 Null값인 경우를 제외해 주었다\n",
        "new_movies = new_movies[new_movies[\"배급사명분리\"].notnull()]\n",
        "\n",
        "# 배급사명을 원래 배급사명에 넣었다. \n",
        "new_movies['배급사'] = new_movies[\"배급사명분리\"]\n",
        "\n",
        "# 불필요한 컬럼을 제거했다.\n",
        "new_movies.drop(['배급사명분리', '영화N구분'], axis=1, inplace=True)\n",
        "\n",
        "# movies에서 독립예술영화만 분리 \n",
        "movies_art = movies[movies['영화구분']=='독립/예술영화']\n",
        "\n",
        "# new_moives에서 독립예술영화만 분리\n",
        "new_movies_art = new_movies[new_movies['영화구분']=='독립/예술영화']"
      ],
      "execution_count": 172,
      "outputs": []
    },
    {
      "cell_type": "markdown",
      "metadata": {
        "id": "ziVjU-lyrZLh"
      },
      "source": [
        "## 1. 데이터 테이블 overview\n",
        "- 2011년 ~ 2020년까지의 총 3,375편의 영화 데이터가 들어감, 이 중 독립/예술 영화는 총 1,515편으로 44.9%를 차지한다.\n",
        "- 독립예술 영화의 비중은 2014년까지 지속적으로 상승하다가 2015년에 소폭 하락하였고, 2016년부터 2019년까지 다시 지속적으로 상승하였음\n",
        "- 2016년 이후 독립예술영화의 비중은 전체 영화의 50% 이상으로, 2011년 13%대에 비해 약 280% 성장\n",
        "---\n",
        "- 참고 테이블\n",
        "  - `movies` : 전체 영화 데이터를 보여주는 테이블 \n",
        "  - `movies_art` : 독립/예술 영화로 분류된 영화 정보를 보여주는 테이블 \n",
        "  - `new_movies` : 배급사가 분리된 전체 영화 데이터를 보여주는 테이블\n",
        "  - `new_movies_art` : 배급사가 분리된 독립/에술영화 데이터를 보여주는 테이블"
      ]
    },
    {
      "cell_type": "code",
      "metadata": {
        "id": "rmrAe2XUhsQW",
        "colab": {
          "base_uri": "https://localhost:8080/"
        },
        "outputId": "cb397222-3ec7-4483-876b-70c5cdf57fe5"
      },
      "source": [
        "# 영화 기본 정보 확인 \n",
        "movies.info(),  movies_art.info()"
      ],
      "execution_count": 173,
      "outputs": [
        {
          "output_type": "stream",
          "text": [
            "<class 'pandas.core.frame.DataFrame'>\n",
            "RangeIndex: 3375 entries, 0 to 3374\n",
            "Data columns (total 13 columns):\n",
            " #   Column  Non-Null Count  Dtype         \n",
            "---  ------  --------------  -----         \n",
            " 0   순번      3375 non-null   int64         \n",
            " 1   개봉연도    3375 non-null   int64         \n",
            " 2   영화명     3375 non-null   object        \n",
            " 3   감독      3375 non-null   object        \n",
            " 4   배급사     3374 non-null   object        \n",
            " 5   개봉일     3375 non-null   datetime64[ns]\n",
            " 6   국적      3375 non-null   object        \n",
            " 7   전국스크린수  3375 non-null   int64         \n",
            " 8   전국매출액   3375 non-null   int64         \n",
            " 9   전국관객수   3375 non-null   int64         \n",
            " 10  장르      3375 non-null   object        \n",
            " 11  등급      3375 non-null   object        \n",
            " 12  영화구분    3375 non-null   object        \n",
            "dtypes: datetime64[ns](1), int64(5), object(7)\n",
            "memory usage: 342.9+ KB\n",
            "<class 'pandas.core.frame.DataFrame'>\n",
            "Int64Index: 1515 entries, 29 to 3373\n",
            "Data columns (total 13 columns):\n",
            " #   Column  Non-Null Count  Dtype         \n",
            "---  ------  --------------  -----         \n",
            " 0   순번      1515 non-null   int64         \n",
            " 1   개봉연도    1515 non-null   int64         \n",
            " 2   영화명     1515 non-null   object        \n",
            " 3   감독      1515 non-null   object        \n",
            " 4   배급사     1514 non-null   object        \n",
            " 5   개봉일     1515 non-null   datetime64[ns]\n",
            " 6   국적      1515 non-null   object        \n",
            " 7   전국스크린수  1515 non-null   int64         \n",
            " 8   전국매출액   1515 non-null   int64         \n",
            " 9   전국관객수   1515 non-null   int64         \n",
            " 10  장르      1515 non-null   object        \n",
            " 11  등급      1515 non-null   object        \n",
            " 12  영화구분    1515 non-null   object        \n",
            "dtypes: datetime64[ns](1), int64(5), object(7)\n",
            "memory usage: 165.7+ KB\n"
          ],
          "name": "stdout"
        },
        {
          "output_type": "execute_result",
          "data": {
            "text/plain": [
              "(None, None)"
            ]
          },
          "metadata": {},
          "execution_count": 173
        }
      ]
    },
    {
      "cell_type": "code",
      "metadata": {
        "colab": {
          "base_uri": "https://localhost:8080/",
          "height": 0
        },
        "id": "l9W8TiMurdfh",
        "outputId": "b05c4e18-d559-4d87-e3e3-0976d11d83eb"
      },
      "source": [
        "#연도 별 영화 수와 독립영화 비중을 확인 (movie_transition테이블을 만들어서 확인)\n",
        "#독립예술 영화의 비중은 2014년까지 지속적으로 상승하다가 2015년에 소폭 하락하였고, 2016년부터 2019년까지 다시 지속적으로 상승하였음\n",
        "#2016년 이후 독립예술영화의 비중은 전체 영화의 50% 이상으로, 2011년 13%대에 비해 약 280% 성장\n",
        "movie_transition1 = movies.groupby(['개봉연도'])['영화명'].size().reset_index(name='총영화수')\n",
        "movie_transition2 = movies.groupby(['개봉연도', '영화구분'])['영화명'].size().reset_index(name=\"유형별영화수\")\n",
        "movie_transition = pd.merge(movie_transition2, movie_transition1, how = 'left', on = '개봉연도')\n",
        "movie_transition['비중'] = movie_transition['유형별영화수'] / movie_transition['총영화수']*100\n",
        "fig = px.bar(movie_transition,\n",
        "             x = \"개봉연도\", \n",
        "             y = \"유형별영화수\", \n",
        "             text = \"유형별영화수\",\n",
        "             title=\"연도 별 영화 구분에 따른 영화 수 추이\", \n",
        "             color = \"영화구분\", hover_name = \"영화구분\", \n",
        "             hover_data=[\"비중\"], log_x = True)\n",
        "fig.update_traces(texttemplate='%{text}개', textposition='inside')\n",
        "fig.show()"
      ],
      "execution_count": 174,
      "outputs": [
        {
          "output_type": "display_data",
          "data": {
            "text/html": [
              "<html>\n",
              "<head><meta charset=\"utf-8\" /></head>\n",
              "<body>\n",
              "    <div>            <script src=\"https://cdnjs.cloudflare.com/ajax/libs/mathjax/2.7.5/MathJax.js?config=TeX-AMS-MML_SVG\"></script><script type=\"text/javascript\">if (window.MathJax) {MathJax.Hub.Config({SVG: {font: \"STIX-Web\"}});}</script>                <script type=\"text/javascript\">window.PlotlyConfig = {MathJaxConfig: 'local'};</script>\n",
              "        <script src=\"https://cdn.plot.ly/plotly-2.3.1.min.js\"></script>                <div id=\"a4662c70-3cb9-49d6-9314-a317a44ece89\" class=\"plotly-graph-div\" style=\"height:525px; width:100%;\"></div>            <script type=\"text/javascript\">                                    window.PLOTLYENV=window.PLOTLYENV || {};                                    if (document.getElementById(\"a4662c70-3cb9-49d6-9314-a317a44ece89\")) {                    Plotly.newPlot(                        \"a4662c70-3cb9-49d6-9314-a317a44ece89\",                        [{\"alignmentgroup\":\"True\",\"customdata\":[[13.20754716981132],[15.948275862068966],[27.177700348432055],[45.95375722543353],[45.76271186440678],[50.78947368421053],[55.140186915887845],[53.73134328358209],[51.41388174807198],[59.710144927536234]],\"hovertemplate\":\"<b>%{hovertext}</b><br><br>\\uc601\\ud654\\uad6c\\ubd84=\\ub3c5\\ub9bd/\\uc608\\uc220\\uc601\\ud654<br>\\uac1c\\ubd09\\uc5f0\\ub3c4=%{x}<br>\\uc720\\ud615\\ubcc4\\uc601\\ud654\\uc218=%{text}<br>\\ube44\\uc911=%{customdata[0]}<extra></extra>\",\"hovertext\":[\"\\ub3c5\\ub9bd/\\uc608\\uc220\\uc601\\ud654\",\"\\ub3c5\\ub9bd/\\uc608\\uc220\\uc601\\ud654\",\"\\ub3c5\\ub9bd/\\uc608\\uc220\\uc601\\ud654\",\"\\ub3c5\\ub9bd/\\uc608\\uc220\\uc601\\ud654\",\"\\ub3c5\\ub9bd/\\uc608\\uc220\\uc601\\ud654\",\"\\ub3c5\\ub9bd/\\uc608\\uc220\\uc601\\ud654\",\"\\ub3c5\\ub9bd/\\uc608\\uc220\\uc601\\ud654\",\"\\ub3c5\\ub9bd/\\uc608\\uc220\\uc601\\ud654\",\"\\ub3c5\\ub9bd/\\uc608\\uc220\\uc601\\ud654\",\"\\ub3c5\\ub9bd/\\uc608\\uc220\\uc601\\ud654\"],\"legendgroup\":\"\\ub3c5\\ub9bd/\\uc608\\uc220\\uc601\\ud654\",\"marker\":{\"color\":\"#636efa\",\"pattern\":{\"shape\":\"\"}},\"name\":\"\\ub3c5\\ub9bd/\\uc608\\uc220\\uc601\\ud654\",\"offsetgroup\":\"\\ub3c5\\ub9bd/\\uc608\\uc220\\uc601\\ud654\",\"orientation\":\"v\",\"showlegend\":true,\"text\":[28.0,37.0,78.0,159.0,162.0,193.0,236.0,216.0,200.0,206.0],\"textposition\":\"inside\",\"texttemplate\":\"%{text}\\uac1c\",\"type\":\"bar\",\"x\":[2011,2012,2013,2014,2015,2016,2017,2018,2019,2020],\"xaxis\":\"x\",\"y\":[28,37,78,159,162,193,236,216,200,206],\"yaxis\":\"y\"},{\"alignmentgroup\":\"True\",\"customdata\":[[86.79245283018868],[84.05172413793103],[72.82229965156795],[54.04624277456648],[54.23728813559322],[49.21052631578947],[44.85981308411215],[46.26865671641791],[48.58611825192802],[40.28985507246377]],\"hovertemplate\":\"<b>%{hovertext}</b><br><br>\\uc601\\ud654\\uad6c\\ubd84=\\uc77c\\ubc18\\uc601\\ud654<br>\\uac1c\\ubd09\\uc5f0\\ub3c4=%{x}<br>\\uc720\\ud615\\ubcc4\\uc601\\ud654\\uc218=%{text}<br>\\ube44\\uc911=%{customdata[0]}<extra></extra>\",\"hovertext\":[\"\\uc77c\\ubc18\\uc601\\ud654\",\"\\uc77c\\ubc18\\uc601\\ud654\",\"\\uc77c\\ubc18\\uc601\\ud654\",\"\\uc77c\\ubc18\\uc601\\ud654\",\"\\uc77c\\ubc18\\uc601\\ud654\",\"\\uc77c\\ubc18\\uc601\\ud654\",\"\\uc77c\\ubc18\\uc601\\ud654\",\"\\uc77c\\ubc18\\uc601\\ud654\",\"\\uc77c\\ubc18\\uc601\\ud654\",\"\\uc77c\\ubc18\\uc601\\ud654\"],\"legendgroup\":\"\\uc77c\\ubc18\\uc601\\ud654\",\"marker\":{\"color\":\"#EF553B\",\"pattern\":{\"shape\":\"\"}},\"name\":\"\\uc77c\\ubc18\\uc601\\ud654\",\"offsetgroup\":\"\\uc77c\\ubc18\\uc601\\ud654\",\"orientation\":\"v\",\"showlegend\":true,\"text\":[184.0,195.0,209.0,187.0,192.0,187.0,192.0,186.0,189.0,139.0],\"textposition\":\"inside\",\"texttemplate\":\"%{text}\\uac1c\",\"type\":\"bar\",\"x\":[2011,2012,2013,2014,2015,2016,2017,2018,2019,2020],\"xaxis\":\"x\",\"y\":[184,195,209,187,192,187,192,186,189,139],\"yaxis\":\"y\"}],                        {\"barmode\":\"relative\",\"legend\":{\"title\":{\"text\":\"\\uc601\\ud654\\uad6c\\ubd84\"},\"tracegroupgap\":0},\"template\":{\"data\":{\"bar\":[{\"error_x\":{\"color\":\"#2a3f5f\"},\"error_y\":{\"color\":\"#2a3f5f\"},\"marker\":{\"line\":{\"color\":\"#E5ECF6\",\"width\":0.5},\"pattern\":{\"fillmode\":\"overlay\",\"size\":10,\"solidity\":0.2}},\"type\":\"bar\"}],\"barpolar\":[{\"marker\":{\"line\":{\"color\":\"#E5ECF6\",\"width\":0.5},\"pattern\":{\"fillmode\":\"overlay\",\"size\":10,\"solidity\":0.2}},\"type\":\"barpolar\"}],\"carpet\":[{\"aaxis\":{\"endlinecolor\":\"#2a3f5f\",\"gridcolor\":\"white\",\"linecolor\":\"white\",\"minorgridcolor\":\"white\",\"startlinecolor\":\"#2a3f5f\"},\"baxis\":{\"endlinecolor\":\"#2a3f5f\",\"gridcolor\":\"white\",\"linecolor\":\"white\",\"minorgridcolor\":\"white\",\"startlinecolor\":\"#2a3f5f\"},\"type\":\"carpet\"}],\"choropleth\":[{\"colorbar\":{\"outlinewidth\":0,\"ticks\":\"\"},\"type\":\"choropleth\"}],\"contour\":[{\"colorbar\":{\"outlinewidth\":0,\"ticks\":\"\"},\"colorscale\":[[0.0,\"#0d0887\"],[0.1111111111111111,\"#46039f\"],[0.2222222222222222,\"#7201a8\"],[0.3333333333333333,\"#9c179e\"],[0.4444444444444444,\"#bd3786\"],[0.5555555555555556,\"#d8576b\"],[0.6666666666666666,\"#ed7953\"],[0.7777777777777778,\"#fb9f3a\"],[0.8888888888888888,\"#fdca26\"],[1.0,\"#f0f921\"]],\"type\":\"contour\"}],\"contourcarpet\":[{\"colorbar\":{\"outlinewidth\":0,\"ticks\":\"\"},\"type\":\"contourcarpet\"}],\"heatmap\":[{\"colorbar\":{\"outlinewidth\":0,\"ticks\":\"\"},\"colorscale\":[[0.0,\"#0d0887\"],[0.1111111111111111,\"#46039f\"],[0.2222222222222222,\"#7201a8\"],[0.3333333333333333,\"#9c179e\"],[0.4444444444444444,\"#bd3786\"],[0.5555555555555556,\"#d8576b\"],[0.6666666666666666,\"#ed7953\"],[0.7777777777777778,\"#fb9f3a\"],[0.8888888888888888,\"#fdca26\"],[1.0,\"#f0f921\"]],\"type\":\"heatmap\"}],\"heatmapgl\":[{\"colorbar\":{\"outlinewidth\":0,\"ticks\":\"\"},\"colorscale\":[[0.0,\"#0d0887\"],[0.1111111111111111,\"#46039f\"],[0.2222222222222222,\"#7201a8\"],[0.3333333333333333,\"#9c179e\"],[0.4444444444444444,\"#bd3786\"],[0.5555555555555556,\"#d8576b\"],[0.6666666666666666,\"#ed7953\"],[0.7777777777777778,\"#fb9f3a\"],[0.8888888888888888,\"#fdca26\"],[1.0,\"#f0f921\"]],\"type\":\"heatmapgl\"}],\"histogram\":[{\"marker\":{\"pattern\":{\"fillmode\":\"overlay\",\"size\":10,\"solidity\":0.2}},\"type\":\"histogram\"}],\"histogram2d\":[{\"colorbar\":{\"outlinewidth\":0,\"ticks\":\"\"},\"colorscale\":[[0.0,\"#0d0887\"],[0.1111111111111111,\"#46039f\"],[0.2222222222222222,\"#7201a8\"],[0.3333333333333333,\"#9c179e\"],[0.4444444444444444,\"#bd3786\"],[0.5555555555555556,\"#d8576b\"],[0.6666666666666666,\"#ed7953\"],[0.7777777777777778,\"#fb9f3a\"],[0.8888888888888888,\"#fdca26\"],[1.0,\"#f0f921\"]],\"type\":\"histogram2d\"}],\"histogram2dcontour\":[{\"colorbar\":{\"outlinewidth\":0,\"ticks\":\"\"},\"colorscale\":[[0.0,\"#0d0887\"],[0.1111111111111111,\"#46039f\"],[0.2222222222222222,\"#7201a8\"],[0.3333333333333333,\"#9c179e\"],[0.4444444444444444,\"#bd3786\"],[0.5555555555555556,\"#d8576b\"],[0.6666666666666666,\"#ed7953\"],[0.7777777777777778,\"#fb9f3a\"],[0.8888888888888888,\"#fdca26\"],[1.0,\"#f0f921\"]],\"type\":\"histogram2dcontour\"}],\"mesh3d\":[{\"colorbar\":{\"outlinewidth\":0,\"ticks\":\"\"},\"type\":\"mesh3d\"}],\"parcoords\":[{\"line\":{\"colorbar\":{\"outlinewidth\":0,\"ticks\":\"\"}},\"type\":\"parcoords\"}],\"pie\":[{\"automargin\":true,\"type\":\"pie\"}],\"scatter\":[{\"marker\":{\"colorbar\":{\"outlinewidth\":0,\"ticks\":\"\"}},\"type\":\"scatter\"}],\"scatter3d\":[{\"line\":{\"colorbar\":{\"outlinewidth\":0,\"ticks\":\"\"}},\"marker\":{\"colorbar\":{\"outlinewidth\":0,\"ticks\":\"\"}},\"type\":\"scatter3d\"}],\"scattercarpet\":[{\"marker\":{\"colorbar\":{\"outlinewidth\":0,\"ticks\":\"\"}},\"type\":\"scattercarpet\"}],\"scattergeo\":[{\"marker\":{\"colorbar\":{\"outlinewidth\":0,\"ticks\":\"\"}},\"type\":\"scattergeo\"}],\"scattergl\":[{\"marker\":{\"colorbar\":{\"outlinewidth\":0,\"ticks\":\"\"}},\"type\":\"scattergl\"}],\"scattermapbox\":[{\"marker\":{\"colorbar\":{\"outlinewidth\":0,\"ticks\":\"\"}},\"type\":\"scattermapbox\"}],\"scatterpolar\":[{\"marker\":{\"colorbar\":{\"outlinewidth\":0,\"ticks\":\"\"}},\"type\":\"scatterpolar\"}],\"scatterpolargl\":[{\"marker\":{\"colorbar\":{\"outlinewidth\":0,\"ticks\":\"\"}},\"type\":\"scatterpolargl\"}],\"scatterternary\":[{\"marker\":{\"colorbar\":{\"outlinewidth\":0,\"ticks\":\"\"}},\"type\":\"scatterternary\"}],\"surface\":[{\"colorbar\":{\"outlinewidth\":0,\"ticks\":\"\"},\"colorscale\":[[0.0,\"#0d0887\"],[0.1111111111111111,\"#46039f\"],[0.2222222222222222,\"#7201a8\"],[0.3333333333333333,\"#9c179e\"],[0.4444444444444444,\"#bd3786\"],[0.5555555555555556,\"#d8576b\"],[0.6666666666666666,\"#ed7953\"],[0.7777777777777778,\"#fb9f3a\"],[0.8888888888888888,\"#fdca26\"],[1.0,\"#f0f921\"]],\"type\":\"surface\"}],\"table\":[{\"cells\":{\"fill\":{\"color\":\"#EBF0F8\"},\"line\":{\"color\":\"white\"}},\"header\":{\"fill\":{\"color\":\"#C8D4E3\"},\"line\":{\"color\":\"white\"}},\"type\":\"table\"}]},\"layout\":{\"annotationdefaults\":{\"arrowcolor\":\"#2a3f5f\",\"arrowhead\":0,\"arrowwidth\":1},\"autotypenumbers\":\"strict\",\"coloraxis\":{\"colorbar\":{\"outlinewidth\":0,\"ticks\":\"\"}},\"colorscale\":{\"diverging\":[[0,\"#8e0152\"],[0.1,\"#c51b7d\"],[0.2,\"#de77ae\"],[0.3,\"#f1b6da\"],[0.4,\"#fde0ef\"],[0.5,\"#f7f7f7\"],[0.6,\"#e6f5d0\"],[0.7,\"#b8e186\"],[0.8,\"#7fbc41\"],[0.9,\"#4d9221\"],[1,\"#276419\"]],\"sequential\":[[0.0,\"#0d0887\"],[0.1111111111111111,\"#46039f\"],[0.2222222222222222,\"#7201a8\"],[0.3333333333333333,\"#9c179e\"],[0.4444444444444444,\"#bd3786\"],[0.5555555555555556,\"#d8576b\"],[0.6666666666666666,\"#ed7953\"],[0.7777777777777778,\"#fb9f3a\"],[0.8888888888888888,\"#fdca26\"],[1.0,\"#f0f921\"]],\"sequentialminus\":[[0.0,\"#0d0887\"],[0.1111111111111111,\"#46039f\"],[0.2222222222222222,\"#7201a8\"],[0.3333333333333333,\"#9c179e\"],[0.4444444444444444,\"#bd3786\"],[0.5555555555555556,\"#d8576b\"],[0.6666666666666666,\"#ed7953\"],[0.7777777777777778,\"#fb9f3a\"],[0.8888888888888888,\"#fdca26\"],[1.0,\"#f0f921\"]]},\"colorway\":[\"#636efa\",\"#EF553B\",\"#00cc96\",\"#ab63fa\",\"#FFA15A\",\"#19d3f3\",\"#FF6692\",\"#B6E880\",\"#FF97FF\",\"#FECB52\"],\"font\":{\"color\":\"#2a3f5f\"},\"geo\":{\"bgcolor\":\"white\",\"lakecolor\":\"white\",\"landcolor\":\"#E5ECF6\",\"showlakes\":true,\"showland\":true,\"subunitcolor\":\"white\"},\"hoverlabel\":{\"align\":\"left\"},\"hovermode\":\"closest\",\"mapbox\":{\"style\":\"light\"},\"paper_bgcolor\":\"white\",\"plot_bgcolor\":\"#E5ECF6\",\"polar\":{\"angularaxis\":{\"gridcolor\":\"white\",\"linecolor\":\"white\",\"ticks\":\"\"},\"bgcolor\":\"#E5ECF6\",\"radialaxis\":{\"gridcolor\":\"white\",\"linecolor\":\"white\",\"ticks\":\"\"}},\"scene\":{\"xaxis\":{\"backgroundcolor\":\"#E5ECF6\",\"gridcolor\":\"white\",\"gridwidth\":2,\"linecolor\":\"white\",\"showbackground\":true,\"ticks\":\"\",\"zerolinecolor\":\"white\"},\"yaxis\":{\"backgroundcolor\":\"#E5ECF6\",\"gridcolor\":\"white\",\"gridwidth\":2,\"linecolor\":\"white\",\"showbackground\":true,\"ticks\":\"\",\"zerolinecolor\":\"white\"},\"zaxis\":{\"backgroundcolor\":\"#E5ECF6\",\"gridcolor\":\"white\",\"gridwidth\":2,\"linecolor\":\"white\",\"showbackground\":true,\"ticks\":\"\",\"zerolinecolor\":\"white\"}},\"shapedefaults\":{\"line\":{\"color\":\"#2a3f5f\"}},\"ternary\":{\"aaxis\":{\"gridcolor\":\"white\",\"linecolor\":\"white\",\"ticks\":\"\"},\"baxis\":{\"gridcolor\":\"white\",\"linecolor\":\"white\",\"ticks\":\"\"},\"bgcolor\":\"#E5ECF6\",\"caxis\":{\"gridcolor\":\"white\",\"linecolor\":\"white\",\"ticks\":\"\"}},\"title\":{\"x\":0.05},\"xaxis\":{\"automargin\":true,\"gridcolor\":\"white\",\"linecolor\":\"white\",\"ticks\":\"\",\"title\":{\"standoff\":15},\"zerolinecolor\":\"white\",\"zerolinewidth\":2},\"yaxis\":{\"automargin\":true,\"gridcolor\":\"white\",\"linecolor\":\"white\",\"ticks\":\"\",\"title\":{\"standoff\":15},\"zerolinecolor\":\"white\",\"zerolinewidth\":2}}},\"title\":{\"text\":\"\\uc5f0\\ub3c4 \\ubcc4 \\uc601\\ud654 \\uad6c\\ubd84\\uc5d0 \\ub530\\ub978 \\uc601\\ud654 \\uc218 \\ucd94\\uc774\"},\"xaxis\":{\"anchor\":\"y\",\"domain\":[0.0,1.0],\"title\":{\"text\":\"\\uac1c\\ubd09\\uc5f0\\ub3c4\"},\"type\":\"log\"},\"yaxis\":{\"anchor\":\"x\",\"domain\":[0.0,1.0],\"title\":{\"text\":\"\\uc720\\ud615\\ubcc4\\uc601\\ud654\\uc218\"}}},                        {\"responsive\": true}                    ).then(function(){\n",
              "                            \n",
              "var gd = document.getElementById('a4662c70-3cb9-49d6-9314-a317a44ece89');\n",
              "var x = new MutationObserver(function (mutations, observer) {{\n",
              "        var display = window.getComputedStyle(gd).display;\n",
              "        if (!display || display === 'none') {{\n",
              "            console.log([gd, 'removed!']);\n",
              "            Plotly.purge(gd);\n",
              "            observer.disconnect();\n",
              "        }}\n",
              "}});\n",
              "\n",
              "// Listen for the removal of the full notebook cells\n",
              "var notebookContainer = gd.closest('#notebook-container');\n",
              "if (notebookContainer) {{\n",
              "    x.observe(notebookContainer, {childList: true});\n",
              "}}\n",
              "\n",
              "// Listen for the clearing of the current output cell\n",
              "var outputEl = gd.closest('.output');\n",
              "if (outputEl) {{\n",
              "    x.observe(outputEl, {childList: true});\n",
              "}}\n",
              "\n",
              "                        })                };                            </script>        </div>\n",
              "</body>\n",
              "</html>"
            ]
          },
          "metadata": {}
        }
      ]
    },
    {
      "cell_type": "code",
      "metadata": {
        "id": "uZPbhteAztKM",
        "colab": {
          "base_uri": "https://localhost:8080/",
          "height": 0
        },
        "outputId": "cc0b9f69-4c83-4caf-ed75-8769795140ea"
      },
      "source": [
        "pd.read_csv(\"/content/mini-project-team1/1. Crawling/data/2011_2020_topdistributor.csv\")"
      ],
      "execution_count": 175,
      "outputs": [
        {
          "output_type": "execute_result",
          "data": {
            "text/html": [
              "<div>\n",
              "<style scoped>\n",
              "    .dataframe tbody tr th:only-of-type {\n",
              "        vertical-align: middle;\n",
              "    }\n",
              "\n",
              "    .dataframe tbody tr th {\n",
              "        vertical-align: top;\n",
              "    }\n",
              "\n",
              "    .dataframe thead th {\n",
              "        text-align: right;\n",
              "    }\n",
              "</style>\n",
              "<table border=\"1\" class=\"dataframe\">\n",
              "  <thead>\n",
              "    <tr style=\"text-align: right;\">\n",
              "      <th></th>\n",
              "      <th>2011</th>\n",
              "      <th>2012</th>\n",
              "      <th>2013</th>\n",
              "      <th>2014</th>\n",
              "      <th>2015</th>\n",
              "      <th>2016</th>\n",
              "      <th>2017</th>\n",
              "      <th>2018</th>\n",
              "      <th>2019</th>\n",
              "      <th>2020</th>\n",
              "    </tr>\n",
              "  </thead>\n",
              "  <tbody>\n",
              "    <tr>\n",
              "      <th>0</th>\n",
              "      <td>씨제이</td>\n",
              "      <td>씨제이</td>\n",
              "      <td>씨제이</td>\n",
              "      <td>씨제이</td>\n",
              "      <td>씨제이</td>\n",
              "      <td>씨제이</td>\n",
              "      <td>씨제이</td>\n",
              "      <td>롯데</td>\n",
              "      <td>월트디즈니</td>\n",
              "      <td>씨제이</td>\n",
              "    </tr>\n",
              "    <tr>\n",
              "      <th>1</th>\n",
              "      <td>롯데</td>\n",
              "      <td>쇼박스</td>\n",
              "      <td>NEW</td>\n",
              "      <td>롯데</td>\n",
              "      <td>쇼박스</td>\n",
              "      <td>쇼박스</td>\n",
              "      <td>쇼박스</td>\n",
              "      <td>씨제이</td>\n",
              "      <td>씨제이</td>\n",
              "      <td>롯데</td>\n",
              "    </tr>\n",
              "    <tr>\n",
              "      <th>2</th>\n",
              "      <td>NEW</td>\n",
              "      <td>롯데</td>\n",
              "      <td>롯데</td>\n",
              "      <td>소니</td>\n",
              "      <td>월트디즈니</td>\n",
              "      <td>월트디즈니</td>\n",
              "      <td>롯데</td>\n",
              "      <td>NEW</td>\n",
              "      <td>롯데</td>\n",
              "      <td>NEW</td>\n",
              "    </tr>\n",
              "    <tr>\n",
              "      <th>3</th>\n",
              "      <td>소니</td>\n",
              "      <td>NEW</td>\n",
              "      <td>쇼박스</td>\n",
              "      <td>워너브라더스</td>\n",
              "      <td>이십세기폭스</td>\n",
              "      <td>워너브라더스</td>\n",
              "      <td>NEW</td>\n",
              "      <td>쇼박스</td>\n",
              "      <td>NEW</td>\n",
              "      <td>쇼박스</td>\n",
              "    </tr>\n",
              "    <tr>\n",
              "      <th>4</th>\n",
              "      <td>쇼박스</td>\n",
              "      <td>소니</td>\n",
              "      <td>소니</td>\n",
              "      <td>이십세기폭스</td>\n",
              "      <td>유니버설픽쳐스</td>\n",
              "      <td>이십세기폭스</td>\n",
              "      <td>메가박스</td>\n",
              "      <td>메가박스</td>\n",
              "      <td>워너브라더스</td>\n",
              "      <td>워너브라더스</td>\n",
              "    </tr>\n",
              "    <tr>\n",
              "      <th>5</th>\n",
              "      <td>이십세기폭스</td>\n",
              "      <td>워너브라더스</td>\n",
              "      <td>워너브라더스</td>\n",
              "      <td>쇼박스</td>\n",
              "      <td>NEW</td>\n",
              "      <td>NEW</td>\n",
              "      <td>아트하우스</td>\n",
              "      <td>워너브라더스</td>\n",
              "      <td>쇼박스</td>\n",
              "      <td>UPI</td>\n",
              "    </tr>\n",
              "    <tr>\n",
              "      <th>6</th>\n",
              "      <td>워너브라더스</td>\n",
              "      <td>유니버설픽쳐스</td>\n",
              "      <td>유니버설픽쳐스</td>\n",
              "      <td>NEW</td>\n",
              "      <td>롯데</td>\n",
              "      <td>롯데</td>\n",
              "      <td>오퍼스</td>\n",
              "      <td>키다리</td>\n",
              "      <td>소니</td>\n",
              "      <td>월트디즈니</td>\n",
              "    </tr>\n",
              "    <tr>\n",
              "      <th>7</th>\n",
              "      <td>유니버설</td>\n",
              "      <td>이십세기폭스</td>\n",
              "      <td>이십세기폭스</td>\n",
              "      <td>유니버설픽쳐스</td>\n",
              "      <td>워너브라더스</td>\n",
              "      <td>유니버설픽쳐스</td>\n",
              "      <td>리틀빅</td>\n",
              "      <td>리틀빅</td>\n",
              "      <td>유니버설픽쳐스</td>\n",
              "      <td>에이스케이커</td>\n",
              "    </tr>\n",
              "    <tr>\n",
              "      <th>8</th>\n",
              "      <td>시너지</td>\n",
              "      <td>필라멘트픽쳐스</td>\n",
              "      <td>아이러브시네마</td>\n",
              "      <td>아트하우스</td>\n",
              "      <td>아트하우스</td>\n",
              "      <td>메가박스</td>\n",
              "      <td>워너브라더스</td>\n",
              "      <td>아트하우스</td>\n",
              "      <td>에이스케이커</td>\n",
              "      <td>메가박스</td>\n",
              "    </tr>\n",
              "    <tr>\n",
              "      <th>9</th>\n",
              "      <td>화앤담</td>\n",
              "      <td>에스비에스</td>\n",
              "      <td>씨너스</td>\n",
              "      <td>판씨네마</td>\n",
              "      <td>메가박스</td>\n",
              "      <td>와우픽쳐스</td>\n",
              "      <td>키다리</td>\n",
              "      <td>옛나인</td>\n",
              "      <td>이십세기폭스</td>\n",
              "      <td>소니</td>\n",
              "    </tr>\n",
              "  </tbody>\n",
              "</table>\n",
              "</div>"
            ],
            "text/plain": [
              "     2011     2012     2013     2014  ...    2017    2018     2019    2020\n",
              "0     씨제이      씨제이      씨제이      씨제이  ...     씨제이      롯데    월트디즈니     씨제이\n",
              "1      롯데      쇼박스      NEW       롯데  ...     쇼박스     씨제이      씨제이      롯데\n",
              "2     NEW       롯데       롯데       소니  ...      롯데     NEW       롯데     NEW\n",
              "3      소니      NEW      쇼박스   워너브라더스  ...     NEW     쇼박스      NEW     쇼박스\n",
              "4     쇼박스       소니       소니   이십세기폭스  ...    메가박스    메가박스   워너브라더스  워너브라더스\n",
              "5  이십세기폭스   워너브라더스   워너브라더스      쇼박스  ...   아트하우스  워너브라더스      쇼박스     UPI\n",
              "6  워너브라더스  유니버설픽쳐스  유니버설픽쳐스      NEW  ...     오퍼스     키다리       소니   월트디즈니\n",
              "7    유니버설   이십세기폭스   이십세기폭스  유니버설픽쳐스  ...     리틀빅     리틀빅  유니버설픽쳐스  에이스케이커\n",
              "8     시너지  필라멘트픽쳐스  아이러브시네마    아트하우스  ...  워너브라더스   아트하우스   에이스케이커    메가박스\n",
              "9     화앤담    에스비에스      씨너스     판씨네마  ...     키다리     옛나인   이십세기폭스      소니\n",
              "\n",
              "[10 rows x 10 columns]"
            ]
          },
          "metadata": {},
          "execution_count": 175
        }
      ]
    },
    {
      "cell_type": "markdown",
      "metadata": {
        "id": "zgXqB0D_NjGu"
      },
      "source": [
        "## 2. 데이터 분석 "
      ]
    },
    {
      "cell_type": "markdown",
      "metadata": {
        "id": "kPGb6fuPB5yq"
      },
      "source": [
        "### 1) 2011 ~ 2020년 대형 배급사와 기타 배급사의 배급 영화수 및 매출액 비교 (전체 기간, 시간 별 추이)\n",
        "- 2011년 ~ 2020년 간 제작된 독립예술영화 편수에서 대형 배급사는 전체의 6.09%를 차지하지만, 매출액에서 차지하는 비중은 17.7%로, 대형 배급사의 영화 1편 당 수익성이 더 나은 것으로 확인할 수 있었다.\n",
        "- 2011년 ~ 2015년까지 대형 배급사의 독립예술영화 편수는 증감이 반복되는 추세이며, 2016년 이후 꾸준한 감소세를 보임. 2020년에는 2편만 배급했음 \n",
        "- 2019년에 CGV 아트하우스가 독립예술영화 배급을 중단하면서 대형 배급사에서 독립예술영화 배급수가 급감한 것으로 판단됨 "
      ]
    },
    {
      "cell_type": "code",
      "metadata": {
        "colab": {
          "base_uri": "https://localhost:8080/",
          "height": 200
        },
        "id": "t_BwUzss7DII",
        "outputId": "f45c6dba-b924-4c72-edc1-bf73a1d0c07d"
      },
      "source": [
        "# 독립예술영화 중 대형 배급사가 배급한 영화를 '배급사구분'에 표시했다. \n",
        "# big5 : 씨제이', '롯데', 'NEW', '쇼박스', '워너브라더스, '아트하우스'\n",
        "new_movies_art['배급사구분'] = np.where(new_movies_art['배급사'].str.contains('씨제이|롯데|NEW|쇼박스|워너|아트하우스'), '대형배급사', '기타배급사')\n",
        "new_movies_art.head(5)"
      ],
      "execution_count": 176,
      "outputs": [
        {
          "output_type": "execute_result",
          "data": {
            "text/html": [
              "<div>\n",
              "<style scoped>\n",
              "    .dataframe tbody tr th:only-of-type {\n",
              "        vertical-align: middle;\n",
              "    }\n",
              "\n",
              "    .dataframe tbody tr th {\n",
              "        vertical-align: top;\n",
              "    }\n",
              "\n",
              "    .dataframe thead th {\n",
              "        text-align: right;\n",
              "    }\n",
              "</style>\n",
              "<table border=\"1\" class=\"dataframe\">\n",
              "  <thead>\n",
              "    <tr style=\"text-align: right;\">\n",
              "      <th></th>\n",
              "      <th>순번</th>\n",
              "      <th>개봉연도</th>\n",
              "      <th>영화명</th>\n",
              "      <th>감독</th>\n",
              "      <th>배급사</th>\n",
              "      <th>개봉일</th>\n",
              "      <th>국적</th>\n",
              "      <th>전국스크린수</th>\n",
              "      <th>전국매출액</th>\n",
              "      <th>전국관객수</th>\n",
              "      <th>장르</th>\n",
              "      <th>등급</th>\n",
              "      <th>영화구분</th>\n",
              "      <th>배급사구분</th>\n",
              "    </tr>\n",
              "  </thead>\n",
              "  <tbody>\n",
              "    <tr>\n",
              "      <th>29</th>\n",
              "      <td>30</td>\n",
              "      <td>2011</td>\n",
              "      <td>그대를 사랑합니다</td>\n",
              "      <td>추창민</td>\n",
              "      <td>(주)넥스트엔터테인먼트월드(NEW)</td>\n",
              "      <td>2011-02-17</td>\n",
              "      <td>한국</td>\n",
              "      <td>242</td>\n",
              "      <td>12005917000</td>\n",
              "      <td>1640351</td>\n",
              "      <td>드라마</td>\n",
              "      <td>15세이상관람가</td>\n",
              "      <td>독립/예술영화</td>\n",
              "      <td>대형배급사</td>\n",
              "    </tr>\n",
              "    <tr>\n",
              "      <th>71</th>\n",
              "      <td>72</td>\n",
              "      <td>2011</td>\n",
              "      <td>세 얼간이</td>\n",
              "      <td>라즈쿠마르 히라니</td>\n",
              "      <td>필라멘트픽쳐스</td>\n",
              "      <td>2011-08-18</td>\n",
              "      <td>인도</td>\n",
              "      <td>232</td>\n",
              "      <td>3352570500</td>\n",
              "      <td>458988</td>\n",
              "      <td>코미디</td>\n",
              "      <td>12세이상관람가</td>\n",
              "      <td>독립/예술영화</td>\n",
              "      <td>기타배급사</td>\n",
              "    </tr>\n",
              "    <tr>\n",
              "      <th>79</th>\n",
              "      <td>80</td>\n",
              "      <td>2011</td>\n",
              "      <td>내 이름은 칸</td>\n",
              "      <td>카란 조하르</td>\n",
              "      <td>필라멘트픽쳐스</td>\n",
              "      <td>2011-03-24</td>\n",
              "      <td>인도</td>\n",
              "      <td>84</td>\n",
              "      <td>2820922500</td>\n",
              "      <td>381243</td>\n",
              "      <td>드라마</td>\n",
              "      <td>12세이상관람가</td>\n",
              "      <td>독립/예술영화</td>\n",
              "      <td>기타배급사</td>\n",
              "    </tr>\n",
              "    <tr>\n",
              "      <th>116</th>\n",
              "      <td>117</td>\n",
              "      <td>2011</td>\n",
              "      <td>50/50</td>\n",
              "      <td>조나단 레빈</td>\n",
              "      <td>롯데쇼핑㈜롯데엔터테인먼트</td>\n",
              "      <td>2011-11-24</td>\n",
              "      <td>미국</td>\n",
              "      <td>159</td>\n",
              "      <td>1019768500</td>\n",
              "      <td>135985</td>\n",
              "      <td>코미디</td>\n",
              "      <td>15세이상관람가</td>\n",
              "      <td>독립/예술영화</td>\n",
              "      <td>대형배급사</td>\n",
              "    </tr>\n",
              "    <tr>\n",
              "      <th>118</th>\n",
              "      <td>119</td>\n",
              "      <td>2011</td>\n",
              "      <td>제인 에어</td>\n",
              "      <td>캐리 후쿠나가</td>\n",
              "      <td>(주)시너지하우스 (시너지)</td>\n",
              "      <td>2011-04-20</td>\n",
              "      <td>영국</td>\n",
              "      <td>208</td>\n",
              "      <td>981132000</td>\n",
              "      <td>135797</td>\n",
              "      <td>드라마</td>\n",
              "      <td>12세이상관람가</td>\n",
              "      <td>독립/예술영화</td>\n",
              "      <td>기타배급사</td>\n",
              "    </tr>\n",
              "  </tbody>\n",
              "</table>\n",
              "</div>"
            ],
            "text/plain": [
              "      순번  개봉연도        영화명         감독  ...   장르        등급     영화구분  배급사구분\n",
              "29    30  2011  그대를 사랑합니다        추창민  ...  드라마  15세이상관람가  독립/예술영화  대형배급사\n",
              "71    72  2011      세 얼간이  라즈쿠마르 히라니  ...  코미디  12세이상관람가  독립/예술영화  기타배급사\n",
              "79    80  2011    내 이름은 칸     카란 조하르  ...  드라마  12세이상관람가  독립/예술영화  기타배급사\n",
              "116  117  2011      50/50     조나단 레빈  ...  코미디  15세이상관람가  독립/예술영화  대형배급사\n",
              "118  119  2011      제인 에어    캐리 후쿠나가  ...  드라마  12세이상관람가  독립/예술영화  기타배급사\n",
              "\n",
              "[5 rows x 14 columns]"
            ]
          },
          "metadata": {},
          "execution_count": 176
        }
      ]
    },
    {
      "cell_type": "code",
      "metadata": {
        "colab": {
          "base_uri": "https://localhost:8080/",
          "height": 542
        },
        "id": "mmKw0A8zDNs9",
        "outputId": "a5f07326-9f7c-4293-b402-8a3aaeed4ddd"
      },
      "source": [
        "#2011년 ~ 2020년 간 제작된 독립예술영화의 배급 비중 (대형 배급사는 전체의 6.09% 차지)\n",
        "new_movies_art_counts_tot = new_movies_art.groupby('배급사구분').size().reset_index(name='배급영화수')\n",
        "# new_movies_art_counts['총영화수'] = new_movies_art_counts.groupby('개봉연도')['배급영화수'].transform('sum')\n",
        "# new_movies_art_counts['비중'] = new_movies_art_counts['배급영화수']/new_movies_art_counts['총영화수']*100\n",
        "new_movies_art_counts_tot\n",
        "\n",
        "fig = px.pie(new_movies_art_counts_tot, values='배급영화수', names='배급사구분',\n",
        "             color_discrete_sequence=px.colors.sequential.Redor,\n",
        "             hole=.3,\n",
        "             title='2011년~2020년간 제작된 독립예술영화의 배급 비중')\n",
        "fig.update_traces(textposition='inside', textinfo='percent+label')\n",
        "fig.show()"
      ],
      "execution_count": 177,
      "outputs": [
        {
          "output_type": "display_data",
          "data": {
            "text/html": [
              "<html>\n",
              "<head><meta charset=\"utf-8\" /></head>\n",
              "<body>\n",
              "    <div>            <script src=\"https://cdnjs.cloudflare.com/ajax/libs/mathjax/2.7.5/MathJax.js?config=TeX-AMS-MML_SVG\"></script><script type=\"text/javascript\">if (window.MathJax) {MathJax.Hub.Config({SVG: {font: \"STIX-Web\"}});}</script>                <script type=\"text/javascript\">window.PlotlyConfig = {MathJaxConfig: 'local'};</script>\n",
              "        <script src=\"https://cdn.plot.ly/plotly-2.3.1.min.js\"></script>                <div id=\"05930674-d14d-4093-9f8f-6f39ca43e519\" class=\"plotly-graph-div\" style=\"height:525px; width:100%;\"></div>            <script type=\"text/javascript\">                                    window.PLOTLYENV=window.PLOTLYENV || {};                                    if (document.getElementById(\"05930674-d14d-4093-9f8f-6f39ca43e519\")) {                    Plotly.newPlot(                        \"05930674-d14d-4093-9f8f-6f39ca43e519\",                        [{\"domain\":{\"x\":[0.0,1.0],\"y\":[0.0,1.0]},\"hole\":0.3,\"hovertemplate\":\"\\ubc30\\uae09\\uc0ac\\uad6c\\ubd84=%{label}<br>\\ubc30\\uae09\\uc601\\ud654\\uc218=%{value}<extra></extra>\",\"labels\":[\"\\uae30\\ud0c0\\ubc30\\uae09\\uc0ac\",\"\\ub300\\ud615\\ubc30\\uae09\\uc0ac\"],\"legendgroup\":\"\",\"name\":\"\",\"showlegend\":true,\"textinfo\":\"percent+label\",\"textposition\":\"inside\",\"type\":\"pie\",\"values\":[1619,105]}],                        {\"legend\":{\"tracegroupgap\":0},\"piecolorway\":[\"rgb(246, 210, 169)\",\"rgb(245, 183, 142)\",\"rgb(241, 156, 124)\",\"rgb(234, 129, 113)\",\"rgb(221, 104, 108)\",\"rgb(202, 82, 104)\",\"rgb(177, 63, 100)\"],\"template\":{\"data\":{\"bar\":[{\"error_x\":{\"color\":\"#2a3f5f\"},\"error_y\":{\"color\":\"#2a3f5f\"},\"marker\":{\"line\":{\"color\":\"#E5ECF6\",\"width\":0.5},\"pattern\":{\"fillmode\":\"overlay\",\"size\":10,\"solidity\":0.2}},\"type\":\"bar\"}],\"barpolar\":[{\"marker\":{\"line\":{\"color\":\"#E5ECF6\",\"width\":0.5},\"pattern\":{\"fillmode\":\"overlay\",\"size\":10,\"solidity\":0.2}},\"type\":\"barpolar\"}],\"carpet\":[{\"aaxis\":{\"endlinecolor\":\"#2a3f5f\",\"gridcolor\":\"white\",\"linecolor\":\"white\",\"minorgridcolor\":\"white\",\"startlinecolor\":\"#2a3f5f\"},\"baxis\":{\"endlinecolor\":\"#2a3f5f\",\"gridcolor\":\"white\",\"linecolor\":\"white\",\"minorgridcolor\":\"white\",\"startlinecolor\":\"#2a3f5f\"},\"type\":\"carpet\"}],\"choropleth\":[{\"colorbar\":{\"outlinewidth\":0,\"ticks\":\"\"},\"type\":\"choropleth\"}],\"contour\":[{\"colorbar\":{\"outlinewidth\":0,\"ticks\":\"\"},\"colorscale\":[[0.0,\"#0d0887\"],[0.1111111111111111,\"#46039f\"],[0.2222222222222222,\"#7201a8\"],[0.3333333333333333,\"#9c179e\"],[0.4444444444444444,\"#bd3786\"],[0.5555555555555556,\"#d8576b\"],[0.6666666666666666,\"#ed7953\"],[0.7777777777777778,\"#fb9f3a\"],[0.8888888888888888,\"#fdca26\"],[1.0,\"#f0f921\"]],\"type\":\"contour\"}],\"contourcarpet\":[{\"colorbar\":{\"outlinewidth\":0,\"ticks\":\"\"},\"type\":\"contourcarpet\"}],\"heatmap\":[{\"colorbar\":{\"outlinewidth\":0,\"ticks\":\"\"},\"colorscale\":[[0.0,\"#0d0887\"],[0.1111111111111111,\"#46039f\"],[0.2222222222222222,\"#7201a8\"],[0.3333333333333333,\"#9c179e\"],[0.4444444444444444,\"#bd3786\"],[0.5555555555555556,\"#d8576b\"],[0.6666666666666666,\"#ed7953\"],[0.7777777777777778,\"#fb9f3a\"],[0.8888888888888888,\"#fdca26\"],[1.0,\"#f0f921\"]],\"type\":\"heatmap\"}],\"heatmapgl\":[{\"colorbar\":{\"outlinewidth\":0,\"ticks\":\"\"},\"colorscale\":[[0.0,\"#0d0887\"],[0.1111111111111111,\"#46039f\"],[0.2222222222222222,\"#7201a8\"],[0.3333333333333333,\"#9c179e\"],[0.4444444444444444,\"#bd3786\"],[0.5555555555555556,\"#d8576b\"],[0.6666666666666666,\"#ed7953\"],[0.7777777777777778,\"#fb9f3a\"],[0.8888888888888888,\"#fdca26\"],[1.0,\"#f0f921\"]],\"type\":\"heatmapgl\"}],\"histogram\":[{\"marker\":{\"pattern\":{\"fillmode\":\"overlay\",\"size\":10,\"solidity\":0.2}},\"type\":\"histogram\"}],\"histogram2d\":[{\"colorbar\":{\"outlinewidth\":0,\"ticks\":\"\"},\"colorscale\":[[0.0,\"#0d0887\"],[0.1111111111111111,\"#46039f\"],[0.2222222222222222,\"#7201a8\"],[0.3333333333333333,\"#9c179e\"],[0.4444444444444444,\"#bd3786\"],[0.5555555555555556,\"#d8576b\"],[0.6666666666666666,\"#ed7953\"],[0.7777777777777778,\"#fb9f3a\"],[0.8888888888888888,\"#fdca26\"],[1.0,\"#f0f921\"]],\"type\":\"histogram2d\"}],\"histogram2dcontour\":[{\"colorbar\":{\"outlinewidth\":0,\"ticks\":\"\"},\"colorscale\":[[0.0,\"#0d0887\"],[0.1111111111111111,\"#46039f\"],[0.2222222222222222,\"#7201a8\"],[0.3333333333333333,\"#9c179e\"],[0.4444444444444444,\"#bd3786\"],[0.5555555555555556,\"#d8576b\"],[0.6666666666666666,\"#ed7953\"],[0.7777777777777778,\"#fb9f3a\"],[0.8888888888888888,\"#fdca26\"],[1.0,\"#f0f921\"]],\"type\":\"histogram2dcontour\"}],\"mesh3d\":[{\"colorbar\":{\"outlinewidth\":0,\"ticks\":\"\"},\"type\":\"mesh3d\"}],\"parcoords\":[{\"line\":{\"colorbar\":{\"outlinewidth\":0,\"ticks\":\"\"}},\"type\":\"parcoords\"}],\"pie\":[{\"automargin\":true,\"type\":\"pie\"}],\"scatter\":[{\"marker\":{\"colorbar\":{\"outlinewidth\":0,\"ticks\":\"\"}},\"type\":\"scatter\"}],\"scatter3d\":[{\"line\":{\"colorbar\":{\"outlinewidth\":0,\"ticks\":\"\"}},\"marker\":{\"colorbar\":{\"outlinewidth\":0,\"ticks\":\"\"}},\"type\":\"scatter3d\"}],\"scattercarpet\":[{\"marker\":{\"colorbar\":{\"outlinewidth\":0,\"ticks\":\"\"}},\"type\":\"scattercarpet\"}],\"scattergeo\":[{\"marker\":{\"colorbar\":{\"outlinewidth\":0,\"ticks\":\"\"}},\"type\":\"scattergeo\"}],\"scattergl\":[{\"marker\":{\"colorbar\":{\"outlinewidth\":0,\"ticks\":\"\"}},\"type\":\"scattergl\"}],\"scattermapbox\":[{\"marker\":{\"colorbar\":{\"outlinewidth\":0,\"ticks\":\"\"}},\"type\":\"scattermapbox\"}],\"scatterpolar\":[{\"marker\":{\"colorbar\":{\"outlinewidth\":0,\"ticks\":\"\"}},\"type\":\"scatterpolar\"}],\"scatterpolargl\":[{\"marker\":{\"colorbar\":{\"outlinewidth\":0,\"ticks\":\"\"}},\"type\":\"scatterpolargl\"}],\"scatterternary\":[{\"marker\":{\"colorbar\":{\"outlinewidth\":0,\"ticks\":\"\"}},\"type\":\"scatterternary\"}],\"surface\":[{\"colorbar\":{\"outlinewidth\":0,\"ticks\":\"\"},\"colorscale\":[[0.0,\"#0d0887\"],[0.1111111111111111,\"#46039f\"],[0.2222222222222222,\"#7201a8\"],[0.3333333333333333,\"#9c179e\"],[0.4444444444444444,\"#bd3786\"],[0.5555555555555556,\"#d8576b\"],[0.6666666666666666,\"#ed7953\"],[0.7777777777777778,\"#fb9f3a\"],[0.8888888888888888,\"#fdca26\"],[1.0,\"#f0f921\"]],\"type\":\"surface\"}],\"table\":[{\"cells\":{\"fill\":{\"color\":\"#EBF0F8\"},\"line\":{\"color\":\"white\"}},\"header\":{\"fill\":{\"color\":\"#C8D4E3\"},\"line\":{\"color\":\"white\"}},\"type\":\"table\"}]},\"layout\":{\"annotationdefaults\":{\"arrowcolor\":\"#2a3f5f\",\"arrowhead\":0,\"arrowwidth\":1},\"autotypenumbers\":\"strict\",\"coloraxis\":{\"colorbar\":{\"outlinewidth\":0,\"ticks\":\"\"}},\"colorscale\":{\"diverging\":[[0,\"#8e0152\"],[0.1,\"#c51b7d\"],[0.2,\"#de77ae\"],[0.3,\"#f1b6da\"],[0.4,\"#fde0ef\"],[0.5,\"#f7f7f7\"],[0.6,\"#e6f5d0\"],[0.7,\"#b8e186\"],[0.8,\"#7fbc41\"],[0.9,\"#4d9221\"],[1,\"#276419\"]],\"sequential\":[[0.0,\"#0d0887\"],[0.1111111111111111,\"#46039f\"],[0.2222222222222222,\"#7201a8\"],[0.3333333333333333,\"#9c179e\"],[0.4444444444444444,\"#bd3786\"],[0.5555555555555556,\"#d8576b\"],[0.6666666666666666,\"#ed7953\"],[0.7777777777777778,\"#fb9f3a\"],[0.8888888888888888,\"#fdca26\"],[1.0,\"#f0f921\"]],\"sequentialminus\":[[0.0,\"#0d0887\"],[0.1111111111111111,\"#46039f\"],[0.2222222222222222,\"#7201a8\"],[0.3333333333333333,\"#9c179e\"],[0.4444444444444444,\"#bd3786\"],[0.5555555555555556,\"#d8576b\"],[0.6666666666666666,\"#ed7953\"],[0.7777777777777778,\"#fb9f3a\"],[0.8888888888888888,\"#fdca26\"],[1.0,\"#f0f921\"]]},\"colorway\":[\"#636efa\",\"#EF553B\",\"#00cc96\",\"#ab63fa\",\"#FFA15A\",\"#19d3f3\",\"#FF6692\",\"#B6E880\",\"#FF97FF\",\"#FECB52\"],\"font\":{\"color\":\"#2a3f5f\"},\"geo\":{\"bgcolor\":\"white\",\"lakecolor\":\"white\",\"landcolor\":\"#E5ECF6\",\"showlakes\":true,\"showland\":true,\"subunitcolor\":\"white\"},\"hoverlabel\":{\"align\":\"left\"},\"hovermode\":\"closest\",\"mapbox\":{\"style\":\"light\"},\"paper_bgcolor\":\"white\",\"plot_bgcolor\":\"#E5ECF6\",\"polar\":{\"angularaxis\":{\"gridcolor\":\"white\",\"linecolor\":\"white\",\"ticks\":\"\"},\"bgcolor\":\"#E5ECF6\",\"radialaxis\":{\"gridcolor\":\"white\",\"linecolor\":\"white\",\"ticks\":\"\"}},\"scene\":{\"xaxis\":{\"backgroundcolor\":\"#E5ECF6\",\"gridcolor\":\"white\",\"gridwidth\":2,\"linecolor\":\"white\",\"showbackground\":true,\"ticks\":\"\",\"zerolinecolor\":\"white\"},\"yaxis\":{\"backgroundcolor\":\"#E5ECF6\",\"gridcolor\":\"white\",\"gridwidth\":2,\"linecolor\":\"white\",\"showbackground\":true,\"ticks\":\"\",\"zerolinecolor\":\"white\"},\"zaxis\":{\"backgroundcolor\":\"#E5ECF6\",\"gridcolor\":\"white\",\"gridwidth\":2,\"linecolor\":\"white\",\"showbackground\":true,\"ticks\":\"\",\"zerolinecolor\":\"white\"}},\"shapedefaults\":{\"line\":{\"color\":\"#2a3f5f\"}},\"ternary\":{\"aaxis\":{\"gridcolor\":\"white\",\"linecolor\":\"white\",\"ticks\":\"\"},\"baxis\":{\"gridcolor\":\"white\",\"linecolor\":\"white\",\"ticks\":\"\"},\"bgcolor\":\"#E5ECF6\",\"caxis\":{\"gridcolor\":\"white\",\"linecolor\":\"white\",\"ticks\":\"\"}},\"title\":{\"x\":0.05},\"xaxis\":{\"automargin\":true,\"gridcolor\":\"white\",\"linecolor\":\"white\",\"ticks\":\"\",\"title\":{\"standoff\":15},\"zerolinecolor\":\"white\",\"zerolinewidth\":2},\"yaxis\":{\"automargin\":true,\"gridcolor\":\"white\",\"linecolor\":\"white\",\"ticks\":\"\",\"title\":{\"standoff\":15},\"zerolinecolor\":\"white\",\"zerolinewidth\":2}}},\"title\":{\"text\":\"2011\\ub144~2020\\ub144\\uac04 \\uc81c\\uc791\\ub41c \\ub3c5\\ub9bd\\uc608\\uc220\\uc601\\ud654\\uc758 \\ubc30\\uae09 \\ube44\\uc911\"}},                        {\"responsive\": true}                    ).then(function(){\n",
              "                            \n",
              "var gd = document.getElementById('05930674-d14d-4093-9f8f-6f39ca43e519');\n",
              "var x = new MutationObserver(function (mutations, observer) {{\n",
              "        var display = window.getComputedStyle(gd).display;\n",
              "        if (!display || display === 'none') {{\n",
              "            console.log([gd, 'removed!']);\n",
              "            Plotly.purge(gd);\n",
              "            observer.disconnect();\n",
              "        }}\n",
              "}});\n",
              "\n",
              "// Listen for the removal of the full notebook cells\n",
              "var notebookContainer = gd.closest('#notebook-container');\n",
              "if (notebookContainer) {{\n",
              "    x.observe(notebookContainer, {childList: true});\n",
              "}}\n",
              "\n",
              "// Listen for the clearing of the current output cell\n",
              "var outputEl = gd.closest('.output');\n",
              "if (outputEl) {{\n",
              "    x.observe(outputEl, {childList: true});\n",
              "}}\n",
              "\n",
              "                        })                };                            </script>        </div>\n",
              "</body>\n",
              "</html>"
            ]
          },
          "metadata": {}
        }
      ]
    },
    {
      "cell_type": "code",
      "metadata": {
        "id": "vImQ-v7NEZUk"
      },
      "source": [
        "new_movies_art_sum = new_movies_art.groupby(['개봉연도','배급사구분'])['전국매출액'].sum().reset_index(name='매출액총계')"
      ],
      "execution_count": 178,
      "outputs": []
    },
    {
      "cell_type": "code",
      "metadata": {
        "colab": {
          "base_uri": "https://localhost:8080/",
          "height": 542
        },
        "id": "iWrFgh46Fm7Z",
        "outputId": "66ddafa5-0d83-4c2f-f47a-10889d0ef986"
      },
      "source": [
        "# 대형 배급사는 배급한 영화 수에 비해서 영화 별 매출액이 기타 배급사보다 높은 것을 확인할 수 있다. \n",
        "new_movies_art_sum_tot = new_movies_art.groupby('배급사구분')['전국매출액'].sum().reset_index(name='매출액')\n",
        "fig = px.pie(new_movies_art_sum_tot, values='매출액', names='배급사구분',\n",
        "             color_discrete_sequence=px.colors.sequential.Redor,\n",
        "             hole=.3,\n",
        "             title='2011년~2020년간 제작된 독립예술영화의 배급사 구분 별 매출액 비중')\n",
        "fig.update_traces(textposition='inside', textinfo='percent+label')\n",
        "fig.show()"
      ],
      "execution_count": null,
      "outputs": [
        {
          "output_type": "display_data",
          "data": {
            "text/html": [
              "<html>\n",
              "<head><meta charset=\"utf-8\" /></head>\n",
              "<body>\n",
              "    <div>            <script src=\"https://cdnjs.cloudflare.com/ajax/libs/mathjax/2.7.5/MathJax.js?config=TeX-AMS-MML_SVG\"></script><script type=\"text/javascript\">if (window.MathJax) {MathJax.Hub.Config({SVG: {font: \"STIX-Web\"}});}</script>                <script type=\"text/javascript\">window.PlotlyConfig = {MathJaxConfig: 'local'};</script>\n",
              "        <script src=\"https://cdn.plot.ly/plotly-2.3.1.min.js\"></script>                <div id=\"06b6e443-a648-4501-8f14-80e99ea9b81c\" class=\"plotly-graph-div\" style=\"height:525px; width:100%;\"></div>            <script type=\"text/javascript\">                                    window.PLOTLYENV=window.PLOTLYENV || {};                                    if (document.getElementById(\"06b6e443-a648-4501-8f14-80e99ea9b81c\")) {                    Plotly.newPlot(                        \"06b6e443-a648-4501-8f14-80e99ea9b81c\",                        [{\"domain\":{\"x\":[0.0,1.0],\"y\":[0.0,1.0]},\"hole\":0.3,\"hovertemplate\":\"\\ubc30\\uae09\\uc0ac\\uad6c\\ubd84=%{label}<br>\\ub9e4\\ucd9c\\uc561=%{value}<extra></extra>\",\"labels\":[\"\\uae30\\ud0c0\\ubc30\\uae09\\uc0ac\",\"\\ub300\\ud615\\ubc30\\uae09\\uc0ac\"],\"legendgroup\":\"\",\"name\":\"\",\"showlegend\":true,\"textinfo\":\"percent+label\",\"textposition\":\"inside\",\"type\":\"pie\",\"values\":[537646403394,115782968284]}],                        {\"legend\":{\"tracegroupgap\":0},\"piecolorway\":[\"rgb(246, 210, 169)\",\"rgb(245, 183, 142)\",\"rgb(241, 156, 124)\",\"rgb(234, 129, 113)\",\"rgb(221, 104, 108)\",\"rgb(202, 82, 104)\",\"rgb(177, 63, 100)\"],\"template\":{\"data\":{\"bar\":[{\"error_x\":{\"color\":\"#2a3f5f\"},\"error_y\":{\"color\":\"#2a3f5f\"},\"marker\":{\"line\":{\"color\":\"#E5ECF6\",\"width\":0.5},\"pattern\":{\"fillmode\":\"overlay\",\"size\":10,\"solidity\":0.2}},\"type\":\"bar\"}],\"barpolar\":[{\"marker\":{\"line\":{\"color\":\"#E5ECF6\",\"width\":0.5},\"pattern\":{\"fillmode\":\"overlay\",\"size\":10,\"solidity\":0.2}},\"type\":\"barpolar\"}],\"carpet\":[{\"aaxis\":{\"endlinecolor\":\"#2a3f5f\",\"gridcolor\":\"white\",\"linecolor\":\"white\",\"minorgridcolor\":\"white\",\"startlinecolor\":\"#2a3f5f\"},\"baxis\":{\"endlinecolor\":\"#2a3f5f\",\"gridcolor\":\"white\",\"linecolor\":\"white\",\"minorgridcolor\":\"white\",\"startlinecolor\":\"#2a3f5f\"},\"type\":\"carpet\"}],\"choropleth\":[{\"colorbar\":{\"outlinewidth\":0,\"ticks\":\"\"},\"type\":\"choropleth\"}],\"contour\":[{\"colorbar\":{\"outlinewidth\":0,\"ticks\":\"\"},\"colorscale\":[[0.0,\"#0d0887\"],[0.1111111111111111,\"#46039f\"],[0.2222222222222222,\"#7201a8\"],[0.3333333333333333,\"#9c179e\"],[0.4444444444444444,\"#bd3786\"],[0.5555555555555556,\"#d8576b\"],[0.6666666666666666,\"#ed7953\"],[0.7777777777777778,\"#fb9f3a\"],[0.8888888888888888,\"#fdca26\"],[1.0,\"#f0f921\"]],\"type\":\"contour\"}],\"contourcarpet\":[{\"colorbar\":{\"outlinewidth\":0,\"ticks\":\"\"},\"type\":\"contourcarpet\"}],\"heatmap\":[{\"colorbar\":{\"outlinewidth\":0,\"ticks\":\"\"},\"colorscale\":[[0.0,\"#0d0887\"],[0.1111111111111111,\"#46039f\"],[0.2222222222222222,\"#7201a8\"],[0.3333333333333333,\"#9c179e\"],[0.4444444444444444,\"#bd3786\"],[0.5555555555555556,\"#d8576b\"],[0.6666666666666666,\"#ed7953\"],[0.7777777777777778,\"#fb9f3a\"],[0.8888888888888888,\"#fdca26\"],[1.0,\"#f0f921\"]],\"type\":\"heatmap\"}],\"heatmapgl\":[{\"colorbar\":{\"outlinewidth\":0,\"ticks\":\"\"},\"colorscale\":[[0.0,\"#0d0887\"],[0.1111111111111111,\"#46039f\"],[0.2222222222222222,\"#7201a8\"],[0.3333333333333333,\"#9c179e\"],[0.4444444444444444,\"#bd3786\"],[0.5555555555555556,\"#d8576b\"],[0.6666666666666666,\"#ed7953\"],[0.7777777777777778,\"#fb9f3a\"],[0.8888888888888888,\"#fdca26\"],[1.0,\"#f0f921\"]],\"type\":\"heatmapgl\"}],\"histogram\":[{\"marker\":{\"pattern\":{\"fillmode\":\"overlay\",\"size\":10,\"solidity\":0.2}},\"type\":\"histogram\"}],\"histogram2d\":[{\"colorbar\":{\"outlinewidth\":0,\"ticks\":\"\"},\"colorscale\":[[0.0,\"#0d0887\"],[0.1111111111111111,\"#46039f\"],[0.2222222222222222,\"#7201a8\"],[0.3333333333333333,\"#9c179e\"],[0.4444444444444444,\"#bd3786\"],[0.5555555555555556,\"#d8576b\"],[0.6666666666666666,\"#ed7953\"],[0.7777777777777778,\"#fb9f3a\"],[0.8888888888888888,\"#fdca26\"],[1.0,\"#f0f921\"]],\"type\":\"histogram2d\"}],\"histogram2dcontour\":[{\"colorbar\":{\"outlinewidth\":0,\"ticks\":\"\"},\"colorscale\":[[0.0,\"#0d0887\"],[0.1111111111111111,\"#46039f\"],[0.2222222222222222,\"#7201a8\"],[0.3333333333333333,\"#9c179e\"],[0.4444444444444444,\"#bd3786\"],[0.5555555555555556,\"#d8576b\"],[0.6666666666666666,\"#ed7953\"],[0.7777777777777778,\"#fb9f3a\"],[0.8888888888888888,\"#fdca26\"],[1.0,\"#f0f921\"]],\"type\":\"histogram2dcontour\"}],\"mesh3d\":[{\"colorbar\":{\"outlinewidth\":0,\"ticks\":\"\"},\"type\":\"mesh3d\"}],\"parcoords\":[{\"line\":{\"colorbar\":{\"outlinewidth\":0,\"ticks\":\"\"}},\"type\":\"parcoords\"}],\"pie\":[{\"automargin\":true,\"type\":\"pie\"}],\"scatter\":[{\"marker\":{\"colorbar\":{\"outlinewidth\":0,\"ticks\":\"\"}},\"type\":\"scatter\"}],\"scatter3d\":[{\"line\":{\"colorbar\":{\"outlinewidth\":0,\"ticks\":\"\"}},\"marker\":{\"colorbar\":{\"outlinewidth\":0,\"ticks\":\"\"}},\"type\":\"scatter3d\"}],\"scattercarpet\":[{\"marker\":{\"colorbar\":{\"outlinewidth\":0,\"ticks\":\"\"}},\"type\":\"scattercarpet\"}],\"scattergeo\":[{\"marker\":{\"colorbar\":{\"outlinewidth\":0,\"ticks\":\"\"}},\"type\":\"scattergeo\"}],\"scattergl\":[{\"marker\":{\"colorbar\":{\"outlinewidth\":0,\"ticks\":\"\"}},\"type\":\"scattergl\"}],\"scattermapbox\":[{\"marker\":{\"colorbar\":{\"outlinewidth\":0,\"ticks\":\"\"}},\"type\":\"scattermapbox\"}],\"scatterpolar\":[{\"marker\":{\"colorbar\":{\"outlinewidth\":0,\"ticks\":\"\"}},\"type\":\"scatterpolar\"}],\"scatterpolargl\":[{\"marker\":{\"colorbar\":{\"outlinewidth\":0,\"ticks\":\"\"}},\"type\":\"scatterpolargl\"}],\"scatterternary\":[{\"marker\":{\"colorbar\":{\"outlinewidth\":0,\"ticks\":\"\"}},\"type\":\"scatterternary\"}],\"surface\":[{\"colorbar\":{\"outlinewidth\":0,\"ticks\":\"\"},\"colorscale\":[[0.0,\"#0d0887\"],[0.1111111111111111,\"#46039f\"],[0.2222222222222222,\"#7201a8\"],[0.3333333333333333,\"#9c179e\"],[0.4444444444444444,\"#bd3786\"],[0.5555555555555556,\"#d8576b\"],[0.6666666666666666,\"#ed7953\"],[0.7777777777777778,\"#fb9f3a\"],[0.8888888888888888,\"#fdca26\"],[1.0,\"#f0f921\"]],\"type\":\"surface\"}],\"table\":[{\"cells\":{\"fill\":{\"color\":\"#EBF0F8\"},\"line\":{\"color\":\"white\"}},\"header\":{\"fill\":{\"color\":\"#C8D4E3\"},\"line\":{\"color\":\"white\"}},\"type\":\"table\"}]},\"layout\":{\"annotationdefaults\":{\"arrowcolor\":\"#2a3f5f\",\"arrowhead\":0,\"arrowwidth\":1},\"autotypenumbers\":\"strict\",\"coloraxis\":{\"colorbar\":{\"outlinewidth\":0,\"ticks\":\"\"}},\"colorscale\":{\"diverging\":[[0,\"#8e0152\"],[0.1,\"#c51b7d\"],[0.2,\"#de77ae\"],[0.3,\"#f1b6da\"],[0.4,\"#fde0ef\"],[0.5,\"#f7f7f7\"],[0.6,\"#e6f5d0\"],[0.7,\"#b8e186\"],[0.8,\"#7fbc41\"],[0.9,\"#4d9221\"],[1,\"#276419\"]],\"sequential\":[[0.0,\"#0d0887\"],[0.1111111111111111,\"#46039f\"],[0.2222222222222222,\"#7201a8\"],[0.3333333333333333,\"#9c179e\"],[0.4444444444444444,\"#bd3786\"],[0.5555555555555556,\"#d8576b\"],[0.6666666666666666,\"#ed7953\"],[0.7777777777777778,\"#fb9f3a\"],[0.8888888888888888,\"#fdca26\"],[1.0,\"#f0f921\"]],\"sequentialminus\":[[0.0,\"#0d0887\"],[0.1111111111111111,\"#46039f\"],[0.2222222222222222,\"#7201a8\"],[0.3333333333333333,\"#9c179e\"],[0.4444444444444444,\"#bd3786\"],[0.5555555555555556,\"#d8576b\"],[0.6666666666666666,\"#ed7953\"],[0.7777777777777778,\"#fb9f3a\"],[0.8888888888888888,\"#fdca26\"],[1.0,\"#f0f921\"]]},\"colorway\":[\"#636efa\",\"#EF553B\",\"#00cc96\",\"#ab63fa\",\"#FFA15A\",\"#19d3f3\",\"#FF6692\",\"#B6E880\",\"#FF97FF\",\"#FECB52\"],\"font\":{\"color\":\"#2a3f5f\"},\"geo\":{\"bgcolor\":\"white\",\"lakecolor\":\"white\",\"landcolor\":\"#E5ECF6\",\"showlakes\":true,\"showland\":true,\"subunitcolor\":\"white\"},\"hoverlabel\":{\"align\":\"left\"},\"hovermode\":\"closest\",\"mapbox\":{\"style\":\"light\"},\"paper_bgcolor\":\"white\",\"plot_bgcolor\":\"#E5ECF6\",\"polar\":{\"angularaxis\":{\"gridcolor\":\"white\",\"linecolor\":\"white\",\"ticks\":\"\"},\"bgcolor\":\"#E5ECF6\",\"radialaxis\":{\"gridcolor\":\"white\",\"linecolor\":\"white\",\"ticks\":\"\"}},\"scene\":{\"xaxis\":{\"backgroundcolor\":\"#E5ECF6\",\"gridcolor\":\"white\",\"gridwidth\":2,\"linecolor\":\"white\",\"showbackground\":true,\"ticks\":\"\",\"zerolinecolor\":\"white\"},\"yaxis\":{\"backgroundcolor\":\"#E5ECF6\",\"gridcolor\":\"white\",\"gridwidth\":2,\"linecolor\":\"white\",\"showbackground\":true,\"ticks\":\"\",\"zerolinecolor\":\"white\"},\"zaxis\":{\"backgroundcolor\":\"#E5ECF6\",\"gridcolor\":\"white\",\"gridwidth\":2,\"linecolor\":\"white\",\"showbackground\":true,\"ticks\":\"\",\"zerolinecolor\":\"white\"}},\"shapedefaults\":{\"line\":{\"color\":\"#2a3f5f\"}},\"ternary\":{\"aaxis\":{\"gridcolor\":\"white\",\"linecolor\":\"white\",\"ticks\":\"\"},\"baxis\":{\"gridcolor\":\"white\",\"linecolor\":\"white\",\"ticks\":\"\"},\"bgcolor\":\"#E5ECF6\",\"caxis\":{\"gridcolor\":\"white\",\"linecolor\":\"white\",\"ticks\":\"\"}},\"title\":{\"x\":0.05},\"xaxis\":{\"automargin\":true,\"gridcolor\":\"white\",\"linecolor\":\"white\",\"ticks\":\"\",\"title\":{\"standoff\":15},\"zerolinecolor\":\"white\",\"zerolinewidth\":2},\"yaxis\":{\"automargin\":true,\"gridcolor\":\"white\",\"linecolor\":\"white\",\"ticks\":\"\",\"title\":{\"standoff\":15},\"zerolinecolor\":\"white\",\"zerolinewidth\":2}}},\"title\":{\"text\":\"2011\\ub144~2020\\ub144\\uac04 \\uc81c\\uc791\\ub41c \\ub3c5\\ub9bd\\uc608\\uc220\\uc601\\ud654\\uc758 \\ubc30\\uae09\\uc0ac \\uad6c\\ubd84 \\ubcc4 \\ub9e4\\ucd9c\\uc561 \\ube44\\uc911\"}},                        {\"responsive\": true}                    ).then(function(){\n",
              "                            \n",
              "var gd = document.getElementById('06b6e443-a648-4501-8f14-80e99ea9b81c');\n",
              "var x = new MutationObserver(function (mutations, observer) {{\n",
              "        var display = window.getComputedStyle(gd).display;\n",
              "        if (!display || display === 'none') {{\n",
              "            console.log([gd, 'removed!']);\n",
              "            Plotly.purge(gd);\n",
              "            observer.disconnect();\n",
              "        }}\n",
              "}});\n",
              "\n",
              "// Listen for the removal of the full notebook cells\n",
              "var notebookContainer = gd.closest('#notebook-container');\n",
              "if (notebookContainer) {{\n",
              "    x.observe(notebookContainer, {childList: true});\n",
              "}}\n",
              "\n",
              "// Listen for the clearing of the current output cell\n",
              "var outputEl = gd.closest('.output');\n",
              "if (outputEl) {{\n",
              "    x.observe(outputEl, {childList: true});\n",
              "}}\n",
              "\n",
              "                        })                };                            </script>        </div>\n",
              "</body>\n",
              "</html>"
            ]
          },
          "metadata": {}
        }
      ]
    },
    {
      "cell_type": "code",
      "metadata": {
        "colab": {
          "base_uri": "https://localhost:8080/",
          "height": 653
        },
        "id": "yfJcW9wLCUfN",
        "outputId": "bca8516b-88e9-4231-8ac8-ff822c18bc03"
      },
      "source": [
        "#배급사 구분 별로 매년 배급 영화수와 총 영화수 비교\n",
        "new_movies_art_counts = new_movies_art.groupby(['개봉연도','배급사구분']).size().reset_index(name='배급영화수')\n",
        "new_movies_art_counts['총영화수'] = new_movies_art_counts.groupby('개봉연도')['배급영화수'].transform('sum')\n",
        "new_movies_art_counts['배급비중'] = new_movies_art_counts['배급영화수']/new_movies_art_counts['총영화수']*100\n",
        "\n",
        "#배급사 구분 별로 매년 배급되는 영화의 영화 매출액 비교 \n",
        "new_movies_art_sum = new_movies_art.groupby(['개봉연도','배급사구분'])['전국매출액'].sum().reset_index(name='배급사매출액')\n",
        "new_movies_art_sum['총매출액'] = new_movies_art_sum.groupby('개봉연도')['배급사매출액'].transform('sum')\n",
        "new_movies_art_sum['매출액비중'] = new_movies_art_sum['배급사매출액']/new_movies_art_sum['총매출액']*100\n",
        "\n",
        "\n",
        "new_movies_art_agg = pd.merge(new_movies_art_counts, new_movies_art_sum, how=\"left\", on=[\"개봉연도\", \"배급사구분\"])\n",
        "new_movies_art_agg[['개봉연도', '배급사구분', '배급영화수', '배급비중', '배급사매출액','매출액비중']]\n",
        "# new_movies_art_counts"
      ],
      "execution_count": 179,
      "outputs": [
        {
          "output_type": "execute_result",
          "data": {
            "text/html": [
              "<div>\n",
              "<style scoped>\n",
              "    .dataframe tbody tr th:only-of-type {\n",
              "        vertical-align: middle;\n",
              "    }\n",
              "\n",
              "    .dataframe tbody tr th {\n",
              "        vertical-align: top;\n",
              "    }\n",
              "\n",
              "    .dataframe thead th {\n",
              "        text-align: right;\n",
              "    }\n",
              "</style>\n",
              "<table border=\"1\" class=\"dataframe\">\n",
              "  <thead>\n",
              "    <tr style=\"text-align: right;\">\n",
              "      <th></th>\n",
              "      <th>개봉연도</th>\n",
              "      <th>배급사구분</th>\n",
              "      <th>배급영화수</th>\n",
              "      <th>배급비중</th>\n",
              "      <th>배급사매출액</th>\n",
              "      <th>매출액비중</th>\n",
              "    </tr>\n",
              "  </thead>\n",
              "  <tbody>\n",
              "    <tr>\n",
              "      <th>0</th>\n",
              "      <td>2011</td>\n",
              "      <td>기타배급사</td>\n",
              "      <td>29</td>\n",
              "      <td>90.625000</td>\n",
              "      <td>13400617900</td>\n",
              "      <td>49.001787</td>\n",
              "    </tr>\n",
              "    <tr>\n",
              "      <th>1</th>\n",
              "      <td>2011</td>\n",
              "      <td>대형배급사</td>\n",
              "      <td>3</td>\n",
              "      <td>9.375000</td>\n",
              "      <td>13946584500</td>\n",
              "      <td>50.998213</td>\n",
              "    </tr>\n",
              "    <tr>\n",
              "      <th>2</th>\n",
              "      <td>2012</td>\n",
              "      <td>기타배급사</td>\n",
              "      <td>45</td>\n",
              "      <td>90.000000</td>\n",
              "      <td>26211994507</td>\n",
              "      <td>83.280991</td>\n",
              "    </tr>\n",
              "    <tr>\n",
              "      <th>3</th>\n",
              "      <td>2012</td>\n",
              "      <td>대형배급사</td>\n",
              "      <td>5</td>\n",
              "      <td>10.000000</td>\n",
              "      <td>5262167971</td>\n",
              "      <td>16.719009</td>\n",
              "    </tr>\n",
              "    <tr>\n",
              "      <th>4</th>\n",
              "      <td>2013</td>\n",
              "      <td>기타배급사</td>\n",
              "      <td>76</td>\n",
              "      <td>87.356322</td>\n",
              "      <td>50213777342</td>\n",
              "      <td>95.294254</td>\n",
              "    </tr>\n",
              "    <tr>\n",
              "      <th>5</th>\n",
              "      <td>2013</td>\n",
              "      <td>대형배급사</td>\n",
              "      <td>11</td>\n",
              "      <td>12.643678</td>\n",
              "      <td>2479617141</td>\n",
              "      <td>4.705746</td>\n",
              "    </tr>\n",
              "    <tr>\n",
              "      <th>6</th>\n",
              "      <td>2014</td>\n",
              "      <td>기타배급사</td>\n",
              "      <td>161</td>\n",
              "      <td>92.000000</td>\n",
              "      <td>120038064846</td>\n",
              "      <td>76.802878</td>\n",
              "    </tr>\n",
              "    <tr>\n",
              "      <th>7</th>\n",
              "      <td>2014</td>\n",
              "      <td>대형배급사</td>\n",
              "      <td>14</td>\n",
              "      <td>8.000000</td>\n",
              "      <td>36255642495</td>\n",
              "      <td>23.197122</td>\n",
              "    </tr>\n",
              "    <tr>\n",
              "      <th>8</th>\n",
              "      <td>2015</td>\n",
              "      <td>기타배급사</td>\n",
              "      <td>178</td>\n",
              "      <td>93.684211</td>\n",
              "      <td>57501399938</td>\n",
              "      <td>76.127786</td>\n",
              "    </tr>\n",
              "    <tr>\n",
              "      <th>9</th>\n",
              "      <td>2015</td>\n",
              "      <td>대형배급사</td>\n",
              "      <td>12</td>\n",
              "      <td>6.315789</td>\n",
              "      <td>18031336460</td>\n",
              "      <td>23.872214</td>\n",
              "    </tr>\n",
              "    <tr>\n",
              "      <th>10</th>\n",
              "      <td>2016</td>\n",
              "      <td>기타배급사</td>\n",
              "      <td>206</td>\n",
              "      <td>94.495413</td>\n",
              "      <td>61154579209</td>\n",
              "      <td>88.849525</td>\n",
              "    </tr>\n",
              "    <tr>\n",
              "      <th>11</th>\n",
              "      <td>2016</td>\n",
              "      <td>대형배급사</td>\n",
              "      <td>12</td>\n",
              "      <td>5.504587</td>\n",
              "      <td>7674802834</td>\n",
              "      <td>11.150475</td>\n",
              "    </tr>\n",
              "    <tr>\n",
              "      <th>12</th>\n",
              "      <td>2017</td>\n",
              "      <td>기타배급사</td>\n",
              "      <td>242</td>\n",
              "      <td>93.076923</td>\n",
              "      <td>61830852685</td>\n",
              "      <td>85.570089</td>\n",
              "    </tr>\n",
              "    <tr>\n",
              "      <th>13</th>\n",
              "      <td>2017</td>\n",
              "      <td>대형배급사</td>\n",
              "      <td>18</td>\n",
              "      <td>6.923077</td>\n",
              "      <td>10426700445</td>\n",
              "      <td>14.429911</td>\n",
              "    </tr>\n",
              "    <tr>\n",
              "      <th>14</th>\n",
              "      <td>2018</td>\n",
              "      <td>기타배급사</td>\n",
              "      <td>230</td>\n",
              "      <td>94.262295</td>\n",
              "      <td>64266674083</td>\n",
              "      <td>93.655677</td>\n",
              "    </tr>\n",
              "    <tr>\n",
              "      <th>15</th>\n",
              "      <td>2018</td>\n",
              "      <td>대형배급사</td>\n",
              "      <td>14</td>\n",
              "      <td>5.737705</td>\n",
              "      <td>4353484831</td>\n",
              "      <td>6.344323</td>\n",
              "    </tr>\n",
              "    <tr>\n",
              "      <th>16</th>\n",
              "      <td>2019</td>\n",
              "      <td>기타배급사</td>\n",
              "      <td>224</td>\n",
              "      <td>94.117647</td>\n",
              "      <td>52394508165</td>\n",
              "      <td>75.379399</td>\n",
              "    </tr>\n",
              "    <tr>\n",
              "      <th>17</th>\n",
              "      <td>2019</td>\n",
              "      <td>대형배급사</td>\n",
              "      <td>14</td>\n",
              "      <td>5.882353</td>\n",
              "      <td>17113220327</td>\n",
              "      <td>24.620601</td>\n",
              "    </tr>\n",
              "    <tr>\n",
              "      <th>18</th>\n",
              "      <td>2020</td>\n",
              "      <td>기타배급사</td>\n",
              "      <td>228</td>\n",
              "      <td>99.130435</td>\n",
              "      <td>30633934719</td>\n",
              "      <td>99.224537</td>\n",
              "    </tr>\n",
              "    <tr>\n",
              "      <th>19</th>\n",
              "      <td>2020</td>\n",
              "      <td>대형배급사</td>\n",
              "      <td>2</td>\n",
              "      <td>0.869565</td>\n",
              "      <td>239411280</td>\n",
              "      <td>0.775463</td>\n",
              "    </tr>\n",
              "  </tbody>\n",
              "</table>\n",
              "</div>"
            ],
            "text/plain": [
              "    개봉연도  배급사구분  배급영화수       배급비중        배급사매출액      매출액비중\n",
              "0   2011  기타배급사     29  90.625000   13400617900  49.001787\n",
              "1   2011  대형배급사      3   9.375000   13946584500  50.998213\n",
              "2   2012  기타배급사     45  90.000000   26211994507  83.280991\n",
              "3   2012  대형배급사      5  10.000000    5262167971  16.719009\n",
              "4   2013  기타배급사     76  87.356322   50213777342  95.294254\n",
              "5   2013  대형배급사     11  12.643678    2479617141   4.705746\n",
              "6   2014  기타배급사    161  92.000000  120038064846  76.802878\n",
              "7   2014  대형배급사     14   8.000000   36255642495  23.197122\n",
              "8   2015  기타배급사    178  93.684211   57501399938  76.127786\n",
              "9   2015  대형배급사     12   6.315789   18031336460  23.872214\n",
              "10  2016  기타배급사    206  94.495413   61154579209  88.849525\n",
              "11  2016  대형배급사     12   5.504587    7674802834  11.150475\n",
              "12  2017  기타배급사    242  93.076923   61830852685  85.570089\n",
              "13  2017  대형배급사     18   6.923077   10426700445  14.429911\n",
              "14  2018  기타배급사    230  94.262295   64266674083  93.655677\n",
              "15  2018  대형배급사     14   5.737705    4353484831   6.344323\n",
              "16  2019  기타배급사    224  94.117647   52394508165  75.379399\n",
              "17  2019  대형배급사     14   5.882353   17113220327  24.620601\n",
              "18  2020  기타배급사    228  99.130435   30633934719  99.224537\n",
              "19  2020  대형배급사      2   0.869565     239411280   0.775463"
            ]
          },
          "metadata": {},
          "execution_count": 179
        }
      ]
    },
    {
      "cell_type": "code",
      "metadata": {
        "colab": {
          "base_uri": "https://localhost:8080/",
          "height": 542
        },
        "id": "DjSYBP7DPjzm",
        "outputId": "50339566-c108-403d-b75e-780c3289d7bc"
      },
      "source": [
        "#배급사 별로 매년 배급 영화 수(비중)이 어떻게 달라지는지 살펴보면 연도 별로 비중 편차가 심한 편이며, 2020년에는 독립 영화 중 1% 이하를 대형 배급사에서 차지했다. \n",
        "fig = px.bar(new_movies_art_agg,\n",
        "             x = \"개봉연도\", \n",
        "             y = \"배급영화수\", \n",
        "            #  text = \"배급영화수\",\n",
        "             title=\"연도 별 배급사에 따른 독립예술 영화 수 추이\", \n",
        "             color = \"배급사구분\", hover_name = \"배급사구분\", \n",
        "             hover_data=[\"배급비중\"], log_x = True)\n",
        "# fig.update_traces(texttemplate='%{text}개', textposition='inside')\n",
        "fig.show()"
      ],
      "execution_count": 180,
      "outputs": [
        {
          "output_type": "display_data",
          "data": {
            "text/html": [
              "<html>\n",
              "<head><meta charset=\"utf-8\" /></head>\n",
              "<body>\n",
              "    <div>            <script src=\"https://cdnjs.cloudflare.com/ajax/libs/mathjax/2.7.5/MathJax.js?config=TeX-AMS-MML_SVG\"></script><script type=\"text/javascript\">if (window.MathJax) {MathJax.Hub.Config({SVG: {font: \"STIX-Web\"}});}</script>                <script type=\"text/javascript\">window.PlotlyConfig = {MathJaxConfig: 'local'};</script>\n",
              "        <script src=\"https://cdn.plot.ly/plotly-2.3.1.min.js\"></script>                <div id=\"c471a930-4c62-4938-904a-b198b38ab32a\" class=\"plotly-graph-div\" style=\"height:525px; width:100%;\"></div>            <script type=\"text/javascript\">                                    window.PLOTLYENV=window.PLOTLYENV || {};                                    if (document.getElementById(\"c471a930-4c62-4938-904a-b198b38ab32a\")) {                    Plotly.newPlot(                        \"c471a930-4c62-4938-904a-b198b38ab32a\",                        [{\"alignmentgroup\":\"True\",\"customdata\":[[90.625],[90.0],[87.35632183908046],[92.0],[93.6842105263158],[94.4954128440367],[93.07692307692308],[94.26229508196722],[94.11764705882352],[99.1304347826087]],\"hovertemplate\":\"<b>%{hovertext}</b><br><br>\\ubc30\\uae09\\uc0ac\\uad6c\\ubd84=\\uae30\\ud0c0\\ubc30\\uae09\\uc0ac<br>\\uac1c\\ubd09\\uc5f0\\ub3c4=%{x}<br>\\ubc30\\uae09\\uc601\\ud654\\uc218=%{y}<br>\\ubc30\\uae09\\ube44\\uc911=%{customdata[0]}<extra></extra>\",\"hovertext\":[\"\\uae30\\ud0c0\\ubc30\\uae09\\uc0ac\",\"\\uae30\\ud0c0\\ubc30\\uae09\\uc0ac\",\"\\uae30\\ud0c0\\ubc30\\uae09\\uc0ac\",\"\\uae30\\ud0c0\\ubc30\\uae09\\uc0ac\",\"\\uae30\\ud0c0\\ubc30\\uae09\\uc0ac\",\"\\uae30\\ud0c0\\ubc30\\uae09\\uc0ac\",\"\\uae30\\ud0c0\\ubc30\\uae09\\uc0ac\",\"\\uae30\\ud0c0\\ubc30\\uae09\\uc0ac\",\"\\uae30\\ud0c0\\ubc30\\uae09\\uc0ac\",\"\\uae30\\ud0c0\\ubc30\\uae09\\uc0ac\"],\"legendgroup\":\"\\uae30\\ud0c0\\ubc30\\uae09\\uc0ac\",\"marker\":{\"color\":\"#636efa\",\"pattern\":{\"shape\":\"\"}},\"name\":\"\\uae30\\ud0c0\\ubc30\\uae09\\uc0ac\",\"offsetgroup\":\"\\uae30\\ud0c0\\ubc30\\uae09\\uc0ac\",\"orientation\":\"v\",\"showlegend\":true,\"textposition\":\"auto\",\"type\":\"bar\",\"x\":[2011,2012,2013,2014,2015,2016,2017,2018,2019,2020],\"xaxis\":\"x\",\"y\":[29,45,76,161,178,206,242,230,224,228],\"yaxis\":\"y\"},{\"alignmentgroup\":\"True\",\"customdata\":[[9.375],[10.0],[12.643678160919542],[8.0],[6.315789473684211],[5.5045871559633035],[6.923076923076923],[5.737704918032787],[5.88235294117647],[0.8695652173913043]],\"hovertemplate\":\"<b>%{hovertext}</b><br><br>\\ubc30\\uae09\\uc0ac\\uad6c\\ubd84=\\ub300\\ud615\\ubc30\\uae09\\uc0ac<br>\\uac1c\\ubd09\\uc5f0\\ub3c4=%{x}<br>\\ubc30\\uae09\\uc601\\ud654\\uc218=%{y}<br>\\ubc30\\uae09\\ube44\\uc911=%{customdata[0]}<extra></extra>\",\"hovertext\":[\"\\ub300\\ud615\\ubc30\\uae09\\uc0ac\",\"\\ub300\\ud615\\ubc30\\uae09\\uc0ac\",\"\\ub300\\ud615\\ubc30\\uae09\\uc0ac\",\"\\ub300\\ud615\\ubc30\\uae09\\uc0ac\",\"\\ub300\\ud615\\ubc30\\uae09\\uc0ac\",\"\\ub300\\ud615\\ubc30\\uae09\\uc0ac\",\"\\ub300\\ud615\\ubc30\\uae09\\uc0ac\",\"\\ub300\\ud615\\ubc30\\uae09\\uc0ac\",\"\\ub300\\ud615\\ubc30\\uae09\\uc0ac\",\"\\ub300\\ud615\\ubc30\\uae09\\uc0ac\"],\"legendgroup\":\"\\ub300\\ud615\\ubc30\\uae09\\uc0ac\",\"marker\":{\"color\":\"#EF553B\",\"pattern\":{\"shape\":\"\"}},\"name\":\"\\ub300\\ud615\\ubc30\\uae09\\uc0ac\",\"offsetgroup\":\"\\ub300\\ud615\\ubc30\\uae09\\uc0ac\",\"orientation\":\"v\",\"showlegend\":true,\"textposition\":\"auto\",\"type\":\"bar\",\"x\":[2011,2012,2013,2014,2015,2016,2017,2018,2019,2020],\"xaxis\":\"x\",\"y\":[3,5,11,14,12,12,18,14,14,2],\"yaxis\":\"y\"}],                        {\"barmode\":\"relative\",\"legend\":{\"title\":{\"text\":\"\\ubc30\\uae09\\uc0ac\\uad6c\\ubd84\"},\"tracegroupgap\":0},\"template\":{\"data\":{\"bar\":[{\"error_x\":{\"color\":\"#2a3f5f\"},\"error_y\":{\"color\":\"#2a3f5f\"},\"marker\":{\"line\":{\"color\":\"#E5ECF6\",\"width\":0.5},\"pattern\":{\"fillmode\":\"overlay\",\"size\":10,\"solidity\":0.2}},\"type\":\"bar\"}],\"barpolar\":[{\"marker\":{\"line\":{\"color\":\"#E5ECF6\",\"width\":0.5},\"pattern\":{\"fillmode\":\"overlay\",\"size\":10,\"solidity\":0.2}},\"type\":\"barpolar\"}],\"carpet\":[{\"aaxis\":{\"endlinecolor\":\"#2a3f5f\",\"gridcolor\":\"white\",\"linecolor\":\"white\",\"minorgridcolor\":\"white\",\"startlinecolor\":\"#2a3f5f\"},\"baxis\":{\"endlinecolor\":\"#2a3f5f\",\"gridcolor\":\"white\",\"linecolor\":\"white\",\"minorgridcolor\":\"white\",\"startlinecolor\":\"#2a3f5f\"},\"type\":\"carpet\"}],\"choropleth\":[{\"colorbar\":{\"outlinewidth\":0,\"ticks\":\"\"},\"type\":\"choropleth\"}],\"contour\":[{\"colorbar\":{\"outlinewidth\":0,\"ticks\":\"\"},\"colorscale\":[[0.0,\"#0d0887\"],[0.1111111111111111,\"#46039f\"],[0.2222222222222222,\"#7201a8\"],[0.3333333333333333,\"#9c179e\"],[0.4444444444444444,\"#bd3786\"],[0.5555555555555556,\"#d8576b\"],[0.6666666666666666,\"#ed7953\"],[0.7777777777777778,\"#fb9f3a\"],[0.8888888888888888,\"#fdca26\"],[1.0,\"#f0f921\"]],\"type\":\"contour\"}],\"contourcarpet\":[{\"colorbar\":{\"outlinewidth\":0,\"ticks\":\"\"},\"type\":\"contourcarpet\"}],\"heatmap\":[{\"colorbar\":{\"outlinewidth\":0,\"ticks\":\"\"},\"colorscale\":[[0.0,\"#0d0887\"],[0.1111111111111111,\"#46039f\"],[0.2222222222222222,\"#7201a8\"],[0.3333333333333333,\"#9c179e\"],[0.4444444444444444,\"#bd3786\"],[0.5555555555555556,\"#d8576b\"],[0.6666666666666666,\"#ed7953\"],[0.7777777777777778,\"#fb9f3a\"],[0.8888888888888888,\"#fdca26\"],[1.0,\"#f0f921\"]],\"type\":\"heatmap\"}],\"heatmapgl\":[{\"colorbar\":{\"outlinewidth\":0,\"ticks\":\"\"},\"colorscale\":[[0.0,\"#0d0887\"],[0.1111111111111111,\"#46039f\"],[0.2222222222222222,\"#7201a8\"],[0.3333333333333333,\"#9c179e\"],[0.4444444444444444,\"#bd3786\"],[0.5555555555555556,\"#d8576b\"],[0.6666666666666666,\"#ed7953\"],[0.7777777777777778,\"#fb9f3a\"],[0.8888888888888888,\"#fdca26\"],[1.0,\"#f0f921\"]],\"type\":\"heatmapgl\"}],\"histogram\":[{\"marker\":{\"pattern\":{\"fillmode\":\"overlay\",\"size\":10,\"solidity\":0.2}},\"type\":\"histogram\"}],\"histogram2d\":[{\"colorbar\":{\"outlinewidth\":0,\"ticks\":\"\"},\"colorscale\":[[0.0,\"#0d0887\"],[0.1111111111111111,\"#46039f\"],[0.2222222222222222,\"#7201a8\"],[0.3333333333333333,\"#9c179e\"],[0.4444444444444444,\"#bd3786\"],[0.5555555555555556,\"#d8576b\"],[0.6666666666666666,\"#ed7953\"],[0.7777777777777778,\"#fb9f3a\"],[0.8888888888888888,\"#fdca26\"],[1.0,\"#f0f921\"]],\"type\":\"histogram2d\"}],\"histogram2dcontour\":[{\"colorbar\":{\"outlinewidth\":0,\"ticks\":\"\"},\"colorscale\":[[0.0,\"#0d0887\"],[0.1111111111111111,\"#46039f\"],[0.2222222222222222,\"#7201a8\"],[0.3333333333333333,\"#9c179e\"],[0.4444444444444444,\"#bd3786\"],[0.5555555555555556,\"#d8576b\"],[0.6666666666666666,\"#ed7953\"],[0.7777777777777778,\"#fb9f3a\"],[0.8888888888888888,\"#fdca26\"],[1.0,\"#f0f921\"]],\"type\":\"histogram2dcontour\"}],\"mesh3d\":[{\"colorbar\":{\"outlinewidth\":0,\"ticks\":\"\"},\"type\":\"mesh3d\"}],\"parcoords\":[{\"line\":{\"colorbar\":{\"outlinewidth\":0,\"ticks\":\"\"}},\"type\":\"parcoords\"}],\"pie\":[{\"automargin\":true,\"type\":\"pie\"}],\"scatter\":[{\"marker\":{\"colorbar\":{\"outlinewidth\":0,\"ticks\":\"\"}},\"type\":\"scatter\"}],\"scatter3d\":[{\"line\":{\"colorbar\":{\"outlinewidth\":0,\"ticks\":\"\"}},\"marker\":{\"colorbar\":{\"outlinewidth\":0,\"ticks\":\"\"}},\"type\":\"scatter3d\"}],\"scattercarpet\":[{\"marker\":{\"colorbar\":{\"outlinewidth\":0,\"ticks\":\"\"}},\"type\":\"scattercarpet\"}],\"scattergeo\":[{\"marker\":{\"colorbar\":{\"outlinewidth\":0,\"ticks\":\"\"}},\"type\":\"scattergeo\"}],\"scattergl\":[{\"marker\":{\"colorbar\":{\"outlinewidth\":0,\"ticks\":\"\"}},\"type\":\"scattergl\"}],\"scattermapbox\":[{\"marker\":{\"colorbar\":{\"outlinewidth\":0,\"ticks\":\"\"}},\"type\":\"scattermapbox\"}],\"scatterpolar\":[{\"marker\":{\"colorbar\":{\"outlinewidth\":0,\"ticks\":\"\"}},\"type\":\"scatterpolar\"}],\"scatterpolargl\":[{\"marker\":{\"colorbar\":{\"outlinewidth\":0,\"ticks\":\"\"}},\"type\":\"scatterpolargl\"}],\"scatterternary\":[{\"marker\":{\"colorbar\":{\"outlinewidth\":0,\"ticks\":\"\"}},\"type\":\"scatterternary\"}],\"surface\":[{\"colorbar\":{\"outlinewidth\":0,\"ticks\":\"\"},\"colorscale\":[[0.0,\"#0d0887\"],[0.1111111111111111,\"#46039f\"],[0.2222222222222222,\"#7201a8\"],[0.3333333333333333,\"#9c179e\"],[0.4444444444444444,\"#bd3786\"],[0.5555555555555556,\"#d8576b\"],[0.6666666666666666,\"#ed7953\"],[0.7777777777777778,\"#fb9f3a\"],[0.8888888888888888,\"#fdca26\"],[1.0,\"#f0f921\"]],\"type\":\"surface\"}],\"table\":[{\"cells\":{\"fill\":{\"color\":\"#EBF0F8\"},\"line\":{\"color\":\"white\"}},\"header\":{\"fill\":{\"color\":\"#C8D4E3\"},\"line\":{\"color\":\"white\"}},\"type\":\"table\"}]},\"layout\":{\"annotationdefaults\":{\"arrowcolor\":\"#2a3f5f\",\"arrowhead\":0,\"arrowwidth\":1},\"autotypenumbers\":\"strict\",\"coloraxis\":{\"colorbar\":{\"outlinewidth\":0,\"ticks\":\"\"}},\"colorscale\":{\"diverging\":[[0,\"#8e0152\"],[0.1,\"#c51b7d\"],[0.2,\"#de77ae\"],[0.3,\"#f1b6da\"],[0.4,\"#fde0ef\"],[0.5,\"#f7f7f7\"],[0.6,\"#e6f5d0\"],[0.7,\"#b8e186\"],[0.8,\"#7fbc41\"],[0.9,\"#4d9221\"],[1,\"#276419\"]],\"sequential\":[[0.0,\"#0d0887\"],[0.1111111111111111,\"#46039f\"],[0.2222222222222222,\"#7201a8\"],[0.3333333333333333,\"#9c179e\"],[0.4444444444444444,\"#bd3786\"],[0.5555555555555556,\"#d8576b\"],[0.6666666666666666,\"#ed7953\"],[0.7777777777777778,\"#fb9f3a\"],[0.8888888888888888,\"#fdca26\"],[1.0,\"#f0f921\"]],\"sequentialminus\":[[0.0,\"#0d0887\"],[0.1111111111111111,\"#46039f\"],[0.2222222222222222,\"#7201a8\"],[0.3333333333333333,\"#9c179e\"],[0.4444444444444444,\"#bd3786\"],[0.5555555555555556,\"#d8576b\"],[0.6666666666666666,\"#ed7953\"],[0.7777777777777778,\"#fb9f3a\"],[0.8888888888888888,\"#fdca26\"],[1.0,\"#f0f921\"]]},\"colorway\":[\"#636efa\",\"#EF553B\",\"#00cc96\",\"#ab63fa\",\"#FFA15A\",\"#19d3f3\",\"#FF6692\",\"#B6E880\",\"#FF97FF\",\"#FECB52\"],\"font\":{\"color\":\"#2a3f5f\"},\"geo\":{\"bgcolor\":\"white\",\"lakecolor\":\"white\",\"landcolor\":\"#E5ECF6\",\"showlakes\":true,\"showland\":true,\"subunitcolor\":\"white\"},\"hoverlabel\":{\"align\":\"left\"},\"hovermode\":\"closest\",\"mapbox\":{\"style\":\"light\"},\"paper_bgcolor\":\"white\",\"plot_bgcolor\":\"#E5ECF6\",\"polar\":{\"angularaxis\":{\"gridcolor\":\"white\",\"linecolor\":\"white\",\"ticks\":\"\"},\"bgcolor\":\"#E5ECF6\",\"radialaxis\":{\"gridcolor\":\"white\",\"linecolor\":\"white\",\"ticks\":\"\"}},\"scene\":{\"xaxis\":{\"backgroundcolor\":\"#E5ECF6\",\"gridcolor\":\"white\",\"gridwidth\":2,\"linecolor\":\"white\",\"showbackground\":true,\"ticks\":\"\",\"zerolinecolor\":\"white\"},\"yaxis\":{\"backgroundcolor\":\"#E5ECF6\",\"gridcolor\":\"white\",\"gridwidth\":2,\"linecolor\":\"white\",\"showbackground\":true,\"ticks\":\"\",\"zerolinecolor\":\"white\"},\"zaxis\":{\"backgroundcolor\":\"#E5ECF6\",\"gridcolor\":\"white\",\"gridwidth\":2,\"linecolor\":\"white\",\"showbackground\":true,\"ticks\":\"\",\"zerolinecolor\":\"white\"}},\"shapedefaults\":{\"line\":{\"color\":\"#2a3f5f\"}},\"ternary\":{\"aaxis\":{\"gridcolor\":\"white\",\"linecolor\":\"white\",\"ticks\":\"\"},\"baxis\":{\"gridcolor\":\"white\",\"linecolor\":\"white\",\"ticks\":\"\"},\"bgcolor\":\"#E5ECF6\",\"caxis\":{\"gridcolor\":\"white\",\"linecolor\":\"white\",\"ticks\":\"\"}},\"title\":{\"x\":0.05},\"xaxis\":{\"automargin\":true,\"gridcolor\":\"white\",\"linecolor\":\"white\",\"ticks\":\"\",\"title\":{\"standoff\":15},\"zerolinecolor\":\"white\",\"zerolinewidth\":2},\"yaxis\":{\"automargin\":true,\"gridcolor\":\"white\",\"linecolor\":\"white\",\"ticks\":\"\",\"title\":{\"standoff\":15},\"zerolinecolor\":\"white\",\"zerolinewidth\":2}}},\"title\":{\"text\":\"\\uc5f0\\ub3c4 \\ubcc4 \\ubc30\\uae09\\uc0ac\\uc5d0 \\ub530\\ub978 \\ub3c5\\ub9bd\\uc608\\uc220 \\uc601\\ud654 \\uc218 \\ucd94\\uc774\"},\"xaxis\":{\"anchor\":\"y\",\"domain\":[0.0,1.0],\"title\":{\"text\":\"\\uac1c\\ubd09\\uc5f0\\ub3c4\"},\"type\":\"log\"},\"yaxis\":{\"anchor\":\"x\",\"domain\":[0.0,1.0],\"title\":{\"text\":\"\\ubc30\\uae09\\uc601\\ud654\\uc218\"}}},                        {\"responsive\": true}                    ).then(function(){\n",
              "                            \n",
              "var gd = document.getElementById('c471a930-4c62-4938-904a-b198b38ab32a');\n",
              "var x = new MutationObserver(function (mutations, observer) {{\n",
              "        var display = window.getComputedStyle(gd).display;\n",
              "        if (!display || display === 'none') {{\n",
              "            console.log([gd, 'removed!']);\n",
              "            Plotly.purge(gd);\n",
              "            observer.disconnect();\n",
              "        }}\n",
              "}});\n",
              "\n",
              "// Listen for the removal of the full notebook cells\n",
              "var notebookContainer = gd.closest('#notebook-container');\n",
              "if (notebookContainer) {{\n",
              "    x.observe(notebookContainer, {childList: true});\n",
              "}}\n",
              "\n",
              "// Listen for the clearing of the current output cell\n",
              "var outputEl = gd.closest('.output');\n",
              "if (outputEl) {{\n",
              "    x.observe(outputEl, {childList: true});\n",
              "}}\n",
              "\n",
              "                        })                };                            </script>        </div>\n",
              "</body>\n",
              "</html>"
            ]
          },
          "metadata": {}
        }
      ]
    },
    {
      "cell_type": "code",
      "metadata": {
        "colab": {
          "base_uri": "https://localhost:8080/",
          "height": 542
        },
        "id": "QU9KkF-9Q8sK",
        "outputId": "06673a6a-efa5-420b-c59a-0fd2ab29053d"
      },
      "source": [
        "#배급사 별로 매년 배급 영화의 매출액을 비교하였으나, 매출액 비중에서의 추이 규칙성을 찾을 수 없었음 \n",
        "fig = px.bar(new_movies_art_agg,\n",
        "             x = \"개봉연도\", \n",
        "             y = \"배급사매출액\", \n",
        "            #  text = \"배급사매출액\",\n",
        "             title=\"연도 별 배급사에 따른 독립예술 영화 매출 추이\", \n",
        "             color = \"배급사구분\", hover_name = \"배급사구분\", \n",
        "             hover_data=[\"매출액비중\"], log_x = True)\n",
        "# fig.update_traces(texttemplate='%{text}원', textposition='inside')\n",
        "fig.show()"
      ],
      "execution_count": 181,
      "outputs": [
        {
          "output_type": "display_data",
          "data": {
            "text/html": [
              "<html>\n",
              "<head><meta charset=\"utf-8\" /></head>\n",
              "<body>\n",
              "    <div>            <script src=\"https://cdnjs.cloudflare.com/ajax/libs/mathjax/2.7.5/MathJax.js?config=TeX-AMS-MML_SVG\"></script><script type=\"text/javascript\">if (window.MathJax) {MathJax.Hub.Config({SVG: {font: \"STIX-Web\"}});}</script>                <script type=\"text/javascript\">window.PlotlyConfig = {MathJaxConfig: 'local'};</script>\n",
              "        <script src=\"https://cdn.plot.ly/plotly-2.3.1.min.js\"></script>                <div id=\"e00e414a-5c91-4f25-b685-8c87445afacc\" class=\"plotly-graph-div\" style=\"height:525px; width:100%;\"></div>            <script type=\"text/javascript\">                                    window.PLOTLYENV=window.PLOTLYENV || {};                                    if (document.getElementById(\"e00e414a-5c91-4f25-b685-8c87445afacc\")) {                    Plotly.newPlot(                        \"e00e414a-5c91-4f25-b685-8c87445afacc\",                        [{\"alignmentgroup\":\"True\",\"customdata\":[[49.00178710784691],[83.28099127442015],[95.29425430771977],[76.80287766423135],[76.12778601719315],[88.84952529545406],[85.5700892248024],[93.65567655350941],[75.37939924339543],[99.22453730798159]],\"hovertemplate\":\"<b>%{hovertext}</b><br><br>\\ubc30\\uae09\\uc0ac\\uad6c\\ubd84=\\uae30\\ud0c0\\ubc30\\uae09\\uc0ac<br>\\uac1c\\ubd09\\uc5f0\\ub3c4=%{x}<br>\\ubc30\\uae09\\uc0ac\\ub9e4\\ucd9c\\uc561=%{y}<br>\\ub9e4\\ucd9c\\uc561\\ube44\\uc911=%{customdata[0]}<extra></extra>\",\"hovertext\":[\"\\uae30\\ud0c0\\ubc30\\uae09\\uc0ac\",\"\\uae30\\ud0c0\\ubc30\\uae09\\uc0ac\",\"\\uae30\\ud0c0\\ubc30\\uae09\\uc0ac\",\"\\uae30\\ud0c0\\ubc30\\uae09\\uc0ac\",\"\\uae30\\ud0c0\\ubc30\\uae09\\uc0ac\",\"\\uae30\\ud0c0\\ubc30\\uae09\\uc0ac\",\"\\uae30\\ud0c0\\ubc30\\uae09\\uc0ac\",\"\\uae30\\ud0c0\\ubc30\\uae09\\uc0ac\",\"\\uae30\\ud0c0\\ubc30\\uae09\\uc0ac\",\"\\uae30\\ud0c0\\ubc30\\uae09\\uc0ac\"],\"legendgroup\":\"\\uae30\\ud0c0\\ubc30\\uae09\\uc0ac\",\"marker\":{\"color\":\"#636efa\",\"pattern\":{\"shape\":\"\"}},\"name\":\"\\uae30\\ud0c0\\ubc30\\uae09\\uc0ac\",\"offsetgroup\":\"\\uae30\\ud0c0\\ubc30\\uae09\\uc0ac\",\"orientation\":\"v\",\"showlegend\":true,\"textposition\":\"auto\",\"type\":\"bar\",\"x\":[2011,2012,2013,2014,2015,2016,2017,2018,2019,2020],\"xaxis\":\"x\",\"y\":[13400617900,26211994507,50213777342,120038064846,57501399938,61154579209,61830852685,64266674083,52394508165,30633934719],\"yaxis\":\"y\"},{\"alignmentgroup\":\"True\",\"customdata\":[[50.99821289215309],[16.719008725579855],[4.705745692280228],[23.197122335768654],[23.872213982806855],[11.150474704545939],[14.4299107751976],[6.344323446490583],[24.620600756604567],[0.7754626920183988]],\"hovertemplate\":\"<b>%{hovertext}</b><br><br>\\ubc30\\uae09\\uc0ac\\uad6c\\ubd84=\\ub300\\ud615\\ubc30\\uae09\\uc0ac<br>\\uac1c\\ubd09\\uc5f0\\ub3c4=%{x}<br>\\ubc30\\uae09\\uc0ac\\ub9e4\\ucd9c\\uc561=%{y}<br>\\ub9e4\\ucd9c\\uc561\\ube44\\uc911=%{customdata[0]}<extra></extra>\",\"hovertext\":[\"\\ub300\\ud615\\ubc30\\uae09\\uc0ac\",\"\\ub300\\ud615\\ubc30\\uae09\\uc0ac\",\"\\ub300\\ud615\\ubc30\\uae09\\uc0ac\",\"\\ub300\\ud615\\ubc30\\uae09\\uc0ac\",\"\\ub300\\ud615\\ubc30\\uae09\\uc0ac\",\"\\ub300\\ud615\\ubc30\\uae09\\uc0ac\",\"\\ub300\\ud615\\ubc30\\uae09\\uc0ac\",\"\\ub300\\ud615\\ubc30\\uae09\\uc0ac\",\"\\ub300\\ud615\\ubc30\\uae09\\uc0ac\",\"\\ub300\\ud615\\ubc30\\uae09\\uc0ac\"],\"legendgroup\":\"\\ub300\\ud615\\ubc30\\uae09\\uc0ac\",\"marker\":{\"color\":\"#EF553B\",\"pattern\":{\"shape\":\"\"}},\"name\":\"\\ub300\\ud615\\ubc30\\uae09\\uc0ac\",\"offsetgroup\":\"\\ub300\\ud615\\ubc30\\uae09\\uc0ac\",\"orientation\":\"v\",\"showlegend\":true,\"textposition\":\"auto\",\"type\":\"bar\",\"x\":[2011,2012,2013,2014,2015,2016,2017,2018,2019,2020],\"xaxis\":\"x\",\"y\":[13946584500,5262167971,2479617141,36255642495,18031336460,7674802834,10426700445,4353484831,17113220327,239411280],\"yaxis\":\"y\"}],                        {\"barmode\":\"relative\",\"legend\":{\"title\":{\"text\":\"\\ubc30\\uae09\\uc0ac\\uad6c\\ubd84\"},\"tracegroupgap\":0},\"template\":{\"data\":{\"bar\":[{\"error_x\":{\"color\":\"#2a3f5f\"},\"error_y\":{\"color\":\"#2a3f5f\"},\"marker\":{\"line\":{\"color\":\"#E5ECF6\",\"width\":0.5},\"pattern\":{\"fillmode\":\"overlay\",\"size\":10,\"solidity\":0.2}},\"type\":\"bar\"}],\"barpolar\":[{\"marker\":{\"line\":{\"color\":\"#E5ECF6\",\"width\":0.5},\"pattern\":{\"fillmode\":\"overlay\",\"size\":10,\"solidity\":0.2}},\"type\":\"barpolar\"}],\"carpet\":[{\"aaxis\":{\"endlinecolor\":\"#2a3f5f\",\"gridcolor\":\"white\",\"linecolor\":\"white\",\"minorgridcolor\":\"white\",\"startlinecolor\":\"#2a3f5f\"},\"baxis\":{\"endlinecolor\":\"#2a3f5f\",\"gridcolor\":\"white\",\"linecolor\":\"white\",\"minorgridcolor\":\"white\",\"startlinecolor\":\"#2a3f5f\"},\"type\":\"carpet\"}],\"choropleth\":[{\"colorbar\":{\"outlinewidth\":0,\"ticks\":\"\"},\"type\":\"choropleth\"}],\"contour\":[{\"colorbar\":{\"outlinewidth\":0,\"ticks\":\"\"},\"colorscale\":[[0.0,\"#0d0887\"],[0.1111111111111111,\"#46039f\"],[0.2222222222222222,\"#7201a8\"],[0.3333333333333333,\"#9c179e\"],[0.4444444444444444,\"#bd3786\"],[0.5555555555555556,\"#d8576b\"],[0.6666666666666666,\"#ed7953\"],[0.7777777777777778,\"#fb9f3a\"],[0.8888888888888888,\"#fdca26\"],[1.0,\"#f0f921\"]],\"type\":\"contour\"}],\"contourcarpet\":[{\"colorbar\":{\"outlinewidth\":0,\"ticks\":\"\"},\"type\":\"contourcarpet\"}],\"heatmap\":[{\"colorbar\":{\"outlinewidth\":0,\"ticks\":\"\"},\"colorscale\":[[0.0,\"#0d0887\"],[0.1111111111111111,\"#46039f\"],[0.2222222222222222,\"#7201a8\"],[0.3333333333333333,\"#9c179e\"],[0.4444444444444444,\"#bd3786\"],[0.5555555555555556,\"#d8576b\"],[0.6666666666666666,\"#ed7953\"],[0.7777777777777778,\"#fb9f3a\"],[0.8888888888888888,\"#fdca26\"],[1.0,\"#f0f921\"]],\"type\":\"heatmap\"}],\"heatmapgl\":[{\"colorbar\":{\"outlinewidth\":0,\"ticks\":\"\"},\"colorscale\":[[0.0,\"#0d0887\"],[0.1111111111111111,\"#46039f\"],[0.2222222222222222,\"#7201a8\"],[0.3333333333333333,\"#9c179e\"],[0.4444444444444444,\"#bd3786\"],[0.5555555555555556,\"#d8576b\"],[0.6666666666666666,\"#ed7953\"],[0.7777777777777778,\"#fb9f3a\"],[0.8888888888888888,\"#fdca26\"],[1.0,\"#f0f921\"]],\"type\":\"heatmapgl\"}],\"histogram\":[{\"marker\":{\"pattern\":{\"fillmode\":\"overlay\",\"size\":10,\"solidity\":0.2}},\"type\":\"histogram\"}],\"histogram2d\":[{\"colorbar\":{\"outlinewidth\":0,\"ticks\":\"\"},\"colorscale\":[[0.0,\"#0d0887\"],[0.1111111111111111,\"#46039f\"],[0.2222222222222222,\"#7201a8\"],[0.3333333333333333,\"#9c179e\"],[0.4444444444444444,\"#bd3786\"],[0.5555555555555556,\"#d8576b\"],[0.6666666666666666,\"#ed7953\"],[0.7777777777777778,\"#fb9f3a\"],[0.8888888888888888,\"#fdca26\"],[1.0,\"#f0f921\"]],\"type\":\"histogram2d\"}],\"histogram2dcontour\":[{\"colorbar\":{\"outlinewidth\":0,\"ticks\":\"\"},\"colorscale\":[[0.0,\"#0d0887\"],[0.1111111111111111,\"#46039f\"],[0.2222222222222222,\"#7201a8\"],[0.3333333333333333,\"#9c179e\"],[0.4444444444444444,\"#bd3786\"],[0.5555555555555556,\"#d8576b\"],[0.6666666666666666,\"#ed7953\"],[0.7777777777777778,\"#fb9f3a\"],[0.8888888888888888,\"#fdca26\"],[1.0,\"#f0f921\"]],\"type\":\"histogram2dcontour\"}],\"mesh3d\":[{\"colorbar\":{\"outlinewidth\":0,\"ticks\":\"\"},\"type\":\"mesh3d\"}],\"parcoords\":[{\"line\":{\"colorbar\":{\"outlinewidth\":0,\"ticks\":\"\"}},\"type\":\"parcoords\"}],\"pie\":[{\"automargin\":true,\"type\":\"pie\"}],\"scatter\":[{\"marker\":{\"colorbar\":{\"outlinewidth\":0,\"ticks\":\"\"}},\"type\":\"scatter\"}],\"scatter3d\":[{\"line\":{\"colorbar\":{\"outlinewidth\":0,\"ticks\":\"\"}},\"marker\":{\"colorbar\":{\"outlinewidth\":0,\"ticks\":\"\"}},\"type\":\"scatter3d\"}],\"scattercarpet\":[{\"marker\":{\"colorbar\":{\"outlinewidth\":0,\"ticks\":\"\"}},\"type\":\"scattercarpet\"}],\"scattergeo\":[{\"marker\":{\"colorbar\":{\"outlinewidth\":0,\"ticks\":\"\"}},\"type\":\"scattergeo\"}],\"scattergl\":[{\"marker\":{\"colorbar\":{\"outlinewidth\":0,\"ticks\":\"\"}},\"type\":\"scattergl\"}],\"scattermapbox\":[{\"marker\":{\"colorbar\":{\"outlinewidth\":0,\"ticks\":\"\"}},\"type\":\"scattermapbox\"}],\"scatterpolar\":[{\"marker\":{\"colorbar\":{\"outlinewidth\":0,\"ticks\":\"\"}},\"type\":\"scatterpolar\"}],\"scatterpolargl\":[{\"marker\":{\"colorbar\":{\"outlinewidth\":0,\"ticks\":\"\"}},\"type\":\"scatterpolargl\"}],\"scatterternary\":[{\"marker\":{\"colorbar\":{\"outlinewidth\":0,\"ticks\":\"\"}},\"type\":\"scatterternary\"}],\"surface\":[{\"colorbar\":{\"outlinewidth\":0,\"ticks\":\"\"},\"colorscale\":[[0.0,\"#0d0887\"],[0.1111111111111111,\"#46039f\"],[0.2222222222222222,\"#7201a8\"],[0.3333333333333333,\"#9c179e\"],[0.4444444444444444,\"#bd3786\"],[0.5555555555555556,\"#d8576b\"],[0.6666666666666666,\"#ed7953\"],[0.7777777777777778,\"#fb9f3a\"],[0.8888888888888888,\"#fdca26\"],[1.0,\"#f0f921\"]],\"type\":\"surface\"}],\"table\":[{\"cells\":{\"fill\":{\"color\":\"#EBF0F8\"},\"line\":{\"color\":\"white\"}},\"header\":{\"fill\":{\"color\":\"#C8D4E3\"},\"line\":{\"color\":\"white\"}},\"type\":\"table\"}]},\"layout\":{\"annotationdefaults\":{\"arrowcolor\":\"#2a3f5f\",\"arrowhead\":0,\"arrowwidth\":1},\"autotypenumbers\":\"strict\",\"coloraxis\":{\"colorbar\":{\"outlinewidth\":0,\"ticks\":\"\"}},\"colorscale\":{\"diverging\":[[0,\"#8e0152\"],[0.1,\"#c51b7d\"],[0.2,\"#de77ae\"],[0.3,\"#f1b6da\"],[0.4,\"#fde0ef\"],[0.5,\"#f7f7f7\"],[0.6,\"#e6f5d0\"],[0.7,\"#b8e186\"],[0.8,\"#7fbc41\"],[0.9,\"#4d9221\"],[1,\"#276419\"]],\"sequential\":[[0.0,\"#0d0887\"],[0.1111111111111111,\"#46039f\"],[0.2222222222222222,\"#7201a8\"],[0.3333333333333333,\"#9c179e\"],[0.4444444444444444,\"#bd3786\"],[0.5555555555555556,\"#d8576b\"],[0.6666666666666666,\"#ed7953\"],[0.7777777777777778,\"#fb9f3a\"],[0.8888888888888888,\"#fdca26\"],[1.0,\"#f0f921\"]],\"sequentialminus\":[[0.0,\"#0d0887\"],[0.1111111111111111,\"#46039f\"],[0.2222222222222222,\"#7201a8\"],[0.3333333333333333,\"#9c179e\"],[0.4444444444444444,\"#bd3786\"],[0.5555555555555556,\"#d8576b\"],[0.6666666666666666,\"#ed7953\"],[0.7777777777777778,\"#fb9f3a\"],[0.8888888888888888,\"#fdca26\"],[1.0,\"#f0f921\"]]},\"colorway\":[\"#636efa\",\"#EF553B\",\"#00cc96\",\"#ab63fa\",\"#FFA15A\",\"#19d3f3\",\"#FF6692\",\"#B6E880\",\"#FF97FF\",\"#FECB52\"],\"font\":{\"color\":\"#2a3f5f\"},\"geo\":{\"bgcolor\":\"white\",\"lakecolor\":\"white\",\"landcolor\":\"#E5ECF6\",\"showlakes\":true,\"showland\":true,\"subunitcolor\":\"white\"},\"hoverlabel\":{\"align\":\"left\"},\"hovermode\":\"closest\",\"mapbox\":{\"style\":\"light\"},\"paper_bgcolor\":\"white\",\"plot_bgcolor\":\"#E5ECF6\",\"polar\":{\"angularaxis\":{\"gridcolor\":\"white\",\"linecolor\":\"white\",\"ticks\":\"\"},\"bgcolor\":\"#E5ECF6\",\"radialaxis\":{\"gridcolor\":\"white\",\"linecolor\":\"white\",\"ticks\":\"\"}},\"scene\":{\"xaxis\":{\"backgroundcolor\":\"#E5ECF6\",\"gridcolor\":\"white\",\"gridwidth\":2,\"linecolor\":\"white\",\"showbackground\":true,\"ticks\":\"\",\"zerolinecolor\":\"white\"},\"yaxis\":{\"backgroundcolor\":\"#E5ECF6\",\"gridcolor\":\"white\",\"gridwidth\":2,\"linecolor\":\"white\",\"showbackground\":true,\"ticks\":\"\",\"zerolinecolor\":\"white\"},\"zaxis\":{\"backgroundcolor\":\"#E5ECF6\",\"gridcolor\":\"white\",\"gridwidth\":2,\"linecolor\":\"white\",\"showbackground\":true,\"ticks\":\"\",\"zerolinecolor\":\"white\"}},\"shapedefaults\":{\"line\":{\"color\":\"#2a3f5f\"}},\"ternary\":{\"aaxis\":{\"gridcolor\":\"white\",\"linecolor\":\"white\",\"ticks\":\"\"},\"baxis\":{\"gridcolor\":\"white\",\"linecolor\":\"white\",\"ticks\":\"\"},\"bgcolor\":\"#E5ECF6\",\"caxis\":{\"gridcolor\":\"white\",\"linecolor\":\"white\",\"ticks\":\"\"}},\"title\":{\"x\":0.05},\"xaxis\":{\"automargin\":true,\"gridcolor\":\"white\",\"linecolor\":\"white\",\"ticks\":\"\",\"title\":{\"standoff\":15},\"zerolinecolor\":\"white\",\"zerolinewidth\":2},\"yaxis\":{\"automargin\":true,\"gridcolor\":\"white\",\"linecolor\":\"white\",\"ticks\":\"\",\"title\":{\"standoff\":15},\"zerolinecolor\":\"white\",\"zerolinewidth\":2}}},\"title\":{\"text\":\"\\uc5f0\\ub3c4 \\ubcc4 \\ubc30\\uae09\\uc0ac\\uc5d0 \\ub530\\ub978 \\ub3c5\\ub9bd\\uc608\\uc220 \\uc601\\ud654 \\ub9e4\\ucd9c \\ucd94\\uc774\"},\"xaxis\":{\"anchor\":\"y\",\"domain\":[0.0,1.0],\"title\":{\"text\":\"\\uac1c\\ubd09\\uc5f0\\ub3c4\"},\"type\":\"log\"},\"yaxis\":{\"anchor\":\"x\",\"domain\":[0.0,1.0],\"title\":{\"text\":\"\\ubc30\\uae09\\uc0ac\\ub9e4\\ucd9c\\uc561\"}}},                        {\"responsive\": true}                    ).then(function(){\n",
              "                            \n",
              "var gd = document.getElementById('e00e414a-5c91-4f25-b685-8c87445afacc');\n",
              "var x = new MutationObserver(function (mutations, observer) {{\n",
              "        var display = window.getComputedStyle(gd).display;\n",
              "        if (!display || display === 'none') {{\n",
              "            console.log([gd, 'removed!']);\n",
              "            Plotly.purge(gd);\n",
              "            observer.disconnect();\n",
              "        }}\n",
              "}});\n",
              "\n",
              "// Listen for the removal of the full notebook cells\n",
              "var notebookContainer = gd.closest('#notebook-container');\n",
              "if (notebookContainer) {{\n",
              "    x.observe(notebookContainer, {childList: true});\n",
              "}}\n",
              "\n",
              "// Listen for the clearing of the current output cell\n",
              "var outputEl = gd.closest('.output');\n",
              "if (outputEl) {{\n",
              "    x.observe(outputEl, {childList: true});\n",
              "}}\n",
              "\n",
              "                        })                };                            </script>        </div>\n",
              "</body>\n",
              "</html>"
            ]
          },
          "metadata": {}
        }
      ]
    },
    {
      "cell_type": "code",
      "metadata": {
        "colab": {
          "base_uri": "https://localhost:8080/",
          "height": 542
        },
        "id": "cKuZ0bBBWI4p",
        "outputId": "51b24aa8-806c-47c6-eddc-0723a7527c8c"
      },
      "source": [
        "# 대형 배급사의 파이에서 CJ 계열이 얼마나 많은 영향력을 행사했는지 확인해봤다. \n",
        "# 영화 편수를 봤을 때 CJ계열이 차지하는 비중은 60%로 과반수 이상을 차지하는 것을 확인할 수 있다. 특히 이 중 CGV아트하우스는 전채 편수의 49.5%를 담당했다. \n",
        "new_movies_art_big5 = new_movies_art[new_movies_art['배급사구분']=='대형배급사']\n",
        "new_movies_art_big5_count_tot = new_movies_art_big5.groupby('배급사').size().reset_index(name='배급영화수')\n",
        "\n",
        "\n",
        "fig = px.pie(new_movies_art_big5_count_tot, values='배급영화수', names='배급사',\n",
        "             color_discrete_sequence=px.colors.sequential.Magenta_r,\n",
        "             hole=.3,\n",
        "             title='2011년~2020년간 제작된 독립예술영화의 배급사 구분 별 배급편수 비중')\n",
        "fig.update_traces(textposition='inside', textinfo='percent+label')\n",
        "fig.show()"
      ],
      "execution_count": 182,
      "outputs": [
        {
          "output_type": "display_data",
          "data": {
            "text/html": [
              "<html>\n",
              "<head><meta charset=\"utf-8\" /></head>\n",
              "<body>\n",
              "    <div>            <script src=\"https://cdnjs.cloudflare.com/ajax/libs/mathjax/2.7.5/MathJax.js?config=TeX-AMS-MML_SVG\"></script><script type=\"text/javascript\">if (window.MathJax) {MathJax.Hub.Config({SVG: {font: \"STIX-Web\"}});}</script>                <script type=\"text/javascript\">window.PlotlyConfig = {MathJaxConfig: 'local'};</script>\n",
              "        <script src=\"https://cdn.plot.ly/plotly-2.3.1.min.js\"></script>                <div id=\"c6e171d3-0641-4f3e-96b6-14d70a336fd4\" class=\"plotly-graph-div\" style=\"height:525px; width:100%;\"></div>            <script type=\"text/javascript\">                                    window.PLOTLYENV=window.PLOTLYENV || {};                                    if (document.getElementById(\"c6e171d3-0641-4f3e-96b6-14d70a336fd4\")) {                    Plotly.newPlot(                        \"c6e171d3-0641-4f3e-96b6-14d70a336fd4\",                        [{\"domain\":{\"x\":[0.0,1.0],\"y\":[0.0,1.0]},\"hole\":0.3,\"hovertemplate\":\"\\ubc30\\uae09\\uc0ac=%{label}<br>\\ubc30\\uae09\\uc601\\ud654\\uc218=%{value}<extra></extra>\",\"labels\":[\"(\\uc8fc)\\ub125\\uc2a4\\ud2b8\\uc5d4\\ud130\\ud14c\\uc778\\uba3c\\ud2b8\\uc6d4\\ub4dc(NEW)\",\"(\\uc8fc)\\uc1fc\\ubc15\\uc2a4\",\"(\\uc8fc)\\uc528\\uc81c\\uc774\\uc774\\uc5d4\\uc5e0\",\"CGV\\uc544\\ud2b8\\ud558\\uc6b0\\uc2a4\",\"\\ub86f\\ub370\\uc1fc\\ud551\\u321c\\ub86f\\ub370\\uc5d4\\ud130\\ud14c\\uc778\\uba3c\\ud2b8\",\"\\ub86f\\ub370\\uceec\\ucc98\\uc6cd\\uc2a4(\\uc8fc)\\ub86f\\ub370\\uc5d4\\ud130\\ud14c\\uc778\\uba3c\\ud2b8\"],\"legendgroup\":\"\",\"name\":\"\",\"showlegend\":true,\"textinfo\":\"percent+label\",\"textposition\":\"inside\",\"type\":\"pie\",\"values\":[20,2,11,52,14,6]}],                        {\"legend\":{\"tracegroupgap\":0},\"piecolorway\":[\"rgb(108, 33, 103)\",\"rgb(145, 53, 125)\",\"rgb(177, 77, 142)\",\"rgb(202, 105, 157)\",\"rgb(221, 136, 172)\",\"rgb(234, 169, 189)\",\"rgb(243, 203, 211)\"],\"template\":{\"data\":{\"bar\":[{\"error_x\":{\"color\":\"#2a3f5f\"},\"error_y\":{\"color\":\"#2a3f5f\"},\"marker\":{\"line\":{\"color\":\"#E5ECF6\",\"width\":0.5},\"pattern\":{\"fillmode\":\"overlay\",\"size\":10,\"solidity\":0.2}},\"type\":\"bar\"}],\"barpolar\":[{\"marker\":{\"line\":{\"color\":\"#E5ECF6\",\"width\":0.5},\"pattern\":{\"fillmode\":\"overlay\",\"size\":10,\"solidity\":0.2}},\"type\":\"barpolar\"}],\"carpet\":[{\"aaxis\":{\"endlinecolor\":\"#2a3f5f\",\"gridcolor\":\"white\",\"linecolor\":\"white\",\"minorgridcolor\":\"white\",\"startlinecolor\":\"#2a3f5f\"},\"baxis\":{\"endlinecolor\":\"#2a3f5f\",\"gridcolor\":\"white\",\"linecolor\":\"white\",\"minorgridcolor\":\"white\",\"startlinecolor\":\"#2a3f5f\"},\"type\":\"carpet\"}],\"choropleth\":[{\"colorbar\":{\"outlinewidth\":0,\"ticks\":\"\"},\"type\":\"choropleth\"}],\"contour\":[{\"colorbar\":{\"outlinewidth\":0,\"ticks\":\"\"},\"colorscale\":[[0.0,\"#0d0887\"],[0.1111111111111111,\"#46039f\"],[0.2222222222222222,\"#7201a8\"],[0.3333333333333333,\"#9c179e\"],[0.4444444444444444,\"#bd3786\"],[0.5555555555555556,\"#d8576b\"],[0.6666666666666666,\"#ed7953\"],[0.7777777777777778,\"#fb9f3a\"],[0.8888888888888888,\"#fdca26\"],[1.0,\"#f0f921\"]],\"type\":\"contour\"}],\"contourcarpet\":[{\"colorbar\":{\"outlinewidth\":0,\"ticks\":\"\"},\"type\":\"contourcarpet\"}],\"heatmap\":[{\"colorbar\":{\"outlinewidth\":0,\"ticks\":\"\"},\"colorscale\":[[0.0,\"#0d0887\"],[0.1111111111111111,\"#46039f\"],[0.2222222222222222,\"#7201a8\"],[0.3333333333333333,\"#9c179e\"],[0.4444444444444444,\"#bd3786\"],[0.5555555555555556,\"#d8576b\"],[0.6666666666666666,\"#ed7953\"],[0.7777777777777778,\"#fb9f3a\"],[0.8888888888888888,\"#fdca26\"],[1.0,\"#f0f921\"]],\"type\":\"heatmap\"}],\"heatmapgl\":[{\"colorbar\":{\"outlinewidth\":0,\"ticks\":\"\"},\"colorscale\":[[0.0,\"#0d0887\"],[0.1111111111111111,\"#46039f\"],[0.2222222222222222,\"#7201a8\"],[0.3333333333333333,\"#9c179e\"],[0.4444444444444444,\"#bd3786\"],[0.5555555555555556,\"#d8576b\"],[0.6666666666666666,\"#ed7953\"],[0.7777777777777778,\"#fb9f3a\"],[0.8888888888888888,\"#fdca26\"],[1.0,\"#f0f921\"]],\"type\":\"heatmapgl\"}],\"histogram\":[{\"marker\":{\"pattern\":{\"fillmode\":\"overlay\",\"size\":10,\"solidity\":0.2}},\"type\":\"histogram\"}],\"histogram2d\":[{\"colorbar\":{\"outlinewidth\":0,\"ticks\":\"\"},\"colorscale\":[[0.0,\"#0d0887\"],[0.1111111111111111,\"#46039f\"],[0.2222222222222222,\"#7201a8\"],[0.3333333333333333,\"#9c179e\"],[0.4444444444444444,\"#bd3786\"],[0.5555555555555556,\"#d8576b\"],[0.6666666666666666,\"#ed7953\"],[0.7777777777777778,\"#fb9f3a\"],[0.8888888888888888,\"#fdca26\"],[1.0,\"#f0f921\"]],\"type\":\"histogram2d\"}],\"histogram2dcontour\":[{\"colorbar\":{\"outlinewidth\":0,\"ticks\":\"\"},\"colorscale\":[[0.0,\"#0d0887\"],[0.1111111111111111,\"#46039f\"],[0.2222222222222222,\"#7201a8\"],[0.3333333333333333,\"#9c179e\"],[0.4444444444444444,\"#bd3786\"],[0.5555555555555556,\"#d8576b\"],[0.6666666666666666,\"#ed7953\"],[0.7777777777777778,\"#fb9f3a\"],[0.8888888888888888,\"#fdca26\"],[1.0,\"#f0f921\"]],\"type\":\"histogram2dcontour\"}],\"mesh3d\":[{\"colorbar\":{\"outlinewidth\":0,\"ticks\":\"\"},\"type\":\"mesh3d\"}],\"parcoords\":[{\"line\":{\"colorbar\":{\"outlinewidth\":0,\"ticks\":\"\"}},\"type\":\"parcoords\"}],\"pie\":[{\"automargin\":true,\"type\":\"pie\"}],\"scatter\":[{\"marker\":{\"colorbar\":{\"outlinewidth\":0,\"ticks\":\"\"}},\"type\":\"scatter\"}],\"scatter3d\":[{\"line\":{\"colorbar\":{\"outlinewidth\":0,\"ticks\":\"\"}},\"marker\":{\"colorbar\":{\"outlinewidth\":0,\"ticks\":\"\"}},\"type\":\"scatter3d\"}],\"scattercarpet\":[{\"marker\":{\"colorbar\":{\"outlinewidth\":0,\"ticks\":\"\"}},\"type\":\"scattercarpet\"}],\"scattergeo\":[{\"marker\":{\"colorbar\":{\"outlinewidth\":0,\"ticks\":\"\"}},\"type\":\"scattergeo\"}],\"scattergl\":[{\"marker\":{\"colorbar\":{\"outlinewidth\":0,\"ticks\":\"\"}},\"type\":\"scattergl\"}],\"scattermapbox\":[{\"marker\":{\"colorbar\":{\"outlinewidth\":0,\"ticks\":\"\"}},\"type\":\"scattermapbox\"}],\"scatterpolar\":[{\"marker\":{\"colorbar\":{\"outlinewidth\":0,\"ticks\":\"\"}},\"type\":\"scatterpolar\"}],\"scatterpolargl\":[{\"marker\":{\"colorbar\":{\"outlinewidth\":0,\"ticks\":\"\"}},\"type\":\"scatterpolargl\"}],\"scatterternary\":[{\"marker\":{\"colorbar\":{\"outlinewidth\":0,\"ticks\":\"\"}},\"type\":\"scatterternary\"}],\"surface\":[{\"colorbar\":{\"outlinewidth\":0,\"ticks\":\"\"},\"colorscale\":[[0.0,\"#0d0887\"],[0.1111111111111111,\"#46039f\"],[0.2222222222222222,\"#7201a8\"],[0.3333333333333333,\"#9c179e\"],[0.4444444444444444,\"#bd3786\"],[0.5555555555555556,\"#d8576b\"],[0.6666666666666666,\"#ed7953\"],[0.7777777777777778,\"#fb9f3a\"],[0.8888888888888888,\"#fdca26\"],[1.0,\"#f0f921\"]],\"type\":\"surface\"}],\"table\":[{\"cells\":{\"fill\":{\"color\":\"#EBF0F8\"},\"line\":{\"color\":\"white\"}},\"header\":{\"fill\":{\"color\":\"#C8D4E3\"},\"line\":{\"color\":\"white\"}},\"type\":\"table\"}]},\"layout\":{\"annotationdefaults\":{\"arrowcolor\":\"#2a3f5f\",\"arrowhead\":0,\"arrowwidth\":1},\"autotypenumbers\":\"strict\",\"coloraxis\":{\"colorbar\":{\"outlinewidth\":0,\"ticks\":\"\"}},\"colorscale\":{\"diverging\":[[0,\"#8e0152\"],[0.1,\"#c51b7d\"],[0.2,\"#de77ae\"],[0.3,\"#f1b6da\"],[0.4,\"#fde0ef\"],[0.5,\"#f7f7f7\"],[0.6,\"#e6f5d0\"],[0.7,\"#b8e186\"],[0.8,\"#7fbc41\"],[0.9,\"#4d9221\"],[1,\"#276419\"]],\"sequential\":[[0.0,\"#0d0887\"],[0.1111111111111111,\"#46039f\"],[0.2222222222222222,\"#7201a8\"],[0.3333333333333333,\"#9c179e\"],[0.4444444444444444,\"#bd3786\"],[0.5555555555555556,\"#d8576b\"],[0.6666666666666666,\"#ed7953\"],[0.7777777777777778,\"#fb9f3a\"],[0.8888888888888888,\"#fdca26\"],[1.0,\"#f0f921\"]],\"sequentialminus\":[[0.0,\"#0d0887\"],[0.1111111111111111,\"#46039f\"],[0.2222222222222222,\"#7201a8\"],[0.3333333333333333,\"#9c179e\"],[0.4444444444444444,\"#bd3786\"],[0.5555555555555556,\"#d8576b\"],[0.6666666666666666,\"#ed7953\"],[0.7777777777777778,\"#fb9f3a\"],[0.8888888888888888,\"#fdca26\"],[1.0,\"#f0f921\"]]},\"colorway\":[\"#636efa\",\"#EF553B\",\"#00cc96\",\"#ab63fa\",\"#FFA15A\",\"#19d3f3\",\"#FF6692\",\"#B6E880\",\"#FF97FF\",\"#FECB52\"],\"font\":{\"color\":\"#2a3f5f\"},\"geo\":{\"bgcolor\":\"white\",\"lakecolor\":\"white\",\"landcolor\":\"#E5ECF6\",\"showlakes\":true,\"showland\":true,\"subunitcolor\":\"white\"},\"hoverlabel\":{\"align\":\"left\"},\"hovermode\":\"closest\",\"mapbox\":{\"style\":\"light\"},\"paper_bgcolor\":\"white\",\"plot_bgcolor\":\"#E5ECF6\",\"polar\":{\"angularaxis\":{\"gridcolor\":\"white\",\"linecolor\":\"white\",\"ticks\":\"\"},\"bgcolor\":\"#E5ECF6\",\"radialaxis\":{\"gridcolor\":\"white\",\"linecolor\":\"white\",\"ticks\":\"\"}},\"scene\":{\"xaxis\":{\"backgroundcolor\":\"#E5ECF6\",\"gridcolor\":\"white\",\"gridwidth\":2,\"linecolor\":\"white\",\"showbackground\":true,\"ticks\":\"\",\"zerolinecolor\":\"white\"},\"yaxis\":{\"backgroundcolor\":\"#E5ECF6\",\"gridcolor\":\"white\",\"gridwidth\":2,\"linecolor\":\"white\",\"showbackground\":true,\"ticks\":\"\",\"zerolinecolor\":\"white\"},\"zaxis\":{\"backgroundcolor\":\"#E5ECF6\",\"gridcolor\":\"white\",\"gridwidth\":2,\"linecolor\":\"white\",\"showbackground\":true,\"ticks\":\"\",\"zerolinecolor\":\"white\"}},\"shapedefaults\":{\"line\":{\"color\":\"#2a3f5f\"}},\"ternary\":{\"aaxis\":{\"gridcolor\":\"white\",\"linecolor\":\"white\",\"ticks\":\"\"},\"baxis\":{\"gridcolor\":\"white\",\"linecolor\":\"white\",\"ticks\":\"\"},\"bgcolor\":\"#E5ECF6\",\"caxis\":{\"gridcolor\":\"white\",\"linecolor\":\"white\",\"ticks\":\"\"}},\"title\":{\"x\":0.05},\"xaxis\":{\"automargin\":true,\"gridcolor\":\"white\",\"linecolor\":\"white\",\"ticks\":\"\",\"title\":{\"standoff\":15},\"zerolinecolor\":\"white\",\"zerolinewidth\":2},\"yaxis\":{\"automargin\":true,\"gridcolor\":\"white\",\"linecolor\":\"white\",\"ticks\":\"\",\"title\":{\"standoff\":15},\"zerolinecolor\":\"white\",\"zerolinewidth\":2}}},\"title\":{\"text\":\"2011\\ub144~2020\\ub144\\uac04 \\uc81c\\uc791\\ub41c \\ub3c5\\ub9bd\\uc608\\uc220\\uc601\\ud654\\uc758 \\ubc30\\uae09\\uc0ac \\uad6c\\ubd84 \\ubcc4 \\ubc30\\uae09\\ud3b8\\uc218 \\ube44\\uc911\"}},                        {\"responsive\": true}                    ).then(function(){\n",
              "                            \n",
              "var gd = document.getElementById('c6e171d3-0641-4f3e-96b6-14d70a336fd4');\n",
              "var x = new MutationObserver(function (mutations, observer) {{\n",
              "        var display = window.getComputedStyle(gd).display;\n",
              "        if (!display || display === 'none') {{\n",
              "            console.log([gd, 'removed!']);\n",
              "            Plotly.purge(gd);\n",
              "            observer.disconnect();\n",
              "        }}\n",
              "}});\n",
              "\n",
              "// Listen for the removal of the full notebook cells\n",
              "var notebookContainer = gd.closest('#notebook-container');\n",
              "if (notebookContainer) {{\n",
              "    x.observe(notebookContainer, {childList: true});\n",
              "}}\n",
              "\n",
              "// Listen for the clearing of the current output cell\n",
              "var outputEl = gd.closest('.output');\n",
              "if (outputEl) {{\n",
              "    x.observe(outputEl, {childList: true});\n",
              "}}\n",
              "\n",
              "                        })                };                            </script>        </div>\n",
              "</body>\n",
              "</html>"
            ]
          },
          "metadata": {}
        }
      ]
    },
    {
      "cell_type": "code",
      "metadata": {
        "colab": {
          "base_uri": "https://localhost:8080/",
          "height": 542
        },
        "id": "LBWT3JJgUN20",
        "outputId": "c238d293-c547-4b5d-dd79-1550ff19df79"
      },
      "source": [
        "# 매출액 비중을 보더라도 CGV+CGV 아트하우스가 2011년 ~ 2020년 매출액의 49.07%를 차지하고 있음\n",
        "new_movies_art_big5 = new_movies_art[new_movies_art['배급사구분']=='대형배급사']\n",
        "\n",
        "fig = px.pie(new_movies_art_big5, values='전국매출액', names='배급사',\n",
        "             color_discrete_sequence=px.colors.sequential.Magenta_r,\n",
        "             hole=.3,\n",
        "             title='2011년~2020년간 제작된 독립예술영화의 배급사 구분 별 매출액 비중')\n",
        "fig.update_traces(textposition='inside', textinfo='percent+label')\n",
        "fig.show()"
      ],
      "execution_count": 183,
      "outputs": [
        {
          "output_type": "display_data",
          "data": {
            "text/html": [
              "<html>\n",
              "<head><meta charset=\"utf-8\" /></head>\n",
              "<body>\n",
              "    <div>            <script src=\"https://cdnjs.cloudflare.com/ajax/libs/mathjax/2.7.5/MathJax.js?config=TeX-AMS-MML_SVG\"></script><script type=\"text/javascript\">if (window.MathJax) {MathJax.Hub.Config({SVG: {font: \"STIX-Web\"}});}</script>                <script type=\"text/javascript\">window.PlotlyConfig = {MathJaxConfig: 'local'};</script>\n",
              "        <script src=\"https://cdn.plot.ly/plotly-2.3.1.min.js\"></script>                <div id=\"05a8ca08-b609-4e1a-9dc5-645a36e273f4\" class=\"plotly-graph-div\" style=\"height:525px; width:100%;\"></div>            <script type=\"text/javascript\">                                    window.PLOTLYENV=window.PLOTLYENV || {};                                    if (document.getElementById(\"05a8ca08-b609-4e1a-9dc5-645a36e273f4\")) {                    Plotly.newPlot(                        \"05a8ca08-b609-4e1a-9dc5-645a36e273f4\",                        [{\"domain\":{\"x\":[0.0,1.0],\"y\":[0.0,1.0]},\"hole\":0.3,\"hovertemplate\":\"\\ubc30\\uae09\\uc0ac=%{label}<br>\\uc804\\uad6d\\ub9e4\\ucd9c\\uc561=%{value}<extra></extra>\",\"labels\":[\"(\\uc8fc)\\ub125\\uc2a4\\ud2b8\\uc5d4\\ud130\\ud14c\\uc778\\uba3c\\ud2b8\\uc6d4\\ub4dc(NEW)\",\"\\ub86f\\ub370\\uc1fc\\ud551\\u321c\\ub86f\\ub370\\uc5d4\\ud130\\ud14c\\uc778\\uba3c\\ud2b8\",\"(\\uc8fc)\\ub125\\uc2a4\\ud2b8\\uc5d4\\ud130\\ud14c\\uc778\\uba3c\\ud2b8\\uc6d4\\ub4dc(NEW)\",\"(\\uc8fc)\\ub125\\uc2a4\\ud2b8\\uc5d4\\ud130\\ud14c\\uc778\\uba3c\\ud2b8\\uc6d4\\ub4dc(NEW)\",\"(\\uc8fc)\\uc528\\uc81c\\uc774\\uc774\\uc5d4\\uc5e0\",\"\\ub86f\\ub370\\uc1fc\\ud551\\u321c\\ub86f\\ub370\\uc5d4\\ud130\\ud14c\\uc778\\uba3c\\ud2b8\",\"(\\uc8fc)\\uc528\\uc81c\\uc774\\uc774\\uc5d4\\uc5e0\",\"\\ub86f\\ub370\\uc1fc\\ud551\\u321c\\ub86f\\ub370\\uc5d4\\ud130\\ud14c\\uc778\\uba3c\\ud2b8\",\"CGV\\uc544\\ud2b8\\ud558\\uc6b0\\uc2a4\",\"(\\uc8fc)\\ub125\\uc2a4\\ud2b8\\uc5d4\\ud130\\ud14c\\uc778\\uba3c\\ud2b8\\uc6d4\\ub4dc(NEW)\",\"\\ub86f\\ub370\\uc1fc\\ud551\\u321c\\ub86f\\ub370\\uc5d4\\ud130\\ud14c\\uc778\\uba3c\\ud2b8\",\"(\\uc8fc)\\ub125\\uc2a4\\ud2b8\\uc5d4\\ud130\\ud14c\\uc778\\uba3c\\ud2b8\\uc6d4\\ub4dc(NEW)\",\"CGV\\uc544\\ud2b8\\ud558\\uc6b0\\uc2a4\",\"(\\uc8fc)\\ub125\\uc2a4\\ud2b8\\uc5d4\\ud130\\ud14c\\uc778\\uba3c\\ud2b8\\uc6d4\\ub4dc(NEW)\",\"CGV\\uc544\\ud2b8\\ud558\\uc6b0\\uc2a4\",\"(\\uc8fc)\\uc528\\uc81c\\uc774\\uc774\\uc5d4\\uc5e0\",\"CGV\\uc544\\ud2b8\\ud558\\uc6b0\\uc2a4\",\"(\\uc8fc)\\uc528\\uc81c\\uc774\\uc774\\uc5d4\\uc5e0\",\"(\\uc8fc)\\uc528\\uc81c\\uc774\\uc774\\uc5d4\\uc5e0\",\"CGV\\uc544\\ud2b8\\ud558\\uc6b0\\uc2a4\",\"CGV\\uc544\\ud2b8\\ud558\\uc6b0\\uc2a4\",\"(\\uc8fc)\\uc1fc\\ubc15\\uc2a4\",\"CGV\\uc544\\ud2b8\\ud558\\uc6b0\\uc2a4\",\"(\\uc8fc)\\ub125\\uc2a4\\ud2b8\\uc5d4\\ud130\\ud14c\\uc778\\uba3c\\ud2b8\\uc6d4\\ub4dc(NEW)\",\"CGV\\uc544\\ud2b8\\ud558\\uc6b0\\uc2a4\",\"CGV\\uc544\\ud2b8\\ud558\\uc6b0\\uc2a4\",\"CGV\\uc544\\ud2b8\\ud558\\uc6b0\\uc2a4\",\"\\ub86f\\ub370\\uc1fc\\ud551\\u321c\\ub86f\\ub370\\uc5d4\\ud130\\ud14c\\uc778\\uba3c\\ud2b8\",\"CGV\\uc544\\ud2b8\\ud558\\uc6b0\\uc2a4\",\"(\\uc8fc)\\uc528\\uc81c\\uc774\\uc774\\uc5d4\\uc5e0\",\"CGV\\uc544\\ud2b8\\ud558\\uc6b0\\uc2a4\",\"(\\uc8fc)\\uc528\\uc81c\\uc774\\uc774\\uc5d4\\uc5e0\",\"(\\uc8fc)\\uc528\\uc81c\\uc774\\uc774\\uc5d4\\uc5e0\",\"(\\uc8fc)\\uc1fc\\ubc15\\uc2a4\",\"CGV\\uc544\\ud2b8\\ud558\\uc6b0\\uc2a4\",\"\\ub86f\\ub370\\uc1fc\\ud551\\u321c\\ub86f\\ub370\\uc5d4\\ud130\\ud14c\\uc778\\uba3c\\ud2b8\",\"\\ub86f\\ub370\\uc1fc\\ud551\\u321c\\ub86f\\ub370\\uc5d4\\ud130\\ud14c\\uc778\\uba3c\\ud2b8\",\"(\\uc8fc)\\ub125\\uc2a4\\ud2b8\\uc5d4\\ud130\\ud14c\\uc778\\uba3c\\ud2b8\\uc6d4\\ub4dc(NEW)\",\"\\ub86f\\ub370\\uc1fc\\ud551\\u321c\\ub86f\\ub370\\uc5d4\\ud130\\ud14c\\uc778\\uba3c\\ud2b8\",\"CGV\\uc544\\ud2b8\\ud558\\uc6b0\\uc2a4\",\"(\\uc8fc)\\uc528\\uc81c\\uc774\\uc774\\uc5d4\\uc5e0\",\"(\\uc8fc)\\uc528\\uc81c\\uc774\\uc774\\uc5d4\\uc5e0\",\"CGV\\uc544\\ud2b8\\ud558\\uc6b0\\uc2a4\",\"(\\uc8fc)\\ub125\\uc2a4\\ud2b8\\uc5d4\\ud130\\ud14c\\uc778\\uba3c\\ud2b8\\uc6d4\\ub4dc(NEW)\",\"\\ub86f\\ub370\\uc1fc\\ud551\\u321c\\ub86f\\ub370\\uc5d4\\ud130\\ud14c\\uc778\\uba3c\\ud2b8\",\"CGV\\uc544\\ud2b8\\ud558\\uc6b0\\uc2a4\",\"(\\uc8fc)\\ub125\\uc2a4\\ud2b8\\uc5d4\\ud130\\ud14c\\uc778\\uba3c\\ud2b8\\uc6d4\\ub4dc(NEW)\",\"CGV\\uc544\\ud2b8\\ud558\\uc6b0\\uc2a4\",\"CGV\\uc544\\ud2b8\\ud558\\uc6b0\\uc2a4\",\"CGV\\uc544\\ud2b8\\ud558\\uc6b0\\uc2a4\",\"(\\uc8fc)\\ub125\\uc2a4\\ud2b8\\uc5d4\\ud130\\ud14c\\uc778\\uba3c\\ud2b8\\uc6d4\\ub4dc(NEW)\",\"(\\uc8fc)\\ub125\\uc2a4\\ud2b8\\uc5d4\\ud130\\ud14c\\uc778\\uba3c\\ud2b8\\uc6d4\\ub4dc(NEW)\",\"CGV\\uc544\\ud2b8\\ud558\\uc6b0\\uc2a4\",\"\\ub86f\\ub370\\uc1fc\\ud551\\u321c\\ub86f\\ub370\\uc5d4\\ud130\\ud14c\\uc778\\uba3c\\ud2b8\",\"CGV\\uc544\\ud2b8\\ud558\\uc6b0\\uc2a4\",\"\\ub86f\\ub370\\uc1fc\\ud551\\u321c\\ub86f\\ub370\\uc5d4\\ud130\\ud14c\\uc778\\uba3c\\ud2b8\",\"CGV\\uc544\\ud2b8\\ud558\\uc6b0\\uc2a4\",\"(\\uc8fc)\\ub125\\uc2a4\\ud2b8\\uc5d4\\ud130\\ud14c\\uc778\\uba3c\\ud2b8\\uc6d4\\ub4dc(NEW)\",\"CGV\\uc544\\ud2b8\\ud558\\uc6b0\\uc2a4\",\"CGV\\uc544\\ud2b8\\ud558\\uc6b0\\uc2a4\",\"\\ub86f\\ub370\\uc1fc\\ud551\\u321c\\ub86f\\ub370\\uc5d4\\ud130\\ud14c\\uc778\\uba3c\\ud2b8\",\"\\ub86f\\ub370\\uc1fc\\ud551\\u321c\\ub86f\\ub370\\uc5d4\\ud130\\ud14c\\uc778\\uba3c\\ud2b8\",\"CGV\\uc544\\ud2b8\\ud558\\uc6b0\\uc2a4\",\"CGV\\uc544\\ud2b8\\ud558\\uc6b0\\uc2a4\",\"CGV\\uc544\\ud2b8\\ud558\\uc6b0\\uc2a4\",\"CGV\\uc544\\ud2b8\\ud558\\uc6b0\\uc2a4\",\"CGV\\uc544\\ud2b8\\ud558\\uc6b0\\uc2a4\",\"CGV\\uc544\\ud2b8\\ud558\\uc6b0\\uc2a4\",\"CGV\\uc544\\ud2b8\\ud558\\uc6b0\\uc2a4\",\"\\ub86f\\ub370\\uc1fc\\ud551\\u321c\\ub86f\\ub370\\uc5d4\\ud130\\ud14c\\uc778\\uba3c\\ud2b8\",\"CGV\\uc544\\ud2b8\\ud558\\uc6b0\\uc2a4\",\"CGV\\uc544\\ud2b8\\ud558\\uc6b0\\uc2a4\",\"CGV\\uc544\\ud2b8\\ud558\\uc6b0\\uc2a4\",\"CGV\\uc544\\ud2b8\\ud558\\uc6b0\\uc2a4\",\"CGV\\uc544\\ud2b8\\ud558\\uc6b0\\uc2a4\",\"CGV\\uc544\\ud2b8\\ud558\\uc6b0\\uc2a4\",\"(\\uc8fc)\\ub125\\uc2a4\\ud2b8\\uc5d4\\ud130\\ud14c\\uc778\\uba3c\\ud2b8\\uc6d4\\ub4dc(NEW)\",\"CGV\\uc544\\ud2b8\\ud558\\uc6b0\\uc2a4\",\"(\\uc8fc)\\ub125\\uc2a4\\ud2b8\\uc5d4\\ud130\\ud14c\\uc778\\uba3c\\ud2b8\\uc6d4\\ub4dc(NEW)\",\"(\\uc8fc)\\ub125\\uc2a4\\ud2b8\\uc5d4\\ud130\\ud14c\\uc778\\uba3c\\ud2b8\\uc6d4\\ub4dc(NEW)\",\"(\\uc8fc)\\ub125\\uc2a4\\ud2b8\\uc5d4\\ud130\\ud14c\\uc778\\uba3c\\ud2b8\\uc6d4\\ub4dc(NEW)\",\"CGV\\uc544\\ud2b8\\ud558\\uc6b0\\uc2a4\",\"CGV\\uc544\\ud2b8\\ud558\\uc6b0\\uc2a4\",\"CGV\\uc544\\ud2b8\\ud558\\uc6b0\\uc2a4\",\"CGV\\uc544\\ud2b8\\ud558\\uc6b0\\uc2a4\",\"CGV\\uc544\\ud2b8\\ud558\\uc6b0\\uc2a4\",\"CGV\\uc544\\ud2b8\\ud558\\uc6b0\\uc2a4\",\"CGV\\uc544\\ud2b8\\ud558\\uc6b0\\uc2a4\",\"\\ub86f\\ub370\\uceec\\ucc98\\uc6cd\\uc2a4(\\uc8fc)\\ub86f\\ub370\\uc5d4\\ud130\\ud14c\\uc778\\uba3c\\ud2b8\",\"\\ub86f\\ub370\\uceec\\ucc98\\uc6cd\\uc2a4(\\uc8fc)\\ub86f\\ub370\\uc5d4\\ud130\\ud14c\\uc778\\uba3c\\ud2b8\",\"CGV\\uc544\\ud2b8\\ud558\\uc6b0\\uc2a4\",\"(\\uc8fc)\\ub125\\uc2a4\\ud2b8\\uc5d4\\ud130\\ud14c\\uc778\\uba3c\\ud2b8\\uc6d4\\ub4dc(NEW)\",\"CGV\\uc544\\ud2b8\\ud558\\uc6b0\\uc2a4\",\"\\ub86f\\ub370\\uceec\\ucc98\\uc6cd\\uc2a4(\\uc8fc)\\ub86f\\ub370\\uc5d4\\ud130\\ud14c\\uc778\\uba3c\\ud2b8\",\"(\\uc8fc)\\ub125\\uc2a4\\ud2b8\\uc5d4\\ud130\\ud14c\\uc778\\uba3c\\ud2b8\\uc6d4\\ub4dc(NEW)\",\"CGV\\uc544\\ud2b8\\ud558\\uc6b0\\uc2a4\",\"CGV\\uc544\\ud2b8\\ud558\\uc6b0\\uc2a4\",\"CGV\\uc544\\ud2b8\\ud558\\uc6b0\\uc2a4\",\"\\ub86f\\ub370\\uceec\\ucc98\\uc6cd\\uc2a4(\\uc8fc)\\ub86f\\ub370\\uc5d4\\ud130\\ud14c\\uc778\\uba3c\\ud2b8\",\"(\\uc8fc)\\ub125\\uc2a4\\ud2b8\\uc5d4\\ud130\\ud14c\\uc778\\uba3c\\ud2b8\\uc6d4\\ub4dc(NEW)\",\"CGV\\uc544\\ud2b8\\ud558\\uc6b0\\uc2a4\",\"\\ub86f\\ub370\\uceec\\ucc98\\uc6cd\\uc2a4(\\uc8fc)\\ub86f\\ub370\\uc5d4\\ud130\\ud14c\\uc778\\uba3c\\ud2b8\",\"CGV\\uc544\\ud2b8\\ud558\\uc6b0\\uc2a4\",\"\\ub86f\\ub370\\uceec\\ucc98\\uc6cd\\uc2a4(\\uc8fc)\\ub86f\\ub370\\uc5d4\\ud130\\ud14c\\uc778\\uba3c\\ud2b8\",\"(\\uc8fc)\\uc528\\uc81c\\uc774\\uc774\\uc5d4\\uc5e0\"],\"legendgroup\":\"\",\"name\":\"\",\"showlegend\":true,\"textinfo\":\"percent+label\",\"textposition\":\"inside\",\"type\":\"pie\",\"values\":[12005917000,1019768500,920899000,4354008500,601513500,171004571,87647900,47993500,733314000,349451500,272411000,250644579,164943162,162722300,154223500,142456000,118896600,101214000,29340500,29845004479,1780640800,1752838200,830948100,593174100,479242383,246408200,195684333,173948100,119149400,87965500,63500100,63090000,24048800,12445626245,1950635763,1128148952,699788600,658072600,427722800,349482500,112466200,112007100,52852400,48376500,46156800,2608179616,1157200562,1047223666,872397300,639959190,416593300,336004700,282006700,115387000,102163500,58152000,39535300,3703660800,1403639195,947059100,911866950,686273900,634595200,632389700,317605400,274920900,195197900,198890200,171942900,95447200,97464900,65573000,48080800,24142600,17949800,1090246148,906416500,469303200,408323605,276934100,208532200,220860000,205547428,191696250,180452950,89138900,46996200,34307600,24729750,9290065101,3603268560,1553219230,586584249,444391340,409004989,369943170,322021828,193213180,111262080,86453100,67150080,67428500,9214920,129230400,110180880]}],                        {\"legend\":{\"tracegroupgap\":0},\"piecolorway\":[\"rgb(108, 33, 103)\",\"rgb(145, 53, 125)\",\"rgb(177, 77, 142)\",\"rgb(202, 105, 157)\",\"rgb(221, 136, 172)\",\"rgb(234, 169, 189)\",\"rgb(243, 203, 211)\"],\"template\":{\"data\":{\"bar\":[{\"error_x\":{\"color\":\"#2a3f5f\"},\"error_y\":{\"color\":\"#2a3f5f\"},\"marker\":{\"line\":{\"color\":\"#E5ECF6\",\"width\":0.5},\"pattern\":{\"fillmode\":\"overlay\",\"size\":10,\"solidity\":0.2}},\"type\":\"bar\"}],\"barpolar\":[{\"marker\":{\"line\":{\"color\":\"#E5ECF6\",\"width\":0.5},\"pattern\":{\"fillmode\":\"overlay\",\"size\":10,\"solidity\":0.2}},\"type\":\"barpolar\"}],\"carpet\":[{\"aaxis\":{\"endlinecolor\":\"#2a3f5f\",\"gridcolor\":\"white\",\"linecolor\":\"white\",\"minorgridcolor\":\"white\",\"startlinecolor\":\"#2a3f5f\"},\"baxis\":{\"endlinecolor\":\"#2a3f5f\",\"gridcolor\":\"white\",\"linecolor\":\"white\",\"minorgridcolor\":\"white\",\"startlinecolor\":\"#2a3f5f\"},\"type\":\"carpet\"}],\"choropleth\":[{\"colorbar\":{\"outlinewidth\":0,\"ticks\":\"\"},\"type\":\"choropleth\"}],\"contour\":[{\"colorbar\":{\"outlinewidth\":0,\"ticks\":\"\"},\"colorscale\":[[0.0,\"#0d0887\"],[0.1111111111111111,\"#46039f\"],[0.2222222222222222,\"#7201a8\"],[0.3333333333333333,\"#9c179e\"],[0.4444444444444444,\"#bd3786\"],[0.5555555555555556,\"#d8576b\"],[0.6666666666666666,\"#ed7953\"],[0.7777777777777778,\"#fb9f3a\"],[0.8888888888888888,\"#fdca26\"],[1.0,\"#f0f921\"]],\"type\":\"contour\"}],\"contourcarpet\":[{\"colorbar\":{\"outlinewidth\":0,\"ticks\":\"\"},\"type\":\"contourcarpet\"}],\"heatmap\":[{\"colorbar\":{\"outlinewidth\":0,\"ticks\":\"\"},\"colorscale\":[[0.0,\"#0d0887\"],[0.1111111111111111,\"#46039f\"],[0.2222222222222222,\"#7201a8\"],[0.3333333333333333,\"#9c179e\"],[0.4444444444444444,\"#bd3786\"],[0.5555555555555556,\"#d8576b\"],[0.6666666666666666,\"#ed7953\"],[0.7777777777777778,\"#fb9f3a\"],[0.8888888888888888,\"#fdca26\"],[1.0,\"#f0f921\"]],\"type\":\"heatmap\"}],\"heatmapgl\":[{\"colorbar\":{\"outlinewidth\":0,\"ticks\":\"\"},\"colorscale\":[[0.0,\"#0d0887\"],[0.1111111111111111,\"#46039f\"],[0.2222222222222222,\"#7201a8\"],[0.3333333333333333,\"#9c179e\"],[0.4444444444444444,\"#bd3786\"],[0.5555555555555556,\"#d8576b\"],[0.6666666666666666,\"#ed7953\"],[0.7777777777777778,\"#fb9f3a\"],[0.8888888888888888,\"#fdca26\"],[1.0,\"#f0f921\"]],\"type\":\"heatmapgl\"}],\"histogram\":[{\"marker\":{\"pattern\":{\"fillmode\":\"overlay\",\"size\":10,\"solidity\":0.2}},\"type\":\"histogram\"}],\"histogram2d\":[{\"colorbar\":{\"outlinewidth\":0,\"ticks\":\"\"},\"colorscale\":[[0.0,\"#0d0887\"],[0.1111111111111111,\"#46039f\"],[0.2222222222222222,\"#7201a8\"],[0.3333333333333333,\"#9c179e\"],[0.4444444444444444,\"#bd3786\"],[0.5555555555555556,\"#d8576b\"],[0.6666666666666666,\"#ed7953\"],[0.7777777777777778,\"#fb9f3a\"],[0.8888888888888888,\"#fdca26\"],[1.0,\"#f0f921\"]],\"type\":\"histogram2d\"}],\"histogram2dcontour\":[{\"colorbar\":{\"outlinewidth\":0,\"ticks\":\"\"},\"colorscale\":[[0.0,\"#0d0887\"],[0.1111111111111111,\"#46039f\"],[0.2222222222222222,\"#7201a8\"],[0.3333333333333333,\"#9c179e\"],[0.4444444444444444,\"#bd3786\"],[0.5555555555555556,\"#d8576b\"],[0.6666666666666666,\"#ed7953\"],[0.7777777777777778,\"#fb9f3a\"],[0.8888888888888888,\"#fdca26\"],[1.0,\"#f0f921\"]],\"type\":\"histogram2dcontour\"}],\"mesh3d\":[{\"colorbar\":{\"outlinewidth\":0,\"ticks\":\"\"},\"type\":\"mesh3d\"}],\"parcoords\":[{\"line\":{\"colorbar\":{\"outlinewidth\":0,\"ticks\":\"\"}},\"type\":\"parcoords\"}],\"pie\":[{\"automargin\":true,\"type\":\"pie\"}],\"scatter\":[{\"marker\":{\"colorbar\":{\"outlinewidth\":0,\"ticks\":\"\"}},\"type\":\"scatter\"}],\"scatter3d\":[{\"line\":{\"colorbar\":{\"outlinewidth\":0,\"ticks\":\"\"}},\"marker\":{\"colorbar\":{\"outlinewidth\":0,\"ticks\":\"\"}},\"type\":\"scatter3d\"}],\"scattercarpet\":[{\"marker\":{\"colorbar\":{\"outlinewidth\":0,\"ticks\":\"\"}},\"type\":\"scattercarpet\"}],\"scattergeo\":[{\"marker\":{\"colorbar\":{\"outlinewidth\":0,\"ticks\":\"\"}},\"type\":\"scattergeo\"}],\"scattergl\":[{\"marker\":{\"colorbar\":{\"outlinewidth\":0,\"ticks\":\"\"}},\"type\":\"scattergl\"}],\"scattermapbox\":[{\"marker\":{\"colorbar\":{\"outlinewidth\":0,\"ticks\":\"\"}},\"type\":\"scattermapbox\"}],\"scatterpolar\":[{\"marker\":{\"colorbar\":{\"outlinewidth\":0,\"ticks\":\"\"}},\"type\":\"scatterpolar\"}],\"scatterpolargl\":[{\"marker\":{\"colorbar\":{\"outlinewidth\":0,\"ticks\":\"\"}},\"type\":\"scatterpolargl\"}],\"scatterternary\":[{\"marker\":{\"colorbar\":{\"outlinewidth\":0,\"ticks\":\"\"}},\"type\":\"scatterternary\"}],\"surface\":[{\"colorbar\":{\"outlinewidth\":0,\"ticks\":\"\"},\"colorscale\":[[0.0,\"#0d0887\"],[0.1111111111111111,\"#46039f\"],[0.2222222222222222,\"#7201a8\"],[0.3333333333333333,\"#9c179e\"],[0.4444444444444444,\"#bd3786\"],[0.5555555555555556,\"#d8576b\"],[0.6666666666666666,\"#ed7953\"],[0.7777777777777778,\"#fb9f3a\"],[0.8888888888888888,\"#fdca26\"],[1.0,\"#f0f921\"]],\"type\":\"surface\"}],\"table\":[{\"cells\":{\"fill\":{\"color\":\"#EBF0F8\"},\"line\":{\"color\":\"white\"}},\"header\":{\"fill\":{\"color\":\"#C8D4E3\"},\"line\":{\"color\":\"white\"}},\"type\":\"table\"}]},\"layout\":{\"annotationdefaults\":{\"arrowcolor\":\"#2a3f5f\",\"arrowhead\":0,\"arrowwidth\":1},\"autotypenumbers\":\"strict\",\"coloraxis\":{\"colorbar\":{\"outlinewidth\":0,\"ticks\":\"\"}},\"colorscale\":{\"diverging\":[[0,\"#8e0152\"],[0.1,\"#c51b7d\"],[0.2,\"#de77ae\"],[0.3,\"#f1b6da\"],[0.4,\"#fde0ef\"],[0.5,\"#f7f7f7\"],[0.6,\"#e6f5d0\"],[0.7,\"#b8e186\"],[0.8,\"#7fbc41\"],[0.9,\"#4d9221\"],[1,\"#276419\"]],\"sequential\":[[0.0,\"#0d0887\"],[0.1111111111111111,\"#46039f\"],[0.2222222222222222,\"#7201a8\"],[0.3333333333333333,\"#9c179e\"],[0.4444444444444444,\"#bd3786\"],[0.5555555555555556,\"#d8576b\"],[0.6666666666666666,\"#ed7953\"],[0.7777777777777778,\"#fb9f3a\"],[0.8888888888888888,\"#fdca26\"],[1.0,\"#f0f921\"]],\"sequentialminus\":[[0.0,\"#0d0887\"],[0.1111111111111111,\"#46039f\"],[0.2222222222222222,\"#7201a8\"],[0.3333333333333333,\"#9c179e\"],[0.4444444444444444,\"#bd3786\"],[0.5555555555555556,\"#d8576b\"],[0.6666666666666666,\"#ed7953\"],[0.7777777777777778,\"#fb9f3a\"],[0.8888888888888888,\"#fdca26\"],[1.0,\"#f0f921\"]]},\"colorway\":[\"#636efa\",\"#EF553B\",\"#00cc96\",\"#ab63fa\",\"#FFA15A\",\"#19d3f3\",\"#FF6692\",\"#B6E880\",\"#FF97FF\",\"#FECB52\"],\"font\":{\"color\":\"#2a3f5f\"},\"geo\":{\"bgcolor\":\"white\",\"lakecolor\":\"white\",\"landcolor\":\"#E5ECF6\",\"showlakes\":true,\"showland\":true,\"subunitcolor\":\"white\"},\"hoverlabel\":{\"align\":\"left\"},\"hovermode\":\"closest\",\"mapbox\":{\"style\":\"light\"},\"paper_bgcolor\":\"white\",\"plot_bgcolor\":\"#E5ECF6\",\"polar\":{\"angularaxis\":{\"gridcolor\":\"white\",\"linecolor\":\"white\",\"ticks\":\"\"},\"bgcolor\":\"#E5ECF6\",\"radialaxis\":{\"gridcolor\":\"white\",\"linecolor\":\"white\",\"ticks\":\"\"}},\"scene\":{\"xaxis\":{\"backgroundcolor\":\"#E5ECF6\",\"gridcolor\":\"white\",\"gridwidth\":2,\"linecolor\":\"white\",\"showbackground\":true,\"ticks\":\"\",\"zerolinecolor\":\"white\"},\"yaxis\":{\"backgroundcolor\":\"#E5ECF6\",\"gridcolor\":\"white\",\"gridwidth\":2,\"linecolor\":\"white\",\"showbackground\":true,\"ticks\":\"\",\"zerolinecolor\":\"white\"},\"zaxis\":{\"backgroundcolor\":\"#E5ECF6\",\"gridcolor\":\"white\",\"gridwidth\":2,\"linecolor\":\"white\",\"showbackground\":true,\"ticks\":\"\",\"zerolinecolor\":\"white\"}},\"shapedefaults\":{\"line\":{\"color\":\"#2a3f5f\"}},\"ternary\":{\"aaxis\":{\"gridcolor\":\"white\",\"linecolor\":\"white\",\"ticks\":\"\"},\"baxis\":{\"gridcolor\":\"white\",\"linecolor\":\"white\",\"ticks\":\"\"},\"bgcolor\":\"#E5ECF6\",\"caxis\":{\"gridcolor\":\"white\",\"linecolor\":\"white\",\"ticks\":\"\"}},\"title\":{\"x\":0.05},\"xaxis\":{\"automargin\":true,\"gridcolor\":\"white\",\"linecolor\":\"white\",\"ticks\":\"\",\"title\":{\"standoff\":15},\"zerolinecolor\":\"white\",\"zerolinewidth\":2},\"yaxis\":{\"automargin\":true,\"gridcolor\":\"white\",\"linecolor\":\"white\",\"ticks\":\"\",\"title\":{\"standoff\":15},\"zerolinecolor\":\"white\",\"zerolinewidth\":2}}},\"title\":{\"text\":\"2011\\ub144~2020\\ub144\\uac04 \\uc81c\\uc791\\ub41c \\ub3c5\\ub9bd\\uc608\\uc220\\uc601\\ud654\\uc758 \\ubc30\\uae09\\uc0ac \\uad6c\\ubd84 \\ubcc4 \\ub9e4\\ucd9c\\uc561 \\ube44\\uc911\"}},                        {\"responsive\": true}                    ).then(function(){\n",
              "                            \n",
              "var gd = document.getElementById('05a8ca08-b609-4e1a-9dc5-645a36e273f4');\n",
              "var x = new MutationObserver(function (mutations, observer) {{\n",
              "        var display = window.getComputedStyle(gd).display;\n",
              "        if (!display || display === 'none') {{\n",
              "            console.log([gd, 'removed!']);\n",
              "            Plotly.purge(gd);\n",
              "            observer.disconnect();\n",
              "        }}\n",
              "}});\n",
              "\n",
              "// Listen for the removal of the full notebook cells\n",
              "var notebookContainer = gd.closest('#notebook-container');\n",
              "if (notebookContainer) {{\n",
              "    x.observe(notebookContainer, {childList: true});\n",
              "}}\n",
              "\n",
              "// Listen for the clearing of the current output cell\n",
              "var outputEl = gd.closest('.output');\n",
              "if (outputEl) {{\n",
              "    x.observe(outputEl, {childList: true});\n",
              "}}\n",
              "\n",
              "                        })                };                            </script>        </div>\n",
              "</body>\n",
              "</html>"
            ]
          },
          "metadata": {}
        }
      ]
    },
    {
      "cell_type": "code",
      "metadata": {
        "id": "k1bK8AQxYQFt"
      },
      "source": [
        "#대형 배급사 별로 매년 배급 영화수와 총 영화수 비교\n",
        "new_movies_art_big5_counts = new_movies_art_big5.groupby(['개봉연도','배급사']).size().reset_index(name='배급영화수')\n",
        "new_movies_art_big5_counts['총영화수'] = new_movies_art_big5_counts.groupby('개봉연도')['배급영화수'].transform('sum')\n",
        "new_movies_art_big5_counts['배급비중'] = new_movies_art_big5_counts['배급영화수']/new_movies_art_big5_counts['총영화수']*100\n",
        "new_movies_art_big5_counts\n",
        "\n",
        "\n",
        "#배급사 구분 별로 매년 배급되는 영화의 영화 매출액 비교 \n",
        "new_movies_art_big5_sum = new_movies_art_big5.groupby(['개봉연도','배급사'])['전국매출액'].sum().reset_index(name='배급사매출액')\n",
        "new_movies_art_big5_sum['총매출액'] = new_movies_art_big5_sum.groupby('개봉연도')['배급사매출액'].transform('sum')\n",
        "new_movies_art_big5_sum['매출액비중'] = new_movies_art_big5_sum['배급사매출액']/new_movies_art_big5_sum['총매출액']*100\n",
        "\n",
        "\n",
        "new_movies_art_big5_agg = pd.merge(new_movies_art_big5_counts, new_movies_art_big5_sum, how=\"left\", on=[\"개봉연도\", \"배급사\"])\n",
        "new_movies_art_big5_agg = new_movies_art_big5_agg[['개봉연도', '배급사', '배급영화수', '배급비중', '배급사매출액','매출액비중']].sort_values(by = [\"개봉연도\", \"배급영화수\"], ascending=[True, False])\n"
      ],
      "execution_count": 184,
      "outputs": []
    },
    {
      "cell_type": "code",
      "metadata": {
        "colab": {
          "base_uri": "https://localhost:8080/",
          "height": 542
        },
        "id": "tJVRN990rZWn",
        "outputId": "02b7d068-df00-4832-bd87-898abfc9655a"
      },
      "source": [
        "#배급사 별로 매년 배급 영화 수(비중) 추이를 보면 CGV 아트하우스에서 30~70%의 영화 배급을 담당했음을 알 수 있음 \n",
        "#아트하우스가 들어온 2013년에는 영화 배급 수가 5편에서 11편으로 120% 상승하는데, 이때 CGV가 4편이 증가하면서 영화 배급수 상승의 60%를 차지함\n",
        "#아트하우스가 철수한 2020년에는 영화 배급 수 차이가 가장 큰 것을 확인할 수 있음 (대형배급사의 배급 영화 수는 14편에서 2편으로 80% 이상 감소했는데, CGV 아트하우스가 7편이 감소하면서 감소량의 58.3%를 설명함  )\n",
        "fig = px.bar(new_movies_art_big5_agg,\n",
        "             x = \"개봉연도\", \n",
        "             y = \"배급영화수\", \n",
        "            #  text = \"배급영화수\",\n",
        "             title=\"연도 별 배급사에 따른 독립예술 영화 수 추이\", \n",
        "             color = \"배급사\", hover_name = \"배급사\", color_discrete_sequence=px.colors.sequential.Oranges,\n",
        "             hover_data=[\"배급비중\"], log_x = True)\n",
        "# fig.update_traces(texttemplate='%{text}개', textposition='inside')\n",
        "fig.show()"
      ],
      "execution_count": 185,
      "outputs": [
        {
          "output_type": "display_data",
          "data": {
            "text/html": [
              "<html>\n",
              "<head><meta charset=\"utf-8\" /></head>\n",
              "<body>\n",
              "    <div>            <script src=\"https://cdnjs.cloudflare.com/ajax/libs/mathjax/2.7.5/MathJax.js?config=TeX-AMS-MML_SVG\"></script><script type=\"text/javascript\">if (window.MathJax) {MathJax.Hub.Config({SVG: {font: \"STIX-Web\"}});}</script>                <script type=\"text/javascript\">window.PlotlyConfig = {MathJaxConfig: 'local'};</script>\n",
              "        <script src=\"https://cdn.plot.ly/plotly-2.3.1.min.js\"></script>                <div id=\"60f4e18e-c630-4a39-b3ed-65b1f82df841\" class=\"plotly-graph-div\" style=\"height:525px; width:100%;\"></div>            <script type=\"text/javascript\">                                    window.PLOTLYENV=window.PLOTLYENV || {};                                    if (document.getElementById(\"60f4e18e-c630-4a39-b3ed-65b1f82df841\")) {                    Plotly.newPlot(                        \"60f4e18e-c630-4a39-b3ed-65b1f82df841\",                        [{\"alignmentgroup\":\"True\",\"customdata\":[[66.66666666666666],[20.0],[27.27272727272727],[7.142857142857142],[16.666666666666664],[25.0],[5.555555555555555],[28.57142857142857],[21.428571428571427]],\"hovertemplate\":\"<b>%{hovertext}</b><br><br>\\ubc30\\uae09\\uc0ac=(\\uc8fc)\\ub125\\uc2a4\\ud2b8\\uc5d4\\ud130\\ud14c\\uc778\\uba3c\\ud2b8\\uc6d4\\ub4dc(NEW)<br>\\uac1c\\ubd09\\uc5f0\\ub3c4=%{x}<br>\\ubc30\\uae09\\uc601\\ud654\\uc218=%{y}<br>\\ubc30\\uae09\\ube44\\uc911=%{customdata[0]}<extra></extra>\",\"hovertext\":[\"(\\uc8fc)\\ub125\\uc2a4\\ud2b8\\uc5d4\\ud130\\ud14c\\uc778\\uba3c\\ud2b8\\uc6d4\\ub4dc(NEW)\",\"(\\uc8fc)\\ub125\\uc2a4\\ud2b8\\uc5d4\\ud130\\ud14c\\uc778\\uba3c\\ud2b8\\uc6d4\\ub4dc(NEW)\",\"(\\uc8fc)\\ub125\\uc2a4\\ud2b8\\uc5d4\\ud130\\ud14c\\uc778\\uba3c\\ud2b8\\uc6d4\\ub4dc(NEW)\",\"(\\uc8fc)\\ub125\\uc2a4\\ud2b8\\uc5d4\\ud130\\ud14c\\uc778\\uba3c\\ud2b8\\uc6d4\\ub4dc(NEW)\",\"(\\uc8fc)\\ub125\\uc2a4\\ud2b8\\uc5d4\\ud130\\ud14c\\uc778\\uba3c\\ud2b8\\uc6d4\\ub4dc(NEW)\",\"(\\uc8fc)\\ub125\\uc2a4\\ud2b8\\uc5d4\\ud130\\ud14c\\uc778\\uba3c\\ud2b8\\uc6d4\\ub4dc(NEW)\",\"(\\uc8fc)\\ub125\\uc2a4\\ud2b8\\uc5d4\\ud130\\ud14c\\uc778\\uba3c\\ud2b8\\uc6d4\\ub4dc(NEW)\",\"(\\uc8fc)\\ub125\\uc2a4\\ud2b8\\uc5d4\\ud130\\ud14c\\uc778\\uba3c\\ud2b8\\uc6d4\\ub4dc(NEW)\",\"(\\uc8fc)\\ub125\\uc2a4\\ud2b8\\uc5d4\\ud130\\ud14c\\uc778\\uba3c\\ud2b8\\uc6d4\\ub4dc(NEW)\"],\"legendgroup\":\"(\\uc8fc)\\ub125\\uc2a4\\ud2b8\\uc5d4\\ud130\\ud14c\\uc778\\uba3c\\ud2b8\\uc6d4\\ub4dc(NEW)\",\"marker\":{\"color\":\"rgb(255,245,235)\",\"pattern\":{\"shape\":\"\"}},\"name\":\"(\\uc8fc)\\ub125\\uc2a4\\ud2b8\\uc5d4\\ud130\\ud14c\\uc778\\uba3c\\ud2b8\\uc6d4\\ub4dc(NEW)\",\"offsetgroup\":\"(\\uc8fc)\\ub125\\uc2a4\\ud2b8\\uc5d4\\ud130\\ud14c\\uc778\\uba3c\\ud2b8\\uc6d4\\ub4dc(NEW)\",\"orientation\":\"v\",\"showlegend\":true,\"textposition\":\"auto\",\"type\":\"bar\",\"x\":[2011,2012,2013,2014,2015,2016,2017,2018,2019],\"xaxis\":\"x\",\"y\":[2,1,3,1,2,3,1,4,3],\"yaxis\":\"y\"},{\"alignmentgroup\":\"True\",\"customdata\":[[33.33333333333333],[40.0],[9.090909090909092],[7.142857142857142],[33.33333333333333],[16.666666666666664],[16.666666666666664]],\"hovertemplate\":\"<b>%{hovertext}</b><br><br>\\ubc30\\uae09\\uc0ac=\\ub86f\\ub370\\uc1fc\\ud551\\u321c\\ub86f\\ub370\\uc5d4\\ud130\\ud14c\\uc778\\uba3c\\ud2b8<br>\\uac1c\\ubd09\\uc5f0\\ub3c4=%{x}<br>\\ubc30\\uae09\\uc601\\ud654\\uc218=%{y}<br>\\ubc30\\uae09\\ube44\\uc911=%{customdata[0]}<extra></extra>\",\"hovertext\":[\"\\ub86f\\ub370\\uc1fc\\ud551\\u321c\\ub86f\\ub370\\uc5d4\\ud130\\ud14c\\uc778\\uba3c\\ud2b8\",\"\\ub86f\\ub370\\uc1fc\\ud551\\u321c\\ub86f\\ub370\\uc5d4\\ud130\\ud14c\\uc778\\uba3c\\ud2b8\",\"\\ub86f\\ub370\\uc1fc\\ud551\\u321c\\ub86f\\ub370\\uc5d4\\ud130\\ud14c\\uc778\\uba3c\\ud2b8\",\"\\ub86f\\ub370\\uc1fc\\ud551\\u321c\\ub86f\\ub370\\uc5d4\\ud130\\ud14c\\uc778\\uba3c\\ud2b8\",\"\\ub86f\\ub370\\uc1fc\\ud551\\u321c\\ub86f\\ub370\\uc5d4\\ud130\\ud14c\\uc778\\uba3c\\ud2b8\",\"\\ub86f\\ub370\\uc1fc\\ud551\\u321c\\ub86f\\ub370\\uc5d4\\ud130\\ud14c\\uc778\\uba3c\\ud2b8\",\"\\ub86f\\ub370\\uc1fc\\ud551\\u321c\\ub86f\\ub370\\uc5d4\\ud130\\ud14c\\uc778\\uba3c\\ud2b8\"],\"legendgroup\":\"\\ub86f\\ub370\\uc1fc\\ud551\\u321c\\ub86f\\ub370\\uc5d4\\ud130\\ud14c\\uc778\\uba3c\\ud2b8\",\"marker\":{\"color\":\"rgb(254,230,206)\",\"pattern\":{\"shape\":\"\"}},\"name\":\"\\ub86f\\ub370\\uc1fc\\ud551\\u321c\\ub86f\\ub370\\uc5d4\\ud130\\ud14c\\uc778\\uba3c\\ud2b8\",\"offsetgroup\":\"\\ub86f\\ub370\\uc1fc\\ud551\\u321c\\ub86f\\ub370\\uc5d4\\ud130\\ud14c\\uc778\\uba3c\\ud2b8\",\"orientation\":\"v\",\"showlegend\":true,\"textposition\":\"auto\",\"type\":\"bar\",\"x\":[2011,2012,2013,2014,2015,2016,2017],\"xaxis\":\"x\",\"y\":[1,2,1,1,4,2,3],\"yaxis\":\"y\"},{\"alignmentgroup\":\"True\",\"customdata\":[[40.0],[27.27272727272727],[21.428571428571427],[16.666666666666664],[50.0]],\"hovertemplate\":\"<b>%{hovertext}</b><br><br>\\ubc30\\uae09\\uc0ac=(\\uc8fc)\\uc528\\uc81c\\uc774\\uc774\\uc5d4\\uc5e0<br>\\uac1c\\ubd09\\uc5f0\\ub3c4=%{x}<br>\\ubc30\\uae09\\uc601\\ud654\\uc218=%{y}<br>\\ubc30\\uae09\\ube44\\uc911=%{customdata[0]}<extra></extra>\",\"hovertext\":[\"(\\uc8fc)\\uc528\\uc81c\\uc774\\uc774\\uc5d4\\uc5e0\",\"(\\uc8fc)\\uc528\\uc81c\\uc774\\uc774\\uc5d4\\uc5e0\",\"(\\uc8fc)\\uc528\\uc81c\\uc774\\uc774\\uc5d4\\uc5e0\",\"(\\uc8fc)\\uc528\\uc81c\\uc774\\uc774\\uc5d4\\uc5e0\",\"(\\uc8fc)\\uc528\\uc81c\\uc774\\uc774\\uc5d4\\uc5e0\"],\"legendgroup\":\"(\\uc8fc)\\uc528\\uc81c\\uc774\\uc774\\uc5d4\\uc5e0\",\"marker\":{\"color\":\"rgb(253,208,162)\",\"pattern\":{\"shape\":\"\"}},\"name\":\"(\\uc8fc)\\uc528\\uc81c\\uc774\\uc774\\uc5d4\\uc5e0\",\"offsetgroup\":\"(\\uc8fc)\\uc528\\uc81c\\uc774\\uc774\\uc5d4\\uc5e0\",\"orientation\":\"v\",\"showlegend\":true,\"textposition\":\"auto\",\"type\":\"bar\",\"x\":[2012,2013,2014,2015,2020],\"xaxis\":\"x\",\"y\":[2,3,3,2,1],\"yaxis\":\"y\"},{\"alignmentgroup\":\"True\",\"customdata\":[[36.36363636363637],[57.14285714285714],[25.0],[58.333333333333336],[77.77777777777779],[64.28571428571429],[50.0]],\"hovertemplate\":\"<b>%{hovertext}</b><br><br>\\ubc30\\uae09\\uc0ac=CGV\\uc544\\ud2b8\\ud558\\uc6b0\\uc2a4<br>\\uac1c\\ubd09\\uc5f0\\ub3c4=%{x}<br>\\ubc30\\uae09\\uc601\\ud654\\uc218=%{y}<br>\\ubc30\\uae09\\ube44\\uc911=%{customdata[0]}<extra></extra>\",\"hovertext\":[\"CGV\\uc544\\ud2b8\\ud558\\uc6b0\\uc2a4\",\"CGV\\uc544\\ud2b8\\ud558\\uc6b0\\uc2a4\",\"CGV\\uc544\\ud2b8\\ud558\\uc6b0\\uc2a4\",\"CGV\\uc544\\ud2b8\\ud558\\uc6b0\\uc2a4\",\"CGV\\uc544\\ud2b8\\ud558\\uc6b0\\uc2a4\",\"CGV\\uc544\\ud2b8\\ud558\\uc6b0\\uc2a4\",\"CGV\\uc544\\ud2b8\\ud558\\uc6b0\\uc2a4\"],\"legendgroup\":\"CGV\\uc544\\ud2b8\\ud558\\uc6b0\\uc2a4\",\"marker\":{\"color\":\"rgb(253,174,107)\",\"pattern\":{\"shape\":\"\"}},\"name\":\"CGV\\uc544\\ud2b8\\ud558\\uc6b0\\uc2a4\",\"offsetgroup\":\"CGV\\uc544\\ud2b8\\ud558\\uc6b0\\uc2a4\",\"orientation\":\"v\",\"showlegend\":true,\"textposition\":\"auto\",\"type\":\"bar\",\"x\":[2013,2014,2015,2016,2017,2018,2019],\"xaxis\":\"x\",\"y\":[4,8,3,7,14,9,7],\"yaxis\":\"y\"},{\"alignmentgroup\":\"True\",\"customdata\":[[7.142857142857142],[8.333333333333332]],\"hovertemplate\":\"<b>%{hovertext}</b><br><br>\\ubc30\\uae09\\uc0ac=(\\uc8fc)\\uc1fc\\ubc15\\uc2a4<br>\\uac1c\\ubd09\\uc5f0\\ub3c4=%{x}<br>\\ubc30\\uae09\\uc601\\ud654\\uc218=%{y}<br>\\ubc30\\uae09\\ube44\\uc911=%{customdata[0]}<extra></extra>\",\"hovertext\":[\"(\\uc8fc)\\uc1fc\\ubc15\\uc2a4\",\"(\\uc8fc)\\uc1fc\\ubc15\\uc2a4\"],\"legendgroup\":\"(\\uc8fc)\\uc1fc\\ubc15\\uc2a4\",\"marker\":{\"color\":\"rgb(253,141,60)\",\"pattern\":{\"shape\":\"\"}},\"name\":\"(\\uc8fc)\\uc1fc\\ubc15\\uc2a4\",\"offsetgroup\":\"(\\uc8fc)\\uc1fc\\ubc15\\uc2a4\",\"orientation\":\"v\",\"showlegend\":true,\"textposition\":\"auto\",\"type\":\"bar\",\"x\":[2014,2015],\"xaxis\":\"x\",\"y\":[1,1],\"yaxis\":\"y\"},{\"alignmentgroup\":\"True\",\"customdata\":[[7.142857142857142],[28.57142857142857],[50.0]],\"hovertemplate\":\"<b>%{hovertext}</b><br><br>\\ubc30\\uae09\\uc0ac=\\ub86f\\ub370\\uceec\\ucc98\\uc6cd\\uc2a4(\\uc8fc)\\ub86f\\ub370\\uc5d4\\ud130\\ud14c\\uc778\\uba3c\\ud2b8<br>\\uac1c\\ubd09\\uc5f0\\ub3c4=%{x}<br>\\ubc30\\uae09\\uc601\\ud654\\uc218=%{y}<br>\\ubc30\\uae09\\ube44\\uc911=%{customdata[0]}<extra></extra>\",\"hovertext\":[\"\\ub86f\\ub370\\uceec\\ucc98\\uc6cd\\uc2a4(\\uc8fc)\\ub86f\\ub370\\uc5d4\\ud130\\ud14c\\uc778\\uba3c\\ud2b8\",\"\\ub86f\\ub370\\uceec\\ucc98\\uc6cd\\uc2a4(\\uc8fc)\\ub86f\\ub370\\uc5d4\\ud130\\ud14c\\uc778\\uba3c\\ud2b8\",\"\\ub86f\\ub370\\uceec\\ucc98\\uc6cd\\uc2a4(\\uc8fc)\\ub86f\\ub370\\uc5d4\\ud130\\ud14c\\uc778\\uba3c\\ud2b8\"],\"legendgroup\":\"\\ub86f\\ub370\\uceec\\ucc98\\uc6cd\\uc2a4(\\uc8fc)\\ub86f\\ub370\\uc5d4\\ud130\\ud14c\\uc778\\uba3c\\ud2b8\",\"marker\":{\"color\":\"rgb(241,105,19)\",\"pattern\":{\"shape\":\"\"}},\"name\":\"\\ub86f\\ub370\\uceec\\ucc98\\uc6cd\\uc2a4(\\uc8fc)\\ub86f\\ub370\\uc5d4\\ud130\\ud14c\\uc778\\uba3c\\ud2b8\",\"offsetgroup\":\"\\ub86f\\ub370\\uceec\\ucc98\\uc6cd\\uc2a4(\\uc8fc)\\ub86f\\ub370\\uc5d4\\ud130\\ud14c\\uc778\\uba3c\\ud2b8\",\"orientation\":\"v\",\"showlegend\":true,\"textposition\":\"auto\",\"type\":\"bar\",\"x\":[2018,2019,2020],\"xaxis\":\"x\",\"y\":[1,4,1],\"yaxis\":\"y\"}],                        {\"barmode\":\"relative\",\"legend\":{\"title\":{\"text\":\"\\ubc30\\uae09\\uc0ac\"},\"tracegroupgap\":0},\"template\":{\"data\":{\"bar\":[{\"error_x\":{\"color\":\"#2a3f5f\"},\"error_y\":{\"color\":\"#2a3f5f\"},\"marker\":{\"line\":{\"color\":\"#E5ECF6\",\"width\":0.5},\"pattern\":{\"fillmode\":\"overlay\",\"size\":10,\"solidity\":0.2}},\"type\":\"bar\"}],\"barpolar\":[{\"marker\":{\"line\":{\"color\":\"#E5ECF6\",\"width\":0.5},\"pattern\":{\"fillmode\":\"overlay\",\"size\":10,\"solidity\":0.2}},\"type\":\"barpolar\"}],\"carpet\":[{\"aaxis\":{\"endlinecolor\":\"#2a3f5f\",\"gridcolor\":\"white\",\"linecolor\":\"white\",\"minorgridcolor\":\"white\",\"startlinecolor\":\"#2a3f5f\"},\"baxis\":{\"endlinecolor\":\"#2a3f5f\",\"gridcolor\":\"white\",\"linecolor\":\"white\",\"minorgridcolor\":\"white\",\"startlinecolor\":\"#2a3f5f\"},\"type\":\"carpet\"}],\"choropleth\":[{\"colorbar\":{\"outlinewidth\":0,\"ticks\":\"\"},\"type\":\"choropleth\"}],\"contour\":[{\"colorbar\":{\"outlinewidth\":0,\"ticks\":\"\"},\"colorscale\":[[0.0,\"#0d0887\"],[0.1111111111111111,\"#46039f\"],[0.2222222222222222,\"#7201a8\"],[0.3333333333333333,\"#9c179e\"],[0.4444444444444444,\"#bd3786\"],[0.5555555555555556,\"#d8576b\"],[0.6666666666666666,\"#ed7953\"],[0.7777777777777778,\"#fb9f3a\"],[0.8888888888888888,\"#fdca26\"],[1.0,\"#f0f921\"]],\"type\":\"contour\"}],\"contourcarpet\":[{\"colorbar\":{\"outlinewidth\":0,\"ticks\":\"\"},\"type\":\"contourcarpet\"}],\"heatmap\":[{\"colorbar\":{\"outlinewidth\":0,\"ticks\":\"\"},\"colorscale\":[[0.0,\"#0d0887\"],[0.1111111111111111,\"#46039f\"],[0.2222222222222222,\"#7201a8\"],[0.3333333333333333,\"#9c179e\"],[0.4444444444444444,\"#bd3786\"],[0.5555555555555556,\"#d8576b\"],[0.6666666666666666,\"#ed7953\"],[0.7777777777777778,\"#fb9f3a\"],[0.8888888888888888,\"#fdca26\"],[1.0,\"#f0f921\"]],\"type\":\"heatmap\"}],\"heatmapgl\":[{\"colorbar\":{\"outlinewidth\":0,\"ticks\":\"\"},\"colorscale\":[[0.0,\"#0d0887\"],[0.1111111111111111,\"#46039f\"],[0.2222222222222222,\"#7201a8\"],[0.3333333333333333,\"#9c179e\"],[0.4444444444444444,\"#bd3786\"],[0.5555555555555556,\"#d8576b\"],[0.6666666666666666,\"#ed7953\"],[0.7777777777777778,\"#fb9f3a\"],[0.8888888888888888,\"#fdca26\"],[1.0,\"#f0f921\"]],\"type\":\"heatmapgl\"}],\"histogram\":[{\"marker\":{\"pattern\":{\"fillmode\":\"overlay\",\"size\":10,\"solidity\":0.2}},\"type\":\"histogram\"}],\"histogram2d\":[{\"colorbar\":{\"outlinewidth\":0,\"ticks\":\"\"},\"colorscale\":[[0.0,\"#0d0887\"],[0.1111111111111111,\"#46039f\"],[0.2222222222222222,\"#7201a8\"],[0.3333333333333333,\"#9c179e\"],[0.4444444444444444,\"#bd3786\"],[0.5555555555555556,\"#d8576b\"],[0.6666666666666666,\"#ed7953\"],[0.7777777777777778,\"#fb9f3a\"],[0.8888888888888888,\"#fdca26\"],[1.0,\"#f0f921\"]],\"type\":\"histogram2d\"}],\"histogram2dcontour\":[{\"colorbar\":{\"outlinewidth\":0,\"ticks\":\"\"},\"colorscale\":[[0.0,\"#0d0887\"],[0.1111111111111111,\"#46039f\"],[0.2222222222222222,\"#7201a8\"],[0.3333333333333333,\"#9c179e\"],[0.4444444444444444,\"#bd3786\"],[0.5555555555555556,\"#d8576b\"],[0.6666666666666666,\"#ed7953\"],[0.7777777777777778,\"#fb9f3a\"],[0.8888888888888888,\"#fdca26\"],[1.0,\"#f0f921\"]],\"type\":\"histogram2dcontour\"}],\"mesh3d\":[{\"colorbar\":{\"outlinewidth\":0,\"ticks\":\"\"},\"type\":\"mesh3d\"}],\"parcoords\":[{\"line\":{\"colorbar\":{\"outlinewidth\":0,\"ticks\":\"\"}},\"type\":\"parcoords\"}],\"pie\":[{\"automargin\":true,\"type\":\"pie\"}],\"scatter\":[{\"marker\":{\"colorbar\":{\"outlinewidth\":0,\"ticks\":\"\"}},\"type\":\"scatter\"}],\"scatter3d\":[{\"line\":{\"colorbar\":{\"outlinewidth\":0,\"ticks\":\"\"}},\"marker\":{\"colorbar\":{\"outlinewidth\":0,\"ticks\":\"\"}},\"type\":\"scatter3d\"}],\"scattercarpet\":[{\"marker\":{\"colorbar\":{\"outlinewidth\":0,\"ticks\":\"\"}},\"type\":\"scattercarpet\"}],\"scattergeo\":[{\"marker\":{\"colorbar\":{\"outlinewidth\":0,\"ticks\":\"\"}},\"type\":\"scattergeo\"}],\"scattergl\":[{\"marker\":{\"colorbar\":{\"outlinewidth\":0,\"ticks\":\"\"}},\"type\":\"scattergl\"}],\"scattermapbox\":[{\"marker\":{\"colorbar\":{\"outlinewidth\":0,\"ticks\":\"\"}},\"type\":\"scattermapbox\"}],\"scatterpolar\":[{\"marker\":{\"colorbar\":{\"outlinewidth\":0,\"ticks\":\"\"}},\"type\":\"scatterpolar\"}],\"scatterpolargl\":[{\"marker\":{\"colorbar\":{\"outlinewidth\":0,\"ticks\":\"\"}},\"type\":\"scatterpolargl\"}],\"scatterternary\":[{\"marker\":{\"colorbar\":{\"outlinewidth\":0,\"ticks\":\"\"}},\"type\":\"scatterternary\"}],\"surface\":[{\"colorbar\":{\"outlinewidth\":0,\"ticks\":\"\"},\"colorscale\":[[0.0,\"#0d0887\"],[0.1111111111111111,\"#46039f\"],[0.2222222222222222,\"#7201a8\"],[0.3333333333333333,\"#9c179e\"],[0.4444444444444444,\"#bd3786\"],[0.5555555555555556,\"#d8576b\"],[0.6666666666666666,\"#ed7953\"],[0.7777777777777778,\"#fb9f3a\"],[0.8888888888888888,\"#fdca26\"],[1.0,\"#f0f921\"]],\"type\":\"surface\"}],\"table\":[{\"cells\":{\"fill\":{\"color\":\"#EBF0F8\"},\"line\":{\"color\":\"white\"}},\"header\":{\"fill\":{\"color\":\"#C8D4E3\"},\"line\":{\"color\":\"white\"}},\"type\":\"table\"}]},\"layout\":{\"annotationdefaults\":{\"arrowcolor\":\"#2a3f5f\",\"arrowhead\":0,\"arrowwidth\":1},\"autotypenumbers\":\"strict\",\"coloraxis\":{\"colorbar\":{\"outlinewidth\":0,\"ticks\":\"\"}},\"colorscale\":{\"diverging\":[[0,\"#8e0152\"],[0.1,\"#c51b7d\"],[0.2,\"#de77ae\"],[0.3,\"#f1b6da\"],[0.4,\"#fde0ef\"],[0.5,\"#f7f7f7\"],[0.6,\"#e6f5d0\"],[0.7,\"#b8e186\"],[0.8,\"#7fbc41\"],[0.9,\"#4d9221\"],[1,\"#276419\"]],\"sequential\":[[0.0,\"#0d0887\"],[0.1111111111111111,\"#46039f\"],[0.2222222222222222,\"#7201a8\"],[0.3333333333333333,\"#9c179e\"],[0.4444444444444444,\"#bd3786\"],[0.5555555555555556,\"#d8576b\"],[0.6666666666666666,\"#ed7953\"],[0.7777777777777778,\"#fb9f3a\"],[0.8888888888888888,\"#fdca26\"],[1.0,\"#f0f921\"]],\"sequentialminus\":[[0.0,\"#0d0887\"],[0.1111111111111111,\"#46039f\"],[0.2222222222222222,\"#7201a8\"],[0.3333333333333333,\"#9c179e\"],[0.4444444444444444,\"#bd3786\"],[0.5555555555555556,\"#d8576b\"],[0.6666666666666666,\"#ed7953\"],[0.7777777777777778,\"#fb9f3a\"],[0.8888888888888888,\"#fdca26\"],[1.0,\"#f0f921\"]]},\"colorway\":[\"#636efa\",\"#EF553B\",\"#00cc96\",\"#ab63fa\",\"#FFA15A\",\"#19d3f3\",\"#FF6692\",\"#B6E880\",\"#FF97FF\",\"#FECB52\"],\"font\":{\"color\":\"#2a3f5f\"},\"geo\":{\"bgcolor\":\"white\",\"lakecolor\":\"white\",\"landcolor\":\"#E5ECF6\",\"showlakes\":true,\"showland\":true,\"subunitcolor\":\"white\"},\"hoverlabel\":{\"align\":\"left\"},\"hovermode\":\"closest\",\"mapbox\":{\"style\":\"light\"},\"paper_bgcolor\":\"white\",\"plot_bgcolor\":\"#E5ECF6\",\"polar\":{\"angularaxis\":{\"gridcolor\":\"white\",\"linecolor\":\"white\",\"ticks\":\"\"},\"bgcolor\":\"#E5ECF6\",\"radialaxis\":{\"gridcolor\":\"white\",\"linecolor\":\"white\",\"ticks\":\"\"}},\"scene\":{\"xaxis\":{\"backgroundcolor\":\"#E5ECF6\",\"gridcolor\":\"white\",\"gridwidth\":2,\"linecolor\":\"white\",\"showbackground\":true,\"ticks\":\"\",\"zerolinecolor\":\"white\"},\"yaxis\":{\"backgroundcolor\":\"#E5ECF6\",\"gridcolor\":\"white\",\"gridwidth\":2,\"linecolor\":\"white\",\"showbackground\":true,\"ticks\":\"\",\"zerolinecolor\":\"white\"},\"zaxis\":{\"backgroundcolor\":\"#E5ECF6\",\"gridcolor\":\"white\",\"gridwidth\":2,\"linecolor\":\"white\",\"showbackground\":true,\"ticks\":\"\",\"zerolinecolor\":\"white\"}},\"shapedefaults\":{\"line\":{\"color\":\"#2a3f5f\"}},\"ternary\":{\"aaxis\":{\"gridcolor\":\"white\",\"linecolor\":\"white\",\"ticks\":\"\"},\"baxis\":{\"gridcolor\":\"white\",\"linecolor\":\"white\",\"ticks\":\"\"},\"bgcolor\":\"#E5ECF6\",\"caxis\":{\"gridcolor\":\"white\",\"linecolor\":\"white\",\"ticks\":\"\"}},\"title\":{\"x\":0.05},\"xaxis\":{\"automargin\":true,\"gridcolor\":\"white\",\"linecolor\":\"white\",\"ticks\":\"\",\"title\":{\"standoff\":15},\"zerolinecolor\":\"white\",\"zerolinewidth\":2},\"yaxis\":{\"automargin\":true,\"gridcolor\":\"white\",\"linecolor\":\"white\",\"ticks\":\"\",\"title\":{\"standoff\":15},\"zerolinecolor\":\"white\",\"zerolinewidth\":2}}},\"title\":{\"text\":\"\\uc5f0\\ub3c4 \\ubcc4 \\ubc30\\uae09\\uc0ac\\uc5d0 \\ub530\\ub978 \\ub3c5\\ub9bd\\uc608\\uc220 \\uc601\\ud654 \\uc218 \\ucd94\\uc774\"},\"xaxis\":{\"anchor\":\"y\",\"domain\":[0.0,1.0],\"title\":{\"text\":\"\\uac1c\\ubd09\\uc5f0\\ub3c4\"},\"type\":\"log\"},\"yaxis\":{\"anchor\":\"x\",\"domain\":[0.0,1.0],\"title\":{\"text\":\"\\ubc30\\uae09\\uc601\\ud654\\uc218\"}}},                        {\"responsive\": true}                    ).then(function(){\n",
              "                            \n",
              "var gd = document.getElementById('60f4e18e-c630-4a39-b3ed-65b1f82df841');\n",
              "var x = new MutationObserver(function (mutations, observer) {{\n",
              "        var display = window.getComputedStyle(gd).display;\n",
              "        if (!display || display === 'none') {{\n",
              "            console.log([gd, 'removed!']);\n",
              "            Plotly.purge(gd);\n",
              "            observer.disconnect();\n",
              "        }}\n",
              "}});\n",
              "\n",
              "// Listen for the removal of the full notebook cells\n",
              "var notebookContainer = gd.closest('#notebook-container');\n",
              "if (notebookContainer) {{\n",
              "    x.observe(notebookContainer, {childList: true});\n",
              "}}\n",
              "\n",
              "// Listen for the clearing of the current output cell\n",
              "var outputEl = gd.closest('.output');\n",
              "if (outputEl) {{\n",
              "    x.observe(outputEl, {childList: true});\n",
              "}}\n",
              "\n",
              "                        })                };                            </script>        </div>\n",
              "</body>\n",
              "</html>"
            ]
          },
          "metadata": {}
        }
      ]
    },
    {
      "cell_type": "code",
      "metadata": {
        "colab": {
          "base_uri": "https://localhost:8080/",
          "height": 542
        },
        "id": "V1NBuzY4d73t",
        "outputId": "5ef9a306-51f4-42c5-b91f-5e0acbd858d4"
      },
      "source": [
        "#배급사 별로 매년 배급 영화 매출 추이를 보면 CGV 아트하우스는 1편 당 매출액이 40억 이상인 2014년을 제외('님아 그 강을 건너지 마오')하고는 영화 1편 당 매출이 7억 대로 감소하고 있었고, 2017년에는 매출이 3.5억, 2018년에는 매출이 2.7억원으로 감소 \n",
        "#cgv에 따르면 투자, 배급한 영화의 상당수 작품이 손익 분기점을 넘기지 못함 -> 지속되는 적자를 해결하지 못하고 2019년 사업 철회\n",
        "fig = px.bar(new_movies_art_big5_agg,\n",
        "             x = \"개봉연도\", \n",
        "             y = \"배급사매출액\", \n",
        "            #  text = \"배급영화수\",\n",
        "             title=\"연도 별 배급사에 따른 독립예술 영화 매출액 추이\", \n",
        "             color = \"배급사\", hover_name = \"배급사\", color_discrete_sequence=px.colors.sequential.Oranges,\n",
        "             hover_data=[\"매출액비중\"], log_x = True)\n",
        "# fig.update_traces(texttemplate='%{text}개', textposition='inside')\n",
        "fig.show()"
      ],
      "execution_count": 186,
      "outputs": [
        {
          "output_type": "display_data",
          "data": {
            "text/html": [
              "<html>\n",
              "<head><meta charset=\"utf-8\" /></head>\n",
              "<body>\n",
              "    <div>            <script src=\"https://cdnjs.cloudflare.com/ajax/libs/mathjax/2.7.5/MathJax.js?config=TeX-AMS-MML_SVG\"></script><script type=\"text/javascript\">if (window.MathJax) {MathJax.Hub.Config({SVG: {font: \"STIX-Web\"}});}</script>                <script type=\"text/javascript\">window.PlotlyConfig = {MathJaxConfig: 'local'};</script>\n",
              "        <script src=\"https://cdn.plot.ly/plotly-2.3.1.min.js\"></script>                <div id=\"d8336d65-efe4-45c6-9b1e-5923d0e9adbd\" class=\"plotly-graph-div\" style=\"height:525px; width:100%;\"></div>            <script type=\"text/javascript\">                                    window.PLOTLYENV=window.PLOTLYENV || {};                                    if (document.getElementById(\"d8336d65-efe4-45c6-9b1e-5923d0e9adbd\")) {                    Plotly.newPlot(                        \"d8336d65-efe4-45c6-9b1e-5923d0e9adbd\",                        [{\"alignmentgroup\":\"True\",\"customdata\":[[92.68804129068303],[82.74172401936046],[30.763554840259104],[1.63608767954341],[3.9178964996142054],[24.884008140762095],[35.520928404306915],[41.35092862116372],[11.971313872280048]],\"hovertemplate\":\"<b>%{hovertext}</b><br><br>\\ubc30\\uae09\\uc0ac=(\\uc8fc)\\ub125\\uc2a4\\ud2b8\\uc5d4\\ud130\\ud14c\\uc778\\uba3c\\ud2b8\\uc6d4\\ub4dc(NEW)<br>\\uac1c\\ubd09\\uc5f0\\ub3c4=%{x}<br>\\ubc30\\uae09\\uc0ac\\ub9e4\\ucd9c\\uc561=%{y}<br>\\ub9e4\\ucd9c\\uc561\\ube44\\uc911=%{customdata[0]}<extra></extra>\",\"hovertext\":[\"(\\uc8fc)\\ub125\\uc2a4\\ud2b8\\uc5d4\\ud130\\ud14c\\uc778\\uba3c\\ud2b8\\uc6d4\\ub4dc(NEW)\",\"(\\uc8fc)\\ub125\\uc2a4\\ud2b8\\uc5d4\\ud130\\ud14c\\uc778\\uba3c\\ud2b8\\uc6d4\\ub4dc(NEW)\",\"(\\uc8fc)\\ub125\\uc2a4\\ud2b8\\uc5d4\\ud130\\ud14c\\uc778\\uba3c\\ud2b8\\uc6d4\\ub4dc(NEW)\",\"(\\uc8fc)\\ub125\\uc2a4\\ud2b8\\uc5d4\\ud130\\ud14c\\uc778\\uba3c\\ud2b8\\uc6d4\\ub4dc(NEW)\",\"(\\uc8fc)\\ub125\\uc2a4\\ud2b8\\uc5d4\\ud130\\ud14c\\uc778\\uba3c\\ud2b8\\uc6d4\\ub4dc(NEW)\",\"(\\uc8fc)\\ub125\\uc2a4\\ud2b8\\uc5d4\\ud130\\ud14c\\uc778\\uba3c\\ud2b8\\uc6d4\\ub4dc(NEW)\",\"(\\uc8fc)\\ub125\\uc2a4\\ud2b8\\uc5d4\\ud130\\ud14c\\uc778\\uba3c\\ud2b8\\uc6d4\\ub4dc(NEW)\",\"(\\uc8fc)\\ub125\\uc2a4\\ud2b8\\uc5d4\\ud130\\ud14c\\uc778\\uba3c\\ud2b8\\uc6d4\\ub4dc(NEW)\",\"(\\uc8fc)\\ub125\\uc2a4\\ud2b8\\uc5d4\\ud130\\ud14c\\uc778\\uba3c\\ud2b8\\uc6d4\\ub4dc(NEW)\"],\"legendgroup\":\"(\\uc8fc)\\ub125\\uc2a4\\ud2b8\\uc5d4\\ud130\\ud14c\\uc778\\uba3c\\ud2b8\\uc6d4\\ub4dc(NEW)\",\"marker\":{\"color\":\"rgb(255,245,235)\",\"pattern\":{\"shape\":\"\"}},\"name\":\"(\\uc8fc)\\ub125\\uc2a4\\ud2b8\\uc5d4\\ud130\\ud14c\\uc778\\uba3c\\ud2b8\\uc6d4\\ub4dc(NEW)\",\"offsetgroup\":\"(\\uc8fc)\\ub125\\uc2a4\\ud2b8\\uc5d4\\ud130\\ud14c\\uc778\\uba3c\\ud2b8\\uc6d4\\ub4dc(NEW)\",\"orientation\":\"v\",\"showlegend\":true,\"textposition\":\"auto\",\"type\":\"bar\",\"x\":[2011,2012,2013,2014,2015,2016,2017,2018,2019],\"xaxis\":\"x\",\"y\":[12926816000,4354008500,762818379,593174100,706449100,1909798562,3703660800,1800206405,2048677319],\"yaxis\":\"y\"},{\"alignmentgroup\":\"True\",\"customdata\":[[7.311958709316965],[4.161746113140181],[10.986010521371856],[0.47978214707955896],[12.765649163644968],[2.2611525501503196],[16.242799521608394]],\"hovertemplate\":\"<b>%{hovertext}</b><br><br>\\ubc30\\uae09\\uc0ac=\\ub86f\\ub370\\uc1fc\\ud551\\u321c\\ub86f\\ub370\\uc5d4\\ud130\\ud14c\\uc778\\uba3c\\ud2b8<br>\\uac1c\\ubd09\\uc5f0\\ub3c4=%{x}<br>\\ubc30\\uae09\\uc0ac\\ub9e4\\ucd9c\\uc561=%{y}<br>\\ub9e4\\ucd9c\\uc561\\ube44\\uc911=%{customdata[0]}<extra></extra>\",\"hovertext\":[\"\\ub86f\\ub370\\uc1fc\\ud551\\u321c\\ub86f\\ub370\\uc5d4\\ud130\\ud14c\\uc778\\uba3c\\ud2b8\",\"\\ub86f\\ub370\\uc1fc\\ud551\\u321c\\ub86f\\ub370\\uc5d4\\ud130\\ud14c\\uc778\\uba3c\\ud2b8\",\"\\ub86f\\ub370\\uc1fc\\ud551\\u321c\\ub86f\\ub370\\uc5d4\\ud130\\ud14c\\uc778\\uba3c\\ud2b8\",\"\\ub86f\\ub370\\uc1fc\\ud551\\u321c\\ub86f\\ub370\\uc5d4\\ud130\\ud14c\\uc778\\uba3c\\ud2b8\",\"\\ub86f\\ub370\\uc1fc\\ud551\\u321c\\ub86f\\ub370\\uc5d4\\ud130\\ud14c\\uc778\\uba3c\\ud2b8\",\"\\ub86f\\ub370\\uc1fc\\ud551\\u321c\\ub86f\\ub370\\uc5d4\\ud130\\ud14c\\uc778\\uba3c\\ud2b8\",\"\\ub86f\\ub370\\uc1fc\\ud551\\u321c\\ub86f\\ub370\\uc5d4\\ud130\\ud14c\\uc778\\uba3c\\ud2b8\"],\"legendgroup\":\"\\ub86f\\ub370\\uc1fc\\ud551\\u321c\\ub86f\\ub370\\uc5d4\\ud130\\ud14c\\uc778\\uba3c\\ud2b8\",\"marker\":{\"color\":\"rgb(254,230,206)\",\"pattern\":{\"shape\":\"\"}},\"name\":\"\\ub86f\\ub370\\uc1fc\\ud551\\u321c\\ub86f\\ub370\\uc5d4\\ud130\\ud14c\\uc778\\uba3c\\ud2b8\",\"offsetgroup\":\"\\ub86f\\ub370\\uc1fc\\ud551\\u321c\\ub86f\\ub370\\uc5d4\\ud130\\ud14c\\uc778\\uba3c\\ud2b8\",\"orientation\":\"v\",\"showlegend\":true,\"textposition\":\"auto\",\"type\":\"bar\",\"x\":[2011,2012,2013,2014,2015,2016,2017],\"xaxis\":\"x\",\"y\":[1019768500,218998071,272411000,173948100,2301817152,173539000,1693588050],\"yaxis\":\"y\"},{\"alignmentgroup\":\"True\",\"customdata\":[[13.09652986749936],[11.010187640899197],[0.4829711679337873],[1.24490661298436],[46.021590962631336]],\"hovertemplate\":\"<b>%{hovertext}</b><br><br>\\ubc30\\uae09\\uc0ac=(\\uc8fc)\\uc528\\uc81c\\uc774\\uc774\\uc5d4\\uc5e0<br>\\uac1c\\ubd09\\uc5f0\\ub3c4=%{x}<br>\\ubc30\\uae09\\uc0ac\\ub9e4\\ucd9c\\uc561=%{y}<br>\\ub9e4\\ucd9c\\uc561\\ube44\\uc911=%{customdata[0]}<extra></extra>\",\"hovertext\":[\"(\\uc8fc)\\uc528\\uc81c\\uc774\\uc774\\uc5d4\\uc5e0\",\"(\\uc8fc)\\uc528\\uc81c\\uc774\\uc774\\uc5d4\\uc5e0\",\"(\\uc8fc)\\uc528\\uc81c\\uc774\\uc774\\uc5d4\\uc5e0\",\"(\\uc8fc)\\uc528\\uc81c\\uc774\\uc774\\uc5d4\\uc5e0\",\"(\\uc8fc)\\uc528\\uc81c\\uc774\\uc774\\uc5d4\\uc5e0\"],\"legendgroup\":\"(\\uc8fc)\\uc528\\uc81c\\uc774\\uc774\\uc5d4\\uc5e0\",\"marker\":{\"color\":\"rgb(253,208,162)\",\"pattern\":{\"shape\":\"\"}},\"name\":\"(\\uc8fc)\\uc528\\uc81c\\uc774\\uc774\\uc5d4\\uc5e0\",\"offsetgroup\":\"(\\uc8fc)\\uc528\\uc81c\\uc774\\uc774\\uc5d4\\uc5e0\",\"orientation\":\"v\",\"showlegend\":true,\"textposition\":\"auto\",\"type\":\"bar\",\"x\":[2012,2013,2014,2015,2020],\"xaxis\":\"x\",\"y\":[689161400,273010500,175104300,224473300,110180880],\"yaxis\":\"y\"},{\"alignmentgroup\":\"True\",\"customdata\":[[47.24024699746984],[92.56649582097],[13.049341451864848],[72.85483930908758],[48.236272074084695],[58.081026445639175],[30.10185043239641]],\"hovertemplate\":\"<b>%{hovertext}</b><br><br>\\ubc30\\uae09\\uc0ac=CGV\\uc544\\ud2b8\\ud558\\uc6b0\\uc2a4<br>\\uac1c\\ubd09\\uc5f0\\ub3c4=%{x}<br>\\ubc30\\uae09\\uc0ac\\ub9e4\\ucd9c\\uc561=%{y}<br>\\ub9e4\\ucd9c\\uc561\\ube44\\uc911=%{customdata[0]}<extra></extra>\",\"hovertext\":[\"CGV\\uc544\\ud2b8\\ud558\\uc6b0\\uc2a4\",\"CGV\\uc544\\ud2b8\\ud558\\uc6b0\\uc2a4\",\"CGV\\uc544\\ud2b8\\ud558\\uc6b0\\uc2a4\",\"CGV\\uc544\\ud2b8\\ud558\\uc6b0\\uc2a4\",\"CGV\\uc544\\ud2b8\\ud558\\uc6b0\\uc2a4\",\"CGV\\uc544\\ud2b8\\ud558\\uc6b0\\uc2a4\",\"CGV\\uc544\\ud2b8\\ud558\\uc6b0\\uc2a4\"],\"legendgroup\":\"CGV\\uc544\\ud2b8\\ud558\\uc6b0\\uc2a4\",\"marker\":{\"color\":\"rgb(253,174,107)\",\"pattern\":{\"shape\":\"\"}},\"name\":\"CGV\\uc544\\ud2b8\\ud558\\uc6b0\\uc2a4\",\"offsetgroup\":\"CGV\\uc544\\ud2b8\\ud558\\uc6b0\\uc2a4\",\"orientation\":\"v\",\"showlegend\":true,\"textposition\":\"auto\",\"type\":\"bar\",\"x\":[2013,2014,2015,2016,2017,2018,2019],\"xaxis\":\"x\",\"y\":[1171377262,33560577795,2352970663,5591465272,5029451595,2528548676,5151395987],\"yaxis\":\"y\"},{\"alignmentgroup\":\"True\",\"customdata\":[[4.834663184473239],[69.02220627189162]],\"hovertemplate\":\"<b>%{hovertext}</b><br><br>\\ubc30\\uae09\\uc0ac=(\\uc8fc)\\uc1fc\\ubc15\\uc2a4<br>\\uac1c\\ubd09\\uc5f0\\ub3c4=%{x}<br>\\ubc30\\uae09\\uc0ac\\ub9e4\\ucd9c\\uc561=%{y}<br>\\ub9e4\\ucd9c\\uc561\\ube44\\uc911=%{customdata[0]}<extra></extra>\",\"hovertext\":[\"(\\uc8fc)\\uc1fc\\ubc15\\uc2a4\",\"(\\uc8fc)\\uc1fc\\ubc15\\uc2a4\"],\"legendgroup\":\"(\\uc8fc)\\uc1fc\\ubc15\\uc2a4\",\"marker\":{\"color\":\"rgb(253,141,60)\",\"pattern\":{\"shape\":\"\"}},\"name\":\"(\\uc8fc)\\uc1fc\\ubc15\\uc2a4\",\"offsetgroup\":\"(\\uc8fc)\\uc1fc\\ubc15\\uc2a4\",\"orientation\":\"v\",\"showlegend\":true,\"textposition\":\"auto\",\"type\":\"bar\",\"x\":[2014,2015],\"xaxis\":\"x\",\"y\":[1752838200,12445626245],\"yaxis\":\"y\"},{\"alignmentgroup\":\"True\",\"customdata\":[[0.5680449331971039],[57.92683569532354],[53.97840903736867]],\"hovertemplate\":\"<b>%{hovertext}</b><br><br>\\ubc30\\uae09\\uc0ac=\\ub86f\\ub370\\uceec\\ucc98\\uc6cd\\uc2a4(\\uc8fc)\\ub86f\\ub370\\uc5d4\\ud130\\ud14c\\uc778\\uba3c\\ud2b8<br>\\uac1c\\ubd09\\uc5f0\\ub3c4=%{x}<br>\\ubc30\\uae09\\uc0ac\\ub9e4\\ucd9c\\uc561=%{y}<br>\\ub9e4\\ucd9c\\uc561\\ube44\\uc911=%{customdata[0]}<extra></extra>\",\"hovertext\":[\"\\ub86f\\ub370\\uceec\\ucc98\\uc6cd\\uc2a4(\\uc8fc)\\ub86f\\ub370\\uc5d4\\ud130\\ud14c\\uc778\\uba3c\\ud2b8\",\"\\ub86f\\ub370\\uceec\\ucc98\\uc6cd\\uc2a4(\\uc8fc)\\ub86f\\ub370\\uc5d4\\ud130\\ud14c\\uc778\\uba3c\\ud2b8\",\"\\ub86f\\ub370\\uceec\\ucc98\\uc6cd\\uc2a4(\\uc8fc)\\ub86f\\ub370\\uc5d4\\ud130\\ud14c\\uc778\\uba3c\\ud2b8\"],\"legendgroup\":\"\\ub86f\\ub370\\uceec\\ucc98\\uc6cd\\uc2a4(\\uc8fc)\\ub86f\\ub370\\uc5d4\\ud130\\ud14c\\uc778\\uba3c\\ud2b8\",\"marker\":{\"color\":\"rgb(241,105,19)\",\"pattern\":{\"shape\":\"\"}},\"name\":\"\\ub86f\\ub370\\uceec\\ucc98\\uc6cd\\uc2a4(\\uc8fc)\\ub86f\\ub370\\uc5d4\\ud130\\ud14c\\uc778\\uba3c\\ud2b8\",\"offsetgroup\":\"\\ub86f\\ub370\\uceec\\ucc98\\uc6cd\\uc2a4(\\uc8fc)\\ub86f\\ub370\\uc5d4\\ud130\\ud14c\\uc778\\uba3c\\ud2b8\",\"orientation\":\"v\",\"showlegend\":true,\"textposition\":\"auto\",\"type\":\"bar\",\"x\":[2018,2019,2020],\"xaxis\":\"x\",\"y\":[24729750,9913147021,129230400],\"yaxis\":\"y\"}],                        {\"barmode\":\"relative\",\"legend\":{\"title\":{\"text\":\"\\ubc30\\uae09\\uc0ac\"},\"tracegroupgap\":0},\"template\":{\"data\":{\"bar\":[{\"error_x\":{\"color\":\"#2a3f5f\"},\"error_y\":{\"color\":\"#2a3f5f\"},\"marker\":{\"line\":{\"color\":\"#E5ECF6\",\"width\":0.5},\"pattern\":{\"fillmode\":\"overlay\",\"size\":10,\"solidity\":0.2}},\"type\":\"bar\"}],\"barpolar\":[{\"marker\":{\"line\":{\"color\":\"#E5ECF6\",\"width\":0.5},\"pattern\":{\"fillmode\":\"overlay\",\"size\":10,\"solidity\":0.2}},\"type\":\"barpolar\"}],\"carpet\":[{\"aaxis\":{\"endlinecolor\":\"#2a3f5f\",\"gridcolor\":\"white\",\"linecolor\":\"white\",\"minorgridcolor\":\"white\",\"startlinecolor\":\"#2a3f5f\"},\"baxis\":{\"endlinecolor\":\"#2a3f5f\",\"gridcolor\":\"white\",\"linecolor\":\"white\",\"minorgridcolor\":\"white\",\"startlinecolor\":\"#2a3f5f\"},\"type\":\"carpet\"}],\"choropleth\":[{\"colorbar\":{\"outlinewidth\":0,\"ticks\":\"\"},\"type\":\"choropleth\"}],\"contour\":[{\"colorbar\":{\"outlinewidth\":0,\"ticks\":\"\"},\"colorscale\":[[0.0,\"#0d0887\"],[0.1111111111111111,\"#46039f\"],[0.2222222222222222,\"#7201a8\"],[0.3333333333333333,\"#9c179e\"],[0.4444444444444444,\"#bd3786\"],[0.5555555555555556,\"#d8576b\"],[0.6666666666666666,\"#ed7953\"],[0.7777777777777778,\"#fb9f3a\"],[0.8888888888888888,\"#fdca26\"],[1.0,\"#f0f921\"]],\"type\":\"contour\"}],\"contourcarpet\":[{\"colorbar\":{\"outlinewidth\":0,\"ticks\":\"\"},\"type\":\"contourcarpet\"}],\"heatmap\":[{\"colorbar\":{\"outlinewidth\":0,\"ticks\":\"\"},\"colorscale\":[[0.0,\"#0d0887\"],[0.1111111111111111,\"#46039f\"],[0.2222222222222222,\"#7201a8\"],[0.3333333333333333,\"#9c179e\"],[0.4444444444444444,\"#bd3786\"],[0.5555555555555556,\"#d8576b\"],[0.6666666666666666,\"#ed7953\"],[0.7777777777777778,\"#fb9f3a\"],[0.8888888888888888,\"#fdca26\"],[1.0,\"#f0f921\"]],\"type\":\"heatmap\"}],\"heatmapgl\":[{\"colorbar\":{\"outlinewidth\":0,\"ticks\":\"\"},\"colorscale\":[[0.0,\"#0d0887\"],[0.1111111111111111,\"#46039f\"],[0.2222222222222222,\"#7201a8\"],[0.3333333333333333,\"#9c179e\"],[0.4444444444444444,\"#bd3786\"],[0.5555555555555556,\"#d8576b\"],[0.6666666666666666,\"#ed7953\"],[0.7777777777777778,\"#fb9f3a\"],[0.8888888888888888,\"#fdca26\"],[1.0,\"#f0f921\"]],\"type\":\"heatmapgl\"}],\"histogram\":[{\"marker\":{\"pattern\":{\"fillmode\":\"overlay\",\"size\":10,\"solidity\":0.2}},\"type\":\"histogram\"}],\"histogram2d\":[{\"colorbar\":{\"outlinewidth\":0,\"ticks\":\"\"},\"colorscale\":[[0.0,\"#0d0887\"],[0.1111111111111111,\"#46039f\"],[0.2222222222222222,\"#7201a8\"],[0.3333333333333333,\"#9c179e\"],[0.4444444444444444,\"#bd3786\"],[0.5555555555555556,\"#d8576b\"],[0.6666666666666666,\"#ed7953\"],[0.7777777777777778,\"#fb9f3a\"],[0.8888888888888888,\"#fdca26\"],[1.0,\"#f0f921\"]],\"type\":\"histogram2d\"}],\"histogram2dcontour\":[{\"colorbar\":{\"outlinewidth\":0,\"ticks\":\"\"},\"colorscale\":[[0.0,\"#0d0887\"],[0.1111111111111111,\"#46039f\"],[0.2222222222222222,\"#7201a8\"],[0.3333333333333333,\"#9c179e\"],[0.4444444444444444,\"#bd3786\"],[0.5555555555555556,\"#d8576b\"],[0.6666666666666666,\"#ed7953\"],[0.7777777777777778,\"#fb9f3a\"],[0.8888888888888888,\"#fdca26\"],[1.0,\"#f0f921\"]],\"type\":\"histogram2dcontour\"}],\"mesh3d\":[{\"colorbar\":{\"outlinewidth\":0,\"ticks\":\"\"},\"type\":\"mesh3d\"}],\"parcoords\":[{\"line\":{\"colorbar\":{\"outlinewidth\":0,\"ticks\":\"\"}},\"type\":\"parcoords\"}],\"pie\":[{\"automargin\":true,\"type\":\"pie\"}],\"scatter\":[{\"marker\":{\"colorbar\":{\"outlinewidth\":0,\"ticks\":\"\"}},\"type\":\"scatter\"}],\"scatter3d\":[{\"line\":{\"colorbar\":{\"outlinewidth\":0,\"ticks\":\"\"}},\"marker\":{\"colorbar\":{\"outlinewidth\":0,\"ticks\":\"\"}},\"type\":\"scatter3d\"}],\"scattercarpet\":[{\"marker\":{\"colorbar\":{\"outlinewidth\":0,\"ticks\":\"\"}},\"type\":\"scattercarpet\"}],\"scattergeo\":[{\"marker\":{\"colorbar\":{\"outlinewidth\":0,\"ticks\":\"\"}},\"type\":\"scattergeo\"}],\"scattergl\":[{\"marker\":{\"colorbar\":{\"outlinewidth\":0,\"ticks\":\"\"}},\"type\":\"scattergl\"}],\"scattermapbox\":[{\"marker\":{\"colorbar\":{\"outlinewidth\":0,\"ticks\":\"\"}},\"type\":\"scattermapbox\"}],\"scatterpolar\":[{\"marker\":{\"colorbar\":{\"outlinewidth\":0,\"ticks\":\"\"}},\"type\":\"scatterpolar\"}],\"scatterpolargl\":[{\"marker\":{\"colorbar\":{\"outlinewidth\":0,\"ticks\":\"\"}},\"type\":\"scatterpolargl\"}],\"scatterternary\":[{\"marker\":{\"colorbar\":{\"outlinewidth\":0,\"ticks\":\"\"}},\"type\":\"scatterternary\"}],\"surface\":[{\"colorbar\":{\"outlinewidth\":0,\"ticks\":\"\"},\"colorscale\":[[0.0,\"#0d0887\"],[0.1111111111111111,\"#46039f\"],[0.2222222222222222,\"#7201a8\"],[0.3333333333333333,\"#9c179e\"],[0.4444444444444444,\"#bd3786\"],[0.5555555555555556,\"#d8576b\"],[0.6666666666666666,\"#ed7953\"],[0.7777777777777778,\"#fb9f3a\"],[0.8888888888888888,\"#fdca26\"],[1.0,\"#f0f921\"]],\"type\":\"surface\"}],\"table\":[{\"cells\":{\"fill\":{\"color\":\"#EBF0F8\"},\"line\":{\"color\":\"white\"}},\"header\":{\"fill\":{\"color\":\"#C8D4E3\"},\"line\":{\"color\":\"white\"}},\"type\":\"table\"}]},\"layout\":{\"annotationdefaults\":{\"arrowcolor\":\"#2a3f5f\",\"arrowhead\":0,\"arrowwidth\":1},\"autotypenumbers\":\"strict\",\"coloraxis\":{\"colorbar\":{\"outlinewidth\":0,\"ticks\":\"\"}},\"colorscale\":{\"diverging\":[[0,\"#8e0152\"],[0.1,\"#c51b7d\"],[0.2,\"#de77ae\"],[0.3,\"#f1b6da\"],[0.4,\"#fde0ef\"],[0.5,\"#f7f7f7\"],[0.6,\"#e6f5d0\"],[0.7,\"#b8e186\"],[0.8,\"#7fbc41\"],[0.9,\"#4d9221\"],[1,\"#276419\"]],\"sequential\":[[0.0,\"#0d0887\"],[0.1111111111111111,\"#46039f\"],[0.2222222222222222,\"#7201a8\"],[0.3333333333333333,\"#9c179e\"],[0.4444444444444444,\"#bd3786\"],[0.5555555555555556,\"#d8576b\"],[0.6666666666666666,\"#ed7953\"],[0.7777777777777778,\"#fb9f3a\"],[0.8888888888888888,\"#fdca26\"],[1.0,\"#f0f921\"]],\"sequentialminus\":[[0.0,\"#0d0887\"],[0.1111111111111111,\"#46039f\"],[0.2222222222222222,\"#7201a8\"],[0.3333333333333333,\"#9c179e\"],[0.4444444444444444,\"#bd3786\"],[0.5555555555555556,\"#d8576b\"],[0.6666666666666666,\"#ed7953\"],[0.7777777777777778,\"#fb9f3a\"],[0.8888888888888888,\"#fdca26\"],[1.0,\"#f0f921\"]]},\"colorway\":[\"#636efa\",\"#EF553B\",\"#00cc96\",\"#ab63fa\",\"#FFA15A\",\"#19d3f3\",\"#FF6692\",\"#B6E880\",\"#FF97FF\",\"#FECB52\"],\"font\":{\"color\":\"#2a3f5f\"},\"geo\":{\"bgcolor\":\"white\",\"lakecolor\":\"white\",\"landcolor\":\"#E5ECF6\",\"showlakes\":true,\"showland\":true,\"subunitcolor\":\"white\"},\"hoverlabel\":{\"align\":\"left\"},\"hovermode\":\"closest\",\"mapbox\":{\"style\":\"light\"},\"paper_bgcolor\":\"white\",\"plot_bgcolor\":\"#E5ECF6\",\"polar\":{\"angularaxis\":{\"gridcolor\":\"white\",\"linecolor\":\"white\",\"ticks\":\"\"},\"bgcolor\":\"#E5ECF6\",\"radialaxis\":{\"gridcolor\":\"white\",\"linecolor\":\"white\",\"ticks\":\"\"}},\"scene\":{\"xaxis\":{\"backgroundcolor\":\"#E5ECF6\",\"gridcolor\":\"white\",\"gridwidth\":2,\"linecolor\":\"white\",\"showbackground\":true,\"ticks\":\"\",\"zerolinecolor\":\"white\"},\"yaxis\":{\"backgroundcolor\":\"#E5ECF6\",\"gridcolor\":\"white\",\"gridwidth\":2,\"linecolor\":\"white\",\"showbackground\":true,\"ticks\":\"\",\"zerolinecolor\":\"white\"},\"zaxis\":{\"backgroundcolor\":\"#E5ECF6\",\"gridcolor\":\"white\",\"gridwidth\":2,\"linecolor\":\"white\",\"showbackground\":true,\"ticks\":\"\",\"zerolinecolor\":\"white\"}},\"shapedefaults\":{\"line\":{\"color\":\"#2a3f5f\"}},\"ternary\":{\"aaxis\":{\"gridcolor\":\"white\",\"linecolor\":\"white\",\"ticks\":\"\"},\"baxis\":{\"gridcolor\":\"white\",\"linecolor\":\"white\",\"ticks\":\"\"},\"bgcolor\":\"#E5ECF6\",\"caxis\":{\"gridcolor\":\"white\",\"linecolor\":\"white\",\"ticks\":\"\"}},\"title\":{\"x\":0.05},\"xaxis\":{\"automargin\":true,\"gridcolor\":\"white\",\"linecolor\":\"white\",\"ticks\":\"\",\"title\":{\"standoff\":15},\"zerolinecolor\":\"white\",\"zerolinewidth\":2},\"yaxis\":{\"automargin\":true,\"gridcolor\":\"white\",\"linecolor\":\"white\",\"ticks\":\"\",\"title\":{\"standoff\":15},\"zerolinecolor\":\"white\",\"zerolinewidth\":2}}},\"title\":{\"text\":\"\\uc5f0\\ub3c4 \\ubcc4 \\ubc30\\uae09\\uc0ac\\uc5d0 \\ub530\\ub978 \\ub3c5\\ub9bd\\uc608\\uc220 \\uc601\\ud654 \\ub9e4\\ucd9c\\uc561 \\ucd94\\uc774\"},\"xaxis\":{\"anchor\":\"y\",\"domain\":[0.0,1.0],\"title\":{\"text\":\"\\uac1c\\ubd09\\uc5f0\\ub3c4\"},\"type\":\"log\"},\"yaxis\":{\"anchor\":\"x\",\"domain\":[0.0,1.0],\"title\":{\"text\":\"\\ubc30\\uae09\\uc0ac\\ub9e4\\ucd9c\\uc561\"}}},                        {\"responsive\": true}                    ).then(function(){\n",
              "                            \n",
              "var gd = document.getElementById('d8336d65-efe4-45c6-9b1e-5923d0e9adbd');\n",
              "var x = new MutationObserver(function (mutations, observer) {{\n",
              "        var display = window.getComputedStyle(gd).display;\n",
              "        if (!display || display === 'none') {{\n",
              "            console.log([gd, 'removed!']);\n",
              "            Plotly.purge(gd);\n",
              "            observer.disconnect();\n",
              "        }}\n",
              "}});\n",
              "\n",
              "// Listen for the removal of the full notebook cells\n",
              "var notebookContainer = gd.closest('#notebook-container');\n",
              "if (notebookContainer) {{\n",
              "    x.observe(notebookContainer, {childList: true});\n",
              "}}\n",
              "\n",
              "// Listen for the clearing of the current output cell\n",
              "var outputEl = gd.closest('.output');\n",
              "if (outputEl) {{\n",
              "    x.observe(outputEl, {childList: true});\n",
              "}}\n",
              "\n",
              "                        })                };                            </script>        </div>\n",
              "</body>\n",
              "</html>"
            ]
          },
          "metadata": {}
        }
      ]
    },
    {
      "cell_type": "code",
      "metadata": {
        "colab": {
          "base_uri": "https://localhost:8080/",
          "height": 1000
        },
        "id": "T5e-caPU8KvU",
        "outputId": "1daad73f-74c4-4c51-a9e5-522d0d67dd42"
      },
      "source": [
        "#어떤 영화를 배급했는 지에 따라 그해 영화의 수익성이 결정남 -> 소수의 흥행 영화에 의존하여 나머지 배급의 적자를 메우는 꼴 \n",
        "#NEW 2015 위플래시, CGV 아트하우스 2014 님아, 그 강을 건너지 마오, 2015 소셜포비아, 2016 캐롤, 카페 소사이어티, 2019 메기, 롯데 2019 항거\n",
        "new_movies_art_big5.groupby(['배급사','개봉연도'])['영화명'].apply(list).reset_index(name=\"대표 배급영화\")\n"
      ],
      "execution_count": 187,
      "outputs": [
        {
          "output_type": "execute_result",
          "data": {
            "text/html": [
              "<div>\n",
              "<style scoped>\n",
              "    .dataframe tbody tr th:only-of-type {\n",
              "        vertical-align: middle;\n",
              "    }\n",
              "\n",
              "    .dataframe tbody tr th {\n",
              "        vertical-align: top;\n",
              "    }\n",
              "\n",
              "    .dataframe thead th {\n",
              "        text-align: right;\n",
              "    }\n",
              "</style>\n",
              "<table border=\"1\" class=\"dataframe\">\n",
              "  <thead>\n",
              "    <tr style=\"text-align: right;\">\n",
              "      <th></th>\n",
              "      <th>배급사</th>\n",
              "      <th>개봉연도</th>\n",
              "      <th>대표 배급영화</th>\n",
              "    </tr>\n",
              "  </thead>\n",
              "  <tbody>\n",
              "    <tr>\n",
              "      <th>0</th>\n",
              "      <td>(주)넥스트엔터테인먼트월드(NEW)</td>\n",
              "      <td>2011</td>\n",
              "      <td>[그대를 사랑합니다, 삼국지: 명장 관우]</td>\n",
              "    </tr>\n",
              "    <tr>\n",
              "      <th>1</th>\n",
              "      <td>(주)넥스트엔터테인먼트월드(NEW)</td>\n",
              "      <td>2012</td>\n",
              "      <td>[피에타]</td>\n",
              "    </tr>\n",
              "    <tr>\n",
              "      <th>2</th>\n",
              "      <td>(주)넥스트엔터테인먼트월드(NEW)</td>\n",
              "      <td>2013</td>\n",
              "      <td>[블랙 가스펠, 뫼비우스, 사이비]</td>\n",
              "    </tr>\n",
              "    <tr>\n",
              "      <th>3</th>\n",
              "      <td>(주)넥스트엔터테인먼트월드(NEW)</td>\n",
              "      <td>2014</td>\n",
              "      <td>[원 챈스]</td>\n",
              "    </tr>\n",
              "    <tr>\n",
              "      <th>4</th>\n",
              "      <td>(주)넥스트엔터테인먼트월드(NEW)</td>\n",
              "      <td>2015</td>\n",
              "      <td>[지금은맞고그때는틀리다, 명량: 회오리 바다를 향하여]</td>\n",
              "    </tr>\n",
              "    <tr>\n",
              "      <th>5</th>\n",
              "      <td>(주)넥스트엔터테인먼트월드(NEW)</td>\n",
              "      <td>2016</td>\n",
              "      <td>[서울역, 그물, 잔예 - 살아서는 안되는 방]</td>\n",
              "    </tr>\n",
              "    <tr>\n",
              "      <th>6</th>\n",
              "      <td>(주)넥스트엔터테인먼트월드(NEW)</td>\n",
              "      <td>2017</td>\n",
              "      <td>[너의 췌장을 먹고 싶어]</td>\n",
              "    </tr>\n",
              "    <tr>\n",
              "      <th>7</th>\n",
              "      <td>(주)넥스트엔터테인먼트월드(NEW)</td>\n",
              "      <td>2018</td>\n",
              "      <td>[당갈, 너의 췌장을 먹고 싶어, 펭귄 하이웨이, 쏘아올린 불꽃, 밑에서 볼까? 옆...</td>\n",
              "    </tr>\n",
              "    <tr>\n",
              "      <th>8</th>\n",
              "      <td>(주)넥스트엔터테인먼트월드(NEW)</td>\n",
              "      <td>2019</td>\n",
              "      <td>[안녕, 티라노: 영원히, 함께, 콜레트, 시크릿 슈퍼스타]</td>\n",
              "    </tr>\n",
              "    <tr>\n",
              "      <th>9</th>\n",
              "      <td>(주)쇼박스</td>\n",
              "      <td>2014</td>\n",
              "      <td>[그레이스 오브 모나코]</td>\n",
              "    </tr>\n",
              "    <tr>\n",
              "      <th>10</th>\n",
              "      <td>(주)쇼박스</td>\n",
              "      <td>2015</td>\n",
              "      <td>[위플래쉬]</td>\n",
              "    </tr>\n",
              "    <tr>\n",
              "      <th>11</th>\n",
              "      <td>(주)씨제이이엔엠</td>\n",
              "      <td>2012</td>\n",
              "      <td>[철가방 우수氏, 파닥파닥]</td>\n",
              "    </tr>\n",
              "    <tr>\n",
              "      <th>12</th>\n",
              "      <td>(주)씨제이이엔엠</td>\n",
              "      <td>2013</td>\n",
              "      <td>[소녀, 48미터, 그 강아지 그 고양이]</td>\n",
              "    </tr>\n",
              "    <tr>\n",
              "      <th>13</th>\n",
              "      <td>(주)씨제이이엔엠</td>\n",
              "      <td>2014</td>\n",
              "      <td>[조난자들, 마더 데레사의 편지, 소리굽쇠]</td>\n",
              "    </tr>\n",
              "    <tr>\n",
              "      <th>14</th>\n",
              "      <td>(주)씨제이이엔엠</td>\n",
              "      <td>2015</td>\n",
              "      <td>[뷰티풀 라이, 하나와 앨리스: 살인사건]</td>\n",
              "    </tr>\n",
              "    <tr>\n",
              "      <th>15</th>\n",
              "      <td>(주)씨제이이엔엠</td>\n",
              "      <td>2020</td>\n",
              "      <td>[엔딩스 비기닝스]</td>\n",
              "    </tr>\n",
              "    <tr>\n",
              "      <th>16</th>\n",
              "      <td>CGV아트하우스</td>\n",
              "      <td>2013</td>\n",
              "      <td>[일대종사, 프라미스드 랜드, 잉여들의 히치하이킹, 잉투기]</td>\n",
              "    </tr>\n",
              "    <tr>\n",
              "      <th>17</th>\n",
              "      <td>CGV아트하우스</td>\n",
              "      <td>2014</td>\n",
              "      <td>[님아, 그 강을 건너지 마오, 한공주, 도희야, 님포매니악 볼륨1, 초콜렛 도넛,...</td>\n",
              "    </tr>\n",
              "    <tr>\n",
              "      <th>18</th>\n",
              "      <td>CGV아트하우스</td>\n",
              "      <td>2015</td>\n",
              "      <td>[소셜포비아, 성실한 나라의 앨리스, 돼지 같은 여자]</td>\n",
              "    </tr>\n",
              "    <tr>\n",
              "      <th>19</th>\n",
              "      <td>CGV아트하우스</td>\n",
              "      <td>2016</td>\n",
              "      <td>[캐롤, 카페 소사이어티, 죽여주는 여자, 최악의 하루, 4등, 트윈스터즈, 양치기들]</td>\n",
              "    </tr>\n",
              "    <tr>\n",
              "      <th>20</th>\n",
              "      <td>CGV아트하우스</td>\n",
              "      <td>2017</td>\n",
              "      <td>[문라이트, 눈길, 파도가 지나간 자리, 원더, 예감은 틀리지 않는다, 파운더, 골...</td>\n",
              "    </tr>\n",
              "    <tr>\n",
              "      <th>21</th>\n",
              "      <td>CGV아트하우스</td>\n",
              "      <td>2018</td>\n",
              "      <td>[더 포스트, 소공녀, 원더스트럭, 당신의 부탁, 영주, 죄 많은 소녀, 살아남은 ...</td>\n",
              "    </tr>\n",
              "    <tr>\n",
              "      <th>22</th>\n",
              "      <td>CGV아트하우스</td>\n",
              "      <td>2019</td>\n",
              "      <td>[그린 북, 어쩌다, 결혼, 세상을 바꾼 변호인, 메기, 판소리 복서, 집 이야기,...</td>\n",
              "    </tr>\n",
              "    <tr>\n",
              "      <th>23</th>\n",
              "      <td>롯데쇼핑㈜롯데엔터테인먼트</td>\n",
              "      <td>2011</td>\n",
              "      <td>[50/50]</td>\n",
              "    </tr>\n",
              "    <tr>\n",
              "      <th>24</th>\n",
              "      <td>롯데쇼핑㈜롯데엔터테인먼트</td>\n",
              "      <td>2012</td>\n",
              "      <td>[개들의 전쟁, 위대한 비행]</td>\n",
              "    </tr>\n",
              "    <tr>\n",
              "      <th>25</th>\n",
              "      <td>롯데쇼핑㈜롯데엔터테인먼트</td>\n",
              "      <td>2013</td>\n",
              "      <td>[끝과 시작]</td>\n",
              "    </tr>\n",
              "    <tr>\n",
              "      <th>26</th>\n",
              "      <td>롯데쇼핑㈜롯데엔터테인먼트</td>\n",
              "      <td>2014</td>\n",
              "      <td>[쥬로링 동물탐정 극장판]</td>\n",
              "    </tr>\n",
              "    <tr>\n",
              "      <th>27</th>\n",
              "      <td>롯데쇼핑㈜롯데엔터테인먼트</td>\n",
              "      <td>2015</td>\n",
              "      <td>[시카리오: 암살자의 도시, 빌리와 용감한 녀석들 3, 드래곤 블레이드, 기적의 피아노]</td>\n",
              "    </tr>\n",
              "    <tr>\n",
              "      <th>28</th>\n",
              "      <td>롯데쇼핑㈜롯데엔터테인먼트</td>\n",
              "      <td>2016</td>\n",
              "      <td>[아노말리사, 북 오브 러브]</td>\n",
              "    </tr>\n",
              "    <tr>\n",
              "      <th>29</th>\n",
              "      <td>롯데쇼핑㈜롯데엔터테인먼트</td>\n",
              "      <td>2017</td>\n",
              "      <td>[마이펫 오지, 몬스터 콜, 용순]</td>\n",
              "    </tr>\n",
              "    <tr>\n",
              "      <th>30</th>\n",
              "      <td>롯데컬처웍스(주)롯데엔터테인먼트</td>\n",
              "      <td>2018</td>\n",
              "      <td>[샘]</td>\n",
              "    </tr>\n",
              "    <tr>\n",
              "      <th>31</th>\n",
              "      <td>롯데컬처웍스(주)롯데엔터테인먼트</td>\n",
              "      <td>2019</td>\n",
              "      <td>[항거:유관순 이야기, 우리집, 물의 기억, 뷰티플 마인드]</td>\n",
              "    </tr>\n",
              "    <tr>\n",
              "      <th>32</th>\n",
              "      <td>롯데컬처웍스(주)롯데엔터테인먼트</td>\n",
              "      <td>2020</td>\n",
              "      <td>[프랑스여자]</td>\n",
              "    </tr>\n",
              "  </tbody>\n",
              "</table>\n",
              "</div>"
            ],
            "text/plain": [
              "                    배급사  ...                                            대표 배급영화\n",
              "0   (주)넥스트엔터테인먼트월드(NEW)  ...                            [그대를 사랑합니다, 삼국지: 명장 관우]\n",
              "1   (주)넥스트엔터테인먼트월드(NEW)  ...                                              [피에타]\n",
              "2   (주)넥스트엔터테인먼트월드(NEW)  ...                                [블랙 가스펠, 뫼비우스, 사이비]\n",
              "3   (주)넥스트엔터테인먼트월드(NEW)  ...                                             [원 챈스]\n",
              "4   (주)넥스트엔터테인먼트월드(NEW)  ...                     [지금은맞고그때는틀리다, 명량: 회오리 바다를 향하여]\n",
              "5   (주)넥스트엔터테인먼트월드(NEW)  ...                         [서울역, 그물, 잔예 - 살아서는 안되는 방]\n",
              "6   (주)넥스트엔터테인먼트월드(NEW)  ...                                     [너의 췌장을 먹고 싶어]\n",
              "7   (주)넥스트엔터테인먼트월드(NEW)  ...  [당갈, 너의 췌장을 먹고 싶어, 펭귄 하이웨이, 쏘아올린 불꽃, 밑에서 볼까? 옆...\n",
              "8   (주)넥스트엔터테인먼트월드(NEW)  ...                  [안녕, 티라노: 영원히, 함께, 콜레트, 시크릿 슈퍼스타]\n",
              "9                (주)쇼박스  ...                                      [그레이스 오브 모나코]\n",
              "10               (주)쇼박스  ...                                             [위플래쉬]\n",
              "11            (주)씨제이이엔엠  ...                                    [철가방 우수氏, 파닥파닥]\n",
              "12            (주)씨제이이엔엠  ...                            [소녀, 48미터, 그 강아지 그 고양이]\n",
              "13            (주)씨제이이엔엠  ...                           [조난자들, 마더 데레사의 편지, 소리굽쇠]\n",
              "14            (주)씨제이이엔엠  ...                            [뷰티풀 라이, 하나와 앨리스: 살인사건]\n",
              "15            (주)씨제이이엔엠  ...                                         [엔딩스 비기닝스]\n",
              "16             CGV아트하우스  ...                  [일대종사, 프라미스드 랜드, 잉여들의 히치하이킹, 잉투기]\n",
              "17             CGV아트하우스  ...  [님아, 그 강을 건너지 마오, 한공주, 도희야, 님포매니악 볼륨1, 초콜렛 도넛,...\n",
              "18             CGV아트하우스  ...                     [소셜포비아, 성실한 나라의 앨리스, 돼지 같은 여자]\n",
              "19             CGV아트하우스  ...   [캐롤, 카페 소사이어티, 죽여주는 여자, 최악의 하루, 4등, 트윈스터즈, 양치기들]\n",
              "20             CGV아트하우스  ...  [문라이트, 눈길, 파도가 지나간 자리, 원더, 예감은 틀리지 않는다, 파운더, 골...\n",
              "21             CGV아트하우스  ...  [더 포스트, 소공녀, 원더스트럭, 당신의 부탁, 영주, 죄 많은 소녀, 살아남은 ...\n",
              "22             CGV아트하우스  ...  [그린 북, 어쩌다, 결혼, 세상을 바꾼 변호인, 메기, 판소리 복서, 집 이야기,...\n",
              "23        롯데쇼핑㈜롯데엔터테인먼트  ...                                            [50/50]\n",
              "24        롯데쇼핑㈜롯데엔터테인먼트  ...                                   [개들의 전쟁, 위대한 비행]\n",
              "25        롯데쇼핑㈜롯데엔터테인먼트  ...                                            [끝과 시작]\n",
              "26        롯데쇼핑㈜롯데엔터테인먼트  ...                                     [쥬로링 동물탐정 극장판]\n",
              "27        롯데쇼핑㈜롯데엔터테인먼트  ...  [시카리오: 암살자의 도시, 빌리와 용감한 녀석들 3, 드래곤 블레이드, 기적의 피아노]\n",
              "28        롯데쇼핑㈜롯데엔터테인먼트  ...                                   [아노말리사, 북 오브 러브]\n",
              "29        롯데쇼핑㈜롯데엔터테인먼트  ...                                [마이펫 오지, 몬스터 콜, 용순]\n",
              "30    롯데컬처웍스(주)롯데엔터테인먼트  ...                                                [샘]\n",
              "31    롯데컬처웍스(주)롯데엔터테인먼트  ...                  [항거:유관순 이야기, 우리집, 물의 기억, 뷰티플 마인드]\n",
              "32    롯데컬처웍스(주)롯데엔터테인먼트  ...                                            [프랑스여자]\n",
              "\n",
              "[33 rows x 3 columns]"
            ]
          },
          "metadata": {},
          "execution_count": 187
        }
      ]
    },
    {
      "cell_type": "code",
      "metadata": {
        "id": "CVdCMRVvQtNr"
      },
      "source": [
        "# # 한국 독립영화의 제작 편수는 증가하고 있는 데 반해 개봉 편수가 줄어들면서, 독립예술영화의 갈길이 더욱 험난해지고 있음 \n",
        "# fig = go.Figure()\n",
        "\n",
        "# fig.add_trace(\n",
        "#     go.Scatter(\n",
        "#         x = movie_number['개봉연도'],\n",
        "#         y = movie_number['제작편수 대비 개봉편수 비중'],\n",
        "#         name=\"제작편수 대비 개봉편수 비중\",\n",
        "#         text=\"제작편수 대비 개봉편수 비중\",\n",
        "#         mode='lines+markers',\n",
        "#     ))\n",
        "\n",
        "\n",
        "# fig.add_trace(\n",
        "#     go.Bar(\n",
        "#         x = movie_number['개봉연도'],\n",
        "#         y = movie_number['개봉편수'],\n",
        "#         name = \"개봉편수\",\n",
        "#         opacity = 0.3\n",
        "\n",
        "#     ))\n",
        "\n",
        "# fig.show()"
      ],
      "execution_count": 188,
      "outputs": []
    },
    {
      "cell_type": "markdown",
      "metadata": {
        "id": "5NyLEDvaraZM"
      },
      "source": [
        "### 2) 2014년 이전과 2015년 이후 배급 영화수에 차이가 있었는지\n",
        "- 비교시기 1(2011년 ~ 2014년), 비교시기 2(2015년 ~ 2020년)\n",
        "- 비교시기 1과 비교시기 2의 평균 영화 배급수의 차이를 비교한 결과 \n"
      ]
    },
    {
      "cell_type": "code",
      "metadata": {
        "id": "IGmzaFbV0fze",
        "colab": {
          "base_uri": "https://localhost:8080/",
          "height": 108
        },
        "outputId": "acb61608-ca88-4a6d-cac7-8e635b2e096d"
      },
      "source": [
        "# 독립예술영화 중 대형 배급사가 배급한 영화를 '배급사구분'에 표시한 것이 new_movies_art 테이블\n",
        "# new_movies_art['개봉연도구분'] = np.where(new_movies_art['개봉연도'].str.contains('2011|2012|2013|2014'), '대형배급사', '기타배급사')\n",
        "new_movies_art_big5_years = new_movies_art_big5[new_movies_art_big5['배급사구분']=='대형배급사']\n",
        "new_movies_art_big5_years['개봉연도구분'] = np.where(new_movies_art_big5_years['개봉연도']<=2014, '2014년이전', '2015년이후')\n",
        "new_movies_art_big5_years.head(2)"
      ],
      "execution_count": 195,
      "outputs": [
        {
          "output_type": "execute_result",
          "data": {
            "text/html": [
              "<div>\n",
              "<style scoped>\n",
              "    .dataframe tbody tr th:only-of-type {\n",
              "        vertical-align: middle;\n",
              "    }\n",
              "\n",
              "    .dataframe tbody tr th {\n",
              "        vertical-align: top;\n",
              "    }\n",
              "\n",
              "    .dataframe thead th {\n",
              "        text-align: right;\n",
              "    }\n",
              "</style>\n",
              "<table border=\"1\" class=\"dataframe\">\n",
              "  <thead>\n",
              "    <tr style=\"text-align: right;\">\n",
              "      <th></th>\n",
              "      <th>순번</th>\n",
              "      <th>개봉연도</th>\n",
              "      <th>영화명</th>\n",
              "      <th>감독</th>\n",
              "      <th>배급사</th>\n",
              "      <th>개봉일</th>\n",
              "      <th>국적</th>\n",
              "      <th>전국스크린수</th>\n",
              "      <th>전국매출액</th>\n",
              "      <th>전국관객수</th>\n",
              "      <th>장르</th>\n",
              "      <th>등급</th>\n",
              "      <th>영화구분</th>\n",
              "      <th>배급사구분</th>\n",
              "      <th>개봉연도구분</th>\n",
              "    </tr>\n",
              "  </thead>\n",
              "  <tbody>\n",
              "    <tr>\n",
              "      <th>29</th>\n",
              "      <td>30</td>\n",
              "      <td>2011</td>\n",
              "      <td>그대를 사랑합니다</td>\n",
              "      <td>추창민</td>\n",
              "      <td>(주)넥스트엔터테인먼트월드(NEW)</td>\n",
              "      <td>2011-02-17</td>\n",
              "      <td>한국</td>\n",
              "      <td>242</td>\n",
              "      <td>12005917000</td>\n",
              "      <td>1640351</td>\n",
              "      <td>드라마</td>\n",
              "      <td>15세이상관람가</td>\n",
              "      <td>독립/예술영화</td>\n",
              "      <td>대형배급사</td>\n",
              "      <td>2014년이전</td>\n",
              "    </tr>\n",
              "    <tr>\n",
              "      <th>116</th>\n",
              "      <td>117</td>\n",
              "      <td>2011</td>\n",
              "      <td>50/50</td>\n",
              "      <td>조나단 레빈</td>\n",
              "      <td>롯데쇼핑㈜롯데엔터테인먼트</td>\n",
              "      <td>2011-11-24</td>\n",
              "      <td>미국</td>\n",
              "      <td>159</td>\n",
              "      <td>1019768500</td>\n",
              "      <td>135985</td>\n",
              "      <td>코미디</td>\n",
              "      <td>15세이상관람가</td>\n",
              "      <td>독립/예술영화</td>\n",
              "      <td>대형배급사</td>\n",
              "      <td>2014년이전</td>\n",
              "    </tr>\n",
              "  </tbody>\n",
              "</table>\n",
              "</div>"
            ],
            "text/plain": [
              "      순번  개봉연도        영화명      감독  ...        등급     영화구분  배급사구분   개봉연도구분\n",
              "29    30  2011  그대를 사랑합니다     추창민  ...  15세이상관람가  독립/예술영화  대형배급사  2014년이전\n",
              "116  117  2011      50/50  조나단 레빈  ...  15세이상관람가  독립/예술영화  대형배급사  2014년이전\n",
              "\n",
              "[2 rows x 15 columns]"
            ]
          },
          "metadata": {},
          "execution_count": 195
        }
      ]
    },
    {
      "cell_type": "code",
      "metadata": {
        "id": "3pHHMCsjv37B",
        "colab": {
          "base_uri": "https://localhost:8080/",
          "height": 108
        },
        "outputId": "1e9e8b73-dbba-4d05-ec7f-ba0de51dde52"
      },
      "source": [
        "new_movies_art_big5_years\n",
        "#배급사 구분 별로 매년 배급 영화수와 총 영화수 비교\n",
        "new_movies_art_big5_years_counts = new_movies_art_big5_years.groupby('개봉연도구분').size().reset_index(name='배급영화수')\n",
        "# new_movies_art_big5_years_counts['전국스크린수'] = new_movies_art_big5_years.groupby('개봉연도구분').sum().reset_index(name='배급영화수')\n",
        "new_movies_art_big5_years_counts['스크린수'] = new_movies_art_big5_years.groupby('개봉연도구분')['전국스크린수'].sum()\n",
        "new_movies_art_big5_years_counts"
      ],
      "execution_count": 200,
      "outputs": [
        {
          "output_type": "execute_result",
          "data": {
            "text/html": [
              "<div>\n",
              "<style scoped>\n",
              "    .dataframe tbody tr th:only-of-type {\n",
              "        vertical-align: middle;\n",
              "    }\n",
              "\n",
              "    .dataframe tbody tr th {\n",
              "        vertical-align: top;\n",
              "    }\n",
              "\n",
              "    .dataframe thead th {\n",
              "        text-align: right;\n",
              "    }\n",
              "</style>\n",
              "<table border=\"1\" class=\"dataframe\">\n",
              "  <thead>\n",
              "    <tr style=\"text-align: right;\">\n",
              "      <th></th>\n",
              "      <th>개봉연도구분</th>\n",
              "      <th>배급영화수</th>\n",
              "      <th>스크린수</th>\n",
              "    </tr>\n",
              "  </thead>\n",
              "  <tbody>\n",
              "    <tr>\n",
              "      <th>0</th>\n",
              "      <td>2014년이전</td>\n",
              "      <td>33</td>\n",
              "      <td>NaN</td>\n",
              "    </tr>\n",
              "    <tr>\n",
              "      <th>1</th>\n",
              "      <td>2015년이후</td>\n",
              "      <td>72</td>\n",
              "      <td>NaN</td>\n",
              "    </tr>\n",
              "  </tbody>\n",
              "</table>\n",
              "</div>"
            ],
            "text/plain": [
              "    개봉연도구분  배급영화수  스크린수\n",
              "0  2014년이전     33   NaN\n",
              "1  2015년이후     72   NaN"
            ]
          },
          "metadata": {},
          "execution_count": 200
        }
      ]
    },
    {
      "cell_type": "code",
      "metadata": {
        "colab": {
          "base_uri": "https://localhost:8080/",
          "height": 542
        },
        "id": "c4GfWIhyZRGn",
        "outputId": "04fb6b0d-9fe6-4339-96a3-eaab479ac16e"
      },
      "source": [
        "#이상한 히스토그램이 만들어짐\n",
        "fig = px.histogram(new_movies_art_big5_years, x=\"전국매출액\", color=\"개봉연도구분\", barmode='group')\n",
        "fig.show()"
      ],
      "execution_count": null,
      "outputs": [
        {
          "output_type": "display_data",
          "data": {
            "text/html": [
              "<html>\n",
              "<head><meta charset=\"utf-8\" /></head>\n",
              "<body>\n",
              "    <div>            <script src=\"https://cdnjs.cloudflare.com/ajax/libs/mathjax/2.7.5/MathJax.js?config=TeX-AMS-MML_SVG\"></script><script type=\"text/javascript\">if (window.MathJax) {MathJax.Hub.Config({SVG: {font: \"STIX-Web\"}});}</script>                <script type=\"text/javascript\">window.PlotlyConfig = {MathJaxConfig: 'local'};</script>\n",
              "        <script src=\"https://cdn.plot.ly/plotly-2.3.1.min.js\"></script>                <div id=\"08570342-1237-4322-badf-4b175ad19493\" class=\"plotly-graph-div\" style=\"height:525px; width:100%;\"></div>            <script type=\"text/javascript\">                                    window.PLOTLYENV=window.PLOTLYENV || {};                                    if (document.getElementById(\"08570342-1237-4322-badf-4b175ad19493\")) {                    Plotly.newPlot(                        \"08570342-1237-4322-badf-4b175ad19493\",                        [{\"alignmentgroup\":\"True\",\"bingroup\":\"x\",\"hovertemplate\":\"\\uac1c\\ubd09\\uc5f0\\ub3c4\\uad6c\\ubd84=2014\\ub144\\uc774\\uc804<br>\\uc804\\uad6d\\ub9e4\\ucd9c\\uc561=%{x}<br>count=%{y}<extra></extra>\",\"legendgroup\":\"2014\\ub144\\uc774\\uc804\",\"marker\":{\"color\":\"#636efa\",\"pattern\":{\"shape\":\"\"}},\"name\":\"2014\\ub144\\uc774\\uc804\",\"offsetgroup\":\"2014\\ub144\\uc774\\uc804\",\"orientation\":\"v\",\"showlegend\":true,\"type\":\"histogram\",\"x\":[12005917000,1019768500,920899000,4354008500,601513500,171004571,87647900,47993500,733314000,349451500,272411000,250644579,164943162,162722300,154223500,142456000,118896600,101214000,29340500,29845004479,1780640800,1752838200,830948100,593174100,479242383,246408200,195684333,173948100,119149400,87965500,63500100,63090000,24048800],\"xaxis\":\"x\",\"yaxis\":\"y\"},{\"alignmentgroup\":\"True\",\"bingroup\":\"x\",\"hovertemplate\":\"\\uac1c\\ubd09\\uc5f0\\ub3c4\\uad6c\\ubd84=2015\\ub144\\uc774\\ud6c4<br>\\uc804\\uad6d\\ub9e4\\ucd9c\\uc561=%{x}<br>count=%{y}<extra></extra>\",\"legendgroup\":\"2015\\ub144\\uc774\\ud6c4\",\"marker\":{\"color\":\"#EF553B\",\"pattern\":{\"shape\":\"\"}},\"name\":\"2015\\ub144\\uc774\\ud6c4\",\"offsetgroup\":\"2015\\ub144\\uc774\\ud6c4\",\"orientation\":\"v\",\"showlegend\":true,\"type\":\"histogram\",\"x\":[12445626245,1950635763,1128148952,699788600,658072600,427722800,349482500,112466200,112007100,52852400,48376500,46156800,2608179616,1157200562,1047223666,872397300,639959190,416593300,336004700,282006700,115387000,102163500,58152000,39535300,3703660800,1403639195,947059100,911866950,686273900,634595200,632389700,317605400,274920900,195197900,198890200,171942900,95447200,97464900,65573000,48080800,24142600,17949800,1090246148,906416500,469303200,408323605,276934100,208532200,220860000,205547428,191696250,180452950,89138900,46996200,34307600,24729750,9290065101,3603268560,1553219230,586584249,444391340,409004989,369943170,322021828,193213180,111262080,86453100,67150080,67428500,9214920,129230400,110180880],\"xaxis\":\"x\",\"yaxis\":\"y\"}],                        {\"barmode\":\"group\",\"legend\":{\"title\":{\"text\":\"\\uac1c\\ubd09\\uc5f0\\ub3c4\\uad6c\\ubd84\"},\"tracegroupgap\":0},\"margin\":{\"t\":60},\"template\":{\"data\":{\"bar\":[{\"error_x\":{\"color\":\"#2a3f5f\"},\"error_y\":{\"color\":\"#2a3f5f\"},\"marker\":{\"line\":{\"color\":\"#E5ECF6\",\"width\":0.5},\"pattern\":{\"fillmode\":\"overlay\",\"size\":10,\"solidity\":0.2}},\"type\":\"bar\"}],\"barpolar\":[{\"marker\":{\"line\":{\"color\":\"#E5ECF6\",\"width\":0.5},\"pattern\":{\"fillmode\":\"overlay\",\"size\":10,\"solidity\":0.2}},\"type\":\"barpolar\"}],\"carpet\":[{\"aaxis\":{\"endlinecolor\":\"#2a3f5f\",\"gridcolor\":\"white\",\"linecolor\":\"white\",\"minorgridcolor\":\"white\",\"startlinecolor\":\"#2a3f5f\"},\"baxis\":{\"endlinecolor\":\"#2a3f5f\",\"gridcolor\":\"white\",\"linecolor\":\"white\",\"minorgridcolor\":\"white\",\"startlinecolor\":\"#2a3f5f\"},\"type\":\"carpet\"}],\"choropleth\":[{\"colorbar\":{\"outlinewidth\":0,\"ticks\":\"\"},\"type\":\"choropleth\"}],\"contour\":[{\"colorbar\":{\"outlinewidth\":0,\"ticks\":\"\"},\"colorscale\":[[0.0,\"#0d0887\"],[0.1111111111111111,\"#46039f\"],[0.2222222222222222,\"#7201a8\"],[0.3333333333333333,\"#9c179e\"],[0.4444444444444444,\"#bd3786\"],[0.5555555555555556,\"#d8576b\"],[0.6666666666666666,\"#ed7953\"],[0.7777777777777778,\"#fb9f3a\"],[0.8888888888888888,\"#fdca26\"],[1.0,\"#f0f921\"]],\"type\":\"contour\"}],\"contourcarpet\":[{\"colorbar\":{\"outlinewidth\":0,\"ticks\":\"\"},\"type\":\"contourcarpet\"}],\"heatmap\":[{\"colorbar\":{\"outlinewidth\":0,\"ticks\":\"\"},\"colorscale\":[[0.0,\"#0d0887\"],[0.1111111111111111,\"#46039f\"],[0.2222222222222222,\"#7201a8\"],[0.3333333333333333,\"#9c179e\"],[0.4444444444444444,\"#bd3786\"],[0.5555555555555556,\"#d8576b\"],[0.6666666666666666,\"#ed7953\"],[0.7777777777777778,\"#fb9f3a\"],[0.8888888888888888,\"#fdca26\"],[1.0,\"#f0f921\"]],\"type\":\"heatmap\"}],\"heatmapgl\":[{\"colorbar\":{\"outlinewidth\":0,\"ticks\":\"\"},\"colorscale\":[[0.0,\"#0d0887\"],[0.1111111111111111,\"#46039f\"],[0.2222222222222222,\"#7201a8\"],[0.3333333333333333,\"#9c179e\"],[0.4444444444444444,\"#bd3786\"],[0.5555555555555556,\"#d8576b\"],[0.6666666666666666,\"#ed7953\"],[0.7777777777777778,\"#fb9f3a\"],[0.8888888888888888,\"#fdca26\"],[1.0,\"#f0f921\"]],\"type\":\"heatmapgl\"}],\"histogram\":[{\"marker\":{\"pattern\":{\"fillmode\":\"overlay\",\"size\":10,\"solidity\":0.2}},\"type\":\"histogram\"}],\"histogram2d\":[{\"colorbar\":{\"outlinewidth\":0,\"ticks\":\"\"},\"colorscale\":[[0.0,\"#0d0887\"],[0.1111111111111111,\"#46039f\"],[0.2222222222222222,\"#7201a8\"],[0.3333333333333333,\"#9c179e\"],[0.4444444444444444,\"#bd3786\"],[0.5555555555555556,\"#d8576b\"],[0.6666666666666666,\"#ed7953\"],[0.7777777777777778,\"#fb9f3a\"],[0.8888888888888888,\"#fdca26\"],[1.0,\"#f0f921\"]],\"type\":\"histogram2d\"}],\"histogram2dcontour\":[{\"colorbar\":{\"outlinewidth\":0,\"ticks\":\"\"},\"colorscale\":[[0.0,\"#0d0887\"],[0.1111111111111111,\"#46039f\"],[0.2222222222222222,\"#7201a8\"],[0.3333333333333333,\"#9c179e\"],[0.4444444444444444,\"#bd3786\"],[0.5555555555555556,\"#d8576b\"],[0.6666666666666666,\"#ed7953\"],[0.7777777777777778,\"#fb9f3a\"],[0.8888888888888888,\"#fdca26\"],[1.0,\"#f0f921\"]],\"type\":\"histogram2dcontour\"}],\"mesh3d\":[{\"colorbar\":{\"outlinewidth\":0,\"ticks\":\"\"},\"type\":\"mesh3d\"}],\"parcoords\":[{\"line\":{\"colorbar\":{\"outlinewidth\":0,\"ticks\":\"\"}},\"type\":\"parcoords\"}],\"pie\":[{\"automargin\":true,\"type\":\"pie\"}],\"scatter\":[{\"marker\":{\"colorbar\":{\"outlinewidth\":0,\"ticks\":\"\"}},\"type\":\"scatter\"}],\"scatter3d\":[{\"line\":{\"colorbar\":{\"outlinewidth\":0,\"ticks\":\"\"}},\"marker\":{\"colorbar\":{\"outlinewidth\":0,\"ticks\":\"\"}},\"type\":\"scatter3d\"}],\"scattercarpet\":[{\"marker\":{\"colorbar\":{\"outlinewidth\":0,\"ticks\":\"\"}},\"type\":\"scattercarpet\"}],\"scattergeo\":[{\"marker\":{\"colorbar\":{\"outlinewidth\":0,\"ticks\":\"\"}},\"type\":\"scattergeo\"}],\"scattergl\":[{\"marker\":{\"colorbar\":{\"outlinewidth\":0,\"ticks\":\"\"}},\"type\":\"scattergl\"}],\"scattermapbox\":[{\"marker\":{\"colorbar\":{\"outlinewidth\":0,\"ticks\":\"\"}},\"type\":\"scattermapbox\"}],\"scatterpolar\":[{\"marker\":{\"colorbar\":{\"outlinewidth\":0,\"ticks\":\"\"}},\"type\":\"scatterpolar\"}],\"scatterpolargl\":[{\"marker\":{\"colorbar\":{\"outlinewidth\":0,\"ticks\":\"\"}},\"type\":\"scatterpolargl\"}],\"scatterternary\":[{\"marker\":{\"colorbar\":{\"outlinewidth\":0,\"ticks\":\"\"}},\"type\":\"scatterternary\"}],\"surface\":[{\"colorbar\":{\"outlinewidth\":0,\"ticks\":\"\"},\"colorscale\":[[0.0,\"#0d0887\"],[0.1111111111111111,\"#46039f\"],[0.2222222222222222,\"#7201a8\"],[0.3333333333333333,\"#9c179e\"],[0.4444444444444444,\"#bd3786\"],[0.5555555555555556,\"#d8576b\"],[0.6666666666666666,\"#ed7953\"],[0.7777777777777778,\"#fb9f3a\"],[0.8888888888888888,\"#fdca26\"],[1.0,\"#f0f921\"]],\"type\":\"surface\"}],\"table\":[{\"cells\":{\"fill\":{\"color\":\"#EBF0F8\"},\"line\":{\"color\":\"white\"}},\"header\":{\"fill\":{\"color\":\"#C8D4E3\"},\"line\":{\"color\":\"white\"}},\"type\":\"table\"}]},\"layout\":{\"annotationdefaults\":{\"arrowcolor\":\"#2a3f5f\",\"arrowhead\":0,\"arrowwidth\":1},\"autotypenumbers\":\"strict\",\"coloraxis\":{\"colorbar\":{\"outlinewidth\":0,\"ticks\":\"\"}},\"colorscale\":{\"diverging\":[[0,\"#8e0152\"],[0.1,\"#c51b7d\"],[0.2,\"#de77ae\"],[0.3,\"#f1b6da\"],[0.4,\"#fde0ef\"],[0.5,\"#f7f7f7\"],[0.6,\"#e6f5d0\"],[0.7,\"#b8e186\"],[0.8,\"#7fbc41\"],[0.9,\"#4d9221\"],[1,\"#276419\"]],\"sequential\":[[0.0,\"#0d0887\"],[0.1111111111111111,\"#46039f\"],[0.2222222222222222,\"#7201a8\"],[0.3333333333333333,\"#9c179e\"],[0.4444444444444444,\"#bd3786\"],[0.5555555555555556,\"#d8576b\"],[0.6666666666666666,\"#ed7953\"],[0.7777777777777778,\"#fb9f3a\"],[0.8888888888888888,\"#fdca26\"],[1.0,\"#f0f921\"]],\"sequentialminus\":[[0.0,\"#0d0887\"],[0.1111111111111111,\"#46039f\"],[0.2222222222222222,\"#7201a8\"],[0.3333333333333333,\"#9c179e\"],[0.4444444444444444,\"#bd3786\"],[0.5555555555555556,\"#d8576b\"],[0.6666666666666666,\"#ed7953\"],[0.7777777777777778,\"#fb9f3a\"],[0.8888888888888888,\"#fdca26\"],[1.0,\"#f0f921\"]]},\"colorway\":[\"#636efa\",\"#EF553B\",\"#00cc96\",\"#ab63fa\",\"#FFA15A\",\"#19d3f3\",\"#FF6692\",\"#B6E880\",\"#FF97FF\",\"#FECB52\"],\"font\":{\"color\":\"#2a3f5f\"},\"geo\":{\"bgcolor\":\"white\",\"lakecolor\":\"white\",\"landcolor\":\"#E5ECF6\",\"showlakes\":true,\"showland\":true,\"subunitcolor\":\"white\"},\"hoverlabel\":{\"align\":\"left\"},\"hovermode\":\"closest\",\"mapbox\":{\"style\":\"light\"},\"paper_bgcolor\":\"white\",\"plot_bgcolor\":\"#E5ECF6\",\"polar\":{\"angularaxis\":{\"gridcolor\":\"white\",\"linecolor\":\"white\",\"ticks\":\"\"},\"bgcolor\":\"#E5ECF6\",\"radialaxis\":{\"gridcolor\":\"white\",\"linecolor\":\"white\",\"ticks\":\"\"}},\"scene\":{\"xaxis\":{\"backgroundcolor\":\"#E5ECF6\",\"gridcolor\":\"white\",\"gridwidth\":2,\"linecolor\":\"white\",\"showbackground\":true,\"ticks\":\"\",\"zerolinecolor\":\"white\"},\"yaxis\":{\"backgroundcolor\":\"#E5ECF6\",\"gridcolor\":\"white\",\"gridwidth\":2,\"linecolor\":\"white\",\"showbackground\":true,\"ticks\":\"\",\"zerolinecolor\":\"white\"},\"zaxis\":{\"backgroundcolor\":\"#E5ECF6\",\"gridcolor\":\"white\",\"gridwidth\":2,\"linecolor\":\"white\",\"showbackground\":true,\"ticks\":\"\",\"zerolinecolor\":\"white\"}},\"shapedefaults\":{\"line\":{\"color\":\"#2a3f5f\"}},\"ternary\":{\"aaxis\":{\"gridcolor\":\"white\",\"linecolor\":\"white\",\"ticks\":\"\"},\"baxis\":{\"gridcolor\":\"white\",\"linecolor\":\"white\",\"ticks\":\"\"},\"bgcolor\":\"#E5ECF6\",\"caxis\":{\"gridcolor\":\"white\",\"linecolor\":\"white\",\"ticks\":\"\"}},\"title\":{\"x\":0.05},\"xaxis\":{\"automargin\":true,\"gridcolor\":\"white\",\"linecolor\":\"white\",\"ticks\":\"\",\"title\":{\"standoff\":15},\"zerolinecolor\":\"white\",\"zerolinewidth\":2},\"yaxis\":{\"automargin\":true,\"gridcolor\":\"white\",\"linecolor\":\"white\",\"ticks\":\"\",\"title\":{\"standoff\":15},\"zerolinecolor\":\"white\",\"zerolinewidth\":2}}},\"xaxis\":{\"anchor\":\"y\",\"domain\":[0.0,1.0],\"title\":{\"text\":\"\\uc804\\uad6d\\ub9e4\\ucd9c\\uc561\"}},\"yaxis\":{\"anchor\":\"x\",\"domain\":[0.0,1.0],\"title\":{\"text\":\"count\"}}},                        {\"responsive\": true}                    ).then(function(){\n",
              "                            \n",
              "var gd = document.getElementById('08570342-1237-4322-badf-4b175ad19493');\n",
              "var x = new MutationObserver(function (mutations, observer) {{\n",
              "        var display = window.getComputedStyle(gd).display;\n",
              "        if (!display || display === 'none') {{\n",
              "            console.log([gd, 'removed!']);\n",
              "            Plotly.purge(gd);\n",
              "            observer.disconnect();\n",
              "        }}\n",
              "}});\n",
              "\n",
              "// Listen for the removal of the full notebook cells\n",
              "var notebookContainer = gd.closest('#notebook-container');\n",
              "if (notebookContainer) {{\n",
              "    x.observe(notebookContainer, {childList: true});\n",
              "}}\n",
              "\n",
              "// Listen for the clearing of the current output cell\n",
              "var outputEl = gd.closest('.output');\n",
              "if (outputEl) {{\n",
              "    x.observe(outputEl, {childList: true});\n",
              "}}\n",
              "\n",
              "                        })                };                            </script>        </div>\n",
              "</body>\n",
              "</html>"
            ]
          },
          "metadata": {}
        }
      ]
    },
    {
      "cell_type": "code",
      "metadata": {
        "colab": {
          "base_uri": "https://localhost:8080/",
          "height": 108
        },
        "id": "WtrDI9eJbd7V",
        "outputId": "96c1d7f1-a320-4968-ad1e-9fc7797afe88"
      },
      "source": [
        "#전국 \n",
        "import pingouin as pg\n",
        "aov = pg.anova(data=new_movies_art, dv='전국매출액', between='개봉연도구분', detailed=True)\n",
        "aov\n",
        "\n",
        "#2014년 이전과 2015년 이후에 대형 배급사의 매출액 사이에 유의미한 차이가 있다. \n",
        "\n"
      ],
      "execution_count": null,
      "outputs": [
        {
          "output_type": "execute_result",
          "data": {
            "text/html": [
              "<div>\n",
              "<style scoped>\n",
              "    .dataframe tbody tr th:only-of-type {\n",
              "        vertical-align: middle;\n",
              "    }\n",
              "\n",
              "    .dataframe tbody tr th {\n",
              "        vertical-align: top;\n",
              "    }\n",
              "\n",
              "    .dataframe thead th {\n",
              "        text-align: right;\n",
              "    }\n",
              "</style>\n",
              "<table border=\"1\" class=\"dataframe\">\n",
              "  <thead>\n",
              "    <tr style=\"text-align: right;\">\n",
              "      <th></th>\n",
              "      <th>Source</th>\n",
              "      <th>SS</th>\n",
              "      <th>DF</th>\n",
              "      <th>MS</th>\n",
              "      <th>F</th>\n",
              "      <th>p-unc</th>\n",
              "      <th>np2</th>\n",
              "    </tr>\n",
              "  </thead>\n",
              "  <tbody>\n",
              "    <tr>\n",
              "      <th>0</th>\n",
              "      <td>개봉연도구분</td>\n",
              "      <td>6.858613e+19</td>\n",
              "      <td>1</td>\n",
              "      <td>6.858613e+19</td>\n",
              "      <td>30.077583</td>\n",
              "      <td>4.767047e-08</td>\n",
              "      <td>0.017167</td>\n",
              "    </tr>\n",
              "    <tr>\n",
              "      <th>1</th>\n",
              "      <td>Within</td>\n",
              "      <td>3.926689e+21</td>\n",
              "      <td>1722</td>\n",
              "      <td>2.280307e+18</td>\n",
              "      <td>NaN</td>\n",
              "      <td>NaN</td>\n",
              "      <td>NaN</td>\n",
              "    </tr>\n",
              "  </tbody>\n",
              "</table>\n",
              "</div>"
            ],
            "text/plain": [
              "   Source            SS    DF            MS          F         p-unc       np2\n",
              "0  개봉연도구분  6.858613e+19     1  6.858613e+19  30.077583  4.767047e-08  0.017167\n",
              "1  Within  3.926689e+21  1722  2.280307e+18        NaN           NaN       NaN"
            ]
          },
          "metadata": {},
          "execution_count": 161
        }
      ]
    },
    {
      "cell_type": "code",
      "metadata": {
        "colab": {
          "base_uri": "https://localhost:8080/"
        },
        "id": "hsG_k0UYliR1",
        "outputId": "de5db776-1246-439e-9149-0e19c99e387f"
      },
      "source": [
        "4.767047e-08<0.05"
      ],
      "execution_count": null,
      "outputs": [
        {
          "output_type": "execute_result",
          "data": {
            "text/plain": [
              "True"
            ]
          },
          "metadata": {},
          "execution_count": 137
        }
      ]
    },
    {
      "cell_type": "code",
      "metadata": {
        "colab": {
          "base_uri": "https://localhost:8080/",
          "height": 273
        },
        "id": "zenVQHIhqNX7",
        "outputId": "6995c3d5-912b-48e8-a8f5-14eff1d2eb5d"
      },
      "source": [
        "ttest = pg.ttest(new_movies_art_big5_years['전국매출액'], 0, confidence=0.95)"
      ],
      "execution_count": null,
      "outputs": [
        {
          "output_type": "error",
          "ename": "TypeError",
          "evalue": "ignored",
          "traceback": [
            "\u001b[0;31m---------------------------------------------------------------------------\u001b[0m",
            "\u001b[0;31mTypeError\u001b[0m                                 Traceback (most recent call last)",
            "\u001b[0;32m<ipython-input-163-be468a4e0c6d>\u001b[0m in \u001b[0;36m<module>\u001b[0;34m()\u001b[0m\n\u001b[0;32m----> 1\u001b[0;31m \u001b[0mttest\u001b[0m \u001b[0;34m=\u001b[0m \u001b[0mpg\u001b[0m\u001b[0;34m.\u001b[0m\u001b[0mttest\u001b[0m\u001b[0;34m(\u001b[0m\u001b[0mnew_movies_art_big5_years\u001b[0m\u001b[0;34m[\u001b[0m\u001b[0;34m'전국매출액'\u001b[0m\u001b[0;34m]\u001b[0m\u001b[0;34m,\u001b[0m \u001b[0;36m0\u001b[0m\u001b[0;34m,\u001b[0m \u001b[0mconfidence\u001b[0m\u001b[0;34m=\u001b[0m\u001b[0;36m0.95\u001b[0m\u001b[0;34m)\u001b[0m\u001b[0;34m\u001b[0m\u001b[0;34m\u001b[0m\u001b[0m\n\u001b[0m",
            "\u001b[0;32m/usr/local/lib/python3.7/dist-packages/pingouin/parametric.py\u001b[0m in \u001b[0;36mttest\u001b[0;34m(x, y, paired, alternative, correction, r, confidence)\u001b[0m\n\u001b[1;32m    223\u001b[0m     \u001b[0;32mif\u001b[0m \u001b[0mny\u001b[0m \u001b[0;34m==\u001b[0m \u001b[0;36m1\u001b[0m\u001b[0;34m:\u001b[0m\u001b[0;34m\u001b[0m\u001b[0;34m\u001b[0m\u001b[0m\n\u001b[1;32m    224\u001b[0m         \u001b[0;31m# Case one sample T-test\u001b[0m\u001b[0;34m\u001b[0m\u001b[0;34m\u001b[0m\u001b[0;34m\u001b[0m\u001b[0m\n\u001b[0;32m--> 225\u001b[0;31m         \u001b[0mtval\u001b[0m\u001b[0;34m,\u001b[0m \u001b[0mpval\u001b[0m \u001b[0;34m=\u001b[0m \u001b[0mttest_1samp\u001b[0m\u001b[0;34m(\u001b[0m\u001b[0mx\u001b[0m\u001b[0;34m,\u001b[0m \u001b[0my\u001b[0m\u001b[0;34m,\u001b[0m \u001b[0malternative\u001b[0m\u001b[0;34m=\u001b[0m\u001b[0malternative\u001b[0m\u001b[0;34m)\u001b[0m\u001b[0;34m\u001b[0m\u001b[0;34m\u001b[0m\u001b[0m\n\u001b[0m\u001b[1;32m    226\u001b[0m         \u001b[0mdof\u001b[0m \u001b[0;34m=\u001b[0m \u001b[0mnx\u001b[0m \u001b[0;34m-\u001b[0m \u001b[0;36m1\u001b[0m\u001b[0;34m\u001b[0m\u001b[0;34m\u001b[0m\u001b[0m\n\u001b[1;32m    227\u001b[0m         \u001b[0mse\u001b[0m \u001b[0;34m=\u001b[0m \u001b[0mnp\u001b[0m\u001b[0;34m.\u001b[0m\u001b[0msqrt\u001b[0m\u001b[0;34m(\u001b[0m\u001b[0mx\u001b[0m\u001b[0;34m.\u001b[0m\u001b[0mvar\u001b[0m\u001b[0;34m(\u001b[0m\u001b[0mddof\u001b[0m\u001b[0;34m=\u001b[0m\u001b[0;36m1\u001b[0m\u001b[0;34m)\u001b[0m \u001b[0;34m/\u001b[0m \u001b[0mnx\u001b[0m\u001b[0;34m)\u001b[0m\u001b[0;34m\u001b[0m\u001b[0;34m\u001b[0m\u001b[0m\n",
            "\u001b[0;31mTypeError\u001b[0m: ttest_1samp() got an unexpected keyword argument 'alternative'"
          ]
        }
      ]
    },
    {
      "cell_type": "code",
      "metadata": {
        "id": "Rdl6bqCsvmeb"
      },
      "source": [
        ""
      ],
      "execution_count": null,
      "outputs": []
    }
  ]
}