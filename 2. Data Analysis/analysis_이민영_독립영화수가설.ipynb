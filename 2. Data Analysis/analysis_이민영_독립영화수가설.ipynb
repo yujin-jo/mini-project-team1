{
 "cells": [
  {
   "cell_type": "code",
   "execution_count": 2,
   "id": "514fd660",
   "metadata": {},
   "outputs": [
    {
     "name": "stderr",
     "output_type": "stream",
     "text": [
      "/Library/Frameworks/Python.framework/Versions/3.8/lib/python3.8/site-packages/outdated/utils.py:14: OutdatedPackageWarning: The package pingouin is out of date. Your version is 0.3.12, the latest is 0.4.0.\n",
      "Set the environment variable OUTDATED_IGNORE=1 to disable these warnings.\n",
      "  return warn(\n"
     ]
    }
   ],
   "source": [
    "#패키지 다운\n",
    "import pandas as pd\n",
    "import matplotlib.pyplot as plt\n",
    "import numpy as np\n",
    "import pingouin as pg\n",
    "from matplotlib import rc\n",
    "from statsmodels.formula.api import ols\n",
    "import plotly.express as px\n",
    "import plotly.offline"
   ]
  },
  {
   "cell_type": "code",
   "execution_count": 3,
   "id": "composed-final",
   "metadata": {},
   "outputs": [],
   "source": [
    "#그래프 한글깨짐 해결\n",
    "rc('font', family='AppleGothic')"
   ]
  },
  {
   "cell_type": "code",
   "execution_count": 4,
   "id": "attempted-daniel",
   "metadata": {},
   "outputs": [],
   "source": [
    "#파일 불러오기\n",
    "total = pd.read_csv('https://raw.githubusercontent.com/yujin-jo/mini-project-team1/main/1.%20Crawling/data/KOBIS_TOT.csv')"
   ]
  },
  {
   "cell_type": "code",
   "execution_count": 5,
   "id": "ignored-hampshire",
   "metadata": {},
   "outputs": [
    {
     "data": {
      "text/html": [
       "<div>\n",
       "<style scoped>\n",
       "    .dataframe tbody tr th:only-of-type {\n",
       "        vertical-align: middle;\n",
       "    }\n",
       "\n",
       "    .dataframe tbody tr th {\n",
       "        vertical-align: top;\n",
       "    }\n",
       "\n",
       "    .dataframe thead th {\n",
       "        text-align: right;\n",
       "    }\n",
       "</style>\n",
       "<table border=\"1\" class=\"dataframe\">\n",
       "  <thead>\n",
       "    <tr style=\"text-align: right;\">\n",
       "      <th></th>\n",
       "      <th>순번</th>\n",
       "      <th>개봉연도</th>\n",
       "      <th>영화명</th>\n",
       "      <th>감독</th>\n",
       "      <th>배급사</th>\n",
       "      <th>개봉일</th>\n",
       "      <th>국적</th>\n",
       "      <th>전국스크린수</th>\n",
       "      <th>전국매출액</th>\n",
       "      <th>전국관객수</th>\n",
       "      <th>장르</th>\n",
       "      <th>등급</th>\n",
       "      <th>영화구분</th>\n",
       "    </tr>\n",
       "  </thead>\n",
       "  <tbody>\n",
       "    <tr>\n",
       "      <th>746</th>\n",
       "      <td>747</td>\n",
       "      <td>2014</td>\n",
       "      <td>님아, 그 강을 건너지 마오</td>\n",
       "      <td>진모영</td>\n",
       "      <td>CGV아트하우스,(주)대명문화공장</td>\n",
       "      <td>2014-11-27</td>\n",
       "      <td>한국</td>\n",
       "      <td>206</td>\n",
       "      <td>29845004479</td>\n",
       "      <td>3846206</td>\n",
       "      <td>다큐멘터리</td>\n",
       "      <td>전체관람가</td>\n",
       "      <td>독립/예술영화</td>\n",
       "    </tr>\n",
       "    <tr>\n",
       "      <th>748</th>\n",
       "      <td>749</td>\n",
       "      <td>2014</td>\n",
       "      <td>비긴 어게인</td>\n",
       "      <td>존 카니</td>\n",
       "      <td>판씨네마(주)</td>\n",
       "      <td>2014-08-13</td>\n",
       "      <td>미국</td>\n",
       "      <td>213</td>\n",
       "      <td>27091263504</td>\n",
       "      <td>3426679</td>\n",
       "      <td>멜로/로맨스</td>\n",
       "      <td>15세이상관람가</td>\n",
       "      <td>독립/예술영화</td>\n",
       "    </tr>\n",
       "  </tbody>\n",
       "</table>\n",
       "</div>"
      ],
      "text/plain": [
       "      순번  개봉연도              영화명    감독                 배급사         개봉일  국적  \\\n",
       "746  747  2014  님아, 그 강을 건너지 마오   진모영  CGV아트하우스,(주)대명문화공장  2014-11-27  한국   \n",
       "748  749  2014           비긴 어게인  존 카니             판씨네마(주)  2014-08-13  미국   \n",
       "\n",
       "     전국스크린수        전국매출액    전국관객수      장르        등급     영화구분  \n",
       "746     206  29845004479  3846206   다큐멘터리     전체관람가  독립/예술영화  \n",
       "748     213  27091263504  3426679  멜로/로맨스  15세이상관람가  독립/예술영화  "
      ]
     },
     "execution_count": 5,
     "metadata": {},
     "output_type": "execute_result"
    }
   ],
   "source": [
    "t4 = total[(total['개봉연도']>=2014)&(total['영화구분']=='독립/예술영화')]\n",
    "t4.head(2)"
   ]
  },
  {
   "cell_type": "code",
   "execution_count": 6,
   "id": "0baf6db7",
   "metadata": {},
   "outputs": [
    {
     "name": "stderr",
     "output_type": "stream",
     "text": [
      "<ipython-input-6-93cc48ef61fa>:2: FutureWarning:\n",
      "\n",
      "Indexing with multiple keys (implicitly converted to a tuple of keys) will be deprecated, use a list instead.\n",
      "\n"
     ]
    },
    {
     "data": {
      "text/html": [
       "<div>\n",
       "<style scoped>\n",
       "    .dataframe tbody tr th:only-of-type {\n",
       "        vertical-align: middle;\n",
       "    }\n",
       "\n",
       "    .dataframe tbody tr th {\n",
       "        vertical-align: top;\n",
       "    }\n",
       "\n",
       "    .dataframe thead th {\n",
       "        text-align: right;\n",
       "    }\n",
       "</style>\n",
       "<table border=\"1\" class=\"dataframe\">\n",
       "  <thead>\n",
       "    <tr style=\"text-align: right;\">\n",
       "      <th></th>\n",
       "      <th>개봉연도</th>\n",
       "      <th>전국관객수</th>\n",
       "      <th>전국매출액</th>\n",
       "    </tr>\n",
       "  </thead>\n",
       "  <tbody>\n",
       "    <tr>\n",
       "      <th>0</th>\n",
       "      <td>2015</td>\n",
       "      <td>7188493</td>\n",
       "      <td>55257102795</td>\n",
       "    </tr>\n",
       "    <tr>\n",
       "      <th>1</th>\n",
       "      <td>2016</td>\n",
       "      <td>7800341</td>\n",
       "      <td>60355607180</td>\n",
       "    </tr>\n",
       "    <tr>\n",
       "      <th>2</th>\n",
       "      <td>2017</td>\n",
       "      <td>8502997</td>\n",
       "      <td>64861518669</td>\n",
       "    </tr>\n",
       "    <tr>\n",
       "      <th>3</th>\n",
       "      <td>2018</td>\n",
       "      <td>7611377</td>\n",
       "      <td>60717378090</td>\n",
       "    </tr>\n",
       "    <tr>\n",
       "      <th>4</th>\n",
       "      <td>2019</td>\n",
       "      <td>6933326</td>\n",
       "      <td>55439843790</td>\n",
       "    </tr>\n",
       "    <tr>\n",
       "      <th>5</th>\n",
       "      <td>2020</td>\n",
       "      <td>3084087</td>\n",
       "      <td>25677478751</td>\n",
       "    </tr>\n",
       "  </tbody>\n",
       "</table>\n",
       "</div>"
      ],
      "text/plain": [
       "   개봉연도    전국관객수        전국매출액\n",
       "0  2015  7188493  55257102795\n",
       "1  2016  7800341  60355607180\n",
       "2  2017  8502997  64861518669\n",
       "3  2018  7611377  60717378090\n",
       "4  2019  6933326  55439843790\n",
       "5  2020  3084087  25677478751"
      ]
     },
     "execution_count": 6,
     "metadata": {},
     "output_type": "execute_result"
    }
   ],
   "source": [
    "t4c = t4[t4.개봉연도 > 2014].groupby('개봉연도')['순번'].count().reset_index()\n",
    "t4s = t4[t4.개봉연도 > 2014].groupby('개봉연도')['전국관객수','전국매출액'].sum().reset_index()\n",
    "t4s"
   ]
  },
  {
   "cell_type": "code",
   "execution_count": 7,
   "id": "german-praise",
   "metadata": {},
   "outputs": [
    {
     "data": {
      "text/html": [
       "<div>\n",
       "<style scoped>\n",
       "    .dataframe tbody tr th:only-of-type {\n",
       "        vertical-align: middle;\n",
       "    }\n",
       "\n",
       "    .dataframe tbody tr th {\n",
       "        vertical-align: top;\n",
       "    }\n",
       "\n",
       "    .dataframe thead th {\n",
       "        text-align: right;\n",
       "    }\n",
       "</style>\n",
       "<table border=\"1\" class=\"dataframe\">\n",
       "  <thead>\n",
       "    <tr style=\"text-align: right;\">\n",
       "      <th></th>\n",
       "      <th>개봉연도</th>\n",
       "      <th>순번</th>\n",
       "      <th>전국관객수</th>\n",
       "      <th>전국매출액</th>\n",
       "    </tr>\n",
       "  </thead>\n",
       "  <tbody>\n",
       "    <tr>\n",
       "      <th>0</th>\n",
       "      <td>2015</td>\n",
       "      <td>162</td>\n",
       "      <td>7188493</td>\n",
       "      <td>55257102795</td>\n",
       "    </tr>\n",
       "    <tr>\n",
       "      <th>1</th>\n",
       "      <td>2016</td>\n",
       "      <td>193</td>\n",
       "      <td>7800341</td>\n",
       "      <td>60355607180</td>\n",
       "    </tr>\n",
       "    <tr>\n",
       "      <th>2</th>\n",
       "      <td>2017</td>\n",
       "      <td>236</td>\n",
       "      <td>8502997</td>\n",
       "      <td>64861518669</td>\n",
       "    </tr>\n",
       "    <tr>\n",
       "      <th>3</th>\n",
       "      <td>2018</td>\n",
       "      <td>216</td>\n",
       "      <td>7611377</td>\n",
       "      <td>60717378090</td>\n",
       "    </tr>\n",
       "    <tr>\n",
       "      <th>4</th>\n",
       "      <td>2019</td>\n",
       "      <td>200</td>\n",
       "      <td>6933326</td>\n",
       "      <td>55439843790</td>\n",
       "    </tr>\n",
       "    <tr>\n",
       "      <th>5</th>\n",
       "      <td>2020</td>\n",
       "      <td>206</td>\n",
       "      <td>3084087</td>\n",
       "      <td>25677478751</td>\n",
       "    </tr>\n",
       "  </tbody>\n",
       "</table>\n",
       "</div>"
      ],
      "text/plain": [
       "   개봉연도   순번    전국관객수        전국매출액\n",
       "0  2015  162  7188493  55257102795\n",
       "1  2016  193  7800341  60355607180\n",
       "2  2017  236  8502997  64861518669\n",
       "3  2018  216  7611377  60717378090\n",
       "4  2019  200  6933326  55439843790\n",
       "5  2020  206  3084087  25677478751"
      ]
     },
     "execution_count": 7,
     "metadata": {},
     "output_type": "execute_result"
    }
   ],
   "source": [
    "t4c['전국관객수'] = t4s.전국관객수\n",
    "t4c['전국매출액'] = t4s.전국매출액\n",
    "t4c"
   ]
  },
  {
   "cell_type": "markdown",
   "id": "mineral-volunteer",
   "metadata": {},
   "source": [
    "귀무가설은 0,없다,같다"
   ]
  },
  {
   "cell_type": "markdown",
   "id": "bibliographic-range",
   "metadata": {},
   "source": [
    "# 가설1\n",
    "### 독립영화 수와 매출액의 관계가 없을 것이다."
   ]
  },
  {
   "cell_type": "code",
   "execution_count": 8,
   "id": "66cc1896",
   "metadata": {
    "scrolled": true
   },
   "outputs": [
    {
     "name": "stderr",
     "output_type": "stream",
     "text": [
      "/Library/Frameworks/Python.framework/Versions/3.8/lib/python3.8/site-packages/statsmodels/stats/stattools.py:74: ValueWarning:\n",
      "\n",
      "omni_normtest is not valid with less than 8 observations; 6 samples were given.\n",
      "\n"
     ]
    },
    {
     "data": {
      "text/html": [
       "<table class=\"simpletable\">\n",
       "<caption>OLS Regression Results</caption>\n",
       "<tr>\n",
       "  <th>Dep. Variable:</th>          <td>전국매출액</td>      <th>  R-squared:         </th> <td>   0.019</td>\n",
       "</tr>\n",
       "<tr>\n",
       "  <th>Model:</th>                   <td>OLS</td>       <th>  Adj. R-squared:    </th> <td>  -0.227</td>\n",
       "</tr>\n",
       "<tr>\n",
       "  <th>Method:</th>             <td>Least Squares</td>  <th>  F-statistic:       </th> <td> 0.07621</td>\n",
       "</tr>\n",
       "<tr>\n",
       "  <th>Date:</th>             <td>Sun, 29 Aug 2021</td> <th>  Prob (F-statistic):</th>  <td> 0.796</td> \n",
       "</tr>\n",
       "<tr>\n",
       "  <th>Time:</th>                 <td>21:23:37</td>     <th>  Log-Likelihood:    </th> <td> -148.17</td>\n",
       "</tr>\n",
       "<tr>\n",
       "  <th>No. Observations:</th>      <td>     6</td>      <th>  AIC:               </th> <td>   300.3</td>\n",
       "</tr>\n",
       "<tr>\n",
       "  <th>Df Residuals:</th>          <td>     4</td>      <th>  BIC:               </th> <td>   299.9</td>\n",
       "</tr>\n",
       "<tr>\n",
       "  <th>Df Model:</th>              <td>     1</td>      <th>                     </th>     <td> </td>   \n",
       "</tr>\n",
       "<tr>\n",
       "  <th>Covariance Type:</th>      <td>nonrobust</td>    <th>                     </th>     <td> </td>   \n",
       "</tr>\n",
       "</table>\n",
       "<table class=\"simpletable\">\n",
       "<tr>\n",
       "      <td></td>         <th>coef</th>     <th>std err</th>      <th>t</th>      <th>P>|t|</th>  <th>[0.025</th>    <th>0.975]</th>  \n",
       "</tr>\n",
       "<tr>\n",
       "  <th>Intercept</th> <td> 3.783e+10</td> <td> 5.79e+10</td> <td>    0.653</td> <td> 0.549</td> <td>-1.23e+11</td> <td> 1.99e+11</td>\n",
       "</tr>\n",
       "<tr>\n",
       "  <th>순번</th>        <td>  7.86e+07</td> <td> 2.85e+08</td> <td>    0.276</td> <td> 0.796</td> <td>-7.12e+08</td> <td> 8.69e+08</td>\n",
       "</tr>\n",
       "</table>\n",
       "<table class=\"simpletable\">\n",
       "<tr>\n",
       "  <th>Omnibus:</th>       <td>   nan</td> <th>  Durbin-Watson:     </th> <td>   0.955</td>\n",
       "</tr>\n",
       "<tr>\n",
       "  <th>Prob(Omnibus):</th> <td>   nan</td> <th>  Jarque-Bera (JB):  </th> <td>   3.098</td>\n",
       "</tr>\n",
       "<tr>\n",
       "  <th>Skew:</th>          <td>-1.686</td> <th>  Prob(JB):          </th> <td>   0.212</td>\n",
       "</tr>\n",
       "<tr>\n",
       "  <th>Kurtosis:</th>      <td> 4.010</td> <th>  Cond. No.          </th> <td>1.83e+03</td>\n",
       "</tr>\n",
       "</table><br/><br/>Notes:<br/>[1] Standard Errors assume that the covariance matrix of the errors is correctly specified.<br/>[2] The condition number is large, 1.83e+03. This might indicate that there are<br/>strong multicollinearity or other numerical problems."
      ],
      "text/plain": [
       "<class 'statsmodels.iolib.summary.Summary'>\n",
       "\"\"\"\n",
       "                            OLS Regression Results                            \n",
       "==============================================================================\n",
       "Dep. Variable:                  전국매출액   R-squared:                       0.019\n",
       "Model:                            OLS   Adj. R-squared:                 -0.227\n",
       "Method:                 Least Squares   F-statistic:                   0.07621\n",
       "Date:                Sun, 29 Aug 2021   Prob (F-statistic):              0.796\n",
       "Time:                        21:23:37   Log-Likelihood:                -148.17\n",
       "No. Observations:                   6   AIC:                             300.3\n",
       "Df Residuals:                       4   BIC:                             299.9\n",
       "Df Model:                           1                                         \n",
       "Covariance Type:            nonrobust                                         \n",
       "==============================================================================\n",
       "                 coef    std err          t      P>|t|      [0.025      0.975]\n",
       "------------------------------------------------------------------------------\n",
       "Intercept   3.783e+10   5.79e+10      0.653      0.549   -1.23e+11    1.99e+11\n",
       "순번           7.86e+07   2.85e+08      0.276      0.796   -7.12e+08    8.69e+08\n",
       "==============================================================================\n",
       "Omnibus:                          nan   Durbin-Watson:                   0.955\n",
       "Prob(Omnibus):                    nan   Jarque-Bera (JB):                3.098\n",
       "Skew:                          -1.686   Prob(JB):                        0.212\n",
       "Kurtosis:                       4.010   Cond. No.                     1.83e+03\n",
       "==============================================================================\n",
       "\n",
       "Notes:\n",
       "[1] Standard Errors assume that the covariance matrix of the errors is correctly specified.\n",
       "[2] The condition number is large, 1.83e+03. This might indicate that there are\n",
       "strong multicollinearity or other numerical problems.\n",
       "\"\"\""
      ]
     },
     "execution_count": 8,
     "metadata": {},
     "output_type": "execute_result"
    }
   ],
   "source": [
    "영화수매출액 = ols(\"전국매출액 ~ 순번\", data = t4c).fit().summary()\n",
    "영화수매출액"
   ]
  },
  {
   "cell_type": "markdown",
   "id": "laughing-consequence",
   "metadata": {},
   "source": [
    "**독립영화 수와 매출액의 관계가 없을 것이다.** \n",
    "\n",
    "\n",
    "p값 > 0.05\n",
    "\n",
    " ==>귀무가설 채택. \n",
    " \n",
    " ==>독립영화 수와 전국매출액의 관계가 있다고 할 수 없다. "
   ]
  },
  {
   "cell_type": "markdown",
   "id": "tender-telephone",
   "metadata": {},
   "source": [
    "# 가설2\n",
    "### 독립영화 수와 전국관객 수의 관계가 없을 것이다."
   ]
  },
  {
   "cell_type": "code",
   "execution_count": 9,
   "id": "threaded-fairy",
   "metadata": {
    "scrolled": true
   },
   "outputs": [
    {
     "data": {
      "text/html": [
       "<table class=\"simpletable\">\n",
       "<caption>OLS Regression Results</caption>\n",
       "<tr>\n",
       "  <th>Dep. Variable:</th>          <td>전국관객수</td>      <th>  R-squared:         </th> <td>   0.021</td> \n",
       "</tr>\n",
       "<tr>\n",
       "  <th>Model:</th>                   <td>OLS</td>       <th>  Adj. R-squared:    </th> <td>   0.020</td> \n",
       "</tr>\n",
       "<tr>\n",
       "  <th>Method:</th>             <td>Least Squares</td>  <th>  F-statistic:       </th> <td>   29.09</td> \n",
       "</tr>\n",
       "<tr>\n",
       "  <th>Date:</th>             <td>Sun, 29 Aug 2021</td> <th>  Prob (F-statistic):</th> <td>8.12e-08</td> \n",
       "</tr>\n",
       "<tr>\n",
       "  <th>Time:</th>                 <td>21:23:44</td>     <th>  Log-Likelihood:    </th> <td> -18384.</td> \n",
       "</tr>\n",
       "<tr>\n",
       "  <th>No. Observations:</th>      <td>  1372</td>      <th>  AIC:               </th> <td>3.677e+04</td>\n",
       "</tr>\n",
       "<tr>\n",
       "  <th>Df Residuals:</th>          <td>  1370</td>      <th>  BIC:               </th> <td>3.678e+04</td>\n",
       "</tr>\n",
       "<tr>\n",
       "  <th>Df Model:</th>              <td>     1</td>      <th>                     </th>     <td> </td>    \n",
       "</tr>\n",
       "<tr>\n",
       "  <th>Covariance Type:</th>      <td>nonrobust</td>    <th>                     </th>     <td> </td>    \n",
       "</tr>\n",
       "</table>\n",
       "<table class=\"simpletable\">\n",
       "<tr>\n",
       "      <td></td>         <th>coef</th>     <th>std err</th>      <th>t</th>      <th>P>|t|</th>  <th>[0.025</th>    <th>0.975]</th>  \n",
       "</tr>\n",
       "<tr>\n",
       "  <th>Intercept</th> <td> 1.078e+05</td> <td> 1.32e+04</td> <td>    8.181</td> <td> 0.000</td> <td> 8.19e+04</td> <td> 1.34e+05</td>\n",
       "</tr>\n",
       "<tr>\n",
       "  <th>순번</th>        <td>  -31.0001</td> <td>    5.747</td> <td>   -5.394</td> <td> 0.000</td> <td>  -42.275</td> <td>  -19.725</td>\n",
       "</tr>\n",
       "</table>\n",
       "<table class=\"simpletable\">\n",
       "<tr>\n",
       "  <th>Omnibus:</th>       <td>2892.461</td> <th>  Durbin-Watson:     </th>  <td>   0.417</td>  \n",
       "</tr>\n",
       "<tr>\n",
       "  <th>Prob(Omnibus):</th>  <td> 0.000</td>  <th>  Jarque-Bera (JB):  </th> <td>7914792.069</td>\n",
       "</tr>\n",
       "<tr>\n",
       "  <th>Skew:</th>           <td>17.435</td>  <th>  Prob(JB):          </th>  <td>    0.00</td>  \n",
       "</tr>\n",
       "<tr>\n",
       "  <th>Kurtosis:</th>       <td>373.453</td> <th>  Cond. No.          </th>  <td>7.00e+03</td>  \n",
       "</tr>\n",
       "</table><br/><br/>Notes:<br/>[1] Standard Errors assume that the covariance matrix of the errors is correctly specified.<br/>[2] The condition number is large,  7e+03. This might indicate that there are<br/>strong multicollinearity or other numerical problems."
      ],
      "text/plain": [
       "<class 'statsmodels.iolib.summary.Summary'>\n",
       "\"\"\"\n",
       "                            OLS Regression Results                            \n",
       "==============================================================================\n",
       "Dep. Variable:                  전국관객수   R-squared:                       0.021\n",
       "Model:                            OLS   Adj. R-squared:                  0.020\n",
       "Method:                 Least Squares   F-statistic:                     29.09\n",
       "Date:                Sun, 29 Aug 2021   Prob (F-statistic):           8.12e-08\n",
       "Time:                        21:23:44   Log-Likelihood:                -18384.\n",
       "No. Observations:                1372   AIC:                         3.677e+04\n",
       "Df Residuals:                    1370   BIC:                         3.678e+04\n",
       "Df Model:                           1                                         \n",
       "Covariance Type:            nonrobust                                         \n",
       "==============================================================================\n",
       "                 coef    std err          t      P>|t|      [0.025      0.975]\n",
       "------------------------------------------------------------------------------\n",
       "Intercept   1.078e+05   1.32e+04      8.181      0.000    8.19e+04    1.34e+05\n",
       "순번           -31.0001      5.747     -5.394      0.000     -42.275     -19.725\n",
       "==============================================================================\n",
       "Omnibus:                     2892.461   Durbin-Watson:                   0.417\n",
       "Prob(Omnibus):                  0.000   Jarque-Bera (JB):          7914792.069\n",
       "Skew:                          17.435   Prob(JB):                         0.00\n",
       "Kurtosis:                     373.453   Cond. No.                     7.00e+03\n",
       "==============================================================================\n",
       "\n",
       "Notes:\n",
       "[1] Standard Errors assume that the covariance matrix of the errors is correctly specified.\n",
       "[2] The condition number is large,  7e+03. This might indicate that there are\n",
       "strong multicollinearity or other numerical problems.\n",
       "\"\"\""
      ]
     },
     "execution_count": 9,
     "metadata": {},
     "output_type": "execute_result"
    }
   ],
   "source": [
    "영화수관객 = ols(\"전국관객수 ~ 순번\", data = t4).fit().summary()\n",
    "영화수관객"
   ]
  },
  {
   "cell_type": "markdown",
   "id": "capital-collective",
   "metadata": {},
   "source": [
    "**독립영화 수와 전국관객 수의 관계가 없을 것이다.** \n",
    "\n",
    "p값 < 0.05\n",
    "\n",
    " ==>귀무가설 기각. \n",
    " \n",
    " ==>독립영화 수와 전국관객수는 관계가 있다. "
   ]
  }
 ],
 "metadata": {
  "kernelspec": {
   "display_name": "Python 3",
   "language": "python",
   "name": "python3"
  },
  "language_info": {
   "codemirror_mode": {
    "name": "ipython",
    "version": 3
   },
   "file_extension": ".py",
   "mimetype": "text/x-python",
   "name": "python",
   "nbconvert_exporter": "python",
   "pygments_lexer": "ipython3",
   "version": "3.8.5"
  }
 },
 "nbformat": 4,
 "nbformat_minor": 5
}
