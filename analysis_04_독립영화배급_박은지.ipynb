{
  "nbformat": 4,
  "nbformat_minor": 0,
  "metadata": {
    "colab": {
      "name": "analysis_04_독립영화배급_박은지.ipynb",
      "provenance": [],
      "collapsed_sections": [
        "7POBoTdqfQBY",
        "ziVjU-lyrZLh"
      ],
      "mount_file_id": "17Bs3d-Sjzn8MpZoI2eWq7LT4hHRDaqmN",
      "authorship_tag": "ABX9TyNu9lSX3r420/2pbEm5xsUD",
      "include_colab_link": true
    },
    "kernelspec": {
      "name": "python3",
      "display_name": "Python 3"
    },
    "language_info": {
      "name": "python"
    }
  },
  "cells": [
    {
      "cell_type": "markdown",
      "metadata": {
        "id": "view-in-github",
        "colab_type": "text"
      },
      "source": [
        "<a href=\"https://colab.research.google.com/github/yujin-jo/mini-project-team1/blob/main/analysis_04_%EB%8F%85%EB%A6%BD%EC%98%81%ED%99%94%EB%B0%B0%EA%B8%89_%EB%B0%95%EC%9D%80%EC%A7%80.ipynb\" target=\"_parent\"><img src=\"https://colab.research.google.com/assets/colab-badge.svg\" alt=\"Open In Colab\"/></a>"
      ]
    },
    {
      "cell_type": "markdown",
      "metadata": {
        "id": "7POBoTdqfQBY"
      },
      "source": [
        "# 기본 세팅\n",
        "- 깃허브 클론 \n",
        "- 드라이브 마운트 \n",
        "- 파일 임포트"
      ]
    },
    {
      "cell_type": "code",
      "metadata": {
        "colab": {
          "base_uri": "https://localhost:8080/"
        },
        "id": "J0MNdU7ibyud",
        "outputId": "55ba9421-7e16-46f3-80da-3a1a3eb0ee09"
      },
      "source": [
        "!git clone https://github.com/yujin-jo/mini-project-team1.git"
      ],
      "execution_count": null,
      "outputs": [
        {
          "output_type": "stream",
          "text": [
            "Cloning into 'mini-project-team1'...\n",
            "remote: Enumerating objects: 731, done.\u001b[K\n",
            "remote: Counting objects: 100% (64/64), done.\u001b[K\n",
            "remote: Compressing objects: 100% (29/29), done.\u001b[K\n",
            "remote: Total 731 (delta 44), reused 33 (delta 33), pack-reused 667\u001b[K\n",
            "Receiving objects: 100% (731/731), 2.29 MiB | 14.77 MiB/s, done.\n",
            "Resolving deltas: 100% (243/243), done.\n"
          ],
          "name": "stdout"
        }
      ]
    },
    {
      "cell_type": "code",
      "metadata": {
        "colab": {
          "base_uri": "https://localhost:8080/"
        },
        "id": "Suwwd3PaezdJ",
        "outputId": "f180057b-9c5e-4b62-8382-5d0b243bf3ab"
      },
      "source": [
        "from google.colab import drive\n",
        "drive.mount('/content/drive')"
      ],
      "execution_count": null,
      "outputs": [
        {
          "output_type": "stream",
          "text": [
            "Mounted at /content/drive\n"
          ],
          "name": "stdout"
        }
      ]
    },
    {
      "cell_type": "code",
      "metadata": {
        "colab": {
          "base_uri": "https://localhost:8080/"
        },
        "id": "fmPjRksast7G",
        "outputId": "12136f8f-3a70-42da-dc54-dc9062a539af"
      },
      "source": [
        "pip install plotly==5.2.1"
      ],
      "execution_count": null,
      "outputs": [
        {
          "output_type": "stream",
          "text": [
            "Collecting plotly==5.2.1\n",
            "  Downloading plotly-5.2.1-py2.py3-none-any.whl (21.8 MB)\n",
            "\u001b[K     |████████████████████████████████| 21.8 MB 1.4 MB/s \n",
            "\u001b[?25hCollecting tenacity>=6.2.0\n",
            "  Downloading tenacity-8.0.1-py3-none-any.whl (24 kB)\n",
            "Requirement already satisfied: six in /usr/local/lib/python3.7/dist-packages (from plotly==5.2.1) (1.15.0)\n",
            "Installing collected packages: tenacity, plotly\n",
            "  Attempting uninstall: plotly\n",
            "    Found existing installation: plotly 4.4.1\n",
            "    Uninstalling plotly-4.4.1:\n",
            "      Successfully uninstalled plotly-4.4.1\n",
            "Successfully installed plotly-5.2.1 tenacity-8.0.1\n"
          ],
          "name": "stdout"
        }
      ]
    },
    {
      "cell_type": "code",
      "metadata": {
        "id": "drkQsu-ge1Bk",
        "colab": {
          "base_uri": "https://localhost:8080/"
        },
        "outputId": "7a2464b3-96cb-4a91-ab80-5fc068f84294"
      },
      "source": [
        "#기본\n",
        "import pandas as pd \n",
        "import numpy as   np\n",
        "import matplotlib.pyplot as plt\n",
        "from statsmodels.formula.api import ols\n",
        "import json\n",
        "#plotly\n",
        "import plotly.graph_objects as go\n",
        "import plotly.express as px\n",
        "import plotly.io as io\n",
        "import plotly.figure_factory as ff\n",
        "from plotly.subplots import make_subplots\n",
        "from plotly.validators.scatter.marker import SymbolValidator"
      ],
      "execution_count": null,
      "outputs": [
        {
          "output_type": "stream",
          "text": [
            "/usr/local/lib/python3.7/dist-packages/statsmodels/tools/_testing.py:19: FutureWarning: pandas.util.testing is deprecated. Use the functions in the public API at pandas.testing instead.\n",
            "  import pandas.util.testing as tm\n"
          ],
          "name": "stderr"
        }
      ]
    },
    {
      "cell_type": "code",
      "metadata": {
        "colab": {
          "base_uri": "https://localhost:8080/",
          "height": 78
        },
        "id": "BYID_BVzkDhu",
        "outputId": "22f1e250-bb57-4043-9517-f855a969ce93"
      },
      "source": [
        "#영화 자료 가져오기 \n",
        "movies = pd.read_csv(\"/content/mini-project-team1/1. Crawling/data/KOBIS_TOT.csv\")\n",
        "movies[\"개봉일\"] = pd.to_datetime(movies[\"개봉일\"])\n",
        "movies.sample(1)"
      ],
      "execution_count": null,
      "outputs": [
        {
          "output_type": "execute_result",
          "data": {
            "text/html": [
              "<div>\n",
              "<style scoped>\n",
              "    .dataframe tbody tr th:only-of-type {\n",
              "        vertical-align: middle;\n",
              "    }\n",
              "\n",
              "    .dataframe tbody tr th {\n",
              "        vertical-align: top;\n",
              "    }\n",
              "\n",
              "    .dataframe thead th {\n",
              "        text-align: right;\n",
              "    }\n",
              "</style>\n",
              "<table border=\"1\" class=\"dataframe\">\n",
              "  <thead>\n",
              "    <tr style=\"text-align: right;\">\n",
              "      <th></th>\n",
              "      <th>순번</th>\n",
              "      <th>개봉연도</th>\n",
              "      <th>영화명</th>\n",
              "      <th>감독</th>\n",
              "      <th>배급사</th>\n",
              "      <th>개봉일</th>\n",
              "      <th>국적</th>\n",
              "      <th>전국스크린수</th>\n",
              "      <th>전국매출액</th>\n",
              "      <th>전국관객수</th>\n",
              "      <th>장르</th>\n",
              "      <th>등급</th>\n",
              "      <th>영화구분</th>\n",
              "    </tr>\n",
              "  </thead>\n",
              "  <tbody>\n",
              "    <tr>\n",
              "      <th>1077</th>\n",
              "      <td>1078</td>\n",
              "      <td>2015</td>\n",
              "      <td>베테랑</td>\n",
              "      <td>류승완</td>\n",
              "      <td>(주)씨제이이엔엠</td>\n",
              "      <td>2015-08-05</td>\n",
              "      <td>한국</td>\n",
              "      <td>1064</td>\n",
              "      <td>105024756250</td>\n",
              "      <td>13395400</td>\n",
              "      <td>액션</td>\n",
              "      <td>15세이상관람가</td>\n",
              "      <td>일반영화</td>\n",
              "    </tr>\n",
              "  </tbody>\n",
              "</table>\n",
              "</div>"
            ],
            "text/plain": [
              "        순번  개봉연도  영화명   감독  ...     전국관객수  장르        등급  영화구분\n",
              "1077  1078  2015  베테랑  류승완  ...  13395400  액션  15세이상관람가  일반영화\n",
              "\n",
              "[1 rows x 13 columns]"
            ]
          },
          "metadata": {},
          "execution_count": 91
        }
      ]
    },
    {
      "cell_type": "code",
      "metadata": {
        "colab": {
          "base_uri": "https://localhost:8080/",
          "height": 141
        },
        "id": "rj9PiByXb5V7",
        "outputId": "dfe99351-a1e8-477c-ddae-dd6e74fd5c92"
      },
      "source": [
        "#배급사 자료 가져오기 (연도 별 상위 10개의 배급사)\n",
        "distributor = pd.read_csv(\"/content/mini-project-team1/1. Crawling/data/2011_2020_topdistributor.csv\")\n",
        "distributor.head(3)"
      ],
      "execution_count": null,
      "outputs": [
        {
          "output_type": "execute_result",
          "data": {
            "text/html": [
              "<div>\n",
              "<style scoped>\n",
              "    .dataframe tbody tr th:only-of-type {\n",
              "        vertical-align: middle;\n",
              "    }\n",
              "\n",
              "    .dataframe tbody tr th {\n",
              "        vertical-align: top;\n",
              "    }\n",
              "\n",
              "    .dataframe thead th {\n",
              "        text-align: right;\n",
              "    }\n",
              "</style>\n",
              "<table border=\"1\" class=\"dataframe\">\n",
              "  <thead>\n",
              "    <tr style=\"text-align: right;\">\n",
              "      <th></th>\n",
              "      <th>2011</th>\n",
              "      <th>2012</th>\n",
              "      <th>2013</th>\n",
              "      <th>2014</th>\n",
              "      <th>2015</th>\n",
              "      <th>2016</th>\n",
              "      <th>2017</th>\n",
              "      <th>2018</th>\n",
              "      <th>2019</th>\n",
              "      <th>2020</th>\n",
              "    </tr>\n",
              "  </thead>\n",
              "  <tbody>\n",
              "    <tr>\n",
              "      <th>0</th>\n",
              "      <td>씨제이</td>\n",
              "      <td>씨제이</td>\n",
              "      <td>씨제이</td>\n",
              "      <td>씨제이</td>\n",
              "      <td>씨제이</td>\n",
              "      <td>씨제이</td>\n",
              "      <td>씨제이</td>\n",
              "      <td>롯데</td>\n",
              "      <td>월트디즈니</td>\n",
              "      <td>씨제이</td>\n",
              "    </tr>\n",
              "    <tr>\n",
              "      <th>1</th>\n",
              "      <td>롯데</td>\n",
              "      <td>쇼박스</td>\n",
              "      <td>NEW</td>\n",
              "      <td>롯데</td>\n",
              "      <td>쇼박스</td>\n",
              "      <td>쇼박스</td>\n",
              "      <td>쇼박스</td>\n",
              "      <td>씨제이</td>\n",
              "      <td>씨제이</td>\n",
              "      <td>롯데</td>\n",
              "    </tr>\n",
              "    <tr>\n",
              "      <th>2</th>\n",
              "      <td>NEW</td>\n",
              "      <td>롯데</td>\n",
              "      <td>롯데</td>\n",
              "      <td>소니</td>\n",
              "      <td>월트디즈니</td>\n",
              "      <td>월트디즈니</td>\n",
              "      <td>롯데</td>\n",
              "      <td>NEW</td>\n",
              "      <td>롯데</td>\n",
              "      <td>NEW</td>\n",
              "    </tr>\n",
              "  </tbody>\n",
              "</table>\n",
              "</div>"
            ],
            "text/plain": [
              "  2011 2012 2013 2014   2015   2016 2017 2018   2019 2020\n",
              "0  씨제이  씨제이  씨제이  씨제이    씨제이    씨제이  씨제이   롯데  월트디즈니  씨제이\n",
              "1   롯데  쇼박스  NEW   롯데    쇼박스    쇼박스  쇼박스  씨제이    씨제이   롯데\n",
              "2  NEW   롯데   롯데   소니  월트디즈니  월트디즈니   롯데  NEW     롯데  NEW"
            ]
          },
          "metadata": {},
          "execution_count": 108
        }
      ]
    },
    {
      "cell_type": "markdown",
      "metadata": {
        "id": "6HGKJQkFfVkc"
      },
      "source": [
        "---\n",
        "# I. 가설 설정과 분석 배경\n",
        "\n",
        "1. 가설  : 2014년 이후 대형 배급사가 독립∙예술 영화의 배급을 늘렸을 것이다.\n",
        "    - 2011~2014년까지의 대형 배급사가 배급한 영화 수와 2015년 ~ 2020년 배급한 영화 수 사이에 유의미한 차이가 있을 것이다. \n",
        "    - 대형 배급사의 독립예술영화 배급 비중도 2014년 이전과 차이가 있을 것이다(증가했을 것이다)\n",
        "    - 독립영화를 배급하는 배급사의 수와 비중도 2014년 이전과 차이가 있을 것이다 (감소했을 것이다).\n",
        "\n",
        "    \n",
        "2. 가설을 선택한 이유 : \n",
        "    - 2014년~2017년 사이에 대형 배급사 기준으로 독립영화 전용 스크린이 증가하기 시작 (CGV 아트하우스, 롯데시네마 이르떼클래식과 같은 브랜드가 생성) \n",
        "    - 2014년의 흥행 성적이 대형 배급사의 독립예술영화 배급에 영향을 미치지 않았을까? (이전과 이후를 비교하여 가설을 확인하고자 함) \n",
        "    - 2014년 이후 배급이 증가했다면, 일시적인 현상인지 아니면 향후 얼마 동안 대형 배급사의 의사결정에 영향을 주었을지 궁금했다. \n",
        "    - 대형 배급사에서의 독립예술영화 배급이 오히려 중소 독립영화 배급사의 파이를 뺏어간 것이 아닐까하는 궁금증 "
      ]
    },
    {
      "cell_type": "markdown",
      "metadata": {
        "id": "1uq-PL9sgAP8"
      },
      "source": [
        "# II. 분석 방향 \n",
        "1. 활용 데이터 \n",
        "  - 영화 개봉연도 : 연도 별로 영화 수 집계 필요 \n",
        "  - 영화 별 배급사 : 영화 별 배급사 정보 (KOBIS 참고) \n",
        "  - 영화 수 : 연도 별, 배급사 별, 영화유형(독립예술영화, 일반영화)로 집계한 영화 수\n",
        "  - 연도 별 매출 기준 TOP10 배급사 : 대형 배급사, 기타 배급사를 분리하여 파악하기 위함 \n",
        "\n",
        "2. 분석 대상 \n",
        "  - 비교 시기 : 1집단(2011년 ~ 2014년), 2집단(2015년~2020년) \n",
        "  - 비교 대상 \n",
        "    - 대형 배급사가 배급한 영화 수 \n",
        "    - 대형 배급사의 독립예술영화 배급 비중\n",
        "    - 독립예술영화 중 배급사의 비중 비교 (대형배급사VS기타배급사)\n",
        "    - 독립영화 배급사의 수\n",
        "  \n",
        "3. 분석 방법론 \n",
        "  - 비교 분석(t검정) : 두 집단(비교 시기)의 집계(비교 대상)에 유의미한 차이가 있는지 비교 \n",
        "  - 시계열 분석 : 2011년 ~ 2020년까지 전체적인 추이를 확인하고자함\n",
        "\n",
        "\n",
        "4. 시각화 \n",
        "  - 히스토그램 (영화 수)\n",
        "  - 비율 바 차트 (대형 배급사의 독립 에술영화 배급 비중, 기간 별 / 독립예술영 화 중 대형 배급사의 배급수 비중, 기간 별) \n",
        "  - 파이차트 (대형 배급사의 독립 에술영화 배급 비중, 전체 / 독립예술영화 중 대형 배급사의 배급수 비중, 전체) \n",
        "\n",
        "\n",
        "5. 데이터 정의 \n",
        "  - 대형 배급사 : 2011년 ~ 2020년 기간 동안 모두 매출액 기준 TOP10 내에 있었던 영화 배급사만을 기준으로 함(씨제이이엔엠, 롯데, NEW, 쇼박스, 워너브라더스)\n",
        "  - 씨제이이엔앰의 경우 CGV계열사인 아트하우스 배급 영화도 포함\n",
        "  - 2020년 영화 수가 급감했기 때문에 2020년은 제외할지 고민 중 (팀과 논의해서 배제 예정)\n"
      ]
    },
    {
      "cell_type": "markdown",
      "metadata": {
        "id": "pFR2WhE3fxsO"
      },
      "source": [
        "\n",
        "# III. 분석 과정  "
      ]
    },
    {
      "cell_type": "markdown",
      "metadata": {
        "id": "ZteRTOEsbAK3"
      },
      "source": [
        "## 0. 데이터 전처리 \n",
        "### 1) 배급사 string 분리\n",
        "  - 배급사 string을 , 기준으로 row로 분리하여 계산\n",
        "  - 배급사가 분리된 데이터를 `new_movies`로 명명\n",
        "  \n",
        "### 2) 독립예술영화 데이터 분리 \n",
        "  - 독립예술영화 데이터를 `movies_art`로 명명\n",
        "  - 배급사가 분리된 예술영화 데이터를 `new_movies_art`로 명명\n"
      ]
    },
    {
      "cell_type": "code",
      "metadata": {
        "id": "Pz89XmUm9Nm0"
      },
      "source": [
        "# 배급사명을 ,로 구분시키고 df화함\n",
        "new_movies = movies.assign(배급사=movies.배급사.str.split(\",\"))\n",
        "\n",
        "# 분리된 배급사를 시리즈로 만들어준 후, 기존 테이블과 병합해줬다. \n",
        "new_movies = new_movies.배급사.apply(pd.Series).merge(new_movies, right_index = True, left_index = True)\n",
        "\n",
        "# 분리된 배급사들을 행으로 변환하기 위해 melt함수 적용해주고, 연도 별 영화 별로 쉽게 구분할 수 있도록 sorting해주었다. \n",
        "new_movies = new_movies.melt(id_vars = [\"순번\", \"개봉연도\", \"영화명\", \"감독\", \"배급사\", \"개봉일\", \"국적\", \"전국스크린수\", \"전국매출액\", \"전국관객수\", \"장르\", \"등급\", \"영화구분\"], var_name=\"영화N구분\", value_name = \"배급사명분리\")\n",
        "new_movies = new_movies.sort_values(by = [\"순번\", \"영화N구분\"], ascending = True)\n",
        "\n",
        "# 영화 중 분리된 배급사 값이 Null값인 경우를 제외해 주었다\n",
        "new_movies = new_movies[new_movies[\"배급사명분리\"].notnull()]\n",
        "\n",
        "# 배급사명을 원래 배급사명에 넣었다. \n",
        "new_movies['배급사'] = new_movies[\"배급사명분리\"]\n",
        "\n",
        "# 불필요한 컬럼을 제거했다.\n",
        "new_movies.drop(['배급사명분리', '영화N구분'], axis=1, inplace=True)\n",
        "\n",
        "# movies에서 독립예술영화만 분리 \n",
        "movies_art = movies[movies['영화구분']=='독립/예술영화']\n",
        "\n",
        "# new_moives에서 독립예술영화만 분리\n",
        "new_movies_art = new_movies[new_movies['영화구분']=='독립/예술영화']"
      ],
      "execution_count": null,
      "outputs": []
    },
    {
      "cell_type": "markdown",
      "metadata": {
        "id": "ziVjU-lyrZLh"
      },
      "source": [
        "## 1. 데이터 테이블 overview\n",
        "- 2011년 ~ 2020년까지의 총 3,375편의 영화 데이터가 들어감, 이 중 독립/예술 영화는 총 1,515편으로 44.9%를 차지한다.\n",
        "- 독립예술 영화의 비중은 2014년까지 지속적으로 상승하다가 2015년에 소폭 하락하였고, 2016년부터 2019년까지 다시 지속적으로 상승하였음\n",
        "- 2016년 이후 독립예술영화의 비중은 전체 영화의 50% 이상으로, 2011년 13%대에 비해 약 280% 성장\n",
        "---\n",
        "- 참고 테이블\n",
        "  - `movies` : 전체 영화 데이터를 보여주는 테이블 \n",
        "  - `movies_art` : 독립/예술 영화로 분류된 영화 정보를 보여주는 테이블 \n",
        "  - `new_movies` : 배급사가 분리된 전체 영화 데이터를 보여주는 테이블\n",
        "  - `new_movies_art` : 배급사가 분리된 독립/에술영화 데이터를 보여주는 테이블"
      ]
    },
    {
      "cell_type": "code",
      "metadata": {
        "id": "rmrAe2XUhsQW",
        "colab": {
          "base_uri": "https://localhost:8080/"
        },
        "outputId": "1589b457-8bb0-44dd-94c2-4ca8fb8e8bd6"
      },
      "source": [
        "# 영화 기본 정보 확인 \n",
        "movies.info(),  movies_art.info()"
      ],
      "execution_count": null,
      "outputs": [
        {
          "output_type": "stream",
          "text": [
            "<class 'pandas.core.frame.DataFrame'>\n",
            "RangeIndex: 3375 entries, 0 to 3374\n",
            "Data columns (total 13 columns):\n",
            " #   Column  Non-Null Count  Dtype         \n",
            "---  ------  --------------  -----         \n",
            " 0   순번      3375 non-null   int64         \n",
            " 1   개봉연도    3375 non-null   int64         \n",
            " 2   영화명     3375 non-null   object        \n",
            " 3   감독      3375 non-null   object        \n",
            " 4   배급사     3374 non-null   object        \n",
            " 5   개봉일     3375 non-null   datetime64[ns]\n",
            " 6   국적      3375 non-null   object        \n",
            " 7   전국스크린수  3375 non-null   int64         \n",
            " 8   전국매출액   3375 non-null   int64         \n",
            " 9   전국관객수   3375 non-null   int64         \n",
            " 10  장르      3375 non-null   object        \n",
            " 11  등급      3375 non-null   object        \n",
            " 12  영화구분    3375 non-null   object        \n",
            "dtypes: datetime64[ns](1), int64(5), object(7)\n",
            "memory usage: 342.9+ KB\n",
            "<class 'pandas.core.frame.DataFrame'>\n",
            "Int64Index: 1515 entries, 29 to 3373\n",
            "Data columns (total 13 columns):\n",
            " #   Column  Non-Null Count  Dtype         \n",
            "---  ------  --------------  -----         \n",
            " 0   순번      1515 non-null   int64         \n",
            " 1   개봉연도    1515 non-null   int64         \n",
            " 2   영화명     1515 non-null   object        \n",
            " 3   감독      1515 non-null   object        \n",
            " 4   배급사     1514 non-null   object        \n",
            " 5   개봉일     1515 non-null   datetime64[ns]\n",
            " 6   국적      1515 non-null   object        \n",
            " 7   전국스크린수  1515 non-null   int64         \n",
            " 8   전국매출액   1515 non-null   int64         \n",
            " 9   전국관객수   1515 non-null   int64         \n",
            " 10  장르      1515 non-null   object        \n",
            " 11  등급      1515 non-null   object        \n",
            " 12  영화구분    1515 non-null   object        \n",
            "dtypes: datetime64[ns](1), int64(5), object(7)\n",
            "memory usage: 165.7+ KB\n"
          ],
          "name": "stdout"
        },
        {
          "output_type": "execute_result",
          "data": {
            "text/plain": [
              "(None, None)"
            ]
          },
          "metadata": {},
          "execution_count": 104
        }
      ]
    },
    {
      "cell_type": "code",
      "metadata": {
        "colab": {
          "base_uri": "https://localhost:8080/",
          "height": 542
        },
        "id": "l9W8TiMurdfh",
        "outputId": "44d347aa-0165-4213-d33f-1fdab390861c"
      },
      "source": [
        "#연도 별 영화 수와 독립영화 비중을 확인 (movie_transition테이블을 만들어서 확인)\n",
        "#독립예술 영화의 비중은 2014년까지 지속적으로 상승하다가 2015년에 소폭 하락하였고, 2016년부터 2019년까지 다시 지속적으로 상승하였음\n",
        "#2016년 이후 독립예술영화의 비중은 전체 영화의 50% 이상으로, 2011년 13%대에 비해 약 280% 성장\n",
        "movie_transition1 = movies.groupby(['개봉연도'])['영화명'].size().reset_index(name='총영화수')\n",
        "movie_transition2 = movies.groupby(['개봉연도', '영화구분'])['영화명'].size().reset_index(name=\"유형별영화수\")\n",
        "movie_transition = pd.merge(movie_transition2, movie_transition1, how = 'left', on = '개봉연도')\n",
        "movie_transition['비중'] = movie_transition['유형별영화수'] / movie_transition['총영화수']*100\n",
        "fig = px.bar(movie_transition,\n",
        "             x = \"개봉연도\", \n",
        "             y = \"유형별영화수\", \n",
        "             text = \"유형별영화수\",\n",
        "             title=\"연도 별 영화 구분에 따른 영화 수 추이\", \n",
        "             color = \"영화구분\", hover_name = \"영화구분\", \n",
        "             hover_data=[\"비중\"], log_x = True)\n",
        "fig.update_traces(texttemplate='%{text}개', textposition='inside')\n",
        "fig.show()"
      ],
      "execution_count": null,
      "outputs": [
        {
          "output_type": "display_data",
          "data": {
            "text/html": [
              "<html>\n",
              "<head><meta charset=\"utf-8\" /></head>\n",
              "<body>\n",
              "    <div>            <script src=\"https://cdnjs.cloudflare.com/ajax/libs/mathjax/2.7.5/MathJax.js?config=TeX-AMS-MML_SVG\"></script><script type=\"text/javascript\">if (window.MathJax) {MathJax.Hub.Config({SVG: {font: \"STIX-Web\"}});}</script>                <script type=\"text/javascript\">window.PlotlyConfig = {MathJaxConfig: 'local'};</script>\n",
              "        <script src=\"https://cdn.plot.ly/plotly-2.3.1.min.js\"></script>                <div id=\"a8e3c6c9-901d-4379-bb80-638980f1604e\" class=\"plotly-graph-div\" style=\"height:525px; width:100%;\"></div>            <script type=\"text/javascript\">                                    window.PLOTLYENV=window.PLOTLYENV || {};                                    if (document.getElementById(\"a8e3c6c9-901d-4379-bb80-638980f1604e\")) {                    Plotly.newPlot(                        \"a8e3c6c9-901d-4379-bb80-638980f1604e\",                        [{\"alignmentgroup\":\"True\",\"customdata\":[[13.20754716981132],[15.948275862068966],[27.177700348432055],[45.95375722543353],[45.76271186440678],[50.78947368421053],[55.140186915887845],[53.73134328358209],[51.41388174807198],[59.710144927536234]],\"hovertemplate\":\"<b>%{hovertext}</b><br><br>\\uc601\\ud654\\uad6c\\ubd84=\\ub3c5\\ub9bd/\\uc608\\uc220\\uc601\\ud654<br>\\uac1c\\ubd09\\uc5f0\\ub3c4=%{x}<br>\\uc720\\ud615\\ubcc4\\uc601\\ud654\\uc218=%{text}<br>\\ube44\\uc911=%{customdata[0]}<extra></extra>\",\"hovertext\":[\"\\ub3c5\\ub9bd/\\uc608\\uc220\\uc601\\ud654\",\"\\ub3c5\\ub9bd/\\uc608\\uc220\\uc601\\ud654\",\"\\ub3c5\\ub9bd/\\uc608\\uc220\\uc601\\ud654\",\"\\ub3c5\\ub9bd/\\uc608\\uc220\\uc601\\ud654\",\"\\ub3c5\\ub9bd/\\uc608\\uc220\\uc601\\ud654\",\"\\ub3c5\\ub9bd/\\uc608\\uc220\\uc601\\ud654\",\"\\ub3c5\\ub9bd/\\uc608\\uc220\\uc601\\ud654\",\"\\ub3c5\\ub9bd/\\uc608\\uc220\\uc601\\ud654\",\"\\ub3c5\\ub9bd/\\uc608\\uc220\\uc601\\ud654\",\"\\ub3c5\\ub9bd/\\uc608\\uc220\\uc601\\ud654\"],\"legendgroup\":\"\\ub3c5\\ub9bd/\\uc608\\uc220\\uc601\\ud654\",\"marker\":{\"color\":\"#636efa\",\"pattern\":{\"shape\":\"\"}},\"name\":\"\\ub3c5\\ub9bd/\\uc608\\uc220\\uc601\\ud654\",\"offsetgroup\":\"\\ub3c5\\ub9bd/\\uc608\\uc220\\uc601\\ud654\",\"orientation\":\"v\",\"showlegend\":true,\"text\":[28.0,37.0,78.0,159.0,162.0,193.0,236.0,216.0,200.0,206.0],\"textposition\":\"inside\",\"texttemplate\":\"%{text}\\uac1c\",\"type\":\"bar\",\"x\":[2011,2012,2013,2014,2015,2016,2017,2018,2019,2020],\"xaxis\":\"x\",\"y\":[28,37,78,159,162,193,236,216,200,206],\"yaxis\":\"y\"},{\"alignmentgroup\":\"True\",\"customdata\":[[86.79245283018868],[84.05172413793103],[72.82229965156795],[54.04624277456648],[54.23728813559322],[49.21052631578947],[44.85981308411215],[46.26865671641791],[48.58611825192802],[40.28985507246377]],\"hovertemplate\":\"<b>%{hovertext}</b><br><br>\\uc601\\ud654\\uad6c\\ubd84=\\uc77c\\ubc18\\uc601\\ud654<br>\\uac1c\\ubd09\\uc5f0\\ub3c4=%{x}<br>\\uc720\\ud615\\ubcc4\\uc601\\ud654\\uc218=%{text}<br>\\ube44\\uc911=%{customdata[0]}<extra></extra>\",\"hovertext\":[\"\\uc77c\\ubc18\\uc601\\ud654\",\"\\uc77c\\ubc18\\uc601\\ud654\",\"\\uc77c\\ubc18\\uc601\\ud654\",\"\\uc77c\\ubc18\\uc601\\ud654\",\"\\uc77c\\ubc18\\uc601\\ud654\",\"\\uc77c\\ubc18\\uc601\\ud654\",\"\\uc77c\\ubc18\\uc601\\ud654\",\"\\uc77c\\ubc18\\uc601\\ud654\",\"\\uc77c\\ubc18\\uc601\\ud654\",\"\\uc77c\\ubc18\\uc601\\ud654\"],\"legendgroup\":\"\\uc77c\\ubc18\\uc601\\ud654\",\"marker\":{\"color\":\"#EF553B\",\"pattern\":{\"shape\":\"\"}},\"name\":\"\\uc77c\\ubc18\\uc601\\ud654\",\"offsetgroup\":\"\\uc77c\\ubc18\\uc601\\ud654\",\"orientation\":\"v\",\"showlegend\":true,\"text\":[184.0,195.0,209.0,187.0,192.0,187.0,192.0,186.0,189.0,139.0],\"textposition\":\"inside\",\"texttemplate\":\"%{text}\\uac1c\",\"type\":\"bar\",\"x\":[2011,2012,2013,2014,2015,2016,2017,2018,2019,2020],\"xaxis\":\"x\",\"y\":[184,195,209,187,192,187,192,186,189,139],\"yaxis\":\"y\"}],                        {\"barmode\":\"relative\",\"legend\":{\"title\":{\"text\":\"\\uc601\\ud654\\uad6c\\ubd84\"},\"tracegroupgap\":0},\"template\":{\"data\":{\"bar\":[{\"error_x\":{\"color\":\"#2a3f5f\"},\"error_y\":{\"color\":\"#2a3f5f\"},\"marker\":{\"line\":{\"color\":\"#E5ECF6\",\"width\":0.5},\"pattern\":{\"fillmode\":\"overlay\",\"size\":10,\"solidity\":0.2}},\"type\":\"bar\"}],\"barpolar\":[{\"marker\":{\"line\":{\"color\":\"#E5ECF6\",\"width\":0.5},\"pattern\":{\"fillmode\":\"overlay\",\"size\":10,\"solidity\":0.2}},\"type\":\"barpolar\"}],\"carpet\":[{\"aaxis\":{\"endlinecolor\":\"#2a3f5f\",\"gridcolor\":\"white\",\"linecolor\":\"white\",\"minorgridcolor\":\"white\",\"startlinecolor\":\"#2a3f5f\"},\"baxis\":{\"endlinecolor\":\"#2a3f5f\",\"gridcolor\":\"white\",\"linecolor\":\"white\",\"minorgridcolor\":\"white\",\"startlinecolor\":\"#2a3f5f\"},\"type\":\"carpet\"}],\"choropleth\":[{\"colorbar\":{\"outlinewidth\":0,\"ticks\":\"\"},\"type\":\"choropleth\"}],\"contour\":[{\"colorbar\":{\"outlinewidth\":0,\"ticks\":\"\"},\"colorscale\":[[0.0,\"#0d0887\"],[0.1111111111111111,\"#46039f\"],[0.2222222222222222,\"#7201a8\"],[0.3333333333333333,\"#9c179e\"],[0.4444444444444444,\"#bd3786\"],[0.5555555555555556,\"#d8576b\"],[0.6666666666666666,\"#ed7953\"],[0.7777777777777778,\"#fb9f3a\"],[0.8888888888888888,\"#fdca26\"],[1.0,\"#f0f921\"]],\"type\":\"contour\"}],\"contourcarpet\":[{\"colorbar\":{\"outlinewidth\":0,\"ticks\":\"\"},\"type\":\"contourcarpet\"}],\"heatmap\":[{\"colorbar\":{\"outlinewidth\":0,\"ticks\":\"\"},\"colorscale\":[[0.0,\"#0d0887\"],[0.1111111111111111,\"#46039f\"],[0.2222222222222222,\"#7201a8\"],[0.3333333333333333,\"#9c179e\"],[0.4444444444444444,\"#bd3786\"],[0.5555555555555556,\"#d8576b\"],[0.6666666666666666,\"#ed7953\"],[0.7777777777777778,\"#fb9f3a\"],[0.8888888888888888,\"#fdca26\"],[1.0,\"#f0f921\"]],\"type\":\"heatmap\"}],\"heatmapgl\":[{\"colorbar\":{\"outlinewidth\":0,\"ticks\":\"\"},\"colorscale\":[[0.0,\"#0d0887\"],[0.1111111111111111,\"#46039f\"],[0.2222222222222222,\"#7201a8\"],[0.3333333333333333,\"#9c179e\"],[0.4444444444444444,\"#bd3786\"],[0.5555555555555556,\"#d8576b\"],[0.6666666666666666,\"#ed7953\"],[0.7777777777777778,\"#fb9f3a\"],[0.8888888888888888,\"#fdca26\"],[1.0,\"#f0f921\"]],\"type\":\"heatmapgl\"}],\"histogram\":[{\"marker\":{\"pattern\":{\"fillmode\":\"overlay\",\"size\":10,\"solidity\":0.2}},\"type\":\"histogram\"}],\"histogram2d\":[{\"colorbar\":{\"outlinewidth\":0,\"ticks\":\"\"},\"colorscale\":[[0.0,\"#0d0887\"],[0.1111111111111111,\"#46039f\"],[0.2222222222222222,\"#7201a8\"],[0.3333333333333333,\"#9c179e\"],[0.4444444444444444,\"#bd3786\"],[0.5555555555555556,\"#d8576b\"],[0.6666666666666666,\"#ed7953\"],[0.7777777777777778,\"#fb9f3a\"],[0.8888888888888888,\"#fdca26\"],[1.0,\"#f0f921\"]],\"type\":\"histogram2d\"}],\"histogram2dcontour\":[{\"colorbar\":{\"outlinewidth\":0,\"ticks\":\"\"},\"colorscale\":[[0.0,\"#0d0887\"],[0.1111111111111111,\"#46039f\"],[0.2222222222222222,\"#7201a8\"],[0.3333333333333333,\"#9c179e\"],[0.4444444444444444,\"#bd3786\"],[0.5555555555555556,\"#d8576b\"],[0.6666666666666666,\"#ed7953\"],[0.7777777777777778,\"#fb9f3a\"],[0.8888888888888888,\"#fdca26\"],[1.0,\"#f0f921\"]],\"type\":\"histogram2dcontour\"}],\"mesh3d\":[{\"colorbar\":{\"outlinewidth\":0,\"ticks\":\"\"},\"type\":\"mesh3d\"}],\"parcoords\":[{\"line\":{\"colorbar\":{\"outlinewidth\":0,\"ticks\":\"\"}},\"type\":\"parcoords\"}],\"pie\":[{\"automargin\":true,\"type\":\"pie\"}],\"scatter\":[{\"marker\":{\"colorbar\":{\"outlinewidth\":0,\"ticks\":\"\"}},\"type\":\"scatter\"}],\"scatter3d\":[{\"line\":{\"colorbar\":{\"outlinewidth\":0,\"ticks\":\"\"}},\"marker\":{\"colorbar\":{\"outlinewidth\":0,\"ticks\":\"\"}},\"type\":\"scatter3d\"}],\"scattercarpet\":[{\"marker\":{\"colorbar\":{\"outlinewidth\":0,\"ticks\":\"\"}},\"type\":\"scattercarpet\"}],\"scattergeo\":[{\"marker\":{\"colorbar\":{\"outlinewidth\":0,\"ticks\":\"\"}},\"type\":\"scattergeo\"}],\"scattergl\":[{\"marker\":{\"colorbar\":{\"outlinewidth\":0,\"ticks\":\"\"}},\"type\":\"scattergl\"}],\"scattermapbox\":[{\"marker\":{\"colorbar\":{\"outlinewidth\":0,\"ticks\":\"\"}},\"type\":\"scattermapbox\"}],\"scatterpolar\":[{\"marker\":{\"colorbar\":{\"outlinewidth\":0,\"ticks\":\"\"}},\"type\":\"scatterpolar\"}],\"scatterpolargl\":[{\"marker\":{\"colorbar\":{\"outlinewidth\":0,\"ticks\":\"\"}},\"type\":\"scatterpolargl\"}],\"scatterternary\":[{\"marker\":{\"colorbar\":{\"outlinewidth\":0,\"ticks\":\"\"}},\"type\":\"scatterternary\"}],\"surface\":[{\"colorbar\":{\"outlinewidth\":0,\"ticks\":\"\"},\"colorscale\":[[0.0,\"#0d0887\"],[0.1111111111111111,\"#46039f\"],[0.2222222222222222,\"#7201a8\"],[0.3333333333333333,\"#9c179e\"],[0.4444444444444444,\"#bd3786\"],[0.5555555555555556,\"#d8576b\"],[0.6666666666666666,\"#ed7953\"],[0.7777777777777778,\"#fb9f3a\"],[0.8888888888888888,\"#fdca26\"],[1.0,\"#f0f921\"]],\"type\":\"surface\"}],\"table\":[{\"cells\":{\"fill\":{\"color\":\"#EBF0F8\"},\"line\":{\"color\":\"white\"}},\"header\":{\"fill\":{\"color\":\"#C8D4E3\"},\"line\":{\"color\":\"white\"}},\"type\":\"table\"}]},\"layout\":{\"annotationdefaults\":{\"arrowcolor\":\"#2a3f5f\",\"arrowhead\":0,\"arrowwidth\":1},\"autotypenumbers\":\"strict\",\"coloraxis\":{\"colorbar\":{\"outlinewidth\":0,\"ticks\":\"\"}},\"colorscale\":{\"diverging\":[[0,\"#8e0152\"],[0.1,\"#c51b7d\"],[0.2,\"#de77ae\"],[0.3,\"#f1b6da\"],[0.4,\"#fde0ef\"],[0.5,\"#f7f7f7\"],[0.6,\"#e6f5d0\"],[0.7,\"#b8e186\"],[0.8,\"#7fbc41\"],[0.9,\"#4d9221\"],[1,\"#276419\"]],\"sequential\":[[0.0,\"#0d0887\"],[0.1111111111111111,\"#46039f\"],[0.2222222222222222,\"#7201a8\"],[0.3333333333333333,\"#9c179e\"],[0.4444444444444444,\"#bd3786\"],[0.5555555555555556,\"#d8576b\"],[0.6666666666666666,\"#ed7953\"],[0.7777777777777778,\"#fb9f3a\"],[0.8888888888888888,\"#fdca26\"],[1.0,\"#f0f921\"]],\"sequentialminus\":[[0.0,\"#0d0887\"],[0.1111111111111111,\"#46039f\"],[0.2222222222222222,\"#7201a8\"],[0.3333333333333333,\"#9c179e\"],[0.4444444444444444,\"#bd3786\"],[0.5555555555555556,\"#d8576b\"],[0.6666666666666666,\"#ed7953\"],[0.7777777777777778,\"#fb9f3a\"],[0.8888888888888888,\"#fdca26\"],[1.0,\"#f0f921\"]]},\"colorway\":[\"#636efa\",\"#EF553B\",\"#00cc96\",\"#ab63fa\",\"#FFA15A\",\"#19d3f3\",\"#FF6692\",\"#B6E880\",\"#FF97FF\",\"#FECB52\"],\"font\":{\"color\":\"#2a3f5f\"},\"geo\":{\"bgcolor\":\"white\",\"lakecolor\":\"white\",\"landcolor\":\"#E5ECF6\",\"showlakes\":true,\"showland\":true,\"subunitcolor\":\"white\"},\"hoverlabel\":{\"align\":\"left\"},\"hovermode\":\"closest\",\"mapbox\":{\"style\":\"light\"},\"paper_bgcolor\":\"white\",\"plot_bgcolor\":\"#E5ECF6\",\"polar\":{\"angularaxis\":{\"gridcolor\":\"white\",\"linecolor\":\"white\",\"ticks\":\"\"},\"bgcolor\":\"#E5ECF6\",\"radialaxis\":{\"gridcolor\":\"white\",\"linecolor\":\"white\",\"ticks\":\"\"}},\"scene\":{\"xaxis\":{\"backgroundcolor\":\"#E5ECF6\",\"gridcolor\":\"white\",\"gridwidth\":2,\"linecolor\":\"white\",\"showbackground\":true,\"ticks\":\"\",\"zerolinecolor\":\"white\"},\"yaxis\":{\"backgroundcolor\":\"#E5ECF6\",\"gridcolor\":\"white\",\"gridwidth\":2,\"linecolor\":\"white\",\"showbackground\":true,\"ticks\":\"\",\"zerolinecolor\":\"white\"},\"zaxis\":{\"backgroundcolor\":\"#E5ECF6\",\"gridcolor\":\"white\",\"gridwidth\":2,\"linecolor\":\"white\",\"showbackground\":true,\"ticks\":\"\",\"zerolinecolor\":\"white\"}},\"shapedefaults\":{\"line\":{\"color\":\"#2a3f5f\"}},\"ternary\":{\"aaxis\":{\"gridcolor\":\"white\",\"linecolor\":\"white\",\"ticks\":\"\"},\"baxis\":{\"gridcolor\":\"white\",\"linecolor\":\"white\",\"ticks\":\"\"},\"bgcolor\":\"#E5ECF6\",\"caxis\":{\"gridcolor\":\"white\",\"linecolor\":\"white\",\"ticks\":\"\"}},\"title\":{\"x\":0.05},\"xaxis\":{\"automargin\":true,\"gridcolor\":\"white\",\"linecolor\":\"white\",\"ticks\":\"\",\"title\":{\"standoff\":15},\"zerolinecolor\":\"white\",\"zerolinewidth\":2},\"yaxis\":{\"automargin\":true,\"gridcolor\":\"white\",\"linecolor\":\"white\",\"ticks\":\"\",\"title\":{\"standoff\":15},\"zerolinecolor\":\"white\",\"zerolinewidth\":2}}},\"title\":{\"text\":\"\\uc5f0\\ub3c4 \\ubcc4 \\uc601\\ud654 \\uad6c\\ubd84\\uc5d0 \\ub530\\ub978 \\uc601\\ud654 \\uc218 \\ucd94\\uc774\"},\"xaxis\":{\"anchor\":\"y\",\"domain\":[0.0,1.0],\"title\":{\"text\":\"\\uac1c\\ubd09\\uc5f0\\ub3c4\"},\"type\":\"log\"},\"yaxis\":{\"anchor\":\"x\",\"domain\":[0.0,1.0],\"title\":{\"text\":\"\\uc720\\ud615\\ubcc4\\uc601\\ud654\\uc218\"}}},                        {\"responsive\": true}                    ).then(function(){\n",
              "                            \n",
              "var gd = document.getElementById('a8e3c6c9-901d-4379-bb80-638980f1604e');\n",
              "var x = new MutationObserver(function (mutations, observer) {{\n",
              "        var display = window.getComputedStyle(gd).display;\n",
              "        if (!display || display === 'none') {{\n",
              "            console.log([gd, 'removed!']);\n",
              "            Plotly.purge(gd);\n",
              "            observer.disconnect();\n",
              "        }}\n",
              "}});\n",
              "\n",
              "// Listen for the removal of the full notebook cells\n",
              "var notebookContainer = gd.closest('#notebook-container');\n",
              "if (notebookContainer) {{\n",
              "    x.observe(notebookContainer, {childList: true});\n",
              "}}\n",
              "\n",
              "// Listen for the clearing of the current output cell\n",
              "var outputEl = gd.closest('.output');\n",
              "if (outputEl) {{\n",
              "    x.observe(outputEl, {childList: true});\n",
              "}}\n",
              "\n",
              "                        })                };                            </script>        </div>\n",
              "</body>\n",
              "</html>"
            ]
          },
          "metadata": {}
        }
      ]
    },
    {
      "cell_type": "code",
      "metadata": {
        "id": "uZPbhteAztKM"
      },
      "source": [
        "pd.read_csv(\"/content/mini-project-team1/1. Crawling/data/2011_2020_topdistributor.csv\")"
      ],
      "execution_count": null,
      "outputs": []
    },
    {
      "cell_type": "markdown",
      "metadata": {
        "id": "zgXqB0D_NjGu"
      },
      "source": [
        "## 2. 데이터 분석 "
      ]
    },
    {
      "cell_type": "markdown",
      "metadata": {
        "id": "kPGb6fuPB5yq"
      },
      "source": [
        "### 1) 2011 ~ 2020년 대형 배급사가 배급한 영화 편수 및 매출액 비교해보기\n",
        "- 2011년 ~ 2020년 간 제작된 독립예술영화 편수에서 대형 배급사는 전체의 6.09%를 차지하지만, 매출액에서 차지하는 비중은 17.7%로, 대형 배급사의 영화 1편 당 수익성이 더 나은 것으로 확인할 수 있었다. \n",
        "- 2011년 ~ 2015년까지 대형 배급사의 독립예술영화 편수는 증감이 반복되는 추세이며, 2016년 이후 꾸준한 감소세를 보임. 2020년에는 2편만 배급했음 \n",
        "- 2019년에 CGV 아트하우스가 독립예술영화 배급을 중단하면서 대형 배급사에서 독립예술영화 배급수가 급감한 것으로 판단됨 "
      ]
    },
    {
      "cell_type": "code",
      "metadata": {
        "colab": {
          "base_uri": "https://localhost:8080/",
          "height": 202
        },
        "id": "t_BwUzss7DII",
        "outputId": "8e5d232f-bb4b-4074-d3a3-c2cb6e2bd2f5"
      },
      "source": [
        "# 독립예술영화 중 대형 배급사가 배급한 영화를 '배급사구분'에 표시했다. \n",
        "# big5 : 씨제이', '롯데', 'NEW', '쇼박스', '워너브라더스, '아트하우스'\n",
        "new_movies_art['배급사구분'] = np.where(new_movies_art['배급사'].str.contains('씨제이|롯데|NEW|쇼박스|워너|아트하우스'), '대형배급사', '기타배급사')\n",
        "new_movies_art[new_movies_art['배급사구분']=='대형배급사']\n",
        "new_movies_art.head(5)"
      ],
      "execution_count": null,
      "outputs": [
        {
          "output_type": "execute_result",
          "data": {
            "text/html": [
              "<div>\n",
              "<style scoped>\n",
              "    .dataframe tbody tr th:only-of-type {\n",
              "        vertical-align: middle;\n",
              "    }\n",
              "\n",
              "    .dataframe tbody tr th {\n",
              "        vertical-align: top;\n",
              "    }\n",
              "\n",
              "    .dataframe thead th {\n",
              "        text-align: right;\n",
              "    }\n",
              "</style>\n",
              "<table border=\"1\" class=\"dataframe\">\n",
              "  <thead>\n",
              "    <tr style=\"text-align: right;\">\n",
              "      <th></th>\n",
              "      <th>순번</th>\n",
              "      <th>개봉연도</th>\n",
              "      <th>영화명</th>\n",
              "      <th>감독</th>\n",
              "      <th>배급사</th>\n",
              "      <th>개봉일</th>\n",
              "      <th>국적</th>\n",
              "      <th>전국스크린수</th>\n",
              "      <th>전국매출액</th>\n",
              "      <th>전국관객수</th>\n",
              "      <th>장르</th>\n",
              "      <th>등급</th>\n",
              "      <th>영화구분</th>\n",
              "      <th>배급사구분</th>\n",
              "    </tr>\n",
              "  </thead>\n",
              "  <tbody>\n",
              "    <tr>\n",
              "      <th>29</th>\n",
              "      <td>30</td>\n",
              "      <td>2011</td>\n",
              "      <td>그대를 사랑합니다</td>\n",
              "      <td>추창민</td>\n",
              "      <td>(주)넥스트엔터테인먼트월드(NEW)</td>\n",
              "      <td>2011-02-17</td>\n",
              "      <td>한국</td>\n",
              "      <td>242</td>\n",
              "      <td>12005917000</td>\n",
              "      <td>1640351</td>\n",
              "      <td>드라마</td>\n",
              "      <td>15세이상관람가</td>\n",
              "      <td>독립/예술영화</td>\n",
              "      <td>대형배급사</td>\n",
              "    </tr>\n",
              "    <tr>\n",
              "      <th>71</th>\n",
              "      <td>72</td>\n",
              "      <td>2011</td>\n",
              "      <td>세 얼간이</td>\n",
              "      <td>라즈쿠마르 히라니</td>\n",
              "      <td>필라멘트픽쳐스</td>\n",
              "      <td>2011-08-18</td>\n",
              "      <td>인도</td>\n",
              "      <td>232</td>\n",
              "      <td>3352570500</td>\n",
              "      <td>458988</td>\n",
              "      <td>코미디</td>\n",
              "      <td>12세이상관람가</td>\n",
              "      <td>독립/예술영화</td>\n",
              "      <td>기타배급사</td>\n",
              "    </tr>\n",
              "    <tr>\n",
              "      <th>79</th>\n",
              "      <td>80</td>\n",
              "      <td>2011</td>\n",
              "      <td>내 이름은 칸</td>\n",
              "      <td>카란 조하르</td>\n",
              "      <td>필라멘트픽쳐스</td>\n",
              "      <td>2011-03-24</td>\n",
              "      <td>인도</td>\n",
              "      <td>84</td>\n",
              "      <td>2820922500</td>\n",
              "      <td>381243</td>\n",
              "      <td>드라마</td>\n",
              "      <td>12세이상관람가</td>\n",
              "      <td>독립/예술영화</td>\n",
              "      <td>기타배급사</td>\n",
              "    </tr>\n",
              "    <tr>\n",
              "      <th>116</th>\n",
              "      <td>117</td>\n",
              "      <td>2011</td>\n",
              "      <td>50/50</td>\n",
              "      <td>조나단 레빈</td>\n",
              "      <td>롯데쇼핑㈜롯데엔터테인먼트</td>\n",
              "      <td>2011-11-24</td>\n",
              "      <td>미국</td>\n",
              "      <td>159</td>\n",
              "      <td>1019768500</td>\n",
              "      <td>135985</td>\n",
              "      <td>코미디</td>\n",
              "      <td>15세이상관람가</td>\n",
              "      <td>독립/예술영화</td>\n",
              "      <td>대형배급사</td>\n",
              "    </tr>\n",
              "    <tr>\n",
              "      <th>118</th>\n",
              "      <td>119</td>\n",
              "      <td>2011</td>\n",
              "      <td>제인 에어</td>\n",
              "      <td>캐리 후쿠나가</td>\n",
              "      <td>(주)시너지하우스 (시너지)</td>\n",
              "      <td>2011-04-20</td>\n",
              "      <td>영국</td>\n",
              "      <td>208</td>\n",
              "      <td>981132000</td>\n",
              "      <td>135797</td>\n",
              "      <td>드라마</td>\n",
              "      <td>12세이상관람가</td>\n",
              "      <td>독립/예술영화</td>\n",
              "      <td>기타배급사</td>\n",
              "    </tr>\n",
              "  </tbody>\n",
              "</table>\n",
              "</div>"
            ],
            "text/plain": [
              "      순번  개봉연도        영화명         감독  ...   장르        등급     영화구분  배급사구분\n",
              "29    30  2011  그대를 사랑합니다        추창민  ...  드라마  15세이상관람가  독립/예술영화  대형배급사\n",
              "71    72  2011      세 얼간이  라즈쿠마르 히라니  ...  코미디  12세이상관람가  독립/예술영화  기타배급사\n",
              "79    80  2011    내 이름은 칸     카란 조하르  ...  드라마  12세이상관람가  독립/예술영화  기타배급사\n",
              "116  117  2011      50/50     조나단 레빈  ...  코미디  15세이상관람가  독립/예술영화  대형배급사\n",
              "118  119  2011      제인 에어    캐리 후쿠나가  ...  드라마  12세이상관람가  독립/예술영화  기타배급사\n",
              "\n",
              "[5 rows x 14 columns]"
            ]
          },
          "metadata": {},
          "execution_count": 229
        }
      ]
    },
    {
      "cell_type": "code",
      "metadata": {
        "colab": {
          "base_uri": "https://localhost:8080/",
          "height": 542
        },
        "id": "mmKw0A8zDNs9",
        "outputId": "1fbd870f-ce98-4911-c9b6-4750667521d8"
      },
      "source": [
        "#2011년 ~ 2020년 간 제작된 독립예술영화의 배급 비중 (대형 배급사는 전체의 6.09% 차지)\n",
        "new_movies_art_counts_tot = new_movies_art.groupby('배급사구분').size().reset_index(name='배급영화수')\n",
        "# new_movies_art_counts['총영화수'] = new_movies_art_counts.groupby('개봉연도')['배급영화수'].transform('sum')\n",
        "# new_movies_art_counts['비중'] = new_movies_art_counts['배급영화수']/new_movies_art_counts['총영화수']*100\n",
        "new_movies_art_counts_tot\n",
        "\n",
        "fig = px.pie(new_movies_art_counts_tot, values='배급영화수', names='배급사구분',\n",
        "             color_discrete_sequence=px.colors.sequential.Redor,\n",
        "             hole=.3,\n",
        "             title='2011년~2020년간 제작된 독립예술영화의 배급 비중')\n",
        "fig.update_traces(textposition='inside', textinfo='percent+label')\n",
        "fig.show()"
      ],
      "execution_count": null,
      "outputs": [
        {
          "output_type": "display_data",
          "data": {
            "text/html": [
              "<html>\n",
              "<head><meta charset=\"utf-8\" /></head>\n",
              "<body>\n",
              "    <div>            <script src=\"https://cdnjs.cloudflare.com/ajax/libs/mathjax/2.7.5/MathJax.js?config=TeX-AMS-MML_SVG\"></script><script type=\"text/javascript\">if (window.MathJax) {MathJax.Hub.Config({SVG: {font: \"STIX-Web\"}});}</script>                <script type=\"text/javascript\">window.PlotlyConfig = {MathJaxConfig: 'local'};</script>\n",
              "        <script src=\"https://cdn.plot.ly/plotly-2.3.1.min.js\"></script>                <div id=\"bc8ec15e-b63c-4ccf-9759-14073e81f00a\" class=\"plotly-graph-div\" style=\"height:525px; width:100%;\"></div>            <script type=\"text/javascript\">                                    window.PLOTLYENV=window.PLOTLYENV || {};                                    if (document.getElementById(\"bc8ec15e-b63c-4ccf-9759-14073e81f00a\")) {                    Plotly.newPlot(                        \"bc8ec15e-b63c-4ccf-9759-14073e81f00a\",                        [{\"domain\":{\"x\":[0.0,1.0],\"y\":[0.0,1.0]},\"hole\":0.3,\"hovertemplate\":\"\\ubc30\\uae09\\uc0ac\\uad6c\\ubd84=%{label}<br>\\ubc30\\uae09\\uc601\\ud654\\uc218=%{value}<extra></extra>\",\"labels\":[\"\\uae30\\ud0c0\\ubc30\\uae09\\uc0ac\",\"\\ub300\\ud615\\ubc30\\uae09\\uc0ac\"],\"legendgroup\":\"\",\"name\":\"\",\"showlegend\":true,\"textinfo\":\"percent+label\",\"textposition\":\"inside\",\"type\":\"pie\",\"values\":[1619,105]}],                        {\"legend\":{\"tracegroupgap\":0},\"piecolorway\":[\"rgb(246, 210, 169)\",\"rgb(245, 183, 142)\",\"rgb(241, 156, 124)\",\"rgb(234, 129, 113)\",\"rgb(221, 104, 108)\",\"rgb(202, 82, 104)\",\"rgb(177, 63, 100)\"],\"template\":{\"data\":{\"bar\":[{\"error_x\":{\"color\":\"#2a3f5f\"},\"error_y\":{\"color\":\"#2a3f5f\"},\"marker\":{\"line\":{\"color\":\"#E5ECF6\",\"width\":0.5},\"pattern\":{\"fillmode\":\"overlay\",\"size\":10,\"solidity\":0.2}},\"type\":\"bar\"}],\"barpolar\":[{\"marker\":{\"line\":{\"color\":\"#E5ECF6\",\"width\":0.5},\"pattern\":{\"fillmode\":\"overlay\",\"size\":10,\"solidity\":0.2}},\"type\":\"barpolar\"}],\"carpet\":[{\"aaxis\":{\"endlinecolor\":\"#2a3f5f\",\"gridcolor\":\"white\",\"linecolor\":\"white\",\"minorgridcolor\":\"white\",\"startlinecolor\":\"#2a3f5f\"},\"baxis\":{\"endlinecolor\":\"#2a3f5f\",\"gridcolor\":\"white\",\"linecolor\":\"white\",\"minorgridcolor\":\"white\",\"startlinecolor\":\"#2a3f5f\"},\"type\":\"carpet\"}],\"choropleth\":[{\"colorbar\":{\"outlinewidth\":0,\"ticks\":\"\"},\"type\":\"choropleth\"}],\"contour\":[{\"colorbar\":{\"outlinewidth\":0,\"ticks\":\"\"},\"colorscale\":[[0.0,\"#0d0887\"],[0.1111111111111111,\"#46039f\"],[0.2222222222222222,\"#7201a8\"],[0.3333333333333333,\"#9c179e\"],[0.4444444444444444,\"#bd3786\"],[0.5555555555555556,\"#d8576b\"],[0.6666666666666666,\"#ed7953\"],[0.7777777777777778,\"#fb9f3a\"],[0.8888888888888888,\"#fdca26\"],[1.0,\"#f0f921\"]],\"type\":\"contour\"}],\"contourcarpet\":[{\"colorbar\":{\"outlinewidth\":0,\"ticks\":\"\"},\"type\":\"contourcarpet\"}],\"heatmap\":[{\"colorbar\":{\"outlinewidth\":0,\"ticks\":\"\"},\"colorscale\":[[0.0,\"#0d0887\"],[0.1111111111111111,\"#46039f\"],[0.2222222222222222,\"#7201a8\"],[0.3333333333333333,\"#9c179e\"],[0.4444444444444444,\"#bd3786\"],[0.5555555555555556,\"#d8576b\"],[0.6666666666666666,\"#ed7953\"],[0.7777777777777778,\"#fb9f3a\"],[0.8888888888888888,\"#fdca26\"],[1.0,\"#f0f921\"]],\"type\":\"heatmap\"}],\"heatmapgl\":[{\"colorbar\":{\"outlinewidth\":0,\"ticks\":\"\"},\"colorscale\":[[0.0,\"#0d0887\"],[0.1111111111111111,\"#46039f\"],[0.2222222222222222,\"#7201a8\"],[0.3333333333333333,\"#9c179e\"],[0.4444444444444444,\"#bd3786\"],[0.5555555555555556,\"#d8576b\"],[0.6666666666666666,\"#ed7953\"],[0.7777777777777778,\"#fb9f3a\"],[0.8888888888888888,\"#fdca26\"],[1.0,\"#f0f921\"]],\"type\":\"heatmapgl\"}],\"histogram\":[{\"marker\":{\"pattern\":{\"fillmode\":\"overlay\",\"size\":10,\"solidity\":0.2}},\"type\":\"histogram\"}],\"histogram2d\":[{\"colorbar\":{\"outlinewidth\":0,\"ticks\":\"\"},\"colorscale\":[[0.0,\"#0d0887\"],[0.1111111111111111,\"#46039f\"],[0.2222222222222222,\"#7201a8\"],[0.3333333333333333,\"#9c179e\"],[0.4444444444444444,\"#bd3786\"],[0.5555555555555556,\"#d8576b\"],[0.6666666666666666,\"#ed7953\"],[0.7777777777777778,\"#fb9f3a\"],[0.8888888888888888,\"#fdca26\"],[1.0,\"#f0f921\"]],\"type\":\"histogram2d\"}],\"histogram2dcontour\":[{\"colorbar\":{\"outlinewidth\":0,\"ticks\":\"\"},\"colorscale\":[[0.0,\"#0d0887\"],[0.1111111111111111,\"#46039f\"],[0.2222222222222222,\"#7201a8\"],[0.3333333333333333,\"#9c179e\"],[0.4444444444444444,\"#bd3786\"],[0.5555555555555556,\"#d8576b\"],[0.6666666666666666,\"#ed7953\"],[0.7777777777777778,\"#fb9f3a\"],[0.8888888888888888,\"#fdca26\"],[1.0,\"#f0f921\"]],\"type\":\"histogram2dcontour\"}],\"mesh3d\":[{\"colorbar\":{\"outlinewidth\":0,\"ticks\":\"\"},\"type\":\"mesh3d\"}],\"parcoords\":[{\"line\":{\"colorbar\":{\"outlinewidth\":0,\"ticks\":\"\"}},\"type\":\"parcoords\"}],\"pie\":[{\"automargin\":true,\"type\":\"pie\"}],\"scatter\":[{\"marker\":{\"colorbar\":{\"outlinewidth\":0,\"ticks\":\"\"}},\"type\":\"scatter\"}],\"scatter3d\":[{\"line\":{\"colorbar\":{\"outlinewidth\":0,\"ticks\":\"\"}},\"marker\":{\"colorbar\":{\"outlinewidth\":0,\"ticks\":\"\"}},\"type\":\"scatter3d\"}],\"scattercarpet\":[{\"marker\":{\"colorbar\":{\"outlinewidth\":0,\"ticks\":\"\"}},\"type\":\"scattercarpet\"}],\"scattergeo\":[{\"marker\":{\"colorbar\":{\"outlinewidth\":0,\"ticks\":\"\"}},\"type\":\"scattergeo\"}],\"scattergl\":[{\"marker\":{\"colorbar\":{\"outlinewidth\":0,\"ticks\":\"\"}},\"type\":\"scattergl\"}],\"scattermapbox\":[{\"marker\":{\"colorbar\":{\"outlinewidth\":0,\"ticks\":\"\"}},\"type\":\"scattermapbox\"}],\"scatterpolar\":[{\"marker\":{\"colorbar\":{\"outlinewidth\":0,\"ticks\":\"\"}},\"type\":\"scatterpolar\"}],\"scatterpolargl\":[{\"marker\":{\"colorbar\":{\"outlinewidth\":0,\"ticks\":\"\"}},\"type\":\"scatterpolargl\"}],\"scatterternary\":[{\"marker\":{\"colorbar\":{\"outlinewidth\":0,\"ticks\":\"\"}},\"type\":\"scatterternary\"}],\"surface\":[{\"colorbar\":{\"outlinewidth\":0,\"ticks\":\"\"},\"colorscale\":[[0.0,\"#0d0887\"],[0.1111111111111111,\"#46039f\"],[0.2222222222222222,\"#7201a8\"],[0.3333333333333333,\"#9c179e\"],[0.4444444444444444,\"#bd3786\"],[0.5555555555555556,\"#d8576b\"],[0.6666666666666666,\"#ed7953\"],[0.7777777777777778,\"#fb9f3a\"],[0.8888888888888888,\"#fdca26\"],[1.0,\"#f0f921\"]],\"type\":\"surface\"}],\"table\":[{\"cells\":{\"fill\":{\"color\":\"#EBF0F8\"},\"line\":{\"color\":\"white\"}},\"header\":{\"fill\":{\"color\":\"#C8D4E3\"},\"line\":{\"color\":\"white\"}},\"type\":\"table\"}]},\"layout\":{\"annotationdefaults\":{\"arrowcolor\":\"#2a3f5f\",\"arrowhead\":0,\"arrowwidth\":1},\"autotypenumbers\":\"strict\",\"coloraxis\":{\"colorbar\":{\"outlinewidth\":0,\"ticks\":\"\"}},\"colorscale\":{\"diverging\":[[0,\"#8e0152\"],[0.1,\"#c51b7d\"],[0.2,\"#de77ae\"],[0.3,\"#f1b6da\"],[0.4,\"#fde0ef\"],[0.5,\"#f7f7f7\"],[0.6,\"#e6f5d0\"],[0.7,\"#b8e186\"],[0.8,\"#7fbc41\"],[0.9,\"#4d9221\"],[1,\"#276419\"]],\"sequential\":[[0.0,\"#0d0887\"],[0.1111111111111111,\"#46039f\"],[0.2222222222222222,\"#7201a8\"],[0.3333333333333333,\"#9c179e\"],[0.4444444444444444,\"#bd3786\"],[0.5555555555555556,\"#d8576b\"],[0.6666666666666666,\"#ed7953\"],[0.7777777777777778,\"#fb9f3a\"],[0.8888888888888888,\"#fdca26\"],[1.0,\"#f0f921\"]],\"sequentialminus\":[[0.0,\"#0d0887\"],[0.1111111111111111,\"#46039f\"],[0.2222222222222222,\"#7201a8\"],[0.3333333333333333,\"#9c179e\"],[0.4444444444444444,\"#bd3786\"],[0.5555555555555556,\"#d8576b\"],[0.6666666666666666,\"#ed7953\"],[0.7777777777777778,\"#fb9f3a\"],[0.8888888888888888,\"#fdca26\"],[1.0,\"#f0f921\"]]},\"colorway\":[\"#636efa\",\"#EF553B\",\"#00cc96\",\"#ab63fa\",\"#FFA15A\",\"#19d3f3\",\"#FF6692\",\"#B6E880\",\"#FF97FF\",\"#FECB52\"],\"font\":{\"color\":\"#2a3f5f\"},\"geo\":{\"bgcolor\":\"white\",\"lakecolor\":\"white\",\"landcolor\":\"#E5ECF6\",\"showlakes\":true,\"showland\":true,\"subunitcolor\":\"white\"},\"hoverlabel\":{\"align\":\"left\"},\"hovermode\":\"closest\",\"mapbox\":{\"style\":\"light\"},\"paper_bgcolor\":\"white\",\"plot_bgcolor\":\"#E5ECF6\",\"polar\":{\"angularaxis\":{\"gridcolor\":\"white\",\"linecolor\":\"white\",\"ticks\":\"\"},\"bgcolor\":\"#E5ECF6\",\"radialaxis\":{\"gridcolor\":\"white\",\"linecolor\":\"white\",\"ticks\":\"\"}},\"scene\":{\"xaxis\":{\"backgroundcolor\":\"#E5ECF6\",\"gridcolor\":\"white\",\"gridwidth\":2,\"linecolor\":\"white\",\"showbackground\":true,\"ticks\":\"\",\"zerolinecolor\":\"white\"},\"yaxis\":{\"backgroundcolor\":\"#E5ECF6\",\"gridcolor\":\"white\",\"gridwidth\":2,\"linecolor\":\"white\",\"showbackground\":true,\"ticks\":\"\",\"zerolinecolor\":\"white\"},\"zaxis\":{\"backgroundcolor\":\"#E5ECF6\",\"gridcolor\":\"white\",\"gridwidth\":2,\"linecolor\":\"white\",\"showbackground\":true,\"ticks\":\"\",\"zerolinecolor\":\"white\"}},\"shapedefaults\":{\"line\":{\"color\":\"#2a3f5f\"}},\"ternary\":{\"aaxis\":{\"gridcolor\":\"white\",\"linecolor\":\"white\",\"ticks\":\"\"},\"baxis\":{\"gridcolor\":\"white\",\"linecolor\":\"white\",\"ticks\":\"\"},\"bgcolor\":\"#E5ECF6\",\"caxis\":{\"gridcolor\":\"white\",\"linecolor\":\"white\",\"ticks\":\"\"}},\"title\":{\"x\":0.05},\"xaxis\":{\"automargin\":true,\"gridcolor\":\"white\",\"linecolor\":\"white\",\"ticks\":\"\",\"title\":{\"standoff\":15},\"zerolinecolor\":\"white\",\"zerolinewidth\":2},\"yaxis\":{\"automargin\":true,\"gridcolor\":\"white\",\"linecolor\":\"white\",\"ticks\":\"\",\"title\":{\"standoff\":15},\"zerolinecolor\":\"white\",\"zerolinewidth\":2}}},\"title\":{\"text\":\"2011\\ub144~2020\\ub144\\uac04 \\uc81c\\uc791\\ub41c \\ub3c5\\ub9bd\\uc608\\uc220\\uc601\\ud654\\uc758 \\ubc30\\uae09 \\ube44\\uc911\"}},                        {\"responsive\": true}                    ).then(function(){\n",
              "                            \n",
              "var gd = document.getElementById('bc8ec15e-b63c-4ccf-9759-14073e81f00a');\n",
              "var x = new MutationObserver(function (mutations, observer) {{\n",
              "        var display = window.getComputedStyle(gd).display;\n",
              "        if (!display || display === 'none') {{\n",
              "            console.log([gd, 'removed!']);\n",
              "            Plotly.purge(gd);\n",
              "            observer.disconnect();\n",
              "        }}\n",
              "}});\n",
              "\n",
              "// Listen for the removal of the full notebook cells\n",
              "var notebookContainer = gd.closest('#notebook-container');\n",
              "if (notebookContainer) {{\n",
              "    x.observe(notebookContainer, {childList: true});\n",
              "}}\n",
              "\n",
              "// Listen for the clearing of the current output cell\n",
              "var outputEl = gd.closest('.output');\n",
              "if (outputEl) {{\n",
              "    x.observe(outputEl, {childList: true});\n",
              "}}\n",
              "\n",
              "                        })                };                            </script>        </div>\n",
              "</body>\n",
              "</html>"
            ]
          },
          "metadata": {}
        }
      ]
    },
    {
      "cell_type": "code",
      "metadata": {
        "id": "vImQ-v7NEZUk"
      },
      "source": [
        "new_movies_art_sum = new_movies_art.groupby(['개봉연도','배급사구분'])['전국매출액'].sum().reset_index(name='매출액총계')"
      ],
      "execution_count": null,
      "outputs": []
    },
    {
      "cell_type": "code",
      "metadata": {
        "colab": {
          "base_uri": "https://localhost:8080/",
          "height": 542
        },
        "id": "iWrFgh46Fm7Z",
        "outputId": "66ddafa5-0d83-4c2f-f47a-10889d0ef986"
      },
      "source": [
        "# 대형 배급사는 배급한 영화 수에 비해서 영화 별 매출액이 기타 배급사보다 높은 것을 확인할 수 있다. \n",
        "new_movies_art_sum_tot = new_movies_art.groupby('배급사구분')['전국매출액'].sum().reset_index(name='매출액')\n",
        "fig = px.pie(new_movies_art_sum_tot, values='매출액', names='배급사구분',\n",
        "             color_discrete_sequence=px.colors.sequential.Redor,\n",
        "             hole=.3,\n",
        "             title='2011년~2020년간 제작된 독립예술영화의 배급사 구분 별 매출액 비중')\n",
        "fig.update_traces(textposition='inside', textinfo='percent+label')\n",
        "fig.show()"
      ],
      "execution_count": null,
      "outputs": [
        {
          "output_type": "display_data",
          "data": {
            "text/html": [
              "<html>\n",
              "<head><meta charset=\"utf-8\" /></head>\n",
              "<body>\n",
              "    <div>            <script src=\"https://cdnjs.cloudflare.com/ajax/libs/mathjax/2.7.5/MathJax.js?config=TeX-AMS-MML_SVG\"></script><script type=\"text/javascript\">if (window.MathJax) {MathJax.Hub.Config({SVG: {font: \"STIX-Web\"}});}</script>                <script type=\"text/javascript\">window.PlotlyConfig = {MathJaxConfig: 'local'};</script>\n",
              "        <script src=\"https://cdn.plot.ly/plotly-2.3.1.min.js\"></script>                <div id=\"06b6e443-a648-4501-8f14-80e99ea9b81c\" class=\"plotly-graph-div\" style=\"height:525px; width:100%;\"></div>            <script type=\"text/javascript\">                                    window.PLOTLYENV=window.PLOTLYENV || {};                                    if (document.getElementById(\"06b6e443-a648-4501-8f14-80e99ea9b81c\")) {                    Plotly.newPlot(                        \"06b6e443-a648-4501-8f14-80e99ea9b81c\",                        [{\"domain\":{\"x\":[0.0,1.0],\"y\":[0.0,1.0]},\"hole\":0.3,\"hovertemplate\":\"\\ubc30\\uae09\\uc0ac\\uad6c\\ubd84=%{label}<br>\\ub9e4\\ucd9c\\uc561=%{value}<extra></extra>\",\"labels\":[\"\\uae30\\ud0c0\\ubc30\\uae09\\uc0ac\",\"\\ub300\\ud615\\ubc30\\uae09\\uc0ac\"],\"legendgroup\":\"\",\"name\":\"\",\"showlegend\":true,\"textinfo\":\"percent+label\",\"textposition\":\"inside\",\"type\":\"pie\",\"values\":[537646403394,115782968284]}],                        {\"legend\":{\"tracegroupgap\":0},\"piecolorway\":[\"rgb(246, 210, 169)\",\"rgb(245, 183, 142)\",\"rgb(241, 156, 124)\",\"rgb(234, 129, 113)\",\"rgb(221, 104, 108)\",\"rgb(202, 82, 104)\",\"rgb(177, 63, 100)\"],\"template\":{\"data\":{\"bar\":[{\"error_x\":{\"color\":\"#2a3f5f\"},\"error_y\":{\"color\":\"#2a3f5f\"},\"marker\":{\"line\":{\"color\":\"#E5ECF6\",\"width\":0.5},\"pattern\":{\"fillmode\":\"overlay\",\"size\":10,\"solidity\":0.2}},\"type\":\"bar\"}],\"barpolar\":[{\"marker\":{\"line\":{\"color\":\"#E5ECF6\",\"width\":0.5},\"pattern\":{\"fillmode\":\"overlay\",\"size\":10,\"solidity\":0.2}},\"type\":\"barpolar\"}],\"carpet\":[{\"aaxis\":{\"endlinecolor\":\"#2a3f5f\",\"gridcolor\":\"white\",\"linecolor\":\"white\",\"minorgridcolor\":\"white\",\"startlinecolor\":\"#2a3f5f\"},\"baxis\":{\"endlinecolor\":\"#2a3f5f\",\"gridcolor\":\"white\",\"linecolor\":\"white\",\"minorgridcolor\":\"white\",\"startlinecolor\":\"#2a3f5f\"},\"type\":\"carpet\"}],\"choropleth\":[{\"colorbar\":{\"outlinewidth\":0,\"ticks\":\"\"},\"type\":\"choropleth\"}],\"contour\":[{\"colorbar\":{\"outlinewidth\":0,\"ticks\":\"\"},\"colorscale\":[[0.0,\"#0d0887\"],[0.1111111111111111,\"#46039f\"],[0.2222222222222222,\"#7201a8\"],[0.3333333333333333,\"#9c179e\"],[0.4444444444444444,\"#bd3786\"],[0.5555555555555556,\"#d8576b\"],[0.6666666666666666,\"#ed7953\"],[0.7777777777777778,\"#fb9f3a\"],[0.8888888888888888,\"#fdca26\"],[1.0,\"#f0f921\"]],\"type\":\"contour\"}],\"contourcarpet\":[{\"colorbar\":{\"outlinewidth\":0,\"ticks\":\"\"},\"type\":\"contourcarpet\"}],\"heatmap\":[{\"colorbar\":{\"outlinewidth\":0,\"ticks\":\"\"},\"colorscale\":[[0.0,\"#0d0887\"],[0.1111111111111111,\"#46039f\"],[0.2222222222222222,\"#7201a8\"],[0.3333333333333333,\"#9c179e\"],[0.4444444444444444,\"#bd3786\"],[0.5555555555555556,\"#d8576b\"],[0.6666666666666666,\"#ed7953\"],[0.7777777777777778,\"#fb9f3a\"],[0.8888888888888888,\"#fdca26\"],[1.0,\"#f0f921\"]],\"type\":\"heatmap\"}],\"heatmapgl\":[{\"colorbar\":{\"outlinewidth\":0,\"ticks\":\"\"},\"colorscale\":[[0.0,\"#0d0887\"],[0.1111111111111111,\"#46039f\"],[0.2222222222222222,\"#7201a8\"],[0.3333333333333333,\"#9c179e\"],[0.4444444444444444,\"#bd3786\"],[0.5555555555555556,\"#d8576b\"],[0.6666666666666666,\"#ed7953\"],[0.7777777777777778,\"#fb9f3a\"],[0.8888888888888888,\"#fdca26\"],[1.0,\"#f0f921\"]],\"type\":\"heatmapgl\"}],\"histogram\":[{\"marker\":{\"pattern\":{\"fillmode\":\"overlay\",\"size\":10,\"solidity\":0.2}},\"type\":\"histogram\"}],\"histogram2d\":[{\"colorbar\":{\"outlinewidth\":0,\"ticks\":\"\"},\"colorscale\":[[0.0,\"#0d0887\"],[0.1111111111111111,\"#46039f\"],[0.2222222222222222,\"#7201a8\"],[0.3333333333333333,\"#9c179e\"],[0.4444444444444444,\"#bd3786\"],[0.5555555555555556,\"#d8576b\"],[0.6666666666666666,\"#ed7953\"],[0.7777777777777778,\"#fb9f3a\"],[0.8888888888888888,\"#fdca26\"],[1.0,\"#f0f921\"]],\"type\":\"histogram2d\"}],\"histogram2dcontour\":[{\"colorbar\":{\"outlinewidth\":0,\"ticks\":\"\"},\"colorscale\":[[0.0,\"#0d0887\"],[0.1111111111111111,\"#46039f\"],[0.2222222222222222,\"#7201a8\"],[0.3333333333333333,\"#9c179e\"],[0.4444444444444444,\"#bd3786\"],[0.5555555555555556,\"#d8576b\"],[0.6666666666666666,\"#ed7953\"],[0.7777777777777778,\"#fb9f3a\"],[0.8888888888888888,\"#fdca26\"],[1.0,\"#f0f921\"]],\"type\":\"histogram2dcontour\"}],\"mesh3d\":[{\"colorbar\":{\"outlinewidth\":0,\"ticks\":\"\"},\"type\":\"mesh3d\"}],\"parcoords\":[{\"line\":{\"colorbar\":{\"outlinewidth\":0,\"ticks\":\"\"}},\"type\":\"parcoords\"}],\"pie\":[{\"automargin\":true,\"type\":\"pie\"}],\"scatter\":[{\"marker\":{\"colorbar\":{\"outlinewidth\":0,\"ticks\":\"\"}},\"type\":\"scatter\"}],\"scatter3d\":[{\"line\":{\"colorbar\":{\"outlinewidth\":0,\"ticks\":\"\"}},\"marker\":{\"colorbar\":{\"outlinewidth\":0,\"ticks\":\"\"}},\"type\":\"scatter3d\"}],\"scattercarpet\":[{\"marker\":{\"colorbar\":{\"outlinewidth\":0,\"ticks\":\"\"}},\"type\":\"scattercarpet\"}],\"scattergeo\":[{\"marker\":{\"colorbar\":{\"outlinewidth\":0,\"ticks\":\"\"}},\"type\":\"scattergeo\"}],\"scattergl\":[{\"marker\":{\"colorbar\":{\"outlinewidth\":0,\"ticks\":\"\"}},\"type\":\"scattergl\"}],\"scattermapbox\":[{\"marker\":{\"colorbar\":{\"outlinewidth\":0,\"ticks\":\"\"}},\"type\":\"scattermapbox\"}],\"scatterpolar\":[{\"marker\":{\"colorbar\":{\"outlinewidth\":0,\"ticks\":\"\"}},\"type\":\"scatterpolar\"}],\"scatterpolargl\":[{\"marker\":{\"colorbar\":{\"outlinewidth\":0,\"ticks\":\"\"}},\"type\":\"scatterpolargl\"}],\"scatterternary\":[{\"marker\":{\"colorbar\":{\"outlinewidth\":0,\"ticks\":\"\"}},\"type\":\"scatterternary\"}],\"surface\":[{\"colorbar\":{\"outlinewidth\":0,\"ticks\":\"\"},\"colorscale\":[[0.0,\"#0d0887\"],[0.1111111111111111,\"#46039f\"],[0.2222222222222222,\"#7201a8\"],[0.3333333333333333,\"#9c179e\"],[0.4444444444444444,\"#bd3786\"],[0.5555555555555556,\"#d8576b\"],[0.6666666666666666,\"#ed7953\"],[0.7777777777777778,\"#fb9f3a\"],[0.8888888888888888,\"#fdca26\"],[1.0,\"#f0f921\"]],\"type\":\"surface\"}],\"table\":[{\"cells\":{\"fill\":{\"color\":\"#EBF0F8\"},\"line\":{\"color\":\"white\"}},\"header\":{\"fill\":{\"color\":\"#C8D4E3\"},\"line\":{\"color\":\"white\"}},\"type\":\"table\"}]},\"layout\":{\"annotationdefaults\":{\"arrowcolor\":\"#2a3f5f\",\"arrowhead\":0,\"arrowwidth\":1},\"autotypenumbers\":\"strict\",\"coloraxis\":{\"colorbar\":{\"outlinewidth\":0,\"ticks\":\"\"}},\"colorscale\":{\"diverging\":[[0,\"#8e0152\"],[0.1,\"#c51b7d\"],[0.2,\"#de77ae\"],[0.3,\"#f1b6da\"],[0.4,\"#fde0ef\"],[0.5,\"#f7f7f7\"],[0.6,\"#e6f5d0\"],[0.7,\"#b8e186\"],[0.8,\"#7fbc41\"],[0.9,\"#4d9221\"],[1,\"#276419\"]],\"sequential\":[[0.0,\"#0d0887\"],[0.1111111111111111,\"#46039f\"],[0.2222222222222222,\"#7201a8\"],[0.3333333333333333,\"#9c179e\"],[0.4444444444444444,\"#bd3786\"],[0.5555555555555556,\"#d8576b\"],[0.6666666666666666,\"#ed7953\"],[0.7777777777777778,\"#fb9f3a\"],[0.8888888888888888,\"#fdca26\"],[1.0,\"#f0f921\"]],\"sequentialminus\":[[0.0,\"#0d0887\"],[0.1111111111111111,\"#46039f\"],[0.2222222222222222,\"#7201a8\"],[0.3333333333333333,\"#9c179e\"],[0.4444444444444444,\"#bd3786\"],[0.5555555555555556,\"#d8576b\"],[0.6666666666666666,\"#ed7953\"],[0.7777777777777778,\"#fb9f3a\"],[0.8888888888888888,\"#fdca26\"],[1.0,\"#f0f921\"]]},\"colorway\":[\"#636efa\",\"#EF553B\",\"#00cc96\",\"#ab63fa\",\"#FFA15A\",\"#19d3f3\",\"#FF6692\",\"#B6E880\",\"#FF97FF\",\"#FECB52\"],\"font\":{\"color\":\"#2a3f5f\"},\"geo\":{\"bgcolor\":\"white\",\"lakecolor\":\"white\",\"landcolor\":\"#E5ECF6\",\"showlakes\":true,\"showland\":true,\"subunitcolor\":\"white\"},\"hoverlabel\":{\"align\":\"left\"},\"hovermode\":\"closest\",\"mapbox\":{\"style\":\"light\"},\"paper_bgcolor\":\"white\",\"plot_bgcolor\":\"#E5ECF6\",\"polar\":{\"angularaxis\":{\"gridcolor\":\"white\",\"linecolor\":\"white\",\"ticks\":\"\"},\"bgcolor\":\"#E5ECF6\",\"radialaxis\":{\"gridcolor\":\"white\",\"linecolor\":\"white\",\"ticks\":\"\"}},\"scene\":{\"xaxis\":{\"backgroundcolor\":\"#E5ECF6\",\"gridcolor\":\"white\",\"gridwidth\":2,\"linecolor\":\"white\",\"showbackground\":true,\"ticks\":\"\",\"zerolinecolor\":\"white\"},\"yaxis\":{\"backgroundcolor\":\"#E5ECF6\",\"gridcolor\":\"white\",\"gridwidth\":2,\"linecolor\":\"white\",\"showbackground\":true,\"ticks\":\"\",\"zerolinecolor\":\"white\"},\"zaxis\":{\"backgroundcolor\":\"#E5ECF6\",\"gridcolor\":\"white\",\"gridwidth\":2,\"linecolor\":\"white\",\"showbackground\":true,\"ticks\":\"\",\"zerolinecolor\":\"white\"}},\"shapedefaults\":{\"line\":{\"color\":\"#2a3f5f\"}},\"ternary\":{\"aaxis\":{\"gridcolor\":\"white\",\"linecolor\":\"white\",\"ticks\":\"\"},\"baxis\":{\"gridcolor\":\"white\",\"linecolor\":\"white\",\"ticks\":\"\"},\"bgcolor\":\"#E5ECF6\",\"caxis\":{\"gridcolor\":\"white\",\"linecolor\":\"white\",\"ticks\":\"\"}},\"title\":{\"x\":0.05},\"xaxis\":{\"automargin\":true,\"gridcolor\":\"white\",\"linecolor\":\"white\",\"ticks\":\"\",\"title\":{\"standoff\":15},\"zerolinecolor\":\"white\",\"zerolinewidth\":2},\"yaxis\":{\"automargin\":true,\"gridcolor\":\"white\",\"linecolor\":\"white\",\"ticks\":\"\",\"title\":{\"standoff\":15},\"zerolinecolor\":\"white\",\"zerolinewidth\":2}}},\"title\":{\"text\":\"2011\\ub144~2020\\ub144\\uac04 \\uc81c\\uc791\\ub41c \\ub3c5\\ub9bd\\uc608\\uc220\\uc601\\ud654\\uc758 \\ubc30\\uae09\\uc0ac \\uad6c\\ubd84 \\ubcc4 \\ub9e4\\ucd9c\\uc561 \\ube44\\uc911\"}},                        {\"responsive\": true}                    ).then(function(){\n",
              "                            \n",
              "var gd = document.getElementById('06b6e443-a648-4501-8f14-80e99ea9b81c');\n",
              "var x = new MutationObserver(function (mutations, observer) {{\n",
              "        var display = window.getComputedStyle(gd).display;\n",
              "        if (!display || display === 'none') {{\n",
              "            console.log([gd, 'removed!']);\n",
              "            Plotly.purge(gd);\n",
              "            observer.disconnect();\n",
              "        }}\n",
              "}});\n",
              "\n",
              "// Listen for the removal of the full notebook cells\n",
              "var notebookContainer = gd.closest('#notebook-container');\n",
              "if (notebookContainer) {{\n",
              "    x.observe(notebookContainer, {childList: true});\n",
              "}}\n",
              "\n",
              "// Listen for the clearing of the current output cell\n",
              "var outputEl = gd.closest('.output');\n",
              "if (outputEl) {{\n",
              "    x.observe(outputEl, {childList: true});\n",
              "}}\n",
              "\n",
              "                        })                };                            </script>        </div>\n",
              "</body>\n",
              "</html>"
            ]
          },
          "metadata": {}
        }
      ]
    },
    {
      "cell_type": "code",
      "metadata": {
        "colab": {
          "base_uri": "https://localhost:8080/",
          "height": 653
        },
        "id": "yfJcW9wLCUfN",
        "outputId": "b2b104a8-07b4-4c27-a2bc-90708eef1f52"
      },
      "source": [
        "#배급사 구분 별로 매년 배급 영화수와 총 영화수 비교\n",
        "new_movies_art_counts = new_movies_art.groupby(['개봉연도','배급사구분']).size().reset_index(name='배급영화수')\n",
        "new_movies_art_counts['총영화수'] = new_movies_art_counts.groupby('개봉연도')['배급영화수'].transform('sum')\n",
        "new_movies_art_counts['배급비중'] = new_movies_art_counts['배급영화수']/new_movies_art_counts['총영화수']*100\n",
        "\n",
        "#배급사 구분 별로 매년 배급되는 영화의 영화 매출액 비교 \n",
        "new_movies_art_sum = new_movies_art.groupby(['개봉연도','배급사구분'])['전국매출액'].sum().reset_index(name='배급사매출액')\n",
        "new_movies_art_sum['총매출액'] = new_movies_art_sum.groupby('개봉연도')['배급사매출액'].transform('sum')\n",
        "new_movies_art_sum['매출액비중'] = new_movies_art_sum['배급사매출액']/new_movies_art_sum['총매출액']*100\n",
        "\n",
        "\n",
        "new_movies_art_agg = pd.merge(new_movies_art_counts, new_movies_art_sum, how=\"left\", on=[\"개봉연도\", \"배급사구분\"])\n",
        "new_movies_art_agg[['개봉연도', '배급사구분', '배급영화수', '배급비중', '배급사매출액','매출액비중']]\n",
        "# new_movies_art_counts"
      ],
      "execution_count": null,
      "outputs": [
        {
          "output_type": "execute_result",
          "data": {
            "text/html": [
              "<div>\n",
              "<style scoped>\n",
              "    .dataframe tbody tr th:only-of-type {\n",
              "        vertical-align: middle;\n",
              "    }\n",
              "\n",
              "    .dataframe tbody tr th {\n",
              "        vertical-align: top;\n",
              "    }\n",
              "\n",
              "    .dataframe thead th {\n",
              "        text-align: right;\n",
              "    }\n",
              "</style>\n",
              "<table border=\"1\" class=\"dataframe\">\n",
              "  <thead>\n",
              "    <tr style=\"text-align: right;\">\n",
              "      <th></th>\n",
              "      <th>개봉연도</th>\n",
              "      <th>배급사구분</th>\n",
              "      <th>배급영화수</th>\n",
              "      <th>배급비중</th>\n",
              "      <th>배급사매출액</th>\n",
              "      <th>매출액비중</th>\n",
              "    </tr>\n",
              "  </thead>\n",
              "  <tbody>\n",
              "    <tr>\n",
              "      <th>0</th>\n",
              "      <td>2011</td>\n",
              "      <td>기타배급사</td>\n",
              "      <td>29</td>\n",
              "      <td>90.625000</td>\n",
              "      <td>13400617900</td>\n",
              "      <td>49.001787</td>\n",
              "    </tr>\n",
              "    <tr>\n",
              "      <th>1</th>\n",
              "      <td>2011</td>\n",
              "      <td>대형배급사</td>\n",
              "      <td>3</td>\n",
              "      <td>9.375000</td>\n",
              "      <td>13946584500</td>\n",
              "      <td>50.998213</td>\n",
              "    </tr>\n",
              "    <tr>\n",
              "      <th>2</th>\n",
              "      <td>2012</td>\n",
              "      <td>기타배급사</td>\n",
              "      <td>45</td>\n",
              "      <td>90.000000</td>\n",
              "      <td>26211994507</td>\n",
              "      <td>83.280991</td>\n",
              "    </tr>\n",
              "    <tr>\n",
              "      <th>3</th>\n",
              "      <td>2012</td>\n",
              "      <td>대형배급사</td>\n",
              "      <td>5</td>\n",
              "      <td>10.000000</td>\n",
              "      <td>5262167971</td>\n",
              "      <td>16.719009</td>\n",
              "    </tr>\n",
              "    <tr>\n",
              "      <th>4</th>\n",
              "      <td>2013</td>\n",
              "      <td>기타배급사</td>\n",
              "      <td>76</td>\n",
              "      <td>87.356322</td>\n",
              "      <td>50213777342</td>\n",
              "      <td>95.294254</td>\n",
              "    </tr>\n",
              "    <tr>\n",
              "      <th>5</th>\n",
              "      <td>2013</td>\n",
              "      <td>대형배급사</td>\n",
              "      <td>11</td>\n",
              "      <td>12.643678</td>\n",
              "      <td>2479617141</td>\n",
              "      <td>4.705746</td>\n",
              "    </tr>\n",
              "    <tr>\n",
              "      <th>6</th>\n",
              "      <td>2014</td>\n",
              "      <td>기타배급사</td>\n",
              "      <td>161</td>\n",
              "      <td>92.000000</td>\n",
              "      <td>120038064846</td>\n",
              "      <td>76.802878</td>\n",
              "    </tr>\n",
              "    <tr>\n",
              "      <th>7</th>\n",
              "      <td>2014</td>\n",
              "      <td>대형배급사</td>\n",
              "      <td>14</td>\n",
              "      <td>8.000000</td>\n",
              "      <td>36255642495</td>\n",
              "      <td>23.197122</td>\n",
              "    </tr>\n",
              "    <tr>\n",
              "      <th>8</th>\n",
              "      <td>2015</td>\n",
              "      <td>기타배급사</td>\n",
              "      <td>178</td>\n",
              "      <td>93.684211</td>\n",
              "      <td>57501399938</td>\n",
              "      <td>76.127786</td>\n",
              "    </tr>\n",
              "    <tr>\n",
              "      <th>9</th>\n",
              "      <td>2015</td>\n",
              "      <td>대형배급사</td>\n",
              "      <td>12</td>\n",
              "      <td>6.315789</td>\n",
              "      <td>18031336460</td>\n",
              "      <td>23.872214</td>\n",
              "    </tr>\n",
              "    <tr>\n",
              "      <th>10</th>\n",
              "      <td>2016</td>\n",
              "      <td>기타배급사</td>\n",
              "      <td>206</td>\n",
              "      <td>94.495413</td>\n",
              "      <td>61154579209</td>\n",
              "      <td>88.849525</td>\n",
              "    </tr>\n",
              "    <tr>\n",
              "      <th>11</th>\n",
              "      <td>2016</td>\n",
              "      <td>대형배급사</td>\n",
              "      <td>12</td>\n",
              "      <td>5.504587</td>\n",
              "      <td>7674802834</td>\n",
              "      <td>11.150475</td>\n",
              "    </tr>\n",
              "    <tr>\n",
              "      <th>12</th>\n",
              "      <td>2017</td>\n",
              "      <td>기타배급사</td>\n",
              "      <td>242</td>\n",
              "      <td>93.076923</td>\n",
              "      <td>61830852685</td>\n",
              "      <td>85.570089</td>\n",
              "    </tr>\n",
              "    <tr>\n",
              "      <th>13</th>\n",
              "      <td>2017</td>\n",
              "      <td>대형배급사</td>\n",
              "      <td>18</td>\n",
              "      <td>6.923077</td>\n",
              "      <td>10426700445</td>\n",
              "      <td>14.429911</td>\n",
              "    </tr>\n",
              "    <tr>\n",
              "      <th>14</th>\n",
              "      <td>2018</td>\n",
              "      <td>기타배급사</td>\n",
              "      <td>230</td>\n",
              "      <td>94.262295</td>\n",
              "      <td>64266674083</td>\n",
              "      <td>93.655677</td>\n",
              "    </tr>\n",
              "    <tr>\n",
              "      <th>15</th>\n",
              "      <td>2018</td>\n",
              "      <td>대형배급사</td>\n",
              "      <td>14</td>\n",
              "      <td>5.737705</td>\n",
              "      <td>4353484831</td>\n",
              "      <td>6.344323</td>\n",
              "    </tr>\n",
              "    <tr>\n",
              "      <th>16</th>\n",
              "      <td>2019</td>\n",
              "      <td>기타배급사</td>\n",
              "      <td>224</td>\n",
              "      <td>94.117647</td>\n",
              "      <td>52394508165</td>\n",
              "      <td>75.379399</td>\n",
              "    </tr>\n",
              "    <tr>\n",
              "      <th>17</th>\n",
              "      <td>2019</td>\n",
              "      <td>대형배급사</td>\n",
              "      <td>14</td>\n",
              "      <td>5.882353</td>\n",
              "      <td>17113220327</td>\n",
              "      <td>24.620601</td>\n",
              "    </tr>\n",
              "    <tr>\n",
              "      <th>18</th>\n",
              "      <td>2020</td>\n",
              "      <td>기타배급사</td>\n",
              "      <td>228</td>\n",
              "      <td>99.130435</td>\n",
              "      <td>30633934719</td>\n",
              "      <td>99.224537</td>\n",
              "    </tr>\n",
              "    <tr>\n",
              "      <th>19</th>\n",
              "      <td>2020</td>\n",
              "      <td>대형배급사</td>\n",
              "      <td>2</td>\n",
              "      <td>0.869565</td>\n",
              "      <td>239411280</td>\n",
              "      <td>0.775463</td>\n",
              "    </tr>\n",
              "  </tbody>\n",
              "</table>\n",
              "</div>"
            ],
            "text/plain": [
              "    개봉연도  배급사구분  배급영화수       배급비중        배급사매출액      매출액비중\n",
              "0   2011  기타배급사     29  90.625000   13400617900  49.001787\n",
              "1   2011  대형배급사      3   9.375000   13946584500  50.998213\n",
              "2   2012  기타배급사     45  90.000000   26211994507  83.280991\n",
              "3   2012  대형배급사      5  10.000000    5262167971  16.719009\n",
              "4   2013  기타배급사     76  87.356322   50213777342  95.294254\n",
              "5   2013  대형배급사     11  12.643678    2479617141   4.705746\n",
              "6   2014  기타배급사    161  92.000000  120038064846  76.802878\n",
              "7   2014  대형배급사     14   8.000000   36255642495  23.197122\n",
              "8   2015  기타배급사    178  93.684211   57501399938  76.127786\n",
              "9   2015  대형배급사     12   6.315789   18031336460  23.872214\n",
              "10  2016  기타배급사    206  94.495413   61154579209  88.849525\n",
              "11  2016  대형배급사     12   5.504587    7674802834  11.150475\n",
              "12  2017  기타배급사    242  93.076923   61830852685  85.570089\n",
              "13  2017  대형배급사     18   6.923077   10426700445  14.429911\n",
              "14  2018  기타배급사    230  94.262295   64266674083  93.655677\n",
              "15  2018  대형배급사     14   5.737705    4353484831   6.344323\n",
              "16  2019  기타배급사    224  94.117647   52394508165  75.379399\n",
              "17  2019  대형배급사     14   5.882353   17113220327  24.620601\n",
              "18  2020  기타배급사    228  99.130435   30633934719  99.224537\n",
              "19  2020  대형배급사      2   0.869565     239411280   0.775463"
            ]
          },
          "metadata": {},
          "execution_count": 234
        }
      ]
    },
    {
      "cell_type": "code",
      "metadata": {
        "colab": {
          "base_uri": "https://localhost:8080/",
          "height": 542
        },
        "id": "DjSYBP7DPjzm",
        "outputId": "09cc324b-5cae-434e-a8c4-c8c95ea0b138"
      },
      "source": [
        "#배급사 별로 매년 배급 영화 수(비중)이 어떻게 달라지는지 살펴보면 연도 별로 비중 편차가 심한 편이며, 2020년에는 독립 영화 중 1% 이하를 대형 배급사에서 차지했다. \n",
        "fig = px.bar(new_movies_art_agg,\n",
        "             x = \"개봉연도\", \n",
        "             y = \"배급영화수\", \n",
        "            #  text = \"배급영화수\",\n",
        "             title=\"연도 별 배급사에 따른 독립예술 영화 수 추이\", \n",
        "             color = \"배급사구분\", hover_name = \"배급사구분\", \n",
        "             hover_data=[\"배급비중\"], log_x = True)\n",
        "# fig.update_traces(texttemplate='%{text}개', textposition='inside')\n",
        "fig.show()"
      ],
      "execution_count": null,
      "outputs": [
        {
          "output_type": "display_data",
          "data": {
            "text/html": [
              "<html>\n",
              "<head><meta charset=\"utf-8\" /></head>\n",
              "<body>\n",
              "    <div>            <script src=\"https://cdnjs.cloudflare.com/ajax/libs/mathjax/2.7.5/MathJax.js?config=TeX-AMS-MML_SVG\"></script><script type=\"text/javascript\">if (window.MathJax) {MathJax.Hub.Config({SVG: {font: \"STIX-Web\"}});}</script>                <script type=\"text/javascript\">window.PlotlyConfig = {MathJaxConfig: 'local'};</script>\n",
              "        <script src=\"https://cdn.plot.ly/plotly-2.3.1.min.js\"></script>                <div id=\"deb6b3b7-951a-4256-af9f-31a0cadc5f8a\" class=\"plotly-graph-div\" style=\"height:525px; width:100%;\"></div>            <script type=\"text/javascript\">                                    window.PLOTLYENV=window.PLOTLYENV || {};                                    if (document.getElementById(\"deb6b3b7-951a-4256-af9f-31a0cadc5f8a\")) {                    Plotly.newPlot(                        \"deb6b3b7-951a-4256-af9f-31a0cadc5f8a\",                        [{\"alignmentgroup\":\"True\",\"customdata\":[[90.625],[90.0],[87.35632183908046],[92.0],[93.6842105263158],[94.4954128440367],[93.07692307692308],[94.26229508196722],[94.11764705882352],[99.1304347826087]],\"hovertemplate\":\"<b>%{hovertext}</b><br><br>\\ubc30\\uae09\\uc0ac\\uad6c\\ubd84=\\uae30\\ud0c0\\ubc30\\uae09\\uc0ac<br>\\uac1c\\ubd09\\uc5f0\\ub3c4=%{x}<br>\\ubc30\\uae09\\uc601\\ud654\\uc218=%{y}<br>\\ubc30\\uae09\\ube44\\uc911=%{customdata[0]}<extra></extra>\",\"hovertext\":[\"\\uae30\\ud0c0\\ubc30\\uae09\\uc0ac\",\"\\uae30\\ud0c0\\ubc30\\uae09\\uc0ac\",\"\\uae30\\ud0c0\\ubc30\\uae09\\uc0ac\",\"\\uae30\\ud0c0\\ubc30\\uae09\\uc0ac\",\"\\uae30\\ud0c0\\ubc30\\uae09\\uc0ac\",\"\\uae30\\ud0c0\\ubc30\\uae09\\uc0ac\",\"\\uae30\\ud0c0\\ubc30\\uae09\\uc0ac\",\"\\uae30\\ud0c0\\ubc30\\uae09\\uc0ac\",\"\\uae30\\ud0c0\\ubc30\\uae09\\uc0ac\",\"\\uae30\\ud0c0\\ubc30\\uae09\\uc0ac\"],\"legendgroup\":\"\\uae30\\ud0c0\\ubc30\\uae09\\uc0ac\",\"marker\":{\"color\":\"#636efa\",\"pattern\":{\"shape\":\"\"}},\"name\":\"\\uae30\\ud0c0\\ubc30\\uae09\\uc0ac\",\"offsetgroup\":\"\\uae30\\ud0c0\\ubc30\\uae09\\uc0ac\",\"orientation\":\"v\",\"showlegend\":true,\"textposition\":\"auto\",\"type\":\"bar\",\"x\":[2011,2012,2013,2014,2015,2016,2017,2018,2019,2020],\"xaxis\":\"x\",\"y\":[29,45,76,161,178,206,242,230,224,228],\"yaxis\":\"y\"},{\"alignmentgroup\":\"True\",\"customdata\":[[9.375],[10.0],[12.643678160919542],[8.0],[6.315789473684211],[5.5045871559633035],[6.923076923076923],[5.737704918032787],[5.88235294117647],[0.8695652173913043]],\"hovertemplate\":\"<b>%{hovertext}</b><br><br>\\ubc30\\uae09\\uc0ac\\uad6c\\ubd84=\\ub300\\ud615\\ubc30\\uae09\\uc0ac<br>\\uac1c\\ubd09\\uc5f0\\ub3c4=%{x}<br>\\ubc30\\uae09\\uc601\\ud654\\uc218=%{y}<br>\\ubc30\\uae09\\ube44\\uc911=%{customdata[0]}<extra></extra>\",\"hovertext\":[\"\\ub300\\ud615\\ubc30\\uae09\\uc0ac\",\"\\ub300\\ud615\\ubc30\\uae09\\uc0ac\",\"\\ub300\\ud615\\ubc30\\uae09\\uc0ac\",\"\\ub300\\ud615\\ubc30\\uae09\\uc0ac\",\"\\ub300\\ud615\\ubc30\\uae09\\uc0ac\",\"\\ub300\\ud615\\ubc30\\uae09\\uc0ac\",\"\\ub300\\ud615\\ubc30\\uae09\\uc0ac\",\"\\ub300\\ud615\\ubc30\\uae09\\uc0ac\",\"\\ub300\\ud615\\ubc30\\uae09\\uc0ac\",\"\\ub300\\ud615\\ubc30\\uae09\\uc0ac\"],\"legendgroup\":\"\\ub300\\ud615\\ubc30\\uae09\\uc0ac\",\"marker\":{\"color\":\"#EF553B\",\"pattern\":{\"shape\":\"\"}},\"name\":\"\\ub300\\ud615\\ubc30\\uae09\\uc0ac\",\"offsetgroup\":\"\\ub300\\ud615\\ubc30\\uae09\\uc0ac\",\"orientation\":\"v\",\"showlegend\":true,\"textposition\":\"auto\",\"type\":\"bar\",\"x\":[2011,2012,2013,2014,2015,2016,2017,2018,2019,2020],\"xaxis\":\"x\",\"y\":[3,5,11,14,12,12,18,14,14,2],\"yaxis\":\"y\"}],                        {\"barmode\":\"relative\",\"legend\":{\"title\":{\"text\":\"\\ubc30\\uae09\\uc0ac\\uad6c\\ubd84\"},\"tracegroupgap\":0},\"template\":{\"data\":{\"bar\":[{\"error_x\":{\"color\":\"#2a3f5f\"},\"error_y\":{\"color\":\"#2a3f5f\"},\"marker\":{\"line\":{\"color\":\"#E5ECF6\",\"width\":0.5},\"pattern\":{\"fillmode\":\"overlay\",\"size\":10,\"solidity\":0.2}},\"type\":\"bar\"}],\"barpolar\":[{\"marker\":{\"line\":{\"color\":\"#E5ECF6\",\"width\":0.5},\"pattern\":{\"fillmode\":\"overlay\",\"size\":10,\"solidity\":0.2}},\"type\":\"barpolar\"}],\"carpet\":[{\"aaxis\":{\"endlinecolor\":\"#2a3f5f\",\"gridcolor\":\"white\",\"linecolor\":\"white\",\"minorgridcolor\":\"white\",\"startlinecolor\":\"#2a3f5f\"},\"baxis\":{\"endlinecolor\":\"#2a3f5f\",\"gridcolor\":\"white\",\"linecolor\":\"white\",\"minorgridcolor\":\"white\",\"startlinecolor\":\"#2a3f5f\"},\"type\":\"carpet\"}],\"choropleth\":[{\"colorbar\":{\"outlinewidth\":0,\"ticks\":\"\"},\"type\":\"choropleth\"}],\"contour\":[{\"colorbar\":{\"outlinewidth\":0,\"ticks\":\"\"},\"colorscale\":[[0.0,\"#0d0887\"],[0.1111111111111111,\"#46039f\"],[0.2222222222222222,\"#7201a8\"],[0.3333333333333333,\"#9c179e\"],[0.4444444444444444,\"#bd3786\"],[0.5555555555555556,\"#d8576b\"],[0.6666666666666666,\"#ed7953\"],[0.7777777777777778,\"#fb9f3a\"],[0.8888888888888888,\"#fdca26\"],[1.0,\"#f0f921\"]],\"type\":\"contour\"}],\"contourcarpet\":[{\"colorbar\":{\"outlinewidth\":0,\"ticks\":\"\"},\"type\":\"contourcarpet\"}],\"heatmap\":[{\"colorbar\":{\"outlinewidth\":0,\"ticks\":\"\"},\"colorscale\":[[0.0,\"#0d0887\"],[0.1111111111111111,\"#46039f\"],[0.2222222222222222,\"#7201a8\"],[0.3333333333333333,\"#9c179e\"],[0.4444444444444444,\"#bd3786\"],[0.5555555555555556,\"#d8576b\"],[0.6666666666666666,\"#ed7953\"],[0.7777777777777778,\"#fb9f3a\"],[0.8888888888888888,\"#fdca26\"],[1.0,\"#f0f921\"]],\"type\":\"heatmap\"}],\"heatmapgl\":[{\"colorbar\":{\"outlinewidth\":0,\"ticks\":\"\"},\"colorscale\":[[0.0,\"#0d0887\"],[0.1111111111111111,\"#46039f\"],[0.2222222222222222,\"#7201a8\"],[0.3333333333333333,\"#9c179e\"],[0.4444444444444444,\"#bd3786\"],[0.5555555555555556,\"#d8576b\"],[0.6666666666666666,\"#ed7953\"],[0.7777777777777778,\"#fb9f3a\"],[0.8888888888888888,\"#fdca26\"],[1.0,\"#f0f921\"]],\"type\":\"heatmapgl\"}],\"histogram\":[{\"marker\":{\"pattern\":{\"fillmode\":\"overlay\",\"size\":10,\"solidity\":0.2}},\"type\":\"histogram\"}],\"histogram2d\":[{\"colorbar\":{\"outlinewidth\":0,\"ticks\":\"\"},\"colorscale\":[[0.0,\"#0d0887\"],[0.1111111111111111,\"#46039f\"],[0.2222222222222222,\"#7201a8\"],[0.3333333333333333,\"#9c179e\"],[0.4444444444444444,\"#bd3786\"],[0.5555555555555556,\"#d8576b\"],[0.6666666666666666,\"#ed7953\"],[0.7777777777777778,\"#fb9f3a\"],[0.8888888888888888,\"#fdca26\"],[1.0,\"#f0f921\"]],\"type\":\"histogram2d\"}],\"histogram2dcontour\":[{\"colorbar\":{\"outlinewidth\":0,\"ticks\":\"\"},\"colorscale\":[[0.0,\"#0d0887\"],[0.1111111111111111,\"#46039f\"],[0.2222222222222222,\"#7201a8\"],[0.3333333333333333,\"#9c179e\"],[0.4444444444444444,\"#bd3786\"],[0.5555555555555556,\"#d8576b\"],[0.6666666666666666,\"#ed7953\"],[0.7777777777777778,\"#fb9f3a\"],[0.8888888888888888,\"#fdca26\"],[1.0,\"#f0f921\"]],\"type\":\"histogram2dcontour\"}],\"mesh3d\":[{\"colorbar\":{\"outlinewidth\":0,\"ticks\":\"\"},\"type\":\"mesh3d\"}],\"parcoords\":[{\"line\":{\"colorbar\":{\"outlinewidth\":0,\"ticks\":\"\"}},\"type\":\"parcoords\"}],\"pie\":[{\"automargin\":true,\"type\":\"pie\"}],\"scatter\":[{\"marker\":{\"colorbar\":{\"outlinewidth\":0,\"ticks\":\"\"}},\"type\":\"scatter\"}],\"scatter3d\":[{\"line\":{\"colorbar\":{\"outlinewidth\":0,\"ticks\":\"\"}},\"marker\":{\"colorbar\":{\"outlinewidth\":0,\"ticks\":\"\"}},\"type\":\"scatter3d\"}],\"scattercarpet\":[{\"marker\":{\"colorbar\":{\"outlinewidth\":0,\"ticks\":\"\"}},\"type\":\"scattercarpet\"}],\"scattergeo\":[{\"marker\":{\"colorbar\":{\"outlinewidth\":0,\"ticks\":\"\"}},\"type\":\"scattergeo\"}],\"scattergl\":[{\"marker\":{\"colorbar\":{\"outlinewidth\":0,\"ticks\":\"\"}},\"type\":\"scattergl\"}],\"scattermapbox\":[{\"marker\":{\"colorbar\":{\"outlinewidth\":0,\"ticks\":\"\"}},\"type\":\"scattermapbox\"}],\"scatterpolar\":[{\"marker\":{\"colorbar\":{\"outlinewidth\":0,\"ticks\":\"\"}},\"type\":\"scatterpolar\"}],\"scatterpolargl\":[{\"marker\":{\"colorbar\":{\"outlinewidth\":0,\"ticks\":\"\"}},\"type\":\"scatterpolargl\"}],\"scatterternary\":[{\"marker\":{\"colorbar\":{\"outlinewidth\":0,\"ticks\":\"\"}},\"type\":\"scatterternary\"}],\"surface\":[{\"colorbar\":{\"outlinewidth\":0,\"ticks\":\"\"},\"colorscale\":[[0.0,\"#0d0887\"],[0.1111111111111111,\"#46039f\"],[0.2222222222222222,\"#7201a8\"],[0.3333333333333333,\"#9c179e\"],[0.4444444444444444,\"#bd3786\"],[0.5555555555555556,\"#d8576b\"],[0.6666666666666666,\"#ed7953\"],[0.7777777777777778,\"#fb9f3a\"],[0.8888888888888888,\"#fdca26\"],[1.0,\"#f0f921\"]],\"type\":\"surface\"}],\"table\":[{\"cells\":{\"fill\":{\"color\":\"#EBF0F8\"},\"line\":{\"color\":\"white\"}},\"header\":{\"fill\":{\"color\":\"#C8D4E3\"},\"line\":{\"color\":\"white\"}},\"type\":\"table\"}]},\"layout\":{\"annotationdefaults\":{\"arrowcolor\":\"#2a3f5f\",\"arrowhead\":0,\"arrowwidth\":1},\"autotypenumbers\":\"strict\",\"coloraxis\":{\"colorbar\":{\"outlinewidth\":0,\"ticks\":\"\"}},\"colorscale\":{\"diverging\":[[0,\"#8e0152\"],[0.1,\"#c51b7d\"],[0.2,\"#de77ae\"],[0.3,\"#f1b6da\"],[0.4,\"#fde0ef\"],[0.5,\"#f7f7f7\"],[0.6,\"#e6f5d0\"],[0.7,\"#b8e186\"],[0.8,\"#7fbc41\"],[0.9,\"#4d9221\"],[1,\"#276419\"]],\"sequential\":[[0.0,\"#0d0887\"],[0.1111111111111111,\"#46039f\"],[0.2222222222222222,\"#7201a8\"],[0.3333333333333333,\"#9c179e\"],[0.4444444444444444,\"#bd3786\"],[0.5555555555555556,\"#d8576b\"],[0.6666666666666666,\"#ed7953\"],[0.7777777777777778,\"#fb9f3a\"],[0.8888888888888888,\"#fdca26\"],[1.0,\"#f0f921\"]],\"sequentialminus\":[[0.0,\"#0d0887\"],[0.1111111111111111,\"#46039f\"],[0.2222222222222222,\"#7201a8\"],[0.3333333333333333,\"#9c179e\"],[0.4444444444444444,\"#bd3786\"],[0.5555555555555556,\"#d8576b\"],[0.6666666666666666,\"#ed7953\"],[0.7777777777777778,\"#fb9f3a\"],[0.8888888888888888,\"#fdca26\"],[1.0,\"#f0f921\"]]},\"colorway\":[\"#636efa\",\"#EF553B\",\"#00cc96\",\"#ab63fa\",\"#FFA15A\",\"#19d3f3\",\"#FF6692\",\"#B6E880\",\"#FF97FF\",\"#FECB52\"],\"font\":{\"color\":\"#2a3f5f\"},\"geo\":{\"bgcolor\":\"white\",\"lakecolor\":\"white\",\"landcolor\":\"#E5ECF6\",\"showlakes\":true,\"showland\":true,\"subunitcolor\":\"white\"},\"hoverlabel\":{\"align\":\"left\"},\"hovermode\":\"closest\",\"mapbox\":{\"style\":\"light\"},\"paper_bgcolor\":\"white\",\"plot_bgcolor\":\"#E5ECF6\",\"polar\":{\"angularaxis\":{\"gridcolor\":\"white\",\"linecolor\":\"white\",\"ticks\":\"\"},\"bgcolor\":\"#E5ECF6\",\"radialaxis\":{\"gridcolor\":\"white\",\"linecolor\":\"white\",\"ticks\":\"\"}},\"scene\":{\"xaxis\":{\"backgroundcolor\":\"#E5ECF6\",\"gridcolor\":\"white\",\"gridwidth\":2,\"linecolor\":\"white\",\"showbackground\":true,\"ticks\":\"\",\"zerolinecolor\":\"white\"},\"yaxis\":{\"backgroundcolor\":\"#E5ECF6\",\"gridcolor\":\"white\",\"gridwidth\":2,\"linecolor\":\"white\",\"showbackground\":true,\"ticks\":\"\",\"zerolinecolor\":\"white\"},\"zaxis\":{\"backgroundcolor\":\"#E5ECF6\",\"gridcolor\":\"white\",\"gridwidth\":2,\"linecolor\":\"white\",\"showbackground\":true,\"ticks\":\"\",\"zerolinecolor\":\"white\"}},\"shapedefaults\":{\"line\":{\"color\":\"#2a3f5f\"}},\"ternary\":{\"aaxis\":{\"gridcolor\":\"white\",\"linecolor\":\"white\",\"ticks\":\"\"},\"baxis\":{\"gridcolor\":\"white\",\"linecolor\":\"white\",\"ticks\":\"\"},\"bgcolor\":\"#E5ECF6\",\"caxis\":{\"gridcolor\":\"white\",\"linecolor\":\"white\",\"ticks\":\"\"}},\"title\":{\"x\":0.05},\"xaxis\":{\"automargin\":true,\"gridcolor\":\"white\",\"linecolor\":\"white\",\"ticks\":\"\",\"title\":{\"standoff\":15},\"zerolinecolor\":\"white\",\"zerolinewidth\":2},\"yaxis\":{\"automargin\":true,\"gridcolor\":\"white\",\"linecolor\":\"white\",\"ticks\":\"\",\"title\":{\"standoff\":15},\"zerolinecolor\":\"white\",\"zerolinewidth\":2}}},\"title\":{\"text\":\"\\uc5f0\\ub3c4 \\ubcc4 \\ubc30\\uae09\\uc0ac\\uc5d0 \\ub530\\ub978 \\ub3c5\\ub9bd\\uc608\\uc220 \\uc601\\ud654 \\uc218 \\ucd94\\uc774\"},\"xaxis\":{\"anchor\":\"y\",\"domain\":[0.0,1.0],\"title\":{\"text\":\"\\uac1c\\ubd09\\uc5f0\\ub3c4\"},\"type\":\"log\"},\"yaxis\":{\"anchor\":\"x\",\"domain\":[0.0,1.0],\"title\":{\"text\":\"\\ubc30\\uae09\\uc601\\ud654\\uc218\"}}},                        {\"responsive\": true}                    ).then(function(){\n",
              "                            \n",
              "var gd = document.getElementById('deb6b3b7-951a-4256-af9f-31a0cadc5f8a');\n",
              "var x = new MutationObserver(function (mutations, observer) {{\n",
              "        var display = window.getComputedStyle(gd).display;\n",
              "        if (!display || display === 'none') {{\n",
              "            console.log([gd, 'removed!']);\n",
              "            Plotly.purge(gd);\n",
              "            observer.disconnect();\n",
              "        }}\n",
              "}});\n",
              "\n",
              "// Listen for the removal of the full notebook cells\n",
              "var notebookContainer = gd.closest('#notebook-container');\n",
              "if (notebookContainer) {{\n",
              "    x.observe(notebookContainer, {childList: true});\n",
              "}}\n",
              "\n",
              "// Listen for the clearing of the current output cell\n",
              "var outputEl = gd.closest('.output');\n",
              "if (outputEl) {{\n",
              "    x.observe(outputEl, {childList: true});\n",
              "}}\n",
              "\n",
              "                        })                };                            </script>        </div>\n",
              "</body>\n",
              "</html>"
            ]
          },
          "metadata": {}
        }
      ]
    },
    {
      "cell_type": "code",
      "metadata": {
        "colab": {
          "base_uri": "https://localhost:8080/",
          "height": 542
        },
        "id": "QU9KkF-9Q8sK",
        "outputId": "79d21719-1da3-403f-edf5-abc10e3fe655"
      },
      "source": [
        "#배급사 별로 매년 배급 영화의 매출액을 비교하였으나, 매출액 비중에서의 추이 규칙성을 찾을 수 없었음 \n",
        "fig = px.bar(new_movies_art_agg,\n",
        "             x = \"개봉연도\", \n",
        "             y = \"배급사매출액\", \n",
        "            #  text = \"배급사매출액\",\n",
        "             title=\"연도 별 배급사에 따른 독립예술 영화 매출 추이\", \n",
        "             color = \"배급사구분\", hover_name = \"배급사구분\", \n",
        "             hover_data=[\"매출액비중\"], log_x = True)\n",
        "# fig.update_traces(texttemplate='%{text}원', textposition='inside')\n",
        "fig.show()"
      ],
      "execution_count": null,
      "outputs": [
        {
          "output_type": "display_data",
          "data": {
            "text/html": [
              "<html>\n",
              "<head><meta charset=\"utf-8\" /></head>\n",
              "<body>\n",
              "    <div>            <script src=\"https://cdnjs.cloudflare.com/ajax/libs/mathjax/2.7.5/MathJax.js?config=TeX-AMS-MML_SVG\"></script><script type=\"text/javascript\">if (window.MathJax) {MathJax.Hub.Config({SVG: {font: \"STIX-Web\"}});}</script>                <script type=\"text/javascript\">window.PlotlyConfig = {MathJaxConfig: 'local'};</script>\n",
              "        <script src=\"https://cdn.plot.ly/plotly-2.3.1.min.js\"></script>                <div id=\"3b28f3c2-b383-4363-9ce7-5eb2f87d96e5\" class=\"plotly-graph-div\" style=\"height:525px; width:100%;\"></div>            <script type=\"text/javascript\">                                    window.PLOTLYENV=window.PLOTLYENV || {};                                    if (document.getElementById(\"3b28f3c2-b383-4363-9ce7-5eb2f87d96e5\")) {                    Plotly.newPlot(                        \"3b28f3c2-b383-4363-9ce7-5eb2f87d96e5\",                        [{\"alignmentgroup\":\"True\",\"customdata\":[[49.00178710784691],[83.28099127442015],[95.29425430771977],[76.80287766423135],[76.12778601719315],[88.84952529545406],[85.5700892248024],[93.65567655350941],[75.37939924339543],[99.22453730798159]],\"hovertemplate\":\"<b>%{hovertext}</b><br><br>\\ubc30\\uae09\\uc0ac\\uad6c\\ubd84=\\uae30\\ud0c0\\ubc30\\uae09\\uc0ac<br>\\uac1c\\ubd09\\uc5f0\\ub3c4=%{x}<br>\\ubc30\\uae09\\uc0ac\\ub9e4\\ucd9c\\uc561=%{y}<br>\\ub9e4\\ucd9c\\uc561\\ube44\\uc911=%{customdata[0]}<extra></extra>\",\"hovertext\":[\"\\uae30\\ud0c0\\ubc30\\uae09\\uc0ac\",\"\\uae30\\ud0c0\\ubc30\\uae09\\uc0ac\",\"\\uae30\\ud0c0\\ubc30\\uae09\\uc0ac\",\"\\uae30\\ud0c0\\ubc30\\uae09\\uc0ac\",\"\\uae30\\ud0c0\\ubc30\\uae09\\uc0ac\",\"\\uae30\\ud0c0\\ubc30\\uae09\\uc0ac\",\"\\uae30\\ud0c0\\ubc30\\uae09\\uc0ac\",\"\\uae30\\ud0c0\\ubc30\\uae09\\uc0ac\",\"\\uae30\\ud0c0\\ubc30\\uae09\\uc0ac\",\"\\uae30\\ud0c0\\ubc30\\uae09\\uc0ac\"],\"legendgroup\":\"\\uae30\\ud0c0\\ubc30\\uae09\\uc0ac\",\"marker\":{\"color\":\"#636efa\",\"pattern\":{\"shape\":\"\"}},\"name\":\"\\uae30\\ud0c0\\ubc30\\uae09\\uc0ac\",\"offsetgroup\":\"\\uae30\\ud0c0\\ubc30\\uae09\\uc0ac\",\"orientation\":\"v\",\"showlegend\":true,\"textposition\":\"auto\",\"type\":\"bar\",\"x\":[2011,2012,2013,2014,2015,2016,2017,2018,2019,2020],\"xaxis\":\"x\",\"y\":[13400617900,26211994507,50213777342,120038064846,57501399938,61154579209,61830852685,64266674083,52394508165,30633934719],\"yaxis\":\"y\"},{\"alignmentgroup\":\"True\",\"customdata\":[[50.99821289215309],[16.719008725579855],[4.705745692280228],[23.197122335768654],[23.872213982806855],[11.150474704545939],[14.4299107751976],[6.344323446490583],[24.620600756604567],[0.7754626920183988]],\"hovertemplate\":\"<b>%{hovertext}</b><br><br>\\ubc30\\uae09\\uc0ac\\uad6c\\ubd84=\\ub300\\ud615\\ubc30\\uae09\\uc0ac<br>\\uac1c\\ubd09\\uc5f0\\ub3c4=%{x}<br>\\ubc30\\uae09\\uc0ac\\ub9e4\\ucd9c\\uc561=%{y}<br>\\ub9e4\\ucd9c\\uc561\\ube44\\uc911=%{customdata[0]}<extra></extra>\",\"hovertext\":[\"\\ub300\\ud615\\ubc30\\uae09\\uc0ac\",\"\\ub300\\ud615\\ubc30\\uae09\\uc0ac\",\"\\ub300\\ud615\\ubc30\\uae09\\uc0ac\",\"\\ub300\\ud615\\ubc30\\uae09\\uc0ac\",\"\\ub300\\ud615\\ubc30\\uae09\\uc0ac\",\"\\ub300\\ud615\\ubc30\\uae09\\uc0ac\",\"\\ub300\\ud615\\ubc30\\uae09\\uc0ac\",\"\\ub300\\ud615\\ubc30\\uae09\\uc0ac\",\"\\ub300\\ud615\\ubc30\\uae09\\uc0ac\",\"\\ub300\\ud615\\ubc30\\uae09\\uc0ac\"],\"legendgroup\":\"\\ub300\\ud615\\ubc30\\uae09\\uc0ac\",\"marker\":{\"color\":\"#EF553B\",\"pattern\":{\"shape\":\"\"}},\"name\":\"\\ub300\\ud615\\ubc30\\uae09\\uc0ac\",\"offsetgroup\":\"\\ub300\\ud615\\ubc30\\uae09\\uc0ac\",\"orientation\":\"v\",\"showlegend\":true,\"textposition\":\"auto\",\"type\":\"bar\",\"x\":[2011,2012,2013,2014,2015,2016,2017,2018,2019,2020],\"xaxis\":\"x\",\"y\":[13946584500,5262167971,2479617141,36255642495,18031336460,7674802834,10426700445,4353484831,17113220327,239411280],\"yaxis\":\"y\"}],                        {\"barmode\":\"relative\",\"legend\":{\"title\":{\"text\":\"\\ubc30\\uae09\\uc0ac\\uad6c\\ubd84\"},\"tracegroupgap\":0},\"template\":{\"data\":{\"bar\":[{\"error_x\":{\"color\":\"#2a3f5f\"},\"error_y\":{\"color\":\"#2a3f5f\"},\"marker\":{\"line\":{\"color\":\"#E5ECF6\",\"width\":0.5},\"pattern\":{\"fillmode\":\"overlay\",\"size\":10,\"solidity\":0.2}},\"type\":\"bar\"}],\"barpolar\":[{\"marker\":{\"line\":{\"color\":\"#E5ECF6\",\"width\":0.5},\"pattern\":{\"fillmode\":\"overlay\",\"size\":10,\"solidity\":0.2}},\"type\":\"barpolar\"}],\"carpet\":[{\"aaxis\":{\"endlinecolor\":\"#2a3f5f\",\"gridcolor\":\"white\",\"linecolor\":\"white\",\"minorgridcolor\":\"white\",\"startlinecolor\":\"#2a3f5f\"},\"baxis\":{\"endlinecolor\":\"#2a3f5f\",\"gridcolor\":\"white\",\"linecolor\":\"white\",\"minorgridcolor\":\"white\",\"startlinecolor\":\"#2a3f5f\"},\"type\":\"carpet\"}],\"choropleth\":[{\"colorbar\":{\"outlinewidth\":0,\"ticks\":\"\"},\"type\":\"choropleth\"}],\"contour\":[{\"colorbar\":{\"outlinewidth\":0,\"ticks\":\"\"},\"colorscale\":[[0.0,\"#0d0887\"],[0.1111111111111111,\"#46039f\"],[0.2222222222222222,\"#7201a8\"],[0.3333333333333333,\"#9c179e\"],[0.4444444444444444,\"#bd3786\"],[0.5555555555555556,\"#d8576b\"],[0.6666666666666666,\"#ed7953\"],[0.7777777777777778,\"#fb9f3a\"],[0.8888888888888888,\"#fdca26\"],[1.0,\"#f0f921\"]],\"type\":\"contour\"}],\"contourcarpet\":[{\"colorbar\":{\"outlinewidth\":0,\"ticks\":\"\"},\"type\":\"contourcarpet\"}],\"heatmap\":[{\"colorbar\":{\"outlinewidth\":0,\"ticks\":\"\"},\"colorscale\":[[0.0,\"#0d0887\"],[0.1111111111111111,\"#46039f\"],[0.2222222222222222,\"#7201a8\"],[0.3333333333333333,\"#9c179e\"],[0.4444444444444444,\"#bd3786\"],[0.5555555555555556,\"#d8576b\"],[0.6666666666666666,\"#ed7953\"],[0.7777777777777778,\"#fb9f3a\"],[0.8888888888888888,\"#fdca26\"],[1.0,\"#f0f921\"]],\"type\":\"heatmap\"}],\"heatmapgl\":[{\"colorbar\":{\"outlinewidth\":0,\"ticks\":\"\"},\"colorscale\":[[0.0,\"#0d0887\"],[0.1111111111111111,\"#46039f\"],[0.2222222222222222,\"#7201a8\"],[0.3333333333333333,\"#9c179e\"],[0.4444444444444444,\"#bd3786\"],[0.5555555555555556,\"#d8576b\"],[0.6666666666666666,\"#ed7953\"],[0.7777777777777778,\"#fb9f3a\"],[0.8888888888888888,\"#fdca26\"],[1.0,\"#f0f921\"]],\"type\":\"heatmapgl\"}],\"histogram\":[{\"marker\":{\"pattern\":{\"fillmode\":\"overlay\",\"size\":10,\"solidity\":0.2}},\"type\":\"histogram\"}],\"histogram2d\":[{\"colorbar\":{\"outlinewidth\":0,\"ticks\":\"\"},\"colorscale\":[[0.0,\"#0d0887\"],[0.1111111111111111,\"#46039f\"],[0.2222222222222222,\"#7201a8\"],[0.3333333333333333,\"#9c179e\"],[0.4444444444444444,\"#bd3786\"],[0.5555555555555556,\"#d8576b\"],[0.6666666666666666,\"#ed7953\"],[0.7777777777777778,\"#fb9f3a\"],[0.8888888888888888,\"#fdca26\"],[1.0,\"#f0f921\"]],\"type\":\"histogram2d\"}],\"histogram2dcontour\":[{\"colorbar\":{\"outlinewidth\":0,\"ticks\":\"\"},\"colorscale\":[[0.0,\"#0d0887\"],[0.1111111111111111,\"#46039f\"],[0.2222222222222222,\"#7201a8\"],[0.3333333333333333,\"#9c179e\"],[0.4444444444444444,\"#bd3786\"],[0.5555555555555556,\"#d8576b\"],[0.6666666666666666,\"#ed7953\"],[0.7777777777777778,\"#fb9f3a\"],[0.8888888888888888,\"#fdca26\"],[1.0,\"#f0f921\"]],\"type\":\"histogram2dcontour\"}],\"mesh3d\":[{\"colorbar\":{\"outlinewidth\":0,\"ticks\":\"\"},\"type\":\"mesh3d\"}],\"parcoords\":[{\"line\":{\"colorbar\":{\"outlinewidth\":0,\"ticks\":\"\"}},\"type\":\"parcoords\"}],\"pie\":[{\"automargin\":true,\"type\":\"pie\"}],\"scatter\":[{\"marker\":{\"colorbar\":{\"outlinewidth\":0,\"ticks\":\"\"}},\"type\":\"scatter\"}],\"scatter3d\":[{\"line\":{\"colorbar\":{\"outlinewidth\":0,\"ticks\":\"\"}},\"marker\":{\"colorbar\":{\"outlinewidth\":0,\"ticks\":\"\"}},\"type\":\"scatter3d\"}],\"scattercarpet\":[{\"marker\":{\"colorbar\":{\"outlinewidth\":0,\"ticks\":\"\"}},\"type\":\"scattercarpet\"}],\"scattergeo\":[{\"marker\":{\"colorbar\":{\"outlinewidth\":0,\"ticks\":\"\"}},\"type\":\"scattergeo\"}],\"scattergl\":[{\"marker\":{\"colorbar\":{\"outlinewidth\":0,\"ticks\":\"\"}},\"type\":\"scattergl\"}],\"scattermapbox\":[{\"marker\":{\"colorbar\":{\"outlinewidth\":0,\"ticks\":\"\"}},\"type\":\"scattermapbox\"}],\"scatterpolar\":[{\"marker\":{\"colorbar\":{\"outlinewidth\":0,\"ticks\":\"\"}},\"type\":\"scatterpolar\"}],\"scatterpolargl\":[{\"marker\":{\"colorbar\":{\"outlinewidth\":0,\"ticks\":\"\"}},\"type\":\"scatterpolargl\"}],\"scatterternary\":[{\"marker\":{\"colorbar\":{\"outlinewidth\":0,\"ticks\":\"\"}},\"type\":\"scatterternary\"}],\"surface\":[{\"colorbar\":{\"outlinewidth\":0,\"ticks\":\"\"},\"colorscale\":[[0.0,\"#0d0887\"],[0.1111111111111111,\"#46039f\"],[0.2222222222222222,\"#7201a8\"],[0.3333333333333333,\"#9c179e\"],[0.4444444444444444,\"#bd3786\"],[0.5555555555555556,\"#d8576b\"],[0.6666666666666666,\"#ed7953\"],[0.7777777777777778,\"#fb9f3a\"],[0.8888888888888888,\"#fdca26\"],[1.0,\"#f0f921\"]],\"type\":\"surface\"}],\"table\":[{\"cells\":{\"fill\":{\"color\":\"#EBF0F8\"},\"line\":{\"color\":\"white\"}},\"header\":{\"fill\":{\"color\":\"#C8D4E3\"},\"line\":{\"color\":\"white\"}},\"type\":\"table\"}]},\"layout\":{\"annotationdefaults\":{\"arrowcolor\":\"#2a3f5f\",\"arrowhead\":0,\"arrowwidth\":1},\"autotypenumbers\":\"strict\",\"coloraxis\":{\"colorbar\":{\"outlinewidth\":0,\"ticks\":\"\"}},\"colorscale\":{\"diverging\":[[0,\"#8e0152\"],[0.1,\"#c51b7d\"],[0.2,\"#de77ae\"],[0.3,\"#f1b6da\"],[0.4,\"#fde0ef\"],[0.5,\"#f7f7f7\"],[0.6,\"#e6f5d0\"],[0.7,\"#b8e186\"],[0.8,\"#7fbc41\"],[0.9,\"#4d9221\"],[1,\"#276419\"]],\"sequential\":[[0.0,\"#0d0887\"],[0.1111111111111111,\"#46039f\"],[0.2222222222222222,\"#7201a8\"],[0.3333333333333333,\"#9c179e\"],[0.4444444444444444,\"#bd3786\"],[0.5555555555555556,\"#d8576b\"],[0.6666666666666666,\"#ed7953\"],[0.7777777777777778,\"#fb9f3a\"],[0.8888888888888888,\"#fdca26\"],[1.0,\"#f0f921\"]],\"sequentialminus\":[[0.0,\"#0d0887\"],[0.1111111111111111,\"#46039f\"],[0.2222222222222222,\"#7201a8\"],[0.3333333333333333,\"#9c179e\"],[0.4444444444444444,\"#bd3786\"],[0.5555555555555556,\"#d8576b\"],[0.6666666666666666,\"#ed7953\"],[0.7777777777777778,\"#fb9f3a\"],[0.8888888888888888,\"#fdca26\"],[1.0,\"#f0f921\"]]},\"colorway\":[\"#636efa\",\"#EF553B\",\"#00cc96\",\"#ab63fa\",\"#FFA15A\",\"#19d3f3\",\"#FF6692\",\"#B6E880\",\"#FF97FF\",\"#FECB52\"],\"font\":{\"color\":\"#2a3f5f\"},\"geo\":{\"bgcolor\":\"white\",\"lakecolor\":\"white\",\"landcolor\":\"#E5ECF6\",\"showlakes\":true,\"showland\":true,\"subunitcolor\":\"white\"},\"hoverlabel\":{\"align\":\"left\"},\"hovermode\":\"closest\",\"mapbox\":{\"style\":\"light\"},\"paper_bgcolor\":\"white\",\"plot_bgcolor\":\"#E5ECF6\",\"polar\":{\"angularaxis\":{\"gridcolor\":\"white\",\"linecolor\":\"white\",\"ticks\":\"\"},\"bgcolor\":\"#E5ECF6\",\"radialaxis\":{\"gridcolor\":\"white\",\"linecolor\":\"white\",\"ticks\":\"\"}},\"scene\":{\"xaxis\":{\"backgroundcolor\":\"#E5ECF6\",\"gridcolor\":\"white\",\"gridwidth\":2,\"linecolor\":\"white\",\"showbackground\":true,\"ticks\":\"\",\"zerolinecolor\":\"white\"},\"yaxis\":{\"backgroundcolor\":\"#E5ECF6\",\"gridcolor\":\"white\",\"gridwidth\":2,\"linecolor\":\"white\",\"showbackground\":true,\"ticks\":\"\",\"zerolinecolor\":\"white\"},\"zaxis\":{\"backgroundcolor\":\"#E5ECF6\",\"gridcolor\":\"white\",\"gridwidth\":2,\"linecolor\":\"white\",\"showbackground\":true,\"ticks\":\"\",\"zerolinecolor\":\"white\"}},\"shapedefaults\":{\"line\":{\"color\":\"#2a3f5f\"}},\"ternary\":{\"aaxis\":{\"gridcolor\":\"white\",\"linecolor\":\"white\",\"ticks\":\"\"},\"baxis\":{\"gridcolor\":\"white\",\"linecolor\":\"white\",\"ticks\":\"\"},\"bgcolor\":\"#E5ECF6\",\"caxis\":{\"gridcolor\":\"white\",\"linecolor\":\"white\",\"ticks\":\"\"}},\"title\":{\"x\":0.05},\"xaxis\":{\"automargin\":true,\"gridcolor\":\"white\",\"linecolor\":\"white\",\"ticks\":\"\",\"title\":{\"standoff\":15},\"zerolinecolor\":\"white\",\"zerolinewidth\":2},\"yaxis\":{\"automargin\":true,\"gridcolor\":\"white\",\"linecolor\":\"white\",\"ticks\":\"\",\"title\":{\"standoff\":15},\"zerolinecolor\":\"white\",\"zerolinewidth\":2}}},\"title\":{\"text\":\"\\uc5f0\\ub3c4 \\ubcc4 \\ubc30\\uae09\\uc0ac\\uc5d0 \\ub530\\ub978 \\ub3c5\\ub9bd\\uc608\\uc220 \\uc601\\ud654 \\ub9e4\\ucd9c \\ucd94\\uc774\"},\"xaxis\":{\"anchor\":\"y\",\"domain\":[0.0,1.0],\"title\":{\"text\":\"\\uac1c\\ubd09\\uc5f0\\ub3c4\"},\"type\":\"log\"},\"yaxis\":{\"anchor\":\"x\",\"domain\":[0.0,1.0],\"title\":{\"text\":\"\\ubc30\\uae09\\uc0ac\\ub9e4\\ucd9c\\uc561\"}}},                        {\"responsive\": true}                    ).then(function(){\n",
              "                            \n",
              "var gd = document.getElementById('3b28f3c2-b383-4363-9ce7-5eb2f87d96e5');\n",
              "var x = new MutationObserver(function (mutations, observer) {{\n",
              "        var display = window.getComputedStyle(gd).display;\n",
              "        if (!display || display === 'none') {{\n",
              "            console.log([gd, 'removed!']);\n",
              "            Plotly.purge(gd);\n",
              "            observer.disconnect();\n",
              "        }}\n",
              "}});\n",
              "\n",
              "// Listen for the removal of the full notebook cells\n",
              "var notebookContainer = gd.closest('#notebook-container');\n",
              "if (notebookContainer) {{\n",
              "    x.observe(notebookContainer, {childList: true});\n",
              "}}\n",
              "\n",
              "// Listen for the clearing of the current output cell\n",
              "var outputEl = gd.closest('.output');\n",
              "if (outputEl) {{\n",
              "    x.observe(outputEl, {childList: true});\n",
              "}}\n",
              "\n",
              "                        })                };                            </script>        </div>\n",
              "</body>\n",
              "</html>"
            ]
          },
          "metadata": {}
        }
      ]
    },
    {
      "cell_type": "code",
      "metadata": {
        "colab": {
          "base_uri": "https://localhost:8080/",
          "height": 542
        },
        "id": "cKuZ0bBBWI4p",
        "outputId": "36b211c4-475b-4e0d-ab3a-d1b756226d20"
      },
      "source": [
        "# 대형 배급사의 파이에서 CJ 계열이 얼마나 많은 영향력을 행사했는지 확인해봤다. \n",
        "# 영화 편수를 봤을 때 CJ계열이 차지하는 비중은 60%로 과반수 이상을 차지하는 것을 확인할 수 있다. 특히 이 중 CGV아트하우스는 전채 편수의 49.5%를 담당했다. \n",
        "new_movies_art_big5 = new_movies_art[new_movies_art['배급사구분']=='대형배급사']\n",
        "new_movies_art_big5_count_tot = new_movies_art_big5.groupby('배급사').size().reset_index(name='배급영화수')\n",
        "\n",
        "\n",
        "fig = px.pie(new_movies_art_big5_count_tot, values='배급영화수', names='배급사',\n",
        "             color_discrete_sequence=px.colors.sequential.Magenta_r,\n",
        "             hole=.3,\n",
        "             title='2011년~2020년간 제작된 독립예술영화의 배급사 구분 별 배급편수 비중')\n",
        "fig.update_traces(textposition='inside', textinfo='percent+label')\n",
        "fig.show()"
      ],
      "execution_count": null,
      "outputs": [
        {
          "output_type": "display_data",
          "data": {
            "text/html": [
              "<html>\n",
              "<head><meta charset=\"utf-8\" /></head>\n",
              "<body>\n",
              "    <div>            <script src=\"https://cdnjs.cloudflare.com/ajax/libs/mathjax/2.7.5/MathJax.js?config=TeX-AMS-MML_SVG\"></script><script type=\"text/javascript\">if (window.MathJax) {MathJax.Hub.Config({SVG: {font: \"STIX-Web\"}});}</script>                <script type=\"text/javascript\">window.PlotlyConfig = {MathJaxConfig: 'local'};</script>\n",
              "        <script src=\"https://cdn.plot.ly/plotly-2.3.1.min.js\"></script>                <div id=\"ba2173c4-4c51-48c0-8319-b4b35644bf9b\" class=\"plotly-graph-div\" style=\"height:525px; width:100%;\"></div>            <script type=\"text/javascript\">                                    window.PLOTLYENV=window.PLOTLYENV || {};                                    if (document.getElementById(\"ba2173c4-4c51-48c0-8319-b4b35644bf9b\")) {                    Plotly.newPlot(                        \"ba2173c4-4c51-48c0-8319-b4b35644bf9b\",                        [{\"domain\":{\"x\":[0.0,1.0],\"y\":[0.0,1.0]},\"hole\":0.3,\"hovertemplate\":\"\\ubc30\\uae09\\uc0ac=%{label}<br>\\ubc30\\uae09\\uc601\\ud654\\uc218=%{value}<extra></extra>\",\"labels\":[\"(\\uc8fc)\\ub125\\uc2a4\\ud2b8\\uc5d4\\ud130\\ud14c\\uc778\\uba3c\\ud2b8\\uc6d4\\ub4dc(NEW)\",\"(\\uc8fc)\\uc1fc\\ubc15\\uc2a4\",\"(\\uc8fc)\\uc528\\uc81c\\uc774\\uc774\\uc5d4\\uc5e0\",\"CGV\\uc544\\ud2b8\\ud558\\uc6b0\\uc2a4\",\"\\ub86f\\ub370\\uc1fc\\ud551\\u321c\\ub86f\\ub370\\uc5d4\\ud130\\ud14c\\uc778\\uba3c\\ud2b8\",\"\\ub86f\\ub370\\uceec\\ucc98\\uc6cd\\uc2a4(\\uc8fc)\\ub86f\\ub370\\uc5d4\\ud130\\ud14c\\uc778\\uba3c\\ud2b8\"],\"legendgroup\":\"\",\"name\":\"\",\"showlegend\":true,\"textinfo\":\"percent+label\",\"textposition\":\"inside\",\"type\":\"pie\",\"values\":[20,2,11,52,14,6]}],                        {\"legend\":{\"tracegroupgap\":0},\"piecolorway\":[\"rgb(108, 33, 103)\",\"rgb(145, 53, 125)\",\"rgb(177, 77, 142)\",\"rgb(202, 105, 157)\",\"rgb(221, 136, 172)\",\"rgb(234, 169, 189)\",\"rgb(243, 203, 211)\"],\"template\":{\"data\":{\"bar\":[{\"error_x\":{\"color\":\"#2a3f5f\"},\"error_y\":{\"color\":\"#2a3f5f\"},\"marker\":{\"line\":{\"color\":\"#E5ECF6\",\"width\":0.5},\"pattern\":{\"fillmode\":\"overlay\",\"size\":10,\"solidity\":0.2}},\"type\":\"bar\"}],\"barpolar\":[{\"marker\":{\"line\":{\"color\":\"#E5ECF6\",\"width\":0.5},\"pattern\":{\"fillmode\":\"overlay\",\"size\":10,\"solidity\":0.2}},\"type\":\"barpolar\"}],\"carpet\":[{\"aaxis\":{\"endlinecolor\":\"#2a3f5f\",\"gridcolor\":\"white\",\"linecolor\":\"white\",\"minorgridcolor\":\"white\",\"startlinecolor\":\"#2a3f5f\"},\"baxis\":{\"endlinecolor\":\"#2a3f5f\",\"gridcolor\":\"white\",\"linecolor\":\"white\",\"minorgridcolor\":\"white\",\"startlinecolor\":\"#2a3f5f\"},\"type\":\"carpet\"}],\"choropleth\":[{\"colorbar\":{\"outlinewidth\":0,\"ticks\":\"\"},\"type\":\"choropleth\"}],\"contour\":[{\"colorbar\":{\"outlinewidth\":0,\"ticks\":\"\"},\"colorscale\":[[0.0,\"#0d0887\"],[0.1111111111111111,\"#46039f\"],[0.2222222222222222,\"#7201a8\"],[0.3333333333333333,\"#9c179e\"],[0.4444444444444444,\"#bd3786\"],[0.5555555555555556,\"#d8576b\"],[0.6666666666666666,\"#ed7953\"],[0.7777777777777778,\"#fb9f3a\"],[0.8888888888888888,\"#fdca26\"],[1.0,\"#f0f921\"]],\"type\":\"contour\"}],\"contourcarpet\":[{\"colorbar\":{\"outlinewidth\":0,\"ticks\":\"\"},\"type\":\"contourcarpet\"}],\"heatmap\":[{\"colorbar\":{\"outlinewidth\":0,\"ticks\":\"\"},\"colorscale\":[[0.0,\"#0d0887\"],[0.1111111111111111,\"#46039f\"],[0.2222222222222222,\"#7201a8\"],[0.3333333333333333,\"#9c179e\"],[0.4444444444444444,\"#bd3786\"],[0.5555555555555556,\"#d8576b\"],[0.6666666666666666,\"#ed7953\"],[0.7777777777777778,\"#fb9f3a\"],[0.8888888888888888,\"#fdca26\"],[1.0,\"#f0f921\"]],\"type\":\"heatmap\"}],\"heatmapgl\":[{\"colorbar\":{\"outlinewidth\":0,\"ticks\":\"\"},\"colorscale\":[[0.0,\"#0d0887\"],[0.1111111111111111,\"#46039f\"],[0.2222222222222222,\"#7201a8\"],[0.3333333333333333,\"#9c179e\"],[0.4444444444444444,\"#bd3786\"],[0.5555555555555556,\"#d8576b\"],[0.6666666666666666,\"#ed7953\"],[0.7777777777777778,\"#fb9f3a\"],[0.8888888888888888,\"#fdca26\"],[1.0,\"#f0f921\"]],\"type\":\"heatmapgl\"}],\"histogram\":[{\"marker\":{\"pattern\":{\"fillmode\":\"overlay\",\"size\":10,\"solidity\":0.2}},\"type\":\"histogram\"}],\"histogram2d\":[{\"colorbar\":{\"outlinewidth\":0,\"ticks\":\"\"},\"colorscale\":[[0.0,\"#0d0887\"],[0.1111111111111111,\"#46039f\"],[0.2222222222222222,\"#7201a8\"],[0.3333333333333333,\"#9c179e\"],[0.4444444444444444,\"#bd3786\"],[0.5555555555555556,\"#d8576b\"],[0.6666666666666666,\"#ed7953\"],[0.7777777777777778,\"#fb9f3a\"],[0.8888888888888888,\"#fdca26\"],[1.0,\"#f0f921\"]],\"type\":\"histogram2d\"}],\"histogram2dcontour\":[{\"colorbar\":{\"outlinewidth\":0,\"ticks\":\"\"},\"colorscale\":[[0.0,\"#0d0887\"],[0.1111111111111111,\"#46039f\"],[0.2222222222222222,\"#7201a8\"],[0.3333333333333333,\"#9c179e\"],[0.4444444444444444,\"#bd3786\"],[0.5555555555555556,\"#d8576b\"],[0.6666666666666666,\"#ed7953\"],[0.7777777777777778,\"#fb9f3a\"],[0.8888888888888888,\"#fdca26\"],[1.0,\"#f0f921\"]],\"type\":\"histogram2dcontour\"}],\"mesh3d\":[{\"colorbar\":{\"outlinewidth\":0,\"ticks\":\"\"},\"type\":\"mesh3d\"}],\"parcoords\":[{\"line\":{\"colorbar\":{\"outlinewidth\":0,\"ticks\":\"\"}},\"type\":\"parcoords\"}],\"pie\":[{\"automargin\":true,\"type\":\"pie\"}],\"scatter\":[{\"marker\":{\"colorbar\":{\"outlinewidth\":0,\"ticks\":\"\"}},\"type\":\"scatter\"}],\"scatter3d\":[{\"line\":{\"colorbar\":{\"outlinewidth\":0,\"ticks\":\"\"}},\"marker\":{\"colorbar\":{\"outlinewidth\":0,\"ticks\":\"\"}},\"type\":\"scatter3d\"}],\"scattercarpet\":[{\"marker\":{\"colorbar\":{\"outlinewidth\":0,\"ticks\":\"\"}},\"type\":\"scattercarpet\"}],\"scattergeo\":[{\"marker\":{\"colorbar\":{\"outlinewidth\":0,\"ticks\":\"\"}},\"type\":\"scattergeo\"}],\"scattergl\":[{\"marker\":{\"colorbar\":{\"outlinewidth\":0,\"ticks\":\"\"}},\"type\":\"scattergl\"}],\"scattermapbox\":[{\"marker\":{\"colorbar\":{\"outlinewidth\":0,\"ticks\":\"\"}},\"type\":\"scattermapbox\"}],\"scatterpolar\":[{\"marker\":{\"colorbar\":{\"outlinewidth\":0,\"ticks\":\"\"}},\"type\":\"scatterpolar\"}],\"scatterpolargl\":[{\"marker\":{\"colorbar\":{\"outlinewidth\":0,\"ticks\":\"\"}},\"type\":\"scatterpolargl\"}],\"scatterternary\":[{\"marker\":{\"colorbar\":{\"outlinewidth\":0,\"ticks\":\"\"}},\"type\":\"scatterternary\"}],\"surface\":[{\"colorbar\":{\"outlinewidth\":0,\"ticks\":\"\"},\"colorscale\":[[0.0,\"#0d0887\"],[0.1111111111111111,\"#46039f\"],[0.2222222222222222,\"#7201a8\"],[0.3333333333333333,\"#9c179e\"],[0.4444444444444444,\"#bd3786\"],[0.5555555555555556,\"#d8576b\"],[0.6666666666666666,\"#ed7953\"],[0.7777777777777778,\"#fb9f3a\"],[0.8888888888888888,\"#fdca26\"],[1.0,\"#f0f921\"]],\"type\":\"surface\"}],\"table\":[{\"cells\":{\"fill\":{\"color\":\"#EBF0F8\"},\"line\":{\"color\":\"white\"}},\"header\":{\"fill\":{\"color\":\"#C8D4E3\"},\"line\":{\"color\":\"white\"}},\"type\":\"table\"}]},\"layout\":{\"annotationdefaults\":{\"arrowcolor\":\"#2a3f5f\",\"arrowhead\":0,\"arrowwidth\":1},\"autotypenumbers\":\"strict\",\"coloraxis\":{\"colorbar\":{\"outlinewidth\":0,\"ticks\":\"\"}},\"colorscale\":{\"diverging\":[[0,\"#8e0152\"],[0.1,\"#c51b7d\"],[0.2,\"#de77ae\"],[0.3,\"#f1b6da\"],[0.4,\"#fde0ef\"],[0.5,\"#f7f7f7\"],[0.6,\"#e6f5d0\"],[0.7,\"#b8e186\"],[0.8,\"#7fbc41\"],[0.9,\"#4d9221\"],[1,\"#276419\"]],\"sequential\":[[0.0,\"#0d0887\"],[0.1111111111111111,\"#46039f\"],[0.2222222222222222,\"#7201a8\"],[0.3333333333333333,\"#9c179e\"],[0.4444444444444444,\"#bd3786\"],[0.5555555555555556,\"#d8576b\"],[0.6666666666666666,\"#ed7953\"],[0.7777777777777778,\"#fb9f3a\"],[0.8888888888888888,\"#fdca26\"],[1.0,\"#f0f921\"]],\"sequentialminus\":[[0.0,\"#0d0887\"],[0.1111111111111111,\"#46039f\"],[0.2222222222222222,\"#7201a8\"],[0.3333333333333333,\"#9c179e\"],[0.4444444444444444,\"#bd3786\"],[0.5555555555555556,\"#d8576b\"],[0.6666666666666666,\"#ed7953\"],[0.7777777777777778,\"#fb9f3a\"],[0.8888888888888888,\"#fdca26\"],[1.0,\"#f0f921\"]]},\"colorway\":[\"#636efa\",\"#EF553B\",\"#00cc96\",\"#ab63fa\",\"#FFA15A\",\"#19d3f3\",\"#FF6692\",\"#B6E880\",\"#FF97FF\",\"#FECB52\"],\"font\":{\"color\":\"#2a3f5f\"},\"geo\":{\"bgcolor\":\"white\",\"lakecolor\":\"white\",\"landcolor\":\"#E5ECF6\",\"showlakes\":true,\"showland\":true,\"subunitcolor\":\"white\"},\"hoverlabel\":{\"align\":\"left\"},\"hovermode\":\"closest\",\"mapbox\":{\"style\":\"light\"},\"paper_bgcolor\":\"white\",\"plot_bgcolor\":\"#E5ECF6\",\"polar\":{\"angularaxis\":{\"gridcolor\":\"white\",\"linecolor\":\"white\",\"ticks\":\"\"},\"bgcolor\":\"#E5ECF6\",\"radialaxis\":{\"gridcolor\":\"white\",\"linecolor\":\"white\",\"ticks\":\"\"}},\"scene\":{\"xaxis\":{\"backgroundcolor\":\"#E5ECF6\",\"gridcolor\":\"white\",\"gridwidth\":2,\"linecolor\":\"white\",\"showbackground\":true,\"ticks\":\"\",\"zerolinecolor\":\"white\"},\"yaxis\":{\"backgroundcolor\":\"#E5ECF6\",\"gridcolor\":\"white\",\"gridwidth\":2,\"linecolor\":\"white\",\"showbackground\":true,\"ticks\":\"\",\"zerolinecolor\":\"white\"},\"zaxis\":{\"backgroundcolor\":\"#E5ECF6\",\"gridcolor\":\"white\",\"gridwidth\":2,\"linecolor\":\"white\",\"showbackground\":true,\"ticks\":\"\",\"zerolinecolor\":\"white\"}},\"shapedefaults\":{\"line\":{\"color\":\"#2a3f5f\"}},\"ternary\":{\"aaxis\":{\"gridcolor\":\"white\",\"linecolor\":\"white\",\"ticks\":\"\"},\"baxis\":{\"gridcolor\":\"white\",\"linecolor\":\"white\",\"ticks\":\"\"},\"bgcolor\":\"#E5ECF6\",\"caxis\":{\"gridcolor\":\"white\",\"linecolor\":\"white\",\"ticks\":\"\"}},\"title\":{\"x\":0.05},\"xaxis\":{\"automargin\":true,\"gridcolor\":\"white\",\"linecolor\":\"white\",\"ticks\":\"\",\"title\":{\"standoff\":15},\"zerolinecolor\":\"white\",\"zerolinewidth\":2},\"yaxis\":{\"automargin\":true,\"gridcolor\":\"white\",\"linecolor\":\"white\",\"ticks\":\"\",\"title\":{\"standoff\":15},\"zerolinecolor\":\"white\",\"zerolinewidth\":2}}},\"title\":{\"text\":\"2011\\ub144~2020\\ub144\\uac04 \\uc81c\\uc791\\ub41c \\ub3c5\\ub9bd\\uc608\\uc220\\uc601\\ud654\\uc758 \\ubc30\\uae09\\uc0ac \\uad6c\\ubd84 \\ubcc4 \\ubc30\\uae09\\ud3b8\\uc218 \\ube44\\uc911\"}},                        {\"responsive\": true}                    ).then(function(){\n",
              "                            \n",
              "var gd = document.getElementById('ba2173c4-4c51-48c0-8319-b4b35644bf9b');\n",
              "var x = new MutationObserver(function (mutations, observer) {{\n",
              "        var display = window.getComputedStyle(gd).display;\n",
              "        if (!display || display === 'none') {{\n",
              "            console.log([gd, 'removed!']);\n",
              "            Plotly.purge(gd);\n",
              "            observer.disconnect();\n",
              "        }}\n",
              "}});\n",
              "\n",
              "// Listen for the removal of the full notebook cells\n",
              "var notebookContainer = gd.closest('#notebook-container');\n",
              "if (notebookContainer) {{\n",
              "    x.observe(notebookContainer, {childList: true});\n",
              "}}\n",
              "\n",
              "// Listen for the clearing of the current output cell\n",
              "var outputEl = gd.closest('.output');\n",
              "if (outputEl) {{\n",
              "    x.observe(outputEl, {childList: true});\n",
              "}}\n",
              "\n",
              "                        })                };                            </script>        </div>\n",
              "</body>\n",
              "</html>"
            ]
          },
          "metadata": {}
        }
      ]
    },
    {
      "cell_type": "code",
      "metadata": {
        "colab": {
          "base_uri": "https://localhost:8080/",
          "height": 542
        },
        "id": "LBWT3JJgUN20",
        "outputId": "09afb949-dfff-4145-95f5-84b5e281e538"
      },
      "source": [
        "# 매출액 비중을 보더라도 CGV+CGV 아트하우스가 2011년 ~ 2020년 매출액의 49.07%를 차지하고 있음\n",
        "new_movies_art_big5 = new_movies_art[new_movies_art['배급사구분']=='대형배급사']\n",
        "\n",
        "fig = px.pie(new_movies_art_big5, values='전국매출액', names='배급사',\n",
        "             color_discrete_sequence=px.colors.sequential.Magenta_r,\n",
        "             hole=.3,\n",
        "             title='2011년~2020년간 제작된 독립예술영화의 배급사 구분 별 매출액 비중')\n",
        "fig.update_traces(textposition='inside', textinfo='percent+label')\n",
        "fig.show()"
      ],
      "execution_count": null,
      "outputs": [
        {
          "output_type": "display_data",
          "data": {
            "text/html": [
              "<html>\n",
              "<head><meta charset=\"utf-8\" /></head>\n",
              "<body>\n",
              "    <div>            <script src=\"https://cdnjs.cloudflare.com/ajax/libs/mathjax/2.7.5/MathJax.js?config=TeX-AMS-MML_SVG\"></script><script type=\"text/javascript\">if (window.MathJax) {MathJax.Hub.Config({SVG: {font: \"STIX-Web\"}});}</script>                <script type=\"text/javascript\">window.PlotlyConfig = {MathJaxConfig: 'local'};</script>\n",
              "        <script src=\"https://cdn.plot.ly/plotly-2.3.1.min.js\"></script>                <div id=\"9e7c5be4-a624-4e3b-825b-b57f22879b02\" class=\"plotly-graph-div\" style=\"height:525px; width:100%;\"></div>            <script type=\"text/javascript\">                                    window.PLOTLYENV=window.PLOTLYENV || {};                                    if (document.getElementById(\"9e7c5be4-a624-4e3b-825b-b57f22879b02\")) {                    Plotly.newPlot(                        \"9e7c5be4-a624-4e3b-825b-b57f22879b02\",                        [{\"domain\":{\"x\":[0.0,1.0],\"y\":[0.0,1.0]},\"hole\":0.3,\"hovertemplate\":\"\\ubc30\\uae09\\uc0ac=%{label}<br>\\uc804\\uad6d\\ub9e4\\ucd9c\\uc561=%{value}<extra></extra>\",\"labels\":[\"(\\uc8fc)\\ub125\\uc2a4\\ud2b8\\uc5d4\\ud130\\ud14c\\uc778\\uba3c\\ud2b8\\uc6d4\\ub4dc(NEW)\",\"\\ub86f\\ub370\\uc1fc\\ud551\\u321c\\ub86f\\ub370\\uc5d4\\ud130\\ud14c\\uc778\\uba3c\\ud2b8\",\"(\\uc8fc)\\ub125\\uc2a4\\ud2b8\\uc5d4\\ud130\\ud14c\\uc778\\uba3c\\ud2b8\\uc6d4\\ub4dc(NEW)\",\"(\\uc8fc)\\ub125\\uc2a4\\ud2b8\\uc5d4\\ud130\\ud14c\\uc778\\uba3c\\ud2b8\\uc6d4\\ub4dc(NEW)\",\"(\\uc8fc)\\uc528\\uc81c\\uc774\\uc774\\uc5d4\\uc5e0\",\"\\ub86f\\ub370\\uc1fc\\ud551\\u321c\\ub86f\\ub370\\uc5d4\\ud130\\ud14c\\uc778\\uba3c\\ud2b8\",\"(\\uc8fc)\\uc528\\uc81c\\uc774\\uc774\\uc5d4\\uc5e0\",\"\\ub86f\\ub370\\uc1fc\\ud551\\u321c\\ub86f\\ub370\\uc5d4\\ud130\\ud14c\\uc778\\uba3c\\ud2b8\",\"CGV\\uc544\\ud2b8\\ud558\\uc6b0\\uc2a4\",\"(\\uc8fc)\\ub125\\uc2a4\\ud2b8\\uc5d4\\ud130\\ud14c\\uc778\\uba3c\\ud2b8\\uc6d4\\ub4dc(NEW)\",\"\\ub86f\\ub370\\uc1fc\\ud551\\u321c\\ub86f\\ub370\\uc5d4\\ud130\\ud14c\\uc778\\uba3c\\ud2b8\",\"(\\uc8fc)\\ub125\\uc2a4\\ud2b8\\uc5d4\\ud130\\ud14c\\uc778\\uba3c\\ud2b8\\uc6d4\\ub4dc(NEW)\",\"CGV\\uc544\\ud2b8\\ud558\\uc6b0\\uc2a4\",\"(\\uc8fc)\\ub125\\uc2a4\\ud2b8\\uc5d4\\ud130\\ud14c\\uc778\\uba3c\\ud2b8\\uc6d4\\ub4dc(NEW)\",\"CGV\\uc544\\ud2b8\\ud558\\uc6b0\\uc2a4\",\"(\\uc8fc)\\uc528\\uc81c\\uc774\\uc774\\uc5d4\\uc5e0\",\"CGV\\uc544\\ud2b8\\ud558\\uc6b0\\uc2a4\",\"(\\uc8fc)\\uc528\\uc81c\\uc774\\uc774\\uc5d4\\uc5e0\",\"(\\uc8fc)\\uc528\\uc81c\\uc774\\uc774\\uc5d4\\uc5e0\",\"CGV\\uc544\\ud2b8\\ud558\\uc6b0\\uc2a4\",\"CGV\\uc544\\ud2b8\\ud558\\uc6b0\\uc2a4\",\"(\\uc8fc)\\uc1fc\\ubc15\\uc2a4\",\"CGV\\uc544\\ud2b8\\ud558\\uc6b0\\uc2a4\",\"(\\uc8fc)\\ub125\\uc2a4\\ud2b8\\uc5d4\\ud130\\ud14c\\uc778\\uba3c\\ud2b8\\uc6d4\\ub4dc(NEW)\",\"CGV\\uc544\\ud2b8\\ud558\\uc6b0\\uc2a4\",\"CGV\\uc544\\ud2b8\\ud558\\uc6b0\\uc2a4\",\"CGV\\uc544\\ud2b8\\ud558\\uc6b0\\uc2a4\",\"\\ub86f\\ub370\\uc1fc\\ud551\\u321c\\ub86f\\ub370\\uc5d4\\ud130\\ud14c\\uc778\\uba3c\\ud2b8\",\"CGV\\uc544\\ud2b8\\ud558\\uc6b0\\uc2a4\",\"(\\uc8fc)\\uc528\\uc81c\\uc774\\uc774\\uc5d4\\uc5e0\",\"CGV\\uc544\\ud2b8\\ud558\\uc6b0\\uc2a4\",\"(\\uc8fc)\\uc528\\uc81c\\uc774\\uc774\\uc5d4\\uc5e0\",\"(\\uc8fc)\\uc528\\uc81c\\uc774\\uc774\\uc5d4\\uc5e0\",\"(\\uc8fc)\\uc1fc\\ubc15\\uc2a4\",\"CGV\\uc544\\ud2b8\\ud558\\uc6b0\\uc2a4\",\"\\ub86f\\ub370\\uc1fc\\ud551\\u321c\\ub86f\\ub370\\uc5d4\\ud130\\ud14c\\uc778\\uba3c\\ud2b8\",\"\\ub86f\\ub370\\uc1fc\\ud551\\u321c\\ub86f\\ub370\\uc5d4\\ud130\\ud14c\\uc778\\uba3c\\ud2b8\",\"(\\uc8fc)\\ub125\\uc2a4\\ud2b8\\uc5d4\\ud130\\ud14c\\uc778\\uba3c\\ud2b8\\uc6d4\\ub4dc(NEW)\",\"\\ub86f\\ub370\\uc1fc\\ud551\\u321c\\ub86f\\ub370\\uc5d4\\ud130\\ud14c\\uc778\\uba3c\\ud2b8\",\"CGV\\uc544\\ud2b8\\ud558\\uc6b0\\uc2a4\",\"(\\uc8fc)\\uc528\\uc81c\\uc774\\uc774\\uc5d4\\uc5e0\",\"(\\uc8fc)\\uc528\\uc81c\\uc774\\uc774\\uc5d4\\uc5e0\",\"CGV\\uc544\\ud2b8\\ud558\\uc6b0\\uc2a4\",\"(\\uc8fc)\\ub125\\uc2a4\\ud2b8\\uc5d4\\ud130\\ud14c\\uc778\\uba3c\\ud2b8\\uc6d4\\ub4dc(NEW)\",\"\\ub86f\\ub370\\uc1fc\\ud551\\u321c\\ub86f\\ub370\\uc5d4\\ud130\\ud14c\\uc778\\uba3c\\ud2b8\",\"CGV\\uc544\\ud2b8\\ud558\\uc6b0\\uc2a4\",\"(\\uc8fc)\\ub125\\uc2a4\\ud2b8\\uc5d4\\ud130\\ud14c\\uc778\\uba3c\\ud2b8\\uc6d4\\ub4dc(NEW)\",\"CGV\\uc544\\ud2b8\\ud558\\uc6b0\\uc2a4\",\"CGV\\uc544\\ud2b8\\ud558\\uc6b0\\uc2a4\",\"CGV\\uc544\\ud2b8\\ud558\\uc6b0\\uc2a4\",\"(\\uc8fc)\\ub125\\uc2a4\\ud2b8\\uc5d4\\ud130\\ud14c\\uc778\\uba3c\\ud2b8\\uc6d4\\ub4dc(NEW)\",\"(\\uc8fc)\\ub125\\uc2a4\\ud2b8\\uc5d4\\ud130\\ud14c\\uc778\\uba3c\\ud2b8\\uc6d4\\ub4dc(NEW)\",\"CGV\\uc544\\ud2b8\\ud558\\uc6b0\\uc2a4\",\"\\ub86f\\ub370\\uc1fc\\ud551\\u321c\\ub86f\\ub370\\uc5d4\\ud130\\ud14c\\uc778\\uba3c\\ud2b8\",\"CGV\\uc544\\ud2b8\\ud558\\uc6b0\\uc2a4\",\"\\ub86f\\ub370\\uc1fc\\ud551\\u321c\\ub86f\\ub370\\uc5d4\\ud130\\ud14c\\uc778\\uba3c\\ud2b8\",\"CGV\\uc544\\ud2b8\\ud558\\uc6b0\\uc2a4\",\"(\\uc8fc)\\ub125\\uc2a4\\ud2b8\\uc5d4\\ud130\\ud14c\\uc778\\uba3c\\ud2b8\\uc6d4\\ub4dc(NEW)\",\"CGV\\uc544\\ud2b8\\ud558\\uc6b0\\uc2a4\",\"CGV\\uc544\\ud2b8\\ud558\\uc6b0\\uc2a4\",\"\\ub86f\\ub370\\uc1fc\\ud551\\u321c\\ub86f\\ub370\\uc5d4\\ud130\\ud14c\\uc778\\uba3c\\ud2b8\",\"\\ub86f\\ub370\\uc1fc\\ud551\\u321c\\ub86f\\ub370\\uc5d4\\ud130\\ud14c\\uc778\\uba3c\\ud2b8\",\"CGV\\uc544\\ud2b8\\ud558\\uc6b0\\uc2a4\",\"CGV\\uc544\\ud2b8\\ud558\\uc6b0\\uc2a4\",\"CGV\\uc544\\ud2b8\\ud558\\uc6b0\\uc2a4\",\"CGV\\uc544\\ud2b8\\ud558\\uc6b0\\uc2a4\",\"CGV\\uc544\\ud2b8\\ud558\\uc6b0\\uc2a4\",\"CGV\\uc544\\ud2b8\\ud558\\uc6b0\\uc2a4\",\"CGV\\uc544\\ud2b8\\ud558\\uc6b0\\uc2a4\",\"\\ub86f\\ub370\\uc1fc\\ud551\\u321c\\ub86f\\ub370\\uc5d4\\ud130\\ud14c\\uc778\\uba3c\\ud2b8\",\"CGV\\uc544\\ud2b8\\ud558\\uc6b0\\uc2a4\",\"CGV\\uc544\\ud2b8\\ud558\\uc6b0\\uc2a4\",\"CGV\\uc544\\ud2b8\\ud558\\uc6b0\\uc2a4\",\"CGV\\uc544\\ud2b8\\ud558\\uc6b0\\uc2a4\",\"CGV\\uc544\\ud2b8\\ud558\\uc6b0\\uc2a4\",\"CGV\\uc544\\ud2b8\\ud558\\uc6b0\\uc2a4\",\"(\\uc8fc)\\ub125\\uc2a4\\ud2b8\\uc5d4\\ud130\\ud14c\\uc778\\uba3c\\ud2b8\\uc6d4\\ub4dc(NEW)\",\"CGV\\uc544\\ud2b8\\ud558\\uc6b0\\uc2a4\",\"(\\uc8fc)\\ub125\\uc2a4\\ud2b8\\uc5d4\\ud130\\ud14c\\uc778\\uba3c\\ud2b8\\uc6d4\\ub4dc(NEW)\",\"(\\uc8fc)\\ub125\\uc2a4\\ud2b8\\uc5d4\\ud130\\ud14c\\uc778\\uba3c\\ud2b8\\uc6d4\\ub4dc(NEW)\",\"(\\uc8fc)\\ub125\\uc2a4\\ud2b8\\uc5d4\\ud130\\ud14c\\uc778\\uba3c\\ud2b8\\uc6d4\\ub4dc(NEW)\",\"CGV\\uc544\\ud2b8\\ud558\\uc6b0\\uc2a4\",\"CGV\\uc544\\ud2b8\\ud558\\uc6b0\\uc2a4\",\"CGV\\uc544\\ud2b8\\ud558\\uc6b0\\uc2a4\",\"CGV\\uc544\\ud2b8\\ud558\\uc6b0\\uc2a4\",\"CGV\\uc544\\ud2b8\\ud558\\uc6b0\\uc2a4\",\"CGV\\uc544\\ud2b8\\ud558\\uc6b0\\uc2a4\",\"CGV\\uc544\\ud2b8\\ud558\\uc6b0\\uc2a4\",\"\\ub86f\\ub370\\uceec\\ucc98\\uc6cd\\uc2a4(\\uc8fc)\\ub86f\\ub370\\uc5d4\\ud130\\ud14c\\uc778\\uba3c\\ud2b8\",\"\\ub86f\\ub370\\uceec\\ucc98\\uc6cd\\uc2a4(\\uc8fc)\\ub86f\\ub370\\uc5d4\\ud130\\ud14c\\uc778\\uba3c\\ud2b8\",\"CGV\\uc544\\ud2b8\\ud558\\uc6b0\\uc2a4\",\"(\\uc8fc)\\ub125\\uc2a4\\ud2b8\\uc5d4\\ud130\\ud14c\\uc778\\uba3c\\ud2b8\\uc6d4\\ub4dc(NEW)\",\"CGV\\uc544\\ud2b8\\ud558\\uc6b0\\uc2a4\",\"\\ub86f\\ub370\\uceec\\ucc98\\uc6cd\\uc2a4(\\uc8fc)\\ub86f\\ub370\\uc5d4\\ud130\\ud14c\\uc778\\uba3c\\ud2b8\",\"(\\uc8fc)\\ub125\\uc2a4\\ud2b8\\uc5d4\\ud130\\ud14c\\uc778\\uba3c\\ud2b8\\uc6d4\\ub4dc(NEW)\",\"CGV\\uc544\\ud2b8\\ud558\\uc6b0\\uc2a4\",\"CGV\\uc544\\ud2b8\\ud558\\uc6b0\\uc2a4\",\"CGV\\uc544\\ud2b8\\ud558\\uc6b0\\uc2a4\",\"\\ub86f\\ub370\\uceec\\ucc98\\uc6cd\\uc2a4(\\uc8fc)\\ub86f\\ub370\\uc5d4\\ud130\\ud14c\\uc778\\uba3c\\ud2b8\",\"(\\uc8fc)\\ub125\\uc2a4\\ud2b8\\uc5d4\\ud130\\ud14c\\uc778\\uba3c\\ud2b8\\uc6d4\\ub4dc(NEW)\",\"CGV\\uc544\\ud2b8\\ud558\\uc6b0\\uc2a4\",\"\\ub86f\\ub370\\uceec\\ucc98\\uc6cd\\uc2a4(\\uc8fc)\\ub86f\\ub370\\uc5d4\\ud130\\ud14c\\uc778\\uba3c\\ud2b8\",\"CGV\\uc544\\ud2b8\\ud558\\uc6b0\\uc2a4\",\"\\ub86f\\ub370\\uceec\\ucc98\\uc6cd\\uc2a4(\\uc8fc)\\ub86f\\ub370\\uc5d4\\ud130\\ud14c\\uc778\\uba3c\\ud2b8\",\"(\\uc8fc)\\uc528\\uc81c\\uc774\\uc774\\uc5d4\\uc5e0\"],\"legendgroup\":\"\",\"name\":\"\",\"showlegend\":true,\"textinfo\":\"percent+label\",\"textposition\":\"inside\",\"type\":\"pie\",\"values\":[12005917000,1019768500,920899000,4354008500,601513500,171004571,87647900,47993500,733314000,349451500,272411000,250644579,164943162,162722300,154223500,142456000,118896600,101214000,29340500,29845004479,1780640800,1752838200,830948100,593174100,479242383,246408200,195684333,173948100,119149400,87965500,63500100,63090000,24048800,12445626245,1950635763,1128148952,699788600,658072600,427722800,349482500,112466200,112007100,52852400,48376500,46156800,2608179616,1157200562,1047223666,872397300,639959190,416593300,336004700,282006700,115387000,102163500,58152000,39535300,3703660800,1403639195,947059100,911866950,686273900,634595200,632389700,317605400,274920900,195197900,198890200,171942900,95447200,97464900,65573000,48080800,24142600,17949800,1090246148,906416500,469303200,408323605,276934100,208532200,220860000,205547428,191696250,180452950,89138900,46996200,34307600,24729750,9290065101,3603268560,1553219230,586584249,444391340,409004989,369943170,322021828,193213180,111262080,86453100,67150080,67428500,9214920,129230400,110180880]}],                        {\"legend\":{\"tracegroupgap\":0},\"piecolorway\":[\"rgb(108, 33, 103)\",\"rgb(145, 53, 125)\",\"rgb(177, 77, 142)\",\"rgb(202, 105, 157)\",\"rgb(221, 136, 172)\",\"rgb(234, 169, 189)\",\"rgb(243, 203, 211)\"],\"template\":{\"data\":{\"bar\":[{\"error_x\":{\"color\":\"#2a3f5f\"},\"error_y\":{\"color\":\"#2a3f5f\"},\"marker\":{\"line\":{\"color\":\"#E5ECF6\",\"width\":0.5},\"pattern\":{\"fillmode\":\"overlay\",\"size\":10,\"solidity\":0.2}},\"type\":\"bar\"}],\"barpolar\":[{\"marker\":{\"line\":{\"color\":\"#E5ECF6\",\"width\":0.5},\"pattern\":{\"fillmode\":\"overlay\",\"size\":10,\"solidity\":0.2}},\"type\":\"barpolar\"}],\"carpet\":[{\"aaxis\":{\"endlinecolor\":\"#2a3f5f\",\"gridcolor\":\"white\",\"linecolor\":\"white\",\"minorgridcolor\":\"white\",\"startlinecolor\":\"#2a3f5f\"},\"baxis\":{\"endlinecolor\":\"#2a3f5f\",\"gridcolor\":\"white\",\"linecolor\":\"white\",\"minorgridcolor\":\"white\",\"startlinecolor\":\"#2a3f5f\"},\"type\":\"carpet\"}],\"choropleth\":[{\"colorbar\":{\"outlinewidth\":0,\"ticks\":\"\"},\"type\":\"choropleth\"}],\"contour\":[{\"colorbar\":{\"outlinewidth\":0,\"ticks\":\"\"},\"colorscale\":[[0.0,\"#0d0887\"],[0.1111111111111111,\"#46039f\"],[0.2222222222222222,\"#7201a8\"],[0.3333333333333333,\"#9c179e\"],[0.4444444444444444,\"#bd3786\"],[0.5555555555555556,\"#d8576b\"],[0.6666666666666666,\"#ed7953\"],[0.7777777777777778,\"#fb9f3a\"],[0.8888888888888888,\"#fdca26\"],[1.0,\"#f0f921\"]],\"type\":\"contour\"}],\"contourcarpet\":[{\"colorbar\":{\"outlinewidth\":0,\"ticks\":\"\"},\"type\":\"contourcarpet\"}],\"heatmap\":[{\"colorbar\":{\"outlinewidth\":0,\"ticks\":\"\"},\"colorscale\":[[0.0,\"#0d0887\"],[0.1111111111111111,\"#46039f\"],[0.2222222222222222,\"#7201a8\"],[0.3333333333333333,\"#9c179e\"],[0.4444444444444444,\"#bd3786\"],[0.5555555555555556,\"#d8576b\"],[0.6666666666666666,\"#ed7953\"],[0.7777777777777778,\"#fb9f3a\"],[0.8888888888888888,\"#fdca26\"],[1.0,\"#f0f921\"]],\"type\":\"heatmap\"}],\"heatmapgl\":[{\"colorbar\":{\"outlinewidth\":0,\"ticks\":\"\"},\"colorscale\":[[0.0,\"#0d0887\"],[0.1111111111111111,\"#46039f\"],[0.2222222222222222,\"#7201a8\"],[0.3333333333333333,\"#9c179e\"],[0.4444444444444444,\"#bd3786\"],[0.5555555555555556,\"#d8576b\"],[0.6666666666666666,\"#ed7953\"],[0.7777777777777778,\"#fb9f3a\"],[0.8888888888888888,\"#fdca26\"],[1.0,\"#f0f921\"]],\"type\":\"heatmapgl\"}],\"histogram\":[{\"marker\":{\"pattern\":{\"fillmode\":\"overlay\",\"size\":10,\"solidity\":0.2}},\"type\":\"histogram\"}],\"histogram2d\":[{\"colorbar\":{\"outlinewidth\":0,\"ticks\":\"\"},\"colorscale\":[[0.0,\"#0d0887\"],[0.1111111111111111,\"#46039f\"],[0.2222222222222222,\"#7201a8\"],[0.3333333333333333,\"#9c179e\"],[0.4444444444444444,\"#bd3786\"],[0.5555555555555556,\"#d8576b\"],[0.6666666666666666,\"#ed7953\"],[0.7777777777777778,\"#fb9f3a\"],[0.8888888888888888,\"#fdca26\"],[1.0,\"#f0f921\"]],\"type\":\"histogram2d\"}],\"histogram2dcontour\":[{\"colorbar\":{\"outlinewidth\":0,\"ticks\":\"\"},\"colorscale\":[[0.0,\"#0d0887\"],[0.1111111111111111,\"#46039f\"],[0.2222222222222222,\"#7201a8\"],[0.3333333333333333,\"#9c179e\"],[0.4444444444444444,\"#bd3786\"],[0.5555555555555556,\"#d8576b\"],[0.6666666666666666,\"#ed7953\"],[0.7777777777777778,\"#fb9f3a\"],[0.8888888888888888,\"#fdca26\"],[1.0,\"#f0f921\"]],\"type\":\"histogram2dcontour\"}],\"mesh3d\":[{\"colorbar\":{\"outlinewidth\":0,\"ticks\":\"\"},\"type\":\"mesh3d\"}],\"parcoords\":[{\"line\":{\"colorbar\":{\"outlinewidth\":0,\"ticks\":\"\"}},\"type\":\"parcoords\"}],\"pie\":[{\"automargin\":true,\"type\":\"pie\"}],\"scatter\":[{\"marker\":{\"colorbar\":{\"outlinewidth\":0,\"ticks\":\"\"}},\"type\":\"scatter\"}],\"scatter3d\":[{\"line\":{\"colorbar\":{\"outlinewidth\":0,\"ticks\":\"\"}},\"marker\":{\"colorbar\":{\"outlinewidth\":0,\"ticks\":\"\"}},\"type\":\"scatter3d\"}],\"scattercarpet\":[{\"marker\":{\"colorbar\":{\"outlinewidth\":0,\"ticks\":\"\"}},\"type\":\"scattercarpet\"}],\"scattergeo\":[{\"marker\":{\"colorbar\":{\"outlinewidth\":0,\"ticks\":\"\"}},\"type\":\"scattergeo\"}],\"scattergl\":[{\"marker\":{\"colorbar\":{\"outlinewidth\":0,\"ticks\":\"\"}},\"type\":\"scattergl\"}],\"scattermapbox\":[{\"marker\":{\"colorbar\":{\"outlinewidth\":0,\"ticks\":\"\"}},\"type\":\"scattermapbox\"}],\"scatterpolar\":[{\"marker\":{\"colorbar\":{\"outlinewidth\":0,\"ticks\":\"\"}},\"type\":\"scatterpolar\"}],\"scatterpolargl\":[{\"marker\":{\"colorbar\":{\"outlinewidth\":0,\"ticks\":\"\"}},\"type\":\"scatterpolargl\"}],\"scatterternary\":[{\"marker\":{\"colorbar\":{\"outlinewidth\":0,\"ticks\":\"\"}},\"type\":\"scatterternary\"}],\"surface\":[{\"colorbar\":{\"outlinewidth\":0,\"ticks\":\"\"},\"colorscale\":[[0.0,\"#0d0887\"],[0.1111111111111111,\"#46039f\"],[0.2222222222222222,\"#7201a8\"],[0.3333333333333333,\"#9c179e\"],[0.4444444444444444,\"#bd3786\"],[0.5555555555555556,\"#d8576b\"],[0.6666666666666666,\"#ed7953\"],[0.7777777777777778,\"#fb9f3a\"],[0.8888888888888888,\"#fdca26\"],[1.0,\"#f0f921\"]],\"type\":\"surface\"}],\"table\":[{\"cells\":{\"fill\":{\"color\":\"#EBF0F8\"},\"line\":{\"color\":\"white\"}},\"header\":{\"fill\":{\"color\":\"#C8D4E3\"},\"line\":{\"color\":\"white\"}},\"type\":\"table\"}]},\"layout\":{\"annotationdefaults\":{\"arrowcolor\":\"#2a3f5f\",\"arrowhead\":0,\"arrowwidth\":1},\"autotypenumbers\":\"strict\",\"coloraxis\":{\"colorbar\":{\"outlinewidth\":0,\"ticks\":\"\"}},\"colorscale\":{\"diverging\":[[0,\"#8e0152\"],[0.1,\"#c51b7d\"],[0.2,\"#de77ae\"],[0.3,\"#f1b6da\"],[0.4,\"#fde0ef\"],[0.5,\"#f7f7f7\"],[0.6,\"#e6f5d0\"],[0.7,\"#b8e186\"],[0.8,\"#7fbc41\"],[0.9,\"#4d9221\"],[1,\"#276419\"]],\"sequential\":[[0.0,\"#0d0887\"],[0.1111111111111111,\"#46039f\"],[0.2222222222222222,\"#7201a8\"],[0.3333333333333333,\"#9c179e\"],[0.4444444444444444,\"#bd3786\"],[0.5555555555555556,\"#d8576b\"],[0.6666666666666666,\"#ed7953\"],[0.7777777777777778,\"#fb9f3a\"],[0.8888888888888888,\"#fdca26\"],[1.0,\"#f0f921\"]],\"sequentialminus\":[[0.0,\"#0d0887\"],[0.1111111111111111,\"#46039f\"],[0.2222222222222222,\"#7201a8\"],[0.3333333333333333,\"#9c179e\"],[0.4444444444444444,\"#bd3786\"],[0.5555555555555556,\"#d8576b\"],[0.6666666666666666,\"#ed7953\"],[0.7777777777777778,\"#fb9f3a\"],[0.8888888888888888,\"#fdca26\"],[1.0,\"#f0f921\"]]},\"colorway\":[\"#636efa\",\"#EF553B\",\"#00cc96\",\"#ab63fa\",\"#FFA15A\",\"#19d3f3\",\"#FF6692\",\"#B6E880\",\"#FF97FF\",\"#FECB52\"],\"font\":{\"color\":\"#2a3f5f\"},\"geo\":{\"bgcolor\":\"white\",\"lakecolor\":\"white\",\"landcolor\":\"#E5ECF6\",\"showlakes\":true,\"showland\":true,\"subunitcolor\":\"white\"},\"hoverlabel\":{\"align\":\"left\"},\"hovermode\":\"closest\",\"mapbox\":{\"style\":\"light\"},\"paper_bgcolor\":\"white\",\"plot_bgcolor\":\"#E5ECF6\",\"polar\":{\"angularaxis\":{\"gridcolor\":\"white\",\"linecolor\":\"white\",\"ticks\":\"\"},\"bgcolor\":\"#E5ECF6\",\"radialaxis\":{\"gridcolor\":\"white\",\"linecolor\":\"white\",\"ticks\":\"\"}},\"scene\":{\"xaxis\":{\"backgroundcolor\":\"#E5ECF6\",\"gridcolor\":\"white\",\"gridwidth\":2,\"linecolor\":\"white\",\"showbackground\":true,\"ticks\":\"\",\"zerolinecolor\":\"white\"},\"yaxis\":{\"backgroundcolor\":\"#E5ECF6\",\"gridcolor\":\"white\",\"gridwidth\":2,\"linecolor\":\"white\",\"showbackground\":true,\"ticks\":\"\",\"zerolinecolor\":\"white\"},\"zaxis\":{\"backgroundcolor\":\"#E5ECF6\",\"gridcolor\":\"white\",\"gridwidth\":2,\"linecolor\":\"white\",\"showbackground\":true,\"ticks\":\"\",\"zerolinecolor\":\"white\"}},\"shapedefaults\":{\"line\":{\"color\":\"#2a3f5f\"}},\"ternary\":{\"aaxis\":{\"gridcolor\":\"white\",\"linecolor\":\"white\",\"ticks\":\"\"},\"baxis\":{\"gridcolor\":\"white\",\"linecolor\":\"white\",\"ticks\":\"\"},\"bgcolor\":\"#E5ECF6\",\"caxis\":{\"gridcolor\":\"white\",\"linecolor\":\"white\",\"ticks\":\"\"}},\"title\":{\"x\":0.05},\"xaxis\":{\"automargin\":true,\"gridcolor\":\"white\",\"linecolor\":\"white\",\"ticks\":\"\",\"title\":{\"standoff\":15},\"zerolinecolor\":\"white\",\"zerolinewidth\":2},\"yaxis\":{\"automargin\":true,\"gridcolor\":\"white\",\"linecolor\":\"white\",\"ticks\":\"\",\"title\":{\"standoff\":15},\"zerolinecolor\":\"white\",\"zerolinewidth\":2}}},\"title\":{\"text\":\"2011\\ub144~2020\\ub144\\uac04 \\uc81c\\uc791\\ub41c \\ub3c5\\ub9bd\\uc608\\uc220\\uc601\\ud654\\uc758 \\ubc30\\uae09\\uc0ac \\uad6c\\ubd84 \\ubcc4 \\ub9e4\\ucd9c\\uc561 \\ube44\\uc911\"}},                        {\"responsive\": true}                    ).then(function(){\n",
              "                            \n",
              "var gd = document.getElementById('9e7c5be4-a624-4e3b-825b-b57f22879b02');\n",
              "var x = new MutationObserver(function (mutations, observer) {{\n",
              "        var display = window.getComputedStyle(gd).display;\n",
              "        if (!display || display === 'none') {{\n",
              "            console.log([gd, 'removed!']);\n",
              "            Plotly.purge(gd);\n",
              "            observer.disconnect();\n",
              "        }}\n",
              "}});\n",
              "\n",
              "// Listen for the removal of the full notebook cells\n",
              "var notebookContainer = gd.closest('#notebook-container');\n",
              "if (notebookContainer) {{\n",
              "    x.observe(notebookContainer, {childList: true});\n",
              "}}\n",
              "\n",
              "// Listen for the clearing of the current output cell\n",
              "var outputEl = gd.closest('.output');\n",
              "if (outputEl) {{\n",
              "    x.observe(outputEl, {childList: true});\n",
              "}}\n",
              "\n",
              "                        })                };                            </script>        </div>\n",
              "</body>\n",
              "</html>"
            ]
          },
          "metadata": {}
        }
      ]
    },
    {
      "cell_type": "code",
      "metadata": {
        "id": "k1bK8AQxYQFt"
      },
      "source": [
        "#대형 배급사 별로 매년 배급 영화수와 총 영화수 비교\n",
        "new_movies_art_big5_counts = new_movies_art_big5.groupby(['개봉연도','배급사']).size().reset_index(name='배급영화수')\n",
        "new_movies_art_big5_counts['총영화수'] = new_movies_art_big5_counts.groupby('개봉연도')['배급영화수'].transform('sum')\n",
        "new_movies_art_big5_counts['배급비중'] = new_movies_art_big5_counts['배급영화수']/new_movies_art_big5_counts['총영화수']*100\n",
        "new_movies_art_big5_counts\n",
        "\n",
        "\n",
        "#배급사 구분 별로 매년 배급되는 영화의 영화 매출액 비교 \n",
        "new_movies_art_big5_sum = new_movies_art_big5.groupby(['개봉연도','배급사'])['전국매출액'].sum().reset_index(name='배급사매출액')\n",
        "new_movies_art_big5_sum['총매출액'] = new_movies_art_big5_sum.groupby('개봉연도')['배급사매출액'].transform('sum')\n",
        "new_movies_art_big5_sum['매출액비중'] = new_movies_art_big5_sum['배급사매출액']/new_movies_art_big5_sum['총매출액']*100\n",
        "\n",
        "\n",
        "new_movies_art_big5_agg = pd.merge(new_movies_art_big5_counts, new_movies_art_big5_sum, how=\"left\", on=[\"개봉연도\", \"배급사\"])\n",
        "new_movies_art_big5_agg = new_movies_art_big5_agg[['개봉연도', '배급사', '배급영화수', '배급비중', '배급사매출액','매출액비중']].sort_values(by = [\"개봉연도\", \"배급영화수\"], ascending=[True, False])\n"
      ],
      "execution_count": null,
      "outputs": []
    },
    {
      "cell_type": "code",
      "metadata": {
        "colab": {
          "base_uri": "https://localhost:8080/",
          "height": 542
        },
        "id": "tJVRN990rZWn",
        "outputId": "8d9d22ef-13ad-4854-dfd5-013a2ca1d2a9"
      },
      "source": [
        "#배급사 별로 매년 배급 영화 수(비중) 추이를 보면 CGV 아트하우스에서 30~70%의 영화 배급을 담당했음을 알 수 있음 \n",
        "#아트하우스가 들어온 2013년에는 영화 배급 수가 5편에서 11편으로 120% 상승하는데, 이때 CGV가 4편이 증가하면서 영화 배급수 상승의 60%를 차지함\n",
        "#아트하우스가 철수한 2020년에는 영화 배급 수 차이가 가장 큰 것을 확인할 수 있음 (대형배급사의 배급 영화 수는 14편에서 2편으로 80% 이상 감소했는데, CGV 아트하우스가 7편이 감소하면서 감소량의 58.3%를 설명함  )\n",
        "fig = px.bar(new_movies_art_big5_agg,\n",
        "             x = \"개봉연도\", \n",
        "             y = \"배급영화수\", \n",
        "            #  text = \"배급영화수\",\n",
        "             title=\"연도 별 배급사에 따른 독립예술 영화 수 추이\", \n",
        "             color = \"배급사\", hover_name = \"배급사\", color_discrete_sequence=px.colors.sequential.Oranges,\n",
        "             hover_data=[\"배급비중\"], log_x = True)\n",
        "# fig.update_traces(texttemplate='%{text}개', textposition='inside')\n",
        "fig.show()"
      ],
      "execution_count": null,
      "outputs": [
        {
          "output_type": "display_data",
          "data": {
            "text/html": [
              "<html>\n",
              "<head><meta charset=\"utf-8\" /></head>\n",
              "<body>\n",
              "    <div>            <script src=\"https://cdnjs.cloudflare.com/ajax/libs/mathjax/2.7.5/MathJax.js?config=TeX-AMS-MML_SVG\"></script><script type=\"text/javascript\">if (window.MathJax) {MathJax.Hub.Config({SVG: {font: \"STIX-Web\"}});}</script>                <script type=\"text/javascript\">window.PlotlyConfig = {MathJaxConfig: 'local'};</script>\n",
              "        <script src=\"https://cdn.plot.ly/plotly-2.3.1.min.js\"></script>                <div id=\"dc0d922c-0ae6-46b9-8787-4338a0a8b875\" class=\"plotly-graph-div\" style=\"height:525px; width:100%;\"></div>            <script type=\"text/javascript\">                                    window.PLOTLYENV=window.PLOTLYENV || {};                                    if (document.getElementById(\"dc0d922c-0ae6-46b9-8787-4338a0a8b875\")) {                    Plotly.newPlot(                        \"dc0d922c-0ae6-46b9-8787-4338a0a8b875\",                        [{\"alignmentgroup\":\"True\",\"customdata\":[[66.66666666666666],[20.0],[27.27272727272727],[7.142857142857142],[16.666666666666664],[25.0],[5.555555555555555],[28.57142857142857],[21.428571428571427]],\"hovertemplate\":\"<b>%{hovertext}</b><br><br>\\ubc30\\uae09\\uc0ac=(\\uc8fc)\\ub125\\uc2a4\\ud2b8\\uc5d4\\ud130\\ud14c\\uc778\\uba3c\\ud2b8\\uc6d4\\ub4dc(NEW)<br>\\uac1c\\ubd09\\uc5f0\\ub3c4=%{x}<br>\\ubc30\\uae09\\uc601\\ud654\\uc218=%{y}<br>\\ubc30\\uae09\\ube44\\uc911=%{customdata[0]}<extra></extra>\",\"hovertext\":[\"(\\uc8fc)\\ub125\\uc2a4\\ud2b8\\uc5d4\\ud130\\ud14c\\uc778\\uba3c\\ud2b8\\uc6d4\\ub4dc(NEW)\",\"(\\uc8fc)\\ub125\\uc2a4\\ud2b8\\uc5d4\\ud130\\ud14c\\uc778\\uba3c\\ud2b8\\uc6d4\\ub4dc(NEW)\",\"(\\uc8fc)\\ub125\\uc2a4\\ud2b8\\uc5d4\\ud130\\ud14c\\uc778\\uba3c\\ud2b8\\uc6d4\\ub4dc(NEW)\",\"(\\uc8fc)\\ub125\\uc2a4\\ud2b8\\uc5d4\\ud130\\ud14c\\uc778\\uba3c\\ud2b8\\uc6d4\\ub4dc(NEW)\",\"(\\uc8fc)\\ub125\\uc2a4\\ud2b8\\uc5d4\\ud130\\ud14c\\uc778\\uba3c\\ud2b8\\uc6d4\\ub4dc(NEW)\",\"(\\uc8fc)\\ub125\\uc2a4\\ud2b8\\uc5d4\\ud130\\ud14c\\uc778\\uba3c\\ud2b8\\uc6d4\\ub4dc(NEW)\",\"(\\uc8fc)\\ub125\\uc2a4\\ud2b8\\uc5d4\\ud130\\ud14c\\uc778\\uba3c\\ud2b8\\uc6d4\\ub4dc(NEW)\",\"(\\uc8fc)\\ub125\\uc2a4\\ud2b8\\uc5d4\\ud130\\ud14c\\uc778\\uba3c\\ud2b8\\uc6d4\\ub4dc(NEW)\",\"(\\uc8fc)\\ub125\\uc2a4\\ud2b8\\uc5d4\\ud130\\ud14c\\uc778\\uba3c\\ud2b8\\uc6d4\\ub4dc(NEW)\"],\"legendgroup\":\"(\\uc8fc)\\ub125\\uc2a4\\ud2b8\\uc5d4\\ud130\\ud14c\\uc778\\uba3c\\ud2b8\\uc6d4\\ub4dc(NEW)\",\"marker\":{\"color\":\"rgb(255,245,235)\",\"pattern\":{\"shape\":\"\"}},\"name\":\"(\\uc8fc)\\ub125\\uc2a4\\ud2b8\\uc5d4\\ud130\\ud14c\\uc778\\uba3c\\ud2b8\\uc6d4\\ub4dc(NEW)\",\"offsetgroup\":\"(\\uc8fc)\\ub125\\uc2a4\\ud2b8\\uc5d4\\ud130\\ud14c\\uc778\\uba3c\\ud2b8\\uc6d4\\ub4dc(NEW)\",\"orientation\":\"v\",\"showlegend\":true,\"textposition\":\"auto\",\"type\":\"bar\",\"x\":[2011,2012,2013,2014,2015,2016,2017,2018,2019],\"xaxis\":\"x\",\"y\":[2,1,3,1,2,3,1,4,3],\"yaxis\":\"y\"},{\"alignmentgroup\":\"True\",\"customdata\":[[33.33333333333333],[40.0],[9.090909090909092],[7.142857142857142],[33.33333333333333],[16.666666666666664],[16.666666666666664]],\"hovertemplate\":\"<b>%{hovertext}</b><br><br>\\ubc30\\uae09\\uc0ac=\\ub86f\\ub370\\uc1fc\\ud551\\u321c\\ub86f\\ub370\\uc5d4\\ud130\\ud14c\\uc778\\uba3c\\ud2b8<br>\\uac1c\\ubd09\\uc5f0\\ub3c4=%{x}<br>\\ubc30\\uae09\\uc601\\ud654\\uc218=%{y}<br>\\ubc30\\uae09\\ube44\\uc911=%{customdata[0]}<extra></extra>\",\"hovertext\":[\"\\ub86f\\ub370\\uc1fc\\ud551\\u321c\\ub86f\\ub370\\uc5d4\\ud130\\ud14c\\uc778\\uba3c\\ud2b8\",\"\\ub86f\\ub370\\uc1fc\\ud551\\u321c\\ub86f\\ub370\\uc5d4\\ud130\\ud14c\\uc778\\uba3c\\ud2b8\",\"\\ub86f\\ub370\\uc1fc\\ud551\\u321c\\ub86f\\ub370\\uc5d4\\ud130\\ud14c\\uc778\\uba3c\\ud2b8\",\"\\ub86f\\ub370\\uc1fc\\ud551\\u321c\\ub86f\\ub370\\uc5d4\\ud130\\ud14c\\uc778\\uba3c\\ud2b8\",\"\\ub86f\\ub370\\uc1fc\\ud551\\u321c\\ub86f\\ub370\\uc5d4\\ud130\\ud14c\\uc778\\uba3c\\ud2b8\",\"\\ub86f\\ub370\\uc1fc\\ud551\\u321c\\ub86f\\ub370\\uc5d4\\ud130\\ud14c\\uc778\\uba3c\\ud2b8\",\"\\ub86f\\ub370\\uc1fc\\ud551\\u321c\\ub86f\\ub370\\uc5d4\\ud130\\ud14c\\uc778\\uba3c\\ud2b8\"],\"legendgroup\":\"\\ub86f\\ub370\\uc1fc\\ud551\\u321c\\ub86f\\ub370\\uc5d4\\ud130\\ud14c\\uc778\\uba3c\\ud2b8\",\"marker\":{\"color\":\"rgb(254,230,206)\",\"pattern\":{\"shape\":\"\"}},\"name\":\"\\ub86f\\ub370\\uc1fc\\ud551\\u321c\\ub86f\\ub370\\uc5d4\\ud130\\ud14c\\uc778\\uba3c\\ud2b8\",\"offsetgroup\":\"\\ub86f\\ub370\\uc1fc\\ud551\\u321c\\ub86f\\ub370\\uc5d4\\ud130\\ud14c\\uc778\\uba3c\\ud2b8\",\"orientation\":\"v\",\"showlegend\":true,\"textposition\":\"auto\",\"type\":\"bar\",\"x\":[2011,2012,2013,2014,2015,2016,2017],\"xaxis\":\"x\",\"y\":[1,2,1,1,4,2,3],\"yaxis\":\"y\"},{\"alignmentgroup\":\"True\",\"customdata\":[[40.0],[27.27272727272727],[21.428571428571427],[16.666666666666664],[50.0]],\"hovertemplate\":\"<b>%{hovertext}</b><br><br>\\ubc30\\uae09\\uc0ac=(\\uc8fc)\\uc528\\uc81c\\uc774\\uc774\\uc5d4\\uc5e0<br>\\uac1c\\ubd09\\uc5f0\\ub3c4=%{x}<br>\\ubc30\\uae09\\uc601\\ud654\\uc218=%{y}<br>\\ubc30\\uae09\\ube44\\uc911=%{customdata[0]}<extra></extra>\",\"hovertext\":[\"(\\uc8fc)\\uc528\\uc81c\\uc774\\uc774\\uc5d4\\uc5e0\",\"(\\uc8fc)\\uc528\\uc81c\\uc774\\uc774\\uc5d4\\uc5e0\",\"(\\uc8fc)\\uc528\\uc81c\\uc774\\uc774\\uc5d4\\uc5e0\",\"(\\uc8fc)\\uc528\\uc81c\\uc774\\uc774\\uc5d4\\uc5e0\",\"(\\uc8fc)\\uc528\\uc81c\\uc774\\uc774\\uc5d4\\uc5e0\"],\"legendgroup\":\"(\\uc8fc)\\uc528\\uc81c\\uc774\\uc774\\uc5d4\\uc5e0\",\"marker\":{\"color\":\"rgb(253,208,162)\",\"pattern\":{\"shape\":\"\"}},\"name\":\"(\\uc8fc)\\uc528\\uc81c\\uc774\\uc774\\uc5d4\\uc5e0\",\"offsetgroup\":\"(\\uc8fc)\\uc528\\uc81c\\uc774\\uc774\\uc5d4\\uc5e0\",\"orientation\":\"v\",\"showlegend\":true,\"textposition\":\"auto\",\"type\":\"bar\",\"x\":[2012,2013,2014,2015,2020],\"xaxis\":\"x\",\"y\":[2,3,3,2,1],\"yaxis\":\"y\"},{\"alignmentgroup\":\"True\",\"customdata\":[[36.36363636363637],[57.14285714285714],[25.0],[58.333333333333336],[77.77777777777779],[64.28571428571429],[50.0]],\"hovertemplate\":\"<b>%{hovertext}</b><br><br>\\ubc30\\uae09\\uc0ac=CGV\\uc544\\ud2b8\\ud558\\uc6b0\\uc2a4<br>\\uac1c\\ubd09\\uc5f0\\ub3c4=%{x}<br>\\ubc30\\uae09\\uc601\\ud654\\uc218=%{y}<br>\\ubc30\\uae09\\ube44\\uc911=%{customdata[0]}<extra></extra>\",\"hovertext\":[\"CGV\\uc544\\ud2b8\\ud558\\uc6b0\\uc2a4\",\"CGV\\uc544\\ud2b8\\ud558\\uc6b0\\uc2a4\",\"CGV\\uc544\\ud2b8\\ud558\\uc6b0\\uc2a4\",\"CGV\\uc544\\ud2b8\\ud558\\uc6b0\\uc2a4\",\"CGV\\uc544\\ud2b8\\ud558\\uc6b0\\uc2a4\",\"CGV\\uc544\\ud2b8\\ud558\\uc6b0\\uc2a4\",\"CGV\\uc544\\ud2b8\\ud558\\uc6b0\\uc2a4\"],\"legendgroup\":\"CGV\\uc544\\ud2b8\\ud558\\uc6b0\\uc2a4\",\"marker\":{\"color\":\"rgb(253,174,107)\",\"pattern\":{\"shape\":\"\"}},\"name\":\"CGV\\uc544\\ud2b8\\ud558\\uc6b0\\uc2a4\",\"offsetgroup\":\"CGV\\uc544\\ud2b8\\ud558\\uc6b0\\uc2a4\",\"orientation\":\"v\",\"showlegend\":true,\"textposition\":\"auto\",\"type\":\"bar\",\"x\":[2013,2014,2015,2016,2017,2018,2019],\"xaxis\":\"x\",\"y\":[4,8,3,7,14,9,7],\"yaxis\":\"y\"},{\"alignmentgroup\":\"True\",\"customdata\":[[7.142857142857142],[8.333333333333332]],\"hovertemplate\":\"<b>%{hovertext}</b><br><br>\\ubc30\\uae09\\uc0ac=(\\uc8fc)\\uc1fc\\ubc15\\uc2a4<br>\\uac1c\\ubd09\\uc5f0\\ub3c4=%{x}<br>\\ubc30\\uae09\\uc601\\ud654\\uc218=%{y}<br>\\ubc30\\uae09\\ube44\\uc911=%{customdata[0]}<extra></extra>\",\"hovertext\":[\"(\\uc8fc)\\uc1fc\\ubc15\\uc2a4\",\"(\\uc8fc)\\uc1fc\\ubc15\\uc2a4\"],\"legendgroup\":\"(\\uc8fc)\\uc1fc\\ubc15\\uc2a4\",\"marker\":{\"color\":\"rgb(253,141,60)\",\"pattern\":{\"shape\":\"\"}},\"name\":\"(\\uc8fc)\\uc1fc\\ubc15\\uc2a4\",\"offsetgroup\":\"(\\uc8fc)\\uc1fc\\ubc15\\uc2a4\",\"orientation\":\"v\",\"showlegend\":true,\"textposition\":\"auto\",\"type\":\"bar\",\"x\":[2014,2015],\"xaxis\":\"x\",\"y\":[1,1],\"yaxis\":\"y\"},{\"alignmentgroup\":\"True\",\"customdata\":[[7.142857142857142],[28.57142857142857],[50.0]],\"hovertemplate\":\"<b>%{hovertext}</b><br><br>\\ubc30\\uae09\\uc0ac=\\ub86f\\ub370\\uceec\\ucc98\\uc6cd\\uc2a4(\\uc8fc)\\ub86f\\ub370\\uc5d4\\ud130\\ud14c\\uc778\\uba3c\\ud2b8<br>\\uac1c\\ubd09\\uc5f0\\ub3c4=%{x}<br>\\ubc30\\uae09\\uc601\\ud654\\uc218=%{y}<br>\\ubc30\\uae09\\ube44\\uc911=%{customdata[0]}<extra></extra>\",\"hovertext\":[\"\\ub86f\\ub370\\uceec\\ucc98\\uc6cd\\uc2a4(\\uc8fc)\\ub86f\\ub370\\uc5d4\\ud130\\ud14c\\uc778\\uba3c\\ud2b8\",\"\\ub86f\\ub370\\uceec\\ucc98\\uc6cd\\uc2a4(\\uc8fc)\\ub86f\\ub370\\uc5d4\\ud130\\ud14c\\uc778\\uba3c\\ud2b8\",\"\\ub86f\\ub370\\uceec\\ucc98\\uc6cd\\uc2a4(\\uc8fc)\\ub86f\\ub370\\uc5d4\\ud130\\ud14c\\uc778\\uba3c\\ud2b8\"],\"legendgroup\":\"\\ub86f\\ub370\\uceec\\ucc98\\uc6cd\\uc2a4(\\uc8fc)\\ub86f\\ub370\\uc5d4\\ud130\\ud14c\\uc778\\uba3c\\ud2b8\",\"marker\":{\"color\":\"rgb(241,105,19)\",\"pattern\":{\"shape\":\"\"}},\"name\":\"\\ub86f\\ub370\\uceec\\ucc98\\uc6cd\\uc2a4(\\uc8fc)\\ub86f\\ub370\\uc5d4\\ud130\\ud14c\\uc778\\uba3c\\ud2b8\",\"offsetgroup\":\"\\ub86f\\ub370\\uceec\\ucc98\\uc6cd\\uc2a4(\\uc8fc)\\ub86f\\ub370\\uc5d4\\ud130\\ud14c\\uc778\\uba3c\\ud2b8\",\"orientation\":\"v\",\"showlegend\":true,\"textposition\":\"auto\",\"type\":\"bar\",\"x\":[2018,2019,2020],\"xaxis\":\"x\",\"y\":[1,4,1],\"yaxis\":\"y\"}],                        {\"barmode\":\"relative\",\"legend\":{\"title\":{\"text\":\"\\ubc30\\uae09\\uc0ac\"},\"tracegroupgap\":0},\"template\":{\"data\":{\"bar\":[{\"error_x\":{\"color\":\"#2a3f5f\"},\"error_y\":{\"color\":\"#2a3f5f\"},\"marker\":{\"line\":{\"color\":\"#E5ECF6\",\"width\":0.5},\"pattern\":{\"fillmode\":\"overlay\",\"size\":10,\"solidity\":0.2}},\"type\":\"bar\"}],\"barpolar\":[{\"marker\":{\"line\":{\"color\":\"#E5ECF6\",\"width\":0.5},\"pattern\":{\"fillmode\":\"overlay\",\"size\":10,\"solidity\":0.2}},\"type\":\"barpolar\"}],\"carpet\":[{\"aaxis\":{\"endlinecolor\":\"#2a3f5f\",\"gridcolor\":\"white\",\"linecolor\":\"white\",\"minorgridcolor\":\"white\",\"startlinecolor\":\"#2a3f5f\"},\"baxis\":{\"endlinecolor\":\"#2a3f5f\",\"gridcolor\":\"white\",\"linecolor\":\"white\",\"minorgridcolor\":\"white\",\"startlinecolor\":\"#2a3f5f\"},\"type\":\"carpet\"}],\"choropleth\":[{\"colorbar\":{\"outlinewidth\":0,\"ticks\":\"\"},\"type\":\"choropleth\"}],\"contour\":[{\"colorbar\":{\"outlinewidth\":0,\"ticks\":\"\"},\"colorscale\":[[0.0,\"#0d0887\"],[0.1111111111111111,\"#46039f\"],[0.2222222222222222,\"#7201a8\"],[0.3333333333333333,\"#9c179e\"],[0.4444444444444444,\"#bd3786\"],[0.5555555555555556,\"#d8576b\"],[0.6666666666666666,\"#ed7953\"],[0.7777777777777778,\"#fb9f3a\"],[0.8888888888888888,\"#fdca26\"],[1.0,\"#f0f921\"]],\"type\":\"contour\"}],\"contourcarpet\":[{\"colorbar\":{\"outlinewidth\":0,\"ticks\":\"\"},\"type\":\"contourcarpet\"}],\"heatmap\":[{\"colorbar\":{\"outlinewidth\":0,\"ticks\":\"\"},\"colorscale\":[[0.0,\"#0d0887\"],[0.1111111111111111,\"#46039f\"],[0.2222222222222222,\"#7201a8\"],[0.3333333333333333,\"#9c179e\"],[0.4444444444444444,\"#bd3786\"],[0.5555555555555556,\"#d8576b\"],[0.6666666666666666,\"#ed7953\"],[0.7777777777777778,\"#fb9f3a\"],[0.8888888888888888,\"#fdca26\"],[1.0,\"#f0f921\"]],\"type\":\"heatmap\"}],\"heatmapgl\":[{\"colorbar\":{\"outlinewidth\":0,\"ticks\":\"\"},\"colorscale\":[[0.0,\"#0d0887\"],[0.1111111111111111,\"#46039f\"],[0.2222222222222222,\"#7201a8\"],[0.3333333333333333,\"#9c179e\"],[0.4444444444444444,\"#bd3786\"],[0.5555555555555556,\"#d8576b\"],[0.6666666666666666,\"#ed7953\"],[0.7777777777777778,\"#fb9f3a\"],[0.8888888888888888,\"#fdca26\"],[1.0,\"#f0f921\"]],\"type\":\"heatmapgl\"}],\"histogram\":[{\"marker\":{\"pattern\":{\"fillmode\":\"overlay\",\"size\":10,\"solidity\":0.2}},\"type\":\"histogram\"}],\"histogram2d\":[{\"colorbar\":{\"outlinewidth\":0,\"ticks\":\"\"},\"colorscale\":[[0.0,\"#0d0887\"],[0.1111111111111111,\"#46039f\"],[0.2222222222222222,\"#7201a8\"],[0.3333333333333333,\"#9c179e\"],[0.4444444444444444,\"#bd3786\"],[0.5555555555555556,\"#d8576b\"],[0.6666666666666666,\"#ed7953\"],[0.7777777777777778,\"#fb9f3a\"],[0.8888888888888888,\"#fdca26\"],[1.0,\"#f0f921\"]],\"type\":\"histogram2d\"}],\"histogram2dcontour\":[{\"colorbar\":{\"outlinewidth\":0,\"ticks\":\"\"},\"colorscale\":[[0.0,\"#0d0887\"],[0.1111111111111111,\"#46039f\"],[0.2222222222222222,\"#7201a8\"],[0.3333333333333333,\"#9c179e\"],[0.4444444444444444,\"#bd3786\"],[0.5555555555555556,\"#d8576b\"],[0.6666666666666666,\"#ed7953\"],[0.7777777777777778,\"#fb9f3a\"],[0.8888888888888888,\"#fdca26\"],[1.0,\"#f0f921\"]],\"type\":\"histogram2dcontour\"}],\"mesh3d\":[{\"colorbar\":{\"outlinewidth\":0,\"ticks\":\"\"},\"type\":\"mesh3d\"}],\"parcoords\":[{\"line\":{\"colorbar\":{\"outlinewidth\":0,\"ticks\":\"\"}},\"type\":\"parcoords\"}],\"pie\":[{\"automargin\":true,\"type\":\"pie\"}],\"scatter\":[{\"marker\":{\"colorbar\":{\"outlinewidth\":0,\"ticks\":\"\"}},\"type\":\"scatter\"}],\"scatter3d\":[{\"line\":{\"colorbar\":{\"outlinewidth\":0,\"ticks\":\"\"}},\"marker\":{\"colorbar\":{\"outlinewidth\":0,\"ticks\":\"\"}},\"type\":\"scatter3d\"}],\"scattercarpet\":[{\"marker\":{\"colorbar\":{\"outlinewidth\":0,\"ticks\":\"\"}},\"type\":\"scattercarpet\"}],\"scattergeo\":[{\"marker\":{\"colorbar\":{\"outlinewidth\":0,\"ticks\":\"\"}},\"type\":\"scattergeo\"}],\"scattergl\":[{\"marker\":{\"colorbar\":{\"outlinewidth\":0,\"ticks\":\"\"}},\"type\":\"scattergl\"}],\"scattermapbox\":[{\"marker\":{\"colorbar\":{\"outlinewidth\":0,\"ticks\":\"\"}},\"type\":\"scattermapbox\"}],\"scatterpolar\":[{\"marker\":{\"colorbar\":{\"outlinewidth\":0,\"ticks\":\"\"}},\"type\":\"scatterpolar\"}],\"scatterpolargl\":[{\"marker\":{\"colorbar\":{\"outlinewidth\":0,\"ticks\":\"\"}},\"type\":\"scatterpolargl\"}],\"scatterternary\":[{\"marker\":{\"colorbar\":{\"outlinewidth\":0,\"ticks\":\"\"}},\"type\":\"scatterternary\"}],\"surface\":[{\"colorbar\":{\"outlinewidth\":0,\"ticks\":\"\"},\"colorscale\":[[0.0,\"#0d0887\"],[0.1111111111111111,\"#46039f\"],[0.2222222222222222,\"#7201a8\"],[0.3333333333333333,\"#9c179e\"],[0.4444444444444444,\"#bd3786\"],[0.5555555555555556,\"#d8576b\"],[0.6666666666666666,\"#ed7953\"],[0.7777777777777778,\"#fb9f3a\"],[0.8888888888888888,\"#fdca26\"],[1.0,\"#f0f921\"]],\"type\":\"surface\"}],\"table\":[{\"cells\":{\"fill\":{\"color\":\"#EBF0F8\"},\"line\":{\"color\":\"white\"}},\"header\":{\"fill\":{\"color\":\"#C8D4E3\"},\"line\":{\"color\":\"white\"}},\"type\":\"table\"}]},\"layout\":{\"annotationdefaults\":{\"arrowcolor\":\"#2a3f5f\",\"arrowhead\":0,\"arrowwidth\":1},\"autotypenumbers\":\"strict\",\"coloraxis\":{\"colorbar\":{\"outlinewidth\":0,\"ticks\":\"\"}},\"colorscale\":{\"diverging\":[[0,\"#8e0152\"],[0.1,\"#c51b7d\"],[0.2,\"#de77ae\"],[0.3,\"#f1b6da\"],[0.4,\"#fde0ef\"],[0.5,\"#f7f7f7\"],[0.6,\"#e6f5d0\"],[0.7,\"#b8e186\"],[0.8,\"#7fbc41\"],[0.9,\"#4d9221\"],[1,\"#276419\"]],\"sequential\":[[0.0,\"#0d0887\"],[0.1111111111111111,\"#46039f\"],[0.2222222222222222,\"#7201a8\"],[0.3333333333333333,\"#9c179e\"],[0.4444444444444444,\"#bd3786\"],[0.5555555555555556,\"#d8576b\"],[0.6666666666666666,\"#ed7953\"],[0.7777777777777778,\"#fb9f3a\"],[0.8888888888888888,\"#fdca26\"],[1.0,\"#f0f921\"]],\"sequentialminus\":[[0.0,\"#0d0887\"],[0.1111111111111111,\"#46039f\"],[0.2222222222222222,\"#7201a8\"],[0.3333333333333333,\"#9c179e\"],[0.4444444444444444,\"#bd3786\"],[0.5555555555555556,\"#d8576b\"],[0.6666666666666666,\"#ed7953\"],[0.7777777777777778,\"#fb9f3a\"],[0.8888888888888888,\"#fdca26\"],[1.0,\"#f0f921\"]]},\"colorway\":[\"#636efa\",\"#EF553B\",\"#00cc96\",\"#ab63fa\",\"#FFA15A\",\"#19d3f3\",\"#FF6692\",\"#B6E880\",\"#FF97FF\",\"#FECB52\"],\"font\":{\"color\":\"#2a3f5f\"},\"geo\":{\"bgcolor\":\"white\",\"lakecolor\":\"white\",\"landcolor\":\"#E5ECF6\",\"showlakes\":true,\"showland\":true,\"subunitcolor\":\"white\"},\"hoverlabel\":{\"align\":\"left\"},\"hovermode\":\"closest\",\"mapbox\":{\"style\":\"light\"},\"paper_bgcolor\":\"white\",\"plot_bgcolor\":\"#E5ECF6\",\"polar\":{\"angularaxis\":{\"gridcolor\":\"white\",\"linecolor\":\"white\",\"ticks\":\"\"},\"bgcolor\":\"#E5ECF6\",\"radialaxis\":{\"gridcolor\":\"white\",\"linecolor\":\"white\",\"ticks\":\"\"}},\"scene\":{\"xaxis\":{\"backgroundcolor\":\"#E5ECF6\",\"gridcolor\":\"white\",\"gridwidth\":2,\"linecolor\":\"white\",\"showbackground\":true,\"ticks\":\"\",\"zerolinecolor\":\"white\"},\"yaxis\":{\"backgroundcolor\":\"#E5ECF6\",\"gridcolor\":\"white\",\"gridwidth\":2,\"linecolor\":\"white\",\"showbackground\":true,\"ticks\":\"\",\"zerolinecolor\":\"white\"},\"zaxis\":{\"backgroundcolor\":\"#E5ECF6\",\"gridcolor\":\"white\",\"gridwidth\":2,\"linecolor\":\"white\",\"showbackground\":true,\"ticks\":\"\",\"zerolinecolor\":\"white\"}},\"shapedefaults\":{\"line\":{\"color\":\"#2a3f5f\"}},\"ternary\":{\"aaxis\":{\"gridcolor\":\"white\",\"linecolor\":\"white\",\"ticks\":\"\"},\"baxis\":{\"gridcolor\":\"white\",\"linecolor\":\"white\",\"ticks\":\"\"},\"bgcolor\":\"#E5ECF6\",\"caxis\":{\"gridcolor\":\"white\",\"linecolor\":\"white\",\"ticks\":\"\"}},\"title\":{\"x\":0.05},\"xaxis\":{\"automargin\":true,\"gridcolor\":\"white\",\"linecolor\":\"white\",\"ticks\":\"\",\"title\":{\"standoff\":15},\"zerolinecolor\":\"white\",\"zerolinewidth\":2},\"yaxis\":{\"automargin\":true,\"gridcolor\":\"white\",\"linecolor\":\"white\",\"ticks\":\"\",\"title\":{\"standoff\":15},\"zerolinecolor\":\"white\",\"zerolinewidth\":2}}},\"title\":{\"text\":\"\\uc5f0\\ub3c4 \\ubcc4 \\ubc30\\uae09\\uc0ac\\uc5d0 \\ub530\\ub978 \\ub3c5\\ub9bd\\uc608\\uc220 \\uc601\\ud654 \\uc218 \\ucd94\\uc774\"},\"xaxis\":{\"anchor\":\"y\",\"domain\":[0.0,1.0],\"title\":{\"text\":\"\\uac1c\\ubd09\\uc5f0\\ub3c4\"},\"type\":\"log\"},\"yaxis\":{\"anchor\":\"x\",\"domain\":[0.0,1.0],\"title\":{\"text\":\"\\ubc30\\uae09\\uc601\\ud654\\uc218\"}}},                        {\"responsive\": true}                    ).then(function(){\n",
              "                            \n",
              "var gd = document.getElementById('dc0d922c-0ae6-46b9-8787-4338a0a8b875');\n",
              "var x = new MutationObserver(function (mutations, observer) {{\n",
              "        var display = window.getComputedStyle(gd).display;\n",
              "        if (!display || display === 'none') {{\n",
              "            console.log([gd, 'removed!']);\n",
              "            Plotly.purge(gd);\n",
              "            observer.disconnect();\n",
              "        }}\n",
              "}});\n",
              "\n",
              "// Listen for the removal of the full notebook cells\n",
              "var notebookContainer = gd.closest('#notebook-container');\n",
              "if (notebookContainer) {{\n",
              "    x.observe(notebookContainer, {childList: true});\n",
              "}}\n",
              "\n",
              "// Listen for the clearing of the current output cell\n",
              "var outputEl = gd.closest('.output');\n",
              "if (outputEl) {{\n",
              "    x.observe(outputEl, {childList: true});\n",
              "}}\n",
              "\n",
              "                        })                };                            </script>        </div>\n",
              "</body>\n",
              "</html>"
            ]
          },
          "metadata": {}
        }
      ]
    },
    {
      "cell_type": "code",
      "metadata": {
        "colab": {
          "base_uri": "https://localhost:8080/",
          "height": 542
        },
        "id": "V1NBuzY4d73t",
        "outputId": "60b3cc0d-35a3-40de-a1dd-1463b983729f"
      },
      "source": [
        "#배급사 별로 매년 배급 영화 매출 추이를 보면 CGV 아트하우스는 1편 당 매출액이 40억 이상인 2014년을 제외하고는 영화 1편 당 매출이 7억 대로 감소하고 있었고, 2017년에는 매출이 3.5억, 2018년에는 매출이 2.7억원으로 감소, \n",
        "fig = px.bar(new_movies_art_big5_agg,\n",
        "             x = \"개봉연도\", \n",
        "             y = \"배급사매출액\", \n",
        "            #  text = \"배급영화수\",\n",
        "             title=\"연도 별 배급사에 따른 독립예술 영화 매출액 추이\", \n",
        "             color = \"배급사\", hover_name = \"배급사\", color_discrete_sequence=px.colors.sequential.Oranges,\n",
        "             hover_data=[\"매출액비중\"], log_x = True)\n",
        "# fig.update_traces(texttemplate='%{text}개', textposition='inside')\n",
        "fig.show()"
      ],
      "execution_count": 276,
      "outputs": [
        {
          "output_type": "display_data",
          "data": {
            "text/html": [
              "<html>\n",
              "<head><meta charset=\"utf-8\" /></head>\n",
              "<body>\n",
              "    <div>            <script src=\"https://cdnjs.cloudflare.com/ajax/libs/mathjax/2.7.5/MathJax.js?config=TeX-AMS-MML_SVG\"></script><script type=\"text/javascript\">if (window.MathJax) {MathJax.Hub.Config({SVG: {font: \"STIX-Web\"}});}</script>                <script type=\"text/javascript\">window.PlotlyConfig = {MathJaxConfig: 'local'};</script>\n",
              "        <script src=\"https://cdn.plot.ly/plotly-2.3.1.min.js\"></script>                <div id=\"a89d7d88-c594-4187-9410-1c7950992663\" class=\"plotly-graph-div\" style=\"height:525px; width:100%;\"></div>            <script type=\"text/javascript\">                                    window.PLOTLYENV=window.PLOTLYENV || {};                                    if (document.getElementById(\"a89d7d88-c594-4187-9410-1c7950992663\")) {                    Plotly.newPlot(                        \"a89d7d88-c594-4187-9410-1c7950992663\",                        [{\"alignmentgroup\":\"True\",\"customdata\":[[92.68804129068303],[82.74172401936046],[30.763554840259104],[1.63608767954341],[3.9178964996142054],[24.884008140762095],[35.520928404306915],[41.35092862116372],[11.971313872280048]],\"hovertemplate\":\"<b>%{hovertext}</b><br><br>\\ubc30\\uae09\\uc0ac=(\\uc8fc)\\ub125\\uc2a4\\ud2b8\\uc5d4\\ud130\\ud14c\\uc778\\uba3c\\ud2b8\\uc6d4\\ub4dc(NEW)<br>\\uac1c\\ubd09\\uc5f0\\ub3c4=%{x}<br>\\ubc30\\uae09\\uc0ac\\ub9e4\\ucd9c\\uc561=%{y}<br>\\ub9e4\\ucd9c\\uc561\\ube44\\uc911=%{customdata[0]}<extra></extra>\",\"hovertext\":[\"(\\uc8fc)\\ub125\\uc2a4\\ud2b8\\uc5d4\\ud130\\ud14c\\uc778\\uba3c\\ud2b8\\uc6d4\\ub4dc(NEW)\",\"(\\uc8fc)\\ub125\\uc2a4\\ud2b8\\uc5d4\\ud130\\ud14c\\uc778\\uba3c\\ud2b8\\uc6d4\\ub4dc(NEW)\",\"(\\uc8fc)\\ub125\\uc2a4\\ud2b8\\uc5d4\\ud130\\ud14c\\uc778\\uba3c\\ud2b8\\uc6d4\\ub4dc(NEW)\",\"(\\uc8fc)\\ub125\\uc2a4\\ud2b8\\uc5d4\\ud130\\ud14c\\uc778\\uba3c\\ud2b8\\uc6d4\\ub4dc(NEW)\",\"(\\uc8fc)\\ub125\\uc2a4\\ud2b8\\uc5d4\\ud130\\ud14c\\uc778\\uba3c\\ud2b8\\uc6d4\\ub4dc(NEW)\",\"(\\uc8fc)\\ub125\\uc2a4\\ud2b8\\uc5d4\\ud130\\ud14c\\uc778\\uba3c\\ud2b8\\uc6d4\\ub4dc(NEW)\",\"(\\uc8fc)\\ub125\\uc2a4\\ud2b8\\uc5d4\\ud130\\ud14c\\uc778\\uba3c\\ud2b8\\uc6d4\\ub4dc(NEW)\",\"(\\uc8fc)\\ub125\\uc2a4\\ud2b8\\uc5d4\\ud130\\ud14c\\uc778\\uba3c\\ud2b8\\uc6d4\\ub4dc(NEW)\",\"(\\uc8fc)\\ub125\\uc2a4\\ud2b8\\uc5d4\\ud130\\ud14c\\uc778\\uba3c\\ud2b8\\uc6d4\\ub4dc(NEW)\"],\"legendgroup\":\"(\\uc8fc)\\ub125\\uc2a4\\ud2b8\\uc5d4\\ud130\\ud14c\\uc778\\uba3c\\ud2b8\\uc6d4\\ub4dc(NEW)\",\"marker\":{\"color\":\"rgb(255,245,235)\",\"pattern\":{\"shape\":\"\"}},\"name\":\"(\\uc8fc)\\ub125\\uc2a4\\ud2b8\\uc5d4\\ud130\\ud14c\\uc778\\uba3c\\ud2b8\\uc6d4\\ub4dc(NEW)\",\"offsetgroup\":\"(\\uc8fc)\\ub125\\uc2a4\\ud2b8\\uc5d4\\ud130\\ud14c\\uc778\\uba3c\\ud2b8\\uc6d4\\ub4dc(NEW)\",\"orientation\":\"v\",\"showlegend\":true,\"textposition\":\"auto\",\"type\":\"bar\",\"x\":[2011,2012,2013,2014,2015,2016,2017,2018,2019],\"xaxis\":\"x\",\"y\":[12926816000,4354008500,762818379,593174100,706449100,1909798562,3703660800,1800206405,2048677319],\"yaxis\":\"y\"},{\"alignmentgroup\":\"True\",\"customdata\":[[7.311958709316965],[4.161746113140181],[10.986010521371856],[0.47978214707955896],[12.765649163644968],[2.2611525501503196],[16.242799521608394]],\"hovertemplate\":\"<b>%{hovertext}</b><br><br>\\ubc30\\uae09\\uc0ac=\\ub86f\\ub370\\uc1fc\\ud551\\u321c\\ub86f\\ub370\\uc5d4\\ud130\\ud14c\\uc778\\uba3c\\ud2b8<br>\\uac1c\\ubd09\\uc5f0\\ub3c4=%{x}<br>\\ubc30\\uae09\\uc0ac\\ub9e4\\ucd9c\\uc561=%{y}<br>\\ub9e4\\ucd9c\\uc561\\ube44\\uc911=%{customdata[0]}<extra></extra>\",\"hovertext\":[\"\\ub86f\\ub370\\uc1fc\\ud551\\u321c\\ub86f\\ub370\\uc5d4\\ud130\\ud14c\\uc778\\uba3c\\ud2b8\",\"\\ub86f\\ub370\\uc1fc\\ud551\\u321c\\ub86f\\ub370\\uc5d4\\ud130\\ud14c\\uc778\\uba3c\\ud2b8\",\"\\ub86f\\ub370\\uc1fc\\ud551\\u321c\\ub86f\\ub370\\uc5d4\\ud130\\ud14c\\uc778\\uba3c\\ud2b8\",\"\\ub86f\\ub370\\uc1fc\\ud551\\u321c\\ub86f\\ub370\\uc5d4\\ud130\\ud14c\\uc778\\uba3c\\ud2b8\",\"\\ub86f\\ub370\\uc1fc\\ud551\\u321c\\ub86f\\ub370\\uc5d4\\ud130\\ud14c\\uc778\\uba3c\\ud2b8\",\"\\ub86f\\ub370\\uc1fc\\ud551\\u321c\\ub86f\\ub370\\uc5d4\\ud130\\ud14c\\uc778\\uba3c\\ud2b8\",\"\\ub86f\\ub370\\uc1fc\\ud551\\u321c\\ub86f\\ub370\\uc5d4\\ud130\\ud14c\\uc778\\uba3c\\ud2b8\"],\"legendgroup\":\"\\ub86f\\ub370\\uc1fc\\ud551\\u321c\\ub86f\\ub370\\uc5d4\\ud130\\ud14c\\uc778\\uba3c\\ud2b8\",\"marker\":{\"color\":\"rgb(254,230,206)\",\"pattern\":{\"shape\":\"\"}},\"name\":\"\\ub86f\\ub370\\uc1fc\\ud551\\u321c\\ub86f\\ub370\\uc5d4\\ud130\\ud14c\\uc778\\uba3c\\ud2b8\",\"offsetgroup\":\"\\ub86f\\ub370\\uc1fc\\ud551\\u321c\\ub86f\\ub370\\uc5d4\\ud130\\ud14c\\uc778\\uba3c\\ud2b8\",\"orientation\":\"v\",\"showlegend\":true,\"textposition\":\"auto\",\"type\":\"bar\",\"x\":[2011,2012,2013,2014,2015,2016,2017],\"xaxis\":\"x\",\"y\":[1019768500,218998071,272411000,173948100,2301817152,173539000,1693588050],\"yaxis\":\"y\"},{\"alignmentgroup\":\"True\",\"customdata\":[[13.09652986749936],[11.010187640899197],[0.4829711679337873],[1.24490661298436],[46.021590962631336]],\"hovertemplate\":\"<b>%{hovertext}</b><br><br>\\ubc30\\uae09\\uc0ac=(\\uc8fc)\\uc528\\uc81c\\uc774\\uc774\\uc5d4\\uc5e0<br>\\uac1c\\ubd09\\uc5f0\\ub3c4=%{x}<br>\\ubc30\\uae09\\uc0ac\\ub9e4\\ucd9c\\uc561=%{y}<br>\\ub9e4\\ucd9c\\uc561\\ube44\\uc911=%{customdata[0]}<extra></extra>\",\"hovertext\":[\"(\\uc8fc)\\uc528\\uc81c\\uc774\\uc774\\uc5d4\\uc5e0\",\"(\\uc8fc)\\uc528\\uc81c\\uc774\\uc774\\uc5d4\\uc5e0\",\"(\\uc8fc)\\uc528\\uc81c\\uc774\\uc774\\uc5d4\\uc5e0\",\"(\\uc8fc)\\uc528\\uc81c\\uc774\\uc774\\uc5d4\\uc5e0\",\"(\\uc8fc)\\uc528\\uc81c\\uc774\\uc774\\uc5d4\\uc5e0\"],\"legendgroup\":\"(\\uc8fc)\\uc528\\uc81c\\uc774\\uc774\\uc5d4\\uc5e0\",\"marker\":{\"color\":\"rgb(253,208,162)\",\"pattern\":{\"shape\":\"\"}},\"name\":\"(\\uc8fc)\\uc528\\uc81c\\uc774\\uc774\\uc5d4\\uc5e0\",\"offsetgroup\":\"(\\uc8fc)\\uc528\\uc81c\\uc774\\uc774\\uc5d4\\uc5e0\",\"orientation\":\"v\",\"showlegend\":true,\"textposition\":\"auto\",\"type\":\"bar\",\"x\":[2012,2013,2014,2015,2020],\"xaxis\":\"x\",\"y\":[689161400,273010500,175104300,224473300,110180880],\"yaxis\":\"y\"},{\"alignmentgroup\":\"True\",\"customdata\":[[47.24024699746984],[92.56649582097],[13.049341451864848],[72.85483930908758],[48.236272074084695],[58.081026445639175],[30.10185043239641]],\"hovertemplate\":\"<b>%{hovertext}</b><br><br>\\ubc30\\uae09\\uc0ac=CGV\\uc544\\ud2b8\\ud558\\uc6b0\\uc2a4<br>\\uac1c\\ubd09\\uc5f0\\ub3c4=%{x}<br>\\ubc30\\uae09\\uc0ac\\ub9e4\\ucd9c\\uc561=%{y}<br>\\ub9e4\\ucd9c\\uc561\\ube44\\uc911=%{customdata[0]}<extra></extra>\",\"hovertext\":[\"CGV\\uc544\\ud2b8\\ud558\\uc6b0\\uc2a4\",\"CGV\\uc544\\ud2b8\\ud558\\uc6b0\\uc2a4\",\"CGV\\uc544\\ud2b8\\ud558\\uc6b0\\uc2a4\",\"CGV\\uc544\\ud2b8\\ud558\\uc6b0\\uc2a4\",\"CGV\\uc544\\ud2b8\\ud558\\uc6b0\\uc2a4\",\"CGV\\uc544\\ud2b8\\ud558\\uc6b0\\uc2a4\",\"CGV\\uc544\\ud2b8\\ud558\\uc6b0\\uc2a4\"],\"legendgroup\":\"CGV\\uc544\\ud2b8\\ud558\\uc6b0\\uc2a4\",\"marker\":{\"color\":\"rgb(253,174,107)\",\"pattern\":{\"shape\":\"\"}},\"name\":\"CGV\\uc544\\ud2b8\\ud558\\uc6b0\\uc2a4\",\"offsetgroup\":\"CGV\\uc544\\ud2b8\\ud558\\uc6b0\\uc2a4\",\"orientation\":\"v\",\"showlegend\":true,\"textposition\":\"auto\",\"type\":\"bar\",\"x\":[2013,2014,2015,2016,2017,2018,2019],\"xaxis\":\"x\",\"y\":[1171377262,33560577795,2352970663,5591465272,5029451595,2528548676,5151395987],\"yaxis\":\"y\"},{\"alignmentgroup\":\"True\",\"customdata\":[[4.834663184473239],[69.02220627189162]],\"hovertemplate\":\"<b>%{hovertext}</b><br><br>\\ubc30\\uae09\\uc0ac=(\\uc8fc)\\uc1fc\\ubc15\\uc2a4<br>\\uac1c\\ubd09\\uc5f0\\ub3c4=%{x}<br>\\ubc30\\uae09\\uc0ac\\ub9e4\\ucd9c\\uc561=%{y}<br>\\ub9e4\\ucd9c\\uc561\\ube44\\uc911=%{customdata[0]}<extra></extra>\",\"hovertext\":[\"(\\uc8fc)\\uc1fc\\ubc15\\uc2a4\",\"(\\uc8fc)\\uc1fc\\ubc15\\uc2a4\"],\"legendgroup\":\"(\\uc8fc)\\uc1fc\\ubc15\\uc2a4\",\"marker\":{\"color\":\"rgb(253,141,60)\",\"pattern\":{\"shape\":\"\"}},\"name\":\"(\\uc8fc)\\uc1fc\\ubc15\\uc2a4\",\"offsetgroup\":\"(\\uc8fc)\\uc1fc\\ubc15\\uc2a4\",\"orientation\":\"v\",\"showlegend\":true,\"textposition\":\"auto\",\"type\":\"bar\",\"x\":[2014,2015],\"xaxis\":\"x\",\"y\":[1752838200,12445626245],\"yaxis\":\"y\"},{\"alignmentgroup\":\"True\",\"customdata\":[[0.5680449331971039],[57.92683569532354],[53.97840903736867]],\"hovertemplate\":\"<b>%{hovertext}</b><br><br>\\ubc30\\uae09\\uc0ac=\\ub86f\\ub370\\uceec\\ucc98\\uc6cd\\uc2a4(\\uc8fc)\\ub86f\\ub370\\uc5d4\\ud130\\ud14c\\uc778\\uba3c\\ud2b8<br>\\uac1c\\ubd09\\uc5f0\\ub3c4=%{x}<br>\\ubc30\\uae09\\uc0ac\\ub9e4\\ucd9c\\uc561=%{y}<br>\\ub9e4\\ucd9c\\uc561\\ube44\\uc911=%{customdata[0]}<extra></extra>\",\"hovertext\":[\"\\ub86f\\ub370\\uceec\\ucc98\\uc6cd\\uc2a4(\\uc8fc)\\ub86f\\ub370\\uc5d4\\ud130\\ud14c\\uc778\\uba3c\\ud2b8\",\"\\ub86f\\ub370\\uceec\\ucc98\\uc6cd\\uc2a4(\\uc8fc)\\ub86f\\ub370\\uc5d4\\ud130\\ud14c\\uc778\\uba3c\\ud2b8\",\"\\ub86f\\ub370\\uceec\\ucc98\\uc6cd\\uc2a4(\\uc8fc)\\ub86f\\ub370\\uc5d4\\ud130\\ud14c\\uc778\\uba3c\\ud2b8\"],\"legendgroup\":\"\\ub86f\\ub370\\uceec\\ucc98\\uc6cd\\uc2a4(\\uc8fc)\\ub86f\\ub370\\uc5d4\\ud130\\ud14c\\uc778\\uba3c\\ud2b8\",\"marker\":{\"color\":\"rgb(241,105,19)\",\"pattern\":{\"shape\":\"\"}},\"name\":\"\\ub86f\\ub370\\uceec\\ucc98\\uc6cd\\uc2a4(\\uc8fc)\\ub86f\\ub370\\uc5d4\\ud130\\ud14c\\uc778\\uba3c\\ud2b8\",\"offsetgroup\":\"\\ub86f\\ub370\\uceec\\ucc98\\uc6cd\\uc2a4(\\uc8fc)\\ub86f\\ub370\\uc5d4\\ud130\\ud14c\\uc778\\uba3c\\ud2b8\",\"orientation\":\"v\",\"showlegend\":true,\"textposition\":\"auto\",\"type\":\"bar\",\"x\":[2018,2019,2020],\"xaxis\":\"x\",\"y\":[24729750,9913147021,129230400],\"yaxis\":\"y\"}],                        {\"barmode\":\"relative\",\"legend\":{\"title\":{\"text\":\"\\ubc30\\uae09\\uc0ac\"},\"tracegroupgap\":0},\"template\":{\"data\":{\"bar\":[{\"error_x\":{\"color\":\"#2a3f5f\"},\"error_y\":{\"color\":\"#2a3f5f\"},\"marker\":{\"line\":{\"color\":\"#E5ECF6\",\"width\":0.5},\"pattern\":{\"fillmode\":\"overlay\",\"size\":10,\"solidity\":0.2}},\"type\":\"bar\"}],\"barpolar\":[{\"marker\":{\"line\":{\"color\":\"#E5ECF6\",\"width\":0.5},\"pattern\":{\"fillmode\":\"overlay\",\"size\":10,\"solidity\":0.2}},\"type\":\"barpolar\"}],\"carpet\":[{\"aaxis\":{\"endlinecolor\":\"#2a3f5f\",\"gridcolor\":\"white\",\"linecolor\":\"white\",\"minorgridcolor\":\"white\",\"startlinecolor\":\"#2a3f5f\"},\"baxis\":{\"endlinecolor\":\"#2a3f5f\",\"gridcolor\":\"white\",\"linecolor\":\"white\",\"minorgridcolor\":\"white\",\"startlinecolor\":\"#2a3f5f\"},\"type\":\"carpet\"}],\"choropleth\":[{\"colorbar\":{\"outlinewidth\":0,\"ticks\":\"\"},\"type\":\"choropleth\"}],\"contour\":[{\"colorbar\":{\"outlinewidth\":0,\"ticks\":\"\"},\"colorscale\":[[0.0,\"#0d0887\"],[0.1111111111111111,\"#46039f\"],[0.2222222222222222,\"#7201a8\"],[0.3333333333333333,\"#9c179e\"],[0.4444444444444444,\"#bd3786\"],[0.5555555555555556,\"#d8576b\"],[0.6666666666666666,\"#ed7953\"],[0.7777777777777778,\"#fb9f3a\"],[0.8888888888888888,\"#fdca26\"],[1.0,\"#f0f921\"]],\"type\":\"contour\"}],\"contourcarpet\":[{\"colorbar\":{\"outlinewidth\":0,\"ticks\":\"\"},\"type\":\"contourcarpet\"}],\"heatmap\":[{\"colorbar\":{\"outlinewidth\":0,\"ticks\":\"\"},\"colorscale\":[[0.0,\"#0d0887\"],[0.1111111111111111,\"#46039f\"],[0.2222222222222222,\"#7201a8\"],[0.3333333333333333,\"#9c179e\"],[0.4444444444444444,\"#bd3786\"],[0.5555555555555556,\"#d8576b\"],[0.6666666666666666,\"#ed7953\"],[0.7777777777777778,\"#fb9f3a\"],[0.8888888888888888,\"#fdca26\"],[1.0,\"#f0f921\"]],\"type\":\"heatmap\"}],\"heatmapgl\":[{\"colorbar\":{\"outlinewidth\":0,\"ticks\":\"\"},\"colorscale\":[[0.0,\"#0d0887\"],[0.1111111111111111,\"#46039f\"],[0.2222222222222222,\"#7201a8\"],[0.3333333333333333,\"#9c179e\"],[0.4444444444444444,\"#bd3786\"],[0.5555555555555556,\"#d8576b\"],[0.6666666666666666,\"#ed7953\"],[0.7777777777777778,\"#fb9f3a\"],[0.8888888888888888,\"#fdca26\"],[1.0,\"#f0f921\"]],\"type\":\"heatmapgl\"}],\"histogram\":[{\"marker\":{\"pattern\":{\"fillmode\":\"overlay\",\"size\":10,\"solidity\":0.2}},\"type\":\"histogram\"}],\"histogram2d\":[{\"colorbar\":{\"outlinewidth\":0,\"ticks\":\"\"},\"colorscale\":[[0.0,\"#0d0887\"],[0.1111111111111111,\"#46039f\"],[0.2222222222222222,\"#7201a8\"],[0.3333333333333333,\"#9c179e\"],[0.4444444444444444,\"#bd3786\"],[0.5555555555555556,\"#d8576b\"],[0.6666666666666666,\"#ed7953\"],[0.7777777777777778,\"#fb9f3a\"],[0.8888888888888888,\"#fdca26\"],[1.0,\"#f0f921\"]],\"type\":\"histogram2d\"}],\"histogram2dcontour\":[{\"colorbar\":{\"outlinewidth\":0,\"ticks\":\"\"},\"colorscale\":[[0.0,\"#0d0887\"],[0.1111111111111111,\"#46039f\"],[0.2222222222222222,\"#7201a8\"],[0.3333333333333333,\"#9c179e\"],[0.4444444444444444,\"#bd3786\"],[0.5555555555555556,\"#d8576b\"],[0.6666666666666666,\"#ed7953\"],[0.7777777777777778,\"#fb9f3a\"],[0.8888888888888888,\"#fdca26\"],[1.0,\"#f0f921\"]],\"type\":\"histogram2dcontour\"}],\"mesh3d\":[{\"colorbar\":{\"outlinewidth\":0,\"ticks\":\"\"},\"type\":\"mesh3d\"}],\"parcoords\":[{\"line\":{\"colorbar\":{\"outlinewidth\":0,\"ticks\":\"\"}},\"type\":\"parcoords\"}],\"pie\":[{\"automargin\":true,\"type\":\"pie\"}],\"scatter\":[{\"marker\":{\"colorbar\":{\"outlinewidth\":0,\"ticks\":\"\"}},\"type\":\"scatter\"}],\"scatter3d\":[{\"line\":{\"colorbar\":{\"outlinewidth\":0,\"ticks\":\"\"}},\"marker\":{\"colorbar\":{\"outlinewidth\":0,\"ticks\":\"\"}},\"type\":\"scatter3d\"}],\"scattercarpet\":[{\"marker\":{\"colorbar\":{\"outlinewidth\":0,\"ticks\":\"\"}},\"type\":\"scattercarpet\"}],\"scattergeo\":[{\"marker\":{\"colorbar\":{\"outlinewidth\":0,\"ticks\":\"\"}},\"type\":\"scattergeo\"}],\"scattergl\":[{\"marker\":{\"colorbar\":{\"outlinewidth\":0,\"ticks\":\"\"}},\"type\":\"scattergl\"}],\"scattermapbox\":[{\"marker\":{\"colorbar\":{\"outlinewidth\":0,\"ticks\":\"\"}},\"type\":\"scattermapbox\"}],\"scatterpolar\":[{\"marker\":{\"colorbar\":{\"outlinewidth\":0,\"ticks\":\"\"}},\"type\":\"scatterpolar\"}],\"scatterpolargl\":[{\"marker\":{\"colorbar\":{\"outlinewidth\":0,\"ticks\":\"\"}},\"type\":\"scatterpolargl\"}],\"scatterternary\":[{\"marker\":{\"colorbar\":{\"outlinewidth\":0,\"ticks\":\"\"}},\"type\":\"scatterternary\"}],\"surface\":[{\"colorbar\":{\"outlinewidth\":0,\"ticks\":\"\"},\"colorscale\":[[0.0,\"#0d0887\"],[0.1111111111111111,\"#46039f\"],[0.2222222222222222,\"#7201a8\"],[0.3333333333333333,\"#9c179e\"],[0.4444444444444444,\"#bd3786\"],[0.5555555555555556,\"#d8576b\"],[0.6666666666666666,\"#ed7953\"],[0.7777777777777778,\"#fb9f3a\"],[0.8888888888888888,\"#fdca26\"],[1.0,\"#f0f921\"]],\"type\":\"surface\"}],\"table\":[{\"cells\":{\"fill\":{\"color\":\"#EBF0F8\"},\"line\":{\"color\":\"white\"}},\"header\":{\"fill\":{\"color\":\"#C8D4E3\"},\"line\":{\"color\":\"white\"}},\"type\":\"table\"}]},\"layout\":{\"annotationdefaults\":{\"arrowcolor\":\"#2a3f5f\",\"arrowhead\":0,\"arrowwidth\":1},\"autotypenumbers\":\"strict\",\"coloraxis\":{\"colorbar\":{\"outlinewidth\":0,\"ticks\":\"\"}},\"colorscale\":{\"diverging\":[[0,\"#8e0152\"],[0.1,\"#c51b7d\"],[0.2,\"#de77ae\"],[0.3,\"#f1b6da\"],[0.4,\"#fde0ef\"],[0.5,\"#f7f7f7\"],[0.6,\"#e6f5d0\"],[0.7,\"#b8e186\"],[0.8,\"#7fbc41\"],[0.9,\"#4d9221\"],[1,\"#276419\"]],\"sequential\":[[0.0,\"#0d0887\"],[0.1111111111111111,\"#46039f\"],[0.2222222222222222,\"#7201a8\"],[0.3333333333333333,\"#9c179e\"],[0.4444444444444444,\"#bd3786\"],[0.5555555555555556,\"#d8576b\"],[0.6666666666666666,\"#ed7953\"],[0.7777777777777778,\"#fb9f3a\"],[0.8888888888888888,\"#fdca26\"],[1.0,\"#f0f921\"]],\"sequentialminus\":[[0.0,\"#0d0887\"],[0.1111111111111111,\"#46039f\"],[0.2222222222222222,\"#7201a8\"],[0.3333333333333333,\"#9c179e\"],[0.4444444444444444,\"#bd3786\"],[0.5555555555555556,\"#d8576b\"],[0.6666666666666666,\"#ed7953\"],[0.7777777777777778,\"#fb9f3a\"],[0.8888888888888888,\"#fdca26\"],[1.0,\"#f0f921\"]]},\"colorway\":[\"#636efa\",\"#EF553B\",\"#00cc96\",\"#ab63fa\",\"#FFA15A\",\"#19d3f3\",\"#FF6692\",\"#B6E880\",\"#FF97FF\",\"#FECB52\"],\"font\":{\"color\":\"#2a3f5f\"},\"geo\":{\"bgcolor\":\"white\",\"lakecolor\":\"white\",\"landcolor\":\"#E5ECF6\",\"showlakes\":true,\"showland\":true,\"subunitcolor\":\"white\"},\"hoverlabel\":{\"align\":\"left\"},\"hovermode\":\"closest\",\"mapbox\":{\"style\":\"light\"},\"paper_bgcolor\":\"white\",\"plot_bgcolor\":\"#E5ECF6\",\"polar\":{\"angularaxis\":{\"gridcolor\":\"white\",\"linecolor\":\"white\",\"ticks\":\"\"},\"bgcolor\":\"#E5ECF6\",\"radialaxis\":{\"gridcolor\":\"white\",\"linecolor\":\"white\",\"ticks\":\"\"}},\"scene\":{\"xaxis\":{\"backgroundcolor\":\"#E5ECF6\",\"gridcolor\":\"white\",\"gridwidth\":2,\"linecolor\":\"white\",\"showbackground\":true,\"ticks\":\"\",\"zerolinecolor\":\"white\"},\"yaxis\":{\"backgroundcolor\":\"#E5ECF6\",\"gridcolor\":\"white\",\"gridwidth\":2,\"linecolor\":\"white\",\"showbackground\":true,\"ticks\":\"\",\"zerolinecolor\":\"white\"},\"zaxis\":{\"backgroundcolor\":\"#E5ECF6\",\"gridcolor\":\"white\",\"gridwidth\":2,\"linecolor\":\"white\",\"showbackground\":true,\"ticks\":\"\",\"zerolinecolor\":\"white\"}},\"shapedefaults\":{\"line\":{\"color\":\"#2a3f5f\"}},\"ternary\":{\"aaxis\":{\"gridcolor\":\"white\",\"linecolor\":\"white\",\"ticks\":\"\"},\"baxis\":{\"gridcolor\":\"white\",\"linecolor\":\"white\",\"ticks\":\"\"},\"bgcolor\":\"#E5ECF6\",\"caxis\":{\"gridcolor\":\"white\",\"linecolor\":\"white\",\"ticks\":\"\"}},\"title\":{\"x\":0.05},\"xaxis\":{\"automargin\":true,\"gridcolor\":\"white\",\"linecolor\":\"white\",\"ticks\":\"\",\"title\":{\"standoff\":15},\"zerolinecolor\":\"white\",\"zerolinewidth\":2},\"yaxis\":{\"automargin\":true,\"gridcolor\":\"white\",\"linecolor\":\"white\",\"ticks\":\"\",\"title\":{\"standoff\":15},\"zerolinecolor\":\"white\",\"zerolinewidth\":2}}},\"title\":{\"text\":\"\\uc5f0\\ub3c4 \\ubcc4 \\ubc30\\uae09\\uc0ac\\uc5d0 \\ub530\\ub978 \\ub3c5\\ub9bd\\uc608\\uc220 \\uc601\\ud654 \\ub9e4\\ucd9c\\uc561 \\ucd94\\uc774\"},\"xaxis\":{\"anchor\":\"y\",\"domain\":[0.0,1.0],\"title\":{\"text\":\"\\uac1c\\ubd09\\uc5f0\\ub3c4\"},\"type\":\"log\"},\"yaxis\":{\"anchor\":\"x\",\"domain\":[0.0,1.0],\"title\":{\"text\":\"\\ubc30\\uae09\\uc0ac\\ub9e4\\ucd9c\\uc561\"}}},                        {\"responsive\": true}                    ).then(function(){\n",
              "                            \n",
              "var gd = document.getElementById('a89d7d88-c594-4187-9410-1c7950992663');\n",
              "var x = new MutationObserver(function (mutations, observer) {{\n",
              "        var display = window.getComputedStyle(gd).display;\n",
              "        if (!display || display === 'none') {{\n",
              "            console.log([gd, 'removed!']);\n",
              "            Plotly.purge(gd);\n",
              "            observer.disconnect();\n",
              "        }}\n",
              "}});\n",
              "\n",
              "// Listen for the removal of the full notebook cells\n",
              "var notebookContainer = gd.closest('#notebook-container');\n",
              "if (notebookContainer) {{\n",
              "    x.observe(notebookContainer, {childList: true});\n",
              "}}\n",
              "\n",
              "// Listen for the clearing of the current output cell\n",
              "var outputEl = gd.closest('.output');\n",
              "if (outputEl) {{\n",
              "    x.observe(outputEl, {childList: true});\n",
              "}}\n",
              "\n",
              "                        })                };                            </script>        </div>\n",
              "</body>\n",
              "</html>"
            ]
          },
          "metadata": {}
        }
      ]
    },
    {
      "cell_type": "markdown",
      "metadata": {
        "id": "5NyLEDvaraZM"
      },
      "source": [
        "### 3) 개봉 연도 별 배급사가 제작한 영화는 얼마나 될까? \n",
        "- CJ E&M의 시장 점유율을 파악하기 위해 배급사에서 제작한 영화의 수를 파악했다. \n"
      ]
    },
    {
      "cell_type": "code",
      "metadata": {
        "id": "IGmzaFbV0fze"
      },
      "source": [
        "# 개봉연도 별 배급사가 만든 영화를 리스트화하여 보여줌 \n",
        "movie_counts = new_movies.groupby(['개봉연도','배급사'], as_index=True)[['개봉연도','배급사']].count()\n"
      ],
      "execution_count": null,
      "outputs": []
    }
  ]
}