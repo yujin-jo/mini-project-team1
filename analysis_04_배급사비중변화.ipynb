{
  "nbformat": 4,
  "nbformat_minor": 0,
  "metadata": {
    "colab": {
      "name": "analysis_04_배급사비중변화.ipynb",
      "provenance": [],
      "collapsed_sections": [
        "7POBoTdqfQBY"
      ],
      "mount_file_id": "17Bs3d-Sjzn8MpZoI2eWq7LT4hHRDaqmN",
      "authorship_tag": "ABX9TyPhnOpokYEuEkchf/zg2M2z",
      "include_colab_link": true
    },
    "kernelspec": {
      "name": "python3",
      "display_name": "Python 3"
    },
    "language_info": {
      "name": "python"
    }
  },
  "cells": [
    {
      "cell_type": "markdown",
      "metadata": {
        "id": "view-in-github",
        "colab_type": "text"
      },
      "source": [
        "<a href=\"https://colab.research.google.com/github/yujin-jo/mini-project-team1/blob/main/analysis_04_%EB%B0%B0%EA%B8%89%EC%82%AC%EB%B9%84%EC%A4%91%EB%B3%80%ED%99%94.ipynb\" target=\"_parent\"><img src=\"https://colab.research.google.com/assets/colab-badge.svg\" alt=\"Open In Colab\"/></a>"
      ]
    },
    {
      "cell_type": "markdown",
      "metadata": {
        "id": "7POBoTdqfQBY"
      },
      "source": [
        "# 기본 세팅\n",
        "- 깃허브 클론 \n",
        "- 드라이브 마운트 \n",
        "- 파일 임포트"
      ]
    },
    {
      "cell_type": "code",
      "metadata": {
        "colab": {
          "base_uri": "https://localhost:8080/"
        },
        "id": "J0MNdU7ibyud",
        "outputId": "46870a62-b3c7-4edf-8341-92a0e29fc608"
      },
      "source": [
        "!git clone https://github.com/yujin-jo/mini-project-team1.git"
      ],
      "execution_count": null,
      "outputs": [
        {
          "output_type": "stream",
          "text": [
            "Cloning into 'mini-project-team1'...\n",
            "remote: Enumerating objects: 567, done.\u001b[K\n",
            "remote: Counting objects: 100% (567/567), done.\u001b[K\n",
            "remote: Compressing objects: 100% (531/531), done.\u001b[K\n",
            "remote: Total 567 (delta 160), reused 0 (delta 0), pack-reused 0\u001b[K\n",
            "Receiving objects: 100% (567/567), 731.53 KiB | 5.30 MiB/s, done.\n",
            "Resolving deltas: 100% (160/160), done.\n"
          ],
          "name": "stdout"
        }
      ]
    },
    {
      "cell_type": "code",
      "metadata": {
        "colab": {
          "base_uri": "https://localhost:8080/"
        },
        "id": "Suwwd3PaezdJ",
        "outputId": "7a394d0a-25a7-426f-a98c-6abaf2317884"
      },
      "source": [
        "from google.colab import drive\n",
        "drive.mount('/content/drive')"
      ],
      "execution_count": null,
      "outputs": [
        {
          "output_type": "stream",
          "text": [
            "Mounted at /content/drive\n"
          ],
          "name": "stdout"
        }
      ]
    },
    {
      "cell_type": "code",
      "metadata": {
        "id": "drkQsu-ge1Bk"
      },
      "source": [
        "import pandas as pd \n",
        "import numpy as   np\n",
        "import matplotlib.pyplot as plt\n",
        "from statsmodels.formula.api import ols"
      ],
      "execution_count": null,
      "outputs": []
    },
    {
      "cell_type": "code",
      "metadata": {
        "colab": {
          "base_uri": "https://localhost:8080/",
          "height": 110
        },
        "id": "BYID_BVzkDhu",
        "outputId": "5d20d016-de02-47e5-fab8-c0c23008f266"
      },
      "source": [
        "movies = pd.read_csv(\"/content/mini-project-team1/1. Crawling/data/KOBIS_TOT.csv\")\n",
        "movies[\"개봉일\"] = pd.to_datetime(movies[\"개봉일\"])\n",
        "movies.head(2)"
      ],
      "execution_count": 10,
      "outputs": [
        {
          "output_type": "execute_result",
          "data": {
            "text/html": [
              "<div>\n",
              "<style scoped>\n",
              "    .dataframe tbody tr th:only-of-type {\n",
              "        vertical-align: middle;\n",
              "    }\n",
              "\n",
              "    .dataframe tbody tr th {\n",
              "        vertical-align: top;\n",
              "    }\n",
              "\n",
              "    .dataframe thead th {\n",
              "        text-align: right;\n",
              "    }\n",
              "</style>\n",
              "<table border=\"1\" class=\"dataframe\">\n",
              "  <thead>\n",
              "    <tr style=\"text-align: right;\">\n",
              "      <th></th>\n",
              "      <th>순번</th>\n",
              "      <th>개봉연도</th>\n",
              "      <th>영화명</th>\n",
              "      <th>감독</th>\n",
              "      <th>배급사</th>\n",
              "      <th>개봉일</th>\n",
              "      <th>국적</th>\n",
              "      <th>전국스크린수</th>\n",
              "      <th>전국매출액</th>\n",
              "      <th>전국관객수</th>\n",
              "      <th>장르</th>\n",
              "      <th>등급</th>\n",
              "      <th>영화구분</th>\n",
              "    </tr>\n",
              "  </thead>\n",
              "  <tbody>\n",
              "    <tr>\n",
              "      <th>0</th>\n",
              "      <td>1</td>\n",
              "      <td>2011</td>\n",
              "      <td>트랜스포머 3</td>\n",
              "      <td>마이클 베이</td>\n",
              "      <td>(주)씨제이이엔엠</td>\n",
              "      <td>2011-06-29</td>\n",
              "      <td>미국</td>\n",
              "      <td>1409</td>\n",
              "      <td>74841350500</td>\n",
              "      <td>7784807</td>\n",
              "      <td>액션</td>\n",
              "      <td>12세이상관람가</td>\n",
              "      <td>일반영화</td>\n",
              "    </tr>\n",
              "    <tr>\n",
              "      <th>1</th>\n",
              "      <td>2</td>\n",
              "      <td>2011</td>\n",
              "      <td>최종병기 활</td>\n",
              "      <td>김한민</td>\n",
              "      <td>롯데쇼핑㈜롯데엔터테인먼트</td>\n",
              "      <td>2011-08-10</td>\n",
              "      <td>한국</td>\n",
              "      <td>615</td>\n",
              "      <td>55808856500</td>\n",
              "      <td>7466976</td>\n",
              "      <td>사극</td>\n",
              "      <td>15세이상관람가</td>\n",
              "      <td>일반영화</td>\n",
              "    </tr>\n",
              "  </tbody>\n",
              "</table>\n",
              "</div>"
            ],
            "text/plain": [
              "   순번  개봉연도      영화명      감독  ...    전국관객수  장르        등급  영화구분\n",
              "0   1  2011  트랜스포머 3  마이클 베이  ...  7784807  액션  12세이상관람가  일반영화\n",
              "1   2  2011   최종병기 활     김한민  ...  7466976  사극  15세이상관람가  일반영화\n",
              "\n",
              "[2 rows x 13 columns]"
            ]
          },
          "metadata": {},
          "execution_count": 10
        }
      ]
    },
    {
      "cell_type": "markdown",
      "metadata": {
        "id": "6HGKJQkFfVkc"
      },
      "source": [
        "---\n",
        "# I. 가설 설정과 분석 배경\n",
        "\n",
        "1. 가설  :  2011년 ~ 2020년까지 국내 영화 배급사에서 CJ E&M의 비중은 연도 별로 감소했는가? \n",
        "2. 가설을 선택한 이유 : \n",
        "    - 기존에는 국내 영화의 경우 CJ E&M이 독점했왔음. \n",
        "    - 다른 신생 배급사들은 없었을까 궁금했음 \n",
        "    -  기존에 있던 영세 배급사들은 성장하거나 망했을까 궁금했고, 여전히 CJ E&M이 영화 산업을 지배하고 있는지 확인하고 싶었음 "
      ]
    },
    {
      "cell_type": "markdown",
      "metadata": {
        "id": "1uq-PL9sgAP8"
      },
      "source": [
        "# II. 분석 방향 \n",
        "1. 활용 데이터 \n",
        "  - 영화 개봉연도 : 연도 별로 영화 수 집계 필요 \n",
        "  - 영화 배급사 : 영화 별 배급사 정보 (KOBIS 참고) \n",
        "  - 영화 수 : 연도 별, 배급사 별로 집계한 영화 수\n",
        "\n",
        "2. 분석 방법론 \n",
        "  - 시계열 분석 활용 (2011 ~ 2020년 영화 정보) \n",
        "  - 영화 배급사의 종류가 연도 별로 어떻게 달라졌는지 확인  (중소 배급사 등 배급사가 늘었는지 확인하기 위함)\n",
        "  - 개봉 연도와 제작사 별로 영화 편수를 카운트한다. \n",
        "  - 연도 별로 제작사 별 비중을 계산하여 추이를 확인한다. \n",
        "\n",
        "3. 시각화 \n",
        "  - 비율 바 차트\n",
        "\n"
      ]
    },
    {
      "cell_type": "markdown",
      "metadata": {
        "id": "pFR2WhE3fxsO"
      },
      "source": [
        "\n",
        "# III. 분석 과정  "
      ]
    },
    {
      "cell_type": "markdown",
      "metadata": {
        "id": "ziVjU-lyrZLh"
      },
      "source": [
        "## 1. 데이터 테이블 분석\n",
        "- 2011년 ~ 2020년까지의 총 3,375개의 영화 데이터가 들어감 \n",
        "- movie 테이블에 들어간 정보를 movies.info()로 파악 \n",
        "- 영화 배급사의 종류는 '씨제이이엔엠', '롯데쇼핑(주)롯데엔터테인먼트', '유니버설픽쳐스인터네셔널 코리아(유)', '(주)넥스트엔터테인먼트월드 (NEW)', '(주) 팝엔터테인먼트',"
      ]
    },
    {
      "cell_type": "code",
      "metadata": {
        "id": "rmrAe2XUhsQW",
        "colab": {
          "base_uri": "https://localhost:8080/"
        },
        "outputId": "6af2164b-2afa-4344-f057-9f09899a987d"
      },
      "source": [
        "# 영화 기본 정보 확인 \n",
        "movies.info()"
      ],
      "execution_count": 17,
      "outputs": [
        {
          "output_type": "stream",
          "text": [
            "<class 'pandas.core.frame.DataFrame'>\n",
            "RangeIndex: 3375 entries, 0 to 3374\n",
            "Data columns (total 13 columns):\n",
            " #   Column  Non-Null Count  Dtype         \n",
            "---  ------  --------------  -----         \n",
            " 0   순번      3375 non-null   int64         \n",
            " 1   개봉연도    3375 non-null   int64         \n",
            " 2   영화명     3375 non-null   object        \n",
            " 3   감독      3375 non-null   object        \n",
            " 4   배급사     3374 non-null   object        \n",
            " 5   개봉일     3375 non-null   datetime64[ns]\n",
            " 6   국적      3375 non-null   object        \n",
            " 7   전국스크린수  3375 non-null   int64         \n",
            " 8   전국매출액   3375 non-null   int64         \n",
            " 9   전국관객수   3375 non-null   int64         \n",
            " 10  장르      3375 non-null   object        \n",
            " 11  등급      3375 non-null   object        \n",
            " 12  영화구분    3375 non-null   object        \n",
            "dtypes: datetime64[ns](1), int64(5), object(7)\n",
            "memory usage: 342.9+ KB\n"
          ],
          "name": "stdout"
        }
      ]
    },
    {
      "cell_type": "code",
      "metadata": {
        "colab": {
          "base_uri": "https://localhost:8080/"
        },
        "id": "CGyaTmatnPOG",
        "outputId": "d9fa6c23-04a2-46ce-e28a-e5f28b4283a6"
      },
      "source": [
        "# 영화 배급사 종류 확인 \n",
        "movies['배급사'].value_counts()"
      ],
      "execution_count": 21,
      "outputs": [
        {
          "output_type": "execute_result",
          "data": {
            "text/plain": [
              "(주)씨제이이엔엠                                         215\n",
              "롯데쇼핑㈜롯데엔터테인먼트                                     165\n",
              "유니버설픽쳐스인터내셔널 코리아(유)                               148\n",
              "(주)넥스트엔터테인먼트월드(NEW)                               138\n",
              "(주)팝엔터테인먼트                                        135\n",
              "                                                 ... \n",
              "(주)스튜디오 보난자                                         1\n",
              "(주)패뷸러스                                             1\n",
              "(주)더블앤조이픽쳐스,(주)브리즈픽처스                               1\n",
              "롯데쇼핑㈜롯데시네마                                          1\n",
              "(주)넥스트엔터테인먼트월드(NEW),KT&G 상상마당 영화사업팀 컴퍼니에스에스(주)      1\n",
              "Name: 배급사, Length: 434, dtype: int64"
            ]
          },
          "metadata": {},
          "execution_count": 21
        }
      ]
    },
    {
      "cell_type": "code",
      "metadata": {
        "id": "s75_agj3nw2o"
      },
      "source": [
        ""
      ],
      "execution_count": 20,
      "outputs": []
    },
    {
      "cell_type": "code",
      "metadata": {
        "id": "y7zr2ht0vxFF"
      },
      "source": [
        ""
      ],
      "execution_count": null,
      "outputs": []
    }
  ]
}