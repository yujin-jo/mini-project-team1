{
  "nbformat": 4,
  "nbformat_minor": 0,
  "metadata": {
    "colab": {
      "name": "analysis_04_배급사비중변화.ipynb",
      "provenance": [],
      "collapsed_sections": [],
      "toc_visible": true,
      "mount_file_id": "17Bs3d-Sjzn8MpZoI2eWq7LT4hHRDaqmN",
      "authorship_tag": "ABX9TyPiLkf9Wlc+0qmWYT2vMo7q",
      "include_colab_link": true
    },
    "kernelspec": {
      "name": "python3",
      "display_name": "Python 3"
    },
    "language_info": {
      "name": "python"
    }
  },
  "cells": [
    {
      "cell_type": "markdown",
      "metadata": {
        "id": "view-in-github",
        "colab_type": "text"
      },
      "source": [
        "<a href=\"https://colab.research.google.com/github/yujin-jo/mini-project-team1/blob/main/analysis_04_%EB%B0%B0%EA%B8%89%EC%82%AC%EB%B9%84%EC%A4%91%EB%B3%80%ED%99%94.ipynb\" target=\"_parent\"><img src=\"https://colab.research.google.com/assets/colab-badge.svg\" alt=\"Open In Colab\"/></a>"
      ]
    },
    {
      "cell_type": "markdown",
      "metadata": {
        "id": "7POBoTdqfQBY"
      },
      "source": [
        "# 기본 세팅\n",
        "- 깃허브 클론 \n",
        "- 드라이브 마운트 \n",
        "- 파일 임포트"
      ]
    },
    {
      "cell_type": "code",
      "metadata": {
        "colab": {
          "base_uri": "https://localhost:8080/"
        },
        "id": "J0MNdU7ibyud",
        "outputId": "a4a09d33-7b35-4b75-90c2-19700c054220"
      },
      "source": [
        "!git clone https://github.com/yujin-jo/mini-project-team1.git"
      ],
      "execution_count": null,
      "outputs": [
        {
          "output_type": "stream",
          "text": [
            "Cloning into 'mini-project-team1'...\n",
            "remote: Enumerating objects: 588, done.\u001b[K\n",
            "remote: Counting objects: 100% (588/588), done.\u001b[K\n",
            "remote: Compressing objects: 100% (552/552), done.\u001b[K\n",
            "remote: Total 588 (delta 167), reused 0 (delta 0), pack-reused 0\u001b[K\n",
            "Receiving objects: 100% (588/588), 807.79 KiB | 5.65 MiB/s, done.\n",
            "Resolving deltas: 100% (167/167), done.\n"
          ],
          "name": "stdout"
        }
      ]
    },
    {
      "cell_type": "code",
      "metadata": {
        "colab": {
          "base_uri": "https://localhost:8080/"
        },
        "id": "Suwwd3PaezdJ",
        "outputId": "af7a61db-dbd6-45c8-e9db-1fcd03c56562"
      },
      "source": [
        "from google.colab import drive\n",
        "drive.mount('/content/drive')"
      ],
      "execution_count": null,
      "outputs": [
        {
          "output_type": "stream",
          "text": [
            "Drive already mounted at /content/drive; to attempt to forcibly remount, call drive.mount(\"/content/drive\", force_remount=True).\n"
          ],
          "name": "stdout"
        }
      ]
    },
    {
      "cell_type": "code",
      "metadata": {
        "id": "drkQsu-ge1Bk"
      },
      "source": [
        "import pandas as pd \n",
        "import numpy as   np\n",
        "import matplotlib.pyplot as plt\n",
        "from statsmodels.formula.api import ols"
      ],
      "execution_count": null,
      "outputs": []
    },
    {
      "cell_type": "code",
      "metadata": {
        "colab": {
          "base_uri": "https://localhost:8080/",
          "height": 351
        },
        "id": "BYID_BVzkDhu",
        "outputId": "7530cdca-bd6f-4992-df39-c5c3a201cc71"
      },
      "source": [
        "movies = pd.read_csv(\"/content/mini-project-team1/1. Crawling/data/KOBIS_TOT (1).csv\")\n",
        "movies[\"개봉일\"] = pd.to_datetime(movies[\"개봉일\"])\n",
        "movies.sample(10)"
      ],
      "execution_count": null,
      "outputs": [
        {
          "output_type": "execute_result",
          "data": {
            "text/html": [
              "<div>\n",
              "<style scoped>\n",
              "    .dataframe tbody tr th:only-of-type {\n",
              "        vertical-align: middle;\n",
              "    }\n",
              "\n",
              "    .dataframe tbody tr th {\n",
              "        vertical-align: top;\n",
              "    }\n",
              "\n",
              "    .dataframe thead th {\n",
              "        text-align: right;\n",
              "    }\n",
              "</style>\n",
              "<table border=\"1\" class=\"dataframe\">\n",
              "  <thead>\n",
              "    <tr style=\"text-align: right;\">\n",
              "      <th></th>\n",
              "      <th>순번</th>\n",
              "      <th>개봉연도</th>\n",
              "      <th>영화명</th>\n",
              "      <th>감독</th>\n",
              "      <th>배급사</th>\n",
              "      <th>개봉일</th>\n",
              "      <th>국적</th>\n",
              "      <th>전국스크린수</th>\n",
              "      <th>전국매출액</th>\n",
              "      <th>전국관객수</th>\n",
              "      <th>장르</th>\n",
              "      <th>등급</th>\n",
              "      <th>영화구분</th>\n",
              "    </tr>\n",
              "  </thead>\n",
              "  <tbody>\n",
              "    <tr>\n",
              "      <th>502</th>\n",
              "      <td>503</td>\n",
              "      <td>2013</td>\n",
              "      <td>슈퍼배드 2</td>\n",
              "      <td>크리스 리노드,피에르 꼬팽</td>\n",
              "      <td>유니버설픽쳐스인터내셔널 코리아(유)</td>\n",
              "      <td>2013-09-12</td>\n",
              "      <td>미국</td>\n",
              "      <td>421</td>\n",
              "      <td>6359208000</td>\n",
              "      <td>925108</td>\n",
              "      <td>애니메이션</td>\n",
              "      <td>전체관람가</td>\n",
              "      <td>일반영화</td>\n",
              "    </tr>\n",
              "    <tr>\n",
              "      <th>1721</th>\n",
              "      <td>1722</td>\n",
              "      <td>2016</td>\n",
              "      <td>부릉! 부릉! 브루미즈: 스피더의 모험 일기</td>\n",
              "      <td>이영준</td>\n",
              "      <td>(주)삼지애니메이션</td>\n",
              "      <td>2016-12-15</td>\n",
              "      <td>한국</td>\n",
              "      <td>194</td>\n",
              "      <td>81128500</td>\n",
              "      <td>10208</td>\n",
              "      <td>애니메이션</td>\n",
              "      <td>전체관람가</td>\n",
              "      <td>독립/예술영화</td>\n",
              "    </tr>\n",
              "    <tr>\n",
              "      <th>1313</th>\n",
              "      <td>1314</td>\n",
              "      <td>2015</td>\n",
              "      <td>어떤살인</td>\n",
              "      <td>안용훈</td>\n",
              "      <td>TCO(주)더콘텐츠온,(주)전망좋은 영화사</td>\n",
              "      <td>2015-10-28</td>\n",
              "      <td>한국</td>\n",
              "      <td>179</td>\n",
              "      <td>137025800</td>\n",
              "      <td>17190</td>\n",
              "      <td>스릴러</td>\n",
              "      <td>청소년관람불가</td>\n",
              "      <td>독립/예술영화</td>\n",
              "    </tr>\n",
              "    <tr>\n",
              "      <th>2481</th>\n",
              "      <td>2482</td>\n",
              "      <td>2018</td>\n",
              "      <td>킨: 더 비기닝</td>\n",
              "      <td>조나단 베이커,조쉬 베이커</td>\n",
              "      <td>판씨네마(주)</td>\n",
              "      <td>2018-10-11</td>\n",
              "      <td>미국</td>\n",
              "      <td>167</td>\n",
              "      <td>151798300</td>\n",
              "      <td>17543</td>\n",
              "      <td>미스터리</td>\n",
              "      <td>15세이상관람가</td>\n",
              "      <td>일반영화</td>\n",
              "    </tr>\n",
              "    <tr>\n",
              "      <th>1253</th>\n",
              "      <td>1254</td>\n",
              "      <td>2015</td>\n",
              "      <td>미안해 사랑해 고마워</td>\n",
              "      <td>전윤수</td>\n",
              "      <td>(주)쇼박스</td>\n",
              "      <td>2015-10-28</td>\n",
              "      <td>한국</td>\n",
              "      <td>344</td>\n",
              "      <td>359247800</td>\n",
              "      <td>51207</td>\n",
              "      <td>드라마</td>\n",
              "      <td>15세이상관람가</td>\n",
              "      <td>일반영화</td>\n",
              "    </tr>\n",
              "    <tr>\n",
              "      <th>1826</th>\n",
              "      <td>1827</td>\n",
              "      <td>2017</td>\n",
              "      <td>분노의 질주: 더 익스트림</td>\n",
              "      <td>F. 게리 그레이</td>\n",
              "      <td>유니버설픽쳐스인터내셔널 코리아(유)</td>\n",
              "      <td>2017-04-12</td>\n",
              "      <td>미국</td>\n",
              "      <td>1469</td>\n",
              "      <td>29981156348</td>\n",
              "      <td>3653238</td>\n",
              "      <td>액션</td>\n",
              "      <td>15세이상관람가</td>\n",
              "      <td>일반영화</td>\n",
              "    </tr>\n",
              "    <tr>\n",
              "      <th>3144</th>\n",
              "      <td>3145</td>\n",
              "      <td>2020</td>\n",
              "      <td>비밀정보원: 인 더 프리즌</td>\n",
              "      <td>안드레아 디 스테파노</td>\n",
              "      <td>(주)제이앤씨미디어그룹</td>\n",
              "      <td>2020-04-15</td>\n",
              "      <td>영국</td>\n",
              "      <td>200</td>\n",
              "      <td>172588940</td>\n",
              "      <td>20317</td>\n",
              "      <td>범죄</td>\n",
              "      <td>청소년관람불가</td>\n",
              "      <td>일반영화</td>\n",
              "    </tr>\n",
              "    <tr>\n",
              "      <th>2863</th>\n",
              "      <td>2864</td>\n",
              "      <td>2019</td>\n",
              "      <td>경계선</td>\n",
              "      <td>알리 아바시</td>\n",
              "      <td>(주)제이앤씨미디어그룹</td>\n",
              "      <td>2019-10-24</td>\n",
              "      <td>스웨덴</td>\n",
              "      <td>48</td>\n",
              "      <td>38676620</td>\n",
              "      <td>17462</td>\n",
              "      <td>판타지</td>\n",
              "      <td>청소년관람불가</td>\n",
              "      <td>독립/예술영화</td>\n",
              "    </tr>\n",
              "    <tr>\n",
              "      <th>2280</th>\n",
              "      <td>2281</td>\n",
              "      <td>2018</td>\n",
              "      <td>궁합</td>\n",
              "      <td>홍창표</td>\n",
              "      <td>(주)씨제이이엔엠</td>\n",
              "      <td>2018-02-28</td>\n",
              "      <td>한국</td>\n",
              "      <td>966</td>\n",
              "      <td>10478875438</td>\n",
              "      <td>1340117</td>\n",
              "      <td>코미디</td>\n",
              "      <td>12세이상관람가</td>\n",
              "      <td>일반영화</td>\n",
              "    </tr>\n",
              "    <tr>\n",
              "      <th>2815</th>\n",
              "      <td>2816</td>\n",
              "      <td>2019</td>\n",
              "      <td>주전장</td>\n",
              "      <td>미키 데자키</td>\n",
              "      <td>(주)시네마달</td>\n",
              "      <td>2019-07-25</td>\n",
              "      <td>미국</td>\n",
              "      <td>56</td>\n",
              "      <td>35376040</td>\n",
              "      <td>39980</td>\n",
              "      <td>다큐멘터리</td>\n",
              "      <td>전체관람가</td>\n",
              "      <td>독립/예술영화</td>\n",
              "    </tr>\n",
              "  </tbody>\n",
              "</table>\n",
              "</div>"
            ],
            "text/plain": [
              "        순번  개봉연도                       영화명  ...     장르        등급     영화구분\n",
              "502    503  2013                    슈퍼배드 2  ...  애니메이션     전체관람가     일반영화\n",
              "1721  1722  2016  부릉! 부릉! 브루미즈: 스피더의 모험 일기  ...  애니메이션     전체관람가  독립/예술영화\n",
              "1313  1314  2015                      어떤살인  ...    스릴러   청소년관람불가  독립/예술영화\n",
              "2481  2482  2018                  킨: 더 비기닝  ...   미스터리  15세이상관람가     일반영화\n",
              "1253  1254  2015               미안해 사랑해 고마워  ...    드라마  15세이상관람가     일반영화\n",
              "1826  1827  2017            분노의 질주: 더 익스트림  ...     액션  15세이상관람가     일반영화\n",
              "3144  3145  2020            비밀정보원: 인 더 프리즌  ...     범죄   청소년관람불가     일반영화\n",
              "2863  2864  2019                       경계선  ...    판타지   청소년관람불가  독립/예술영화\n",
              "2280  2281  2018                        궁합  ...    코미디  12세이상관람가     일반영화\n",
              "2815  2816  2019                       주전장  ...  다큐멘터리     전체관람가  독립/예술영화\n",
              "\n",
              "[10 rows x 13 columns]"
            ]
          },
          "metadata": {},
          "execution_count": 21
        }
      ]
    },
    {
      "cell_type": "markdown",
      "metadata": {
        "id": "6HGKJQkFfVkc"
      },
      "source": [
        "---\n",
        "# I. 가설 설정과 분석 배경\n",
        "\n",
        "1. 가설  :  2011년 ~ 2020년까지 국내 영화 배급사에서 CJ E&M의 비중은 연도 별로 감소했는가? \n",
        "2. 가설을 선택한 이유 : \n",
        "    - 기존에는 국내 영화의 경우 CJ E&M이 독점했왔음. \n",
        "    - 다른 신생 배급사들은 없었을까 궁금했음 \n",
        "    -  기존에 있던 영세 배급사들은 성장하거나 망했을까 궁금했고, 여전히 CJ E&M이 영화 산업을 지배하고 있는지 확인하고 싶었음 "
      ]
    },
    {
      "cell_type": "markdown",
      "metadata": {
        "id": "1uq-PL9sgAP8"
      },
      "source": [
        "# II. 분석 방향 \n",
        "1. 활용 데이터 \n",
        "  - 영화 개봉연도 : 연도 별로 영화 수 집계 필요 \n",
        "  - 영화 배급사 : 영화 별 배급사 정보 (KOBIS 참고) \n",
        "  - 영화 수 : 연도 별, 배급사 별로 집계한 영화 수\n",
        "\n",
        "2. 분석 방법론 \n",
        "  - 시계열 분석 활용 (2011 ~ 2020년 영화 정보) \n",
        "  - 영화 배급사의 종류가 연도 별로 어떻게 달라졌는지 확인  (중소 배급사 등 배급사가 늘었는지 확인하기 위함)\n",
        "  - 개봉 연도와 제작사 별로 영화 편수를 카운트한다. \n",
        "  - 연도 별로 제작사 별 비중을 계산하여 추이를 확인한다. \n",
        "\n",
        "3. 시각화 \n",
        "  - 비율 바 차트\n",
        "\n"
      ]
    },
    {
      "cell_type": "markdown",
      "metadata": {
        "id": "pFR2WhE3fxsO"
      },
      "source": [
        "\n",
        "# III. 분석 과정  "
      ]
    },
    {
      "cell_type": "markdown",
      "metadata": {
        "id": "ziVjU-lyrZLh"
      },
      "source": [
        "## 1. 데이터 테이블 분석\n",
        "- 2011년 ~ 2020년까지의 총 3,375개의 영화 데이터가 들어감 \n",
        "- movie 테이블에 들어간 정보를 movies.info()로 파악 \n",
        "- 영화 배급사의 종류는 434개로 파악되나, 두 개 이상의 영화사가 있음 "
      ]
    },
    {
      "cell_type": "code",
      "metadata": {
        "id": "rmrAe2XUhsQW",
        "colab": {
          "base_uri": "https://localhost:8080/"
        },
        "outputId": "230f9bbc-6fe3-482c-f8f0-f6135c65979e"
      },
      "source": [
        "# 영화 기본 정보 확인 \n",
        "movies.info()"
      ],
      "execution_count": null,
      "outputs": [
        {
          "output_type": "stream",
          "text": [
            "<class 'pandas.core.frame.DataFrame'>\n",
            "RangeIndex: 3375 entries, 0 to 3374\n",
            "Data columns (total 13 columns):\n",
            " #   Column  Non-Null Count  Dtype         \n",
            "---  ------  --------------  -----         \n",
            " 0   순번      3375 non-null   int64         \n",
            " 1   개봉연도    3375 non-null   int64         \n",
            " 2   영화명     3375 non-null   object        \n",
            " 3   감독      3375 non-null   object        \n",
            " 4   배급사     3374 non-null   object        \n",
            " 5   개봉일     3375 non-null   datetime64[ns]\n",
            " 6   국적      3375 non-null   object        \n",
            " 7   전국스크린수  3375 non-null   int64         \n",
            " 8   전국매출액   3375 non-null   int64         \n",
            " 9   전국관객수   3375 non-null   int64         \n",
            " 10  장르      3375 non-null   object        \n",
            " 11  등급      3375 non-null   object        \n",
            " 12  영화구분    3375 non-null   object        \n",
            "dtypes: datetime64[ns](1), int64(5), object(7)\n",
            "memory usage: 342.9+ KB\n"
          ],
          "name": "stdout"
        }
      ]
    },
    {
      "cell_type": "code",
      "metadata": {
        "colab": {
          "base_uri": "https://localhost:8080/"
        },
        "id": "wEzrk7inMKvv",
        "outputId": "9cc11c61-6ee3-4caf-8de6-f33a27de8854"
      },
      "source": [
        "#value_count를 했을 때 하나의 영화에 두 개 이상의 배급사가 있는 것을 확인 -> 새로운 전처리가 필요하다. \n",
        "movies['배급사'].value_counts()"
      ],
      "execution_count": null,
      "outputs": [
        {
          "output_type": "execute_result",
          "data": {
            "text/plain": [
              "(주)씨제이이엔엠                             215\n",
              "롯데쇼핑㈜롯데엔터테인먼트                         165\n",
              "유니버설픽쳐스인터내셔널 코리아(유)                   148\n",
              "(주)넥스트엔터테인먼트월드(NEW)                   138\n",
              "(주)팝엔터테인먼트                            135\n",
              "                                     ... \n",
              "(주)키다리이엔티,주식회사 키위컴퍼니                    1\n",
              "소니픽쳐스엔터테인먼트코리아주식회사극장배급지점,(주)키다리이엔티      1\n",
              "(주)리틀빅픽쳐스,(주)트리니티픽쳐스                    1\n",
              "(유)조이앤시네마,(주)제이앤씨미디어그룹                  1\n",
              "TCO(주)더콘텐츠온,(주)전망좋은 영화사                 1\n",
              "Name: 배급사, Length: 434, dtype: int64"
            ]
          },
          "metadata": {},
          "execution_count": 149
        }
      ]
    },
    {
      "cell_type": "markdown",
      "metadata": {
        "id": "ZteRTOEsbAK3"
      },
      "source": [
        "## 2. 데이터 전처리 (배급사 string 분리) \n",
        "- 배급사 string을 , 기준으로 row로 분리하여 계산 "
      ]
    },
    {
      "cell_type": "code",
      "metadata": {
        "id": "y7zr2ht0vxFF",
        "colab": {
          "base_uri": "https://localhost:8080/"
        },
        "outputId": "617d69d0-c741-4d8a-b63e-e9d3569ef069"
      },
      "source": [
        "new_movies = movies.assign(배급사=movies.배급사.str.split(\",\"))\n",
        "new_movies = new_movies.배급사.apply(pd.Series).merge(new_movies, right_index = True, left_index = True)\n",
        "new_movies.info()"
      ],
      "execution_count": null,
      "outputs": [
        {
          "output_type": "stream",
          "text": [
            "<class 'pandas.core.frame.DataFrame'>\n",
            "RangeIndex: 3375 entries, 0 to 3374\n",
            "Data columns (total 19 columns):\n",
            " #   Column  Non-Null Count  Dtype         \n",
            "---  ------  --------------  -----         \n",
            " 0   0       3374 non-null   object        \n",
            " 1   1       321 non-null    object        \n",
            " 2   2       15 non-null     object        \n",
            " 3   3       1 non-null      object        \n",
            " 4   4       1 non-null      object        \n",
            " 5   5       1 non-null      object        \n",
            " 6   순번      3375 non-null   int64         \n",
            " 7   개봉연도    3375 non-null   int64         \n",
            " 8   영화명     3375 non-null   object        \n",
            " 9   감독      3375 non-null   object        \n",
            " 10  배급사     3374 non-null   object        \n",
            " 11  개봉일     3375 non-null   datetime64[ns]\n",
            " 12  국적      3375 non-null   object        \n",
            " 13  전국스크린수  3375 non-null   int64         \n",
            " 14  전국매출액   3375 non-null   int64         \n",
            " 15  전국관객수   3375 non-null   int64         \n",
            " 16  장르      3375 non-null   object        \n",
            " 17  등급      3375 non-null   object        \n",
            " 18  영화구분    3375 non-null   object        \n",
            "dtypes: datetime64[ns](1), int64(5), object(13)\n",
            "memory usage: 501.1+ KB\n"
          ],
          "name": "stdout"
        }
      ]
    },
    {
      "cell_type": "code",
      "metadata": {
        "id": "Pz89XmUm9Nm0"
      },
      "source": [
        "new_movies = movies.assign(배급사=movies.배급사.str.split(\",\"))\n",
        "new_movies = new_movies.배급사.apply(pd.Series).merge(new_movies, right_index = True, left_index = True)\n",
        "new_new_movies = new_movies.melt(id_vars = [\"순번\", \"개봉연도\", \"영화명\", \"감독\", \"배급사\", \"개봉일\", \"국적\", \"전국스크린수\", \"전국매출액\", \"전국관객수\", \"장르\", \"등급\", \"영화구분\"], var_name=\"new_배급사\", value_name = \"진짜배급사\")\n",
        "new_movies_a = new_new_movies.sort_values(by = [\"순번\", \"new_배급사\"], ascending = True)\n",
        "new_movies = new_movies_a[new_movies_a[\"진짜배급사\"].notnull()]"
      ],
      "execution_count": null,
      "outputs": []
    },
    {
      "cell_type": "code",
      "metadata": {
        "colab": {
          "base_uri": "https://localhost:8080/"
        },
        "id": "paqurkmEHdgp",
        "outputId": "70e53714-5b76-4aae-8662-7b510a39446e"
      },
      "source": [
        "new_movies.info()"
      ],
      "execution_count": null,
      "outputs": [
        {
          "output_type": "stream",
          "text": [
            "<class 'pandas.core.frame.DataFrame'>\n",
            "Int64Index: 3713 entries, 0 to 3374\n",
            "Data columns (total 15 columns):\n",
            " #   Column   Non-Null Count  Dtype         \n",
            "---  ------   --------------  -----         \n",
            " 0   순번       3713 non-null   int64         \n",
            " 1   개봉연도     3713 non-null   int64         \n",
            " 2   영화명      3713 non-null   object        \n",
            " 3   감독       3713 non-null   object        \n",
            " 4   배급사      3713 non-null   object        \n",
            " 5   개봉일      3713 non-null   datetime64[ns]\n",
            " 6   국적       3713 non-null   object        \n",
            " 7   전국스크린수   3713 non-null   int64         \n",
            " 8   전국매출액    3713 non-null   int64         \n",
            " 9   전국관객수    3713 non-null   int64         \n",
            " 10  장르       3713 non-null   object        \n",
            " 11  등급       3713 non-null   object        \n",
            " 12  영화구분     3713 non-null   object        \n",
            " 13  new_배급사  3713 non-null   object        \n",
            " 14  진짜배급사    3713 non-null   object        \n",
            "dtypes: datetime64[ns](1), int64(5), object(9)\n",
            "memory usage: 464.1+ KB\n"
          ],
          "name": "stdout"
        }
      ]
    },
    {
      "cell_type": "code",
      "metadata": {
        "id": "zgXqB0D_NjGu"
      },
      "source": [
        ""
      ],
      "execution_count": null,
      "outputs": []
    }
  ]
}