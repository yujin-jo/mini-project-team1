{
  "nbformat": 4,
  "nbformat_minor": 0,
  "metadata": {
    "colab": {
      "name": "analysis_04_배급사비중변화.ipynb",
      "provenance": [],
      "collapsed_sections": [],
      "toc_visible": true,
      "mount_file_id": "17Bs3d-Sjzn8MpZoI2eWq7LT4hHRDaqmN",
      "authorship_tag": "ABX9TyNUbSZI023Zx5Z6lg3vdh9U",
      "include_colab_link": true
    },
    "kernelspec": {
      "name": "python3",
      "display_name": "Python 3"
    },
    "language_info": {
      "name": "python"
    }
  },
  "cells": [
    {
      "cell_type": "markdown",
      "metadata": {
        "id": "view-in-github",
        "colab_type": "text"
      },
      "source": [
        "<a href=\"https://colab.research.google.com/github/yujin-jo/mini-project-team1/blob/main/analysis_04_%EB%B0%B0%EA%B8%89%EC%82%AC%EB%B9%84%EC%A4%91%EB%B3%80%ED%99%94.ipynb\" target=\"_parent\"><img src=\"https://colab.research.google.com/assets/colab-badge.svg\" alt=\"Open In Colab\"/></a>"
      ]
    },
    {
      "cell_type": "markdown",
      "metadata": {
        "id": "7POBoTdqfQBY"
      },
      "source": [
        "# 기본 세팅\n",
        "- 깃허브 클론 \n",
        "- 드라이브 마운트 \n",
        "- 파일 임포트"
      ]
    },
    {
      "cell_type": "code",
      "metadata": {
        "colab": {
          "base_uri": "https://localhost:8080/"
        },
        "id": "J0MNdU7ibyud",
        "outputId": "c6b37032-31e0-4c0d-e679-3a5fd09bcf19"
      },
      "source": [
        "!git clone https://github.com/yujin-jo/mini-project-team1.git"
      ],
      "execution_count": 1,
      "outputs": [
        {
          "output_type": "stream",
          "text": [
            "Cloning into 'mini-project-team1'...\n",
            "remote: Enumerating objects: 612, done.\u001b[K\n",
            "remote: Counting objects: 100% (612/612), done.\u001b[K\n",
            "remote: Compressing objects: 100% (574/574), done.\u001b[K\n",
            "remote: Total 612 (delta 176), reused 0 (delta 0), pack-reused 0\u001b[K\n",
            "Receiving objects: 100% (612/612), 1.88 MiB | 7.14 MiB/s, done.\n",
            "Resolving deltas: 100% (176/176), done.\n"
          ],
          "name": "stdout"
        }
      ]
    },
    {
      "cell_type": "code",
      "metadata": {
        "colab": {
          "base_uri": "https://localhost:8080/"
        },
        "id": "Suwwd3PaezdJ",
        "outputId": "925ac093-4e6c-4a4c-c437-d19dc82c7a57"
      },
      "source": [
        "from google.colab import drive\n",
        "drive.mount('/content/drive')"
      ],
      "execution_count": 2,
      "outputs": [
        {
          "output_type": "stream",
          "text": [
            "Drive already mounted at /content/drive; to attempt to forcibly remount, call drive.mount(\"/content/drive\", force_remount=True).\n"
          ],
          "name": "stdout"
        }
      ]
    },
    {
      "cell_type": "code",
      "metadata": {
        "colab": {
          "base_uri": "https://localhost:8080/"
        },
        "id": "fmPjRksast7G",
        "outputId": "3fa3178c-626a-4638-c552-b2ffd0872f58"
      },
      "source": [
        "pip install plotly==5.2.1"
      ],
      "execution_count": 3,
      "outputs": [
        {
          "output_type": "stream",
          "text": [
            "Collecting plotly==5.2.1\n",
            "  Downloading plotly-5.2.1-py2.py3-none-any.whl (21.8 MB)\n",
            "\u001b[K     |████████████████████████████████| 21.8 MB 1.5 MB/s \n",
            "\u001b[?25hRequirement already satisfied: six in /usr/local/lib/python3.7/dist-packages (from plotly==5.2.1) (1.15.0)\n",
            "Collecting tenacity>=6.2.0\n",
            "  Downloading tenacity-8.0.1-py3-none-any.whl (24 kB)\n",
            "Installing collected packages: tenacity, plotly\n",
            "  Attempting uninstall: plotly\n",
            "    Found existing installation: plotly 4.4.1\n",
            "    Uninstalling plotly-4.4.1:\n",
            "      Successfully uninstalled plotly-4.4.1\n",
            "Successfully installed plotly-5.2.1 tenacity-8.0.1\n"
          ],
          "name": "stdout"
        }
      ]
    },
    {
      "cell_type": "code",
      "metadata": {
        "id": "drkQsu-ge1Bk",
        "colab": {
          "base_uri": "https://localhost:8080/"
        },
        "outputId": "d6f72382-0ace-4609-f817-f606727fa12d"
      },
      "source": [
        "#기본\n",
        "import pandas as pd \n",
        "import numpy as   np\n",
        "import matplotlib.pyplot as plt\n",
        "from statsmodels.formula.api import ols\n",
        "import json\n",
        "#plotly\n",
        "import plotly.graph_objects as go\n",
        "import plotly.express as px\n",
        "import plotly.io as io\n",
        "import plotly.figure_factory as ff\n",
        "from plotly.subplots import make_subplots\n",
        "from plotly.validators.scatter.marker import SymbolValidator"
      ],
      "execution_count": 4,
      "outputs": [
        {
          "output_type": "stream",
          "text": [
            "/usr/local/lib/python3.7/dist-packages/statsmodels/tools/_testing.py:19: FutureWarning: pandas.util.testing is deprecated. Use the functions in the public API at pandas.testing instead.\n",
            "  import pandas.util.testing as tm\n"
          ],
          "name": "stderr"
        }
      ]
    },
    {
      "cell_type": "code",
      "metadata": {
        "colab": {
          "base_uri": "https://localhost:8080/",
          "height": 78
        },
        "id": "BYID_BVzkDhu",
        "outputId": "a406e9e2-c0c5-4886-865f-6390491b9cfa"
      },
      "source": [
        "movies = pd.read_csv(\"/content/mini-project-team1/1. Crawling/data/KOBIS_TOT (1).csv\")\n",
        "movies[\"개봉일\"] = pd.to_datetime(movies[\"개봉일\"])\n",
        "movies.sample(1)"
      ],
      "execution_count": 5,
      "outputs": [
        {
          "output_type": "execute_result",
          "data": {
            "text/html": [
              "<div>\n",
              "<style scoped>\n",
              "    .dataframe tbody tr th:only-of-type {\n",
              "        vertical-align: middle;\n",
              "    }\n",
              "\n",
              "    .dataframe tbody tr th {\n",
              "        vertical-align: top;\n",
              "    }\n",
              "\n",
              "    .dataframe thead th {\n",
              "        text-align: right;\n",
              "    }\n",
              "</style>\n",
              "<table border=\"1\" class=\"dataframe\">\n",
              "  <thead>\n",
              "    <tr style=\"text-align: right;\">\n",
              "      <th></th>\n",
              "      <th>순번</th>\n",
              "      <th>개봉연도</th>\n",
              "      <th>영화명</th>\n",
              "      <th>감독</th>\n",
              "      <th>배급사</th>\n",
              "      <th>개봉일</th>\n",
              "      <th>국적</th>\n",
              "      <th>전국스크린수</th>\n",
              "      <th>전국매출액</th>\n",
              "      <th>전국관객수</th>\n",
              "      <th>장르</th>\n",
              "      <th>등급</th>\n",
              "      <th>영화구분</th>\n",
              "    </tr>\n",
              "  </thead>\n",
              "  <tbody>\n",
              "    <tr>\n",
              "      <th>1506</th>\n",
              "      <td>1507</td>\n",
              "      <td>2016</td>\n",
              "      <td>명탐정 코난: 순흑의 악몽</td>\n",
              "      <td>시즈노 코분</td>\n",
              "      <td>(주)씨제이이엔엠</td>\n",
              "      <td>2016-08-03</td>\n",
              "      <td>일본</td>\n",
              "      <td>447</td>\n",
              "      <td>3754104500</td>\n",
              "      <td>507508</td>\n",
              "      <td>애니메이션</td>\n",
              "      <td>12세이상관람가</td>\n",
              "      <td>일반영화</td>\n",
              "    </tr>\n",
              "  </tbody>\n",
              "</table>\n",
              "</div>"
            ],
            "text/plain": [
              "        순번  개봉연도             영화명      감독  ...   전국관객수     장르        등급  영화구분\n",
              "1506  1507  2016  명탐정 코난: 순흑의 악몽  시즈노 코분  ...  507508  애니메이션  12세이상관람가  일반영화\n",
              "\n",
              "[1 rows x 13 columns]"
            ]
          },
          "metadata": {},
          "execution_count": 5
        }
      ]
    },
    {
      "cell_type": "markdown",
      "metadata": {
        "id": "6HGKJQkFfVkc"
      },
      "source": [
        "---\n",
        "# I. 가설 설정과 분석 배경\n",
        "\n",
        "1. 가설  :  2011년 ~ 2020년까지 국내 영화 배급사에서 CJ E&M의 비중은 연도 별로 감소했는가? \n",
        "2. 가설을 선택한 이유 : \n",
        "    - 기존에는 국내 영화의 경우 CJ E&M이 독점했왔음. \n",
        "    - 다른 신생 배급사들은 없었을까 궁금했음 \n",
        "    -  기존에 있던 영세 배급사들은 성장하거나 망했을까 궁금했고, 여전히 CJ E&M이 영화 산업을 지배하고 있는지 확인하고 싶었음 "
      ]
    },
    {
      "cell_type": "markdown",
      "metadata": {
        "id": "1uq-PL9sgAP8"
      },
      "source": [
        "# II. 분석 방향 \n",
        "1. 활용 데이터 \n",
        "  - 영화 개봉연도 : 연도 별로 영화 수 집계 필요 \n",
        "  - 영화 배급사 : 영화 별 배급사 정보 (KOBIS 참고) \n",
        "  - 영화 수 : 연도 별, 배급사 별로 집계한 영화 수\n",
        "\n",
        "2. 분석 방법론 \n",
        "  - 시계열 분석 활용 (2011 ~ 2020년 영화 정보) \n",
        "  - 영화 배급사의 종류가 연도 별로 어떻게 달라졌는지 확인  (중소 배급사 등 배급사가 늘었는지 확인하기 위함)\n",
        "  - 개봉 연도와 제작사 별로 영화 편수를 카운트한다. \n",
        "  - 연도 별로 제작사 별 비중을 계산하여 추이를 확인한다. \n",
        "\n",
        "3. 시각화 \n",
        "  - 비율 바 차트\n",
        "\n"
      ]
    },
    {
      "cell_type": "markdown",
      "metadata": {
        "id": "pFR2WhE3fxsO"
      },
      "source": [
        "\n",
        "# III. 분석 과정  "
      ]
    },
    {
      "cell_type": "markdown",
      "metadata": {
        "id": "ziVjU-lyrZLh"
      },
      "source": [
        "## 1. 데이터 테이블 overview\n",
        "- 2011년 ~ 2020년까지의 총 3,375개의 영화 데이터가 들어감 \n",
        "- movie 테이블에 들어간 정보를 movies.info()로 파악 \n",
        "- 영화 배급사의 종류는 434개로 파악되나, 두 개 이상의 영화사가 있음 "
      ]
    },
    {
      "cell_type": "code",
      "metadata": {
        "id": "rmrAe2XUhsQW",
        "colab": {
          "base_uri": "https://localhost:8080/"
        },
        "outputId": "5d719540-7901-4bca-9a6a-ff184ae320e8"
      },
      "source": [
        "# 영화 기본 정보 확인 \n",
        "movies.info()"
      ],
      "execution_count": 6,
      "outputs": [
        {
          "output_type": "stream",
          "text": [
            "<class 'pandas.core.frame.DataFrame'>\n",
            "RangeIndex: 3375 entries, 0 to 3374\n",
            "Data columns (total 13 columns):\n",
            " #   Column  Non-Null Count  Dtype         \n",
            "---  ------  --------------  -----         \n",
            " 0   순번      3375 non-null   int64         \n",
            " 1   개봉연도    3375 non-null   int64         \n",
            " 2   영화명     3375 non-null   object        \n",
            " 3   감독      3375 non-null   object        \n",
            " 4   배급사     3374 non-null   object        \n",
            " 5   개봉일     3375 non-null   datetime64[ns]\n",
            " 6   국적      3375 non-null   object        \n",
            " 7   전국스크린수  3375 non-null   int64         \n",
            " 8   전국매출액   3375 non-null   int64         \n",
            " 9   전국관객수   3375 non-null   int64         \n",
            " 10  장르      3375 non-null   object        \n",
            " 11  등급      3375 non-null   object        \n",
            " 12  영화구분    3375 non-null   object        \n",
            "dtypes: datetime64[ns](1), int64(5), object(7)\n",
            "memory usage: 342.9+ KB\n"
          ],
          "name": "stdout"
        }
      ]
    },
    {
      "cell_type": "code",
      "metadata": {
        "colab": {
          "base_uri": "https://localhost:8080/"
        },
        "id": "l9W8TiMurdfh",
        "outputId": "458f9d99-1d1a-4ed2-b1dd-38c8abaa2817"
      },
      "source": [
        "#연도 별로 몇 편의 영화가 개봉되는지 확인했다. \n",
        "movies['개봉연도'].value_counts()"
      ],
      "execution_count": 7,
      "outputs": [
        {
          "output_type": "execute_result",
          "data": {
            "text/plain": [
              "2017    428\n",
              "2018    402\n",
              "2019    389\n",
              "2016    380\n",
              "2015    354\n",
              "2014    346\n",
              "2020    345\n",
              "2013    287\n",
              "2012    232\n",
              "2011    212\n",
              "Name: 개봉연도, dtype: int64"
            ]
          },
          "metadata": {},
          "execution_count": 7
        }
      ]
    },
    {
      "cell_type": "code",
      "metadata": {
        "colab": {
          "base_uri": "https://localhost:8080/"
        },
        "id": "wEzrk7inMKvv",
        "outputId": "8cb1b016-fe7c-4107-adff-ac1dd28ee91c"
      },
      "source": [
        "#value_count를 했을 때 하나의 영화에 두 개 이상의 배급사가 있는 것을 확인 -> 새로운 전처리가 필요하다. \n",
        "movies['배급사'].value_counts()"
      ],
      "execution_count": 8,
      "outputs": [
        {
          "output_type": "execute_result",
          "data": {
            "text/plain": [
              "(주)씨제이이엔엠                                 215\n",
              "롯데쇼핑㈜롯데엔터테인먼트                             165\n",
              "유니버설픽쳐스인터내셔널 코리아(유)                       148\n",
              "(주)넥스트엔터테인먼트월드(NEW)                       138\n",
              "(주)팝엔터테인먼트                                135\n",
              "                                         ... \n",
              "롯데쇼핑㈜롯데시네마                                  1\n",
              "롯데쇼핑㈜롯데엔터테인먼트,타임스토리그룹(주)                    1\n",
              "CGV아트하우스,그린나래미디어(주)                         1\n",
              "TCO(주)더콘텐츠온,플레이리스트(주)                       1\n",
              "(주)드림팩트엔터테인먼트,(주)제이앤씨미디어그룹,TCO(주)더콘텐츠온      1\n",
              "Name: 배급사, Length: 434, dtype: int64"
            ]
          },
          "metadata": {},
          "execution_count": 8
        }
      ]
    },
    {
      "cell_type": "markdown",
      "metadata": {
        "id": "ZteRTOEsbAK3"
      },
      "source": [
        "## 2. 데이터 전처리 (배급사 string 분리) \n",
        "- 배급사 string을 , 기준으로 row로 분리하여 계산 \n",
        "- 분리 결과 new_movies 테이블 생성"
      ]
    },
    {
      "cell_type": "code",
      "metadata": {
        "id": "y7zr2ht0vxFF",
        "colab": {
          "base_uri": "https://localhost:8080/"
        },
        "outputId": "5780db99-ed03-4913-cd6c-a9c21968204e"
      },
      "source": [
        "new_movies = movies.assign(배급사=movies.배급사.str.split(\",\"))\n",
        "new_movies = new_movies.배급사.apply(pd.Series).merge(new_movies, right_index = True, left_index = True)\n",
        "new_movies.info()"
      ],
      "execution_count": 9,
      "outputs": [
        {
          "output_type": "stream",
          "text": [
            "<class 'pandas.core.frame.DataFrame'>\n",
            "RangeIndex: 3375 entries, 0 to 3374\n",
            "Data columns (total 19 columns):\n",
            " #   Column  Non-Null Count  Dtype         \n",
            "---  ------  --------------  -----         \n",
            " 0   0       3374 non-null   object        \n",
            " 1   1       321 non-null    object        \n",
            " 2   2       15 non-null     object        \n",
            " 3   3       1 non-null      object        \n",
            " 4   4       1 non-null      object        \n",
            " 5   5       1 non-null      object        \n",
            " 6   순번      3375 non-null   int64         \n",
            " 7   개봉연도    3375 non-null   int64         \n",
            " 8   영화명     3375 non-null   object        \n",
            " 9   감독      3375 non-null   object        \n",
            " 10  배급사     3374 non-null   object        \n",
            " 11  개봉일     3375 non-null   datetime64[ns]\n",
            " 12  국적      3375 non-null   object        \n",
            " 13  전국스크린수  3375 non-null   int64         \n",
            " 14  전국매출액   3375 non-null   int64         \n",
            " 15  전국관객수   3375 non-null   int64         \n",
            " 16  장르      3375 non-null   object        \n",
            " 17  등급      3375 non-null   object        \n",
            " 18  영화구분    3375 non-null   object        \n",
            "dtypes: datetime64[ns](1), int64(5), object(13)\n",
            "memory usage: 501.1+ KB\n"
          ],
          "name": "stdout"
        }
      ]
    },
    {
      "cell_type": "code",
      "metadata": {
        "id": "Pz89XmUm9Nm0"
      },
      "source": [
        "# 배급사명을 ,로 구분시키고 df화함\n",
        "new_movies = movies.assign(배급사=movies.배급사.str.split(\",\"))\n",
        "\n",
        "# 분리된 배급사를 시리즈로 만들어준 후, 기존 테이블과 병합해줬다. \n",
        "new_movies = new_movies.배급사.apply(pd.Series).merge(new_movies, right_index = True, left_index = True)\n",
        "\n",
        "# 분리된 배급사들을 행으로 변환하기 위해 melt함수 적용해주고, 연도 별 영화 별로 쉽게 구분할 수 있도록 sorting해주었다. \n",
        "new_movies = new_movies.melt(id_vars = [\"순번\", \"개봉연도\", \"영화명\", \"감독\", \"배급사\", \"개봉일\", \"국적\", \"전국스크린수\", \"전국매출액\", \"전국관객수\", \"장르\", \"등급\", \"영화구분\"], var_name=\"영화N구분\", value_name = \"배급사명분리\")\n",
        "new_movies = new_movies.sort_values(by = [\"순번\", \"영화N구분\"], ascending = True)\n",
        "\n",
        "# 영화 중 분리된 배급사 값이 Null값인 경우를 제외해 주었다\n",
        "new_movies = new_movies[new_movies[\"배급사명분리\"].notnull()]\n",
        "\n",
        "# 배급사명을 원래 배급사명에 넣었다. \n",
        "new_movies['배급사'] = new_movies[\"배급사명분리\"]\n",
        "\n",
        "# 불필요한 컬럼을 제거했다.\n",
        "new_movies.drop(['배급사명분리', '영화N구분'], axis=1, inplace=True)"
      ],
      "execution_count": 10,
      "outputs": []
    },
    {
      "cell_type": "code",
      "metadata": {
        "colab": {
          "base_uri": "https://localhost:8080/"
        },
        "id": "paqurkmEHdgp",
        "outputId": "8a57b87e-74e5-4ab6-f20d-c0d977d3c90f"
      },
      "source": [
        "new_movies.info()\n",
        "new_movies['개봉연도'].value_counts()"
      ],
      "execution_count": 11,
      "outputs": [
        {
          "output_type": "stream",
          "text": [
            "<class 'pandas.core.frame.DataFrame'>\n",
            "Int64Index: 3713 entries, 0 to 3374\n",
            "Data columns (total 13 columns):\n",
            " #   Column  Non-Null Count  Dtype         \n",
            "---  ------  --------------  -----         \n",
            " 0   순번      3713 non-null   int64         \n",
            " 1   개봉연도    3713 non-null   int64         \n",
            " 2   영화명     3713 non-null   object        \n",
            " 3   감독      3713 non-null   object        \n",
            " 4   배급사     3713 non-null   object        \n",
            " 5   개봉일     3713 non-null   datetime64[ns]\n",
            " 6   국적      3713 non-null   object        \n",
            " 7   전국스크린수  3713 non-null   int64         \n",
            " 8   전국매출액   3713 non-null   int64         \n",
            " 9   전국관객수   3713 non-null   int64         \n",
            " 10  장르      3713 non-null   object        \n",
            " 11  등급      3713 non-null   object        \n",
            " 12  영화구분    3713 non-null   object        \n",
            "dtypes: datetime64[ns](1), int64(5), object(7)\n",
            "memory usage: 406.1+ KB\n"
          ],
          "name": "stdout"
        },
        {
          "output_type": "execute_result",
          "data": {
            "text/plain": [
              "2017    468\n",
              "2019    447\n",
              "2018    439\n",
              "2016    419\n",
              "2015    394\n",
              "2020    388\n",
              "2014    366\n",
              "2013    308\n",
              "2012    254\n",
              "2011    230\n",
              "Name: 개봉연도, dtype: int64"
            ]
          },
          "metadata": {},
          "execution_count": 11
        }
      ]
    },
    {
      "cell_type": "markdown",
      "metadata": {
        "id": "zgXqB0D_NjGu"
      },
      "source": [
        "## 3. 데이터 분석 "
      ]
    },
    {
      "cell_type": "markdown",
      "metadata": {
        "id": "HKxl9_emzkEQ"
      },
      "source": [
        "### 1) 개봉 연도 별 배급사 수 파악 \n",
        "- 영화 개봉을 한 배급사 수가 어떻게 달라지는지 추이를 파악해 보았다. \n",
        "- 개연도 별 배급사는 2011년 43개부터 2020년 95개까지 120% 이상 증가했다. \n",
        "- 2015년, 2018년을 제외하고 매년 증가하는 추세를 보인다. "
      ]
    },
    {
      "cell_type": "code",
      "metadata": {
        "colab": {
          "base_uri": "https://localhost:8080/",
          "height": 408
        },
        "id": "aBz8Qzt5egYA",
        "outputId": "dde7314f-6d15-4eb6-8d42-4c19a24d0e3d"
      },
      "source": [
        "# 개봉연도 별 배급사가 만든 영화를 리스트화하여 보여줌 \n",
        "movie_firm = new_movies.groupby(['개봉연도', '배급사'])['영화명'].apply(list).reset_index(name=\"만든영화\")\n",
        "movie_firm"
      ],
      "execution_count": 12,
      "outputs": [
        {
          "output_type": "execute_result",
          "data": {
            "text/html": [
              "<div>\n",
              "<style scoped>\n",
              "    .dataframe tbody tr th:only-of-type {\n",
              "        vertical-align: middle;\n",
              "    }\n",
              "\n",
              "    .dataframe tbody tr th {\n",
              "        vertical-align: top;\n",
              "    }\n",
              "\n",
              "    .dataframe thead th {\n",
              "        text-align: right;\n",
              "    }\n",
              "</style>\n",
              "<table border=\"1\" class=\"dataframe\">\n",
              "  <thead>\n",
              "    <tr style=\"text-align: right;\">\n",
              "      <th></th>\n",
              "      <th>개봉연도</th>\n",
              "      <th>배급사</th>\n",
              "      <th>만든영화</th>\n",
              "    </tr>\n",
              "  </thead>\n",
              "  <tbody>\n",
              "    <tr>\n",
              "      <th>0</th>\n",
              "      <td>2011</td>\n",
              "      <td>(주)넥스트엔터테인먼트월드(NEW)</td>\n",
              "      <td>[블라인드, 가문의 영광4 - 가문의 수난, 그대를 사랑합니다, 신들의 전쟁, 브레...</td>\n",
              "    </tr>\n",
              "    <tr>\n",
              "      <th>1</th>\n",
              "      <td>2011</td>\n",
              "      <td>(주)디스테이션</td>\n",
              "      <td>[소스 코드]</td>\n",
              "    </tr>\n",
              "    <tr>\n",
              "      <th>2</th>\n",
              "      <td>2011</td>\n",
              "      <td>(주)미디어데이</td>\n",
              "      <td>[명탐정 코난 : 침묵의 15분, 썬더일레븐 극장판 : 최강군단 오우거의 습격, 극...</td>\n",
              "    </tr>\n",
              "    <tr>\n",
              "      <th>3</th>\n",
              "      <td>2011</td>\n",
              "      <td>(주)미로비젼</td>\n",
              "      <td>[고백, 노다메 칸타빌레 최종악장]</td>\n",
              "    </tr>\n",
              "    <tr>\n",
              "      <th>4</th>\n",
              "      <td>2011</td>\n",
              "      <td>(주)박수엔터테인먼트</td>\n",
              "      <td>[꿀벌 하치의 대모험, 별을 쫓는 아이]</td>\n",
              "    </tr>\n",
              "    <tr>\n",
              "      <th>...</th>\n",
              "      <td>...</td>\n",
              "      <td>...</td>\n",
              "      <td>...</td>\n",
              "    </tr>\n",
              "    <tr>\n",
              "      <th>750</th>\n",
              "      <td>2020</td>\n",
              "      <td>찬란</td>\n",
              "      <td>[야구소녀, 찬실이는 복도 많지, 썸머 85, 환상의 마로나, 신의 은총으로, 페뷸...</td>\n",
              "    </tr>\n",
              "    <tr>\n",
              "      <th>751</th>\n",
              "      <td>2020</td>\n",
              "      <td>커넥트픽쳐스(주)</td>\n",
              "      <td>[봉쇄수도원 카르투시오]</td>\n",
              "    </tr>\n",
              "    <tr>\n",
              "      <th>752</th>\n",
              "      <td>2020</td>\n",
              "      <td>판씨네마(주)</td>\n",
              "      <td>[애프터: 그 후, 미스비헤이비어, 울프 콜, 라라걸, 트로이 디렉터스 컷, 피아니...</td>\n",
              "    </tr>\n",
              "    <tr>\n",
              "      <th>753</th>\n",
              "      <td>2020</td>\n",
              "      <td>하준사</td>\n",
              "      <td>[마르지엘라]</td>\n",
              "    </tr>\n",
              "    <tr>\n",
              "      <th>754</th>\n",
              "      <td>2020</td>\n",
              "      <td>호우주의보</td>\n",
              "      <td>[내언니전지현과 나]</td>\n",
              "    </tr>\n",
              "  </tbody>\n",
              "</table>\n",
              "<p>755 rows × 3 columns</p>\n",
              "</div>"
            ],
            "text/plain": [
              "     개봉연도  ...                                               만든영화\n",
              "0    2011  ...  [블라인드, 가문의 영광4 - 가문의 수난, 그대를 사랑합니다, 신들의 전쟁, 브레...\n",
              "1    2011  ...                                            [소스 코드]\n",
              "2    2011  ...  [명탐정 코난 : 침묵의 15분, 썬더일레븐 극장판 : 최강군단 오우거의 습격, 극...\n",
              "3    2011  ...                                [고백, 노다메 칸타빌레 최종악장]\n",
              "4    2011  ...                             [꿀벌 하치의 대모험, 별을 쫓는 아이]\n",
              "..    ...  ...                                                ...\n",
              "750  2020  ...  [야구소녀, 찬실이는 복도 많지, 썸머 85, 환상의 마로나, 신의 은총으로, 페뷸...\n",
              "751  2020  ...                                      [봉쇄수도원 카르투시오]\n",
              "752  2020  ...  [애프터: 그 후, 미스비헤이비어, 울프 콜, 라라걸, 트로이 디렉터스 컷, 피아니...\n",
              "753  2020  ...                                            [마르지엘라]\n",
              "754  2020  ...                                        [내언니전지현과 나]\n",
              "\n",
              "[755 rows x 3 columns]"
            ]
          },
          "metadata": {},
          "execution_count": 12
        }
      ]
    },
    {
      "cell_type": "code",
      "metadata": {
        "colab": {
          "base_uri": "https://localhost:8080/",
          "height": 351
        },
        "id": "2JeH--PKeizE",
        "outputId": "24392ae5-9793-4efa-d906-a5cadbf73f6e"
      },
      "source": [
        "# 개봉연도 별 배급사 수 카운트\n",
        "movie_firm_counts = movie_firm.groupby('개봉연도')['배급사'].count().reset_index(name='배급사 수')\n",
        "movie_firm_counts"
      ],
      "execution_count": 13,
      "outputs": [
        {
          "output_type": "execute_result",
          "data": {
            "text/html": [
              "<div>\n",
              "<style scoped>\n",
              "    .dataframe tbody tr th:only-of-type {\n",
              "        vertical-align: middle;\n",
              "    }\n",
              "\n",
              "    .dataframe tbody tr th {\n",
              "        vertical-align: top;\n",
              "    }\n",
              "\n",
              "    .dataframe thead th {\n",
              "        text-align: right;\n",
              "    }\n",
              "</style>\n",
              "<table border=\"1\" class=\"dataframe\">\n",
              "  <thead>\n",
              "    <tr style=\"text-align: right;\">\n",
              "      <th></th>\n",
              "      <th>개봉연도</th>\n",
              "      <th>배급사 수</th>\n",
              "    </tr>\n",
              "  </thead>\n",
              "  <tbody>\n",
              "    <tr>\n",
              "      <th>0</th>\n",
              "      <td>2011</td>\n",
              "      <td>43</td>\n",
              "    </tr>\n",
              "    <tr>\n",
              "      <th>1</th>\n",
              "      <td>2012</td>\n",
              "      <td>51</td>\n",
              "    </tr>\n",
              "    <tr>\n",
              "      <th>2</th>\n",
              "      <td>2013</td>\n",
              "      <td>61</td>\n",
              "    </tr>\n",
              "    <tr>\n",
              "      <th>3</th>\n",
              "      <td>2014</td>\n",
              "      <td>79</td>\n",
              "    </tr>\n",
              "    <tr>\n",
              "      <th>4</th>\n",
              "      <td>2015</td>\n",
              "      <td>76</td>\n",
              "    </tr>\n",
              "    <tr>\n",
              "      <th>5</th>\n",
              "      <td>2016</td>\n",
              "      <td>83</td>\n",
              "    </tr>\n",
              "    <tr>\n",
              "      <th>6</th>\n",
              "      <td>2017</td>\n",
              "      <td>92</td>\n",
              "    </tr>\n",
              "    <tr>\n",
              "      <th>7</th>\n",
              "      <td>2018</td>\n",
              "      <td>84</td>\n",
              "    </tr>\n",
              "    <tr>\n",
              "      <th>8</th>\n",
              "      <td>2019</td>\n",
              "      <td>91</td>\n",
              "    </tr>\n",
              "    <tr>\n",
              "      <th>9</th>\n",
              "      <td>2020</td>\n",
              "      <td>95</td>\n",
              "    </tr>\n",
              "  </tbody>\n",
              "</table>\n",
              "</div>"
            ],
            "text/plain": [
              "   개봉연도  배급사 수\n",
              "0  2011     43\n",
              "1  2012     51\n",
              "2  2013     61\n",
              "3  2014     79\n",
              "4  2015     76\n",
              "5  2016     83\n",
              "6  2017     92\n",
              "7  2018     84\n",
              "8  2019     91\n",
              "9  2020     95"
            ]
          },
          "metadata": {},
          "execution_count": 13
        }
      ]
    },
    {
      "cell_type": "code",
      "metadata": {
        "colab": {
          "base_uri": "https://localhost:8080/",
          "height": 542
        },
        "id": "tJVRN990rZWn",
        "outputId": "7a3ce122-8e46-431a-e958-3d782058f7ef"
      },
      "source": [
        "#연도별 추이를 시각화하여 보여줌 \n",
        "fig = px.bar(movie_firm_counts, \n",
        "              x=\"개봉연도\", # x축\n",
        "              y=\"배급사 수\",  # y축\n",
        "              text = '배급사 수',\n",
        "              title='연도 별 배급사 수 추이', # Title \n",
        "              )\n",
        "fig.update_traces(texttemplate='%{text}개', textposition='outside')\n",
        "fig.update_layout(uniformtext_minsize=8, uniformtext_mode='hide')\n",
        "# fig.update_traces(texttemplate=, textposition='outside')\n",
        "\n",
        "fig.show()"
      ],
      "execution_count": 14,
      "outputs": [
        {
          "output_type": "display_data",
          "data": {
            "text/html": [
              "<html>\n",
              "<head><meta charset=\"utf-8\" /></head>\n",
              "<body>\n",
              "    <div>            <script src=\"https://cdnjs.cloudflare.com/ajax/libs/mathjax/2.7.5/MathJax.js?config=TeX-AMS-MML_SVG\"></script><script type=\"text/javascript\">if (window.MathJax) {MathJax.Hub.Config({SVG: {font: \"STIX-Web\"}});}</script>                <script type=\"text/javascript\">window.PlotlyConfig = {MathJaxConfig: 'local'};</script>\n",
              "        <script src=\"https://cdn.plot.ly/plotly-2.3.1.min.js\"></script>                <div id=\"3c5f4343-b603-4774-a633-41f2f47f43e4\" class=\"plotly-graph-div\" style=\"height:525px; width:100%;\"></div>            <script type=\"text/javascript\">                                    window.PLOTLYENV=window.PLOTLYENV || {};                                    if (document.getElementById(\"3c5f4343-b603-4774-a633-41f2f47f43e4\")) {                    Plotly.newPlot(                        \"3c5f4343-b603-4774-a633-41f2f47f43e4\",                        [{\"alignmentgroup\":\"True\",\"hovertemplate\":\"\\uac1c\\ubd09\\uc5f0\\ub3c4=%{x}<br>\\ubc30\\uae09\\uc0ac \\uc218=%{text}<extra></extra>\",\"legendgroup\":\"\",\"marker\":{\"color\":\"#636efa\",\"pattern\":{\"shape\":\"\"}},\"name\":\"\",\"offsetgroup\":\"\",\"orientation\":\"v\",\"showlegend\":false,\"text\":[43.0,51.0,61.0,79.0,76.0,83.0,92.0,84.0,91.0,95.0],\"textposition\":\"outside\",\"texttemplate\":\"%{text}\\uac1c\",\"type\":\"bar\",\"x\":[2011,2012,2013,2014,2015,2016,2017,2018,2019,2020],\"xaxis\":\"x\",\"y\":[43,51,61,79,76,83,92,84,91,95],\"yaxis\":\"y\"}],                        {\"barmode\":\"relative\",\"legend\":{\"tracegroupgap\":0},\"template\":{\"data\":{\"bar\":[{\"error_x\":{\"color\":\"#2a3f5f\"},\"error_y\":{\"color\":\"#2a3f5f\"},\"marker\":{\"line\":{\"color\":\"#E5ECF6\",\"width\":0.5},\"pattern\":{\"fillmode\":\"overlay\",\"size\":10,\"solidity\":0.2}},\"type\":\"bar\"}],\"barpolar\":[{\"marker\":{\"line\":{\"color\":\"#E5ECF6\",\"width\":0.5},\"pattern\":{\"fillmode\":\"overlay\",\"size\":10,\"solidity\":0.2}},\"type\":\"barpolar\"}],\"carpet\":[{\"aaxis\":{\"endlinecolor\":\"#2a3f5f\",\"gridcolor\":\"white\",\"linecolor\":\"white\",\"minorgridcolor\":\"white\",\"startlinecolor\":\"#2a3f5f\"},\"baxis\":{\"endlinecolor\":\"#2a3f5f\",\"gridcolor\":\"white\",\"linecolor\":\"white\",\"minorgridcolor\":\"white\",\"startlinecolor\":\"#2a3f5f\"},\"type\":\"carpet\"}],\"choropleth\":[{\"colorbar\":{\"outlinewidth\":0,\"ticks\":\"\"},\"type\":\"choropleth\"}],\"contour\":[{\"colorbar\":{\"outlinewidth\":0,\"ticks\":\"\"},\"colorscale\":[[0.0,\"#0d0887\"],[0.1111111111111111,\"#46039f\"],[0.2222222222222222,\"#7201a8\"],[0.3333333333333333,\"#9c179e\"],[0.4444444444444444,\"#bd3786\"],[0.5555555555555556,\"#d8576b\"],[0.6666666666666666,\"#ed7953\"],[0.7777777777777778,\"#fb9f3a\"],[0.8888888888888888,\"#fdca26\"],[1.0,\"#f0f921\"]],\"type\":\"contour\"}],\"contourcarpet\":[{\"colorbar\":{\"outlinewidth\":0,\"ticks\":\"\"},\"type\":\"contourcarpet\"}],\"heatmap\":[{\"colorbar\":{\"outlinewidth\":0,\"ticks\":\"\"},\"colorscale\":[[0.0,\"#0d0887\"],[0.1111111111111111,\"#46039f\"],[0.2222222222222222,\"#7201a8\"],[0.3333333333333333,\"#9c179e\"],[0.4444444444444444,\"#bd3786\"],[0.5555555555555556,\"#d8576b\"],[0.6666666666666666,\"#ed7953\"],[0.7777777777777778,\"#fb9f3a\"],[0.8888888888888888,\"#fdca26\"],[1.0,\"#f0f921\"]],\"type\":\"heatmap\"}],\"heatmapgl\":[{\"colorbar\":{\"outlinewidth\":0,\"ticks\":\"\"},\"colorscale\":[[0.0,\"#0d0887\"],[0.1111111111111111,\"#46039f\"],[0.2222222222222222,\"#7201a8\"],[0.3333333333333333,\"#9c179e\"],[0.4444444444444444,\"#bd3786\"],[0.5555555555555556,\"#d8576b\"],[0.6666666666666666,\"#ed7953\"],[0.7777777777777778,\"#fb9f3a\"],[0.8888888888888888,\"#fdca26\"],[1.0,\"#f0f921\"]],\"type\":\"heatmapgl\"}],\"histogram\":[{\"marker\":{\"pattern\":{\"fillmode\":\"overlay\",\"size\":10,\"solidity\":0.2}},\"type\":\"histogram\"}],\"histogram2d\":[{\"colorbar\":{\"outlinewidth\":0,\"ticks\":\"\"},\"colorscale\":[[0.0,\"#0d0887\"],[0.1111111111111111,\"#46039f\"],[0.2222222222222222,\"#7201a8\"],[0.3333333333333333,\"#9c179e\"],[0.4444444444444444,\"#bd3786\"],[0.5555555555555556,\"#d8576b\"],[0.6666666666666666,\"#ed7953\"],[0.7777777777777778,\"#fb9f3a\"],[0.8888888888888888,\"#fdca26\"],[1.0,\"#f0f921\"]],\"type\":\"histogram2d\"}],\"histogram2dcontour\":[{\"colorbar\":{\"outlinewidth\":0,\"ticks\":\"\"},\"colorscale\":[[0.0,\"#0d0887\"],[0.1111111111111111,\"#46039f\"],[0.2222222222222222,\"#7201a8\"],[0.3333333333333333,\"#9c179e\"],[0.4444444444444444,\"#bd3786\"],[0.5555555555555556,\"#d8576b\"],[0.6666666666666666,\"#ed7953\"],[0.7777777777777778,\"#fb9f3a\"],[0.8888888888888888,\"#fdca26\"],[1.0,\"#f0f921\"]],\"type\":\"histogram2dcontour\"}],\"mesh3d\":[{\"colorbar\":{\"outlinewidth\":0,\"ticks\":\"\"},\"type\":\"mesh3d\"}],\"parcoords\":[{\"line\":{\"colorbar\":{\"outlinewidth\":0,\"ticks\":\"\"}},\"type\":\"parcoords\"}],\"pie\":[{\"automargin\":true,\"type\":\"pie\"}],\"scatter\":[{\"marker\":{\"colorbar\":{\"outlinewidth\":0,\"ticks\":\"\"}},\"type\":\"scatter\"}],\"scatter3d\":[{\"line\":{\"colorbar\":{\"outlinewidth\":0,\"ticks\":\"\"}},\"marker\":{\"colorbar\":{\"outlinewidth\":0,\"ticks\":\"\"}},\"type\":\"scatter3d\"}],\"scattercarpet\":[{\"marker\":{\"colorbar\":{\"outlinewidth\":0,\"ticks\":\"\"}},\"type\":\"scattercarpet\"}],\"scattergeo\":[{\"marker\":{\"colorbar\":{\"outlinewidth\":0,\"ticks\":\"\"}},\"type\":\"scattergeo\"}],\"scattergl\":[{\"marker\":{\"colorbar\":{\"outlinewidth\":0,\"ticks\":\"\"}},\"type\":\"scattergl\"}],\"scattermapbox\":[{\"marker\":{\"colorbar\":{\"outlinewidth\":0,\"ticks\":\"\"}},\"type\":\"scattermapbox\"}],\"scatterpolar\":[{\"marker\":{\"colorbar\":{\"outlinewidth\":0,\"ticks\":\"\"}},\"type\":\"scatterpolar\"}],\"scatterpolargl\":[{\"marker\":{\"colorbar\":{\"outlinewidth\":0,\"ticks\":\"\"}},\"type\":\"scatterpolargl\"}],\"scatterternary\":[{\"marker\":{\"colorbar\":{\"outlinewidth\":0,\"ticks\":\"\"}},\"type\":\"scatterternary\"}],\"surface\":[{\"colorbar\":{\"outlinewidth\":0,\"ticks\":\"\"},\"colorscale\":[[0.0,\"#0d0887\"],[0.1111111111111111,\"#46039f\"],[0.2222222222222222,\"#7201a8\"],[0.3333333333333333,\"#9c179e\"],[0.4444444444444444,\"#bd3786\"],[0.5555555555555556,\"#d8576b\"],[0.6666666666666666,\"#ed7953\"],[0.7777777777777778,\"#fb9f3a\"],[0.8888888888888888,\"#fdca26\"],[1.0,\"#f0f921\"]],\"type\":\"surface\"}],\"table\":[{\"cells\":{\"fill\":{\"color\":\"#EBF0F8\"},\"line\":{\"color\":\"white\"}},\"header\":{\"fill\":{\"color\":\"#C8D4E3\"},\"line\":{\"color\":\"white\"}},\"type\":\"table\"}]},\"layout\":{\"annotationdefaults\":{\"arrowcolor\":\"#2a3f5f\",\"arrowhead\":0,\"arrowwidth\":1},\"autotypenumbers\":\"strict\",\"coloraxis\":{\"colorbar\":{\"outlinewidth\":0,\"ticks\":\"\"}},\"colorscale\":{\"diverging\":[[0,\"#8e0152\"],[0.1,\"#c51b7d\"],[0.2,\"#de77ae\"],[0.3,\"#f1b6da\"],[0.4,\"#fde0ef\"],[0.5,\"#f7f7f7\"],[0.6,\"#e6f5d0\"],[0.7,\"#b8e186\"],[0.8,\"#7fbc41\"],[0.9,\"#4d9221\"],[1,\"#276419\"]],\"sequential\":[[0.0,\"#0d0887\"],[0.1111111111111111,\"#46039f\"],[0.2222222222222222,\"#7201a8\"],[0.3333333333333333,\"#9c179e\"],[0.4444444444444444,\"#bd3786\"],[0.5555555555555556,\"#d8576b\"],[0.6666666666666666,\"#ed7953\"],[0.7777777777777778,\"#fb9f3a\"],[0.8888888888888888,\"#fdca26\"],[1.0,\"#f0f921\"]],\"sequentialminus\":[[0.0,\"#0d0887\"],[0.1111111111111111,\"#46039f\"],[0.2222222222222222,\"#7201a8\"],[0.3333333333333333,\"#9c179e\"],[0.4444444444444444,\"#bd3786\"],[0.5555555555555556,\"#d8576b\"],[0.6666666666666666,\"#ed7953\"],[0.7777777777777778,\"#fb9f3a\"],[0.8888888888888888,\"#fdca26\"],[1.0,\"#f0f921\"]]},\"colorway\":[\"#636efa\",\"#EF553B\",\"#00cc96\",\"#ab63fa\",\"#FFA15A\",\"#19d3f3\",\"#FF6692\",\"#B6E880\",\"#FF97FF\",\"#FECB52\"],\"font\":{\"color\":\"#2a3f5f\"},\"geo\":{\"bgcolor\":\"white\",\"lakecolor\":\"white\",\"landcolor\":\"#E5ECF6\",\"showlakes\":true,\"showland\":true,\"subunitcolor\":\"white\"},\"hoverlabel\":{\"align\":\"left\"},\"hovermode\":\"closest\",\"mapbox\":{\"style\":\"light\"},\"paper_bgcolor\":\"white\",\"plot_bgcolor\":\"#E5ECF6\",\"polar\":{\"angularaxis\":{\"gridcolor\":\"white\",\"linecolor\":\"white\",\"ticks\":\"\"},\"bgcolor\":\"#E5ECF6\",\"radialaxis\":{\"gridcolor\":\"white\",\"linecolor\":\"white\",\"ticks\":\"\"}},\"scene\":{\"xaxis\":{\"backgroundcolor\":\"#E5ECF6\",\"gridcolor\":\"white\",\"gridwidth\":2,\"linecolor\":\"white\",\"showbackground\":true,\"ticks\":\"\",\"zerolinecolor\":\"white\"},\"yaxis\":{\"backgroundcolor\":\"#E5ECF6\",\"gridcolor\":\"white\",\"gridwidth\":2,\"linecolor\":\"white\",\"showbackground\":true,\"ticks\":\"\",\"zerolinecolor\":\"white\"},\"zaxis\":{\"backgroundcolor\":\"#E5ECF6\",\"gridcolor\":\"white\",\"gridwidth\":2,\"linecolor\":\"white\",\"showbackground\":true,\"ticks\":\"\",\"zerolinecolor\":\"white\"}},\"shapedefaults\":{\"line\":{\"color\":\"#2a3f5f\"}},\"ternary\":{\"aaxis\":{\"gridcolor\":\"white\",\"linecolor\":\"white\",\"ticks\":\"\"},\"baxis\":{\"gridcolor\":\"white\",\"linecolor\":\"white\",\"ticks\":\"\"},\"bgcolor\":\"#E5ECF6\",\"caxis\":{\"gridcolor\":\"white\",\"linecolor\":\"white\",\"ticks\":\"\"}},\"title\":{\"x\":0.05},\"xaxis\":{\"automargin\":true,\"gridcolor\":\"white\",\"linecolor\":\"white\",\"ticks\":\"\",\"title\":{\"standoff\":15},\"zerolinecolor\":\"white\",\"zerolinewidth\":2},\"yaxis\":{\"automargin\":true,\"gridcolor\":\"white\",\"linecolor\":\"white\",\"ticks\":\"\",\"title\":{\"standoff\":15},\"zerolinecolor\":\"white\",\"zerolinewidth\":2}}},\"title\":{\"text\":\"\\uc5f0\\ub3c4 \\ubcc4 \\ubc30\\uae09\\uc0ac \\uc218 \\ucd94\\uc774\"},\"uniformtext\":{\"minsize\":8,\"mode\":\"hide\"},\"xaxis\":{\"anchor\":\"y\",\"domain\":[0.0,1.0],\"title\":{\"text\":\"\\uac1c\\ubd09\\uc5f0\\ub3c4\"}},\"yaxis\":{\"anchor\":\"x\",\"domain\":[0.0,1.0],\"title\":{\"text\":\"\\ubc30\\uae09\\uc0ac \\uc218\"}}},                        {\"responsive\": true}                    ).then(function(){\n",
              "                            \n",
              "var gd = document.getElementById('3c5f4343-b603-4774-a633-41f2f47f43e4');\n",
              "var x = new MutationObserver(function (mutations, observer) {{\n",
              "        var display = window.getComputedStyle(gd).display;\n",
              "        if (!display || display === 'none') {{\n",
              "            console.log([gd, 'removed!']);\n",
              "            Plotly.purge(gd);\n",
              "            observer.disconnect();\n",
              "        }}\n",
              "}});\n",
              "\n",
              "// Listen for the removal of the full notebook cells\n",
              "var notebookContainer = gd.closest('#notebook-container');\n",
              "if (notebookContainer) {{\n",
              "    x.observe(notebookContainer, {childList: true});\n",
              "}}\n",
              "\n",
              "// Listen for the clearing of the current output cell\n",
              "var outputEl = gd.closest('.output');\n",
              "if (outputEl) {{\n",
              "    x.observe(outputEl, {childList: true});\n",
              "}}\n",
              "\n",
              "                        })                };                            </script>        </div>\n",
              "</body>\n",
              "</html>"
            ]
          },
          "metadata": {}
        }
      ]
    },
    {
      "cell_type": "markdown",
      "metadata": {
        "id": "cNeVNBoUrI4t"
      },
      "source": [
        "### 2) 2011년 ~ 2020년 전체 기간 동안 CJ에서 배급한 영화\n",
        "- CJ에서 배급한 영화는 전체 영화 중 5.95%를 차지하므로 독과점 수준은 아님을 알 수 있다. \n",
        "- CJ에서 배급한 영화 수의 추이를 보면 2013년 이후 매년 감소하며, 2011년 34편 대 2020년 10편으로 70% 이상 감소하였ㅏ. \n",
        "- CJ E&M 영화 수의 추이가 하락세를 보이는 것이 영화계 전체의 움직임인지, CJ E&M만의 특수 상황인지 파악할 필요가 있다. 이를 위해 전체 영화 배급 수를 함께 살펴볼 필요가 있다.\n",
        "\n"
      ]
    },
    {
      "cell_type": "code",
      "metadata": {
        "colab": {
          "base_uri": "https://localhost:8080/",
          "height": 200
        },
        "id": "ofx2eF21rZBu",
        "outputId": "589293b2-e05b-4f15-9e67-fd6cbda680eb"
      },
      "source": [
        "cj_all = new_movies.groupby('배급사').size().reset_index(name='배급사별영화수(연도무관)')\n",
        "cj_all = cj_all.sort_values(by = \"배급사별영화수(연도무관)\", ascending=False)\n",
        "cj_all.head(5)"
      ],
      "execution_count": 15,
      "outputs": [
        {
          "output_type": "execute_result",
          "data": {
            "text/html": [
              "<div>\n",
              "<style scoped>\n",
              "    .dataframe tbody tr th:only-of-type {\n",
              "        vertical-align: middle;\n",
              "    }\n",
              "\n",
              "    .dataframe tbody tr th {\n",
              "        vertical-align: top;\n",
              "    }\n",
              "\n",
              "    .dataframe thead th {\n",
              "        text-align: right;\n",
              "    }\n",
              "</style>\n",
              "<table border=\"1\" class=\"dataframe\">\n",
              "  <thead>\n",
              "    <tr style=\"text-align: right;\">\n",
              "      <th></th>\n",
              "      <th>배급사</th>\n",
              "      <th>배급사별영화수(연도무관)</th>\n",
              "    </tr>\n",
              "  </thead>\n",
              "  <tbody>\n",
              "    <tr>\n",
              "      <th>70</th>\n",
              "      <td>(주)씨제이이엔엠</td>\n",
              "      <td>221</td>\n",
              "    </tr>\n",
              "    <tr>\n",
              "      <th>161</th>\n",
              "      <td>롯데쇼핑㈜롯데엔터테인먼트</td>\n",
              "      <td>181</td>\n",
              "    </tr>\n",
              "    <tr>\n",
              "      <th>204</th>\n",
              "      <td>유니버설픽쳐스인터내셔널 코리아(유)</td>\n",
              "      <td>149</td>\n",
              "    </tr>\n",
              "    <tr>\n",
              "      <th>125</th>\n",
              "      <td>(주)팝엔터테인먼트</td>\n",
              "      <td>145</td>\n",
              "    </tr>\n",
              "    <tr>\n",
              "      <th>9</th>\n",
              "      <td>(주)넥스트엔터테인먼트월드(NEW)</td>\n",
              "      <td>145</td>\n",
              "    </tr>\n",
              "  </tbody>\n",
              "</table>\n",
              "</div>"
            ],
            "text/plain": [
              "                     배급사  배급사별영화수(연도무관)\n",
              "70             (주)씨제이이엔엠            221\n",
              "161        롯데쇼핑㈜롯데엔터테인먼트            181\n",
              "204  유니버설픽쳐스인터내셔널 코리아(유)            149\n",
              "125           (주)팝엔터테인먼트            145\n",
              "9    (주)넥스트엔터테인먼트월드(NEW)            145"
            ]
          },
          "metadata": {},
          "execution_count": 15
        }
      ]
    },
    {
      "cell_type": "code",
      "metadata": {
        "colab": {
          "base_uri": "https://localhost:8080/",
          "height": 542
        },
        "id": "nlpVRUNxsKTm",
        "outputId": "5fc7f201-4974-4a6b-ef7e-bea037a3a147"
      },
      "source": [
        "fig = px.pie(cj_all, values='배급사별영화수(연도무관)', names='배급사',\n",
        "             color_discrete_sequence=px.colors.sequential.RdPu_r,\n",
        "             hole=.3,\n",
        "             title='2011년~2020년간 제작된 영화의 배급 비중')\n",
        "fig.update_traces(textposition='inside', textinfo='percent+label')\n",
        "fig.show()"
      ],
      "execution_count": 16,
      "outputs": [
        {
          "output_type": "display_data",
          "data": {
            "text/html": [
              "<html>\n",
              "<head><meta charset=\"utf-8\" /></head>\n",
              "<body>\n",
              "    <div>            <script src=\"https://cdnjs.cloudflare.com/ajax/libs/mathjax/2.7.5/MathJax.js?config=TeX-AMS-MML_SVG\"></script><script type=\"text/javascript\">if (window.MathJax) {MathJax.Hub.Config({SVG: {font: \"STIX-Web\"}});}</script>                <script type=\"text/javascript\">window.PlotlyConfig = {MathJaxConfig: 'local'};</script>\n",
              "        <script src=\"https://cdn.plot.ly/plotly-2.3.1.min.js\"></script>                <div id=\"50f363c6-4bdd-42ee-9b79-824261f66f5f\" class=\"plotly-graph-div\" style=\"height:525px; width:100%;\"></div>            <script type=\"text/javascript\">                                    window.PLOTLYENV=window.PLOTLYENV || {};                                    if (document.getElementById(\"50f363c6-4bdd-42ee-9b79-824261f66f5f\")) {                    Plotly.newPlot(                        \"50f363c6-4bdd-42ee-9b79-824261f66f5f\",                        [{\"domain\":{\"x\":[0.0,1.0],\"y\":[0.0,1.0]},\"hole\":0.3,\"hovertemplate\":\"\\ubc30\\uae09\\uc0ac=%{label}<br>\\ubc30\\uae09\\uc0ac\\ubcc4\\uc601\\ud654\\uc218(\\uc5f0\\ub3c4\\ubb34\\uad00)=%{value}<extra></extra>\",\"labels\":[\"(\\uc8fc)\\uc528\\uc81c\\uc774\\uc774\\uc5d4\\uc5e0\",\"\\ub86f\\ub370\\uc1fc\\ud551\\u321c\\ub86f\\ub370\\uc5d4\\ud130\\ud14c\\uc778\\uba3c\\ud2b8\",\"\\uc720\\ub2c8\\ubc84\\uc124\\ud53d\\uccd0\\uc2a4\\uc778\\ud130\\ub0b4\\uc154\\ub110 \\ucf54\\ub9ac\\uc544(\\uc720)\",\"(\\uc8fc)\\ud31d\\uc5d4\\ud130\\ud14c\\uc778\\uba3c\\ud2b8\",\"(\\uc8fc)\\ub125\\uc2a4\\ud2b8\\uc5d4\\ud130\\ud14c\\uc778\\uba3c\\ud2b8\\uc6d4\\ub4dc(NEW)\",\"(\\uc8fc)\\ubc15\\uc218\\uc5d4\\ud130\\ud14c\\uc778\\uba3c\\ud2b8\",\"\\uc6cc\\ub108\\ube0c\\ub7ec\\ub354\\uc2a4 \\ucf54\\ub9ac\\uc544(\\uc8fc)\",\"\\uc774\\uc2ed\\uc138\\uae30\\ud3ed\\uc2a4\\ucf54\\ub9ac\\uc544(\\uc8fc)\",\"\\uc640\\uc774\\ub4dc \\ub9b4\\ub9ac\\uc988(\\uc8fc)\",\"(\\uc8fc)\\uc601\\ud654\\uc0ac \\ube45\",\"(\\uc8fc)\\uc1fc\\ubc15\\uc2a4\",\"(\\uc8fc)\\ub514\\uc2a4\\ud14c\\uc774\\uc158\",\"\\ud310\\uc528\\ub124\\ub9c8(\\uc8fc)\",\"(\\uc8fc)\\ub9ac\\ud2c0\\ube45\\ud53d\\uccd0\\uc2a4\",\"(\\uc8fc)\\uc774\\uc218C&E\",\"CGV\\uc544\\ud2b8\\ud558\\uc6b0\\uc2a4\",\"(\\uc8fc)\\uc601\\ud654\\uc0ac \\uc9c4\\uc9c4\",\"\\uba54\\uac00\\ubc15\\uc2a4\\uc911\\uc559(\\uc8fc)\\ud50c\\ub7ec\\uc2a4\\uc5e0\",\"(\\uc8fc)\\uc5e3\\ub098\\uc778\\ud544\\ub984\",\"(\\uc8fc)\\uc81c\\uc774\\uc564\\uc528\\ubbf8\\ub514\\uc5b4\\uadf8\\ub8f9\",\"\\uc6d4\\ud2b8\\ub514\\uc988\\ub2c8\\ucef4\\ud37c\\ub2c8\\ucf54\\ub9ac\\uc544 \\uc720\\ud55c\\ucc45\\uc784\\ud68c\\uc0ac\",\"\\uadf8\\ub9b0\\ub098\\ub798\\ubbf8\\ub514\\uc5b4(\\uc8fc)\",\"(\\uc8fc)\\uc2a4\\ud1b0\\ud53d\\uccd0\\uc2a4\\ucf54\\ub9ac\\uc544\",\"(\\uc8fc)\\ub098\\uc774\\ub108\\uc2a4\\uc5d4\\ud130\\ud14c\\uc778\\uba3c\\ud2b8\",\"(\\uc8fc)\\ud0a4\\ub2e4\\ub9ac\\uc774\\uc5d4\\ud2f0\",\"\\uc528\\ub108\\uc2a4\\uc5d4\\ud130\\ud14c\\uc778\\uba3c\\ud2b8(\\uc8fc)\",\"(\\uc8fc)\\uc601\\ud654\\uc0ac\\uc624\\uc6d0\",\"\\ub86f\\ub370\\uceec\\ucc98\\uc6cd\\uc2a4(\\uc8fc)\\ub86f\\ub370\\uc5d4\\ud130\\ud14c\\uc778\\uba3c\\ud2b8\",\"\\uc608\\uc9c0\\ub9bc\\uc5d4\\ud130\\ud14c\\uc778\\uba3c\\ud2b8\",\"\\ucc2c\\ub780\",\"TCO(\\uc8fc)\\ub354\\ucf58\\ud150\\uce20\\uc628\",\"\\uc18c\\ub2c8\\ud53d\\uccd0\\uc2a4\\uc5d4\\ud130\\ud14c\\uc778\\uba3c\\ud2b8\\ucf54\\ub9ac\\uc544\\uc8fc\\uc2dd\\ud68c\\uc0ac\\uadf9\\uc7a5\\ubc30\\uae09\\uc9c0\\uc810\",\"\\uc18c\\ub2c8\\ud53d\\uccd0\\uc2a4\\ub9b4\\ub9ac\\uc9d5\\uc6d4\\ud2b8\\ub514\\uc988\\ub2c8\\uc2a4\\ud29c\\ub514\\uc624\\uc2a4\\ucf54\\ub9ac\\uc544(\\uc8fc)\",\"(\\uc8fc)\\uc2a4\\ub9c8\\uc77c\\uc774\\uc5d4\\ud2f0\",\"(\\uc8fc)\\ub9c8\\uc778\\uc2a4 \\uc5d4\\ud130\\ud14c\\uc778\\uba3c\\ud2b8\",\"(\\uc8fc)\\uc778\\ubca4\\ud2b8\\uc2a4\\ud1a4\",\"(\\uc8fc)\\ub4dc\\ub9bc\\ud329\\ud2b8\\uc5d4\\ud130\\ud14c\\uc778\\uba3c\\ud2b8\",\"(\\uc8fc)\\uc2f8\\uc774\\ub354\\uc2a4\",\"\\ud55c\\uad6d\\uc18c\\ub2c8\\ud53d\\uccd0\\uc2a4\\ub9b4\\ub9ac\\uc9d5\\ube0c\\uc5d0\\ub098\\ube44\\uc2a4\\ud0c0\\uc601\\ud654\\u321c\",\"\\uc624\\ub4dc\",\"(\\uc8fc)\\ub77c\\uc774\\ud06c\\ucf58\\ud150\\uce20\",\"(\\uc8fc)\\uc601\\ud654\\uc0ac \\uadf8\\ub7a8\",\"(\\uc8fc)\\ud504\\ub808\\uc778\\uae00\\ub85c\\ubc8c\",\"\\uc5d0\\uc774\\uc6d0\\uc5d4\\ud130\\ud14c\\uc778\\uba3c\\ud2b8\",\"(\\uc8fc)\\uc0bc\\ubc31\\uc0c1\\ud68c\",\"(\\uc8fc)\\ubbf8\\ub514\\uc5b4\\ub370\\uc774\",\"(\\uc8fc)\\ub204\\ub9ac\\ud53d\\uccd0\\uc2a4\",\"(\\uc8fc)\\uc5d0\\uc2a4\\ube44\\uc5d0\\uc2a4\\ucf58\\ud150\\uce20\\ud5c8\\ube0c\",\"\\uc8fc\\uc2dd\\ud68c\\uc0ac \\ub9c8\\uc6b4\\ud2f4\\ud53d\\uccd0\\uc2a4\",\"(\\uc8fc)\\ucf58\\ud150\\uce20\\ud310\\ub2e4\",\"\\u321c\\uc778\\ub514\\uc2a4\\ud1a0\\ub9ac\",\"\\uc6d4\\ud2b8\\ub514\\uc988\\ub2c8\\ucef4\\ud37c\\ub2c8\\ucf54\\ub9ac\\uc544(\\uc8fc)\",\"\\uc8fc\\uc2dd\\ud68c\\uc0ac \\ub354\\ucff1\",\"(\\uc8fc)\\ud2b8\\ub9ac\\ud50c\\ud53d\\uccd0\\uc2a4\",\"(\\uc8fc)\\uc2dc\\ub108\\uc9c0\\ud558\\uc6b0\\uc2a4 (\\uc2dc\\ub108\\uc9c0)\",\"(\\uc8fc)\\ud31d\\ud30c\\ud2b8\\ub108\\uc2a4\",\"\\u321c\\ucf54\\ub9ac\\uc544\\uc2a4\\ud06c\\ub9b0\",\"(\\uc8fc)\\ud2f0\\uce90\\uc2a4\\ud2b8\",\"\\uc528\\ub124\\uadf8\\ub8e8(\\uc8fc)\\ub2e4\\uc6b0\\uae30\\uc220\",\"(\\uc8fc)\\uba38\\uc2a4\\ud2b8\\uc528\\ubb34\\ube44\\ub9b4\\ub9ac\\uc9d5\\ucef4\\ud37c\\ub2c8\",\"\\ud544\\ub77c\\uba58\\ud2b8\\ud53d\\uccd0\\uc2a4\",\"\\uc624\\ud37c\\uc2a4\\ud53d\\uccd0\\uc2a4(\\uc720)\",\"(\\uc8fc)\\uc560\\ub2c8\\ud50c\\ub7ec\\uc2a4\",\"(\\uc8fc)\\uc778\\ub514\\ud50c\\ub7ec\\uadf8\",\"KT&G \\uc0c1\\uc0c1\\ub9c8\\ub2f9 \\uc601\\ud654\\uc0ac\\uc5c5\\ud300 \\ucef4\\ud37c\\ub2c8\\uc5d0\\uc2a4\\uc5d0\\uc2a4(\\uc8fc)\",\"\\uc544\\uc774 \\uc5e0\",\"(\\uc8fc)\\uc601\\ud654\\ud2b9\\ubcc4\\uc2dc\\uc5d0\\uc2a4\\uc5e0\\uc528\",\"(\\uc8fc)\\ud648\\ucd08\\uc774\\uc2a4\",\"(\\uc8fc)\\ud654\\uc564\\ub2f4\\uc774\\uc5d4\\ud2f0\",\"\\uc8fc\\uc2dd\\ud68c\\uc0ac \\uc528\\ub124\\ub8e9\\uc2a4\",\"(\\uc8fc)\\uc601\\ud654\\uc81c\\uc791\\uc804\\uc6d0\\uc0ac \",\"(\\uc8fc)\\uc0bc\\uc9c0\\uc560\\ub2c8\\uba54\\uc774\\uc158\",\"THE \\ud53d\\uccd0\\uc2a4\",\"(\\uc8fc)\\ube0c\\ub9ac\\uc988\\ud53d\\ucc98\\uc2a4\",\"(\\uc8fc)\\ub354\\ube14\\uc564\\uc870\\uc774\\ud53d\\uccd0\\uc2a4\",\"(\\uc8fc)\\ud37c\\uc2a4\\ud2b8\\ub7f0\",\"\\uae00\\ubafc \\uc8fc\\uc2dd\\ud68c\\uc0ac\",\"(\\uc7ac)CBS\",\"(\\uc8fc)\\uc5d0\\uc2a4\\uc640\\uc774\\ucf54\\ub9c8\\ub4dc\",\"(\\uc8fc)\\uc5d0\\uc774\\uc6d0\\uc5d4\\ud130\\ud14c\\uc778\\uba3c\\ud2b8\",\"\\ube0c\\ub9bf\\uc9c0\\uc6cd\\uc2a4 \\uc5d4\\ud130\\ud14c\\uc778\\uba3c\\ud2b8(\\uc8fc)\",\"\\ub178\\ubc14\\uc5d4\\ud130\\ud14c\\uc778\\uba3c\\ud2b8\",\"\\ud0c0\\uc784\\uc2a4\\ud1a0\\ub9ac\\uadf8\\ub8f9(\\uc8fc)\",\"(\\uc8fc)\\ub300\\uba85\\ubb38\\ud654\\uacf5\\uc7a5\",\"(\\uc8fc)\\ub514\\uc624\\uc2dc\\ub124\\ub9c8\",\"(\\uc8fc)\\uc5d0\\uc774\\uc2a4\\uba54\\uc774\\ucee4\\ubb34\\ube44\\uc6cd\\uc2a4\",\"\\uc54c\\ud1a0\\ubbf8\\ub514\\uc5b4(\\uc8fc)\",\"\\ud50c\\ub808\\uc774\\ub9ac\\uc2a4\\ud2b8(\\uc8fc)\",\"\\ud31d\\uc5d4\\ud130\\ud14c\\uc778\\uba3c\\ud2b8\",\"\\ucee4\\ub125\\ud2b8\\ud53d\\uccd0\\uc2a4(\\uc8fc)\",\"(\\uc8fc)\\uc640\\uc6b0\\ud53d\\uccd0\\uc2a4\",\"(\\uc8fc)\\uc62c\\uc2a4\\ud0c0\\uc5d4\\ud130\\ud14c\\uc778\\uba3c\\ud2b8\",\"\\ubb34\\ube0c\\uba3c\\ud2b8\",\"\\uc2dc\\ub124\\ub9c8 \\ub274\\uc6d0\",\"(\\uc720)\\uc870\\uc774\\uc564\\uc2dc\\ub124\\ub9c8\",\"(\\uc8fc)\\ubbf8\\ub514\\uc5b4\\uce90\\uc2ac\",\"(\\uc8fc)\\ubaa8\\uba58\\ud140\\uc5d4\\ud130\\ud14c\\uc778\\uba3c\\ud2b8\",\"(\\uc8fc)\\ucf00\\uc774\\ud2f0\\uc54c\\ud30c\",\"\\ub3d9\\uc6b0\\uc5d0\\uc774\\uc564\\uc774(\\uc8fc)\",\"(\\uc8fc)\\ub9c8\\ub178\\uc5d4\\ud130\\ud14c\\uc778\\uba3c\\ud2b8\",\"(\\uc8fc)\\ub2e4\\uc790\\uc778\\uc18c\\ud504\\ud2b8\",\"(\\uc8fc)\\ubc84\\ud0b7\\uc2a4\\ud29c\\ub514\\uc624\",\"(\\uc8fc)\\ud32c\\uc5d4\\ud130\\ud14c\\uc778\\uba3c\\ud2b8\",\"(\\uc8fc)\\uc2dc\\ub124\\ub9c8\\uc11c\\ube44\\uc2a4\",\"(\\uc8fc)\\uc2dc\\ub124\\ub9c8\\ub2ec\",\"(\\uc8fc)\\uc601\\ud654\\uc0ac \\uc870\\uc81c\",\"(\\uc8fc)\\uc601\\ud654\\uc0ac \\uc548\\ub2e4\\ubbf8\\ub85c\",\"(\\uc8fc)\\uc774\\ub180\\ubbf8\\ub514\\uc5b4\",\"CJ ENM\",\"\\uc8fc\\uc2dd\\ud68c\\uc0ac \\uc6b0\\ub9ac\\ub124\\ud2b8\\uc6cd\\uc2a4\",\"\\uc8fc\\uc2dd\\ud68c\\uc0ac \\uc1fc\\ubbf8\\ubbf8\\ub514\\uc5b4\\uc564\\ud2b8\\ub808\\uc774\\ub529\",\"\\u321c\\uc601\\ud654\\uc0ac \\ubc31\\ub450\\ub300\\uac04\",\"\\uace8\\ub4e0\\ud0c0\\uc774\\ub4dc\\ud53d\\ucc98\\uc2a4(\\uc8fc)\",\"\\uc774\\uc5b8\\ud53d\\uccd0\\uc2a4\",\"(\\uc720)\\uc601\\ud654\\uc0ac \\ud654\\uc218\\ubd84\",\"(\\uc8fc)\\ud0a4\\uc704\\ubbf8\\ub514\\uc5b4\\uadf8\\ub8f9\",\"(\\uc8fc)\\uba38\\uc2a4\\ud2b8\\uc528\\ubb34\\ube44\",\"(\\uc8fc)\\uc9c0\\uc5b4\\uc18c\\ud504\\ud2b8\",\"(\\uc8fc)\\ubbf8\\ub85c\\uc2a4\\ud398\\uc774\\uc2a4\",\"\\ud504\\ub9ac\\ube44\\uc83c\\uc5d4\\ud130\\ud14c\\uc778\\uba3c\\ud2b8\",\"(\\uc8fc)\\uba54\\ub9ac\\ud06c\\ub9ac\\uc2a4\\ub9c8\\uc2a4\",\"CGV ICECON\",\"(\\uc8fc)\\ub2e4\\ub0a0\\uc5d4\\ud130\\ud14c\\uc778\\uba3c\\ud2b8\",\"(\\uc8fc)\\ube14\\ub8f8\\uc988\\ubca0\\ub9ac\\ub9ac\\uc18c\\uc2dc\\uc2a4\\ub9ac\\ubbf8\\ud2f0\\ub4dc\",\"\\uc8fc\\uc2dd\\ud68c\\uc0ac \\ub514\\uc5d0\\uc2a4\\uc774\\uc774\\ub514\",\"(\\uc8fc)\\uc720\\ub85c\\ucee4\\ubba4\\ub2c8\\ucf00\\uc774\\uc158\",\"(\\uc8fc)\\ud06c\\ub9ac\\ud53d\\uccd0\\uc2a4\",\"\\uc601\\ud654\\uc0ac \\ud480\",\"C \\ubb34\\ube44\",\"(\\uc8fc)\\uc5d4\\ucf00\\uc774\\ucee8\\ud150\\uce20\",\"\\uc8fc\\uc2dd\\ud68c\\uc0ac \\ud0a4\\uc704\\ucef4\\ud37c\\ub2c8\",\"(\\uc8fc)\\ubbf8\\ub85c\\ube44\\uc83c\",\"(\\uc8fc)\\ucf58\\ud150\\uce20 \\ub09c\\ub2e4\\uae34\\ub2e4\",\"\\uc8fc\\uc2dd\\ud68c\\uc0ac \\ud48d\\uacbd\\uc18c\\ub9ac\",\"(\\uc8fc)\\uc528\\ub124\\ud3ec\\ud2b8\",\"(\\uc8fc)\\uc2a4\\ud29c\\ub514\\uc624 \\ubcf4\\ub09c\\uc790\",\"(\\uc8fc)\\ub808\\uc778\\uba54\\uc774\\ucee4\\ud544\\ub984\",\"\\uc2a4\\ud29c\\ub514\\uc624 \\ud504\\ub85c\\uadf8\\ub808\\uc2dc\\ube0c \\uc778\\ud050\\ubca0\\uc774\\ud130\",\"\\uc724\\uc2a4\",\"(\\uc8fc)\\uba54\\uc778\\ud0c0\\uc774\\ud2c0\\ud53d\\uccd0\\uc2a4\",\"(\\uc8fc)\\uc5d0\\uc2a4\\ud53c\\uc5e0\",\"\\uc528\\uc81c\\uc774 \\uc528\\uc9c0\\ube0c\\uc774(CJ CGV)(\\uc8fc)\",\"\\uc6cc\\ud130\\ud640\\ucef4\\ud37c\\ub2c8(\\uc8fc)\",\"(\\uc8fc)\\ubb34\\ube59\\ud53d\\uccd0\\uc2a4\\ucef4\\ud37c\\ub2c8\",\"\\uc5b4\\ubba4\\uc988\",\"\\uc5d0\\uc2a4\\ub514\\uc2dc\\ucf54\\ub9ac\\uc544 \\uc8fc\\uc2dd\\ud68c\\uc0ac\",\"\\uc601\\ud654\\uc0ac \\ub9c8\\ub18d(\\uc8fc)\",\"(\\uc8fc)\\uc564\\ub4dc\\ud50c\\ub7ec\\uc2a4\\ubbf8\\ub514\\uc5b4\\uc6cd\\uc2a4\",\"\\uc528\\uc81c\\uc774\\ud3ec\\ub514\\ud50c\\ub809\\uc2a4 \\uc8fc\\uc2dd\\ud68c\\uc0ac\",\"\\uc8fc\\uc2dd\\ud68c\\uc0ac \\ud574\\ub9ac\\uc2a8\\uc564\\ucef4\\ud37c\\ub2c8\",\"(\\uc8fc)\\uc5e0\\uc81c\\uc774\\ud53d\\uccd0\\uc2a4\",\"(\\uc8fc)\\uadf8\\ub178\\uc2a4\",\"(\\uc8fc)\\ud2f0\\uce90\\uc2a4\\ud2b8\\ucf58\\ud150\\uce20\\ud5c8\\ube0c\",\"(\\uc8fc)\\uc88b\\uc740 \\ud558\\ub298\",\"(\\uc8fc)\\uc77c\\ub808\\ube10\\uc5d4\\ud130\\ud14c\\uc778\\uba3c\\ud2b8\",\"(\\uc8fc)\\ud398\\ud37c\\ubbfc\\ud2b8\\uc564\\ucef4\\ud37c\\ub2c8\",\"\\u321cT-JOY\",\"\\ud30c\\uc774\\uc624\\ub2c8\\uc54421\",\"(\\uc8fc)\\uc601\\ud654\\uc0ac\\uc120\",\"(\\uc8fc)\\ud53c\\ud130\\ud32c\\ud53d\\uccd0\\uc2a4\",\"\\uc8fc\\uc2dd\\ud68c\\uc0ac \\uc628 \\ud53c\\ud06c\",\"M&M \\uc778\\ud130\\ub0b4\\uc154\\ub110\",\"\\uc601\\ud654\\uc0ac\\uc62c(\\uc8fc)\",\"\\uc601\\ud654\\uc0ac\\uccad\\uc5b4\\ub78c(\\uc8fc)\",\"(\\uc8fc)\\ubbf8\\ub514\\uc5b4\\ub85c\\uadf8\",\"\\ud638\\uc6b0\\uc8fc\\uc758\\ubcf4\",\"(\\uc8fc) \\ub8e8\\uc2a4\\uc774\\uc18c\\ub2c8\\ub3c4\\uc2a4\",\"(\\uc8fc)\\ubbf8\\ub514\\uc5b4 \\ub9c8\\uadf8\\ub098\",\"\\uc624\\ud0a4\\ub137\",\"\\ud558\\uc900\\uc0ac\",\"(\\uc8fc)\\ubba4\\uc81c\\uc5d4\\ud130\\ud14c\\uc778\\uba3c\\ud2b8\",\"(\\uc8fc)\\ub354 \\ud53c\\ud50c\",\"(\\uc8fc)\\ub371\\uc2a4\\ud130\\uc2a4\\ud29c\\ub514\\uc624\",\"\\uc8fc\\uc2dd\\ud68c\\uc0ac \\uc653\\ucc60\",\"(\\uc8fc)\\ubaa8\\uc778\\uadf8\\ub8f9\",\"(\\uc8fc)\\uadf8\\ub780\",\"\\uc8fc\\uc2dd\\ud68c\\uc0ac \\ube14\\ub8e8\\ud544\\ub984\\uc6cd\\uc2a4\",\"(\\uc8fc)\\ub808\\ub4dc\\ub85c\\ubc84\",\"(\\uc8fc)\\uba85\\ud544\\ub984\",\"(\\uc8fc)\\uae40\\uae30\\ub355 \\ud544\\ub984\",\"(\\uc8fc)\\uba54\\ud0c0\\ud50c\\ub808\\uc774\",\"\\uc720\\ub098\\uc774\\ud2f0\\ub4dc\\ud53d\\ucc98\\uc2a4(\\uc8fc)\",\"\\ud314\\ub808\\ub4dc\\uc2dc\\ub124\\ub9c8(\\uc8fc)\",\"\\uc8fc\\uc2dd\\ud68c\\uc0ac \\uc2dc\\uc628\\ud53d\\uccd0\\uc2a4\",\"(\\uc8fc)\\uae4c\\uba5c\\ub9ac\\uc544\\uc774\\uc5d4\\ud2f0\",\"\\uc8fc\\uc2dd\\ud68c\\uc0ac \\uc288\\uc544\\ud53d\\ucc98\\uc2a4\",\"\\uc775\\uc2a4\\ud2b8\\ub9bc \\ud544\\ub984\",\"\\uc8fc\\uc2dd\\ud68c\\uc0ac \\ub178\\ubc84\\uc2a4\\uc5d4\\ud130\\ud14c\\uc778\\uba3c\\ud2b8\",\"\\ucf00\\uc774\\ube44\\uc5d0\\uc2a4\\ubbf8\\ub514\\uc5b4(\\uc8fc)\",\"(\\uc8fc)\\ub960\\ud544\\ub984\",\"(\\uc8fc)\\ub300\\uad50 \\ubbf8\\ub514\\uc5b4\\ucf58\\ud150\\uce20\\uc0ac\\uc5c5\\ubcf8\\ubd80\",\"(\\uc8fc)\\ub7a0\\ub9ac\\ubc84\\ud2bc\",\"(\\uc8fc)\\ucf58\\ud150\\uce20\\ud328\\ubc00\\ub9ac\",\"\\uc601\\ud654\\uc0ac \\ubbfc\\ub4e4\\ub808\",\"(\\uc8fc)\\uc601\\ud654\\uc0ac\\uc0d8\",\"(\\uc8fc)\\uc544\\uc6b0\\ub77c\\ud53d\\ucc98\\uc2a4\",\"(\\uc8fc)\\uc544\\uc774\\uc5e0\\ube44\\uc528\",\"(\\uc8fc)\\uc544\\uc774\\ucf54\\ub2c9\\uc2a4\",\"(\\uc8fc)\\uc54c\\uc564\\uc624\\uc5d4\\ud130\\ud14c\\uc778\\uba3c\\ud2b8\",\"\\u321c\\ucf00\\uc774\\ub514\\ubbf8\\ub514\\uc5b4\",\"\\u321c\\uc528\\uc5d0\\uc774\\uc5d4\",\"(\\uc8fc)\\uc5d0\\uc774\\uc378\\uc5d4\\ud130\\ud14c\\uc778\\uba3c\\ud2b8\",\"KBS \\ubbf8\\ub514\\uc5b4\",\"(\\uc8fc)\\uc601\\ud654\\uc0ac\\uba54\\uc774\\ud50c\\ub7ec\\uc2a4\",\"(\\uc8fc)\\uc601\\ud654\\uc0ac\\uc870\\uc544\",\"\\uc601\\ud654\\uc0ac \\ubab8\",\"(\\uc8fc)\\ud544\\ub984\\uc624\\ub9c8\\uc96c\",\"(\\uc8fc)\\uc640\\uc774\\uc988\\ubca0\\uc774\",\"(\\uc8fc)\\ud3ec\\ucf13\\ubaac\\ucf54\\ub9ac\\uc544\",\"(\\uc8fc)\\ud328\\ubdf8\\ub7ec\\uc2a4\",\"(\\uc8fc)\\uc804\\ub9dd\\uc88b\\uc740 \\uc601\\ud654\\uc0ac\",\"(\\uc8fc)\\uc911\\ud5cc\\ud640\\ub529\\uc2a4\",\"(\\uc8fc)\\ud2b8\\ub9ac\\ud544\\ub984\",\"(\\uc8fc)\\ud2b8\\ub9ac\\ub2c8\\ud2f0\\ud53d\\uccd0\\uc2a4\",\"(\\uc8fc)\\ucf58\\ud150\\uce20\\uc719\",\"(\\uc8fc)\\uc528\\ub124\\ud544\\uc6b4\",\"\\ub274\\uc6d0\\uc2dc\\ub124\\ub9c8\",\"\\ub300\\uc6d0\\ubbf8\\ub514\\uc5b4(\\uc8fc)\",\"\\ub525 \\ud3ec\\ucee4\\uc2a4\",\"\\uc5d0\\uc2a4\\ucf00\\uc774\\ud50c\\ub798\\ub2db(\\uc8fc)\",\"\\uc5d0\\uc2a4\\ucf00\\uc774\\ud154\\ub808\\ucf64(\\uc8fc)\",\"\\uc5bc\\ub9ac\\ubc84\\ub4dc\",\"\\uc544\\uc774\\ub7ec\\ube0c\\uc2dc\\ub124\\ub9c8\",\"(\\uc8fc)\\ubbf8\\ub8e8\\ud53d\\ucc98\\uc2a4\",\"\\uc544\\ubba4\\uc988\\ucf54\\ub9ac\\uc544(\\uc8fc)\",\"\\uc528\\ub124\\ucffc\\ub10c \\ud53d\\uccd0\\uc2a4\",\"(\\uc8fc)\\ube14\\ub8f8\\uc988\\ubca0\\ub9ac\\ud30c\\ud2b8\\ub108\\uc2a4\",\"(\\uc8fc)\\ube45\\uc6e8\\uc774\\ube0c\\uc2dc\\ub124\\ub9c8\",\"\\uc2a4\\ub9c8\\ud2b8\\uc2a4\\ud130\\ub514(\\uc8fc)\",\"(\\uc8fc)\\uc140\\ud2b8\\ub9ac\\uc628\\uc5d4\\ud130\\ud14c\\uc778\\uba3c\\ud2b8\",\"(\\uc8fc)\\uc18c\\ub098\\ubb34\\ud53d\\uccd0\\uc2a4\",\"\\uc120\\ud544\\ub984\",\"\\ube14\\ub8e8\\ubbf8\\uc9c0\",\"(\\uc8fc)\\uc218\\ud0a4\\ud53d\\uccd0\\uc2a4\",\"(\\uc8fc)\\uc2a4\\ud29c\\ub514\\uc624\\ub514\\uc5d0\\uc774\\uce58\\uc5d8\",\"(\\uc8fc)\\uc2dc\\ub108\\uc9c0\\ubbf8\\ub514\\uc5b4\",\"(\\uc8fc)\\uc528\\ub124\\ud074\\ub7fd\\ubd09\\ubd09\\ubbf8\\uc5d8\",\"\\ub86f\\ub370\\uc1fc\\ud551\\u321c\\ub86f\\ub370\\uc2dc\\ub124\\ub9c8\",\"\\ud798\\ucee8\\ud150\\uce20(\\uc8fc)\"],\"legendgroup\":\"\",\"name\":\"\",\"showlegend\":true,\"textinfo\":\"percent+label\",\"textposition\":\"inside\",\"type\":\"pie\",\"values\":[221,181,149,145,145,109,106,94,92,77,77,75,73,73,73,72,69,65,60,53,50,48,45,44,43,38,37,36,36,35,34,31,31,30,30,28,27,25,25,24,24,23,23,22,21,20,20,19,19,18,18,17,17,16,16,15,15,15,15,14,14,14,14,14,13,13,13,13,12,12,12,12,12,12,10,10,10,9,9,9,8,8,8,8,8,7,7,7,7,7,7,7,7,6,6,6,6,6,6,6,6,6,5,5,5,5,5,5,5,4,4,4,4,4,4,4,4,4,4,3,3,3,3,3,3,3,3,3,3,3,3,3,3,3,2,2,2,2,2,2,2,2,2,2,2,2,2,2,2,2,2,2,2,2,2,2,2,2,2,2,2,2,1,1,1,1,1,1,1,1,1,1,1,1,1,1,1,1,1,1,1,1,1,1,1,1,1,1,1,1,1,1,1,1,1,1,1,1,1,1,1,1,1,1,1,1,1,1,1,1,1,1,1,1,1,1,1,1,1,1,1,1,1,1,1,1,1,1,1,1,1,1,1,1,1,1,1,1,1]}],                        {\"legend\":{\"tracegroupgap\":0},\"piecolorway\":[\"rgb(73,0,106)\",\"rgb(122,1,119)\",\"rgb(174,1,126)\",\"rgb(221,52,151)\",\"rgb(247,104,161)\",\"rgb(250,159,181)\",\"rgb(252,197,192)\",\"rgb(253,224,221)\",\"rgb(255,247,243)\"],\"template\":{\"data\":{\"bar\":[{\"error_x\":{\"color\":\"#2a3f5f\"},\"error_y\":{\"color\":\"#2a3f5f\"},\"marker\":{\"line\":{\"color\":\"#E5ECF6\",\"width\":0.5},\"pattern\":{\"fillmode\":\"overlay\",\"size\":10,\"solidity\":0.2}},\"type\":\"bar\"}],\"barpolar\":[{\"marker\":{\"line\":{\"color\":\"#E5ECF6\",\"width\":0.5},\"pattern\":{\"fillmode\":\"overlay\",\"size\":10,\"solidity\":0.2}},\"type\":\"barpolar\"}],\"carpet\":[{\"aaxis\":{\"endlinecolor\":\"#2a3f5f\",\"gridcolor\":\"white\",\"linecolor\":\"white\",\"minorgridcolor\":\"white\",\"startlinecolor\":\"#2a3f5f\"},\"baxis\":{\"endlinecolor\":\"#2a3f5f\",\"gridcolor\":\"white\",\"linecolor\":\"white\",\"minorgridcolor\":\"white\",\"startlinecolor\":\"#2a3f5f\"},\"type\":\"carpet\"}],\"choropleth\":[{\"colorbar\":{\"outlinewidth\":0,\"ticks\":\"\"},\"type\":\"choropleth\"}],\"contour\":[{\"colorbar\":{\"outlinewidth\":0,\"ticks\":\"\"},\"colorscale\":[[0.0,\"#0d0887\"],[0.1111111111111111,\"#46039f\"],[0.2222222222222222,\"#7201a8\"],[0.3333333333333333,\"#9c179e\"],[0.4444444444444444,\"#bd3786\"],[0.5555555555555556,\"#d8576b\"],[0.6666666666666666,\"#ed7953\"],[0.7777777777777778,\"#fb9f3a\"],[0.8888888888888888,\"#fdca26\"],[1.0,\"#f0f921\"]],\"type\":\"contour\"}],\"contourcarpet\":[{\"colorbar\":{\"outlinewidth\":0,\"ticks\":\"\"},\"type\":\"contourcarpet\"}],\"heatmap\":[{\"colorbar\":{\"outlinewidth\":0,\"ticks\":\"\"},\"colorscale\":[[0.0,\"#0d0887\"],[0.1111111111111111,\"#46039f\"],[0.2222222222222222,\"#7201a8\"],[0.3333333333333333,\"#9c179e\"],[0.4444444444444444,\"#bd3786\"],[0.5555555555555556,\"#d8576b\"],[0.6666666666666666,\"#ed7953\"],[0.7777777777777778,\"#fb9f3a\"],[0.8888888888888888,\"#fdca26\"],[1.0,\"#f0f921\"]],\"type\":\"heatmap\"}],\"heatmapgl\":[{\"colorbar\":{\"outlinewidth\":0,\"ticks\":\"\"},\"colorscale\":[[0.0,\"#0d0887\"],[0.1111111111111111,\"#46039f\"],[0.2222222222222222,\"#7201a8\"],[0.3333333333333333,\"#9c179e\"],[0.4444444444444444,\"#bd3786\"],[0.5555555555555556,\"#d8576b\"],[0.6666666666666666,\"#ed7953\"],[0.7777777777777778,\"#fb9f3a\"],[0.8888888888888888,\"#fdca26\"],[1.0,\"#f0f921\"]],\"type\":\"heatmapgl\"}],\"histogram\":[{\"marker\":{\"pattern\":{\"fillmode\":\"overlay\",\"size\":10,\"solidity\":0.2}},\"type\":\"histogram\"}],\"histogram2d\":[{\"colorbar\":{\"outlinewidth\":0,\"ticks\":\"\"},\"colorscale\":[[0.0,\"#0d0887\"],[0.1111111111111111,\"#46039f\"],[0.2222222222222222,\"#7201a8\"],[0.3333333333333333,\"#9c179e\"],[0.4444444444444444,\"#bd3786\"],[0.5555555555555556,\"#d8576b\"],[0.6666666666666666,\"#ed7953\"],[0.7777777777777778,\"#fb9f3a\"],[0.8888888888888888,\"#fdca26\"],[1.0,\"#f0f921\"]],\"type\":\"histogram2d\"}],\"histogram2dcontour\":[{\"colorbar\":{\"outlinewidth\":0,\"ticks\":\"\"},\"colorscale\":[[0.0,\"#0d0887\"],[0.1111111111111111,\"#46039f\"],[0.2222222222222222,\"#7201a8\"],[0.3333333333333333,\"#9c179e\"],[0.4444444444444444,\"#bd3786\"],[0.5555555555555556,\"#d8576b\"],[0.6666666666666666,\"#ed7953\"],[0.7777777777777778,\"#fb9f3a\"],[0.8888888888888888,\"#fdca26\"],[1.0,\"#f0f921\"]],\"type\":\"histogram2dcontour\"}],\"mesh3d\":[{\"colorbar\":{\"outlinewidth\":0,\"ticks\":\"\"},\"type\":\"mesh3d\"}],\"parcoords\":[{\"line\":{\"colorbar\":{\"outlinewidth\":0,\"ticks\":\"\"}},\"type\":\"parcoords\"}],\"pie\":[{\"automargin\":true,\"type\":\"pie\"}],\"scatter\":[{\"marker\":{\"colorbar\":{\"outlinewidth\":0,\"ticks\":\"\"}},\"type\":\"scatter\"}],\"scatter3d\":[{\"line\":{\"colorbar\":{\"outlinewidth\":0,\"ticks\":\"\"}},\"marker\":{\"colorbar\":{\"outlinewidth\":0,\"ticks\":\"\"}},\"type\":\"scatter3d\"}],\"scattercarpet\":[{\"marker\":{\"colorbar\":{\"outlinewidth\":0,\"ticks\":\"\"}},\"type\":\"scattercarpet\"}],\"scattergeo\":[{\"marker\":{\"colorbar\":{\"outlinewidth\":0,\"ticks\":\"\"}},\"type\":\"scattergeo\"}],\"scattergl\":[{\"marker\":{\"colorbar\":{\"outlinewidth\":0,\"ticks\":\"\"}},\"type\":\"scattergl\"}],\"scattermapbox\":[{\"marker\":{\"colorbar\":{\"outlinewidth\":0,\"ticks\":\"\"}},\"type\":\"scattermapbox\"}],\"scatterpolar\":[{\"marker\":{\"colorbar\":{\"outlinewidth\":0,\"ticks\":\"\"}},\"type\":\"scatterpolar\"}],\"scatterpolargl\":[{\"marker\":{\"colorbar\":{\"outlinewidth\":0,\"ticks\":\"\"}},\"type\":\"scatterpolargl\"}],\"scatterternary\":[{\"marker\":{\"colorbar\":{\"outlinewidth\":0,\"ticks\":\"\"}},\"type\":\"scatterternary\"}],\"surface\":[{\"colorbar\":{\"outlinewidth\":0,\"ticks\":\"\"},\"colorscale\":[[0.0,\"#0d0887\"],[0.1111111111111111,\"#46039f\"],[0.2222222222222222,\"#7201a8\"],[0.3333333333333333,\"#9c179e\"],[0.4444444444444444,\"#bd3786\"],[0.5555555555555556,\"#d8576b\"],[0.6666666666666666,\"#ed7953\"],[0.7777777777777778,\"#fb9f3a\"],[0.8888888888888888,\"#fdca26\"],[1.0,\"#f0f921\"]],\"type\":\"surface\"}],\"table\":[{\"cells\":{\"fill\":{\"color\":\"#EBF0F8\"},\"line\":{\"color\":\"white\"}},\"header\":{\"fill\":{\"color\":\"#C8D4E3\"},\"line\":{\"color\":\"white\"}},\"type\":\"table\"}]},\"layout\":{\"annotationdefaults\":{\"arrowcolor\":\"#2a3f5f\",\"arrowhead\":0,\"arrowwidth\":1},\"autotypenumbers\":\"strict\",\"coloraxis\":{\"colorbar\":{\"outlinewidth\":0,\"ticks\":\"\"}},\"colorscale\":{\"diverging\":[[0,\"#8e0152\"],[0.1,\"#c51b7d\"],[0.2,\"#de77ae\"],[0.3,\"#f1b6da\"],[0.4,\"#fde0ef\"],[0.5,\"#f7f7f7\"],[0.6,\"#e6f5d0\"],[0.7,\"#b8e186\"],[0.8,\"#7fbc41\"],[0.9,\"#4d9221\"],[1,\"#276419\"]],\"sequential\":[[0.0,\"#0d0887\"],[0.1111111111111111,\"#46039f\"],[0.2222222222222222,\"#7201a8\"],[0.3333333333333333,\"#9c179e\"],[0.4444444444444444,\"#bd3786\"],[0.5555555555555556,\"#d8576b\"],[0.6666666666666666,\"#ed7953\"],[0.7777777777777778,\"#fb9f3a\"],[0.8888888888888888,\"#fdca26\"],[1.0,\"#f0f921\"]],\"sequentialminus\":[[0.0,\"#0d0887\"],[0.1111111111111111,\"#46039f\"],[0.2222222222222222,\"#7201a8\"],[0.3333333333333333,\"#9c179e\"],[0.4444444444444444,\"#bd3786\"],[0.5555555555555556,\"#d8576b\"],[0.6666666666666666,\"#ed7953\"],[0.7777777777777778,\"#fb9f3a\"],[0.8888888888888888,\"#fdca26\"],[1.0,\"#f0f921\"]]},\"colorway\":[\"#636efa\",\"#EF553B\",\"#00cc96\",\"#ab63fa\",\"#FFA15A\",\"#19d3f3\",\"#FF6692\",\"#B6E880\",\"#FF97FF\",\"#FECB52\"],\"font\":{\"color\":\"#2a3f5f\"},\"geo\":{\"bgcolor\":\"white\",\"lakecolor\":\"white\",\"landcolor\":\"#E5ECF6\",\"showlakes\":true,\"showland\":true,\"subunitcolor\":\"white\"},\"hoverlabel\":{\"align\":\"left\"},\"hovermode\":\"closest\",\"mapbox\":{\"style\":\"light\"},\"paper_bgcolor\":\"white\",\"plot_bgcolor\":\"#E5ECF6\",\"polar\":{\"angularaxis\":{\"gridcolor\":\"white\",\"linecolor\":\"white\",\"ticks\":\"\"},\"bgcolor\":\"#E5ECF6\",\"radialaxis\":{\"gridcolor\":\"white\",\"linecolor\":\"white\",\"ticks\":\"\"}},\"scene\":{\"xaxis\":{\"backgroundcolor\":\"#E5ECF6\",\"gridcolor\":\"white\",\"gridwidth\":2,\"linecolor\":\"white\",\"showbackground\":true,\"ticks\":\"\",\"zerolinecolor\":\"white\"},\"yaxis\":{\"backgroundcolor\":\"#E5ECF6\",\"gridcolor\":\"white\",\"gridwidth\":2,\"linecolor\":\"white\",\"showbackground\":true,\"ticks\":\"\",\"zerolinecolor\":\"white\"},\"zaxis\":{\"backgroundcolor\":\"#E5ECF6\",\"gridcolor\":\"white\",\"gridwidth\":2,\"linecolor\":\"white\",\"showbackground\":true,\"ticks\":\"\",\"zerolinecolor\":\"white\"}},\"shapedefaults\":{\"line\":{\"color\":\"#2a3f5f\"}},\"ternary\":{\"aaxis\":{\"gridcolor\":\"white\",\"linecolor\":\"white\",\"ticks\":\"\"},\"baxis\":{\"gridcolor\":\"white\",\"linecolor\":\"white\",\"ticks\":\"\"},\"bgcolor\":\"#E5ECF6\",\"caxis\":{\"gridcolor\":\"white\",\"linecolor\":\"white\",\"ticks\":\"\"}},\"title\":{\"x\":0.05},\"xaxis\":{\"automargin\":true,\"gridcolor\":\"white\",\"linecolor\":\"white\",\"ticks\":\"\",\"title\":{\"standoff\":15},\"zerolinecolor\":\"white\",\"zerolinewidth\":2},\"yaxis\":{\"automargin\":true,\"gridcolor\":\"white\",\"linecolor\":\"white\",\"ticks\":\"\",\"title\":{\"standoff\":15},\"zerolinecolor\":\"white\",\"zerolinewidth\":2}}},\"title\":{\"text\":\"2011\\ub144~2020\\ub144\\uac04 \\uc81c\\uc791\\ub41c \\uc601\\ud654\\uc758 \\ubc30\\uae09 \\ube44\\uc911\"}},                        {\"responsive\": true}                    ).then(function(){\n",
              "                            \n",
              "var gd = document.getElementById('50f363c6-4bdd-42ee-9b79-824261f66f5f');\n",
              "var x = new MutationObserver(function (mutations, observer) {{\n",
              "        var display = window.getComputedStyle(gd).display;\n",
              "        if (!display || display === 'none') {{\n",
              "            console.log([gd, 'removed!']);\n",
              "            Plotly.purge(gd);\n",
              "            observer.disconnect();\n",
              "        }}\n",
              "}});\n",
              "\n",
              "// Listen for the removal of the full notebook cells\n",
              "var notebookContainer = gd.closest('#notebook-container');\n",
              "if (notebookContainer) {{\n",
              "    x.observe(notebookContainer, {childList: true});\n",
              "}}\n",
              "\n",
              "// Listen for the clearing of the current output cell\n",
              "var outputEl = gd.closest('.output');\n",
              "if (outputEl) {{\n",
              "    x.observe(outputEl, {childList: true});\n",
              "}}\n",
              "\n",
              "                        })                };                            </script>        </div>\n",
              "</body>\n",
              "</html>"
            ]
          },
          "metadata": {}
        }
      ]
    },
    {
      "cell_type": "code",
      "metadata": {
        "colab": {
          "base_uri": "https://localhost:8080/",
          "height": 351
        },
        "id": "YpcUWhGl1LKB",
        "outputId": "9367c31b-719a-4a0e-93b3-67a2c093a920"
      },
      "source": [
        "cj_years = new_movies[(new_movies['배급사'].str.contains(\"씨제이\")) | (new_movies['배급사'].str.contains(\"CJ\", case=False))]\n",
        "cj_years = cj_years.groupby('개봉연도').size().reset_index(name='CJENM배급영화수')\n",
        "cj_years"
      ],
      "execution_count": 17,
      "outputs": [
        {
          "output_type": "execute_result",
          "data": {
            "text/html": [
              "<div>\n",
              "<style scoped>\n",
              "    .dataframe tbody tr th:only-of-type {\n",
              "        vertical-align: middle;\n",
              "    }\n",
              "\n",
              "    .dataframe tbody tr th {\n",
              "        vertical-align: top;\n",
              "    }\n",
              "\n",
              "    .dataframe thead th {\n",
              "        text-align: right;\n",
              "    }\n",
              "</style>\n",
              "<table border=\"1\" class=\"dataframe\">\n",
              "  <thead>\n",
              "    <tr style=\"text-align: right;\">\n",
              "      <th></th>\n",
              "      <th>개봉연도</th>\n",
              "      <th>CJENM배급영화수</th>\n",
              "    </tr>\n",
              "  </thead>\n",
              "  <tbody>\n",
              "    <tr>\n",
              "      <th>0</th>\n",
              "      <td>2011</td>\n",
              "      <td>34</td>\n",
              "    </tr>\n",
              "    <tr>\n",
              "      <th>1</th>\n",
              "      <td>2012</td>\n",
              "      <td>32</td>\n",
              "    </tr>\n",
              "    <tr>\n",
              "      <th>2</th>\n",
              "      <td>2013</td>\n",
              "      <td>33</td>\n",
              "    </tr>\n",
              "    <tr>\n",
              "      <th>3</th>\n",
              "      <td>2014</td>\n",
              "      <td>27</td>\n",
              "    </tr>\n",
              "    <tr>\n",
              "      <th>4</th>\n",
              "      <td>2015</td>\n",
              "      <td>23</td>\n",
              "    </tr>\n",
              "    <tr>\n",
              "      <th>5</th>\n",
              "      <td>2016</td>\n",
              "      <td>23</td>\n",
              "    </tr>\n",
              "    <tr>\n",
              "      <th>6</th>\n",
              "      <td>2017</td>\n",
              "      <td>21</td>\n",
              "    </tr>\n",
              "    <tr>\n",
              "      <th>7</th>\n",
              "      <td>2018</td>\n",
              "      <td>15</td>\n",
              "    </tr>\n",
              "    <tr>\n",
              "      <th>8</th>\n",
              "      <td>2019</td>\n",
              "      <td>12</td>\n",
              "    </tr>\n",
              "    <tr>\n",
              "      <th>9</th>\n",
              "      <td>2020</td>\n",
              "      <td>10</td>\n",
              "    </tr>\n",
              "  </tbody>\n",
              "</table>\n",
              "</div>"
            ],
            "text/plain": [
              "   개봉연도  CJENM배급영화수\n",
              "0  2011          34\n",
              "1  2012          32\n",
              "2  2013          33\n",
              "3  2014          27\n",
              "4  2015          23\n",
              "5  2016          23\n",
              "6  2017          21\n",
              "7  2018          15\n",
              "8  2019          12\n",
              "9  2020          10"
            ]
          },
          "metadata": {},
          "execution_count": 17
        }
      ]
    },
    {
      "cell_type": "code",
      "metadata": {
        "colab": {
          "base_uri": "https://localhost:8080/",
          "height": 542
        },
        "id": "qN1fnWGy4XM3",
        "outputId": "6a495784-c3c9-484e-87d8-29df05aa8995"
      },
      "source": [
        "#연도별 추이를 시각화하여 보여줌 \n",
        "fig = px.bar(cj_years, \n",
        "              x=\"개봉연도\", # x축\n",
        "              y=\"CJENM배급영화수\",  # y축\n",
        "              text = 'CJENM배급영화수',\n",
        "              title='2011~2020 CJ ENM이 배급한 영화 수 추이', # Title \n",
        "              )\n",
        "fig.update_traces(texttemplate='%{text}편', textposition='outside')\n",
        "fig.update_layout(uniformtext_minsize=8, uniformtext_mode='hide')\n",
        "# fig.update_traces(texttemplate=, textposition='outside')\n",
        "\n",
        "fig.show()"
      ],
      "execution_count": 18,
      "outputs": [
        {
          "output_type": "display_data",
          "data": {
            "text/html": [
              "<html>\n",
              "<head><meta charset=\"utf-8\" /></head>\n",
              "<body>\n",
              "    <div>            <script src=\"https://cdnjs.cloudflare.com/ajax/libs/mathjax/2.7.5/MathJax.js?config=TeX-AMS-MML_SVG\"></script><script type=\"text/javascript\">if (window.MathJax) {MathJax.Hub.Config({SVG: {font: \"STIX-Web\"}});}</script>                <script type=\"text/javascript\">window.PlotlyConfig = {MathJaxConfig: 'local'};</script>\n",
              "        <script src=\"https://cdn.plot.ly/plotly-2.3.1.min.js\"></script>                <div id=\"aac4f961-69e1-484c-a9e7-24001b9d219e\" class=\"plotly-graph-div\" style=\"height:525px; width:100%;\"></div>            <script type=\"text/javascript\">                                    window.PLOTLYENV=window.PLOTLYENV || {};                                    if (document.getElementById(\"aac4f961-69e1-484c-a9e7-24001b9d219e\")) {                    Plotly.newPlot(                        \"aac4f961-69e1-484c-a9e7-24001b9d219e\",                        [{\"alignmentgroup\":\"True\",\"hovertemplate\":\"\\uac1c\\ubd09\\uc5f0\\ub3c4=%{x}<br>CJENM\\ubc30\\uae09\\uc601\\ud654\\uc218=%{text}<extra></extra>\",\"legendgroup\":\"\",\"marker\":{\"color\":\"#636efa\",\"pattern\":{\"shape\":\"\"}},\"name\":\"\",\"offsetgroup\":\"\",\"orientation\":\"v\",\"showlegend\":false,\"text\":[34.0,32.0,33.0,27.0,23.0,23.0,21.0,15.0,12.0,10.0],\"textposition\":\"outside\",\"texttemplate\":\"%{text}\\ud3b8\",\"type\":\"bar\",\"x\":[2011,2012,2013,2014,2015,2016,2017,2018,2019,2020],\"xaxis\":\"x\",\"y\":[34,32,33,27,23,23,21,15,12,10],\"yaxis\":\"y\"}],                        {\"barmode\":\"relative\",\"legend\":{\"tracegroupgap\":0},\"template\":{\"data\":{\"bar\":[{\"error_x\":{\"color\":\"#2a3f5f\"},\"error_y\":{\"color\":\"#2a3f5f\"},\"marker\":{\"line\":{\"color\":\"#E5ECF6\",\"width\":0.5},\"pattern\":{\"fillmode\":\"overlay\",\"size\":10,\"solidity\":0.2}},\"type\":\"bar\"}],\"barpolar\":[{\"marker\":{\"line\":{\"color\":\"#E5ECF6\",\"width\":0.5},\"pattern\":{\"fillmode\":\"overlay\",\"size\":10,\"solidity\":0.2}},\"type\":\"barpolar\"}],\"carpet\":[{\"aaxis\":{\"endlinecolor\":\"#2a3f5f\",\"gridcolor\":\"white\",\"linecolor\":\"white\",\"minorgridcolor\":\"white\",\"startlinecolor\":\"#2a3f5f\"},\"baxis\":{\"endlinecolor\":\"#2a3f5f\",\"gridcolor\":\"white\",\"linecolor\":\"white\",\"minorgridcolor\":\"white\",\"startlinecolor\":\"#2a3f5f\"},\"type\":\"carpet\"}],\"choropleth\":[{\"colorbar\":{\"outlinewidth\":0,\"ticks\":\"\"},\"type\":\"choropleth\"}],\"contour\":[{\"colorbar\":{\"outlinewidth\":0,\"ticks\":\"\"},\"colorscale\":[[0.0,\"#0d0887\"],[0.1111111111111111,\"#46039f\"],[0.2222222222222222,\"#7201a8\"],[0.3333333333333333,\"#9c179e\"],[0.4444444444444444,\"#bd3786\"],[0.5555555555555556,\"#d8576b\"],[0.6666666666666666,\"#ed7953\"],[0.7777777777777778,\"#fb9f3a\"],[0.8888888888888888,\"#fdca26\"],[1.0,\"#f0f921\"]],\"type\":\"contour\"}],\"contourcarpet\":[{\"colorbar\":{\"outlinewidth\":0,\"ticks\":\"\"},\"type\":\"contourcarpet\"}],\"heatmap\":[{\"colorbar\":{\"outlinewidth\":0,\"ticks\":\"\"},\"colorscale\":[[0.0,\"#0d0887\"],[0.1111111111111111,\"#46039f\"],[0.2222222222222222,\"#7201a8\"],[0.3333333333333333,\"#9c179e\"],[0.4444444444444444,\"#bd3786\"],[0.5555555555555556,\"#d8576b\"],[0.6666666666666666,\"#ed7953\"],[0.7777777777777778,\"#fb9f3a\"],[0.8888888888888888,\"#fdca26\"],[1.0,\"#f0f921\"]],\"type\":\"heatmap\"}],\"heatmapgl\":[{\"colorbar\":{\"outlinewidth\":0,\"ticks\":\"\"},\"colorscale\":[[0.0,\"#0d0887\"],[0.1111111111111111,\"#46039f\"],[0.2222222222222222,\"#7201a8\"],[0.3333333333333333,\"#9c179e\"],[0.4444444444444444,\"#bd3786\"],[0.5555555555555556,\"#d8576b\"],[0.6666666666666666,\"#ed7953\"],[0.7777777777777778,\"#fb9f3a\"],[0.8888888888888888,\"#fdca26\"],[1.0,\"#f0f921\"]],\"type\":\"heatmapgl\"}],\"histogram\":[{\"marker\":{\"pattern\":{\"fillmode\":\"overlay\",\"size\":10,\"solidity\":0.2}},\"type\":\"histogram\"}],\"histogram2d\":[{\"colorbar\":{\"outlinewidth\":0,\"ticks\":\"\"},\"colorscale\":[[0.0,\"#0d0887\"],[0.1111111111111111,\"#46039f\"],[0.2222222222222222,\"#7201a8\"],[0.3333333333333333,\"#9c179e\"],[0.4444444444444444,\"#bd3786\"],[0.5555555555555556,\"#d8576b\"],[0.6666666666666666,\"#ed7953\"],[0.7777777777777778,\"#fb9f3a\"],[0.8888888888888888,\"#fdca26\"],[1.0,\"#f0f921\"]],\"type\":\"histogram2d\"}],\"histogram2dcontour\":[{\"colorbar\":{\"outlinewidth\":0,\"ticks\":\"\"},\"colorscale\":[[0.0,\"#0d0887\"],[0.1111111111111111,\"#46039f\"],[0.2222222222222222,\"#7201a8\"],[0.3333333333333333,\"#9c179e\"],[0.4444444444444444,\"#bd3786\"],[0.5555555555555556,\"#d8576b\"],[0.6666666666666666,\"#ed7953\"],[0.7777777777777778,\"#fb9f3a\"],[0.8888888888888888,\"#fdca26\"],[1.0,\"#f0f921\"]],\"type\":\"histogram2dcontour\"}],\"mesh3d\":[{\"colorbar\":{\"outlinewidth\":0,\"ticks\":\"\"},\"type\":\"mesh3d\"}],\"parcoords\":[{\"line\":{\"colorbar\":{\"outlinewidth\":0,\"ticks\":\"\"}},\"type\":\"parcoords\"}],\"pie\":[{\"automargin\":true,\"type\":\"pie\"}],\"scatter\":[{\"marker\":{\"colorbar\":{\"outlinewidth\":0,\"ticks\":\"\"}},\"type\":\"scatter\"}],\"scatter3d\":[{\"line\":{\"colorbar\":{\"outlinewidth\":0,\"ticks\":\"\"}},\"marker\":{\"colorbar\":{\"outlinewidth\":0,\"ticks\":\"\"}},\"type\":\"scatter3d\"}],\"scattercarpet\":[{\"marker\":{\"colorbar\":{\"outlinewidth\":0,\"ticks\":\"\"}},\"type\":\"scattercarpet\"}],\"scattergeo\":[{\"marker\":{\"colorbar\":{\"outlinewidth\":0,\"ticks\":\"\"}},\"type\":\"scattergeo\"}],\"scattergl\":[{\"marker\":{\"colorbar\":{\"outlinewidth\":0,\"ticks\":\"\"}},\"type\":\"scattergl\"}],\"scattermapbox\":[{\"marker\":{\"colorbar\":{\"outlinewidth\":0,\"ticks\":\"\"}},\"type\":\"scattermapbox\"}],\"scatterpolar\":[{\"marker\":{\"colorbar\":{\"outlinewidth\":0,\"ticks\":\"\"}},\"type\":\"scatterpolar\"}],\"scatterpolargl\":[{\"marker\":{\"colorbar\":{\"outlinewidth\":0,\"ticks\":\"\"}},\"type\":\"scatterpolargl\"}],\"scatterternary\":[{\"marker\":{\"colorbar\":{\"outlinewidth\":0,\"ticks\":\"\"}},\"type\":\"scatterternary\"}],\"surface\":[{\"colorbar\":{\"outlinewidth\":0,\"ticks\":\"\"},\"colorscale\":[[0.0,\"#0d0887\"],[0.1111111111111111,\"#46039f\"],[0.2222222222222222,\"#7201a8\"],[0.3333333333333333,\"#9c179e\"],[0.4444444444444444,\"#bd3786\"],[0.5555555555555556,\"#d8576b\"],[0.6666666666666666,\"#ed7953\"],[0.7777777777777778,\"#fb9f3a\"],[0.8888888888888888,\"#fdca26\"],[1.0,\"#f0f921\"]],\"type\":\"surface\"}],\"table\":[{\"cells\":{\"fill\":{\"color\":\"#EBF0F8\"},\"line\":{\"color\":\"white\"}},\"header\":{\"fill\":{\"color\":\"#C8D4E3\"},\"line\":{\"color\":\"white\"}},\"type\":\"table\"}]},\"layout\":{\"annotationdefaults\":{\"arrowcolor\":\"#2a3f5f\",\"arrowhead\":0,\"arrowwidth\":1},\"autotypenumbers\":\"strict\",\"coloraxis\":{\"colorbar\":{\"outlinewidth\":0,\"ticks\":\"\"}},\"colorscale\":{\"diverging\":[[0,\"#8e0152\"],[0.1,\"#c51b7d\"],[0.2,\"#de77ae\"],[0.3,\"#f1b6da\"],[0.4,\"#fde0ef\"],[0.5,\"#f7f7f7\"],[0.6,\"#e6f5d0\"],[0.7,\"#b8e186\"],[0.8,\"#7fbc41\"],[0.9,\"#4d9221\"],[1,\"#276419\"]],\"sequential\":[[0.0,\"#0d0887\"],[0.1111111111111111,\"#46039f\"],[0.2222222222222222,\"#7201a8\"],[0.3333333333333333,\"#9c179e\"],[0.4444444444444444,\"#bd3786\"],[0.5555555555555556,\"#d8576b\"],[0.6666666666666666,\"#ed7953\"],[0.7777777777777778,\"#fb9f3a\"],[0.8888888888888888,\"#fdca26\"],[1.0,\"#f0f921\"]],\"sequentialminus\":[[0.0,\"#0d0887\"],[0.1111111111111111,\"#46039f\"],[0.2222222222222222,\"#7201a8\"],[0.3333333333333333,\"#9c179e\"],[0.4444444444444444,\"#bd3786\"],[0.5555555555555556,\"#d8576b\"],[0.6666666666666666,\"#ed7953\"],[0.7777777777777778,\"#fb9f3a\"],[0.8888888888888888,\"#fdca26\"],[1.0,\"#f0f921\"]]},\"colorway\":[\"#636efa\",\"#EF553B\",\"#00cc96\",\"#ab63fa\",\"#FFA15A\",\"#19d3f3\",\"#FF6692\",\"#B6E880\",\"#FF97FF\",\"#FECB52\"],\"font\":{\"color\":\"#2a3f5f\"},\"geo\":{\"bgcolor\":\"white\",\"lakecolor\":\"white\",\"landcolor\":\"#E5ECF6\",\"showlakes\":true,\"showland\":true,\"subunitcolor\":\"white\"},\"hoverlabel\":{\"align\":\"left\"},\"hovermode\":\"closest\",\"mapbox\":{\"style\":\"light\"},\"paper_bgcolor\":\"white\",\"plot_bgcolor\":\"#E5ECF6\",\"polar\":{\"angularaxis\":{\"gridcolor\":\"white\",\"linecolor\":\"white\",\"ticks\":\"\"},\"bgcolor\":\"#E5ECF6\",\"radialaxis\":{\"gridcolor\":\"white\",\"linecolor\":\"white\",\"ticks\":\"\"}},\"scene\":{\"xaxis\":{\"backgroundcolor\":\"#E5ECF6\",\"gridcolor\":\"white\",\"gridwidth\":2,\"linecolor\":\"white\",\"showbackground\":true,\"ticks\":\"\",\"zerolinecolor\":\"white\"},\"yaxis\":{\"backgroundcolor\":\"#E5ECF6\",\"gridcolor\":\"white\",\"gridwidth\":2,\"linecolor\":\"white\",\"showbackground\":true,\"ticks\":\"\",\"zerolinecolor\":\"white\"},\"zaxis\":{\"backgroundcolor\":\"#E5ECF6\",\"gridcolor\":\"white\",\"gridwidth\":2,\"linecolor\":\"white\",\"showbackground\":true,\"ticks\":\"\",\"zerolinecolor\":\"white\"}},\"shapedefaults\":{\"line\":{\"color\":\"#2a3f5f\"}},\"ternary\":{\"aaxis\":{\"gridcolor\":\"white\",\"linecolor\":\"white\",\"ticks\":\"\"},\"baxis\":{\"gridcolor\":\"white\",\"linecolor\":\"white\",\"ticks\":\"\"},\"bgcolor\":\"#E5ECF6\",\"caxis\":{\"gridcolor\":\"white\",\"linecolor\":\"white\",\"ticks\":\"\"}},\"title\":{\"x\":0.05},\"xaxis\":{\"automargin\":true,\"gridcolor\":\"white\",\"linecolor\":\"white\",\"ticks\":\"\",\"title\":{\"standoff\":15},\"zerolinecolor\":\"white\",\"zerolinewidth\":2},\"yaxis\":{\"automargin\":true,\"gridcolor\":\"white\",\"linecolor\":\"white\",\"ticks\":\"\",\"title\":{\"standoff\":15},\"zerolinecolor\":\"white\",\"zerolinewidth\":2}}},\"title\":{\"text\":\"2011~2020 CJ ENM\\uc774 \\ubc30\\uae09\\ud55c \\uc601\\ud654 \\uc218 \\ucd94\\uc774\"},\"uniformtext\":{\"minsize\":8,\"mode\":\"hide\"},\"xaxis\":{\"anchor\":\"y\",\"domain\":[0.0,1.0],\"title\":{\"text\":\"\\uac1c\\ubd09\\uc5f0\\ub3c4\"}},\"yaxis\":{\"anchor\":\"x\",\"domain\":[0.0,1.0],\"title\":{\"text\":\"CJENM\\ubc30\\uae09\\uc601\\ud654\\uc218\"}}},                        {\"responsive\": true}                    ).then(function(){\n",
              "                            \n",
              "var gd = document.getElementById('aac4f961-69e1-484c-a9e7-24001b9d219e');\n",
              "var x = new MutationObserver(function (mutations, observer) {{\n",
              "        var display = window.getComputedStyle(gd).display;\n",
              "        if (!display || display === 'none') {{\n",
              "            console.log([gd, 'removed!']);\n",
              "            Plotly.purge(gd);\n",
              "            observer.disconnect();\n",
              "        }}\n",
              "}});\n",
              "\n",
              "// Listen for the removal of the full notebook cells\n",
              "var notebookContainer = gd.closest('#notebook-container');\n",
              "if (notebookContainer) {{\n",
              "    x.observe(notebookContainer, {childList: true});\n",
              "}}\n",
              "\n",
              "// Listen for the clearing of the current output cell\n",
              "var outputEl = gd.closest('.output');\n",
              "if (outputEl) {{\n",
              "    x.observe(outputEl, {childList: true});\n",
              "}}\n",
              "\n",
              "                        })                };                            </script>        </div>\n",
              "</body>\n",
              "</html>"
            ]
          },
          "metadata": {}
        }
      ]
    },
    {
      "cell_type": "markdown",
      "metadata": {
        "id": "5NyLEDvaraZM"
      },
      "source": [
        "### 3) 개봉 연도 별 배급사가 제작한 영화는 얼마나 될까? \n",
        "- CJ E&M의 시장 점유율을 파악하기 위해 배급사에서 제작한 영화의 수를 파악했다. \n"
      ]
    },
    {
      "cell_type": "code",
      "metadata": {
        "id": "IGmzaFbV0fze"
      },
      "source": [
        "# 개봉연도 별 배급사가 만든 영화를 리스트화하여 보여줌 \n",
        "movie_counts = new_movies.groupby(['개봉연도','배급사'], as_index=True)[['개봉연도','배급사']].count()\n"
      ],
      "execution_count": 19,
      "outputs": []
    },
    {
      "cell_type": "code",
      "metadata": {
        "colab": {
          "base_uri": "https://localhost:8080/",
          "height": 200
        },
        "id": "c4T4fw-05XGc",
        "outputId": "70f29dd9-231a-4e50-e3c0-c7b553012e21"
      },
      "source": [
        "movie_counts = new_movies.groupby(['개봉연도','배급사']).size().reset_index(name='배급영화수')\n",
        "movie_counts = movie_counts.sort_values(by = [\"개봉연도\", \"배급영화수\"], ascending=[True, False])\n",
        "movie_counts.head(5)"
      ],
      "execution_count": 20,
      "outputs": [
        {
          "output_type": "execute_result",
          "data": {
            "text/html": [
              "<div>\n",
              "<style scoped>\n",
              "    .dataframe tbody tr th:only-of-type {\n",
              "        vertical-align: middle;\n",
              "    }\n",
              "\n",
              "    .dataframe tbody tr th {\n",
              "        vertical-align: top;\n",
              "    }\n",
              "\n",
              "    .dataframe thead th {\n",
              "        text-align: right;\n",
              "    }\n",
              "</style>\n",
              "<table border=\"1\" class=\"dataframe\">\n",
              "  <thead>\n",
              "    <tr style=\"text-align: right;\">\n",
              "      <th></th>\n",
              "      <th>개봉연도</th>\n",
              "      <th>배급사</th>\n",
              "      <th>배급영화수</th>\n",
              "    </tr>\n",
              "  </thead>\n",
              "  <tbody>\n",
              "    <tr>\n",
              "      <th>24</th>\n",
              "      <td>2011</td>\n",
              "      <td>롯데쇼핑㈜롯데엔터테인먼트</td>\n",
              "      <td>30</td>\n",
              "    </tr>\n",
              "    <tr>\n",
              "      <th>10</th>\n",
              "      <td>2011</td>\n",
              "      <td>(주)씨제이이엔엠</td>\n",
              "      <td>29</td>\n",
              "    </tr>\n",
              "    <tr>\n",
              "      <th>0</th>\n",
              "      <td>2011</td>\n",
              "      <td>(주)넥스트엔터테인먼트월드(NEW)</td>\n",
              "      <td>18</td>\n",
              "    </tr>\n",
              "    <tr>\n",
              "      <th>42</th>\n",
              "      <td>2011</td>\n",
              "      <td>한국소니픽쳐스릴리징브에나비스타영화㈜</td>\n",
              "      <td>14</td>\n",
              "    </tr>\n",
              "    <tr>\n",
              "      <th>31</th>\n",
              "      <td>2011</td>\n",
              "      <td>워너브러더스 코리아(주)</td>\n",
              "      <td>13</td>\n",
              "    </tr>\n",
              "  </tbody>\n",
              "</table>\n",
              "</div>"
            ],
            "text/plain": [
              "    개봉연도                  배급사  배급영화수\n",
              "24  2011        롯데쇼핑㈜롯데엔터테인먼트     30\n",
              "10  2011            (주)씨제이이엔엠     29\n",
              "0   2011  (주)넥스트엔터테인먼트월드(NEW)     18\n",
              "42  2011  한국소니픽쳐스릴리징브에나비스타영화㈜     14\n",
              "31  2011        워너브러더스 코리아(주)     13"
            ]
          },
          "metadata": {},
          "execution_count": 20
        }
      ]
    },
    {
      "cell_type": "code",
      "metadata": {
        "colab": {
          "base_uri": "https://localhost:8080/",
          "height": 351
        },
        "id": "cc1R0P6j-bj9",
        "outputId": "d725f6cf-0660-49e6-9b86-bb98aa44c760"
      },
      "source": [
        "# 연도 별 개봉된 총 영화 수의 추이를 보면 2017년까지 지속적으로 증가하다 2018년부터 감소세를 보인다.\n",
        "movie_counts_year = new_movies.groupby('개봉연도').size().reset_index(name='총영화수')\n",
        "movie_counts_year"
      ],
      "execution_count": 21,
      "outputs": [
        {
          "output_type": "execute_result",
          "data": {
            "text/html": [
              "<div>\n",
              "<style scoped>\n",
              "    .dataframe tbody tr th:only-of-type {\n",
              "        vertical-align: middle;\n",
              "    }\n",
              "\n",
              "    .dataframe tbody tr th {\n",
              "        vertical-align: top;\n",
              "    }\n",
              "\n",
              "    .dataframe thead th {\n",
              "        text-align: right;\n",
              "    }\n",
              "</style>\n",
              "<table border=\"1\" class=\"dataframe\">\n",
              "  <thead>\n",
              "    <tr style=\"text-align: right;\">\n",
              "      <th></th>\n",
              "      <th>개봉연도</th>\n",
              "      <th>총영화수</th>\n",
              "    </tr>\n",
              "  </thead>\n",
              "  <tbody>\n",
              "    <tr>\n",
              "      <th>0</th>\n",
              "      <td>2011</td>\n",
              "      <td>230</td>\n",
              "    </tr>\n",
              "    <tr>\n",
              "      <th>1</th>\n",
              "      <td>2012</td>\n",
              "      <td>254</td>\n",
              "    </tr>\n",
              "    <tr>\n",
              "      <th>2</th>\n",
              "      <td>2013</td>\n",
              "      <td>308</td>\n",
              "    </tr>\n",
              "    <tr>\n",
              "      <th>3</th>\n",
              "      <td>2014</td>\n",
              "      <td>366</td>\n",
              "    </tr>\n",
              "    <tr>\n",
              "      <th>4</th>\n",
              "      <td>2015</td>\n",
              "      <td>394</td>\n",
              "    </tr>\n",
              "    <tr>\n",
              "      <th>5</th>\n",
              "      <td>2016</td>\n",
              "      <td>419</td>\n",
              "    </tr>\n",
              "    <tr>\n",
              "      <th>6</th>\n",
              "      <td>2017</td>\n",
              "      <td>468</td>\n",
              "    </tr>\n",
              "    <tr>\n",
              "      <th>7</th>\n",
              "      <td>2018</td>\n",
              "      <td>439</td>\n",
              "    </tr>\n",
              "    <tr>\n",
              "      <th>8</th>\n",
              "      <td>2019</td>\n",
              "      <td>447</td>\n",
              "    </tr>\n",
              "    <tr>\n",
              "      <th>9</th>\n",
              "      <td>2020</td>\n",
              "      <td>388</td>\n",
              "    </tr>\n",
              "  </tbody>\n",
              "</table>\n",
              "</div>"
            ],
            "text/plain": [
              "   개봉연도  총영화수\n",
              "0  2011   230\n",
              "1  2012   254\n",
              "2  2013   308\n",
              "3  2014   366\n",
              "4  2015   394\n",
              "5  2016   419\n",
              "6  2017   468\n",
              "7  2018   439\n",
              "8  2019   447\n",
              "9  2020   388"
            ]
          },
          "metadata": {},
          "execution_count": 21
        }
      ]
    },
    {
      "cell_type": "code",
      "metadata": {
        "colab": {
          "base_uri": "https://localhost:8080/",
          "height": 542
        },
        "id": "6Ab19AvH6Fcb",
        "outputId": "7ff3bdbf-552b-446a-ed9f-82480127dfa9"
      },
      "source": [
        "#연도별 추이를 시각화하여 보여줌 \n",
        "fig = px.bar(movie_counts_year, \n",
        "              x=\"개봉연도\", # x축\n",
        "              y=\"총영화수\",  # y축\n",
        "              text = '총영화수',\n",
        "              title='2011~2020 개봉한 영화 수 추이', # Title \n",
        "              )\n",
        "fig.update_traces(texttemplate='%{text}편', textposition='outside')\n",
        "fig.update_layout(uniformtext_minsize=8, uniformtext_mode='hide')\n",
        "# fig.update_traces(texttemplate=, textposition='outside')\n",
        "\n",
        "fig.show()"
      ],
      "execution_count": 22,
      "outputs": [
        {
          "output_type": "display_data",
          "data": {
            "text/html": [
              "<html>\n",
              "<head><meta charset=\"utf-8\" /></head>\n",
              "<body>\n",
              "    <div>            <script src=\"https://cdnjs.cloudflare.com/ajax/libs/mathjax/2.7.5/MathJax.js?config=TeX-AMS-MML_SVG\"></script><script type=\"text/javascript\">if (window.MathJax) {MathJax.Hub.Config({SVG: {font: \"STIX-Web\"}});}</script>                <script type=\"text/javascript\">window.PlotlyConfig = {MathJaxConfig: 'local'};</script>\n",
              "        <script src=\"https://cdn.plot.ly/plotly-2.3.1.min.js\"></script>                <div id=\"a1082cb4-efd2-4d57-99be-58afefbc04d0\" class=\"plotly-graph-div\" style=\"height:525px; width:100%;\"></div>            <script type=\"text/javascript\">                                    window.PLOTLYENV=window.PLOTLYENV || {};                                    if (document.getElementById(\"a1082cb4-efd2-4d57-99be-58afefbc04d0\")) {                    Plotly.newPlot(                        \"a1082cb4-efd2-4d57-99be-58afefbc04d0\",                        [{\"alignmentgroup\":\"True\",\"hovertemplate\":\"\\uac1c\\ubd09\\uc5f0\\ub3c4=%{x}<br>\\ucd1d\\uc601\\ud654\\uc218=%{text}<extra></extra>\",\"legendgroup\":\"\",\"marker\":{\"color\":\"#636efa\",\"pattern\":{\"shape\":\"\"}},\"name\":\"\",\"offsetgroup\":\"\",\"orientation\":\"v\",\"showlegend\":false,\"text\":[230.0,254.0,308.0,366.0,394.0,419.0,468.0,439.0,447.0,388.0],\"textposition\":\"outside\",\"texttemplate\":\"%{text}\\ud3b8\",\"type\":\"bar\",\"x\":[2011,2012,2013,2014,2015,2016,2017,2018,2019,2020],\"xaxis\":\"x\",\"y\":[230,254,308,366,394,419,468,439,447,388],\"yaxis\":\"y\"}],                        {\"barmode\":\"relative\",\"legend\":{\"tracegroupgap\":0},\"template\":{\"data\":{\"bar\":[{\"error_x\":{\"color\":\"#2a3f5f\"},\"error_y\":{\"color\":\"#2a3f5f\"},\"marker\":{\"line\":{\"color\":\"#E5ECF6\",\"width\":0.5},\"pattern\":{\"fillmode\":\"overlay\",\"size\":10,\"solidity\":0.2}},\"type\":\"bar\"}],\"barpolar\":[{\"marker\":{\"line\":{\"color\":\"#E5ECF6\",\"width\":0.5},\"pattern\":{\"fillmode\":\"overlay\",\"size\":10,\"solidity\":0.2}},\"type\":\"barpolar\"}],\"carpet\":[{\"aaxis\":{\"endlinecolor\":\"#2a3f5f\",\"gridcolor\":\"white\",\"linecolor\":\"white\",\"minorgridcolor\":\"white\",\"startlinecolor\":\"#2a3f5f\"},\"baxis\":{\"endlinecolor\":\"#2a3f5f\",\"gridcolor\":\"white\",\"linecolor\":\"white\",\"minorgridcolor\":\"white\",\"startlinecolor\":\"#2a3f5f\"},\"type\":\"carpet\"}],\"choropleth\":[{\"colorbar\":{\"outlinewidth\":0,\"ticks\":\"\"},\"type\":\"choropleth\"}],\"contour\":[{\"colorbar\":{\"outlinewidth\":0,\"ticks\":\"\"},\"colorscale\":[[0.0,\"#0d0887\"],[0.1111111111111111,\"#46039f\"],[0.2222222222222222,\"#7201a8\"],[0.3333333333333333,\"#9c179e\"],[0.4444444444444444,\"#bd3786\"],[0.5555555555555556,\"#d8576b\"],[0.6666666666666666,\"#ed7953\"],[0.7777777777777778,\"#fb9f3a\"],[0.8888888888888888,\"#fdca26\"],[1.0,\"#f0f921\"]],\"type\":\"contour\"}],\"contourcarpet\":[{\"colorbar\":{\"outlinewidth\":0,\"ticks\":\"\"},\"type\":\"contourcarpet\"}],\"heatmap\":[{\"colorbar\":{\"outlinewidth\":0,\"ticks\":\"\"},\"colorscale\":[[0.0,\"#0d0887\"],[0.1111111111111111,\"#46039f\"],[0.2222222222222222,\"#7201a8\"],[0.3333333333333333,\"#9c179e\"],[0.4444444444444444,\"#bd3786\"],[0.5555555555555556,\"#d8576b\"],[0.6666666666666666,\"#ed7953\"],[0.7777777777777778,\"#fb9f3a\"],[0.8888888888888888,\"#fdca26\"],[1.0,\"#f0f921\"]],\"type\":\"heatmap\"}],\"heatmapgl\":[{\"colorbar\":{\"outlinewidth\":0,\"ticks\":\"\"},\"colorscale\":[[0.0,\"#0d0887\"],[0.1111111111111111,\"#46039f\"],[0.2222222222222222,\"#7201a8\"],[0.3333333333333333,\"#9c179e\"],[0.4444444444444444,\"#bd3786\"],[0.5555555555555556,\"#d8576b\"],[0.6666666666666666,\"#ed7953\"],[0.7777777777777778,\"#fb9f3a\"],[0.8888888888888888,\"#fdca26\"],[1.0,\"#f0f921\"]],\"type\":\"heatmapgl\"}],\"histogram\":[{\"marker\":{\"pattern\":{\"fillmode\":\"overlay\",\"size\":10,\"solidity\":0.2}},\"type\":\"histogram\"}],\"histogram2d\":[{\"colorbar\":{\"outlinewidth\":0,\"ticks\":\"\"},\"colorscale\":[[0.0,\"#0d0887\"],[0.1111111111111111,\"#46039f\"],[0.2222222222222222,\"#7201a8\"],[0.3333333333333333,\"#9c179e\"],[0.4444444444444444,\"#bd3786\"],[0.5555555555555556,\"#d8576b\"],[0.6666666666666666,\"#ed7953\"],[0.7777777777777778,\"#fb9f3a\"],[0.8888888888888888,\"#fdca26\"],[1.0,\"#f0f921\"]],\"type\":\"histogram2d\"}],\"histogram2dcontour\":[{\"colorbar\":{\"outlinewidth\":0,\"ticks\":\"\"},\"colorscale\":[[0.0,\"#0d0887\"],[0.1111111111111111,\"#46039f\"],[0.2222222222222222,\"#7201a8\"],[0.3333333333333333,\"#9c179e\"],[0.4444444444444444,\"#bd3786\"],[0.5555555555555556,\"#d8576b\"],[0.6666666666666666,\"#ed7953\"],[0.7777777777777778,\"#fb9f3a\"],[0.8888888888888888,\"#fdca26\"],[1.0,\"#f0f921\"]],\"type\":\"histogram2dcontour\"}],\"mesh3d\":[{\"colorbar\":{\"outlinewidth\":0,\"ticks\":\"\"},\"type\":\"mesh3d\"}],\"parcoords\":[{\"line\":{\"colorbar\":{\"outlinewidth\":0,\"ticks\":\"\"}},\"type\":\"parcoords\"}],\"pie\":[{\"automargin\":true,\"type\":\"pie\"}],\"scatter\":[{\"marker\":{\"colorbar\":{\"outlinewidth\":0,\"ticks\":\"\"}},\"type\":\"scatter\"}],\"scatter3d\":[{\"line\":{\"colorbar\":{\"outlinewidth\":0,\"ticks\":\"\"}},\"marker\":{\"colorbar\":{\"outlinewidth\":0,\"ticks\":\"\"}},\"type\":\"scatter3d\"}],\"scattercarpet\":[{\"marker\":{\"colorbar\":{\"outlinewidth\":0,\"ticks\":\"\"}},\"type\":\"scattercarpet\"}],\"scattergeo\":[{\"marker\":{\"colorbar\":{\"outlinewidth\":0,\"ticks\":\"\"}},\"type\":\"scattergeo\"}],\"scattergl\":[{\"marker\":{\"colorbar\":{\"outlinewidth\":0,\"ticks\":\"\"}},\"type\":\"scattergl\"}],\"scattermapbox\":[{\"marker\":{\"colorbar\":{\"outlinewidth\":0,\"ticks\":\"\"}},\"type\":\"scattermapbox\"}],\"scatterpolar\":[{\"marker\":{\"colorbar\":{\"outlinewidth\":0,\"ticks\":\"\"}},\"type\":\"scatterpolar\"}],\"scatterpolargl\":[{\"marker\":{\"colorbar\":{\"outlinewidth\":0,\"ticks\":\"\"}},\"type\":\"scatterpolargl\"}],\"scatterternary\":[{\"marker\":{\"colorbar\":{\"outlinewidth\":0,\"ticks\":\"\"}},\"type\":\"scatterternary\"}],\"surface\":[{\"colorbar\":{\"outlinewidth\":0,\"ticks\":\"\"},\"colorscale\":[[0.0,\"#0d0887\"],[0.1111111111111111,\"#46039f\"],[0.2222222222222222,\"#7201a8\"],[0.3333333333333333,\"#9c179e\"],[0.4444444444444444,\"#bd3786\"],[0.5555555555555556,\"#d8576b\"],[0.6666666666666666,\"#ed7953\"],[0.7777777777777778,\"#fb9f3a\"],[0.8888888888888888,\"#fdca26\"],[1.0,\"#f0f921\"]],\"type\":\"surface\"}],\"table\":[{\"cells\":{\"fill\":{\"color\":\"#EBF0F8\"},\"line\":{\"color\":\"white\"}},\"header\":{\"fill\":{\"color\":\"#C8D4E3\"},\"line\":{\"color\":\"white\"}},\"type\":\"table\"}]},\"layout\":{\"annotationdefaults\":{\"arrowcolor\":\"#2a3f5f\",\"arrowhead\":0,\"arrowwidth\":1},\"autotypenumbers\":\"strict\",\"coloraxis\":{\"colorbar\":{\"outlinewidth\":0,\"ticks\":\"\"}},\"colorscale\":{\"diverging\":[[0,\"#8e0152\"],[0.1,\"#c51b7d\"],[0.2,\"#de77ae\"],[0.3,\"#f1b6da\"],[0.4,\"#fde0ef\"],[0.5,\"#f7f7f7\"],[0.6,\"#e6f5d0\"],[0.7,\"#b8e186\"],[0.8,\"#7fbc41\"],[0.9,\"#4d9221\"],[1,\"#276419\"]],\"sequential\":[[0.0,\"#0d0887\"],[0.1111111111111111,\"#46039f\"],[0.2222222222222222,\"#7201a8\"],[0.3333333333333333,\"#9c179e\"],[0.4444444444444444,\"#bd3786\"],[0.5555555555555556,\"#d8576b\"],[0.6666666666666666,\"#ed7953\"],[0.7777777777777778,\"#fb9f3a\"],[0.8888888888888888,\"#fdca26\"],[1.0,\"#f0f921\"]],\"sequentialminus\":[[0.0,\"#0d0887\"],[0.1111111111111111,\"#46039f\"],[0.2222222222222222,\"#7201a8\"],[0.3333333333333333,\"#9c179e\"],[0.4444444444444444,\"#bd3786\"],[0.5555555555555556,\"#d8576b\"],[0.6666666666666666,\"#ed7953\"],[0.7777777777777778,\"#fb9f3a\"],[0.8888888888888888,\"#fdca26\"],[1.0,\"#f0f921\"]]},\"colorway\":[\"#636efa\",\"#EF553B\",\"#00cc96\",\"#ab63fa\",\"#FFA15A\",\"#19d3f3\",\"#FF6692\",\"#B6E880\",\"#FF97FF\",\"#FECB52\"],\"font\":{\"color\":\"#2a3f5f\"},\"geo\":{\"bgcolor\":\"white\",\"lakecolor\":\"white\",\"landcolor\":\"#E5ECF6\",\"showlakes\":true,\"showland\":true,\"subunitcolor\":\"white\"},\"hoverlabel\":{\"align\":\"left\"},\"hovermode\":\"closest\",\"mapbox\":{\"style\":\"light\"},\"paper_bgcolor\":\"white\",\"plot_bgcolor\":\"#E5ECF6\",\"polar\":{\"angularaxis\":{\"gridcolor\":\"white\",\"linecolor\":\"white\",\"ticks\":\"\"},\"bgcolor\":\"#E5ECF6\",\"radialaxis\":{\"gridcolor\":\"white\",\"linecolor\":\"white\",\"ticks\":\"\"}},\"scene\":{\"xaxis\":{\"backgroundcolor\":\"#E5ECF6\",\"gridcolor\":\"white\",\"gridwidth\":2,\"linecolor\":\"white\",\"showbackground\":true,\"ticks\":\"\",\"zerolinecolor\":\"white\"},\"yaxis\":{\"backgroundcolor\":\"#E5ECF6\",\"gridcolor\":\"white\",\"gridwidth\":2,\"linecolor\":\"white\",\"showbackground\":true,\"ticks\":\"\",\"zerolinecolor\":\"white\"},\"zaxis\":{\"backgroundcolor\":\"#E5ECF6\",\"gridcolor\":\"white\",\"gridwidth\":2,\"linecolor\":\"white\",\"showbackground\":true,\"ticks\":\"\",\"zerolinecolor\":\"white\"}},\"shapedefaults\":{\"line\":{\"color\":\"#2a3f5f\"}},\"ternary\":{\"aaxis\":{\"gridcolor\":\"white\",\"linecolor\":\"white\",\"ticks\":\"\"},\"baxis\":{\"gridcolor\":\"white\",\"linecolor\":\"white\",\"ticks\":\"\"},\"bgcolor\":\"#E5ECF6\",\"caxis\":{\"gridcolor\":\"white\",\"linecolor\":\"white\",\"ticks\":\"\"}},\"title\":{\"x\":0.05},\"xaxis\":{\"automargin\":true,\"gridcolor\":\"white\",\"linecolor\":\"white\",\"ticks\":\"\",\"title\":{\"standoff\":15},\"zerolinecolor\":\"white\",\"zerolinewidth\":2},\"yaxis\":{\"automargin\":true,\"gridcolor\":\"white\",\"linecolor\":\"white\",\"ticks\":\"\",\"title\":{\"standoff\":15},\"zerolinecolor\":\"white\",\"zerolinewidth\":2}}},\"title\":{\"text\":\"2011~2020 \\uac1c\\ubd09\\ud55c \\uc601\\ud654 \\uc218 \\ucd94\\uc774\"},\"uniformtext\":{\"minsize\":8,\"mode\":\"hide\"},\"xaxis\":{\"anchor\":\"y\",\"domain\":[0.0,1.0],\"title\":{\"text\":\"\\uac1c\\ubd09\\uc5f0\\ub3c4\"}},\"yaxis\":{\"anchor\":\"x\",\"domain\":[0.0,1.0],\"title\":{\"text\":\"\\ucd1d\\uc601\\ud654\\uc218\"}}},                        {\"responsive\": true}                    ).then(function(){\n",
              "                            \n",
              "var gd = document.getElementById('a1082cb4-efd2-4d57-99be-58afefbc04d0');\n",
              "var x = new MutationObserver(function (mutations, observer) {{\n",
              "        var display = window.getComputedStyle(gd).display;\n",
              "        if (!display || display === 'none') {{\n",
              "            console.log([gd, 'removed!']);\n",
              "            Plotly.purge(gd);\n",
              "            observer.disconnect();\n",
              "        }}\n",
              "}});\n",
              "\n",
              "// Listen for the removal of the full notebook cells\n",
              "var notebookContainer = gd.closest('#notebook-container');\n",
              "if (notebookContainer) {{\n",
              "    x.observe(notebookContainer, {childList: true});\n",
              "}}\n",
              "\n",
              "// Listen for the clearing of the current output cell\n",
              "var outputEl = gd.closest('.output');\n",
              "if (outputEl) {{\n",
              "    x.observe(outputEl, {childList: true});\n",
              "}}\n",
              "\n",
              "                        })                };                            </script>        </div>\n",
              "</body>\n",
              "</html>"
            ]
          },
          "metadata": {}
        }
      ]
    },
    {
      "cell_type": "code",
      "metadata": {
        "colab": {
          "base_uri": "https://localhost:8080/",
          "height": 330
        },
        "id": "urgIsGYSBA4E",
        "outputId": "819e7a2b-3784-4946-d366-2c7249af8172"
      },
      "source": [
        "# 왜 안되는지 너무 궁금한 부분이다.. 왜 머지 안돼???\n",
        "# 머지가 적용되지 않은 이유는 'movie_counts'와 'movie_counts_year'가 string화 되었기 때문이다. merge 함수에서는 열을 쓸 때 ''를 제거해야한다. \n",
        "pd.merge('movie_counts', 'movie_counts_year', how = 'left', on='개봉연도')"
      ],
      "execution_count": 24,
      "outputs": [
        {
          "output_type": "error",
          "ename": "TypeError",
          "evalue": "ignored",
          "traceback": [
            "\u001b[0;31m---------------------------------------------------------------------------\u001b[0m",
            "\u001b[0;31mTypeError\u001b[0m                                 Traceback (most recent call last)",
            "\u001b[0;32m<ipython-input-24-77dd6c5d6acb>\u001b[0m in \u001b[0;36m<module>\u001b[0;34m()\u001b[0m\n\u001b[1;32m      1\u001b[0m \u001b[0;31m# 왜 안되는지 너무 궁금한 부분이다.. 왜 머지 안돼???\u001b[0m\u001b[0;34m\u001b[0m\u001b[0;34m\u001b[0m\u001b[0;34m\u001b[0m\u001b[0m\n\u001b[1;32m      2\u001b[0m \u001b[0;31m# 머지가 적용되지 않은 이유는 'movie_counts'와 'movie_counts_year'가 string화 되었기 때문이다. merge 함수에서는 열을 쓸 때 ''를 제거해야한다.\u001b[0m\u001b[0;34m\u001b[0m\u001b[0;34m\u001b[0m\u001b[0;34m\u001b[0m\u001b[0m\n\u001b[0;32m----> 3\u001b[0;31m \u001b[0mpd\u001b[0m\u001b[0;34m.\u001b[0m\u001b[0mmerge\u001b[0m\u001b[0;34m(\u001b[0m\u001b[0;34m'movie_counts'\u001b[0m\u001b[0;34m,\u001b[0m \u001b[0;34m'movie_counts_year'\u001b[0m\u001b[0;34m,\u001b[0m \u001b[0mhow\u001b[0m \u001b[0;34m=\u001b[0m \u001b[0;34m'left'\u001b[0m\u001b[0;34m,\u001b[0m \u001b[0mon\u001b[0m\u001b[0;34m=\u001b[0m\u001b[0;34m'개봉연도'\u001b[0m\u001b[0;34m)\u001b[0m\u001b[0;34m\u001b[0m\u001b[0;34m\u001b[0m\u001b[0m\n\u001b[0m",
            "\u001b[0;32m/usr/local/lib/python3.7/dist-packages/pandas/core/reshape/merge.py\u001b[0m in \u001b[0;36mmerge\u001b[0;34m(left, right, how, on, left_on, right_on, left_index, right_index, sort, suffixes, copy, indicator, validate)\u001b[0m\n\u001b[1;32m     85\u001b[0m         \u001b[0mcopy\u001b[0m\u001b[0;34m=\u001b[0m\u001b[0mcopy\u001b[0m\u001b[0;34m,\u001b[0m\u001b[0;34m\u001b[0m\u001b[0;34m\u001b[0m\u001b[0m\n\u001b[1;32m     86\u001b[0m         \u001b[0mindicator\u001b[0m\u001b[0;34m=\u001b[0m\u001b[0mindicator\u001b[0m\u001b[0;34m,\u001b[0m\u001b[0;34m\u001b[0m\u001b[0;34m\u001b[0m\u001b[0m\n\u001b[0;32m---> 87\u001b[0;31m         \u001b[0mvalidate\u001b[0m\u001b[0;34m=\u001b[0m\u001b[0mvalidate\u001b[0m\u001b[0;34m,\u001b[0m\u001b[0;34m\u001b[0m\u001b[0;34m\u001b[0m\u001b[0m\n\u001b[0m\u001b[1;32m     88\u001b[0m     )\n\u001b[1;32m     89\u001b[0m     \u001b[0;32mreturn\u001b[0m \u001b[0mop\u001b[0m\u001b[0;34m.\u001b[0m\u001b[0mget_result\u001b[0m\u001b[0;34m(\u001b[0m\u001b[0;34m)\u001b[0m\u001b[0;34m\u001b[0m\u001b[0;34m\u001b[0m\u001b[0m\n",
            "\u001b[0;32m/usr/local/lib/python3.7/dist-packages/pandas/core/reshape/merge.py\u001b[0m in \u001b[0;36m__init__\u001b[0;34m(self, left, right, how, on, left_on, right_on, axis, left_index, right_index, sort, suffixes, copy, indicator, validate)\u001b[0m\n\u001b[1;32m    591\u001b[0m         \u001b[0mvalidate\u001b[0m\u001b[0;34m=\u001b[0m\u001b[0;32mNone\u001b[0m\u001b[0;34m,\u001b[0m\u001b[0;34m\u001b[0m\u001b[0;34m\u001b[0m\u001b[0m\n\u001b[1;32m    592\u001b[0m     ):\n\u001b[0;32m--> 593\u001b[0;31m         \u001b[0m_left\u001b[0m \u001b[0;34m=\u001b[0m \u001b[0m_validate_operand\u001b[0m\u001b[0;34m(\u001b[0m\u001b[0mleft\u001b[0m\u001b[0;34m)\u001b[0m\u001b[0;34m\u001b[0m\u001b[0;34m\u001b[0m\u001b[0m\n\u001b[0m\u001b[1;32m    594\u001b[0m         \u001b[0m_right\u001b[0m \u001b[0;34m=\u001b[0m \u001b[0m_validate_operand\u001b[0m\u001b[0;34m(\u001b[0m\u001b[0mright\u001b[0m\u001b[0;34m)\u001b[0m\u001b[0;34m\u001b[0m\u001b[0;34m\u001b[0m\u001b[0m\n\u001b[1;32m    595\u001b[0m         \u001b[0mself\u001b[0m\u001b[0;34m.\u001b[0m\u001b[0mleft\u001b[0m \u001b[0;34m=\u001b[0m \u001b[0mself\u001b[0m\u001b[0;34m.\u001b[0m\u001b[0morig_left\u001b[0m \u001b[0;34m=\u001b[0m \u001b[0m_left\u001b[0m\u001b[0;34m\u001b[0m\u001b[0;34m\u001b[0m\u001b[0m\n",
            "\u001b[0;32m/usr/local/lib/python3.7/dist-packages/pandas/core/reshape/merge.py\u001b[0m in \u001b[0;36m_validate_operand\u001b[0;34m(obj)\u001b[0m\n\u001b[1;32m   2065\u001b[0m     \u001b[0;32melse\u001b[0m\u001b[0;34m:\u001b[0m\u001b[0;34m\u001b[0m\u001b[0;34m\u001b[0m\u001b[0m\n\u001b[1;32m   2066\u001b[0m         raise TypeError(\n\u001b[0;32m-> 2067\u001b[0;31m             \u001b[0;34mf\"Can only merge Series or DataFrame objects, a {type(obj)} was passed\"\u001b[0m\u001b[0;34m\u001b[0m\u001b[0;34m\u001b[0m\u001b[0m\n\u001b[0m\u001b[1;32m   2068\u001b[0m         )\n\u001b[1;32m   2069\u001b[0m \u001b[0;34m\u001b[0m\u001b[0m\n",
            "\u001b[0;31mTypeError\u001b[0m: Can only merge Series or DataFrame objects, a <class 'str'> was passed"
          ]
        }
      ]
    },
    {
      "cell_type": "code",
      "metadata": {
        "id": "HAfCitpZKOVI"
      },
      "source": [
        "# 연도 별 영화사 비중을 파악하기 위해 사용자 정의함수 설정 \n",
        "def ratio (a, b):\n",
        "  ratio = a/b * 100\n",
        "  return ratio"
      ],
      "execution_count": 25,
      "outputs": []
    },
    {
      "cell_type": "code",
      "metadata": {
        "colab": {
          "base_uri": "https://localhost:8080/",
          "height": 408
        },
        "id": "l6j3cLMsGACa",
        "outputId": "c8679bd7-e022-4922-b51c-87e6269f552e"
      },
      "source": [
        "#연도 별 총 영화수 산정 \n",
        "movie_counts = new_movies.groupby(['개봉연도','배급사']).size().reset_index(name='배급영화수')\n",
        "movie_counts['연도별총영화수'] = movie_counts.groupby('개봉연도')['배급영화수'].transform('sum')\n",
        "movie_counts"
      ],
      "execution_count": 26,
      "outputs": [
        {
          "output_type": "execute_result",
          "data": {
            "text/html": [
              "<div>\n",
              "<style scoped>\n",
              "    .dataframe tbody tr th:only-of-type {\n",
              "        vertical-align: middle;\n",
              "    }\n",
              "\n",
              "    .dataframe tbody tr th {\n",
              "        vertical-align: top;\n",
              "    }\n",
              "\n",
              "    .dataframe thead th {\n",
              "        text-align: right;\n",
              "    }\n",
              "</style>\n",
              "<table border=\"1\" class=\"dataframe\">\n",
              "  <thead>\n",
              "    <tr style=\"text-align: right;\">\n",
              "      <th></th>\n",
              "      <th>개봉연도</th>\n",
              "      <th>배급사</th>\n",
              "      <th>배급영화수</th>\n",
              "      <th>연도별총영화수</th>\n",
              "    </tr>\n",
              "  </thead>\n",
              "  <tbody>\n",
              "    <tr>\n",
              "      <th>0</th>\n",
              "      <td>2011</td>\n",
              "      <td>(주)넥스트엔터테인먼트월드(NEW)</td>\n",
              "      <td>18</td>\n",
              "      <td>230</td>\n",
              "    </tr>\n",
              "    <tr>\n",
              "      <th>1</th>\n",
              "      <td>2011</td>\n",
              "      <td>(주)디스테이션</td>\n",
              "      <td>1</td>\n",
              "      <td>230</td>\n",
              "    </tr>\n",
              "    <tr>\n",
              "      <th>2</th>\n",
              "      <td>2011</td>\n",
              "      <td>(주)미디어데이</td>\n",
              "      <td>3</td>\n",
              "      <td>230</td>\n",
              "    </tr>\n",
              "    <tr>\n",
              "      <th>3</th>\n",
              "      <td>2011</td>\n",
              "      <td>(주)미로비젼</td>\n",
              "      <td>2</td>\n",
              "      <td>230</td>\n",
              "    </tr>\n",
              "    <tr>\n",
              "      <th>4</th>\n",
              "      <td>2011</td>\n",
              "      <td>(주)박수엔터테인먼트</td>\n",
              "      <td>2</td>\n",
              "      <td>230</td>\n",
              "    </tr>\n",
              "    <tr>\n",
              "      <th>...</th>\n",
              "      <td>...</td>\n",
              "      <td>...</td>\n",
              "      <td>...</td>\n",
              "      <td>...</td>\n",
              "    </tr>\n",
              "    <tr>\n",
              "      <th>750</th>\n",
              "      <td>2020</td>\n",
              "      <td>찬란</td>\n",
              "      <td>12</td>\n",
              "      <td>388</td>\n",
              "    </tr>\n",
              "    <tr>\n",
              "      <th>751</th>\n",
              "      <td>2020</td>\n",
              "      <td>커넥트픽쳐스(주)</td>\n",
              "      <td>1</td>\n",
              "      <td>388</td>\n",
              "    </tr>\n",
              "    <tr>\n",
              "      <th>752</th>\n",
              "      <td>2020</td>\n",
              "      <td>판씨네마(주)</td>\n",
              "      <td>7</td>\n",
              "      <td>388</td>\n",
              "    </tr>\n",
              "    <tr>\n",
              "      <th>753</th>\n",
              "      <td>2020</td>\n",
              "      <td>하준사</td>\n",
              "      <td>1</td>\n",
              "      <td>388</td>\n",
              "    </tr>\n",
              "    <tr>\n",
              "      <th>754</th>\n",
              "      <td>2020</td>\n",
              "      <td>호우주의보</td>\n",
              "      <td>1</td>\n",
              "      <td>388</td>\n",
              "    </tr>\n",
              "  </tbody>\n",
              "</table>\n",
              "<p>755 rows × 4 columns</p>\n",
              "</div>"
            ],
            "text/plain": [
              "     개봉연도                  배급사  배급영화수  연도별총영화수\n",
              "0    2011  (주)넥스트엔터테인먼트월드(NEW)     18      230\n",
              "1    2011             (주)디스테이션      1      230\n",
              "2    2011             (주)미디어데이      3      230\n",
              "3    2011              (주)미로비젼      2      230\n",
              "4    2011          (주)박수엔터테인먼트      2      230\n",
              "..    ...                  ...    ...      ...\n",
              "750  2020                   찬란     12      388\n",
              "751  2020            커넥트픽쳐스(주)      1      388\n",
              "752  2020              판씨네마(주)      7      388\n",
              "753  2020                  하준사      1      388\n",
              "754  2020                호우주의보      1      388\n",
              "\n",
              "[755 rows x 4 columns]"
            ]
          },
          "metadata": {},
          "execution_count": 26
        }
      ]
    },
    {
      "cell_type": "code",
      "metadata": {
        "colab": {
          "base_uri": "https://localhost:8080/",
          "height": 408
        },
        "id": "KURvRSnQOb3-",
        "outputId": "883fd163-c759-4430-a7d8-1ecbd050dab4"
      },
      "source": [
        "movie_counts['비중'] = movie_counts['배급영화수']/movie_counts['연도별총영화수']*100\n",
        "movie_counts"
      ],
      "execution_count": 27,
      "outputs": [
        {
          "output_type": "execute_result",
          "data": {
            "text/html": [
              "<div>\n",
              "<style scoped>\n",
              "    .dataframe tbody tr th:only-of-type {\n",
              "        vertical-align: middle;\n",
              "    }\n",
              "\n",
              "    .dataframe tbody tr th {\n",
              "        vertical-align: top;\n",
              "    }\n",
              "\n",
              "    .dataframe thead th {\n",
              "        text-align: right;\n",
              "    }\n",
              "</style>\n",
              "<table border=\"1\" class=\"dataframe\">\n",
              "  <thead>\n",
              "    <tr style=\"text-align: right;\">\n",
              "      <th></th>\n",
              "      <th>개봉연도</th>\n",
              "      <th>배급사</th>\n",
              "      <th>배급영화수</th>\n",
              "      <th>연도별총영화수</th>\n",
              "      <th>비중</th>\n",
              "    </tr>\n",
              "  </thead>\n",
              "  <tbody>\n",
              "    <tr>\n",
              "      <th>0</th>\n",
              "      <td>2011</td>\n",
              "      <td>(주)넥스트엔터테인먼트월드(NEW)</td>\n",
              "      <td>18</td>\n",
              "      <td>230</td>\n",
              "      <td>7.826087</td>\n",
              "    </tr>\n",
              "    <tr>\n",
              "      <th>1</th>\n",
              "      <td>2011</td>\n",
              "      <td>(주)디스테이션</td>\n",
              "      <td>1</td>\n",
              "      <td>230</td>\n",
              "      <td>0.434783</td>\n",
              "    </tr>\n",
              "    <tr>\n",
              "      <th>2</th>\n",
              "      <td>2011</td>\n",
              "      <td>(주)미디어데이</td>\n",
              "      <td>3</td>\n",
              "      <td>230</td>\n",
              "      <td>1.304348</td>\n",
              "    </tr>\n",
              "    <tr>\n",
              "      <th>3</th>\n",
              "      <td>2011</td>\n",
              "      <td>(주)미로비젼</td>\n",
              "      <td>2</td>\n",
              "      <td>230</td>\n",
              "      <td>0.869565</td>\n",
              "    </tr>\n",
              "    <tr>\n",
              "      <th>4</th>\n",
              "      <td>2011</td>\n",
              "      <td>(주)박수엔터테인먼트</td>\n",
              "      <td>2</td>\n",
              "      <td>230</td>\n",
              "      <td>0.869565</td>\n",
              "    </tr>\n",
              "    <tr>\n",
              "      <th>...</th>\n",
              "      <td>...</td>\n",
              "      <td>...</td>\n",
              "      <td>...</td>\n",
              "      <td>...</td>\n",
              "      <td>...</td>\n",
              "    </tr>\n",
              "    <tr>\n",
              "      <th>750</th>\n",
              "      <td>2020</td>\n",
              "      <td>찬란</td>\n",
              "      <td>12</td>\n",
              "      <td>388</td>\n",
              "      <td>3.092784</td>\n",
              "    </tr>\n",
              "    <tr>\n",
              "      <th>751</th>\n",
              "      <td>2020</td>\n",
              "      <td>커넥트픽쳐스(주)</td>\n",
              "      <td>1</td>\n",
              "      <td>388</td>\n",
              "      <td>0.257732</td>\n",
              "    </tr>\n",
              "    <tr>\n",
              "      <th>752</th>\n",
              "      <td>2020</td>\n",
              "      <td>판씨네마(주)</td>\n",
              "      <td>7</td>\n",
              "      <td>388</td>\n",
              "      <td>1.804124</td>\n",
              "    </tr>\n",
              "    <tr>\n",
              "      <th>753</th>\n",
              "      <td>2020</td>\n",
              "      <td>하준사</td>\n",
              "      <td>1</td>\n",
              "      <td>388</td>\n",
              "      <td>0.257732</td>\n",
              "    </tr>\n",
              "    <tr>\n",
              "      <th>754</th>\n",
              "      <td>2020</td>\n",
              "      <td>호우주의보</td>\n",
              "      <td>1</td>\n",
              "      <td>388</td>\n",
              "      <td>0.257732</td>\n",
              "    </tr>\n",
              "  </tbody>\n",
              "</table>\n",
              "<p>755 rows × 5 columns</p>\n",
              "</div>"
            ],
            "text/plain": [
              "     개봉연도                  배급사  배급영화수  연도별총영화수        비중\n",
              "0    2011  (주)넥스트엔터테인먼트월드(NEW)     18      230  7.826087\n",
              "1    2011             (주)디스테이션      1      230  0.434783\n",
              "2    2011             (주)미디어데이      3      230  1.304348\n",
              "3    2011              (주)미로비젼      2      230  0.869565\n",
              "4    2011          (주)박수엔터테인먼트      2      230  0.869565\n",
              "..    ...                  ...    ...      ...       ...\n",
              "750  2020                   찬란     12      388  3.092784\n",
              "751  2020            커넥트픽쳐스(주)      1      388  0.257732\n",
              "752  2020              판씨네마(주)      7      388  1.804124\n",
              "753  2020                  하준사      1      388  0.257732\n",
              "754  2020                호우주의보      1      388  0.257732\n",
              "\n",
              "[755 rows x 5 columns]"
            ]
          },
          "metadata": {},
          "execution_count": 27
        }
      ]
    },
    {
      "cell_type": "code",
      "metadata": {
        "colab": {
          "base_uri": "https://localhost:8080/",
          "height": 408
        },
        "id": "MjcIyWxZQLaz",
        "outputId": "1641612e-da42-44f8-b5dc-13b52d27616a"
      },
      "source": [
        "movie_counts.sort_values(by=[\"개봉연도\",\"비중\"], ascending=[True, False])"
      ],
      "execution_count": 28,
      "outputs": [
        {
          "output_type": "execute_result",
          "data": {
            "text/html": [
              "<div>\n",
              "<style scoped>\n",
              "    .dataframe tbody tr th:only-of-type {\n",
              "        vertical-align: middle;\n",
              "    }\n",
              "\n",
              "    .dataframe tbody tr th {\n",
              "        vertical-align: top;\n",
              "    }\n",
              "\n",
              "    .dataframe thead th {\n",
              "        text-align: right;\n",
              "    }\n",
              "</style>\n",
              "<table border=\"1\" class=\"dataframe\">\n",
              "  <thead>\n",
              "    <tr style=\"text-align: right;\">\n",
              "      <th></th>\n",
              "      <th>개봉연도</th>\n",
              "      <th>배급사</th>\n",
              "      <th>배급영화수</th>\n",
              "      <th>연도별총영화수</th>\n",
              "      <th>비중</th>\n",
              "    </tr>\n",
              "  </thead>\n",
              "  <tbody>\n",
              "    <tr>\n",
              "      <th>24</th>\n",
              "      <td>2011</td>\n",
              "      <td>롯데쇼핑㈜롯데엔터테인먼트</td>\n",
              "      <td>30</td>\n",
              "      <td>230</td>\n",
              "      <td>13.043478</td>\n",
              "    </tr>\n",
              "    <tr>\n",
              "      <th>10</th>\n",
              "      <td>2011</td>\n",
              "      <td>(주)씨제이이엔엠</td>\n",
              "      <td>29</td>\n",
              "      <td>230</td>\n",
              "      <td>12.608696</td>\n",
              "    </tr>\n",
              "    <tr>\n",
              "      <th>0</th>\n",
              "      <td>2011</td>\n",
              "      <td>(주)넥스트엔터테인먼트월드(NEW)</td>\n",
              "      <td>18</td>\n",
              "      <td>230</td>\n",
              "      <td>7.826087</td>\n",
              "    </tr>\n",
              "    <tr>\n",
              "      <th>42</th>\n",
              "      <td>2011</td>\n",
              "      <td>한국소니픽쳐스릴리징브에나비스타영화㈜</td>\n",
              "      <td>14</td>\n",
              "      <td>230</td>\n",
              "      <td>6.086957</td>\n",
              "    </tr>\n",
              "    <tr>\n",
              "      <th>31</th>\n",
              "      <td>2011</td>\n",
              "      <td>워너브러더스 코리아(주)</td>\n",
              "      <td>13</td>\n",
              "      <td>230</td>\n",
              "      <td>5.652174</td>\n",
              "    </tr>\n",
              "    <tr>\n",
              "      <th>...</th>\n",
              "      <td>...</td>\n",
              "      <td>...</td>\n",
              "      <td>...</td>\n",
              "      <td>...</td>\n",
              "      <td>...</td>\n",
              "    </tr>\n",
              "    <tr>\n",
              "      <th>748</th>\n",
              "      <td>2020</td>\n",
              "      <td>주식회사 블루필름웍스</td>\n",
              "      <td>1</td>\n",
              "      <td>388</td>\n",
              "      <td>0.257732</td>\n",
              "    </tr>\n",
              "    <tr>\n",
              "      <th>749</th>\n",
              "      <td>2020</td>\n",
              "      <td>주식회사 풍경소리</td>\n",
              "      <td>1</td>\n",
              "      <td>388</td>\n",
              "      <td>0.257732</td>\n",
              "    </tr>\n",
              "    <tr>\n",
              "      <th>751</th>\n",
              "      <td>2020</td>\n",
              "      <td>커넥트픽쳐스(주)</td>\n",
              "      <td>1</td>\n",
              "      <td>388</td>\n",
              "      <td>0.257732</td>\n",
              "    </tr>\n",
              "    <tr>\n",
              "      <th>753</th>\n",
              "      <td>2020</td>\n",
              "      <td>하준사</td>\n",
              "      <td>1</td>\n",
              "      <td>388</td>\n",
              "      <td>0.257732</td>\n",
              "    </tr>\n",
              "    <tr>\n",
              "      <th>754</th>\n",
              "      <td>2020</td>\n",
              "      <td>호우주의보</td>\n",
              "      <td>1</td>\n",
              "      <td>388</td>\n",
              "      <td>0.257732</td>\n",
              "    </tr>\n",
              "  </tbody>\n",
              "</table>\n",
              "<p>755 rows × 5 columns</p>\n",
              "</div>"
            ],
            "text/plain": [
              "     개봉연도                  배급사  배급영화수  연도별총영화수         비중\n",
              "24   2011        롯데쇼핑㈜롯데엔터테인먼트     30      230  13.043478\n",
              "10   2011            (주)씨제이이엔엠     29      230  12.608696\n",
              "0    2011  (주)넥스트엔터테인먼트월드(NEW)     18      230   7.826087\n",
              "42   2011  한국소니픽쳐스릴리징브에나비스타영화㈜     14      230   6.086957\n",
              "31   2011        워너브러더스 코리아(주)     13      230   5.652174\n",
              "..    ...                  ...    ...      ...        ...\n",
              "748  2020          주식회사 블루필름웍스      1      388   0.257732\n",
              "749  2020            주식회사 풍경소리      1      388   0.257732\n",
              "751  2020            커넥트픽쳐스(주)      1      388   0.257732\n",
              "753  2020                  하준사      1      388   0.257732\n",
              "754  2020                호우주의보      1      388   0.257732\n",
              "\n",
              "[755 rows x 5 columns]"
            ]
          },
          "metadata": {},
          "execution_count": 28
        }
      ]
    },
    {
      "cell_type": "code",
      "metadata": {
        "id": "gmrhBV5pTHv8"
      },
      "source": [
        "#cj 영화도 같은 방식으로 계산 (하지만 안쓸 예정)\n",
        "cj_movies = movie_counts[movie_counts['배급사'].str.contains(\"씨제이\") | movie_counts['배급사'].str.contains(\"CJ\", case=False)]\n",
        "cj_movies['타사영화'] = cj_movies['연도별총영화수'] - cj_movies['배급영화수']"
      ],
      "execution_count": 29,
      "outputs": []
    },
    {
      "cell_type": "code",
      "metadata": {
        "colab": {
          "base_uri": "https://localhost:8080/",
          "height": 542
        },
        "id": "6jod2DXuTmrl",
        "outputId": "d3d41fff-9494-43b9-f6f5-ad2b7ac55f14"
      },
      "source": [
        "#연도별 배급사의 영화 수 비중 추이\n",
        "movie_counts.sort_values(by=\"비중\", ascending=False)\n",
        "fig = px.bar(movie_counts, \n",
        "              x=\"배급영화수\", # x축\n",
        "              y=\"개봉연도\",  # y축\n",
        "              color = \"비중\",\n",
        "              hover_name = \"배급사\",\n",
        "              hover_data = [\"배급영화수\", \"비중\"],\n",
        "              orientation='h',\n",
        "              title='연도 별 배급사의 영화 수 및 비중 추이', # Title \n",
        "              )\n",
        "fig.update_layout(barmode = \"relative\", xaxis={'categoryorder':'total descending'})\n",
        "# fig.update_traces(texttemplate=, textposition='outside')\n",
        "fig.show()"
      ],
      "execution_count": 32,
      "outputs": [
        {
          "output_type": "display_data",
          "data": {
            "text/html": [
              "<html>\n",
              "<head><meta charset=\"utf-8\" /></head>\n",
              "<body>\n",
              "    <div>            <script src=\"https://cdnjs.cloudflare.com/ajax/libs/mathjax/2.7.5/MathJax.js?config=TeX-AMS-MML_SVG\"></script><script type=\"text/javascript\">if (window.MathJax) {MathJax.Hub.Config({SVG: {font: \"STIX-Web\"}});}</script>                <script type=\"text/javascript\">window.PlotlyConfig = {MathJaxConfig: 'local'};</script>\n",
              "        <script src=\"https://cdn.plot.ly/plotly-2.3.1.min.js\"></script>                <div id=\"cb50ae56-97ea-4684-8d8f-63a868e8cedd\" class=\"plotly-graph-div\" style=\"height:525px; width:100%;\"></div>            <script type=\"text/javascript\">                                    window.PLOTLYENV=window.PLOTLYENV || {};                                    if (document.getElementById(\"cb50ae56-97ea-4684-8d8f-63a868e8cedd\")) {                    Plotly.newPlot(                        \"cb50ae56-97ea-4684-8d8f-63a868e8cedd\",                        [{\"alignmentgroup\":\"True\",\"customdata\":[[7.82608695652174],[0.43478260869565216],[1.3043478260869565],[0.8695652173913043],[0.8695652173913043],[5.217391304347826],[0.43478260869565216],[4.3478260869565215],[0.43478260869565216],[3.0434782608695654],[12.608695652173912],[0.43478260869565216],[2.608695652173913],[0.43478260869565216],[0.43478260869565216],[0.43478260869565216],[0.43478260869565216],[0.43478260869565216],[4.3478260869565215],[2.1739130434782608],[1.3043478260869565],[0.43478260869565216],[0.43478260869565216],[0.43478260869565216],[13.043478260869565],[2.608695652173913],[0.43478260869565216],[0.43478260869565216],[0.43478260869565216],[3.0434782608695654],[0.8695652173913043],[5.6521739130434785],[3.91304347826087],[4.782608695652174],[0.43478260869565216],[0.8695652173913043],[0.43478260869565216],[0.8695652173913043],[0.8695652173913043],[1.3043478260869565],[0.43478260869565216],[1.7391304347826086],[6.086956521739131],[1.968503937007874],[5.905511811023622],[1.1811023622047243],[0.39370078740157477],[1.574803149606299],[0.39370078740157477],[0.7874015748031495],[0.39370078740157477],[0.39370078740157477],[0.7874015748031495],[3.543307086614173],[0.39370078740157477],[1.1811023622047243],[0.39370078740157477],[1.574803149606299],[12.598425196850393],[2.7559055118110236],[0.39370078740157477],[0.39370078740157477],[0.39370078740157477],[0.7874015748031495],[0.39370078740157477],[0.39370078740157477],[0.39370078740157477],[1.574803149606299],[0.39370078740157477],[1.1811023622047243],[2.7559055118110236],[0.7874015748031495],[1.574803149606299],[0.39370078740157477],[0.39370078740157477],[0.39370078740157477],[0.39370078740157477],[15.748031496062993],[1.1811023622047243],[5.511811023622047],[2.7559055118110236],[0.39370078740157477],[1.574803149606299],[3.543307086614173],[0.39370078740157477],[4.724409448818897],[3.937007874015748],[0.7874015748031495],[1.968503937007874],[0.7874015748031495],[1.1811023622047243],[0.39370078740157477],[1.574803149606299],[4.330708661417323],[0.3246753246753247],[3.571428571428571],[6.493506493506493],[0.3246753246753247],[3.571428571428571],[0.6493506493506493],[3.896103896103896],[0.6493506493506493],[3.2467532467532463],[0.974025974025974],[0.974025974025974],[10.714285714285714],[0.3246753246753247],[0.3246753246753247],[1.948051948051948],[0.3246753246753247],[0.3246753246753247],[0.974025974025974],[3.896103896103896],[0.3246753246753247],[0.6493506493506493],[1.2987012987012987],[0.6493506493506493],[0.3246753246753247],[3.571428571428571],[0.3246753246753247],[4.220779220779221],[2.5974025974025974],[0.3246753246753247],[0.3246753246753247],[1.2987012987012987],[0.3246753246753247],[0.6493506493506493],[0.6493506493506493],[0.3246753246753247],[0.3246753246753247],[0.6493506493506493],[0.3246753246753247],[8.766233766233766],[0.974025974025974],[0.3246753246753247],[5.194805194805195],[4.220779220779221],[0.3246753246753247],[0.3246753246753247],[0.3246753246753247],[1.6233766233766231],[0.3246753246753247],[2.272727272727273],[3.896103896103896],[3.896103896103896],[0.3246753246753247],[0.6493506493506493],[0.6493506493506493],[0.3246753246753247],[0.3246753246753247],[0.3246753246753247],[1.2987012987012987],[0.3246753246753247],[0.3246753246753247],[0.3246753246753247],[0.819672131147541],[0.273224043715847],[4.098360655737705],[3.0054644808743167],[0.273224043715847],[0.546448087431694],[0.546448087431694],[0.273224043715847],[0.273224043715847],[0.819672131147541],[2.73224043715847],[0.546448087431694],[0.546448087431694],[0.273224043715847],[0.819672131147541],[0.273224043715847],[3.825136612021858],[0.273224043715847],[0.273224043715847],[2.185792349726776],[1.092896174863388],[7.377049180327869],[0.273224043715847],[1.366120218579235],[4.918032786885246],[0.273224043715847],[2.185792349726776],[0.273224043715847],[0.273224043715847],[0.273224043715847],[0.273224043715847],[0.273224043715847],[0.819672131147541],[0.546448087431694],[2.73224043715847],[0.273224043715847],[0.546448087431694],[0.273224043715847],[0.273224043715847],[5.191256830601093],[0.273224043715847],[2.459016393442623],[0.273224043715847],[0.273224043715847],[2.459016393442623],[0.546448087431694],[0.273224043715847],[0.273224043715847],[0.273224043715847],[0.546448087431694],[1.092896174863388],[7.103825136612022],[1.639344262295082],[0.819672131147541],[0.273224043715847],[3.278688524590164],[1.366120218579235],[1.639344262295082],[0.273224043715847],[0.273224043715847],[1.366120218579235],[0.273224043715847],[0.819672131147541],[0.273224043715847],[0.273224043715847],[3.0054644808743167],[2.459016393442623],[0.273224043715847],[0.273224043715847],[3.825136612021858],[3.0054644808743167],[0.273224043715847],[0.273224043715847],[0.546448087431694],[0.546448087431694],[0.819672131147541],[1.092896174863388],[2.185792349726776],[0.819672131147541],[0.25380710659898476],[1.015228426395939],[2.030456852791878],[3.5532994923857872],[1.015228426395939],[0.5076142131979695],[0.25380710659898476],[0.25380710659898476],[2.7918781725888326],[1.2690355329949239],[1.015228426395939],[2.5380710659898478],[0.5076142131979695],[1.7766497461928936],[0.5076142131979695],[2.7918781725888326],[0.25380710659898476],[0.5076142131979695],[2.284263959390863],[0.25380710659898476],[5.83756345177665],[0.25380710659898476],[0.5076142131979695],[0.25380710659898476],[1.5228426395939088],[2.5380710659898478],[0.5076142131979695],[2.030456852791878],[3.2994923857868024],[0.25380710659898476],[1.2690355329949239],[2.284263959390863],[0.25380710659898476],[0.5076142131979695],[0.25380710659898476],[0.25380710659898476],[0.5076142131979695],[0.5076142131979695],[0.5076142131979695],[4.060913705583756],[0.25380710659898476],[1.5228426395939088],[2.284263959390863],[0.25380710659898476],[0.7614213197969544],[0.5076142131979695],[0.25380710659898476],[0.5076142131979695],[2.030456852791878],[0.5076142131979695],[5.0761421319796955],[2.030456852791878],[0.5076142131979695],[2.284263959390863],[0.25380710659898476],[0.5076142131979695],[0.25380710659898476],[0.5076142131979695],[0.7614213197969544],[0.5076142131979695],[2.7918781725888326],[2.7918781725888326],[0.25380710659898476],[0.5076142131979695],[1.7766497461928936],[6.598984771573605],[3.2994923857868024],[0.25380710659898476],[0.25380710659898476],[1.2690355329949239],[0.25380710659898476],[1.015228426395939],[0.25380710659898476],[1.2690355329949239],[2.7918781725888326],[0.25380710659898476],[0.23866348448687352],[0.23866348448687352],[0.7159904534606205],[3.341288782816229],[0.47732696897374705],[0.9546539379474941],[0.23866348448687352],[1.6706443914081146],[3.8186157517899764],[0.7159904534606205],[3.1026252983293556],[0.23866348448687352],[0.7159904534606205],[1.1933174224343674],[0.23866348448687352],[0.23866348448687352],[4.77326968973747],[0.23866348448687352],[0.23866348448687352],[0.7159904534606205],[1.9093078758949882],[1.431980906921241],[0.23866348448687352],[0.47732696897374705],[0.47732696897374705],[0.23866348448687352],[5.250596658711217],[0.23866348448687352],[0.23866348448687352],[0.23866348448687352],[1.431980906921241],[3.579952267303103],[0.23866348448687352],[2.386634844868735],[0.23866348448687352],[0.23866348448687352],[0.23866348448687352],[0.23866348448687352],[2.6252983293556085],[0.7159904534606205],[0.23866348448687352],[0.47732696897374705],[0.23866348448687352],[0.9546539379474941],[0.23866348448687352],[1.9093078758949882],[0.47732696897374705],[2.6252983293556085],[0.47732696897374705],[1.6706443914081146],[1.9093078758949882],[0.23866348448687352],[0.9546539379474941],[1.1933174224343674],[1.1933174224343674],[1.9093078758949882],[0.47732696897374705],[0.23866348448687352],[4.295942720763723],[2.6252983293556085],[0.23866348448687352],[0.47732696897374705],[0.23866348448687352],[0.23866348448687352],[0.23866348448687352],[1.431980906921241],[0.7159904534606205],[1.1933174224343674],[3.1026252983293556],[2.6252983293556085],[0.47732696897374705],[2.1479713603818613],[6.205250596658711],[2.6252983293556085],[0.7159904534606205],[0.7159904534606205],[0.9546539379474941],[0.47732696897374705],[0.23866348448687352],[1.1933174224343674],[0.47732696897374705],[1.9093078758949882],[0.23866348448687352],[0.4273504273504274],[0.2136752136752137],[0.2136752136752137],[0.2136752136752137],[3.205128205128205],[0.4273504273504274],[0.4273504273504274],[0.8547008547008548],[1.282051282051282],[3.418803418803419],[0.2136752136752137],[1.282051282051282],[0.4273504273504274],[2.3504273504273505],[0.2136752136752137],[0.4273504273504274],[0.4273504273504274],[0.2136752136752137],[0.2136752136752137],[0.4273504273504274],[0.2136752136752137],[0.2136752136752137],[4.05982905982906],[0.2136752136752137],[1.282051282051282],[1.282051282051282],[1.4957264957264957],[1.4957264957264957],[0.2136752136752137],[0.2136752136752137],[0.2136752136752137],[4.273504273504273],[0.641025641025641],[1.282051282051282],[2.3504273504273505],[0.8547008547008548],[0.8547008547008548],[1.282051282051282],[0.2136752136752137],[0.641025641025641],[0.4273504273504274],[0.2136752136752137],[2.7777777777777777],[0.8547008547008548],[0.4273504273504274],[0.641025641025641],[0.641025641025641],[0.2136752136752137],[2.7777777777777777],[0.2136752136752137],[1.0683760683760684],[3.8461538461538463],[0.2136752136752137],[0.4273504273504274],[0.2136752136752137],[0.4273504273504274],[4.05982905982906],[0.2136752136752137],[0.641025641025641],[0.4273504273504274],[0.641025641025641],[0.8547008547008548],[1.7094017094017095],[0.8547008547008548],[0.4273504273504274],[0.2136752136752137],[0.2136752136752137],[3.205128205128205],[2.564102564102564],[0.2136752136752137],[0.2136752136752137],[2.1367521367521367],[0.2136752136752137],[0.641025641025641],[0.2136752136752137],[0.2136752136752137],[1.4957264957264957],[0.8547008547008548],[1.0683760683760684],[3.205128205128205],[2.564102564102564],[2.564102564102564],[3.632478632478633],[2.564102564102564],[0.4273504273504274],[0.8547008547008548],[0.641025641025641],[0.641025641025641],[1.4957264957264957],[0.4273504273504274],[1.9230769230769231],[0.2136752136752137],[0.9111617312072893],[0.22779043280182232],[0.22779043280182232],[3.8724373576309796],[0.683371298405467],[0.45558086560364464],[0.683371298405467],[3.644646924829157],[0.22779043280182232],[1.1389521640091116],[2.9612756264236904],[0.22779043280182232],[0.683371298405467],[0.22779043280182232],[0.22779043280182232],[0.45558086560364464],[3.8724373576309796],[0.22779043280182232],[0.45558086560364464],[1.1389521640091116],[0.683371298405467],[1.1389521640091116],[1.5945330296127564],[2.277904328018223],[0.22779043280182232],[0.45558086560364464],[0.22779043280182232],[0.22779043280182232],[3.416856492027335],[0.22779043280182232],[0.9111617312072893],[0.22779043280182232],[0.45558086560364464],[2.5056947608200453],[1.366742596810934],[2.277904328018223],[1.5945330296127564],[1.5945330296127564],[0.45558086560364464],[0.22779043280182232],[3.644646924829157],[0.22779043280182232],[1.366742596810934],[0.22779043280182232],[0.683371298405467],[2.277904328018223],[0.22779043280182232],[0.683371298405467],[0.683371298405467],[5.922551252847381],[0.22779043280182232],[0.683371298405467],[2.5056947608200453],[0.22779043280182232],[1.366742596810934],[0.683371298405467],[0.9111617312072893],[1.366742596810934],[0.45558086560364464],[1.1389521640091116],[2.050113895216401],[2.050113895216401],[1.1389521640091116],[2.277904328018223],[1.1389521640091116],[0.22779043280182232],[0.22779043280182232],[0.22779043280182232],[0.683371298405467],[0.9111617312072893],[2.733485193621868],[2.9612756264236904],[2.277904328018223],[3.416856492027335],[0.45558086560364464],[2.050113895216401],[0.683371298405467],[0.22779043280182232],[0.22779043280182232],[0.22779043280182232],[0.45558086560364464],[2.5056947608200453],[0.45558086560364464],[0.22779043280182232],[0.44742729306487694],[3.5794183445190155],[1.342281879194631],[0.44742729306487694],[0.22371364653243847],[0.22371364653243847],[0.22371364653243847],[0.8948545861297539],[2.013422818791946],[0.6711409395973155],[0.8948545861297539],[2.460850111856823],[0.44742729306487694],[0.6711409395973155],[0.44742729306487694],[3.5794183445190155],[0.22371364653243847],[0.22371364653243847],[2.237136465324385],[0.22371364653243847],[1.342281879194631],[0.6711409395973155],[1.342281879194631],[0.22371364653243847],[0.22371364653243847],[0.22371364653243847],[2.684563758389262],[1.1185682326621924],[0.44742729306487694],[0.6711409395973155],[2.013422818791946],[0.6711409395973155],[1.1185682326621924],[2.460850111856823],[0.22371364653243847],[1.1185682326621924],[0.22371364653243847],[0.8948545861297539],[0.8948545861297539],[0.22371364653243847],[2.460850111856823],[0.22371364653243847],[2.9082774049217],[0.22371364653243847],[1.1185682326621924],[0.22371364653243847],[0.22371364653243847],[0.6711409395973155],[0.22371364653243847],[1.1185682326621924],[0.22371364653243847],[1.342281879194631],[0.6711409395973155],[4.47427293064877],[0.8948545861297539],[0.22371364653243847],[1.1185682326621924],[0.22371364653243847],[2.460850111856823],[2.460850111856823],[0.22371364653243847],[0.6711409395973155],[1.5659955257270695],[0.22371364653243847],[0.22371364653243847],[0.8948545861297539],[4.250559284116331],[2.013422818791946],[0.22371364653243847],[1.7897091722595078],[0.22371364653243847],[0.6711409395973155],[0.6711409395973155],[0.44742729306487694],[0.6711409395973155],[1.1185682326621924],[0.22371364653243847],[3.5794183445190155],[3.5794183445190155],[0.22371364653243847],[3.3557046979865772],[2.013422818791946],[1.1185682326621924],[0.22371364653243847],[0.22371364653243847],[1.342281879194631],[0.22371364653243847],[0.22371364653243847],[0.44742729306487694],[2.460850111856823],[1.1185682326621924],[0.25773195876288657],[0.25773195876288657],[1.2886597938144329],[0.5154639175257731],[0.25773195876288657],[0.7731958762886598],[0.25773195876288657],[0.25773195876288657],[0.7731958762886598],[3.865979381443299],[0.7731958762886598],[1.0309278350515463],[0.25773195876288657],[0.25773195876288657],[2.8350515463917527],[0.25773195876288657],[0.5154639175257731],[1.804123711340206],[0.5154639175257731],[0.25773195876288657],[1.5463917525773196],[0.5154639175257731],[2.3195876288659796],[1.804123711340206],[0.5154639175257731],[0.5154639175257731],[0.25773195876288657],[2.0618556701030926],[1.0309278350515463],[0.25773195876288657],[1.0309278350515463],[0.25773195876288657],[0.25773195876288657],[0.25773195876288657],[2.0618556701030926],[2.0618556701030926],[0.7731958762886598],[0.25773195876288657],[3.0927835051546393],[2.0618556701030926],[0.25773195876288657],[2.3195876288659796],[0.5154639175257731],[0.7731958762886598],[2.5773195876288657],[0.25773195876288657],[6.701030927835052],[0.25773195876288657],[0.25773195876288657],[0.25773195876288657],[0.7731958762886598],[0.25773195876288657],[1.804123711340206],[0.25773195876288657],[0.25773195876288657],[1.804123711340206],[4.896907216494846],[0.25773195876288657],[0.7731958762886598],[0.25773195876288657],[1.2886597938144329],[0.25773195876288657],[0.5154639175257731],[0.25773195876288657],[0.5154639175257731],[1.804123711340206],[0.5154639175257731],[1.2886597938144329],[1.2886597938144329],[0.5154639175257731],[0.25773195876288657],[2.0618556701030926],[2.5773195876288657],[0.7731958762886598],[0.25773195876288657],[0.5154639175257731],[0.25773195876288657],[0.5154639175257731],[0.5154639175257731],[0.7731958762886598],[0.25773195876288657],[0.7731958762886598],[0.25773195876288657],[3.608247422680412],[1.2886597938144329],[2.0618556701030926],[2.3195876288659796],[1.0309278350515463],[0.25773195876288657],[0.25773195876288657],[3.0927835051546393],[0.25773195876288657],[1.804123711340206],[0.25773195876288657],[0.25773195876288657]],\"hovertemplate\":\"<b>%{hovertext}</b><br><br>\\ubc30\\uae09\\uc601\\ud654\\uc218=%{x}<br>\\uac1c\\ubd09\\uc5f0\\ub3c4=%{y}<br>\\ube44\\uc911=%{marker.color}<extra></extra>\",\"hovertext\":[\"(\\uc8fc)\\ub125\\uc2a4\\ud2b8\\uc5d4\\ud130\\ud14c\\uc778\\uba3c\\ud2b8\\uc6d4\\ub4dc(NEW)\",\"(\\uc8fc)\\ub514\\uc2a4\\ud14c\\uc774\\uc158\",\"(\\uc8fc)\\ubbf8\\ub514\\uc5b4\\ub370\\uc774\",\"(\\uc8fc)\\ubbf8\\ub85c\\ube44\\uc83c\",\"(\\uc8fc)\\ubc15\\uc218\\uc5d4\\ud130\\ud14c\\uc778\\uba3c\\ud2b8\",\"(\\uc8fc)\\uc1fc\\ubc15\\uc2a4\",\"(\\uc8fc)\\uc2a4\\ub9c8\\uc77c\\uc774\\uc5d4\\ud2f0\",\"(\\uc8fc)\\uc2dc\\ub108\\uc9c0\\ud558\\uc6b0\\uc2a4 (\\uc2dc\\ub108\\uc9c0)\",\"(\\uc8fc)\\uc2dc\\ub124\\ub9c8\\uc11c\\ube44\\uc2a4\",\"(\\uc8fc)\\uc2f8\\uc774\\ub354\\uc2a4\",\"(\\uc8fc)\\uc528\\uc81c\\uc774\\uc774\\uc5d4\\uc5e0\",\"(\\uc8fc)\\uc544\\uc774\\uc5e0\\ube44\\uc528\",\"(\\uc8fc)\\uc5d0\\uc2a4\\ube44\\uc5d0\\uc2a4\\ucf58\\ud150\\uce20\\ud5c8\\ube0c\",\"(\\uc8fc)\\uc5d0\\uc2a4\\ud53c\\uc5e0\",\"(\\uc8fc)\\uc601\\ud654\\uc0ac \\uadf8\\ub7a8\",\"(\\uc8fc)\\uc601\\ud654\\uc0ac \\uc870\\uc81c\",\"(\\uc8fc)\\uc601\\ud654\\uc0ac \\uc9c4\\uc9c4\",\"(\\uc8fc)\\uc601\\ud654\\uc0ac\\uc0d8\",\"(\\uc8fc)\\ud654\\uc564\\ub2f4\\uc774\\uc5d4\\ud2f0\",\"CJ ENM\",\"KT&G \\uc0c1\\uc0c1\\ub9c8\\ub2f9 \\uc601\\ud654\\uc0ac\\uc5c5\\ud300 \\ucef4\\ud37c\\ub2c8\\uc5d0\\uc2a4\\uc5d0\\uc2a4(\\uc8fc)\",\"\\u321c\\uc528\\uc5d0\\uc774\\uc5d4\",\"\\u321c\\ucf00\\uc774\\ub514\\ubbf8\\ub514\\uc5b4\",\"\\ub300\\uc6d0\\ubbf8\\ub514\\uc5b4(\\uc8fc)\",\"\\ub86f\\ub370\\uc1fc\\ud551\\u321c\\ub86f\\ub370\\uc5d4\\ud130\\ud14c\\uc778\\uba3c\\ud2b8\",\"\\uc528\\ub108\\uc2a4\\uc5d4\\ud130\\ud14c\\uc778\\uba3c\\ud2b8(\\uc8fc)\",\"\\uc544\\ubba4\\uc988\\ucf54\\ub9ac\\uc544(\\uc8fc)\",\"\\uc5d0\\uc2a4\\ucf00\\uc774\\ud154\\ub808\\ucf64(\\uc8fc)\",\"\\uc5d0\\uc2a4\\ucf00\\uc774\\ud50c\\ub798\\ub2db(\\uc8fc)\",\"\\uc5d0\\uc774\\uc6d0\\uc5d4\\ud130\\ud14c\\uc778\\uba3c\\ud2b8\",\"\\uc608\\uc9c0\\ub9bc\\uc5d4\\ud130\\ud14c\\uc778\\uba3c\\ud2b8\",\"\\uc6cc\\ub108\\ube0c\\ub7ec\\ub354\\uc2a4 \\ucf54\\ub9ac\\uc544(\\uc8fc)\",\"\\uc720\\ub2c8\\ubc84\\uc124\\ud53d\\uccd0\\uc2a4\\uc778\\ud130\\ub0b4\\uc154\\ub110 \\ucf54\\ub9ac\\uc544(\\uc720)\",\"\\uc774\\uc2ed\\uc138\\uae30\\ud3ed\\uc2a4\\ucf54\\ub9ac\\uc544(\\uc8fc)\",\"\\uc774\\uc5b8\\ud53d\\uccd0\\uc2a4\",\"\\uc8fc\\uc2dd\\ud68c\\uc0ac \\ub9c8\\uc6b4\\ud2f4\\ud53d\\uccd0\\uc2a4\",\"\\uc8fc\\uc2dd\\ud68c\\uc0ac \\ud48d\\uacbd\\uc18c\\ub9ac\",\"\\ud0c0\\uc784\\uc2a4\\ud1a0\\ub9ac\\uadf8\\ub8f9(\\uc8fc)\",\"\\ud310\\uc528\\ub124\\ub9c8(\\uc8fc)\",\"\\ud31d\\uc5d4\\ud130\\ud14c\\uc778\\uba3c\\ud2b8\",\"\\ud504\\ub9ac\\ube44\\uc83c\\uc5d4\\ud130\\ud14c\\uc778\\uba3c\\ud2b8\",\"\\ud544\\ub77c\\uba58\\ud2b8\\ud53d\\uccd0\\uc2a4\",\"\\ud55c\\uad6d\\uc18c\\ub2c8\\ud53d\\uccd0\\uc2a4\\ub9b4\\ub9ac\\uc9d5\\ube0c\\uc5d0\\ub098\\ube44\\uc2a4\\ud0c0\\uc601\\ud654\\u321c\",\"(\\uc8fc)\\ub098\\uc774\\ub108\\uc2a4\\uc5d4\\ud130\\ud14c\\uc778\\uba3c\\ud2b8\",\"(\\uc8fc)\\ub125\\uc2a4\\ud2b8\\uc5d4\\ud130\\ud14c\\uc778\\uba3c\\ud2b8\\uc6d4\\ub4dc(NEW)\",\"(\\uc8fc)\\ub4dc\\ub9bc\\ud329\\ud2b8\\uc5d4\\ud130\\ud14c\\uc778\\uba3c\\ud2b8\",\"(\\uc8fc)\\ub514\\uc2a4\\ud14c\\uc774\\uc158\",\"(\\uc8fc)\\ub9c8\\uc778\\uc2a4 \\uc5d4\\ud130\\ud14c\\uc778\\uba3c\\ud2b8\",\"(\\uc8fc)\\uba85\\ud544\\ub984\",\"(\\uc8fc)\\ubbf8\\ub514\\uc5b4\\ub370\\uc774\",\"(\\uc8fc)\\ubbf8\\ub85c\\ube44\\uc83c\",\"(\\uc8fc)\\ubbf8\\ub85c\\uc2a4\\ud398\\uc774\\uc2a4\",\"(\\uc8fc)\\ubc15\\uc218\\uc5d4\\ud130\\ud14c\\uc778\\uba3c\\ud2b8\",\"(\\uc8fc)\\uc1fc\\ubc15\\uc2a4\",\"(\\uc8fc)\\uc2a4\\ub9c8\\uc77c\\uc774\\uc5d4\\ud2f0\",\"(\\uc8fc)\\uc2dc\\ub108\\uc9c0\\ud558\\uc6b0\\uc2a4 (\\uc2dc\\ub108\\uc9c0)\",\"(\\uc8fc)\\uc2dc\\ub124\\ub9c8\\uc11c\\ube44\\uc2a4\",\"(\\uc8fc)\\uc2f8\\uc774\\ub354\\uc2a4\",\"(\\uc8fc)\\uc528\\uc81c\\uc774\\uc774\\uc5d4\\uc5e0\",\"(\\uc8fc)\\uc5d0\\uc2a4\\ube44\\uc5d0\\uc2a4\\ucf58\\ud150\\uce20\\ud5c8\\ube0c\",\"(\\uc8fc)\\uc5e3\\ub098\\uc778\\ud544\\ub984\",\"(\\uc8fc)\\uc601\\ud654\\uc0ac \\uadf8\\ub7a8\",\"(\\uc8fc)\\uc601\\ud654\\uc0ac \\uc870\\uc81c\",\"(\\uc8fc)\\uc601\\ud654\\uc0ac \\uc9c4\\uc9c4\",\"(\\uc8fc)\\uc601\\ud654\\uc0ac\\uc870\\uc544\",\"(\\uc8fc)\\uc601\\ud654\\uc81c\\uc791\\uc804\\uc6d0\\uc0ac \",\"(\\uc8fc)\\uc774\\ub180\\ubbf8\\ub514\\uc5b4\",\"(\\uc8fc)\\uc778\\ubca4\\ud2b8\\uc2a4\\ud1a4\",\"(\\uc8fc)\\uc81c\\uc774\\uc564\\uc528\\ubbf8\\ub514\\uc5b4\\uadf8\\ub8f9\",\"(\\uc8fc)\\ud31d\\uc5d4\\ud130\\ud14c\\uc778\\uba3c\\ud2b8\",\"(\\uc8fc)\\ud31d\\ud30c\\ud2b8\\ub108\\uc2a4\",\"(\\uc8fc)\\ud654\\uc564\\ub2f4\\uc774\\uc5d4\\ud2f0\",\"KT&G \\uc0c1\\uc0c1\\ub9c8\\ub2f9 \\uc601\\ud654\\uc0ac\\uc5c5\\ud300 \\ucef4\\ud37c\\ub2c8\\uc5d0\\uc2a4\\uc5d0\\uc2a4(\\uc8fc)\",\"\\u321c\\uc778\\ub514\\uc2a4\\ud1a0\\ub9ac\",\"\\uace8\\ub4e0\\ud0c0\\uc774\\ub4dc\\ud53d\\ucc98\\uc2a4(\\uc8fc)\",\"\\ub274\\uc6d0\\uc2dc\\ub124\\ub9c8\",\"\\ub86f\\ub370\\uc1fc\\ud551\\u321c\\ub86f\\ub370\\uc2dc\\ub124\\ub9c8\",\"\\ub86f\\ub370\\uc1fc\\ud551\\u321c\\ub86f\\ub370\\uc5d4\\ud130\\ud14c\\uc778\\uba3c\\ud2b8\",\"\\uc18c\\ub2c8\\ud53d\\uccd0\\uc2a4\\ub9b4\\ub9ac\\uc9d5\\uc6d4\\ud2b8\\ub514\\uc988\\ub2c8\\uc2a4\\ud29c\\ub514\\uc624\\uc2a4\\ucf54\\ub9ac\\uc544(\\uc8fc)\",\"\\uc528\\ub108\\uc2a4\\uc5d4\\ud130\\ud14c\\uc778\\uba3c\\ud2b8(\\uc8fc)\",\"\\uc5d0\\uc774\\uc6d0\\uc5d4\\ud130\\ud14c\\uc778\\uba3c\\ud2b8\",\"\\uc601\\ud654\\uc0ac\\uccad\\uc5b4\\ub78c(\\uc8fc)\",\"\\uc608\\uc9c0\\ub9bc\\uc5d4\\ud130\\ud14c\\uc778\\uba3c\\ud2b8\",\"\\uc6cc\\ub108\\ube0c\\ub7ec\\ub354\\uc2a4 \\ucf54\\ub9ac\\uc544(\\uc8fc)\",\"\\uc6d4\\ud2b8\\ub514\\uc988\\ub2c8\\ucef4\\ud37c\\ub2c8\\ucf54\\ub9ac\\uc544 \\uc720\\ud55c\\ucc45\\uc784\\ud68c\\uc0ac\",\"\\uc720\\ub2c8\\ubc84\\uc124\\ud53d\\uccd0\\uc2a4\\uc778\\ud130\\ub0b4\\uc154\\ub110 \\ucf54\\ub9ac\\uc544(\\uc720)\",\"\\uc774\\uc2ed\\uc138\\uae30\\ud3ed\\uc2a4\\ucf54\\ub9ac\\uc544(\\uc8fc)\",\"\\uc8fc\\uc2dd\\ud68c\\uc0ac \\ub9c8\\uc6b4\\ud2f4\\ud53d\\uccd0\\uc2a4\",\"\\ud0c0\\uc784\\uc2a4\\ud1a0\\ub9ac\\uadf8\\ub8f9(\\uc8fc)\",\"\\ud310\\uc528\\ub124\\ub9c8(\\uc8fc)\",\"\\ud31d\\uc5d4\\ud130\\ud14c\\uc778\\uba3c\\ud2b8\",\"\\ud504\\ub9ac\\ube44\\uc83c\\uc5d4\\ud130\\ud14c\\uc778\\uba3c\\ud2b8\",\"\\ud544\\ub77c\\uba58\\ud2b8\\ud53d\\uccd0\\uc2a4\",\"\\ud55c\\uad6d\\uc18c\\ub2c8\\ud53d\\uccd0\\uc2a4\\ub9b4\\ub9ac\\uc9d5\\ube0c\\uc5d0\\ub098\\ube44\\uc2a4\\ud0c0\\uc601\\ud654\\u321c\",\"(\\uc8fc)\\uae4c\\uba5c\\ub9ac\\uc544\\uc774\\uc5d4\\ud2f0\",\"(\\uc8fc)\\ub098\\uc774\\ub108\\uc2a4\\uc5d4\\ud130\\ud14c\\uc778\\uba3c\\ud2b8\",\"(\\uc8fc)\\ub125\\uc2a4\\ud2b8\\uc5d4\\ud130\\ud14c\\uc778\\uba3c\\ud2b8\\uc6d4\\ub4dc(NEW)\",\"(\\uc8fc)\\ub514\\uc2a4\\ud14c\\uc774\\uc158\",\"(\\uc8fc)\\ub9c8\\uc778\\uc2a4 \\uc5d4\\ud130\\ud14c\\uc778\\uba3c\\ud2b8\",\"(\\uc8fc)\\uba38\\uc2a4\\ud2b8\\uc528\\ubb34\\ube44\",\"(\\uc8fc)\\ubbf8\\ub514\\uc5b4\\ub370\\uc774\",\"(\\uc8fc)\\ubc15\\uc218\\uc5d4\\ud130\\ud14c\\uc778\\uba3c\\ud2b8\",\"(\\uc8fc)\\uc1fc\\ubc15\\uc2a4\",\"(\\uc8fc)\\uc2dc\\ub108\\uc9c0\\ud558\\uc6b0\\uc2a4 (\\uc2dc\\ub108\\uc9c0)\",\"(\\uc8fc)\\uc2f8\\uc774\\ub354\\uc2a4\",\"(\\uc8fc)\\uc528\\uc81c\\uc774\\uc774\\uc5d4\\uc5e0\",\"(\\uc8fc)\\uc544\\uc6b0\\ub77c\\ud53d\\ucc98\\uc2a4\",\"(\\uc8fc)\\uc564\\ub4dc\\ud50c\\ub7ec\\uc2a4\\ubbf8\\ub514\\uc5b4\\uc6cd\\uc2a4\",\"(\\uc8fc)\\uc5d0\\uc2a4\\ube44\\uc5d0\\uc2a4\\ucf58\\ud150\\uce20\\ud5c8\\ube0c\",\"(\\uc8fc)\\uc5d0\\uc2a4\\ud53c\\uc5e0\",\"(\\uc8fc)\\uc5d4\\ucf00\\uc774\\ucee8\\ud150\\uce20\",\"(\\uc8fc)\\uc5e3\\ub098\\uc778\\ud544\\ub984\",\"(\\uc8fc)\\uc601\\ud654\\uc0ac \\ube45\",\"(\\uc8fc)\\uc601\\ud654\\uc0ac \\uc548\\ub2e4\\ubbf8\\ub85c\",\"(\\uc8fc)\\uc601\\ud654\\uc0ac \\uc870\\uc81c\",\"(\\uc8fc)\\uc601\\ud654\\uc0ac \\uc9c4\\uc9c4\",\"(\\uc8fc)\\uc601\\ud654\\uc81c\\uc791\\uc804\\uc6d0\\uc0ac \",\"(\\uc8fc)\\uc778\\ub514\\ud50c\\ub7ec\\uadf8\",\"(\\uc8fc)\\uc778\\ubca4\\ud2b8\\uc2a4\\ud1a4\",\"(\\uc8fc)\\ud2f0\\uce90\\uc2a4\\ud2b8\\ucf58\\ud150\\uce20\\ud5c8\\ube0c\",\"(\\uc8fc)\\ud31d\\uc5d4\\ud130\\ud14c\\uc778\\uba3c\\ud2b8\",\"(\\uc8fc)\\ud31d\\ud30c\\ud2b8\\ub108\\uc2a4\",\"(\\uc8fc)\\ud37c\\uc2a4\\ud2b8\\ub7f0\",\"(\\uc8fc)\\ud504\\ub808\\uc778\\uae00\\ub85c\\ubc8c\",\"CGV\\uc544\\ud2b8\\ud558\\uc6b0\\uc2a4\",\"KT&G \\uc0c1\\uc0c1\\ub9c8\\ub2f9 \\uc601\\ud654\\uc0ac\\uc5c5\\ud300 \\ucef4\\ud37c\\ub2c8\\uc5d0\\uc2a4\\uc5d0\\uc2a4(\\uc8fc)\",\"\\u321cT-JOY\",\"\\u321c\\uc601\\ud654\\uc0ac \\ubc31\\ub450\\ub300\\uac04\",\"\\u321c\\uc778\\ub514\\uc2a4\\ud1a0\\ub9ac\",\"\\uace8\\ub4e0\\ud0c0\\uc774\\ub4dc\\ud53d\\ucc98\\uc2a4(\\uc8fc)\",\"\\uadf8\\ub9b0\\ub098\\ub798\\ubbf8\\ub514\\uc5b4(\\uc8fc)\",\"\\uae00\\ubafc \\uc8fc\\uc2dd\\ud68c\\uc0ac\",\"\\ub86f\\ub370\\uc1fc\\ud551\\u321c\\ub86f\\ub370\\uc5d4\\ud130\\ud14c\\uc778\\uba3c\\ud2b8\",\"\\ube0c\\ub9bf\\uc9c0\\uc6cd\\uc2a4 \\uc5d4\\ud130\\ud14c\\uc778\\uba3c\\ud2b8(\\uc8fc)\",\"\\uc120\\ud544\\ub984\",\"\\uc18c\\ub2c8\\ud53d\\uccd0\\uc2a4\\ub9b4\\ub9ac\\uc9d5\\uc6d4\\ud2b8\\ub514\\uc988\\ub2c8\\uc2a4\\ud29c\\ub514\\uc624\\uc2a4\\ucf54\\ub9ac\\uc544(\\uc8fc)\",\"\\uc528\\ub108\\uc2a4\\uc5d4\\ud130\\ud14c\\uc778\\uba3c\\ud2b8(\\uc8fc)\",\"\\uc544\\uc774\\ub7ec\\ube0c\\uc2dc\\ub124\\ub9c8\",\"\\uc5b4\\ubba4\\uc988\",\"\\uc5d0\\uc774\\uc6d0\\uc5d4\\ud130\\ud14c\\uc778\\uba3c\\ud2b8\",\"\\uc608\\uc9c0\\ub9bc\\uc5d4\\ud130\\ud14c\\uc778\\uba3c\\ud2b8\",\"\\uc624\\ub4dc\",\"\\uc6cc\\ub108\\ube0c\\ub7ec\\ub354\\uc2a4 \\ucf54\\ub9ac\\uc544(\\uc8fc)\",\"\\uc720\\ub2c8\\ubc84\\uc124\\ud53d\\uccd0\\uc2a4\\uc778\\ud130\\ub0b4\\uc154\\ub110 \\ucf54\\ub9ac\\uc544(\\uc720)\",\"\\uc774\\uc2ed\\uc138\\uae30\\ud3ed\\uc2a4\\ucf54\\ub9ac\\uc544(\\uc8fc)\",\"\\uc775\\uc2a4\\ud2b8\\ub9bc \\ud544\\ub984\",\"\\uc8fc\\uc2dd\\ud68c\\uc0ac \\ub9c8\\uc6b4\\ud2f4\\ud53d\\uccd0\\uc2a4\",\"\\uc8fc\\uc2dd\\ud68c\\uc0ac \\ud574\\ub9ac\\uc2a8\\uc564\\ucef4\\ud37c\\ub2c8\",\"\\ucc2c\\ub780\",\"\\ucf00\\uc774\\ube44\\uc5d0\\uc2a4\\ubbf8\\ub514\\uc5b4(\\uc8fc)\",\"\\ud0c0\\uc784\\uc2a4\\ud1a0\\ub9ac\\uadf8\\ub8f9(\\uc8fc)\",\"\\ud310\\uc528\\ub124\\ub9c8(\\uc8fc)\",\"\\ud31d\\uc5d4\\ud130\\ud14c\\uc778\\uba3c\\ud2b8\",\"\\ud504\\ub9ac\\ube44\\uc83c\\uc5d4\\ud130\\ud14c\\uc778\\uba3c\\ud2b8\",\"\\ud544\\ub77c\\uba58\\ud2b8\\ud53d\\uccd0\\uc2a4\",\"(\\uc720)\\uc601\\ud654\\uc0ac \\ud654\\uc218\\ubd84\",\"(\\uc8fc)\\uae40\\uae30\\ub355 \\ud544\\ub984\",\"(\\uc8fc)\\ub098\\uc774\\ub108\\uc2a4\\uc5d4\\ud130\\ud14c\\uc778\\uba3c\\ud2b8\",\"(\\uc8fc)\\ub125\\uc2a4\\ud2b8\\uc5d4\\ud130\\ud14c\\uc778\\uba3c\\ud2b8\\uc6d4\\ub4dc(NEW)\",\"(\\uc8fc)\\ub204\\ub9ac\\ud53d\\uccd0\\uc2a4\",\"(\\uc8fc)\\ub300\\uba85\\ubb38\\ud654\\uacf5\\uc7a5\",\"(\\uc8fc)\\ub354\\ube14\\uc564\\uc870\\uc774\\ud53d\\uccd0\\uc2a4\",\"(\\uc8fc)\\ub77c\\uc774\\ud06c\\ucf58\\ud150\\uce20\",\"(\\uc8fc)\\ub808\\ub4dc\\ub85c\\ubc84\",\"(\\uc8fc)\\ub9ac\\ud2c0\\ube45\\ud53d\\uccd0\\uc2a4\",\"(\\uc8fc)\\ub9c8\\uc778\\uc2a4 \\uc5d4\\ud130\\ud14c\\uc778\\uba3c\\ud2b8\",\"(\\uc8fc)\\uba38\\uc2a4\\ud2b8\\uc528\\ubb34\\ube44\",\"(\\uc8fc)\\uba38\\uc2a4\\ud2b8\\uc528\\ubb34\\ube44\\ub9b4\\ub9ac\\uc9d5\\ucef4\\ud37c\\ub2c8\",\"(\\uc8fc)\\ubaa8\\uc778\\uadf8\\ub8f9\",\"(\\uc8fc)\\ubbf8\\ub514\\uc5b4\\ub370\\uc774\",\"(\\uc8fc)\\ubbf8\\ub8e8\\ud53d\\ucc98\\uc2a4\",\"(\\uc8fc)\\ubc15\\uc218\\uc5d4\\ud130\\ud14c\\uc778\\uba3c\\ud2b8\",\"(\\uc8fc)\\ube14\\ub8f8\\uc988\\ubca0\\ub9ac\\ud30c\\ud2b8\\ub108\\uc2a4\",\"(\\uc8fc)\\uc18c\\ub098\\ubb34\\ud53d\\uccd0\\uc2a4\",\"(\\uc8fc)\\uc1fc\\ubc15\\uc2a4\",\"(\\uc8fc)\\uc2f8\\uc774\\ub354\\uc2a4\",\"(\\uc8fc)\\uc528\\uc81c\\uc774\\uc774\\uc5d4\\uc5e0\",\"(\\uc8fc)\\uc564\\ub4dc\\ud50c\\ub7ec\\uc2a4\\ubbf8\\ub514\\uc5b4\\uc6cd\\uc2a4\",\"(\\uc8fc)\\uc5e3\\ub098\\uc778\\ud544\\ub984\",\"(\\uc8fc)\\uc601\\ud654\\uc0ac \\ube45\",\"(\\uc8fc)\\uc601\\ud654\\uc0ac \\uc870\\uc81c\",\"(\\uc8fc)\\uc601\\ud654\\uc0ac \\uc9c4\\uc9c4\",\"(\\uc8fc)\\uc601\\ud654\\uc0ac\\uc624\\uc6d0\",\"(\\uc8fc)\\uc601\\ud654\\uc81c\\uc791\\uc804\\uc6d0\\uc0ac \",\"(\\uc8fc)\\uc62c\\uc2a4\\ud0c0\\uc5d4\\ud130\\ud14c\\uc778\\uba3c\\ud2b8\",\"(\\uc8fc)\\uc640\\uc6b0\\ud53d\\uccd0\\uc2a4\",\"(\\uc8fc)\\uc640\\uc774\\uc988\\ubca0\\uc774\",\"(\\uc8fc)\\uc774\\uc218C&E\",\"(\\uc8fc)\\uc778\\ub514\\ud50c\\ub7ec\\uadf8\",\"(\\uc8fc)\\uc778\\ubca4\\ud2b8\\uc2a4\\ud1a4\",\"(\\uc8fc)\\uc81c\\uc774\\uc564\\uc528\\ubbf8\\ub514\\uc5b4\\uadf8\\ub8f9\",\"(\\uc8fc)\\uc9c0\\uc5b4\\uc18c\\ud504\\ud2b8\",\"(\\uc8fc)\\ud2b8\\ub9ac\\ud544\\ub984\",\"(\\uc8fc)\\ud2f0\\uce90\\uc2a4\\ud2b8\\ucf58\\ud150\\uce20\\ud5c8\\ube0c\",\"(\\uc8fc)\\ud31d\\uc5d4\\ud130\\ud14c\\uc778\\uba3c\\ud2b8\",\"(\\uc8fc)\\ud3ec\\ucf13\\ubaac\\ucf54\\ub9ac\\uc544\",\"(\\uc8fc)\\ud504\\ub808\\uc778\\uae00\\ub85c\\ubc8c\",\"(\\uc8fc)\\ud53c\\ud130\\ud32c\\ud53d\\uccd0\\uc2a4\",\"(\\uc8fc)\\ud544\\ub984\\uc624\\ub9c8\\uc96c\",\"CGV\\uc544\\ud2b8\\ud558\\uc6b0\\uc2a4\",\"KT&G \\uc0c1\\uc0c1\\ub9c8\\ub2f9 \\uc601\\ud654\\uc0ac\\uc5c5\\ud300 \\ucef4\\ud37c\\ub2c8\\uc5d0\\uc2a4\\uc5d0\\uc2a4(\\uc8fc)\",\"THE \\ud53d\\uccd0\\uc2a4\",\"\\u321c\\uc601\\ud654\\uc0ac \\ubc31\\ub450\\ub300\\uac04\",\"\\u321c\\uc778\\ub514\\uc2a4\\ud1a0\\ub9ac\",\"\\uace8\\ub4e0\\ud0c0\\uc774\\ub4dc\\ud53d\\ucc98\\uc2a4(\\uc8fc)\",\"\\uadf8\\ub9b0\\ub098\\ub798\\ubbf8\\ub514\\uc5b4(\\uc8fc)\",\"\\ub86f\\ub370\\uc1fc\\ud551\\u321c\\ub86f\\ub370\\uc5d4\\ud130\\ud14c\\uc778\\uba3c\\ud2b8\",\"\\uba54\\uac00\\ubc15\\uc2a4\\uc911\\uc559(\\uc8fc)\\ud50c\\ub7ec\\uc2a4\\uc5e0\",\"\\ube0c\\ub9bf\\uc9c0\\uc6cd\\uc2a4 \\uc5d4\\ud130\\ud14c\\uc778\\uba3c\\ud2b8(\\uc8fc)\",\"\\ube14\\ub8e8\\ubbf8\\uc9c0\",\"\\uc18c\\ub2c8\\ud53d\\uccd0\\uc2a4\\ub9b4\\ub9ac\\uc9d5\\uc6d4\\ud2b8\\ub514\\uc988\\ub2c8\\uc2a4\\ud29c\\ub514\\uc624\\uc2a4\\ucf54\\ub9ac\\uc544(\\uc8fc)\",\"\\uc528\\ub108\\uc2a4\\uc5d4\\ud130\\ud14c\\uc778\\uba3c\\ud2b8(\\uc8fc)\",\"\\uc528\\ub124\\uadf8\\ub8e8(\\uc8fc)\\ub2e4\\uc6b0\\uae30\\uc220\",\"\\uc5b4\\ubba4\\uc988\",\"\\uc5bc\\ub9ac\\ubc84\\ub4dc\",\"\\uc5d0\\uc774\\uc6d0\\uc5d4\\ud130\\ud14c\\uc778\\uba3c\\ud2b8\",\"\\uc601\\ud654\\uc0ac\\uc62c(\\uc8fc)\",\"\\uc608\\uc9c0\\ub9bc\\uc5d4\\ud130\\ud14c\\uc778\\uba3c\\ud2b8\",\"\\uc624\\ub4dc\",\"\\uc624\\ud37c\\uc2a4\\ud53d\\uccd0\\uc2a4(\\uc720)\",\"\\uc640\\uc774\\ub4dc \\ub9b4\\ub9ac\\uc988(\\uc8fc)\",\"\\uc6cc\\ub108\\ube0c\\ub7ec\\ub354\\uc2a4 \\ucf54\\ub9ac\\uc544(\\uc8fc)\",\"\\uc6d4\\ud2b8\\ub514\\uc988\\ub2c8\\ucef4\\ud37c\\ub2c8\\ucf54\\ub9ac\\uc544(\\uc8fc)\",\"\\uc720\\ub098\\uc774\\ud2f0\\ub4dc\\ud53d\\ucc98\\uc2a4(\\uc8fc)\",\"\\uc720\\ub2c8\\ubc84\\uc124\\ud53d\\uccd0\\uc2a4\\uc778\\ud130\\ub0b4\\uc154\\ub110 \\ucf54\\ub9ac\\uc544(\\uc720)\",\"\\uc774\\uc2ed\\uc138\\uae30\\ud3ed\\uc2a4\\ucf54\\ub9ac\\uc544(\\uc8fc)\",\"\\uc8fc\\uc2dd\\ud68c\\uc0ac \\ub178\\ubc84\\uc2a4\\uc5d4\\ud130\\ud14c\\uc778\\uba3c\\ud2b8\",\"\\uc8fc\\uc2dd\\ud68c\\uc0ac \\ub354\\ucff1\",\"\\uc8fc\\uc2dd\\ud68c\\uc0ac \\ub514\\uc5d0\\uc2a4\\uc774\\uc774\\ub514\",\"\\uc8fc\\uc2dd\\ud68c\\uc0ac \\ub9c8\\uc6b4\\ud2f4\\ud53d\\uccd0\\uc2a4\",\"\\uc8fc\\uc2dd\\ud68c\\uc0ac \\uc6b0\\ub9ac\\ub124\\ud2b8\\uc6cd\\uc2a4\",\"\\ucc2c\\ub780\",\"\\ud310\\uc528\\ub124\\ub9c8(\\uc8fc)\",\"\\ud544\\ub77c\\uba58\\ud2b8\\ud53d\\uccd0\\uc2a4\",\"(\\uc720)\\uc601\\ud654\\uc0ac \\ud654\\uc218\\ubd84\",\"(\\uc720)\\uc870\\uc774\\uc564\\uc2dc\\ub124\\ub9c8\",\"(\\uc8fc)\\ub098\\uc774\\ub108\\uc2a4\\uc5d4\\ud130\\ud14c\\uc778\\uba3c\\ud2b8\",\"(\\uc8fc)\\ub125\\uc2a4\\ud2b8\\uc5d4\\ud130\\ud14c\\uc778\\uba3c\\ud2b8\\uc6d4\\ub4dc(NEW)\",\"(\\uc8fc)\\ub204\\ub9ac\\ud53d\\uccd0\\uc2a4\",\"(\\uc8fc)\\ub300\\uba85\\ubb38\\ud654\\uacf5\\uc7a5\",\"(\\uc8fc)\\ub4dc\\ub9bc\\ud329\\ud2b8\\uc5d4\\ud130\\ud14c\\uc778\\uba3c\\ud2b8\",\"(\\uc8fc)\\ub77c\\uc774\\ud06c\\ucf58\\ud150\\uce20\",\"(\\uc8fc)\\ub9ac\\ud2c0\\ube45\\ud53d\\uccd0\\uc2a4\",\"(\\uc8fc)\\ub9c8\\uc778\\uc2a4 \\uc5d4\\ud130\\ud14c\\uc778\\uba3c\\ud2b8\",\"(\\uc8fc)\\uba38\\uc2a4\\ud2b8\\uc528\\ubb34\\ube44\\ub9b4\\ub9ac\\uc9d5\\ucef4\\ud37c\\ub2c8\",\"(\\uc8fc)\\ubc15\\uc218\\uc5d4\\ud130\\ud14c\\uc778\\uba3c\\ud2b8\",\"(\\uc8fc)\\ubc84\\ud0b7\\uc2a4\\ud29c\\ub514\\uc624\",\"(\\uc8fc)\\ube0c\\ub9ac\\uc988\\ud53d\\ucc98\\uc2a4\",\"(\\uc8fc)\\ube14\\ub8f8\\uc988\\ubca0\\ub9ac\\ub9ac\\uc18c\\uc2dc\\uc2a4\\ub9ac\\ubbf8\\ud2f0\\ub4dc\",\"(\\uc8fc)\\uc1fc\\ubc15\\uc2a4\",\"(\\uc8fc)\\uc218\\ud0a4\\ud53d\\uccd0\\uc2a4\",\"(\\uc8fc)\\uc2a4\\ub9c8\\uc77c\\uc774\\uc5d4\\ud2f0\",\"(\\uc8fc)\\uc2a4\\ud1b0\\ud53d\\uccd0\\uc2a4\\ucf54\\ub9ac\\uc544\",\"(\\uc8fc)\\uc2dc\\ub124\\ub9c8\\uc11c\\ube44\\uc2a4\",\"(\\uc8fc)\\uc528\\uc81c\\uc774\\uc774\\uc5d4\\uc5e0\",\"(\\uc8fc)\\uc5d0\\uc2a4\\uc640\\uc774\\ucf54\\ub9c8\\ub4dc\",\"(\\uc8fc)\\uc5d0\\uc774\\uc6d0\\uc5d4\\ud130\\ud14c\\uc778\\uba3c\\ud2b8\",\"(\\uc8fc)\\uc5d4\\ucf00\\uc774\\ucee8\\ud150\\uce20\",\"(\\uc8fc)\\uc5e3\\ub098\\uc778\\ud544\\ub984\",\"(\\uc8fc)\\uc601\\ud654\\uc0ac \\ube45\",\"(\\uc8fc)\\uc601\\ud654\\uc0ac \\uc548\\ub2e4\\ubbf8\\ub85c\",\"(\\uc8fc)\\uc601\\ud654\\uc0ac \\uc9c4\\uc9c4\",\"(\\uc8fc)\\uc601\\ud654\\uc0ac\\uc624\\uc6d0\",\"(\\uc8fc)\\uc601\\ud654\\uc81c\\uc791\\uc804\\uc6d0\\uc0ac \",\"(\\uc8fc)\\uc640\\uc6b0\\ud53d\\uccd0\\uc2a4\",\"(\\uc8fc)\\uc774\\uc218C&E\",\"(\\uc8fc)\\uc778\\ub514\\ud50c\\ub7ec\\uadf8\",\"(\\uc8fc)\\uc778\\ubca4\\ud2b8\\uc2a4\\ud1a4\",\"(\\uc8fc)\\uc804\\ub9dd\\uc88b\\uc740 \\uc601\\ud654\\uc0ac\",\"(\\uc8fc)\\uc81c\\uc774\\uc564\\uc528\\ubbf8\\ub514\\uc5b4\\uadf8\\ub8f9\",\"(\\uc8fc)\\uc9c0\\uc5b4\\uc18c\\ud504\\ud2b8\",\"(\\uc8fc)\\ucf58\\ud150\\uce20\\ud310\\ub2e4\",\"(\\uc8fc)\\ud2f0\\uce90\\uc2a4\\ud2b8\",\"(\\uc8fc)\\ud31d\\uc5d4\\ud130\\ud14c\\uc778\\uba3c\\ud2b8\",\"(\\uc8fc)\\ud37c\\uc2a4\\ud2b8\\ub7f0\",\"(\\uc8fc)\\ud504\\ub808\\uc778\\uae00\\ub85c\\ubc8c\",\"CGV\\uc544\\ud2b8\\ud558\\uc6b0\\uc2a4\",\"KT&G \\uc0c1\\uc0c1\\ub9c8\\ub2f9 \\uc601\\ud654\\uc0ac\\uc5c5\\ud300 \\ucef4\\ud37c\\ub2c8\\uc5d0\\uc2a4\\uc5d0\\uc2a4(\\uc8fc)\",\"TCO(\\uc8fc)\\ub354\\ucf58\\ud150\\uce20\\uc628\",\"THE \\ud53d\\uccd0\\uc2a4\",\"\\u321c\\uc778\\ub514\\uc2a4\\ud1a0\\ub9ac\",\"\\u321c\\ucf54\\ub9ac\\uc544\\uc2a4\\ud06c\\ub9b0\",\"\\uadf8\\ub9b0\\ub098\\ub798\\ubbf8\\ub514\\uc5b4(\\uc8fc)\",\"\\ub178\\ubc14\\uc5d4\\ud130\\ud14c\\uc778\\uba3c\\ud2b8\",\"\\ub86f\\ub370\\uc1fc\\ud551\\u321c\\ub86f\\ub370\\uc5d4\\ud130\\ud14c\\uc778\\uba3c\\ud2b8\",\"\\uba54\\uac00\\ubc15\\uc2a4\\uc911\\uc559(\\uc8fc)\\ud50c\\ub7ec\\uc2a4\\uc5e0\",\"\\uc2dc\\ub124\\ub9c8 \\ub274\\uc6d0\",\"\\uc528\\ub124\\uadf8\\ub8e8(\\uc8fc)\\ub2e4\\uc6b0\\uae30\\uc220\",\"\\uc5d0\\uc2a4\\ub514\\uc2dc\\ucf54\\ub9ac\\uc544 \\uc8fc\\uc2dd\\ud68c\\uc0ac\",\"\\uc5d0\\uc774\\uc6d0\\uc5d4\\ud130\\ud14c\\uc778\\uba3c\\ud2b8\",\"\\uc601\\ud654\\uc0ac \\ubbfc\\ub4e4\\ub808\",\"\\uc608\\uc9c0\\ub9bc\\uc5d4\\ud130\\ud14c\\uc778\\uba3c\\ud2b8\",\"\\uc624\\ub4dc\",\"\\uc624\\ud37c\\uc2a4\\ud53d\\uccd0\\uc2a4(\\uc720)\",\"\\uc640\\uc774\\ub4dc \\ub9b4\\ub9ac\\uc988(\\uc8fc)\",\"\\uc6cc\\ub108\\ube0c\\ub7ec\\ub354\\uc2a4 \\ucf54\\ub9ac\\uc544(\\uc8fc)\",\"\\uc6cc\\ud130\\ud640\\ucef4\\ud37c\\ub2c8(\\uc8fc)\",\"\\uc6d4\\ud2b8\\ub514\\uc988\\ub2c8\\ucef4\\ud37c\\ub2c8\\ucf54\\ub9ac\\uc544 \\uc720\\ud55c\\ucc45\\uc784\\ud68c\\uc0ac\",\"\\uc6d4\\ud2b8\\ub514\\uc988\\ub2c8\\ucef4\\ud37c\\ub2c8\\ucf54\\ub9ac\\uc544(\\uc8fc)\",\"\\uc720\\ub2c8\\ubc84\\uc124\\ud53d\\uccd0\\uc2a4\\uc778\\ud130\\ub0b4\\uc154\\ub110 \\ucf54\\ub9ac\\uc544(\\uc720)\",\"\\uc774\\uc2ed\\uc138\\uae30\\ud3ed\\uc2a4\\ucf54\\ub9ac\\uc544(\\uc8fc)\",\"\\uc8fc\\uc2dd\\ud68c\\uc0ac \\ub354\\ucff1\",\"\\uc8fc\\uc2dd\\ud68c\\uc0ac \\ub514\\uc5d0\\uc2a4\\uc774\\uc774\\ub514\",\"\\uc8fc\\uc2dd\\ud68c\\uc0ac \\ub9c8\\uc6b4\\ud2f4\\ud53d\\uccd0\\uc2a4\",\"\\uc8fc\\uc2dd\\ud68c\\uc0ac \\uc1fc\\ubbf8\\ubbf8\\ub514\\uc5b4\\uc564\\ud2b8\\ub808\\uc774\\ub529\",\"\\uc8fc\\uc2dd\\ud68c\\uc0ac \\uc528\\ub124\\ub8e9\\uc2a4\",\"\\uc8fc\\uc2dd\\ud68c\\uc0ac \\uc6b0\\ub9ac\\ub124\\ud2b8\\uc6cd\\uc2a4\",\"\\ucc2c\\ub780\",\"\\ud310\\uc528\\ub124\\ub9c8(\\uc8fc)\",\"\\ud544\\ub77c\\uba58\\ud2b8\\ud53d\\uccd0\\uc2a4\",\"(\\uc720)\\uc870\\uc774\\uc564\\uc2dc\\ub124\\ub9c8\",\"(\\uc7ac)CBS\",\"(\\uc8fc)\\ub098\\uc774\\ub108\\uc2a4\\uc5d4\\ud130\\ud14c\\uc778\\uba3c\\ud2b8\",\"(\\uc8fc)\\ub125\\uc2a4\\ud2b8\\uc5d4\\ud130\\ud14c\\uc778\\uba3c\\ud2b8\\uc6d4\\ub4dc(NEW)\",\"(\\uc8fc)\\ub204\\ub9ac\\ud53d\\uccd0\\uc2a4\",\"(\\uc8fc)\\ub300\\uba85\\ubb38\\ud654\\uacf5\\uc7a5\",\"(\\uc8fc)\\ub354\\ube14\\uc564\\uc870\\uc774\\ud53d\\uccd0\\uc2a4\",\"(\\uc8fc)\\ub4dc\\ub9bc\\ud329\\ud2b8\\uc5d4\\ud130\\ud14c\\uc778\\uba3c\\ud2b8\",\"(\\uc8fc)\\ub514\\uc2a4\\ud14c\\uc774\\uc158\",\"(\\uc8fc)\\ub77c\\uc774\\ud06c\\ucf58\\ud150\\uce20\",\"(\\uc8fc)\\ub9ac\\ud2c0\\ube45\\ud53d\\uccd0\\uc2a4\",\"(\\uc8fc)\\ub9c8\\ub178\\uc5d4\\ud130\\ud14c\\uc778\\uba3c\\ud2b8\",\"(\\uc8fc)\\uba38\\uc2a4\\ud2b8\\uc528\\ubb34\\ube44\\ub9b4\\ub9ac\\uc9d5\\ucef4\\ud37c\\ub2c8\",\"(\\uc8fc)\\ubaa8\\uba58\\ud140\\uc5d4\\ud130\\ud14c\\uc778\\uba3c\\ud2b8\",\"(\\uc8fc)\\ubbf8\\ub514\\uc5b4\\uce90\\uc2ac\",\"(\\uc8fc)\\ubbf8\\ub85c\\uc2a4\\ud398\\uc774\\uc2a4\",\"(\\uc8fc)\\ubc15\\uc218\\uc5d4\\ud130\\ud14c\\uc778\\uba3c\\ud2b8\",\"(\\uc8fc)\\ube0c\\ub9ac\\uc988\\ud53d\\ucc98\\uc2a4\",\"(\\uc8fc)\\ube14\\ub8f8\\uc988\\ubca0\\ub9ac\\ub9ac\\uc18c\\uc2dc\\uc2a4\\ub9ac\\ubbf8\\ud2f0\\ub4dc\",\"(\\uc8fc)\\uc0bc\\uc9c0\\uc560\\ub2c8\\uba54\\uc774\\uc158\",\"(\\uc8fc)\\uc1fc\\ubc15\\uc2a4\",\"(\\uc8fc)\\uc2a4\\ud1b0\\ud53d\\uccd0\\uc2a4\\ucf54\\ub9ac\\uc544\",\"(\\uc8fc)\\uc2dc\\ub124\\ub9c8\\ub2ec\",\"(\\uc8fc)\\uc2dc\\ub124\\ub9c8\\uc11c\\ube44\\uc2a4\",\"(\\uc8fc)\\uc2f8\\uc774\\ub354\\uc2a4\",\"(\\uc8fc)\\uc528\\ub124\\ud074\\ub7fd\\ubd09\\ubd09\\ubbf8\\uc5d8\",\"(\\uc8fc)\\uc528\\uc81c\\uc774\\uc774\\uc5d4\\uc5e0\",\"(\\uc8fc)\\uc544\\uc774\\ucf54\\ub2c9\\uc2a4\",\"(\\uc8fc)\\uc560\\ub2c8\\ud50c\\ub7ec\\uc2a4\",\"(\\uc8fc)\\uc5d0\\uc2a4\\uc640\\uc774\\ucf54\\ub9c8\\ub4dc\",\"(\\uc8fc)\\uc5e3\\ub098\\uc778\\ud544\\ub984\",\"(\\uc8fc)\\uc601\\ud654\\uc0ac \\ube45\",\"(\\uc8fc)\\uc601\\ud654\\uc0ac \\uc548\\ub2e4\\ubbf8\\ub85c\",\"(\\uc8fc)\\uc601\\ud654\\uc0ac \\uc9c4\\uc9c4\",\"(\\uc8fc)\\uc601\\ud654\\uc0ac\\uc120\",\"(\\uc8fc)\\uc601\\ud654\\uc81c\\uc791\\uc804\\uc6d0\\uc0ac \",\"(\\uc8fc)\\uc640\\uc6b0\\ud53d\\uccd0\\uc2a4\",\"(\\uc8fc)\\uc720\\ub85c\\ucee4\\ubba4\\ub2c8\\ucf00\\uc774\\uc158\",\"(\\uc8fc)\\uc774\\uc218C&E\",\"(\\uc8fc)\\uc778\\ub514\\ud50c\\ub7ec\\uadf8\",\"(\\uc8fc)\\uc778\\ubca4\\ud2b8\\uc2a4\\ud1a4\",\"(\\uc8fc)\\uc81c\\uc774\\uc564\\uc528\\ubbf8\\ub514\\uc5b4\\uadf8\\ub8f9\",\"(\\uc8fc)\\ucf58\\ud150\\uce20 \\ub09c\\ub2e4\\uae34\\ub2e4\",\"(\\uc8fc)\\ucf58\\ud150\\uce20\\ud310\\ub2e4\",\"(\\uc8fc)\\ud06c\\ub9ac\\ud53d\\uccd0\\uc2a4\",\"(\\uc8fc)\\ud0a4\\ub2e4\\ub9ac\\uc774\\uc5d4\\ud2f0\",\"(\\uc8fc)\\ud2f0\\uce90\\uc2a4\\ud2b8\",\"(\\uc8fc)\\ud31d\\uc5d4\\ud130\\ud14c\\uc778\\uba3c\\ud2b8\",\"(\\uc8fc)\\ud37c\\uc2a4\\ud2b8\\ub7f0\",\"(\\uc8fc)\\ud504\\ub808\\uc778\\uae00\\ub85c\\ubc8c\",\"CGV\\uc544\\ud2b8\\ud558\\uc6b0\\uc2a4\",\"KT&G \\uc0c1\\uc0c1\\ub9c8\\ub2f9 \\uc601\\ud654\\uc0ac\\uc5c5\\ud300 \\ucef4\\ud37c\\ub2c8\\uc5d0\\uc2a4\\uc5d0\\uc2a4(\\uc8fc)\",\"TCO(\\uc8fc)\\ub354\\ucf58\\ud150\\uce20\\uc628\",\"THE \\ud53d\\uccd0\\uc2a4\",\"\\u321c\\ucf54\\ub9ac\\uc544\\uc2a4\\ud06c\\ub9b0\",\"\\uadf8\\ub9b0\\ub098\\ub798\\ubbf8\\ub514\\uc5b4(\\uc8fc)\",\"\\uae00\\ubafc \\uc8fc\\uc2dd\\ud68c\\uc0ac\",\"\\ub178\\ubc14\\uc5d4\\ud130\\ud14c\\uc778\\uba3c\\ud2b8\",\"\\ub86f\\ub370\\uc1fc\\ud551\\u321c\\ub86f\\ub370\\uc5d4\\ud130\\ud14c\\uc778\\uba3c\\ud2b8\",\"\\uba54\\uac00\\ubc15\\uc2a4\\uc911\\uc559(\\uc8fc)\\ud50c\\ub7ec\\uc2a4\\uc5e0\",\"\\ube0c\\ub9bf\\uc9c0\\uc6cd\\uc2a4 \\uc5d4\\ud130\\ud14c\\uc778\\uba3c\\ud2b8(\\uc8fc)\",\"\\uc2a4\\ud29c\\ub514\\uc624 \\ud504\\ub85c\\uadf8\\ub808\\uc2dc\\ube0c \\uc778\\ud050\\ubca0\\uc774\\ud130\",\"\\uc2dc\\ub124\\ub9c8 \\ub274\\uc6d0\",\"\\uc528\\uc81c\\uc774 \\uc528\\uc9c0\\ube0c\\uc774(CJ CGV)(\\uc8fc)\",\"\\uc601\\ud654\\uc0ac \\ub9c8\\ub18d(\\uc8fc)\",\"\\uc608\\uc9c0\\ub9bc\\uc5d4\\ud130\\ud14c\\uc778\\uba3c\\ud2b8\",\"\\uc624\\ub4dc\",\"\\uc624\\ud37c\\uc2a4\\ud53d\\uccd0\\uc2a4(\\uc720)\",\"\\uc640\\uc774\\ub4dc \\ub9b4\\ub9ac\\uc988(\\uc8fc)\",\"\\uc6cc\\ub108\\ube0c\\ub7ec\\ub354\\uc2a4 \\ucf54\\ub9ac\\uc544(\\uc8fc)\",\"\\uc6d4\\ud2b8\\ub514\\uc988\\ub2c8\\ucef4\\ud37c\\ub2c8\\ucf54\\ub9ac\\uc544 \\uc720\\ud55c\\ucc45\\uc784\\ud68c\\uc0ac\",\"\\uc6d4\\ud2b8\\ub514\\uc988\\ub2c8\\ucef4\\ud37c\\ub2c8\\ucf54\\ub9ac\\uc544(\\uc8fc)\",\"\\uc720\\ub2c8\\ubc84\\uc124\\ud53d\\uccd0\\uc2a4\\uc778\\ud130\\ub0b4\\uc154\\ub110 \\ucf54\\ub9ac\\uc544(\\uc720)\",\"\\uc774\\uc2ed\\uc138\\uae30\\ud3ed\\uc2a4\\ucf54\\ub9ac\\uc544(\\uc8fc)\",\"\\uc8fc\\uc2dd\\ud68c\\uc0ac \\ub354\\ucff1\",\"\\uc8fc\\uc2dd\\ud68c\\uc0ac \\uc1fc\\ubbf8\\ubbf8\\ub514\\uc5b4\\uc564\\ud2b8\\ub808\\uc774\\ub529\",\"\\uc8fc\\uc2dd\\ud68c\\uc0ac \\uc528\\ub124\\ub8e9\\uc2a4\",\"\\uc8fc\\uc2dd\\ud68c\\uc0ac \\uc628 \\ud53c\\ud06c\",\"\\uc8fc\\uc2dd\\ud68c\\uc0ac \\uc653\\ucc60\",\"\\ucc2c\\ub780\",\"\\ud30c\\uc774\\uc624\\ub2c8\\uc54421\",\"\\ud310\\uc528\\ub124\\ub9c8(\\uc8fc)\",\"\\ud314\\ub808\\ub4dc\\uc2dc\\ub124\\ub9c8(\\uc8fc)\",\"(\\uc7ac)CBS\",\"(\\uc8fc) \\ub8e8\\uc2a4\\uc774\\uc18c\\ub2c8\\ub3c4\\uc2a4\",\"(\\uc8fc)\\uadf8\\ub780\",\"(\\uc8fc)\\ub098\\uc774\\ub108\\uc2a4\\uc5d4\\ud130\\ud14c\\uc778\\uba3c\\ud2b8\",\"(\\uc8fc)\\ub125\\uc2a4\\ud2b8\\uc5d4\\ud130\\ud14c\\uc778\\uba3c\\ud2b8\\uc6d4\\ub4dc(NEW)\",\"(\\uc8fc)\\ub204\\ub9ac\\ud53d\\uccd0\\uc2a4\",\"(\\uc8fc)\\ub2e4\\uc790\\uc778\\uc18c\\ud504\\ud2b8\",\"(\\uc8fc)\\ub354\\ube14\\uc564\\uc870\\uc774\\ud53d\\uccd0\\uc2a4\",\"(\\uc8fc)\\ub4dc\\ub9bc\\ud329\\ud2b8\\uc5d4\\ud130\\ud14c\\uc778\\uba3c\\ud2b8\",\"(\\uc8fc)\\ub514\\uc2a4\\ud14c\\uc774\\uc158\",\"(\\uc8fc)\\ub514\\uc624\\uc2dc\\ub124\\ub9c8\",\"(\\uc8fc)\\ub77c\\uc774\\ud06c\\ucf58\\ud150\\uce20\",\"(\\uc8fc)\\ub808\\uc778\\uba54\\uc774\\ucee4\\ud544\\ub984\",\"(\\uc8fc)\\ub9ac\\ud2c0\\ube45\\ud53d\\uccd0\\uc2a4\",\"(\\uc8fc)\\ub9c8\\ub178\\uc5d4\\ud130\\ud14c\\uc778\\uba3c\\ud2b8\",\"(\\uc8fc)\\uba38\\uc2a4\\ud2b8\\uc528\\ubb34\\ube44\\ub9b4\\ub9ac\\uc9d5\\ucef4\\ud37c\\ub2c8\",\"(\\uc8fc)\\uba54\\uc778\\ud0c0\\uc774\\ud2c0\\ud53d\\uccd0\\uc2a4\",\"(\\uc8fc)\\uba54\\ud0c0\\ud50c\\ub808\\uc774\",\"(\\uc8fc)\\ubaa8\\uba58\\ud140\\uc5d4\\ud130\\ud14c\\uc778\\uba3c\\ud2b8\",\"(\\uc8fc)\\ubb34\\ube59\\ud53d\\uccd0\\uc2a4\\ucef4\\ud37c\\ub2c8\",\"(\\uc8fc)\\ubbf8\\ub514\\uc5b4\\ub85c\\uadf8\",\"(\\uc8fc)\\ubbf8\\ub514\\uc5b4\\uce90\\uc2ac\",\"(\\uc8fc)\\ubc15\\uc218\\uc5d4\\ud130\\ud14c\\uc778\\uba3c\\ud2b8\",\"(\\uc8fc)\\ube0c\\ub9ac\\uc988\\ud53d\\ucc98\\uc2a4\",\"(\\uc8fc)\\uc0bc\\uc9c0\\uc560\\ub2c8\\uba54\\uc774\\uc158\",\"(\\uc8fc)\\uc1fc\\ubc15\\uc2a4\",\"(\\uc8fc)\\uc2a4\\ub9c8\\uc77c\\uc774\\uc5d4\\ud2f0\",\"(\\uc8fc)\\uc2a4\\ud1b0\\ud53d\\uccd0\\uc2a4\\ucf54\\ub9ac\\uc544\",\"(\\uc8fc)\\uc2a4\\ud29c\\ub514\\uc624\\ub514\\uc5d0\\uc774\\uce58\\uc5d8\",\"(\\uc8fc)\\uc2dc\\ub124\\ub9c8\\ub2ec\",\"(\\uc8fc)\\uc2f8\\uc774\\ub354\\uc2a4\",\"(\\uc8fc)\\uc528\\uc81c\\uc774\\uc774\\uc5d4\\uc5e0\",\"(\\uc8fc)\\uc5d0\\uc2a4\\uc640\\uc774\\ucf54\\ub9c8\\ub4dc\",\"(\\uc8fc)\\uc5d0\\uc774\\uc6d0\\uc5d4\\ud130\\ud14c\\uc778\\uba3c\\ud2b8\",\"(\\uc8fc)\\uc5e3\\ub098\\uc778\\ud544\\ub984\",\"(\\uc8fc)\\uc601\\ud654\\uc0ac \\uadf8\\ub7a8\",\"(\\uc8fc)\\uc601\\ud654\\uc0ac \\ube45\",\"(\\uc8fc)\\uc601\\ud654\\uc0ac \\uc9c4\\uc9c4\",\"(\\uc8fc)\\uc601\\ud654\\uc0ac\\uc120\",\"(\\uc8fc)\\uc601\\ud654\\uc0ac\\uc624\\uc6d0\",\"(\\uc8fc)\\uc601\\ud654\\uc81c\\uc791\\uc804\\uc6d0\\uc0ac \",\"(\\uc8fc)\\uc720\\ub85c\\ucee4\\ubba4\\ub2c8\\ucf00\\uc774\\uc158\",\"(\\uc8fc)\\uc774\\uc218C&E\",\"(\\uc8fc)\\uc778\\ub514\\ud50c\\ub7ec\\uadf8\",\"(\\uc8fc)\\uc77c\\ub808\\ube10\\uc5d4\\ud130\\ud14c\\uc778\\uba3c\\ud2b8\",\"(\\uc8fc)\\uc81c\\uc774\\uc564\\uc528\\ubbf8\\ub514\\uc5b4\\uadf8\\ub8f9\",\"(\\uc8fc)\\ucf58\\ud150\\uce20\\ud310\\ub2e4\",\"(\\uc8fc)\\ud06c\\ub9ac\\ud53d\\uccd0\\uc2a4\",\"(\\uc8fc)\\ud0a4\\ub2e4\\ub9ac\\uc774\\uc5d4\\ud2f0\",\"(\\uc8fc)\\ud0a4\\uc704\\ubbf8\\ub514\\uc5b4\\uadf8\\ub8f9\",\"(\\uc8fc)\\ud2f0\\uce90\\uc2a4\\ud2b8\",\"(\\uc8fc)\\ud31d\\uc5d4\\ud130\\ud14c\\uc778\\uba3c\\ud2b8\",\"(\\uc8fc)\\ud328\\ubdf8\\ub7ec\\uc2a4\",\"(\\uc8fc)\\ud37c\\uc2a4\\ud2b8\\ub7f0\",\"(\\uc8fc)\\ud398\\ud37c\\ubbfc\\ud2b8\\uc564\\ucef4\\ud37c\\ub2c8\",\"C \\ubb34\\ube44\",\"CGV\\uc544\\ud2b8\\ud558\\uc6b0\\uc2a4\",\"KBS \\ubbf8\\ub514\\uc5b4\",\"TCO(\\uc8fc)\\ub354\\ucf58\\ud150\\uce20\\uc628\",\"THE \\ud53d\\uccd0\\uc2a4\",\"\\u321c\\uc778\\ub514\\uc2a4\\ud1a0\\ub9ac\",\"\\u321c\\ucf54\\ub9ac\\uc544\\uc2a4\\ud06c\\ub9b0\",\"\\uadf8\\ub9b0\\ub098\\ub798\\ubbf8\\ub514\\uc5b4(\\uc8fc)\",\"\\uae00\\ubafc \\uc8fc\\uc2dd\\ud68c\\uc0ac\",\"\\ub178\\ubc14\\uc5d4\\ud130\\ud14c\\uc778\\uba3c\\ud2b8\",\"\\ub3d9\\uc6b0\\uc5d0\\uc774\\uc564\\uc774(\\uc8fc)\",\"\\ub525 \\ud3ec\\ucee4\\uc2a4\",\"\\ub86f\\ub370\\uc1fc\\ud551\\u321c\\ub86f\\ub370\\uc5d4\\ud130\\ud14c\\uc778\\uba3c\\ud2b8\",\"\\uba54\\uac00\\ubc15\\uc2a4\\uc911\\uc559(\\uc8fc)\\ud50c\\ub7ec\\uc2a4\\uc5e0\",\"\\ubb34\\ube0c\\uba3c\\ud2b8\",\"\\ube0c\\ub9bf\\uc9c0\\uc6cd\\uc2a4 \\uc5d4\\ud130\\ud14c\\uc778\\uba3c\\ud2b8(\\uc8fc)\",\"\\uc18c\\ub2c8\\ud53d\\uccd0\\uc2a4\\uc5d4\\ud130\\ud14c\\uc778\\uba3c\\ud2b8\\ucf54\\ub9ac\\uc544\\uc8fc\\uc2dd\\ud68c\\uc0ac\\uadf9\\uc7a5\\ubc30\\uae09\\uc9c0\\uc810\",\"\\uc528\\uc81c\\uc774 \\uc528\\uc9c0\\ube0c\\uc774(CJ CGV)(\\uc8fc)\",\"\\uc544\\uc774 \\uc5e0\",\"\\uc601\\ud654\\uc0ac \\ubab8\",\"\\uc601\\ud654\\uc0ac \\ud480\",\"\\uc608\\uc9c0\\ub9bc\\uc5d4\\ud130\\ud14c\\uc778\\uba3c\\ud2b8\",\"\\uc624\\ub4dc\",\"\\uc624\\ud37c\\uc2a4\\ud53d\\uccd0\\uc2a4(\\uc720)\",\"\\uc640\\uc774\\ub4dc \\ub9b4\\ub9ac\\uc988(\\uc8fc)\",\"\\uc6cc\\ub108\\ube0c\\ub7ec\\ub354\\uc2a4 \\ucf54\\ub9ac\\uc544(\\uc8fc)\",\"\\uc6d4\\ud2b8\\ub514\\uc988\\ub2c8\\ucef4\\ud37c\\ub2c8\\ucf54\\ub9ac\\uc544 \\uc720\\ud55c\\ucc45\\uc784\\ud68c\\uc0ac\",\"\\uc720\\ub2c8\\ubc84\\uc124\\ud53d\\uccd0\\uc2a4\\uc778\\ud130\\ub0b4\\uc154\\ub110 \\ucf54\\ub9ac\\uc544(\\uc720)\",\"\\uc774\\uc2ed\\uc138\\uae30\\ud3ed\\uc2a4\\ucf54\\ub9ac\\uc544(\\uc8fc)\",\"\\uc774\\uc5b8\\ud53d\\uccd0\\uc2a4\",\"\\uc8fc\\uc2dd\\ud68c\\uc0ac \\ub354\\ucff1\",\"\\uc8fc\\uc2dd\\ud68c\\uc0ac \\uc528\\ub124\\ub8e9\\uc2a4\",\"\\uc8fc\\uc2dd\\ud68c\\uc0ac \\ud0a4\\uc704\\ucef4\\ud37c\\ub2c8\",\"\\ucc2c\\ub780\",\"\\ucee4\\ub125\\ud2b8\\ud53d\\uccd0\\uc2a4(\\uc8fc)\",\"\\ud310\\uc528\\ub124\\ub9c8(\\uc8fc)\",\"\\ud544\\ub77c\\uba58\\ud2b8\\ud53d\\uccd0\\uc2a4\",\"(\\uc7ac)CBS\",\"(\\uc8fc)\\uadf8\\ub178\\uc2a4\",\"(\\uc8fc)\\ub098\\uc774\\ub108\\uc2a4\\uc5d4\\ud130\\ud14c\\uc778\\uba3c\\ud2b8\",\"(\\uc8fc)\\ub125\\uc2a4\\ud2b8\\uc5d4\\ud130\\ud14c\\uc778\\uba3c\\ud2b8\\uc6d4\\ub4dc(NEW)\",\"(\\uc8fc)\\ub204\\ub9ac\\ud53d\\uccd0\\uc2a4\",\"(\\uc8fc)\\ub354\\ube14\\uc564\\uc870\\uc774\\ud53d\\uccd0\\uc2a4\",\"(\\uc8fc)\\ub4dc\\ub9bc\\ud329\\ud2b8\\uc5d4\\ud130\\ud14c\\uc778\\uba3c\\ud2b8\",\"(\\uc8fc)\\ub514\\uc2a4\\ud14c\\uc774\\uc158\",\"(\\uc8fc)\\ub514\\uc624\\uc2dc\\ub124\\ub9c8\",\"(\\uc8fc)\\ub77c\\uc774\\ud06c\\ucf58\\ud150\\uce20\",\"(\\uc8fc)\\ub9ac\\ud2c0\\ube45\\ud53d\\uccd0\\uc2a4\",\"(\\uc8fc)\\ub9c8\\ub178\\uc5d4\\ud130\\ud14c\\uc778\\uba3c\\ud2b8\",\"(\\uc8fc)\\uba38\\uc2a4\\ud2b8\\uc528\\ubb34\\ube44\\ub9b4\\ub9ac\\uc9d5\\ucef4\\ud37c\\ub2c8\",\"(\\uc8fc)\\ubba4\\uc81c\\uc5d4\\ud130\\ud14c\\uc778\\uba3c\\ud2b8\",\"(\\uc8fc)\\ubbf8\\ub514\\uc5b4 \\ub9c8\\uadf8\\ub098\",\"(\\uc8fc)\\ubbf8\\ub514\\uc5b4\\uce90\\uc2ac\",\"(\\uc8fc)\\ubc15\\uc218\\uc5d4\\ud130\\ud14c\\uc778\\uba3c\\ud2b8\",\"(\\uc8fc)\\ubc84\\ud0b7\\uc2a4\\ud29c\\ub514\\uc624\",\"(\\uc8fc)\\ube0c\\ub9ac\\uc988\\ud53d\\ucc98\\uc2a4\",\"(\\uc8fc)\\uc0bc\\ubc31\\uc0c1\\ud68c\",\"(\\uc8fc)\\uc0bc\\uc9c0\\uc560\\ub2c8\\uba54\\uc774\\uc158\",\"(\\uc8fc)\\uc1fc\\ubc15\\uc2a4\",\"(\\uc8fc)\\uc2a4\\ub9c8\\uc77c\\uc774\\uc5d4\\ud2f0\",\"(\\uc8fc)\\uc2a4\\ud1b0\\ud53d\\uccd0\\uc2a4\\ucf54\\ub9ac\\uc544\",\"(\\uc8fc)\\uc2dc\\ub108\\uc9c0\\ubbf8\\ub514\\uc5b4\",\"(\\uc8fc)\\uc2dc\\ub124\\ub9c8\\ub2ec\",\"(\\uc8fc)\\uc2f8\\uc774\\ub354\\uc2a4\",\"(\\uc8fc)\\uc528\\ub124\\ud3ec\\ud2b8\",\"(\\uc8fc)\\uc528\\uc81c\\uc774\\uc774\\uc5d4\\uc5e0\",\"(\\uc8fc)\\uc54c\\uc564\\uc624\\uc5d4\\ud130\\ud14c\\uc778\\uba3c\\ud2b8\",\"(\\uc8fc)\\uc560\\ub2c8\\ud50c\\ub7ec\\uc2a4\",\"(\\uc8fc)\\uc5d0\\uc2a4\\uc640\\uc774\\ucf54\\ub9c8\\ub4dc\",\"(\\uc8fc)\\uc5e0\\uc81c\\uc774\\ud53d\\uccd0\\uc2a4\",\"(\\uc8fc)\\uc5e3\\ub098\\uc778\\ud544\\ub984\",\"(\\uc8fc)\\uc601\\ud654\\uc0ac \\uadf8\\ub7a8\",\"(\\uc8fc)\\uc601\\ud654\\uc0ac \\ube45\",\"(\\uc8fc)\\uc601\\ud654\\uc0ac \\uc9c4\\uc9c4\",\"(\\uc8fc)\\uc601\\ud654\\uc0ac\\uc624\\uc6d0\",\"(\\uc8fc)\\uc601\\ud654\\uc81c\\uc791\\uc804\\uc6d0\\uc0ac \",\"(\\uc8fc)\\uc720\\ub85c\\ucee4\\ubba4\\ub2c8\\ucf00\\uc774\\uc158\",\"(\\uc8fc)\\uc774\\uc218C&E\",\"(\\uc8fc)\\uc778\\ub514\\ud50c\\ub7ec\\uadf8\",\"(\\uc8fc)\\uc81c\\uc774\\uc564\\uc528\\ubbf8\\ub514\\uc5b4\\uadf8\\ub8f9\",\"(\\uc8fc)\\ucf58\\ud150\\uce20 \\ub09c\\ub2e4\\uae34\\ub2e4\",\"(\\uc8fc)\\ucf58\\ud150\\uce20\\ud310\\ub2e4\",\"(\\uc8fc)\\ud0a4\\ub2e4\\ub9ac\\uc774\\uc5d4\\ud2f0\",\"(\\uc8fc)\\ud0a4\\uc704\\ubbf8\\ub514\\uc5b4\\uadf8\\ub8f9\",\"(\\uc8fc)\\ud2b8\\ub9ac\\ud50c\\ud53d\\uccd0\\uc2a4\",\"(\\uc8fc)\\ud2f0\\uce90\\uc2a4\\ud2b8\",\"(\\uc8fc)\\ud31d\\uc5d4\\ud130\\ud14c\\uc778\\uba3c\\ud2b8\",\"(\\uc8fc)\\ud398\\ud37c\\ubbfc\\ud2b8\\uc564\\ucef4\\ud37c\\ub2c8\",\"(\\uc8fc)\\ud648\\ucd08\\uc774\\uc2a4\",\"CGV\\uc544\\ud2b8\\ud558\\uc6b0\\uc2a4\",\"KT&G \\uc0c1\\uc0c1\\ub9c8\\ub2f9 \\uc601\\ud654\\uc0ac\\uc5c5\\ud300 \\ucef4\\ud37c\\ub2c8\\uc5d0\\uc2a4\\uc5d0\\uc2a4(\\uc8fc)\",\"TCO(\\uc8fc)\\ub354\\ucf58\\ud150\\uce20\\uc628\",\"\\u321c\\uc778\\ub514\\uc2a4\\ud1a0\\ub9ac\",\"\\u321c\\ucf54\\ub9ac\\uc544\\uc2a4\\ud06c\\ub9b0\",\"\\uadf8\\ub9b0\\ub098\\ub798\\ubbf8\\ub514\\uc5b4(\\uc8fc)\",\"\\uae00\\ubafc \\uc8fc\\uc2dd\\ud68c\\uc0ac\",\"\\ub86f\\ub370\\uc1fc\\ud551\\u321c\\ub86f\\ub370\\uc5d4\\ud130\\ud14c\\uc778\\uba3c\\ud2b8\",\"\\ub86f\\ub370\\uceec\\ucc98\\uc6cd\\uc2a4(\\uc8fc)\\ub86f\\ub370\\uc5d4\\ud130\\ud14c\\uc778\\uba3c\\ud2b8\",\"\\uba54\\uac00\\ubc15\\uc2a4\\uc911\\uc559(\\uc8fc)\\ud50c\\ub7ec\\uc2a4\\uc5e0\",\"\\ubb34\\ube0c\\uba3c\\ud2b8\",\"\\uc18c\\ub2c8\\ud53d\\uccd0\\uc2a4\\uc5d4\\ud130\\ud14c\\uc778\\uba3c\\ud2b8\\ucf54\\ub9ac\\uc544\\uc8fc\\uc2dd\\ud68c\\uc0ac\\uadf9\\uc7a5\\ubc30\\uae09\\uc9c0\\uc810\",\"\\uc544\\uc774 \\uc5e0\",\"\\uc54c\\ud1a0\\ubbf8\\ub514\\uc5b4(\\uc8fc)\",\"\\uc5d0\\uc2a4\\ub514\\uc2dc\\ucf54\\ub9ac\\uc544 \\uc8fc\\uc2dd\\ud68c\\uc0ac\",\"\\uc601\\ud654\\uc0ac \\ub9c8\\ub18d(\\uc8fc)\",\"\\uc608\\uc9c0\\ub9bc\\uc5d4\\ud130\\ud14c\\uc778\\uba3c\\ud2b8\",\"\\uc624\\ub4dc\",\"\\uc640\\uc774\\ub4dc \\ub9b4\\ub9ac\\uc988(\\uc8fc)\",\"\\uc6cc\\ub108\\ube0c\\ub7ec\\ub354\\uc2a4 \\ucf54\\ub9ac\\uc544(\\uc8fc)\",\"\\uc6d4\\ud2b8\\ub514\\uc988\\ub2c8\\ucef4\\ud37c\\ub2c8\\ucf54\\ub9ac\\uc544 \\uc720\\ud55c\\ucc45\\uc784\\ud68c\\uc0ac\",\"\\uc720\\ub2c8\\ubc84\\uc124\\ud53d\\uccd0\\uc2a4\\uc778\\ud130\\ub0b4\\uc154\\ub110 \\ucf54\\ub9ac\\uc544(\\uc720)\",\"\\uc724\\uc2a4\",\"\\uc774\\uc2ed\\uc138\\uae30\\ud3ed\\uc2a4\\ucf54\\ub9ac\\uc544(\\uc8fc)\",\"\\uc8fc\\uc2dd\\ud68c\\uc0ac \\ub354\\ucff1\",\"\\uc8fc\\uc2dd\\ud68c\\uc0ac \\uc2dc\\uc628\\ud53d\\uccd0\\uc2a4\",\"\\uc8fc\\uc2dd\\ud68c\\uc0ac \\uc528\\ub124\\ub8e9\\uc2a4\",\"\\uc8fc\\uc2dd\\ud68c\\uc0ac \\ud48d\\uacbd\\uc18c\\ub9ac\",\"\\ucee4\\ub125\\ud2b8\\ud53d\\uccd0\\uc2a4(\\uc8fc)\",\"\\ud310\\uc528\\ub124\\ub9c8(\\uc8fc)\",\"\\ud50c\\ub808\\uc774\\ub9ac\\uc2a4\\ud2b8(\\uc8fc)\",\"\\ud798\\ucee8\\ud150\\uce20(\\uc8fc)\",\"(\\uc7ac)CBS\",\"(\\uc8fc)\\ub125\\uc2a4\\ud2b8\\uc5d4\\ud130\\ud14c\\uc778\\uba3c\\ud2b8\\uc6d4\\ub4dc(NEW)\",\"(\\uc8fc)\\ub204\\ub9ac\\ud53d\\uccd0\\uc2a4\",\"(\\uc8fc)\\ub2e4\\ub0a0\\uc5d4\\ud130\\ud14c\\uc778\\uba3c\\ud2b8\",\"(\\uc8fc)\\ub2e4\\uc790\\uc778\\uc18c\\ud504\\ud2b8\",\"(\\uc8fc)\\ub354 \\ud53c\\ud50c\",\"(\\uc8fc)\\ub371\\uc2a4\\ud130\\uc2a4\\ud29c\\ub514\\uc624\",\"(\\uc8fc)\\ub4dc\\ub9bc\\ud329\\ud2b8\\uc5d4\\ud130\\ud14c\\uc778\\uba3c\\ud2b8\",\"(\\uc8fc)\\ub514\\uc2a4\\ud14c\\uc774\\uc158\",\"(\\uc8fc)\\ub514\\uc624\\uc2dc\\ub124\\ub9c8\",\"(\\uc8fc)\\ub77c\\uc774\\ud06c\\ucf58\\ud150\\uce20\",\"(\\uc8fc)\\ub9ac\\ud2c0\\ube45\\ud53d\\uccd0\\uc2a4\",\"(\\uc8fc)\\ub9c8\\ub178\\uc5d4\\ud130\\ud14c\\uc778\\uba3c\\ud2b8\",\"(\\uc8fc)\\uba54\\ub9ac\\ud06c\\ub9ac\\uc2a4\\ub9c8\\uc2a4\",\"(\\uc8fc)\\ubbf8\\ub514\\uc5b4\\uce90\\uc2ac\",\"(\\uc8fc)\\ubc15\\uc218\\uc5d4\\ud130\\ud14c\\uc778\\uba3c\\ud2b8\",\"(\\uc8fc)\\ubc84\\ud0b7\\uc2a4\\ud29c\\ub514\\uc624\",\"(\\uc8fc)\\ube0c\\ub9ac\\uc988\\ud53d\\ucc98\\uc2a4\",\"(\\uc8fc)\\uc0bc\\ubc31\\uc0c1\\ud68c\",\"(\\uc8fc)\\uc140\\ud2b8\\ub9ac\\uc628\\uc5d4\\ud130\\ud14c\\uc778\\uba3c\\ud2b8\",\"(\\uc8fc)\\uc1fc\\ubc15\\uc2a4\",\"(\\uc8fc)\\uc2a4\\ub9c8\\uc77c\\uc774\\uc5d4\\ud2f0\",\"(\\uc8fc)\\uc2a4\\ud1b0\\ud53d\\uccd0\\uc2a4\\ucf54\\ub9ac\\uc544\",\"(\\uc8fc)\\uc2dc\\ub124\\ub9c8\\ub2ec\",\"(\\uc8fc)\\uc2f8\\uc774\\ub354\\uc2a4\",\"(\\uc8fc)\\uc528\\ub124\\ud3ec\\ud2b8\",\"(\\uc8fc)\\uc528\\uc81c\\uc774\\uc774\\uc5d4\\uc5e0\",\"(\\uc8fc)\\uc560\\ub2c8\\ud50c\\ub7ec\\uc2a4\",\"(\\uc8fc)\\uc5d0\\uc2a4\\uc640\\uc774\\ucf54\\ub9c8\\ub4dc\",\"(\\uc8fc)\\uc5d0\\uc774\\uc2a4\\uba54\\uc774\\ucee4\\ubb34\\ube44\\uc6cd\\uc2a4\",\"(\\uc8fc)\\uc5e3\\ub098\\uc778\\ud544\\ub984\",\"(\\uc8fc)\\uc601\\ud654\\uc0ac \\uadf8\\ub7a8\",\"(\\uc8fc)\\uc601\\ud654\\uc0ac \\ube45\",\"(\\uc8fc)\\uc601\\ud654\\uc0ac \\uc9c4\\uc9c4\",\"(\\uc8fc)\\uc601\\ud654\\uc0ac\\uba54\\uc774\\ud50c\\ub7ec\\uc2a4\",\"(\\uc8fc)\\uc601\\ud654\\uc0ac\\uc624\\uc6d0\",\"(\\uc8fc)\\uc601\\ud654\\uc81c\\uc791\\uc804\\uc6d0\\uc0ac \",\"(\\uc8fc)\\uc601\\ud654\\ud2b9\\ubcc4\\uc2dc\\uc5d0\\uc2a4\\uc5e0\\uc528\",\"(\\uc8fc)\\uc62c\\uc2a4\\ud0c0\\uc5d4\\ud130\\ud14c\\uc778\\uba3c\\ud2b8\",\"(\\uc8fc)\\uc774\\ub180\\ubbf8\\ub514\\uc5b4\",\"(\\uc8fc)\\uc774\\uc218C&E\",\"(\\uc8fc)\\uc778\\ub514\\ud50c\\ub7ec\\uadf8\",\"(\\uc8fc)\\uc81c\\uc774\\uc564\\uc528\\ubbf8\\ub514\\uc5b4\\uadf8\\ub8f9\",\"(\\uc8fc)\\uc88b\\uc740 \\ud558\\ub298\",\"(\\uc8fc)\\ucf00\\uc774\\ud2f0\\uc54c\\ud30c\",\"(\\uc8fc)\\ucf58\\ud150\\uce20 \\ub09c\\ub2e4\\uae34\\ub2e4\",\"(\\uc8fc)\\ucf58\\ud150\\uce20\\uc719\",\"(\\uc8fc)\\ucf58\\ud150\\uce20\\ud310\\ub2e4\",\"(\\uc8fc)\\ud06c\\ub9ac\\ud53d\\uccd0\\uc2a4\",\"(\\uc8fc)\\ud0a4\\ub2e4\\ub9ac\\uc774\\uc5d4\\ud2f0\",\"(\\uc8fc)\\ud0a4\\uc704\\ubbf8\\ub514\\uc5b4\\uadf8\\ub8f9\",\"(\\uc8fc)\\ud2b8\\ub9ac\\ud50c\\ud53d\\uccd0\\uc2a4\",\"(\\uc8fc)\\ud2f0\\uce90\\uc2a4\\ud2b8\",\"(\\uc8fc)\\ud31d\\uc5d4\\ud130\\ud14c\\uc778\\uba3c\\ud2b8\",\"(\\uc8fc)\\ud32c\\uc5d4\\ud130\\ud14c\\uc778\\uba3c\\ud2b8\",\"(\\uc8fc)\\ud37c\\uc2a4\\ud2b8\\ub7f0\",\"(\\uc8fc)\\ud648\\ucd08\\uc774\\uc2a4\",\"CGV ICECON\",\"CGV\\uc544\\ud2b8\\ud558\\uc6b0\\uc2a4\",\"TCO(\\uc8fc)\\ub354\\ucf58\\ud150\\uce20\\uc628\",\"\\u321c\\uc601\\ud654\\uc0ac \\ubc31\\ub450\\ub300\\uac04\",\"\\u321c\\uc778\\ub514\\uc2a4\\ud1a0\\ub9ac\",\"\\uadf8\\ub9b0\\ub098\\ub798\\ubbf8\\ub514\\uc5b4(\\uc8fc)\",\"\\uae00\\ubafc \\uc8fc\\uc2dd\\ud68c\\uc0ac\",\"\\ub178\\ubc14\\uc5d4\\ud130\\ud14c\\uc778\\uba3c\\ud2b8\",\"\\ub3d9\\uc6b0\\uc5d0\\uc774\\uc564\\uc774(\\uc8fc)\",\"\\ub86f\\ub370\\uceec\\ucc98\\uc6cd\\uc2a4(\\uc8fc)\\ub86f\\ub370\\uc5d4\\ud130\\ud14c\\uc778\\uba3c\\ud2b8\",\"\\uba54\\uac00\\ubc15\\uc2a4\\uc911\\uc559(\\uc8fc)\\ud50c\\ub7ec\\uc2a4\\uc5e0\",\"\\ubb34\\ube0c\\uba3c\\ud2b8\",\"\\uc18c\\ub2c8\\ud53d\\uccd0\\uc2a4\\uc5d4\\ud130\\ud14c\\uc778\\uba3c\\ud2b8\\ucf54\\ub9ac\\uc544\\uc8fc\\uc2dd\\ud68c\\uc0ac\\uadf9\\uc7a5\\ubc30\\uae09\\uc9c0\\uc810\",\"\\uc2dc\\ub124\\ub9c8 \\ub274\\uc6d0\",\"\\uc544\\uc774 \\uc5e0\",\"\\uc54c\\ud1a0\\ubbf8\\ub514\\uc5b4(\\uc8fc)\",\"\\uc601\\ud654\\uc0ac \\ud480\",\"\\uc608\\uc9c0\\ub9bc\\uc5d4\\ud130\\ud14c\\uc778\\uba3c\\ud2b8\",\"\\uc624\\ub4dc\",\"\\uc624\\ud0a4\\ub137\",\"\\uc640\\uc774\\ub4dc \\ub9b4\\ub9ac\\uc988(\\uc8fc)\",\"\\uc6cc\\ub108\\ube0c\\ub7ec\\ub354\\uc2a4 \\ucf54\\ub9ac\\uc544(\\uc8fc)\",\"\\uc6cc\\ud130\\ud640\\ucef4\\ud37c\\ub2c8(\\uc8fc)\",\"\\uc6d4\\ud2b8\\ub514\\uc988\\ub2c8\\ucef4\\ud37c\\ub2c8\\ucf54\\ub9ac\\uc544 \\uc720\\ud55c\\ucc45\\uc784\\ud68c\\uc0ac\",\"\\uc720\\ub2c8\\ubc84\\uc124\\ud53d\\uccd0\\uc2a4\\uc778\\ud130\\ub0b4\\uc154\\ub110 \\ucf54\\ub9ac\\uc544(\\uc720)\",\"\\uc774\\uc2ed\\uc138\\uae30\\ud3ed\\uc2a4\\ucf54\\ub9ac\\uc544(\\uc8fc)\",\"\\uc774\\uc5b8\\ud53d\\uccd0\\uc2a4\",\"\\uc8fc\\uc2dd\\ud68c\\uc0ac \\ub354\\ucff1\",\"\\uc8fc\\uc2dd\\ud68c\\uc0ac \\ub9c8\\uc6b4\\ud2f4\\ud53d\\uccd0\\uc2a4\",\"\\uc8fc\\uc2dd\\ud68c\\uc0ac \\uc288\\uc544\\ud53d\\ucc98\\uc2a4\",\"\\ucc2c\\ub780\",\"\\ucee4\\ub125\\ud2b8\\ud53d\\uccd0\\uc2a4(\\uc8fc)\",\"\\ud310\\uc528\\ub124\\ub9c8(\\uc8fc)\",\"\\ud50c\\ub808\\uc774\\ub9ac\\uc2a4\\ud2b8(\\uc8fc)\",\"(\\uc720)\\uc870\\uc774\\uc564\\uc2dc\\ub124\\ub9c8\",\"(\\uc8fc)\\uadf8\\ub178\\uc2a4\",\"(\\uc8fc)\\ub125\\uc2a4\\ud2b8\\uc5d4\\ud130\\ud14c\\uc778\\uba3c\\ud2b8\\uc6d4\\ub4dc(NEW)\",\"(\\uc8fc)\\ub204\\ub9ac\\ud53d\\uccd0\\uc2a4\",\"(\\uc8fc)\\ub2e4\\ub0a0\\uc5d4\\ud130\\ud14c\\uc778\\uba3c\\ud2b8\",\"(\\uc8fc)\\ub2e4\\uc790\\uc778\\uc18c\\ud504\\ud2b8\",\"(\\uc8fc)\\ub300\\uad50 \\ubbf8\\ub514\\uc5b4\\ucf58\\ud150\\uce20\\uc0ac\\uc5c5\\ubcf8\\ubd80\",\"(\\uc8fc)\\ub354\\ube14\\uc564\\uc870\\uc774\\ud53d\\uccd0\\uc2a4\",\"(\\uc8fc)\\ub4dc\\ub9bc\\ud329\\ud2b8\\uc5d4\\ud130\\ud14c\\uc778\\uba3c\\ud2b8\",\"(\\uc8fc)\\ub514\\uc2a4\\ud14c\\uc774\\uc158\",\"(\\uc8fc)\\ub514\\uc624\\uc2dc\\ub124\\ub9c8\",\"(\\uc8fc)\\ub77c\\uc774\\ud06c\\ucf58\\ud150\\uce20\",\"(\\uc8fc)\\ub7a0\\ub9ac\\ubc84\\ud2bc\",\"(\\uc8fc)\\ub960\\ud544\\ub984\",\"(\\uc8fc)\\ub9ac\\ud2c0\\ube45\\ud53d\\uccd0\\uc2a4\",\"(\\uc8fc)\\ub9c8\\ub178\\uc5d4\\ud130\\ud14c\\uc778\\uba3c\\ud2b8\",\"(\\uc8fc)\\ubbf8\\ub85c\\uc2a4\\ud398\\uc774\\uc2a4\",\"(\\uc8fc)\\ubc15\\uc218\\uc5d4\\ud130\\ud14c\\uc778\\uba3c\\ud2b8\",\"(\\uc8fc)\\ubc84\\ud0b7\\uc2a4\\ud29c\\ub514\\uc624\",\"(\\uc8fc)\\ube45\\uc6e8\\uc774\\ube0c\\uc2dc\\ub124\\ub9c8\",\"(\\uc8fc)\\uc0bc\\ubc31\\uc0c1\\ud68c\",\"(\\uc8fc)\\uc1fc\\ubc15\\uc2a4\",\"(\\uc8fc)\\uc2a4\\ub9c8\\uc77c\\uc774\\uc5d4\\ud2f0\",\"(\\uc8fc)\\uc2a4\\ud1b0\\ud53d\\uccd0\\uc2a4\\ucf54\\ub9ac\\uc544\",\"(\\uc8fc)\\uc2a4\\ud29c\\ub514\\uc624 \\ubcf4\\ub09c\\uc790\",\"(\\uc8fc)\\uc2f8\\uc774\\ub354\\uc2a4\",\"(\\uc8fc)\\uc528\\ub124\\ud544\\uc6b4\",\"(\\uc8fc)\\uc528\\uc81c\\uc774\\uc774\\uc5d4\\uc5e0\",\"(\\uc8fc)\\uc560\\ub2c8\\ud50c\\ub7ec\\uc2a4\",\"(\\uc8fc)\\uc5d0\\uc2a4\\uc640\\uc774\\ucf54\\ub9c8\\ub4dc\",\"(\\uc8fc)\\uc5d0\\uc774\\uc2a4\\uba54\\uc774\\ucee4\\ubb34\\ube44\\uc6cd\\uc2a4\",\"(\\uc8fc)\\uc5d0\\uc774\\uc378\\uc5d4\\ud130\\ud14c\\uc778\\uba3c\\ud2b8\",\"(\\uc8fc)\\uc5d0\\uc774\\uc6d0\\uc5d4\\ud130\\ud14c\\uc778\\uba3c\\ud2b8\",\"(\\uc8fc)\\uc5d4\\ucf00\\uc774\\ucee8\\ud150\\uce20\",\"(\\uc8fc)\\uc5e3\\ub098\\uc778\\ud544\\ub984\",\"(\\uc8fc)\\uc601\\ud654\\uc0ac \\uadf8\\ub7a8\",\"(\\uc8fc)\\uc601\\ud654\\uc0ac \\ube45\",\"(\\uc8fc)\\uc601\\ud654\\uc0ac \\uc548\\ub2e4\\ubbf8\\ub85c\",\"(\\uc8fc)\\uc601\\ud654\\uc0ac \\uc9c4\\uc9c4\",\"(\\uc8fc)\\uc601\\ud654\\uc0ac\\uc624\\uc6d0\",\"(\\uc8fc)\\uc601\\ud654\\uc81c\\uc791\\uc804\\uc6d0\\uc0ac \",\"(\\uc8fc)\\uc601\\ud654\\ud2b9\\ubcc4\\uc2dc\\uc5d0\\uc2a4\\uc5e0\\uc528\",\"(\\uc8fc)\\uc62c\\uc2a4\\ud0c0\\uc5d4\\ud130\\ud14c\\uc778\\uba3c\\ud2b8\",\"(\\uc8fc)\\uc774\\ub180\\ubbf8\\ub514\\uc5b4\",\"(\\uc8fc)\\uc774\\uc218C&E\",\"(\\uc8fc)\\uc778\\ub514\\ud50c\\ub7ec\\uadf8\",\"(\\uc8fc)\\uc81c\\uc774\\uc564\\uc528\\ubbf8\\ub514\\uc5b4\\uadf8\\ub8f9\",\"(\\uc8fc)\\uc88b\\uc740 \\ud558\\ub298\",\"(\\uc8fc)\\uc911\\ud5cc\\ud640\\ub529\\uc2a4\",\"(\\uc8fc)\\ucf00\\uc774\\ud2f0\\uc54c\\ud30c\",\"(\\uc8fc)\\ucf58\\ud150\\uce20\\ud310\\ub2e4\",\"(\\uc8fc)\\ucf58\\ud150\\uce20\\ud328\\ubc00\\ub9ac\",\"(\\uc8fc)\\ud0a4\\ub2e4\\ub9ac\\uc774\\uc5d4\\ud2f0\",\"(\\uc8fc)\\ud0a4\\uc704\\ubbf8\\ub514\\uc5b4\\uadf8\\ub8f9\",\"(\\uc8fc)\\ud2b8\\ub9ac\\ub2c8\\ud2f0\\ud53d\\uccd0\\uc2a4\",\"(\\uc8fc)\\ud2b8\\ub9ac\\ud50c\\ud53d\\uccd0\\uc2a4\",\"(\\uc8fc)\\ud31d\\uc5d4\\ud130\\ud14c\\uc778\\uba3c\\ud2b8\",\"(\\uc8fc)\\ud32c\\uc5d4\\ud130\\ud14c\\uc778\\uba3c\\ud2b8\",\"(\\uc8fc)\\ud37c\\uc2a4\\ud2b8\\ub7f0\",\"(\\uc8fc)\\ud53c\\ud130\\ud32c\\ud53d\\uccd0\\uc2a4\",\"(\\uc8fc)\\ud648\\ucd08\\uc774\\uc2a4\",\"C \\ubb34\\ube44\",\"CGV ICECON\",\"CGV\\uc544\\ud2b8\\ud558\\uc6b0\\uc2a4\",\"M&M \\uc778\\ud130\\ub0b4\\uc154\\ub110\",\"TCO(\\uc8fc)\\ub354\\ucf58\\ud150\\uce20\\uc628\",\"THE \\ud53d\\uccd0\\uc2a4\",\"\\u321c\\uc778\\ub514\\uc2a4\\ud1a0\\ub9ac\",\"\\uadf8\\ub9b0\\ub098\\ub798\\ubbf8\\ub514\\uc5b4(\\uc8fc)\",\"\\ub178\\ubc14\\uc5d4\\ud130\\ud14c\\uc778\\uba3c\\ud2b8\",\"\\ub3d9\\uc6b0\\uc5d0\\uc774\\uc564\\uc774(\\uc8fc)\",\"\\ub86f\\ub370\\uceec\\ucc98\\uc6cd\\uc2a4(\\uc8fc)\\ub86f\\ub370\\uc5d4\\ud130\\ud14c\\uc778\\uba3c\\ud2b8\",\"\\uba54\\uac00\\ubc15\\uc2a4\\uc911\\uc559(\\uc8fc)\\ud50c\\ub7ec\\uc2a4\\uc5e0\",\"\\uc18c\\ub2c8\\ud53d\\uccd0\\uc2a4\\uc5d4\\ud130\\ud14c\\uc778\\uba3c\\ud2b8\\ucf54\\ub9ac\\uc544\\uc8fc\\uc2dd\\ud68c\\uc0ac\\uadf9\\uc7a5\\ubc30\\uae09\\uc9c0\\uc810\",\"\\uc2a4\\ub9c8\\ud2b8\\uc2a4\\ud130\\ub514(\\uc8fc)\",\"\\uc2dc\\ub124\\ub9c8 \\ub274\\uc6d0\",\"\\uc528\\ub124\\ucffc\\ub10c \\ud53d\\uccd0\\uc2a4\",\"\\uc528\\uc81c\\uc774\\ud3ec\\ub514\\ud50c\\ub809\\uc2a4 \\uc8fc\\uc2dd\\ud68c\\uc0ac\",\"\\uc544\\uc774 \\uc5e0\",\"\\uc54c\\ud1a0\\ubbf8\\ub514\\uc5b4(\\uc8fc)\",\"\\uc608\\uc9c0\\ub9bc\\uc5d4\\ud130\\ud14c\\uc778\\uba3c\\ud2b8\",\"\\uc624\\ub4dc\",\"\\uc624\\ud37c\\uc2a4\\ud53d\\uccd0\\uc2a4(\\uc720)\",\"\\uc640\\uc774\\ub4dc \\ub9b4\\ub9ac\\uc988(\\uc8fc)\",\"\\uc6cc\\ub108\\ube0c\\ub7ec\\ub354\\uc2a4 \\ucf54\\ub9ac\\uc544(\\uc8fc)\",\"\\uc6d4\\ud2b8\\ub514\\uc988\\ub2c8\\ucef4\\ud37c\\ub2c8\\ucf54\\ub9ac\\uc544 \\uc720\\ud55c\\ucc45\\uc784\\ud68c\\uc0ac\",\"\\uc720\\ub2c8\\ubc84\\uc124\\ud53d\\uccd0\\uc2a4\\uc778\\ud130\\ub0b4\\uc154\\ub110 \\ucf54\\ub9ac\\uc544(\\uc720)\",\"\\uc8fc\\uc2dd\\ud68c\\uc0ac \\ub354\\ucff1\",\"\\uc8fc\\uc2dd\\ud68c\\uc0ac \\ube14\\ub8e8\\ud544\\ub984\\uc6cd\\uc2a4\",\"\\uc8fc\\uc2dd\\ud68c\\uc0ac \\ud48d\\uacbd\\uc18c\\ub9ac\",\"\\ucc2c\\ub780\",\"\\ucee4\\ub125\\ud2b8\\ud53d\\uccd0\\uc2a4(\\uc8fc)\",\"\\ud310\\uc528\\ub124\\ub9c8(\\uc8fc)\",\"\\ud558\\uc900\\uc0ac\",\"\\ud638\\uc6b0\\uc8fc\\uc758\\ubcf4\"],\"legendgroup\":\"\",\"marker\":{\"color\":[7.82608695652174,0.43478260869565216,1.3043478260869565,0.8695652173913043,0.8695652173913043,5.217391304347826,0.43478260869565216,4.3478260869565215,0.43478260869565216,3.0434782608695654,12.608695652173912,0.43478260869565216,2.608695652173913,0.43478260869565216,0.43478260869565216,0.43478260869565216,0.43478260869565216,0.43478260869565216,4.3478260869565215,2.1739130434782608,1.3043478260869565,0.43478260869565216,0.43478260869565216,0.43478260869565216,13.043478260869565,2.608695652173913,0.43478260869565216,0.43478260869565216,0.43478260869565216,3.0434782608695654,0.8695652173913043,5.6521739130434785,3.91304347826087,4.782608695652174,0.43478260869565216,0.8695652173913043,0.43478260869565216,0.8695652173913043,0.8695652173913043,1.3043478260869565,0.43478260869565216,1.7391304347826086,6.086956521739131,1.968503937007874,5.905511811023622,1.1811023622047243,0.39370078740157477,1.574803149606299,0.39370078740157477,0.7874015748031495,0.39370078740157477,0.39370078740157477,0.7874015748031495,3.543307086614173,0.39370078740157477,1.1811023622047243,0.39370078740157477,1.574803149606299,12.598425196850393,2.7559055118110236,0.39370078740157477,0.39370078740157477,0.39370078740157477,0.7874015748031495,0.39370078740157477,0.39370078740157477,0.39370078740157477,1.574803149606299,0.39370078740157477,1.1811023622047243,2.7559055118110236,0.7874015748031495,1.574803149606299,0.39370078740157477,0.39370078740157477,0.39370078740157477,0.39370078740157477,15.748031496062993,1.1811023622047243,5.511811023622047,2.7559055118110236,0.39370078740157477,1.574803149606299,3.543307086614173,0.39370078740157477,4.724409448818897,3.937007874015748,0.7874015748031495,1.968503937007874,0.7874015748031495,1.1811023622047243,0.39370078740157477,1.574803149606299,4.330708661417323,0.3246753246753247,3.571428571428571,6.493506493506493,0.3246753246753247,3.571428571428571,0.6493506493506493,3.896103896103896,0.6493506493506493,3.2467532467532463,0.974025974025974,0.974025974025974,10.714285714285714,0.3246753246753247,0.3246753246753247,1.948051948051948,0.3246753246753247,0.3246753246753247,0.974025974025974,3.896103896103896,0.3246753246753247,0.6493506493506493,1.2987012987012987,0.6493506493506493,0.3246753246753247,3.571428571428571,0.3246753246753247,4.220779220779221,2.5974025974025974,0.3246753246753247,0.3246753246753247,1.2987012987012987,0.3246753246753247,0.6493506493506493,0.6493506493506493,0.3246753246753247,0.3246753246753247,0.6493506493506493,0.3246753246753247,8.766233766233766,0.974025974025974,0.3246753246753247,5.194805194805195,4.220779220779221,0.3246753246753247,0.3246753246753247,0.3246753246753247,1.6233766233766231,0.3246753246753247,2.272727272727273,3.896103896103896,3.896103896103896,0.3246753246753247,0.6493506493506493,0.6493506493506493,0.3246753246753247,0.3246753246753247,0.3246753246753247,1.2987012987012987,0.3246753246753247,0.3246753246753247,0.3246753246753247,0.819672131147541,0.273224043715847,4.098360655737705,3.0054644808743167,0.273224043715847,0.546448087431694,0.546448087431694,0.273224043715847,0.273224043715847,0.819672131147541,2.73224043715847,0.546448087431694,0.546448087431694,0.273224043715847,0.819672131147541,0.273224043715847,3.825136612021858,0.273224043715847,0.273224043715847,2.185792349726776,1.092896174863388,7.377049180327869,0.273224043715847,1.366120218579235,4.918032786885246,0.273224043715847,2.185792349726776,0.273224043715847,0.273224043715847,0.273224043715847,0.273224043715847,0.273224043715847,0.819672131147541,0.546448087431694,2.73224043715847,0.273224043715847,0.546448087431694,0.273224043715847,0.273224043715847,5.191256830601093,0.273224043715847,2.459016393442623,0.273224043715847,0.273224043715847,2.459016393442623,0.546448087431694,0.273224043715847,0.273224043715847,0.273224043715847,0.546448087431694,1.092896174863388,7.103825136612022,1.639344262295082,0.819672131147541,0.273224043715847,3.278688524590164,1.366120218579235,1.639344262295082,0.273224043715847,0.273224043715847,1.366120218579235,0.273224043715847,0.819672131147541,0.273224043715847,0.273224043715847,3.0054644808743167,2.459016393442623,0.273224043715847,0.273224043715847,3.825136612021858,3.0054644808743167,0.273224043715847,0.273224043715847,0.546448087431694,0.546448087431694,0.819672131147541,1.092896174863388,2.185792349726776,0.819672131147541,0.25380710659898476,1.015228426395939,2.030456852791878,3.5532994923857872,1.015228426395939,0.5076142131979695,0.25380710659898476,0.25380710659898476,2.7918781725888326,1.2690355329949239,1.015228426395939,2.5380710659898478,0.5076142131979695,1.7766497461928936,0.5076142131979695,2.7918781725888326,0.25380710659898476,0.5076142131979695,2.284263959390863,0.25380710659898476,5.83756345177665,0.25380710659898476,0.5076142131979695,0.25380710659898476,1.5228426395939088,2.5380710659898478,0.5076142131979695,2.030456852791878,3.2994923857868024,0.25380710659898476,1.2690355329949239,2.284263959390863,0.25380710659898476,0.5076142131979695,0.25380710659898476,0.25380710659898476,0.5076142131979695,0.5076142131979695,0.5076142131979695,4.060913705583756,0.25380710659898476,1.5228426395939088,2.284263959390863,0.25380710659898476,0.7614213197969544,0.5076142131979695,0.25380710659898476,0.5076142131979695,2.030456852791878,0.5076142131979695,5.0761421319796955,2.030456852791878,0.5076142131979695,2.284263959390863,0.25380710659898476,0.5076142131979695,0.25380710659898476,0.5076142131979695,0.7614213197969544,0.5076142131979695,2.7918781725888326,2.7918781725888326,0.25380710659898476,0.5076142131979695,1.7766497461928936,6.598984771573605,3.2994923857868024,0.25380710659898476,0.25380710659898476,1.2690355329949239,0.25380710659898476,1.015228426395939,0.25380710659898476,1.2690355329949239,2.7918781725888326,0.25380710659898476,0.23866348448687352,0.23866348448687352,0.7159904534606205,3.341288782816229,0.47732696897374705,0.9546539379474941,0.23866348448687352,1.6706443914081146,3.8186157517899764,0.7159904534606205,3.1026252983293556,0.23866348448687352,0.7159904534606205,1.1933174224343674,0.23866348448687352,0.23866348448687352,4.77326968973747,0.23866348448687352,0.23866348448687352,0.7159904534606205,1.9093078758949882,1.431980906921241,0.23866348448687352,0.47732696897374705,0.47732696897374705,0.23866348448687352,5.250596658711217,0.23866348448687352,0.23866348448687352,0.23866348448687352,1.431980906921241,3.579952267303103,0.23866348448687352,2.386634844868735,0.23866348448687352,0.23866348448687352,0.23866348448687352,0.23866348448687352,2.6252983293556085,0.7159904534606205,0.23866348448687352,0.47732696897374705,0.23866348448687352,0.9546539379474941,0.23866348448687352,1.9093078758949882,0.47732696897374705,2.6252983293556085,0.47732696897374705,1.6706443914081146,1.9093078758949882,0.23866348448687352,0.9546539379474941,1.1933174224343674,1.1933174224343674,1.9093078758949882,0.47732696897374705,0.23866348448687352,4.295942720763723,2.6252983293556085,0.23866348448687352,0.47732696897374705,0.23866348448687352,0.23866348448687352,0.23866348448687352,1.431980906921241,0.7159904534606205,1.1933174224343674,3.1026252983293556,2.6252983293556085,0.47732696897374705,2.1479713603818613,6.205250596658711,2.6252983293556085,0.7159904534606205,0.7159904534606205,0.9546539379474941,0.47732696897374705,0.23866348448687352,1.1933174224343674,0.47732696897374705,1.9093078758949882,0.23866348448687352,0.4273504273504274,0.2136752136752137,0.2136752136752137,0.2136752136752137,3.205128205128205,0.4273504273504274,0.4273504273504274,0.8547008547008548,1.282051282051282,3.418803418803419,0.2136752136752137,1.282051282051282,0.4273504273504274,2.3504273504273505,0.2136752136752137,0.4273504273504274,0.4273504273504274,0.2136752136752137,0.2136752136752137,0.4273504273504274,0.2136752136752137,0.2136752136752137,4.05982905982906,0.2136752136752137,1.282051282051282,1.282051282051282,1.4957264957264957,1.4957264957264957,0.2136752136752137,0.2136752136752137,0.2136752136752137,4.273504273504273,0.641025641025641,1.282051282051282,2.3504273504273505,0.8547008547008548,0.8547008547008548,1.282051282051282,0.2136752136752137,0.641025641025641,0.4273504273504274,0.2136752136752137,2.7777777777777777,0.8547008547008548,0.4273504273504274,0.641025641025641,0.641025641025641,0.2136752136752137,2.7777777777777777,0.2136752136752137,1.0683760683760684,3.8461538461538463,0.2136752136752137,0.4273504273504274,0.2136752136752137,0.4273504273504274,4.05982905982906,0.2136752136752137,0.641025641025641,0.4273504273504274,0.641025641025641,0.8547008547008548,1.7094017094017095,0.8547008547008548,0.4273504273504274,0.2136752136752137,0.2136752136752137,3.205128205128205,2.564102564102564,0.2136752136752137,0.2136752136752137,2.1367521367521367,0.2136752136752137,0.641025641025641,0.2136752136752137,0.2136752136752137,1.4957264957264957,0.8547008547008548,1.0683760683760684,3.205128205128205,2.564102564102564,2.564102564102564,3.632478632478633,2.564102564102564,0.4273504273504274,0.8547008547008548,0.641025641025641,0.641025641025641,1.4957264957264957,0.4273504273504274,1.9230769230769231,0.2136752136752137,0.9111617312072893,0.22779043280182232,0.22779043280182232,3.8724373576309796,0.683371298405467,0.45558086560364464,0.683371298405467,3.644646924829157,0.22779043280182232,1.1389521640091116,2.9612756264236904,0.22779043280182232,0.683371298405467,0.22779043280182232,0.22779043280182232,0.45558086560364464,3.8724373576309796,0.22779043280182232,0.45558086560364464,1.1389521640091116,0.683371298405467,1.1389521640091116,1.5945330296127564,2.277904328018223,0.22779043280182232,0.45558086560364464,0.22779043280182232,0.22779043280182232,3.416856492027335,0.22779043280182232,0.9111617312072893,0.22779043280182232,0.45558086560364464,2.5056947608200453,1.366742596810934,2.277904328018223,1.5945330296127564,1.5945330296127564,0.45558086560364464,0.22779043280182232,3.644646924829157,0.22779043280182232,1.366742596810934,0.22779043280182232,0.683371298405467,2.277904328018223,0.22779043280182232,0.683371298405467,0.683371298405467,5.922551252847381,0.22779043280182232,0.683371298405467,2.5056947608200453,0.22779043280182232,1.366742596810934,0.683371298405467,0.9111617312072893,1.366742596810934,0.45558086560364464,1.1389521640091116,2.050113895216401,2.050113895216401,1.1389521640091116,2.277904328018223,1.1389521640091116,0.22779043280182232,0.22779043280182232,0.22779043280182232,0.683371298405467,0.9111617312072893,2.733485193621868,2.9612756264236904,2.277904328018223,3.416856492027335,0.45558086560364464,2.050113895216401,0.683371298405467,0.22779043280182232,0.22779043280182232,0.22779043280182232,0.45558086560364464,2.5056947608200453,0.45558086560364464,0.22779043280182232,0.44742729306487694,3.5794183445190155,1.342281879194631,0.44742729306487694,0.22371364653243847,0.22371364653243847,0.22371364653243847,0.8948545861297539,2.013422818791946,0.6711409395973155,0.8948545861297539,2.460850111856823,0.44742729306487694,0.6711409395973155,0.44742729306487694,3.5794183445190155,0.22371364653243847,0.22371364653243847,2.237136465324385,0.22371364653243847,1.342281879194631,0.6711409395973155,1.342281879194631,0.22371364653243847,0.22371364653243847,0.22371364653243847,2.684563758389262,1.1185682326621924,0.44742729306487694,0.6711409395973155,2.013422818791946,0.6711409395973155,1.1185682326621924,2.460850111856823,0.22371364653243847,1.1185682326621924,0.22371364653243847,0.8948545861297539,0.8948545861297539,0.22371364653243847,2.460850111856823,0.22371364653243847,2.9082774049217,0.22371364653243847,1.1185682326621924,0.22371364653243847,0.22371364653243847,0.6711409395973155,0.22371364653243847,1.1185682326621924,0.22371364653243847,1.342281879194631,0.6711409395973155,4.47427293064877,0.8948545861297539,0.22371364653243847,1.1185682326621924,0.22371364653243847,2.460850111856823,2.460850111856823,0.22371364653243847,0.6711409395973155,1.5659955257270695,0.22371364653243847,0.22371364653243847,0.8948545861297539,4.250559284116331,2.013422818791946,0.22371364653243847,1.7897091722595078,0.22371364653243847,0.6711409395973155,0.6711409395973155,0.44742729306487694,0.6711409395973155,1.1185682326621924,0.22371364653243847,3.5794183445190155,3.5794183445190155,0.22371364653243847,3.3557046979865772,2.013422818791946,1.1185682326621924,0.22371364653243847,0.22371364653243847,1.342281879194631,0.22371364653243847,0.22371364653243847,0.44742729306487694,2.460850111856823,1.1185682326621924,0.25773195876288657,0.25773195876288657,1.2886597938144329,0.5154639175257731,0.25773195876288657,0.7731958762886598,0.25773195876288657,0.25773195876288657,0.7731958762886598,3.865979381443299,0.7731958762886598,1.0309278350515463,0.25773195876288657,0.25773195876288657,2.8350515463917527,0.25773195876288657,0.5154639175257731,1.804123711340206,0.5154639175257731,0.25773195876288657,1.5463917525773196,0.5154639175257731,2.3195876288659796,1.804123711340206,0.5154639175257731,0.5154639175257731,0.25773195876288657,2.0618556701030926,1.0309278350515463,0.25773195876288657,1.0309278350515463,0.25773195876288657,0.25773195876288657,0.25773195876288657,2.0618556701030926,2.0618556701030926,0.7731958762886598,0.25773195876288657,3.0927835051546393,2.0618556701030926,0.25773195876288657,2.3195876288659796,0.5154639175257731,0.7731958762886598,2.5773195876288657,0.25773195876288657,6.701030927835052,0.25773195876288657,0.25773195876288657,0.25773195876288657,0.7731958762886598,0.25773195876288657,1.804123711340206,0.25773195876288657,0.25773195876288657,1.804123711340206,4.896907216494846,0.25773195876288657,0.7731958762886598,0.25773195876288657,1.2886597938144329,0.25773195876288657,0.5154639175257731,0.25773195876288657,0.5154639175257731,1.804123711340206,0.5154639175257731,1.2886597938144329,1.2886597938144329,0.5154639175257731,0.25773195876288657,2.0618556701030926,2.5773195876288657,0.7731958762886598,0.25773195876288657,0.5154639175257731,0.25773195876288657,0.5154639175257731,0.5154639175257731,0.7731958762886598,0.25773195876288657,0.7731958762886598,0.25773195876288657,3.608247422680412,1.2886597938144329,2.0618556701030926,2.3195876288659796,1.0309278350515463,0.25773195876288657,0.25773195876288657,3.0927835051546393,0.25773195876288657,1.804123711340206,0.25773195876288657,0.25773195876288657],\"coloraxis\":\"coloraxis\",\"pattern\":{\"shape\":\"\"}},\"name\":\"\",\"offsetgroup\":\"\",\"orientation\":\"h\",\"showlegend\":false,\"textposition\":\"auto\",\"type\":\"bar\",\"x\":[18,1,3,2,2,12,1,10,1,7,29,1,6,1,1,1,1,1,10,5,3,1,1,1,30,6,1,1,1,7,2,13,9,11,1,2,1,2,2,3,1,4,14,5,15,3,1,4,1,2,1,1,2,9,1,3,1,4,32,7,1,1,1,2,1,1,1,4,1,3,7,2,4,1,1,1,1,40,3,14,7,1,4,9,1,12,10,2,5,2,3,1,4,11,1,11,20,1,11,2,12,2,10,3,3,33,1,1,6,1,1,3,12,1,2,4,2,1,11,1,13,8,1,1,4,1,2,2,1,1,2,1,27,3,1,16,13,1,1,1,5,1,7,12,12,1,2,2,1,1,1,4,1,1,1,3,1,15,11,1,2,2,1,1,3,10,2,2,1,3,1,14,1,1,8,4,27,1,5,18,1,8,1,1,1,1,1,3,2,10,1,2,1,1,19,1,9,1,1,9,2,1,1,1,2,4,26,6,3,1,12,5,6,1,1,5,1,3,1,1,11,9,1,1,14,11,1,1,2,2,3,4,8,3,1,4,8,14,4,2,1,1,11,5,4,10,2,7,2,11,1,2,9,1,23,1,2,1,6,10,2,8,13,1,5,9,1,2,1,1,2,2,2,16,1,6,9,1,3,2,1,2,8,2,20,8,2,9,1,2,1,2,3,2,11,11,1,2,7,26,13,1,1,5,1,4,1,5,11,1,1,1,3,14,2,4,1,7,16,3,13,1,3,5,1,1,20,1,1,3,8,6,1,2,2,1,22,1,1,1,6,15,1,10,1,1,1,1,11,3,1,2,1,4,1,8,2,11,2,7,8,1,4,5,5,8,2,1,18,11,1,2,1,1,1,6,3,5,13,11,2,9,26,11,3,3,4,2,1,5,2,8,1,2,1,1,1,15,2,2,4,6,16,1,6,2,11,1,2,2,1,1,2,1,1,19,1,6,6,7,7,1,1,1,20,3,6,11,4,4,6,1,3,2,1,13,4,2,3,3,1,13,1,5,18,1,2,1,2,19,1,3,2,3,4,8,4,2,1,1,15,12,1,1,10,1,3,1,1,7,4,5,15,12,12,17,12,2,4,3,3,7,2,9,1,4,1,1,17,3,2,3,16,1,5,13,1,3,1,1,2,17,1,2,5,3,5,7,10,1,2,1,1,15,1,4,1,2,11,6,10,7,7,2,1,16,1,6,1,3,10,1,3,3,26,1,3,11,1,6,3,4,6,2,5,9,9,5,10,5,1,1,1,3,4,12,13,10,15,2,9,3,1,1,1,2,11,2,1,2,16,6,2,1,1,1,4,9,3,4,11,2,3,2,16,1,1,10,1,6,3,6,1,1,1,12,5,2,3,9,3,5,11,1,5,1,4,4,1,11,1,13,1,5,1,1,3,1,5,1,6,3,20,4,1,5,1,11,11,1,3,7,1,1,4,19,9,1,8,1,3,3,2,3,5,1,16,16,1,15,9,5,1,1,6,1,1,2,11,5,1,1,5,2,1,3,1,1,3,15,3,4,1,1,11,1,2,7,2,1,6,2,9,7,2,2,1,8,4,1,4,1,1,1,8,8,3,1,12,8,1,9,2,3,10,1,26,1,1,1,3,1,7,1,1,7,19,1,3,1,5,1,2,1,2,7,2,5,5,2,1,8,10,3,1,2,1,2,2,3,1,3,1,14,5,8,9,4,1,1,12,1,7,1,1],\"xaxis\":\"x\",\"y\":[2011,2011,2011,2011,2011,2011,2011,2011,2011,2011,2011,2011,2011,2011,2011,2011,2011,2011,2011,2011,2011,2011,2011,2011,2011,2011,2011,2011,2011,2011,2011,2011,2011,2011,2011,2011,2011,2011,2011,2011,2011,2011,2011,2012,2012,2012,2012,2012,2012,2012,2012,2012,2012,2012,2012,2012,2012,2012,2012,2012,2012,2012,2012,2012,2012,2012,2012,2012,2012,2012,2012,2012,2012,2012,2012,2012,2012,2012,2012,2012,2012,2012,2012,2012,2012,2012,2012,2012,2012,2012,2012,2012,2012,2012,2013,2013,2013,2013,2013,2013,2013,2013,2013,2013,2013,2013,2013,2013,2013,2013,2013,2013,2013,2013,2013,2013,2013,2013,2013,2013,2013,2013,2013,2013,2013,2013,2013,2013,2013,2013,2013,2013,2013,2013,2013,2013,2013,2013,2013,2013,2013,2013,2013,2013,2013,2013,2013,2013,2013,2013,2013,2013,2013,2013,2013,2014,2014,2014,2014,2014,2014,2014,2014,2014,2014,2014,2014,2014,2014,2014,2014,2014,2014,2014,2014,2014,2014,2014,2014,2014,2014,2014,2014,2014,2014,2014,2014,2014,2014,2014,2014,2014,2014,2014,2014,2014,2014,2014,2014,2014,2014,2014,2014,2014,2014,2014,2014,2014,2014,2014,2014,2014,2014,2014,2014,2014,2014,2014,2014,2014,2014,2014,2014,2014,2014,2014,2014,2014,2014,2014,2014,2014,2014,2014,2015,2015,2015,2015,2015,2015,2015,2015,2015,2015,2015,2015,2015,2015,2015,2015,2015,2015,2015,2015,2015,2015,2015,2015,2015,2015,2015,2015,2015,2015,2015,2015,2015,2015,2015,2015,2015,2015,2015,2015,2015,2015,2015,2015,2015,2015,2015,2015,2015,2015,2015,2015,2015,2015,2015,2015,2015,2015,2015,2015,2015,2015,2015,2015,2015,2015,2015,2015,2015,2015,2015,2015,2015,2015,2015,2015,2016,2016,2016,2016,2016,2016,2016,2016,2016,2016,2016,2016,2016,2016,2016,2016,2016,2016,2016,2016,2016,2016,2016,2016,2016,2016,2016,2016,2016,2016,2016,2016,2016,2016,2016,2016,2016,2016,2016,2016,2016,2016,2016,2016,2016,2016,2016,2016,2016,2016,2016,2016,2016,2016,2016,2016,2016,2016,2016,2016,2016,2016,2016,2016,2016,2016,2016,2016,2016,2016,2016,2016,2016,2016,2016,2016,2016,2016,2016,2016,2016,2016,2016,2017,2017,2017,2017,2017,2017,2017,2017,2017,2017,2017,2017,2017,2017,2017,2017,2017,2017,2017,2017,2017,2017,2017,2017,2017,2017,2017,2017,2017,2017,2017,2017,2017,2017,2017,2017,2017,2017,2017,2017,2017,2017,2017,2017,2017,2017,2017,2017,2017,2017,2017,2017,2017,2017,2017,2017,2017,2017,2017,2017,2017,2017,2017,2017,2017,2017,2017,2017,2017,2017,2017,2017,2017,2017,2017,2017,2017,2017,2017,2017,2017,2017,2017,2017,2017,2017,2017,2017,2017,2017,2017,2017,2018,2018,2018,2018,2018,2018,2018,2018,2018,2018,2018,2018,2018,2018,2018,2018,2018,2018,2018,2018,2018,2018,2018,2018,2018,2018,2018,2018,2018,2018,2018,2018,2018,2018,2018,2018,2018,2018,2018,2018,2018,2018,2018,2018,2018,2018,2018,2018,2018,2018,2018,2018,2018,2018,2018,2018,2018,2018,2018,2018,2018,2018,2018,2018,2018,2018,2018,2018,2018,2018,2018,2018,2018,2018,2018,2018,2018,2018,2018,2018,2018,2018,2018,2018,2019,2019,2019,2019,2019,2019,2019,2019,2019,2019,2019,2019,2019,2019,2019,2019,2019,2019,2019,2019,2019,2019,2019,2019,2019,2019,2019,2019,2019,2019,2019,2019,2019,2019,2019,2019,2019,2019,2019,2019,2019,2019,2019,2019,2019,2019,2019,2019,2019,2019,2019,2019,2019,2019,2019,2019,2019,2019,2019,2019,2019,2019,2019,2019,2019,2019,2019,2019,2019,2019,2019,2019,2019,2019,2019,2019,2019,2019,2019,2019,2019,2019,2019,2019,2019,2019,2019,2019,2019,2019,2019,2020,2020,2020,2020,2020,2020,2020,2020,2020,2020,2020,2020,2020,2020,2020,2020,2020,2020,2020,2020,2020,2020,2020,2020,2020,2020,2020,2020,2020,2020,2020,2020,2020,2020,2020,2020,2020,2020,2020,2020,2020,2020,2020,2020,2020,2020,2020,2020,2020,2020,2020,2020,2020,2020,2020,2020,2020,2020,2020,2020,2020,2020,2020,2020,2020,2020,2020,2020,2020,2020,2020,2020,2020,2020,2020,2020,2020,2020,2020,2020,2020,2020,2020,2020,2020,2020,2020,2020,2020,2020,2020,2020,2020,2020,2020],\"yaxis\":\"y\"}],                        {\"barmode\":\"relative\",\"coloraxis\":{\"colorbar\":{\"title\":{\"text\":\"\\ube44\\uc911\"}},\"colorscale\":[[0.0,\"#0d0887\"],[0.1111111111111111,\"#46039f\"],[0.2222222222222222,\"#7201a8\"],[0.3333333333333333,\"#9c179e\"],[0.4444444444444444,\"#bd3786\"],[0.5555555555555556,\"#d8576b\"],[0.6666666666666666,\"#ed7953\"],[0.7777777777777778,\"#fb9f3a\"],[0.8888888888888888,\"#fdca26\"],[1.0,\"#f0f921\"]]},\"legend\":{\"tracegroupgap\":0},\"template\":{\"data\":{\"bar\":[{\"error_x\":{\"color\":\"#2a3f5f\"},\"error_y\":{\"color\":\"#2a3f5f\"},\"marker\":{\"line\":{\"color\":\"#E5ECF6\",\"width\":0.5},\"pattern\":{\"fillmode\":\"overlay\",\"size\":10,\"solidity\":0.2}},\"type\":\"bar\"}],\"barpolar\":[{\"marker\":{\"line\":{\"color\":\"#E5ECF6\",\"width\":0.5},\"pattern\":{\"fillmode\":\"overlay\",\"size\":10,\"solidity\":0.2}},\"type\":\"barpolar\"}],\"carpet\":[{\"aaxis\":{\"endlinecolor\":\"#2a3f5f\",\"gridcolor\":\"white\",\"linecolor\":\"white\",\"minorgridcolor\":\"white\",\"startlinecolor\":\"#2a3f5f\"},\"baxis\":{\"endlinecolor\":\"#2a3f5f\",\"gridcolor\":\"white\",\"linecolor\":\"white\",\"minorgridcolor\":\"white\",\"startlinecolor\":\"#2a3f5f\"},\"type\":\"carpet\"}],\"choropleth\":[{\"colorbar\":{\"outlinewidth\":0,\"ticks\":\"\"},\"type\":\"choropleth\"}],\"contour\":[{\"colorbar\":{\"outlinewidth\":0,\"ticks\":\"\"},\"colorscale\":[[0.0,\"#0d0887\"],[0.1111111111111111,\"#46039f\"],[0.2222222222222222,\"#7201a8\"],[0.3333333333333333,\"#9c179e\"],[0.4444444444444444,\"#bd3786\"],[0.5555555555555556,\"#d8576b\"],[0.6666666666666666,\"#ed7953\"],[0.7777777777777778,\"#fb9f3a\"],[0.8888888888888888,\"#fdca26\"],[1.0,\"#f0f921\"]],\"type\":\"contour\"}],\"contourcarpet\":[{\"colorbar\":{\"outlinewidth\":0,\"ticks\":\"\"},\"type\":\"contourcarpet\"}],\"heatmap\":[{\"colorbar\":{\"outlinewidth\":0,\"ticks\":\"\"},\"colorscale\":[[0.0,\"#0d0887\"],[0.1111111111111111,\"#46039f\"],[0.2222222222222222,\"#7201a8\"],[0.3333333333333333,\"#9c179e\"],[0.4444444444444444,\"#bd3786\"],[0.5555555555555556,\"#d8576b\"],[0.6666666666666666,\"#ed7953\"],[0.7777777777777778,\"#fb9f3a\"],[0.8888888888888888,\"#fdca26\"],[1.0,\"#f0f921\"]],\"type\":\"heatmap\"}],\"heatmapgl\":[{\"colorbar\":{\"outlinewidth\":0,\"ticks\":\"\"},\"colorscale\":[[0.0,\"#0d0887\"],[0.1111111111111111,\"#46039f\"],[0.2222222222222222,\"#7201a8\"],[0.3333333333333333,\"#9c179e\"],[0.4444444444444444,\"#bd3786\"],[0.5555555555555556,\"#d8576b\"],[0.6666666666666666,\"#ed7953\"],[0.7777777777777778,\"#fb9f3a\"],[0.8888888888888888,\"#fdca26\"],[1.0,\"#f0f921\"]],\"type\":\"heatmapgl\"}],\"histogram\":[{\"marker\":{\"pattern\":{\"fillmode\":\"overlay\",\"size\":10,\"solidity\":0.2}},\"type\":\"histogram\"}],\"histogram2d\":[{\"colorbar\":{\"outlinewidth\":0,\"ticks\":\"\"},\"colorscale\":[[0.0,\"#0d0887\"],[0.1111111111111111,\"#46039f\"],[0.2222222222222222,\"#7201a8\"],[0.3333333333333333,\"#9c179e\"],[0.4444444444444444,\"#bd3786\"],[0.5555555555555556,\"#d8576b\"],[0.6666666666666666,\"#ed7953\"],[0.7777777777777778,\"#fb9f3a\"],[0.8888888888888888,\"#fdca26\"],[1.0,\"#f0f921\"]],\"type\":\"histogram2d\"}],\"histogram2dcontour\":[{\"colorbar\":{\"outlinewidth\":0,\"ticks\":\"\"},\"colorscale\":[[0.0,\"#0d0887\"],[0.1111111111111111,\"#46039f\"],[0.2222222222222222,\"#7201a8\"],[0.3333333333333333,\"#9c179e\"],[0.4444444444444444,\"#bd3786\"],[0.5555555555555556,\"#d8576b\"],[0.6666666666666666,\"#ed7953\"],[0.7777777777777778,\"#fb9f3a\"],[0.8888888888888888,\"#fdca26\"],[1.0,\"#f0f921\"]],\"type\":\"histogram2dcontour\"}],\"mesh3d\":[{\"colorbar\":{\"outlinewidth\":0,\"ticks\":\"\"},\"type\":\"mesh3d\"}],\"parcoords\":[{\"line\":{\"colorbar\":{\"outlinewidth\":0,\"ticks\":\"\"}},\"type\":\"parcoords\"}],\"pie\":[{\"automargin\":true,\"type\":\"pie\"}],\"scatter\":[{\"marker\":{\"colorbar\":{\"outlinewidth\":0,\"ticks\":\"\"}},\"type\":\"scatter\"}],\"scatter3d\":[{\"line\":{\"colorbar\":{\"outlinewidth\":0,\"ticks\":\"\"}},\"marker\":{\"colorbar\":{\"outlinewidth\":0,\"ticks\":\"\"}},\"type\":\"scatter3d\"}],\"scattercarpet\":[{\"marker\":{\"colorbar\":{\"outlinewidth\":0,\"ticks\":\"\"}},\"type\":\"scattercarpet\"}],\"scattergeo\":[{\"marker\":{\"colorbar\":{\"outlinewidth\":0,\"ticks\":\"\"}},\"type\":\"scattergeo\"}],\"scattergl\":[{\"marker\":{\"colorbar\":{\"outlinewidth\":0,\"ticks\":\"\"}},\"type\":\"scattergl\"}],\"scattermapbox\":[{\"marker\":{\"colorbar\":{\"outlinewidth\":0,\"ticks\":\"\"}},\"type\":\"scattermapbox\"}],\"scatterpolar\":[{\"marker\":{\"colorbar\":{\"outlinewidth\":0,\"ticks\":\"\"}},\"type\":\"scatterpolar\"}],\"scatterpolargl\":[{\"marker\":{\"colorbar\":{\"outlinewidth\":0,\"ticks\":\"\"}},\"type\":\"scatterpolargl\"}],\"scatterternary\":[{\"marker\":{\"colorbar\":{\"outlinewidth\":0,\"ticks\":\"\"}},\"type\":\"scatterternary\"}],\"surface\":[{\"colorbar\":{\"outlinewidth\":0,\"ticks\":\"\"},\"colorscale\":[[0.0,\"#0d0887\"],[0.1111111111111111,\"#46039f\"],[0.2222222222222222,\"#7201a8\"],[0.3333333333333333,\"#9c179e\"],[0.4444444444444444,\"#bd3786\"],[0.5555555555555556,\"#d8576b\"],[0.6666666666666666,\"#ed7953\"],[0.7777777777777778,\"#fb9f3a\"],[0.8888888888888888,\"#fdca26\"],[1.0,\"#f0f921\"]],\"type\":\"surface\"}],\"table\":[{\"cells\":{\"fill\":{\"color\":\"#EBF0F8\"},\"line\":{\"color\":\"white\"}},\"header\":{\"fill\":{\"color\":\"#C8D4E3\"},\"line\":{\"color\":\"white\"}},\"type\":\"table\"}]},\"layout\":{\"annotationdefaults\":{\"arrowcolor\":\"#2a3f5f\",\"arrowhead\":0,\"arrowwidth\":1},\"autotypenumbers\":\"strict\",\"coloraxis\":{\"colorbar\":{\"outlinewidth\":0,\"ticks\":\"\"}},\"colorscale\":{\"diverging\":[[0,\"#8e0152\"],[0.1,\"#c51b7d\"],[0.2,\"#de77ae\"],[0.3,\"#f1b6da\"],[0.4,\"#fde0ef\"],[0.5,\"#f7f7f7\"],[0.6,\"#e6f5d0\"],[0.7,\"#b8e186\"],[0.8,\"#7fbc41\"],[0.9,\"#4d9221\"],[1,\"#276419\"]],\"sequential\":[[0.0,\"#0d0887\"],[0.1111111111111111,\"#46039f\"],[0.2222222222222222,\"#7201a8\"],[0.3333333333333333,\"#9c179e\"],[0.4444444444444444,\"#bd3786\"],[0.5555555555555556,\"#d8576b\"],[0.6666666666666666,\"#ed7953\"],[0.7777777777777778,\"#fb9f3a\"],[0.8888888888888888,\"#fdca26\"],[1.0,\"#f0f921\"]],\"sequentialminus\":[[0.0,\"#0d0887\"],[0.1111111111111111,\"#46039f\"],[0.2222222222222222,\"#7201a8\"],[0.3333333333333333,\"#9c179e\"],[0.4444444444444444,\"#bd3786\"],[0.5555555555555556,\"#d8576b\"],[0.6666666666666666,\"#ed7953\"],[0.7777777777777778,\"#fb9f3a\"],[0.8888888888888888,\"#fdca26\"],[1.0,\"#f0f921\"]]},\"colorway\":[\"#636efa\",\"#EF553B\",\"#00cc96\",\"#ab63fa\",\"#FFA15A\",\"#19d3f3\",\"#FF6692\",\"#B6E880\",\"#FF97FF\",\"#FECB52\"],\"font\":{\"color\":\"#2a3f5f\"},\"geo\":{\"bgcolor\":\"white\",\"lakecolor\":\"white\",\"landcolor\":\"#E5ECF6\",\"showlakes\":true,\"showland\":true,\"subunitcolor\":\"white\"},\"hoverlabel\":{\"align\":\"left\"},\"hovermode\":\"closest\",\"mapbox\":{\"style\":\"light\"},\"paper_bgcolor\":\"white\",\"plot_bgcolor\":\"#E5ECF6\",\"polar\":{\"angularaxis\":{\"gridcolor\":\"white\",\"linecolor\":\"white\",\"ticks\":\"\"},\"bgcolor\":\"#E5ECF6\",\"radialaxis\":{\"gridcolor\":\"white\",\"linecolor\":\"white\",\"ticks\":\"\"}},\"scene\":{\"xaxis\":{\"backgroundcolor\":\"#E5ECF6\",\"gridcolor\":\"white\",\"gridwidth\":2,\"linecolor\":\"white\",\"showbackground\":true,\"ticks\":\"\",\"zerolinecolor\":\"white\"},\"yaxis\":{\"backgroundcolor\":\"#E5ECF6\",\"gridcolor\":\"white\",\"gridwidth\":2,\"linecolor\":\"white\",\"showbackground\":true,\"ticks\":\"\",\"zerolinecolor\":\"white\"},\"zaxis\":{\"backgroundcolor\":\"#E5ECF6\",\"gridcolor\":\"white\",\"gridwidth\":2,\"linecolor\":\"white\",\"showbackground\":true,\"ticks\":\"\",\"zerolinecolor\":\"white\"}},\"shapedefaults\":{\"line\":{\"color\":\"#2a3f5f\"}},\"ternary\":{\"aaxis\":{\"gridcolor\":\"white\",\"linecolor\":\"white\",\"ticks\":\"\"},\"baxis\":{\"gridcolor\":\"white\",\"linecolor\":\"white\",\"ticks\":\"\"},\"bgcolor\":\"#E5ECF6\",\"caxis\":{\"gridcolor\":\"white\",\"linecolor\":\"white\",\"ticks\":\"\"}},\"title\":{\"x\":0.05},\"xaxis\":{\"automargin\":true,\"gridcolor\":\"white\",\"linecolor\":\"white\",\"ticks\":\"\",\"title\":{\"standoff\":15},\"zerolinecolor\":\"white\",\"zerolinewidth\":2},\"yaxis\":{\"automargin\":true,\"gridcolor\":\"white\",\"linecolor\":\"white\",\"ticks\":\"\",\"title\":{\"standoff\":15},\"zerolinecolor\":\"white\",\"zerolinewidth\":2}}},\"title\":{\"text\":\"\\uc5f0\\ub3c4 \\ubcc4 \\ubc30\\uae09\\uc0ac\\uc758 \\uc601\\ud654 \\uc218 \\ubc0f \\ube44\\uc911 \\ucd94\\uc774\"},\"xaxis\":{\"anchor\":\"y\",\"categoryorder\":\"total descending\",\"domain\":[0.0,1.0],\"title\":{\"text\":\"\\ubc30\\uae09\\uc601\\ud654\\uc218\"}},\"yaxis\":{\"anchor\":\"x\",\"domain\":[0.0,1.0],\"title\":{\"text\":\"\\uac1c\\ubd09\\uc5f0\\ub3c4\"}}},                        {\"responsive\": true}                    ).then(function(){\n",
              "                            \n",
              "var gd = document.getElementById('cb50ae56-97ea-4684-8d8f-63a868e8cedd');\n",
              "var x = new MutationObserver(function (mutations, observer) {{\n",
              "        var display = window.getComputedStyle(gd).display;\n",
              "        if (!display || display === 'none') {{\n",
              "            console.log([gd, 'removed!']);\n",
              "            Plotly.purge(gd);\n",
              "            observer.disconnect();\n",
              "        }}\n",
              "}});\n",
              "\n",
              "// Listen for the removal of the full notebook cells\n",
              "var notebookContainer = gd.closest('#notebook-container');\n",
              "if (notebookContainer) {{\n",
              "    x.observe(notebookContainer, {childList: true});\n",
              "}}\n",
              "\n",
              "// Listen for the clearing of the current output cell\n",
              "var outputEl = gd.closest('.output');\n",
              "if (outputEl) {{\n",
              "    x.observe(outputEl, {childList: true});\n",
              "}}\n",
              "\n",
              "                        })                };                            </script>        </div>\n",
              "</body>\n",
              "</html>"
            ]
          },
          "metadata": {}
        }
      ]
    },
    {
      "cell_type": "code",
      "metadata": {
        "id": "hI3fFkfTagyW"
      },
      "source": [
        "# 잘 안보여서 CJ, 롯데, 쇼박스, 나머지를 보려고 한다. \n",
        "# cj의 연도 별 배급 영화 수와  연도 별 총 영화 배급 수 추이 데이터를 병합해본다.\n",
        "# 총 영화 수 추이 : movie_counts_year\n",
        "# cj 연도 별 배급 영화 수 추이 : cj_years\n",
        "# 조인키 : 연도"
      ],
      "execution_count": 33,
      "outputs": []
    },
    {
      "cell_type": "code",
      "metadata": {
        "id": "9HlLLEQL88Hr"
      },
      "source": [
        "cj_years_all = pd.merge(cj_years, movie_counts_year, how='left', on='개봉연도')\n",
        "cj_years_all['타사영화수'] = cj_years_all['총영화수'] - cj_years_all['CJENM배급영화수']\n",
        "cj_years_all = cj_years_all[['개봉연도', 'CJENM배급영화수', '타사영화수', '총영화수']]\n",
        "cj_years_all['CJ영화비중'] = cj_years_all['CJENM배급영화수'] / cj_years_all['총영화수']*100\n",
        "cj_years_all['타사영화비중'] = cj_years_all['타사영화수'] / cj_years_all['총영화수']*100"
      ],
      "execution_count": 64,
      "outputs": []
    },
    {
      "cell_type": "code",
      "metadata": {
        "colab": {
          "base_uri": "https://localhost:8080/",
          "height": 351
        },
        "id": "Eehj2J2x-MFe",
        "outputId": "91b9d981-126b-48eb-c34c-80b926e5d02b"
      },
      "source": [
        "cj_years_all"
      ],
      "execution_count": 65,
      "outputs": [
        {
          "output_type": "execute_result",
          "data": {
            "text/html": [
              "<div>\n",
              "<style scoped>\n",
              "    .dataframe tbody tr th:only-of-type {\n",
              "        vertical-align: middle;\n",
              "    }\n",
              "\n",
              "    .dataframe tbody tr th {\n",
              "        vertical-align: top;\n",
              "    }\n",
              "\n",
              "    .dataframe thead th {\n",
              "        text-align: right;\n",
              "    }\n",
              "</style>\n",
              "<table border=\"1\" class=\"dataframe\">\n",
              "  <thead>\n",
              "    <tr style=\"text-align: right;\">\n",
              "      <th></th>\n",
              "      <th>개봉연도</th>\n",
              "      <th>CJENM배급영화수</th>\n",
              "      <th>타사영화수</th>\n",
              "      <th>총영화수</th>\n",
              "      <th>CJ영화비중</th>\n",
              "      <th>타사영화비중</th>\n",
              "    </tr>\n",
              "  </thead>\n",
              "  <tbody>\n",
              "    <tr>\n",
              "      <th>0</th>\n",
              "      <td>2011</td>\n",
              "      <td>34</td>\n",
              "      <td>196</td>\n",
              "      <td>230</td>\n",
              "      <td>14.782609</td>\n",
              "      <td>85.217391</td>\n",
              "    </tr>\n",
              "    <tr>\n",
              "      <th>1</th>\n",
              "      <td>2012</td>\n",
              "      <td>32</td>\n",
              "      <td>222</td>\n",
              "      <td>254</td>\n",
              "      <td>12.598425</td>\n",
              "      <td>87.401575</td>\n",
              "    </tr>\n",
              "    <tr>\n",
              "      <th>2</th>\n",
              "      <td>2013</td>\n",
              "      <td>33</td>\n",
              "      <td>275</td>\n",
              "      <td>308</td>\n",
              "      <td>10.714286</td>\n",
              "      <td>89.285714</td>\n",
              "    </tr>\n",
              "    <tr>\n",
              "      <th>3</th>\n",
              "      <td>2014</td>\n",
              "      <td>27</td>\n",
              "      <td>339</td>\n",
              "      <td>366</td>\n",
              "      <td>7.377049</td>\n",
              "      <td>92.622951</td>\n",
              "    </tr>\n",
              "    <tr>\n",
              "      <th>4</th>\n",
              "      <td>2015</td>\n",
              "      <td>23</td>\n",
              "      <td>371</td>\n",
              "      <td>394</td>\n",
              "      <td>5.837563</td>\n",
              "      <td>94.162437</td>\n",
              "    </tr>\n",
              "    <tr>\n",
              "      <th>5</th>\n",
              "      <td>2016</td>\n",
              "      <td>23</td>\n",
              "      <td>396</td>\n",
              "      <td>419</td>\n",
              "      <td>5.489260</td>\n",
              "      <td>94.510740</td>\n",
              "    </tr>\n",
              "    <tr>\n",
              "      <th>6</th>\n",
              "      <td>2017</td>\n",
              "      <td>21</td>\n",
              "      <td>447</td>\n",
              "      <td>468</td>\n",
              "      <td>4.487179</td>\n",
              "      <td>95.512821</td>\n",
              "    </tr>\n",
              "    <tr>\n",
              "      <th>7</th>\n",
              "      <td>2018</td>\n",
              "      <td>15</td>\n",
              "      <td>424</td>\n",
              "      <td>439</td>\n",
              "      <td>3.416856</td>\n",
              "      <td>96.583144</td>\n",
              "    </tr>\n",
              "    <tr>\n",
              "      <th>8</th>\n",
              "      <td>2019</td>\n",
              "      <td>12</td>\n",
              "      <td>435</td>\n",
              "      <td>447</td>\n",
              "      <td>2.684564</td>\n",
              "      <td>97.315436</td>\n",
              "    </tr>\n",
              "    <tr>\n",
              "      <th>9</th>\n",
              "      <td>2020</td>\n",
              "      <td>10</td>\n",
              "      <td>378</td>\n",
              "      <td>388</td>\n",
              "      <td>2.577320</td>\n",
              "      <td>97.422680</td>\n",
              "    </tr>\n",
              "  </tbody>\n",
              "</table>\n",
              "</div>"
            ],
            "text/plain": [
              "   개봉연도  CJENM배급영화수  타사영화수  총영화수     CJ영화비중     타사영화비중\n",
              "0  2011          34    196   230  14.782609  85.217391\n",
              "1  2012          32    222   254  12.598425  87.401575\n",
              "2  2013          33    275   308  10.714286  89.285714\n",
              "3  2014          27    339   366   7.377049  92.622951\n",
              "4  2015          23    371   394   5.837563  94.162437\n",
              "5  2016          23    396   419   5.489260  94.510740\n",
              "6  2017          21    447   468   4.487179  95.512821\n",
              "7  2018          15    424   439   3.416856  96.583144\n",
              "8  2019          12    435   447   2.684564  97.315436\n",
              "9  2020          10    378   388   2.577320  97.422680"
            ]
          },
          "metadata": {},
          "execution_count": 65
        }
      ]
    },
    {
      "cell_type": "code",
      "metadata": {
        "colab": {
          "base_uri": "https://localhost:8080/",
          "height": 542
        },
        "id": "95IZIDeEFtsY",
        "outputId": "24b2ebb0-cc0c-4891-c00d-96ae2cdf8dd4"
      },
      "source": [
        "# 비중으로만 계산해보자! \n",
        "#연도별 CJENM의 영화 수 비중 추이 (실패)\n",
        "cj_years_all.sort_values(by=\"개봉연도\", ascending=False)\n",
        "fig = px.bar(cj_years_all, \n",
        "              x=[\"CJENM배급영화수\", \"타사영화수\"], # x축\n",
        "              y=\"개봉연도\",  # y축\n",
        "              orientation = 'h',\n",
        "              title='연도 별 배급사의 영화 수 및 비중 추이', # Title \n",
        "              \n",
        "              )\n",
        "\n",
        "# fig.update_traces(texttemplate=, textposition='outside')\n",
        "fig.show()"
      ],
      "execution_count": 70,
      "outputs": [
        {
          "output_type": "display_data",
          "data": {
            "text/html": [
              "<html>\n",
              "<head><meta charset=\"utf-8\" /></head>\n",
              "<body>\n",
              "    <div>            <script src=\"https://cdnjs.cloudflare.com/ajax/libs/mathjax/2.7.5/MathJax.js?config=TeX-AMS-MML_SVG\"></script><script type=\"text/javascript\">if (window.MathJax) {MathJax.Hub.Config({SVG: {font: \"STIX-Web\"}});}</script>                <script type=\"text/javascript\">window.PlotlyConfig = {MathJaxConfig: 'local'};</script>\n",
              "        <script src=\"https://cdn.plot.ly/plotly-2.3.1.min.js\"></script>                <div id=\"7ab8478e-1dc3-4b98-9d2a-6905db08da91\" class=\"plotly-graph-div\" style=\"height:525px; width:100%;\"></div>            <script type=\"text/javascript\">                                    window.PLOTLYENV=window.PLOTLYENV || {};                                    if (document.getElementById(\"7ab8478e-1dc3-4b98-9d2a-6905db08da91\")) {                    Plotly.newPlot(                        \"7ab8478e-1dc3-4b98-9d2a-6905db08da91\",                        [{\"alignmentgroup\":\"True\",\"hovertemplate\":\"variable=CJENM\\ubc30\\uae09\\uc601\\ud654\\uc218<br>value=%{x}<br>\\uac1c\\ubd09\\uc5f0\\ub3c4=%{y}<extra></extra>\",\"legendgroup\":\"CJENM\\ubc30\\uae09\\uc601\\ud654\\uc218\",\"marker\":{\"color\":\"#636efa\",\"pattern\":{\"shape\":\"\"}},\"name\":\"CJENM\\ubc30\\uae09\\uc601\\ud654\\uc218\",\"offsetgroup\":\"CJENM\\ubc30\\uae09\\uc601\\ud654\\uc218\",\"orientation\":\"h\",\"showlegend\":true,\"textposition\":\"auto\",\"type\":\"bar\",\"x\":[34,32,33,27,23,23,21,15,12,10],\"xaxis\":\"x\",\"y\":[2011,2012,2013,2014,2015,2016,2017,2018,2019,2020],\"yaxis\":\"y\"},{\"alignmentgroup\":\"True\",\"hovertemplate\":\"variable=\\ud0c0\\uc0ac\\uc601\\ud654\\uc218<br>value=%{x}<br>\\uac1c\\ubd09\\uc5f0\\ub3c4=%{y}<extra></extra>\",\"legendgroup\":\"\\ud0c0\\uc0ac\\uc601\\ud654\\uc218\",\"marker\":{\"color\":\"#EF553B\",\"pattern\":{\"shape\":\"\"}},\"name\":\"\\ud0c0\\uc0ac\\uc601\\ud654\\uc218\",\"offsetgroup\":\"\\ud0c0\\uc0ac\\uc601\\ud654\\uc218\",\"orientation\":\"h\",\"showlegend\":true,\"textposition\":\"auto\",\"type\":\"bar\",\"x\":[196,222,275,339,371,396,447,424,435,378],\"xaxis\":\"x\",\"y\":[2011,2012,2013,2014,2015,2016,2017,2018,2019,2020],\"yaxis\":\"y\"}],                        {\"barmode\":\"relative\",\"legend\":{\"title\":{\"text\":\"variable\"},\"tracegroupgap\":0},\"template\":{\"data\":{\"bar\":[{\"error_x\":{\"color\":\"#2a3f5f\"},\"error_y\":{\"color\":\"#2a3f5f\"},\"marker\":{\"line\":{\"color\":\"#E5ECF6\",\"width\":0.5},\"pattern\":{\"fillmode\":\"overlay\",\"size\":10,\"solidity\":0.2}},\"type\":\"bar\"}],\"barpolar\":[{\"marker\":{\"line\":{\"color\":\"#E5ECF6\",\"width\":0.5},\"pattern\":{\"fillmode\":\"overlay\",\"size\":10,\"solidity\":0.2}},\"type\":\"barpolar\"}],\"carpet\":[{\"aaxis\":{\"endlinecolor\":\"#2a3f5f\",\"gridcolor\":\"white\",\"linecolor\":\"white\",\"minorgridcolor\":\"white\",\"startlinecolor\":\"#2a3f5f\"},\"baxis\":{\"endlinecolor\":\"#2a3f5f\",\"gridcolor\":\"white\",\"linecolor\":\"white\",\"minorgridcolor\":\"white\",\"startlinecolor\":\"#2a3f5f\"},\"type\":\"carpet\"}],\"choropleth\":[{\"colorbar\":{\"outlinewidth\":0,\"ticks\":\"\"},\"type\":\"choropleth\"}],\"contour\":[{\"colorbar\":{\"outlinewidth\":0,\"ticks\":\"\"},\"colorscale\":[[0.0,\"#0d0887\"],[0.1111111111111111,\"#46039f\"],[0.2222222222222222,\"#7201a8\"],[0.3333333333333333,\"#9c179e\"],[0.4444444444444444,\"#bd3786\"],[0.5555555555555556,\"#d8576b\"],[0.6666666666666666,\"#ed7953\"],[0.7777777777777778,\"#fb9f3a\"],[0.8888888888888888,\"#fdca26\"],[1.0,\"#f0f921\"]],\"type\":\"contour\"}],\"contourcarpet\":[{\"colorbar\":{\"outlinewidth\":0,\"ticks\":\"\"},\"type\":\"contourcarpet\"}],\"heatmap\":[{\"colorbar\":{\"outlinewidth\":0,\"ticks\":\"\"},\"colorscale\":[[0.0,\"#0d0887\"],[0.1111111111111111,\"#46039f\"],[0.2222222222222222,\"#7201a8\"],[0.3333333333333333,\"#9c179e\"],[0.4444444444444444,\"#bd3786\"],[0.5555555555555556,\"#d8576b\"],[0.6666666666666666,\"#ed7953\"],[0.7777777777777778,\"#fb9f3a\"],[0.8888888888888888,\"#fdca26\"],[1.0,\"#f0f921\"]],\"type\":\"heatmap\"}],\"heatmapgl\":[{\"colorbar\":{\"outlinewidth\":0,\"ticks\":\"\"},\"colorscale\":[[0.0,\"#0d0887\"],[0.1111111111111111,\"#46039f\"],[0.2222222222222222,\"#7201a8\"],[0.3333333333333333,\"#9c179e\"],[0.4444444444444444,\"#bd3786\"],[0.5555555555555556,\"#d8576b\"],[0.6666666666666666,\"#ed7953\"],[0.7777777777777778,\"#fb9f3a\"],[0.8888888888888888,\"#fdca26\"],[1.0,\"#f0f921\"]],\"type\":\"heatmapgl\"}],\"histogram\":[{\"marker\":{\"pattern\":{\"fillmode\":\"overlay\",\"size\":10,\"solidity\":0.2}},\"type\":\"histogram\"}],\"histogram2d\":[{\"colorbar\":{\"outlinewidth\":0,\"ticks\":\"\"},\"colorscale\":[[0.0,\"#0d0887\"],[0.1111111111111111,\"#46039f\"],[0.2222222222222222,\"#7201a8\"],[0.3333333333333333,\"#9c179e\"],[0.4444444444444444,\"#bd3786\"],[0.5555555555555556,\"#d8576b\"],[0.6666666666666666,\"#ed7953\"],[0.7777777777777778,\"#fb9f3a\"],[0.8888888888888888,\"#fdca26\"],[1.0,\"#f0f921\"]],\"type\":\"histogram2d\"}],\"histogram2dcontour\":[{\"colorbar\":{\"outlinewidth\":0,\"ticks\":\"\"},\"colorscale\":[[0.0,\"#0d0887\"],[0.1111111111111111,\"#46039f\"],[0.2222222222222222,\"#7201a8\"],[0.3333333333333333,\"#9c179e\"],[0.4444444444444444,\"#bd3786\"],[0.5555555555555556,\"#d8576b\"],[0.6666666666666666,\"#ed7953\"],[0.7777777777777778,\"#fb9f3a\"],[0.8888888888888888,\"#fdca26\"],[1.0,\"#f0f921\"]],\"type\":\"histogram2dcontour\"}],\"mesh3d\":[{\"colorbar\":{\"outlinewidth\":0,\"ticks\":\"\"},\"type\":\"mesh3d\"}],\"parcoords\":[{\"line\":{\"colorbar\":{\"outlinewidth\":0,\"ticks\":\"\"}},\"type\":\"parcoords\"}],\"pie\":[{\"automargin\":true,\"type\":\"pie\"}],\"scatter\":[{\"marker\":{\"colorbar\":{\"outlinewidth\":0,\"ticks\":\"\"}},\"type\":\"scatter\"}],\"scatter3d\":[{\"line\":{\"colorbar\":{\"outlinewidth\":0,\"ticks\":\"\"}},\"marker\":{\"colorbar\":{\"outlinewidth\":0,\"ticks\":\"\"}},\"type\":\"scatter3d\"}],\"scattercarpet\":[{\"marker\":{\"colorbar\":{\"outlinewidth\":0,\"ticks\":\"\"}},\"type\":\"scattercarpet\"}],\"scattergeo\":[{\"marker\":{\"colorbar\":{\"outlinewidth\":0,\"ticks\":\"\"}},\"type\":\"scattergeo\"}],\"scattergl\":[{\"marker\":{\"colorbar\":{\"outlinewidth\":0,\"ticks\":\"\"}},\"type\":\"scattergl\"}],\"scattermapbox\":[{\"marker\":{\"colorbar\":{\"outlinewidth\":0,\"ticks\":\"\"}},\"type\":\"scattermapbox\"}],\"scatterpolar\":[{\"marker\":{\"colorbar\":{\"outlinewidth\":0,\"ticks\":\"\"}},\"type\":\"scatterpolar\"}],\"scatterpolargl\":[{\"marker\":{\"colorbar\":{\"outlinewidth\":0,\"ticks\":\"\"}},\"type\":\"scatterpolargl\"}],\"scatterternary\":[{\"marker\":{\"colorbar\":{\"outlinewidth\":0,\"ticks\":\"\"}},\"type\":\"scatterternary\"}],\"surface\":[{\"colorbar\":{\"outlinewidth\":0,\"ticks\":\"\"},\"colorscale\":[[0.0,\"#0d0887\"],[0.1111111111111111,\"#46039f\"],[0.2222222222222222,\"#7201a8\"],[0.3333333333333333,\"#9c179e\"],[0.4444444444444444,\"#bd3786\"],[0.5555555555555556,\"#d8576b\"],[0.6666666666666666,\"#ed7953\"],[0.7777777777777778,\"#fb9f3a\"],[0.8888888888888888,\"#fdca26\"],[1.0,\"#f0f921\"]],\"type\":\"surface\"}],\"table\":[{\"cells\":{\"fill\":{\"color\":\"#EBF0F8\"},\"line\":{\"color\":\"white\"}},\"header\":{\"fill\":{\"color\":\"#C8D4E3\"},\"line\":{\"color\":\"white\"}},\"type\":\"table\"}]},\"layout\":{\"annotationdefaults\":{\"arrowcolor\":\"#2a3f5f\",\"arrowhead\":0,\"arrowwidth\":1},\"autotypenumbers\":\"strict\",\"coloraxis\":{\"colorbar\":{\"outlinewidth\":0,\"ticks\":\"\"}},\"colorscale\":{\"diverging\":[[0,\"#8e0152\"],[0.1,\"#c51b7d\"],[0.2,\"#de77ae\"],[0.3,\"#f1b6da\"],[0.4,\"#fde0ef\"],[0.5,\"#f7f7f7\"],[0.6,\"#e6f5d0\"],[0.7,\"#b8e186\"],[0.8,\"#7fbc41\"],[0.9,\"#4d9221\"],[1,\"#276419\"]],\"sequential\":[[0.0,\"#0d0887\"],[0.1111111111111111,\"#46039f\"],[0.2222222222222222,\"#7201a8\"],[0.3333333333333333,\"#9c179e\"],[0.4444444444444444,\"#bd3786\"],[0.5555555555555556,\"#d8576b\"],[0.6666666666666666,\"#ed7953\"],[0.7777777777777778,\"#fb9f3a\"],[0.8888888888888888,\"#fdca26\"],[1.0,\"#f0f921\"]],\"sequentialminus\":[[0.0,\"#0d0887\"],[0.1111111111111111,\"#46039f\"],[0.2222222222222222,\"#7201a8\"],[0.3333333333333333,\"#9c179e\"],[0.4444444444444444,\"#bd3786\"],[0.5555555555555556,\"#d8576b\"],[0.6666666666666666,\"#ed7953\"],[0.7777777777777778,\"#fb9f3a\"],[0.8888888888888888,\"#fdca26\"],[1.0,\"#f0f921\"]]},\"colorway\":[\"#636efa\",\"#EF553B\",\"#00cc96\",\"#ab63fa\",\"#FFA15A\",\"#19d3f3\",\"#FF6692\",\"#B6E880\",\"#FF97FF\",\"#FECB52\"],\"font\":{\"color\":\"#2a3f5f\"},\"geo\":{\"bgcolor\":\"white\",\"lakecolor\":\"white\",\"landcolor\":\"#E5ECF6\",\"showlakes\":true,\"showland\":true,\"subunitcolor\":\"white\"},\"hoverlabel\":{\"align\":\"left\"},\"hovermode\":\"closest\",\"mapbox\":{\"style\":\"light\"},\"paper_bgcolor\":\"white\",\"plot_bgcolor\":\"#E5ECF6\",\"polar\":{\"angularaxis\":{\"gridcolor\":\"white\",\"linecolor\":\"white\",\"ticks\":\"\"},\"bgcolor\":\"#E5ECF6\",\"radialaxis\":{\"gridcolor\":\"white\",\"linecolor\":\"white\",\"ticks\":\"\"}},\"scene\":{\"xaxis\":{\"backgroundcolor\":\"#E5ECF6\",\"gridcolor\":\"white\",\"gridwidth\":2,\"linecolor\":\"white\",\"showbackground\":true,\"ticks\":\"\",\"zerolinecolor\":\"white\"},\"yaxis\":{\"backgroundcolor\":\"#E5ECF6\",\"gridcolor\":\"white\",\"gridwidth\":2,\"linecolor\":\"white\",\"showbackground\":true,\"ticks\":\"\",\"zerolinecolor\":\"white\"},\"zaxis\":{\"backgroundcolor\":\"#E5ECF6\",\"gridcolor\":\"white\",\"gridwidth\":2,\"linecolor\":\"white\",\"showbackground\":true,\"ticks\":\"\",\"zerolinecolor\":\"white\"}},\"shapedefaults\":{\"line\":{\"color\":\"#2a3f5f\"}},\"ternary\":{\"aaxis\":{\"gridcolor\":\"white\",\"linecolor\":\"white\",\"ticks\":\"\"},\"baxis\":{\"gridcolor\":\"white\",\"linecolor\":\"white\",\"ticks\":\"\"},\"bgcolor\":\"#E5ECF6\",\"caxis\":{\"gridcolor\":\"white\",\"linecolor\":\"white\",\"ticks\":\"\"}},\"title\":{\"x\":0.05},\"xaxis\":{\"automargin\":true,\"gridcolor\":\"white\",\"linecolor\":\"white\",\"ticks\":\"\",\"title\":{\"standoff\":15},\"zerolinecolor\":\"white\",\"zerolinewidth\":2},\"yaxis\":{\"automargin\":true,\"gridcolor\":\"white\",\"linecolor\":\"white\",\"ticks\":\"\",\"title\":{\"standoff\":15},\"zerolinecolor\":\"white\",\"zerolinewidth\":2}}},\"title\":{\"text\":\"\\uc5f0\\ub3c4 \\ubcc4 \\ubc30\\uae09\\uc0ac\\uc758 \\uc601\\ud654 \\uc218 \\ubc0f \\ube44\\uc911 \\ucd94\\uc774\"},\"xaxis\":{\"anchor\":\"y\",\"domain\":[0.0,1.0],\"title\":{\"text\":\"value\"}},\"yaxis\":{\"anchor\":\"x\",\"domain\":[0.0,1.0],\"title\":{\"text\":\"\\uac1c\\ubd09\\uc5f0\\ub3c4\"}}},                        {\"responsive\": true}                    ).then(function(){\n",
              "                            \n",
              "var gd = document.getElementById('7ab8478e-1dc3-4b98-9d2a-6905db08da91');\n",
              "var x = new MutationObserver(function (mutations, observer) {{\n",
              "        var display = window.getComputedStyle(gd).display;\n",
              "        if (!display || display === 'none') {{\n",
              "            console.log([gd, 'removed!']);\n",
              "            Plotly.purge(gd);\n",
              "            observer.disconnect();\n",
              "        }}\n",
              "}});\n",
              "\n",
              "// Listen for the removal of the full notebook cells\n",
              "var notebookContainer = gd.closest('#notebook-container');\n",
              "if (notebookContainer) {{\n",
              "    x.observe(notebookContainer, {childList: true});\n",
              "}}\n",
              "\n",
              "// Listen for the clearing of the current output cell\n",
              "var outputEl = gd.closest('.output');\n",
              "if (outputEl) {{\n",
              "    x.observe(outputEl, {childList: true});\n",
              "}}\n",
              "\n",
              "                        })                };                            </script>        </div>\n",
              "</body>\n",
              "</html>"
            ]
          },
          "metadata": {}
        }
      ]
    },
    {
      "cell_type": "code",
      "metadata": {
        "id": "dqQXYFT-HBzz"
      },
      "source": [
        ""
      ],
      "execution_count": null,
      "outputs": []
    }
  ]
}