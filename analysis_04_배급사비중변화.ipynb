{
  "nbformat": 4,
  "nbformat_minor": 0,
  "metadata": {
    "colab": {
      "name": "analysis_04_배급사비중변화.ipynb",
      "provenance": [],
      "collapsed_sections": [],
      "mount_file_id": "17Bs3d-Sjzn8MpZoI2eWq7LT4hHRDaqmN",
      "authorship_tag": "ABX9TyN/LiflcsMhPKAKhgYdtEbd",
      "include_colab_link": true
    },
    "kernelspec": {
      "name": "python3",
      "display_name": "Python 3"
    },
    "language_info": {
      "name": "python"
    }
  },
  "cells": [
    {
      "cell_type": "markdown",
      "metadata": {
        "id": "view-in-github",
        "colab_type": "text"
      },
      "source": [
        "<a href=\"https://colab.research.google.com/github/yujin-jo/mini-project-team1/blob/main/analysis_04_%EB%B0%B0%EA%B8%89%EC%82%AC%EB%B9%84%EC%A4%91%EB%B3%80%ED%99%94.ipynb\" target=\"_parent\"><img src=\"https://colab.research.google.com/assets/colab-badge.svg\" alt=\"Open In Colab\"/></a>"
      ]
    },
    {
      "cell_type": "markdown",
      "metadata": {
        "id": "7POBoTdqfQBY"
      },
      "source": [
        "# **기본 세팅** \n",
        "- 깃허브 클론 \n",
        "- 드라이브 마운트 \n",
        "- 파일 임포트"
      ]
    },
    {
      "cell_type": "code",
      "metadata": {
        "colab": {
          "base_uri": "https://localhost:8080/"
        },
        "id": "J0MNdU7ibyud",
        "outputId": "46870a62-b3c7-4edf-8341-92a0e29fc608"
      },
      "source": [
        "!git clone https://github.com/yujin-jo/mini-project-team1.git"
      ],
      "execution_count": 1,
      "outputs": [
        {
          "output_type": "stream",
          "text": [
            "Cloning into 'mini-project-team1'...\n",
            "remote: Enumerating objects: 567, done.\u001b[K\n",
            "remote: Counting objects: 100% (567/567), done.\u001b[K\n",
            "remote: Compressing objects: 100% (531/531), done.\u001b[K\n",
            "remote: Total 567 (delta 160), reused 0 (delta 0), pack-reused 0\u001b[K\n",
            "Receiving objects: 100% (567/567), 731.53 KiB | 5.30 MiB/s, done.\n",
            "Resolving deltas: 100% (160/160), done.\n"
          ],
          "name": "stdout"
        }
      ]
    },
    {
      "cell_type": "code",
      "metadata": {
        "colab": {
          "base_uri": "https://localhost:8080/"
        },
        "id": "Suwwd3PaezdJ",
        "outputId": "7a394d0a-25a7-426f-a98c-6abaf2317884"
      },
      "source": [
        "from google.colab import drive\n",
        "drive.mount('/content/drive')"
      ],
      "execution_count": 3,
      "outputs": [
        {
          "output_type": "stream",
          "text": [
            "Mounted at /content/drive\n"
          ],
          "name": "stdout"
        }
      ]
    },
    {
      "cell_type": "code",
      "metadata": {
        "id": "drkQsu-ge1Bk"
      },
      "source": [
        "import pandas as pd \n",
        "import numpy as np\n",
        "import matplotlib.pyplot as plt\n",
        "from statsmodels.formula.api import ols"
      ],
      "execution_count": 4,
      "outputs": []
    },
    {
      "cell_type": "markdown",
      "metadata": {
        "id": "6HGKJQkFfVkc"
      },
      "source": [
        "# I. 가설 설정과 분석 배경\n",
        "\n",
        "1. 가설  :  2011년 ~ 2020년까지 국내 영화 배급사에서 CJ E&M의 비중은 연도 별로 감소했는가? \n",
        "2. 가설을 선택한 이유 : \n",
        "    - 기존에는 국내 영화의 경우 CJ E&M이 독점했왔음. \n",
        "    - 다른 신생 배급사들은 없었을까 궁금했음 \n",
        "    -  기존에 있던 영세 배급사들은 성장하거나 망했을까 궁금했고, 여전히 CJ E&M이 영화 산업을 지배하고 있는지 확인하고 싶었음 "
      ]
    },
    {
      "cell_type": "markdown",
      "metadata": {
        "id": "1uq-PL9sgAP8"
      },
      "source": [
        "# II. 분석 방향 \n",
        "1. 활용 데이터 \n",
        "  - 영화 개봉연도 : 연도 별로 영화 수 집계 필요 \n",
        "  - 영화 배급사 : 영화 별 배급사 정보 (KOBIS 참고) \n",
        "  - 영화 수 : 연도 별, 배급사 별로 집계한 영화 수\n",
        "\n",
        "2. 분석 방법론 \n",
        "  - 시계열 분석 활용 (2011 ~ 2020년 영화 정보) \n",
        "  - 영화 배급사의 종류가 연도 별로 어떻게 달라졌는지 확인  (중소 배급사 등 배급사가 늘었는지 확인하기 위함)\n",
        "  - 개봉 연도와 제작사 별로 영화 편수를 카운트한다. \n",
        "  - 연도 별로 제작사 별 비중을 계산하여 추이를 확인한다. \n",
        "\n",
        "3. 시각화 \n",
        "  - 비율 바 차트\n",
        "\n"
      ]
    },
    {
      "cell_type": "markdown",
      "metadata": {
        "id": "pFR2WhE3fxsO"
      },
      "source": [
        "# III. 분석 과정  "
      ]
    },
    {
      "cell_type": "code",
      "metadata": {
        "id": "rmrAe2XUhsQW"
      },
      "source": [
        ""
      ],
      "execution_count": null,
      "outputs": []
    }
  ]
}