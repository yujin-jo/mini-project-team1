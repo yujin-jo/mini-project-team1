{
 "cells": [
  {
   "cell_type": "code",
   "execution_count": null,
   "id": "87ddfc3f",
   "metadata": {},
   "outputs": [],
   "source": [
    "#관객점수 가져오기 (영화명, 에그지수)\n",
    "\n",
    "#기본 셋팅 (1) 모듈 불러오기 \n",
    "from selenium import webdriver\n",
    "from bs4 import BeautifulSoup\n",
    "import pandas as pd\n",
    "from IPython.display import display \n",
    "import time\n",
    "\n",
    "#기본 셋팅 (2) 드라이버 가져오기(창 안열리게 함)\n",
    "chrome_options = webdriver.ChromeOptions()\n",
    "chrome_options.add_argument('--headless')\n",
    "chrome_options.add_argument('--no-sandbox')\n",
    "chrome_options.add_argument('--disable-dev-shm-usage')\n",
    "driver = webdriver.Chrome('chromedriver', options=chrome_options)\n",
    "\n",
    "#리스트 만들어두기 \n",
    "golden_points = []\n",
    "\n",
    "#영화 리스트들 \n",
    "movie_ids = [78394, 81809, 81774, 81749, 77305]\n",
    "\n",
    "#페이지 정보 가져오기(영화 타이틀, 에그지수)\n",
    "for movie_id in movie_ids :\n",
    "    driver.implicitly_wait(2)\n",
    "    site = \"http://www.cgv.co.kr/movies/detail-view/?midx=\" + str(movie_id)\n",
    "    driver.get(site)\n",
    "\n",
    "    #파싱 \n",
    "    html = driver.page_source\n",
    "    soup = BeautifulSoup(html, \"html.parser\")\n",
    "\n",
    "    #셀렉터에서 가져오기 (title_movie :영화 타이틀, golden_code : 골든지수) \n",
    "    title_movie = soup.select(\"#select_main > div.sect-base-movie > div.box-contents > div.title > strong\")[0].text\n",
    "    golden_code = soup.select(\"#menu > div.col-detail > div.sect-grade > div.movie_grade > div.egg_point > div.rating > div.box.box_golden > span.percent\")[0].text\n",
    "\n",
    "    #정보 추가하기 \n",
    "    golden_points.append([title_movie, golden_code])\n",
    "    time.sleep(1)\n",
    "\n",
    "    \n",
    "#드라이버 닫기 \n",
    "driver.close()    \n",
    "\n",
    "#판다스 데이터 프레임으로 프레임화하기 \n",
    "df = pd.DataFrame(golden_points, columns = [\"영화명\", \"골든에그지수\"])\n",
    "df.index = df.index+1\n",
    "\n",
    "#df 출력 (나중에 파일로 변환 가능) \n",
    "df\n",
    "\n",
    "#csv 파일로 저장 \n",
    "df.to_csv('cgv_goldenegg.csv', encoding='utf-8-sig')"
   ]
  },
  {
   "cell_type": "code",
   "execution_count": null,
   "id": "73c03787",
   "metadata": {},
   "outputs": [],
   "source": []
  }
 ],
 "metadata": {
  "kernelspec": {
   "display_name": "Python 3",
   "language": "python",
   "name": "python3"
  },
  "language_info": {
   "codemirror_mode": {
    "name": "ipython",
    "version": 3
   },
   "file_extension": ".py",
   "mimetype": "text/x-python",
   "name": "python",
   "nbconvert_exporter": "python",
   "pygments_lexer": "ipython3",
   "version": "3.8.8"
  }
 },
 "nbformat": 4,
 "nbformat_minor": 5
}
