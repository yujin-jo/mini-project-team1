{
 "cells": [
  {
   "cell_type": "code",
   "execution_count": 1,
   "id": "important-handling",
   "metadata": {},
   "outputs": [],
   "source": [
    "import pandas as pd\n",
    "\n",
    "cine21 = pd.read_csv('./cine21.csv')\n",
    "\n",
    "cine21_mean = round(cine21.groupby(['순번','영화'])['평점'].mean(),2)\n",
    "cine21_score =pd.DataFrame(cine21_mean)\n",
    "cine21_score = cine21_score.rename(columns={'평점':'전문가평점평균'})\n",
    "\n",
    "cine21_score.to_csv('./cine21_score.csv', encoding='utf-8-sig')"
   ]
  }
 ],
 "metadata": {
  "kernelspec": {
   "display_name": "Python 3",
   "language": "python",
   "name": "python3"
  },
  "language_info": {
   "codemirror_mode": {
    "name": "ipython",
    "version": 3
   },
   "file_extension": ".py",
   "mimetype": "text/x-python",
   "name": "python",
   "nbconvert_exporter": "python",
   "pygments_lexer": "ipython3",
   "version": "3.8.5"
  }
 },
 "nbformat": 4,
 "nbformat_minor": 5
}
