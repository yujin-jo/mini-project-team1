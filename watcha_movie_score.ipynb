from selenium import webdriver
from bs4 import BeautifulSoup
import pandas as pd
import time

# 데이터 가져오기
movie = pd.read_csv("./kobis_tot.csv")
movie_id = movie['왓챠ID']
key_id = movie['순번']

score_list = []

# 새로운 창 안뜨는 옵션
options = webdriver.ChromeOptions()
options.add_argument('headless')
driver = webdriver.Chrome(chrome_options=options)

for i in range(len(movie_id)) :
    driver.get("https://pedia.watcha.com/ko-KR/contents/" + str(movie_id[i]))
    time.sleep(5)
    
    html = driver.page_source
    soup = BeautifulSoup(html, "html.parser")

    movie_name = soup.select('div.css-13h49w0-PaneInner.e1svyhwg13 > h1')[0].text
    score_div = soup.select('div.css-vwzonp-ContentRatings.e1svyhwg16')[0].text[4:7]
    
    score_list.append([key_id[i], movie_name, score_div])
    print(key_id[i], movie_name)
    
df = pd.DataFrame(score_list, columns=["순번","영화명","평점"])
print(df)
df.to_csv("watcha_movie_score.csv", encoding='utf-8-sig')
