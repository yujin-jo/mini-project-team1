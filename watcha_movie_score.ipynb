{
 "cells": [
  {
   "cell_type": "markdown",
   "id": "d4a6f4ae",
   "metadata": {},
   "source": [
    "# 왓챠피디아 평점 코드"
   ]
  },
  {
   "cell_type": "code",
   "execution_count": null,
   "id": "d1e51a86",
   "metadata": {},
   "outputs": [],
   "source": [
    "from selenium import webdriver\n",
    "from bs4 import BeautifulSoup\n",
    "import pandas as pd\n",
    "import time\n",
    "\n",
    "# 데이터 가져오기\n",
    "movie = pd.read_csv(\"./kobis_tot.csv\")\n",
    "movie_id = movie['왓챠ID']\n",
    "key_id = movie['순번']\n",
    "\n",
    "score_list = []\n",
    "\n",
    "# 새로운 창 안뜨는 옵션\n",
    "# options = webdriver.ChromeOptions()\n",
    "# options.add_argument('headless')\n",
    "# driver = webdriver.Chrome(chrome_options=options)\n",
    "driver = webdriver.Chrome()\n",
    "\n",
    "for i in range(len(movie_id)) :\n",
    "    driver.get(\"https://pedia.watcha.com/ko-KR/contents/\" + str(movie_id[i]))\n",
    "    time.sleep(5)\n",
    "    \n",
    "    html = driver.page_source\n",
    "    soup = BeautifulSoup(html, \"html.parser\")\n",
    "\n",
    "    movie_name = soup.select('div.css-13h49w0-PaneInner.e1svyhwg13 > h1')[0].text\n",
    "    score_div = soup.select('div.css-vwzonp-ContentRatings.e1svyhwg16')[0].text[4:7]\n",
    "    \n",
    "    score_list.append([key_id[i], movie_name, score_div])\n",
    "    print(key_id[i], movie_name)\n",
    "    \n",
    "df = pd.DataFrame(score_list, columns=[\"순번\",\"영화명\",\"평점\"])\n",
    "print(df)\n",
    "df.to_csv(\"watcha_movie_score.csv\", encoding='utf-8-sig')"
   ]
  }
 ],
 "metadata": {
  "kernelspec": {
   "display_name": "Python 3",
   "language": "python",
   "name": "python3"
  },
  "language_info": {
   "codemirror_mode": {
    "name": "ipython",
    "version": 3
   },
   "file_extension": ".py",
   "mimetype": "text/x-python",
   "name": "python",
   "nbconvert_exporter": "python",
   "pygments_lexer": "ipython3",
   "version": "3.8.8"
  }
 },
 "nbformat": 4,
 "nbformat_minor": 5
}
